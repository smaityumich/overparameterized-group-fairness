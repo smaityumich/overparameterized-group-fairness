{
 "metadata": {
  "language_info": {
   "codemirror_mode": {
    "name": "ipython",
    "version": 3
   },
   "file_extension": ".py",
   "mimetype": "text/x-python",
   "name": "python",
   "nbconvert_exporter": "python",
   "pygments_lexer": "ipython3",
   "version": "3.7.6-final"
  },
  "orig_nbformat": 2,
  "kernelspec": {
   "name": "python37664bitd090249c0cf5439884290524b93fde75",
   "display_name": "Python 3.7.6 64-bit",
   "language": "python"
  }
 },
 "nbformat": 4,
 "nbformat_minor": 2,
 "cells": [
  {
   "source": [
    "import tensorflow as tf\n",
    "from tensorflow import keras\n",
    "from tensorflow.keras import layers\n",
    "\n",
    "inputs = tf.keras.layers.Input(shape=(5,))\n",
    "hidden = tf.keras.layers.Dense(2000, activation=\"relu\", name=\"hidden\", trainable = False)\n",
    "outputs = tf.keras.layers.Dense(1)(hidden(inputs))\n",
    "model = tf.keras.models.Model(inputs = inputs, outputs = outputs)\n"
   ],
   "cell_type": "markdown",
   "metadata": {}
  },
  {
   "source": [
    "model.summary()"
   ],
   "cell_type": "markdown",
   "metadata": {}
  },
  {
   "source": [
    "model.compile(optimizer='sgd', loss = 'mse')\n",
    "model.metrics_names"
   ],
   "cell_type": "markdown",
   "metadata": {}
  },
  {
   "cell_type": "code",
   "execution_count": 1,
   "metadata": {},
   "outputs": [],
   "source": [
    "import numpy as np\n",
    "np.random.seed(1)\n",
    "x1, x2 = np.random.normal(size = (200, 5)), np.random.normal(size = (20, 5))\n",
    "beta, delta = 10 * np.array([1, 1, 0, 0, 0]).reshape((-1,1)),\\\n",
    "     np.array([0, 0, 1, 1, 1]).reshape((-1,1))\n",
    "y1, y2 = x1 @ (beta + delta) + 0.1 * np.random.normal(size=(200, 1)), x2 @ (beta - delta) + 0.1 * np.random.normal(size = (20, 1))\n",
    "x, y = np.vstack((x1, x2)), np.vstack((y1, y2))"
   ]
  },
  {
   "cell_type": "code",
   "execution_count": 2,
   "metadata": {},
   "outputs": [],
   "source": [
    "x_test = np.random.normal(size = (1000, 5))\n",
    "y_test = x_test @ (beta + delta) + 0.1 * np.random.normal(size = (1000, 1))"
   ]
  },
  {
   "source": [
    "model.fit(x, y, epochs = 200)"
   ],
   "cell_type": "markdown",
   "metadata": {
    "tags": []
   }
  },
  {
   "source": [
    "model.evaluate(x_test, y_test)"
   ],
   "cell_type": "markdown",
   "metadata": {}
  },
  {
   "cell_type": "code",
   "execution_count": 3,
   "metadata": {},
   "outputs": [],
   "source": [
    "from scipy.linalg import inv\n",
    "w = np.random.normal(size = (5, 2000))#/np.sqrt(2000)"
   ]
  },
  {
   "cell_type": "code",
   "execution_count": 4,
   "metadata": {},
   "outputs": [],
   "source": [
    "def hidden_layer(x, w):\n",
    "    z = x @ w\n",
    "    z[z<0]=0\n",
    "    return z"
   ]
  },
  {
   "cell_type": "code",
   "execution_count": 5,
   "metadata": {},
   "outputs": [],
   "source": [
    "z = hidden_layer(x, w)"
   ]
  },
  {
   "source": [
    "u, s, v = np.linalg.svd(z)"
   ],
   "cell_type": "markdown",
   "metadata": {}
  },
  {
   "source": [
    "def predict(x, weights):\n",
    "    w, beta = weights\n",
    "    z = hidden_layer(x, w)\n",
    "    return z @ beta\n",
    "\n",
    "def evaluate(data, weights, sample_weight = []):\n",
    "    x, y = data\n",
    "    n, _ = x.shape\n",
    "    if sample_weight == []:\n",
    "        sample_weight = np.array([1]*n)\n",
    "    sample_weight = sample_weight/np.sum(sample_weight)\n",
    "    y_hat = predict(x, weights)\n",
    "    error = (y - y_hat).reshape((-1,))\n",
    "    return np.sum(error ** 2  * sample_weight)"
   ],
   "cell_type": "markdown",
   "metadata": {}
  },
  {
   "source": [
    "y_hat = predict(x, [w, beta])"
   ],
   "cell_type": "markdown",
   "metadata": {}
  },
  {
   "source": [
    "(z @ z.T) @ inv(z @ z.T)"
   ],
   "cell_type": "markdown",
   "metadata": {}
  },
  {
   "source": [
    "z @ z.T"
   ],
   "cell_type": "markdown",
   "metadata": {}
  },
  {
   "source": [
    "z.shape"
   ],
   "cell_type": "markdown",
   "metadata": {}
  },
  {
   "cell_type": "code",
   "execution_count": 6,
   "metadata": {},
   "outputs": [],
   "source": [
    "beta = np.linalg.lstsq(z, y)[0]"
   ]
  },
  {
   "cell_type": "code",
   "execution_count": 7,
   "metadata": {},
   "outputs": [
    {
     "output_type": "execute_result",
     "data": {
      "text/plain": [
       "1.0971140204463662e-28"
      ]
     },
     "metadata": {},
     "execution_count": 7
    }
   ],
   "source": [
    "np.mean((z @ beta - y)**2)"
   ]
  },
  {
   "cell_type": "code",
   "execution_count": 8,
   "metadata": {},
   "outputs": [],
   "source": [
    "def hidden_layer(x, w):\n",
    "    z = x @ w\n",
    "    z[z<0]=0\n",
    "    return z\n",
    "\n",
    "def predict(x, weights):\n",
    "    w, beta = weights\n",
    "    z = hidden_layer(x, w)\n",
    "    return z @ beta\n",
    "\n",
    "def evaluate(data, weights, sample_weight = []):\n",
    "    x, y = data\n",
    "    n, _ = x.shape\n",
    "    if sample_weight == []:\n",
    "        sample_weight = np.array([1]*n)\n",
    "    sample_weight = sample_weight/np.sum(sample_weight)\n",
    "    y_hat = predict(x, weights)\n",
    "    error = (y - y_hat).reshape((-1,))\n",
    "    return np.sum(error ** 2  * sample_weight)"
   ]
  },
  {
   "cell_type": "code",
   "execution_count": 10,
   "metadata": {},
   "outputs": [
    {
     "output_type": "execute_result",
     "data": {
      "text/plain": [
       "1.0971140204463662e-28"
      ]
     },
     "metadata": {},
     "execution_count": 10
    }
   ],
   "source": [
    "data = x, y\n",
    "weights = w, beta\n",
    "evaluate(data, weights)"
   ]
  },
  {
   "cell_type": "code",
   "execution_count": null,
   "metadata": {},
   "outputs": [],
   "source": []
  }
 ]
}