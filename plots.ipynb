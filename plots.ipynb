{
 "metadata": {
  "language_info": {
   "codemirror_mode": {
    "name": "ipython",
    "version": 3
   },
   "file_extension": ".py",
   "mimetype": "text/x-python",
   "name": "python",
   "nbconvert_exporter": "python",
   "pygments_lexer": "ipython3",
   "version": "3.7.6-final"
  },
  "orig_nbformat": 2,
  "kernelspec": {
   "name": "python37664bitd090249c0cf5439884290524b93fde75",
   "display_name": "Python 3.7.6 64-bit"
  }
 },
 "nbformat": 4,
 "nbformat_minor": 2,
 "cells": [
  {
   "cell_type": "code",
   "execution_count": 1,
   "metadata": {},
   "outputs": [
    {
     "output_type": "execute_result",
     "data": {
      "text/plain": [
       "nodes             int64\n",
       "epochs            int64\n",
       "train-mse       float64\n",
       "majority-mse    float64\n",
       "minority-mse    float64\n",
       "dtype: object"
      ]
     },
     "metadata": {},
     "execution_count": 1
    }
   ],
   "source": [
    "import re\n",
    "import pandas as pd\n",
    "import numpy as np\n",
    "import matplotlib.pyplot as plt\n",
    "filename = 'trainable_both_small_beta'\n",
    "exp = filename + '.txt'\n",
    "with open(exp) as fh:\n",
    "    out = fh.read()\n",
    "\n",
    "out = re.split(r'\\n', out)\n",
    "\n",
    "dict_list = []\n",
    "for d in out:\n",
    "    try:\n",
    "        f = eval(d)\n",
    "        dict_list.append(f)\n",
    "    except:\n",
    "        continue\n",
    "\n",
    "#dict_list = [eval(d) for d in out]\n",
    "df = pd.DataFrame(dict_list)\n",
    "#df['lipton-excess'] = (df['lipton'] - df['bayes_error']).astype('float32') \n",
    "#df['oracle-excess'] = (df['oracle'] - df['bayes_error']).astype('float32') \n",
    "df.dtypes"
   ]
  },
  {
   "cell_type": "code",
   "execution_count": 2,
   "metadata": {
    "tags": []
   },
   "outputs": [
    {
     "output_type": "execute_result",
     "data": {
      "text/plain": [
       "     nodes epochs train-mse                 majority-mse                  \\\n",
       "                       mean       std count         mean       std count   \n",
       "0        1     20  0.727290  0.225643  1000     0.752899  0.221783  1000   \n",
       "1        1     40  0.529772  0.262700  1000     0.549390  0.271204  1000   \n",
       "2        1    100  0.199910  0.162565  1000     0.201508  0.178533  1000   \n",
       "3        1    500  0.043875  0.046460  1000     0.032578  0.045256  1000   \n",
       "4        1   1000  0.038394  0.008012  1000     0.027092  0.003895  1000   \n",
       "..     ...    ...       ...       ...   ...          ...       ...   ...   \n",
       "97   65536     40  0.042985  0.005221  1000     0.039710  0.002634  1000   \n",
       "98   65536    100  0.037892  0.004074  1000     0.040522  0.003100  1000   \n",
       "99   65536    500  0.027957  0.002044  1000     0.042753  0.004410  1000   \n",
       "100  65536   1000  0.023474  0.001385  1000     0.042337  0.004957  1000   \n",
       "101  65536   2000  0.019086  0.001109  1000     0.040653  0.005538  1000   \n",
       "\n",
       "    minority-mse                  \n",
       "            mean       std count  \n",
       "0       0.835456  0.176812  1000  \n",
       "1       0.702158  0.201894  1000  \n",
       "2       0.481477  0.128469  1000  \n",
       "3       0.382409  0.037485  1000  \n",
       "4       0.382619  0.024384  1000  \n",
       "..           ...       ...   ...  \n",
       "97      0.391170  0.024283  1000  \n",
       "98      0.395171  0.024306  1000  \n",
       "99      0.399048  0.024425  1000  \n",
       "100     0.398299  0.024441  1000  \n",
       "101     0.395811  0.024527  1000  \n",
       "\n",
       "[102 rows x 11 columns]"
      ],
      "text/html": "<div>\n<style scoped>\n    .dataframe tbody tr th:only-of-type {\n        vertical-align: middle;\n    }\n\n    .dataframe tbody tr th {\n        vertical-align: top;\n    }\n\n    .dataframe thead tr th {\n        text-align: left;\n    }\n</style>\n<table border=\"1\" class=\"dataframe\">\n  <thead>\n    <tr>\n      <th></th>\n      <th>nodes</th>\n      <th>epochs</th>\n      <th colspan=\"3\" halign=\"left\">train-mse</th>\n      <th colspan=\"3\" halign=\"left\">majority-mse</th>\n      <th colspan=\"3\" halign=\"left\">minority-mse</th>\n    </tr>\n    <tr>\n      <th></th>\n      <th></th>\n      <th></th>\n      <th>mean</th>\n      <th>std</th>\n      <th>count</th>\n      <th>mean</th>\n      <th>std</th>\n      <th>count</th>\n      <th>mean</th>\n      <th>std</th>\n      <th>count</th>\n    </tr>\n  </thead>\n  <tbody>\n    <tr>\n      <th>0</th>\n      <td>1</td>\n      <td>20</td>\n      <td>0.727290</td>\n      <td>0.225643</td>\n      <td>1000</td>\n      <td>0.752899</td>\n      <td>0.221783</td>\n      <td>1000</td>\n      <td>0.835456</td>\n      <td>0.176812</td>\n      <td>1000</td>\n    </tr>\n    <tr>\n      <th>1</th>\n      <td>1</td>\n      <td>40</td>\n      <td>0.529772</td>\n      <td>0.262700</td>\n      <td>1000</td>\n      <td>0.549390</td>\n      <td>0.271204</td>\n      <td>1000</td>\n      <td>0.702158</td>\n      <td>0.201894</td>\n      <td>1000</td>\n    </tr>\n    <tr>\n      <th>2</th>\n      <td>1</td>\n      <td>100</td>\n      <td>0.199910</td>\n      <td>0.162565</td>\n      <td>1000</td>\n      <td>0.201508</td>\n      <td>0.178533</td>\n      <td>1000</td>\n      <td>0.481477</td>\n      <td>0.128469</td>\n      <td>1000</td>\n    </tr>\n    <tr>\n      <th>3</th>\n      <td>1</td>\n      <td>500</td>\n      <td>0.043875</td>\n      <td>0.046460</td>\n      <td>1000</td>\n      <td>0.032578</td>\n      <td>0.045256</td>\n      <td>1000</td>\n      <td>0.382409</td>\n      <td>0.037485</td>\n      <td>1000</td>\n    </tr>\n    <tr>\n      <th>4</th>\n      <td>1</td>\n      <td>1000</td>\n      <td>0.038394</td>\n      <td>0.008012</td>\n      <td>1000</td>\n      <td>0.027092</td>\n      <td>0.003895</td>\n      <td>1000</td>\n      <td>0.382619</td>\n      <td>0.024384</td>\n      <td>1000</td>\n    </tr>\n    <tr>\n      <th>...</th>\n      <td>...</td>\n      <td>...</td>\n      <td>...</td>\n      <td>...</td>\n      <td>...</td>\n      <td>...</td>\n      <td>...</td>\n      <td>...</td>\n      <td>...</td>\n      <td>...</td>\n      <td>...</td>\n    </tr>\n    <tr>\n      <th>97</th>\n      <td>65536</td>\n      <td>40</td>\n      <td>0.042985</td>\n      <td>0.005221</td>\n      <td>1000</td>\n      <td>0.039710</td>\n      <td>0.002634</td>\n      <td>1000</td>\n      <td>0.391170</td>\n      <td>0.024283</td>\n      <td>1000</td>\n    </tr>\n    <tr>\n      <th>98</th>\n      <td>65536</td>\n      <td>100</td>\n      <td>0.037892</td>\n      <td>0.004074</td>\n      <td>1000</td>\n      <td>0.040522</td>\n      <td>0.003100</td>\n      <td>1000</td>\n      <td>0.395171</td>\n      <td>0.024306</td>\n      <td>1000</td>\n    </tr>\n    <tr>\n      <th>99</th>\n      <td>65536</td>\n      <td>500</td>\n      <td>0.027957</td>\n      <td>0.002044</td>\n      <td>1000</td>\n      <td>0.042753</td>\n      <td>0.004410</td>\n      <td>1000</td>\n      <td>0.399048</td>\n      <td>0.024425</td>\n      <td>1000</td>\n    </tr>\n    <tr>\n      <th>100</th>\n      <td>65536</td>\n      <td>1000</td>\n      <td>0.023474</td>\n      <td>0.001385</td>\n      <td>1000</td>\n      <td>0.042337</td>\n      <td>0.004957</td>\n      <td>1000</td>\n      <td>0.398299</td>\n      <td>0.024441</td>\n      <td>1000</td>\n    </tr>\n    <tr>\n      <th>101</th>\n      <td>65536</td>\n      <td>2000</td>\n      <td>0.019086</td>\n      <td>0.001109</td>\n      <td>1000</td>\n      <td>0.040653</td>\n      <td>0.005538</td>\n      <td>1000</td>\n      <td>0.395811</td>\n      <td>0.024527</td>\n      <td>1000</td>\n    </tr>\n  </tbody>\n</table>\n<p>102 rows × 11 columns</p>\n</div>"
     },
     "metadata": {},
     "execution_count": 2
    }
   ],
   "source": [
    "measure = ['train-mse', 'majority-mse', 'minority-mse']\n",
    "agg_dict = dict()\n",
    "for key in measure:\n",
    "    agg_dict[key] = ['mean', 'std', 'count']\n",
    "result = df.groupby(['nodes', 'epochs'], as_index=False).agg(agg_dict)\n",
    "result"
   ]
  },
  {
   "cell_type": "code",
   "execution_count": 3,
   "metadata": {},
   "outputs": [
    {
     "output_type": "display_data",
     "data": {
      "text/plain": "<Figure size 1296x360 with 3 Axes>",
      "image/svg+xml": "<?xml version=\"1.0\" encoding=\"utf-8\" standalone=\"no\"?>\n<!DOCTYPE svg PUBLIC \"-//W3C//DTD SVG 1.1//EN\"\n  \"http://www.w3.org/Graphics/SVG/1.1/DTD/svg11.dtd\">\n<!-- Created with matplotlib (https://matplotlib.org/) -->\n<svg height=\"331.674375pt\" version=\"1.1\" viewBox=\"0 0 1047.307986 331.674375\" width=\"1047.307986pt\" xmlns=\"http://www.w3.org/2000/svg\" xmlns:xlink=\"http://www.w3.org/1999/xlink\">\n <defs>\n  <style type=\"text/css\">\n*{stroke-linecap:butt;stroke-linejoin:round;}\n  </style>\n </defs>\n <g id=\"figure_1\">\n  <g id=\"patch_1\">\n   <path d=\"M 0 331.674375 \nL 1047.307986 331.674375 \nL 1047.307986 0 \nL 0 0 \nz\n\" style=\"fill:none;\"/>\n  </g>\n  <g id=\"axes_1\">\n   <g id=\"patch_2\">\n    <path d=\"M 30.103125 294.118125 \nL 325.51489 294.118125 \nL 325.51489 22.318125 \nL 30.103125 22.318125 \nz\n\" style=\"fill:#ffffff;\"/>\n   </g>\n   <g id=\"matplotlib.axis_1\">\n    <g id=\"xtick_1\">\n     <g id=\"line2d_1\">\n      <defs>\n       <path d=\"M 0 0 \nL 0 3.5 \n\" id=\"m5c8a8a390e\" style=\"stroke:#000000;stroke-width:0.8;\"/>\n      </defs>\n      <g>\n       <use style=\"stroke:#000000;stroke-width:0.8;\" x=\"43.530932\" xlink:href=\"#m5c8a8a390e\" y=\"294.118125\"/>\n      </g>\n     </g>\n     <g id=\"text_1\">\n      <!-- $\\mathdefault{10^{0}}$ -->\n      <defs>\n       <path d=\"M 12.40625 8.296875 \nL 28.515625 8.296875 \nL 28.515625 63.921875 \nL 10.984375 60.40625 \nL 10.984375 69.390625 \nL 28.421875 72.90625 \nL 38.28125 72.90625 \nL 38.28125 8.296875 \nL 54.390625 8.296875 \nL 54.390625 0 \nL 12.40625 0 \nz\n\" id=\"DejaVuSans-49\"/>\n       <path d=\"M 31.78125 66.40625 \nQ 24.171875 66.40625 20.328125 58.90625 \nQ 16.5 51.421875 16.5 36.375 \nQ 16.5 21.390625 20.328125 13.890625 \nQ 24.171875 6.390625 31.78125 6.390625 \nQ 39.453125 6.390625 43.28125 13.890625 \nQ 47.125 21.390625 47.125 36.375 \nQ 47.125 51.421875 43.28125 58.90625 \nQ 39.453125 66.40625 31.78125 66.40625 \nz\nM 31.78125 74.21875 \nQ 44.046875 74.21875 50.515625 64.515625 \nQ 56.984375 54.828125 56.984375 36.375 \nQ 56.984375 17.96875 50.515625 8.265625 \nQ 44.046875 -1.421875 31.78125 -1.421875 \nQ 19.53125 -1.421875 13.0625 8.265625 \nQ 6.59375 17.96875 6.59375 36.375 \nQ 6.59375 54.828125 13.0625 64.515625 \nQ 19.53125 74.21875 31.78125 74.21875 \nz\n\" id=\"DejaVuSans-48\"/>\n      </defs>\n      <g transform=\"translate(34.730932 308.716563)scale(0.1 -0.1)\">\n       <use transform=\"translate(0 0.765625)\" xlink:href=\"#DejaVuSans-49\"/>\n       <use transform=\"translate(63.623047 0.765625)\" xlink:href=\"#DejaVuSans-48\"/>\n       <use transform=\"translate(128.203125 39.046875)scale(0.7)\" xlink:href=\"#DejaVuSans-48\"/>\n      </g>\n     </g>\n    </g>\n    <g id=\"xtick_2\">\n     <g id=\"line2d_2\">\n      <g>\n       <use style=\"stroke:#000000;stroke-width:0.8;\" x=\"99.288696\" xlink:href=\"#m5c8a8a390e\" y=\"294.118125\"/>\n      </g>\n     </g>\n     <g id=\"text_2\">\n      <!-- $\\mathdefault{10^{1}}$ -->\n      <g transform=\"translate(90.488696 308.716563)scale(0.1 -0.1)\">\n       <use transform=\"translate(0 0.684375)\" xlink:href=\"#DejaVuSans-49\"/>\n       <use transform=\"translate(63.623047 0.684375)\" xlink:href=\"#DejaVuSans-48\"/>\n       <use transform=\"translate(128.203125 38.965625)scale(0.7)\" xlink:href=\"#DejaVuSans-49\"/>\n      </g>\n     </g>\n    </g>\n    <g id=\"xtick_3\">\n     <g id=\"line2d_3\">\n      <g>\n       <use style=\"stroke:#000000;stroke-width:0.8;\" x=\"155.04646\" xlink:href=\"#m5c8a8a390e\" y=\"294.118125\"/>\n      </g>\n     </g>\n     <g id=\"text_3\">\n      <!-- $\\mathdefault{10^{2}}$ -->\n      <defs>\n       <path d=\"M 19.1875 8.296875 \nL 53.609375 8.296875 \nL 53.609375 0 \nL 7.328125 0 \nL 7.328125 8.296875 \nQ 12.9375 14.109375 22.625 23.890625 \nQ 32.328125 33.6875 34.8125 36.53125 \nQ 39.546875 41.84375 41.421875 45.53125 \nQ 43.3125 49.21875 43.3125 52.78125 \nQ 43.3125 58.59375 39.234375 62.25 \nQ 35.15625 65.921875 28.609375 65.921875 \nQ 23.96875 65.921875 18.8125 64.3125 \nQ 13.671875 62.703125 7.8125 59.421875 \nL 7.8125 69.390625 \nQ 13.765625 71.78125 18.9375 73 \nQ 24.125 74.21875 28.421875 74.21875 \nQ 39.75 74.21875 46.484375 68.546875 \nQ 53.21875 62.890625 53.21875 53.421875 \nQ 53.21875 48.921875 51.53125 44.890625 \nQ 49.859375 40.875 45.40625 35.40625 \nQ 44.1875 33.984375 37.640625 27.21875 \nQ 31.109375 20.453125 19.1875 8.296875 \nz\n\" id=\"DejaVuSans-50\"/>\n      </defs>\n      <g transform=\"translate(146.24646 308.716563)scale(0.1 -0.1)\">\n       <use transform=\"translate(0 0.765625)\" xlink:href=\"#DejaVuSans-49\"/>\n       <use transform=\"translate(63.623047 0.765625)\" xlink:href=\"#DejaVuSans-48\"/>\n       <use transform=\"translate(128.203125 39.046875)scale(0.7)\" xlink:href=\"#DejaVuSans-50\"/>\n      </g>\n     </g>\n    </g>\n    <g id=\"xtick_4\">\n     <g id=\"line2d_4\">\n      <g>\n       <use style=\"stroke:#000000;stroke-width:0.8;\" x=\"210.804224\" xlink:href=\"#m5c8a8a390e\" y=\"294.118125\"/>\n      </g>\n     </g>\n     <g id=\"text_4\">\n      <!-- $\\mathdefault{10^{3}}$ -->\n      <defs>\n       <path d=\"M 40.578125 39.3125 \nQ 47.65625 37.796875 51.625 33 \nQ 55.609375 28.21875 55.609375 21.1875 \nQ 55.609375 10.40625 48.1875 4.484375 \nQ 40.765625 -1.421875 27.09375 -1.421875 \nQ 22.515625 -1.421875 17.65625 -0.515625 \nQ 12.796875 0.390625 7.625 2.203125 \nL 7.625 11.71875 \nQ 11.71875 9.328125 16.59375 8.109375 \nQ 21.484375 6.890625 26.8125 6.890625 \nQ 36.078125 6.890625 40.9375 10.546875 \nQ 45.796875 14.203125 45.796875 21.1875 \nQ 45.796875 27.640625 41.28125 31.265625 \nQ 36.765625 34.90625 28.71875 34.90625 \nL 20.21875 34.90625 \nL 20.21875 43.015625 \nL 29.109375 43.015625 \nQ 36.375 43.015625 40.234375 45.921875 \nQ 44.09375 48.828125 44.09375 54.296875 \nQ 44.09375 59.90625 40.109375 62.90625 \nQ 36.140625 65.921875 28.71875 65.921875 \nQ 24.65625 65.921875 20.015625 65.03125 \nQ 15.375 64.15625 9.8125 62.3125 \nL 9.8125 71.09375 \nQ 15.4375 72.65625 20.34375 73.4375 \nQ 25.25 74.21875 29.59375 74.21875 \nQ 40.828125 74.21875 47.359375 69.109375 \nQ 53.90625 64.015625 53.90625 55.328125 \nQ 53.90625 49.265625 50.4375 45.09375 \nQ 46.96875 40.921875 40.578125 39.3125 \nz\n\" id=\"DejaVuSans-51\"/>\n      </defs>\n      <g transform=\"translate(202.004224 308.716563)scale(0.1 -0.1)\">\n       <use transform=\"translate(0 0.765625)\" xlink:href=\"#DejaVuSans-49\"/>\n       <use transform=\"translate(63.623047 0.765625)\" xlink:href=\"#DejaVuSans-48\"/>\n       <use transform=\"translate(128.203125 39.046875)scale(0.7)\" xlink:href=\"#DejaVuSans-51\"/>\n      </g>\n     </g>\n    </g>\n    <g id=\"xtick_5\">\n     <g id=\"line2d_5\">\n      <g>\n       <use style=\"stroke:#000000;stroke-width:0.8;\" x=\"266.561987\" xlink:href=\"#m5c8a8a390e\" y=\"294.118125\"/>\n      </g>\n     </g>\n     <g id=\"text_5\">\n      <!-- $\\mathdefault{10^{4}}$ -->\n      <defs>\n       <path d=\"M 37.796875 64.3125 \nL 12.890625 25.390625 \nL 37.796875 25.390625 \nz\nM 35.203125 72.90625 \nL 47.609375 72.90625 \nL 47.609375 25.390625 \nL 58.015625 25.390625 \nL 58.015625 17.1875 \nL 47.609375 17.1875 \nL 47.609375 0 \nL 37.796875 0 \nL 37.796875 17.1875 \nL 4.890625 17.1875 \nL 4.890625 26.703125 \nz\n\" id=\"DejaVuSans-52\"/>\n      </defs>\n      <g transform=\"translate(257.761987 308.716563)scale(0.1 -0.1)\">\n       <use transform=\"translate(0 0.684375)\" xlink:href=\"#DejaVuSans-49\"/>\n       <use transform=\"translate(63.623047 0.684375)\" xlink:href=\"#DejaVuSans-48\"/>\n       <use transform=\"translate(128.203125 38.965625)scale(0.7)\" xlink:href=\"#DejaVuSans-52\"/>\n      </g>\n     </g>\n    </g>\n    <g id=\"xtick_6\">\n     <g id=\"line2d_6\">\n      <g>\n       <use style=\"stroke:#000000;stroke-width:0.8;\" x=\"322.319751\" xlink:href=\"#m5c8a8a390e\" y=\"294.118125\"/>\n      </g>\n     </g>\n     <g id=\"text_6\">\n      <!-- $\\mathdefault{10^{5}}$ -->\n      <defs>\n       <path d=\"M 10.796875 72.90625 \nL 49.515625 72.90625 \nL 49.515625 64.59375 \nL 19.828125 64.59375 \nL 19.828125 46.734375 \nQ 21.96875 47.46875 24.109375 47.828125 \nQ 26.265625 48.1875 28.421875 48.1875 \nQ 40.625 48.1875 47.75 41.5 \nQ 54.890625 34.8125 54.890625 23.390625 \nQ 54.890625 11.625 47.5625 5.09375 \nQ 40.234375 -1.421875 26.90625 -1.421875 \nQ 22.3125 -1.421875 17.546875 -0.640625 \nQ 12.796875 0.140625 7.71875 1.703125 \nL 7.71875 11.625 \nQ 12.109375 9.234375 16.796875 8.0625 \nQ 21.484375 6.890625 26.703125 6.890625 \nQ 35.15625 6.890625 40.078125 11.328125 \nQ 45.015625 15.765625 45.015625 23.390625 \nQ 45.015625 31 40.078125 35.4375 \nQ 35.15625 39.890625 26.703125 39.890625 \nQ 22.75 39.890625 18.8125 39.015625 \nQ 14.890625 38.140625 10.796875 36.28125 \nz\n\" id=\"DejaVuSans-53\"/>\n      </defs>\n      <g transform=\"translate(313.519751 308.716563)scale(0.1 -0.1)\">\n       <use transform=\"translate(0 0.684375)\" xlink:href=\"#DejaVuSans-49\"/>\n       <use transform=\"translate(63.623047 0.684375)\" xlink:href=\"#DejaVuSans-48\"/>\n       <use transform=\"translate(128.203125 38.965625)scale(0.7)\" xlink:href=\"#DejaVuSans-53\"/>\n      </g>\n     </g>\n    </g>\n    <g id=\"xtick_7\">\n     <g id=\"line2d_7\">\n      <defs>\n       <path d=\"M 0 0 \nL 0 2 \n\" id=\"m0d7b11006f\" style=\"stroke:#000000;stroke-width:0.6;\"/>\n      </defs>\n      <g>\n       <use style=\"stroke:#000000;stroke-width:0.6;\" x=\"31.161142\" xlink:href=\"#m0d7b11006f\" y=\"294.118125\"/>\n      </g>\n     </g>\n    </g>\n    <g id=\"xtick_8\">\n     <g id=\"line2d_8\">\n      <g>\n       <use style=\"stroke:#000000;stroke-width:0.6;\" x=\"34.893946\" xlink:href=\"#m0d7b11006f\" y=\"294.118125\"/>\n      </g>\n     </g>\n    </g>\n    <g id=\"xtick_9\">\n     <g id=\"line2d_9\">\n      <g>\n       <use style=\"stroke:#000000;stroke-width:0.6;\" x=\"38.127447\" xlink:href=\"#m0d7b11006f\" y=\"294.118125\"/>\n      </g>\n     </g>\n    </g>\n    <g id=\"xtick_10\">\n     <g id=\"line2d_10\">\n      <g>\n       <use style=\"stroke:#000000;stroke-width:0.6;\" x=\"40.979597\" xlink:href=\"#m0d7b11006f\" y=\"294.118125\"/>\n      </g>\n     </g>\n    </g>\n    <g id=\"xtick_11\">\n     <g id=\"line2d_11\">\n      <g>\n       <use style=\"stroke:#000000;stroke-width:0.6;\" x=\"60.315692\" xlink:href=\"#m0d7b11006f\" y=\"294.118125\"/>\n      </g>\n     </g>\n    </g>\n    <g id=\"xtick_12\">\n     <g id=\"line2d_12\">\n      <g>\n       <use style=\"stroke:#000000;stroke-width:0.6;\" x=\"70.134147\" xlink:href=\"#m0d7b11006f\" y=\"294.118125\"/>\n      </g>\n     </g>\n    </g>\n    <g id=\"xtick_13\">\n     <g id=\"line2d_13\">\n      <g>\n       <use style=\"stroke:#000000;stroke-width:0.6;\" x=\"77.100451\" xlink:href=\"#m0d7b11006f\" y=\"294.118125\"/>\n      </g>\n     </g>\n    </g>\n    <g id=\"xtick_14\">\n     <g id=\"line2d_14\">\n      <g>\n       <use style=\"stroke:#000000;stroke-width:0.6;\" x=\"82.503937\" xlink:href=\"#m0d7b11006f\" y=\"294.118125\"/>\n      </g>\n     </g>\n    </g>\n    <g id=\"xtick_15\">\n     <g id=\"line2d_15\">\n      <g>\n       <use style=\"stroke:#000000;stroke-width:0.6;\" x=\"86.918906\" xlink:href=\"#m0d7b11006f\" y=\"294.118125\"/>\n      </g>\n     </g>\n    </g>\n    <g id=\"xtick_16\">\n     <g id=\"line2d_16\">\n      <g>\n       <use style=\"stroke:#000000;stroke-width:0.6;\" x=\"90.651709\" xlink:href=\"#m0d7b11006f\" y=\"294.118125\"/>\n      </g>\n     </g>\n    </g>\n    <g id=\"xtick_17\">\n     <g id=\"line2d_17\">\n      <g>\n       <use style=\"stroke:#000000;stroke-width:0.6;\" x=\"93.885211\" xlink:href=\"#m0d7b11006f\" y=\"294.118125\"/>\n      </g>\n     </g>\n    </g>\n    <g id=\"xtick_18\">\n     <g id=\"line2d_18\">\n      <g>\n       <use style=\"stroke:#000000;stroke-width:0.6;\" x=\"96.737361\" xlink:href=\"#m0d7b11006f\" y=\"294.118125\"/>\n      </g>\n     </g>\n    </g>\n    <g id=\"xtick_19\">\n     <g id=\"line2d_19\">\n      <g>\n       <use style=\"stroke:#000000;stroke-width:0.6;\" x=\"116.073456\" xlink:href=\"#m0d7b11006f\" y=\"294.118125\"/>\n      </g>\n     </g>\n    </g>\n    <g id=\"xtick_20\">\n     <g id=\"line2d_20\">\n      <g>\n       <use style=\"stroke:#000000;stroke-width:0.6;\" x=\"125.89191\" xlink:href=\"#m0d7b11006f\" y=\"294.118125\"/>\n      </g>\n     </g>\n    </g>\n    <g id=\"xtick_21\">\n     <g id=\"line2d_21\">\n      <g>\n       <use style=\"stroke:#000000;stroke-width:0.6;\" x=\"132.858215\" xlink:href=\"#m0d7b11006f\" y=\"294.118125\"/>\n      </g>\n     </g>\n    </g>\n    <g id=\"xtick_22\">\n     <g id=\"line2d_22\">\n      <g>\n       <use style=\"stroke:#000000;stroke-width:0.6;\" x=\"138.2617\" xlink:href=\"#m0d7b11006f\" y=\"294.118125\"/>\n      </g>\n     </g>\n    </g>\n    <g id=\"xtick_23\">\n     <g id=\"line2d_23\">\n      <g>\n       <use style=\"stroke:#000000;stroke-width:0.6;\" x=\"142.67667\" xlink:href=\"#m0d7b11006f\" y=\"294.118125\"/>\n      </g>\n     </g>\n    </g>\n    <g id=\"xtick_24\">\n     <g id=\"line2d_24\">\n      <g>\n       <use style=\"stroke:#000000;stroke-width:0.6;\" x=\"146.409473\" xlink:href=\"#m0d7b11006f\" y=\"294.118125\"/>\n      </g>\n     </g>\n    </g>\n    <g id=\"xtick_25\">\n     <g id=\"line2d_25\">\n      <g>\n       <use style=\"stroke:#000000;stroke-width:0.6;\" x=\"149.642974\" xlink:href=\"#m0d7b11006f\" y=\"294.118125\"/>\n      </g>\n     </g>\n    </g>\n    <g id=\"xtick_26\">\n     <g id=\"line2d_26\">\n      <g>\n       <use style=\"stroke:#000000;stroke-width:0.6;\" x=\"152.495124\" xlink:href=\"#m0d7b11006f\" y=\"294.118125\"/>\n      </g>\n     </g>\n    </g>\n    <g id=\"xtick_27\">\n     <g id=\"line2d_27\">\n      <g>\n       <use style=\"stroke:#000000;stroke-width:0.6;\" x=\"171.831219\" xlink:href=\"#m0d7b11006f\" y=\"294.118125\"/>\n      </g>\n     </g>\n    </g>\n    <g id=\"xtick_28\">\n     <g id=\"line2d_28\">\n      <g>\n       <use style=\"stroke:#000000;stroke-width:0.6;\" x=\"181.649674\" xlink:href=\"#m0d7b11006f\" y=\"294.118125\"/>\n      </g>\n     </g>\n    </g>\n    <g id=\"xtick_29\">\n     <g id=\"line2d_29\">\n      <g>\n       <use style=\"stroke:#000000;stroke-width:0.6;\" x=\"188.615979\" xlink:href=\"#m0d7b11006f\" y=\"294.118125\"/>\n      </g>\n     </g>\n    </g>\n    <g id=\"xtick_30\">\n     <g id=\"line2d_30\">\n      <g>\n       <use style=\"stroke:#000000;stroke-width:0.6;\" x=\"194.019464\" xlink:href=\"#m0d7b11006f\" y=\"294.118125\"/>\n      </g>\n     </g>\n    </g>\n    <g id=\"xtick_31\">\n     <g id=\"line2d_31\">\n      <g>\n       <use style=\"stroke:#000000;stroke-width:0.6;\" x=\"198.434433\" xlink:href=\"#m0d7b11006f\" y=\"294.118125\"/>\n      </g>\n     </g>\n    </g>\n    <g id=\"xtick_32\">\n     <g id=\"line2d_32\">\n      <g>\n       <use style=\"stroke:#000000;stroke-width:0.6;\" x=\"202.167237\" xlink:href=\"#m0d7b11006f\" y=\"294.118125\"/>\n      </g>\n     </g>\n    </g>\n    <g id=\"xtick_33\">\n     <g id=\"line2d_33\">\n      <g>\n       <use style=\"stroke:#000000;stroke-width:0.6;\" x=\"205.400738\" xlink:href=\"#m0d7b11006f\" y=\"294.118125\"/>\n      </g>\n     </g>\n    </g>\n    <g id=\"xtick_34\">\n     <g id=\"line2d_34\">\n      <g>\n       <use style=\"stroke:#000000;stroke-width:0.6;\" x=\"208.252888\" xlink:href=\"#m0d7b11006f\" y=\"294.118125\"/>\n      </g>\n     </g>\n    </g>\n    <g id=\"xtick_35\">\n     <g id=\"line2d_35\">\n      <g>\n       <use style=\"stroke:#000000;stroke-width:0.6;\" x=\"227.588983\" xlink:href=\"#m0d7b11006f\" y=\"294.118125\"/>\n      </g>\n     </g>\n    </g>\n    <g id=\"xtick_36\">\n     <g id=\"line2d_36\">\n      <g>\n       <use style=\"stroke:#000000;stroke-width:0.6;\" x=\"237.407438\" xlink:href=\"#m0d7b11006f\" y=\"294.118125\"/>\n      </g>\n     </g>\n    </g>\n    <g id=\"xtick_37\">\n     <g id=\"line2d_37\">\n      <g>\n       <use style=\"stroke:#000000;stroke-width:0.6;\" x=\"244.373742\" xlink:href=\"#m0d7b11006f\" y=\"294.118125\"/>\n      </g>\n     </g>\n    </g>\n    <g id=\"xtick_38\">\n     <g id=\"line2d_38\">\n      <g>\n       <use style=\"stroke:#000000;stroke-width:0.6;\" x=\"249.777228\" xlink:href=\"#m0d7b11006f\" y=\"294.118125\"/>\n      </g>\n     </g>\n    </g>\n    <g id=\"xtick_39\">\n     <g id=\"line2d_39\">\n      <g>\n       <use style=\"stroke:#000000;stroke-width:0.6;\" x=\"254.192197\" xlink:href=\"#m0d7b11006f\" y=\"294.118125\"/>\n      </g>\n     </g>\n    </g>\n    <g id=\"xtick_40\">\n     <g id=\"line2d_40\">\n      <g>\n       <use style=\"stroke:#000000;stroke-width:0.6;\" x=\"257.925\" xlink:href=\"#m0d7b11006f\" y=\"294.118125\"/>\n      </g>\n     </g>\n    </g>\n    <g id=\"xtick_41\">\n     <g id=\"line2d_41\">\n      <g>\n       <use style=\"stroke:#000000;stroke-width:0.6;\" x=\"261.158502\" xlink:href=\"#m0d7b11006f\" y=\"294.118125\"/>\n      </g>\n     </g>\n    </g>\n    <g id=\"xtick_42\">\n     <g id=\"line2d_42\">\n      <g>\n       <use style=\"stroke:#000000;stroke-width:0.6;\" x=\"264.010652\" xlink:href=\"#m0d7b11006f\" y=\"294.118125\"/>\n      </g>\n     </g>\n    </g>\n    <g id=\"xtick_43\">\n     <g id=\"line2d_43\">\n      <g>\n       <use style=\"stroke:#000000;stroke-width:0.6;\" x=\"283.346747\" xlink:href=\"#m0d7b11006f\" y=\"294.118125\"/>\n      </g>\n     </g>\n    </g>\n    <g id=\"xtick_44\">\n     <g id=\"line2d_44\">\n      <g>\n       <use style=\"stroke:#000000;stroke-width:0.6;\" x=\"293.165201\" xlink:href=\"#m0d7b11006f\" y=\"294.118125\"/>\n      </g>\n     </g>\n    </g>\n    <g id=\"xtick_45\">\n     <g id=\"line2d_45\">\n      <g>\n       <use style=\"stroke:#000000;stroke-width:0.6;\" x=\"300.131506\" xlink:href=\"#m0d7b11006f\" y=\"294.118125\"/>\n      </g>\n     </g>\n    </g>\n    <g id=\"xtick_46\">\n     <g id=\"line2d_46\">\n      <g>\n       <use style=\"stroke:#000000;stroke-width:0.6;\" x=\"305.534992\" xlink:href=\"#m0d7b11006f\" y=\"294.118125\"/>\n      </g>\n     </g>\n    </g>\n    <g id=\"xtick_47\">\n     <g id=\"line2d_47\">\n      <g>\n       <use style=\"stroke:#000000;stroke-width:0.6;\" x=\"309.949961\" xlink:href=\"#m0d7b11006f\" y=\"294.118125\"/>\n      </g>\n     </g>\n    </g>\n    <g id=\"xtick_48\">\n     <g id=\"line2d_48\">\n      <g>\n       <use style=\"stroke:#000000;stroke-width:0.6;\" x=\"313.682764\" xlink:href=\"#m0d7b11006f\" y=\"294.118125\"/>\n      </g>\n     </g>\n    </g>\n    <g id=\"xtick_49\">\n     <g id=\"line2d_49\">\n      <g>\n       <use style=\"stroke:#000000;stroke-width:0.6;\" x=\"316.916265\" xlink:href=\"#m0d7b11006f\" y=\"294.118125\"/>\n      </g>\n     </g>\n    </g>\n    <g id=\"xtick_50\">\n     <g id=\"line2d_50\">\n      <g>\n       <use style=\"stroke:#000000;stroke-width:0.6;\" x=\"319.768416\" xlink:href=\"#m0d7b11006f\" y=\"294.118125\"/>\n      </g>\n     </g>\n    </g>\n    <g id=\"text_7\">\n     <!-- nodes -->\n     <defs>\n      <path d=\"M 54.890625 33.015625 \nL 54.890625 0 \nL 45.90625 0 \nL 45.90625 32.71875 \nQ 45.90625 40.484375 42.875 44.328125 \nQ 39.84375 48.1875 33.796875 48.1875 \nQ 26.515625 48.1875 22.3125 43.546875 \nQ 18.109375 38.921875 18.109375 30.90625 \nL 18.109375 0 \nL 9.078125 0 \nL 9.078125 54.6875 \nL 18.109375 54.6875 \nL 18.109375 46.1875 \nQ 21.34375 51.125 25.703125 53.5625 \nQ 30.078125 56 35.796875 56 \nQ 45.21875 56 50.046875 50.171875 \nQ 54.890625 44.34375 54.890625 33.015625 \nz\n\" id=\"DejaVuSans-110\"/>\n      <path d=\"M 30.609375 48.390625 \nQ 23.390625 48.390625 19.1875 42.75 \nQ 14.984375 37.109375 14.984375 27.296875 \nQ 14.984375 17.484375 19.15625 11.84375 \nQ 23.34375 6.203125 30.609375 6.203125 \nQ 37.796875 6.203125 41.984375 11.859375 \nQ 46.1875 17.53125 46.1875 27.296875 \nQ 46.1875 37.015625 41.984375 42.703125 \nQ 37.796875 48.390625 30.609375 48.390625 \nz\nM 30.609375 56 \nQ 42.328125 56 49.015625 48.375 \nQ 55.71875 40.765625 55.71875 27.296875 \nQ 55.71875 13.875 49.015625 6.21875 \nQ 42.328125 -1.421875 30.609375 -1.421875 \nQ 18.84375 -1.421875 12.171875 6.21875 \nQ 5.515625 13.875 5.515625 27.296875 \nQ 5.515625 40.765625 12.171875 48.375 \nQ 18.84375 56 30.609375 56 \nz\n\" id=\"DejaVuSans-111\"/>\n      <path d=\"M 45.40625 46.390625 \nL 45.40625 75.984375 \nL 54.390625 75.984375 \nL 54.390625 0 \nL 45.40625 0 \nL 45.40625 8.203125 \nQ 42.578125 3.328125 38.25 0.953125 \nQ 33.9375 -1.421875 27.875 -1.421875 \nQ 17.96875 -1.421875 11.734375 6.484375 \nQ 5.515625 14.40625 5.515625 27.296875 \nQ 5.515625 40.1875 11.734375 48.09375 \nQ 17.96875 56 27.875 56 \nQ 33.9375 56 38.25 53.625 \nQ 42.578125 51.265625 45.40625 46.390625 \nz\nM 14.796875 27.296875 \nQ 14.796875 17.390625 18.875 11.75 \nQ 22.953125 6.109375 30.078125 6.109375 \nQ 37.203125 6.109375 41.296875 11.75 \nQ 45.40625 17.390625 45.40625 27.296875 \nQ 45.40625 37.203125 41.296875 42.84375 \nQ 37.203125 48.484375 30.078125 48.484375 \nQ 22.953125 48.484375 18.875 42.84375 \nQ 14.796875 37.203125 14.796875 27.296875 \nz\n\" id=\"DejaVuSans-100\"/>\n      <path d=\"M 56.203125 29.59375 \nL 56.203125 25.203125 \nL 14.890625 25.203125 \nQ 15.484375 15.921875 20.484375 11.0625 \nQ 25.484375 6.203125 34.421875 6.203125 \nQ 39.59375 6.203125 44.453125 7.46875 \nQ 49.3125 8.734375 54.109375 11.28125 \nL 54.109375 2.78125 \nQ 49.265625 0.734375 44.1875 -0.34375 \nQ 39.109375 -1.421875 33.890625 -1.421875 \nQ 20.796875 -1.421875 13.15625 6.1875 \nQ 5.515625 13.8125 5.515625 26.8125 \nQ 5.515625 40.234375 12.765625 48.109375 \nQ 20.015625 56 32.328125 56 \nQ 43.359375 56 49.78125 48.890625 \nQ 56.203125 41.796875 56.203125 29.59375 \nz\nM 47.21875 32.234375 \nQ 47.125 39.59375 43.09375 43.984375 \nQ 39.0625 48.390625 32.421875 48.390625 \nQ 24.90625 48.390625 20.390625 44.140625 \nQ 15.875 39.890625 15.1875 32.171875 \nz\n\" id=\"DejaVuSans-101\"/>\n      <path d=\"M 44.28125 53.078125 \nL 44.28125 44.578125 \nQ 40.484375 46.53125 36.375 47.5 \nQ 32.28125 48.484375 27.875 48.484375 \nQ 21.1875 48.484375 17.84375 46.4375 \nQ 14.5 44.390625 14.5 40.28125 \nQ 14.5 37.15625 16.890625 35.375 \nQ 19.28125 33.59375 26.515625 31.984375 \nL 29.59375 31.296875 \nQ 39.15625 29.25 43.1875 25.515625 \nQ 47.21875 21.78125 47.21875 15.09375 \nQ 47.21875 7.46875 41.1875 3.015625 \nQ 35.15625 -1.421875 24.609375 -1.421875 \nQ 20.21875 -1.421875 15.453125 -0.5625 \nQ 10.6875 0.296875 5.421875 2 \nL 5.421875 11.28125 \nQ 10.40625 8.6875 15.234375 7.390625 \nQ 20.0625 6.109375 24.8125 6.109375 \nQ 31.15625 6.109375 34.5625 8.28125 \nQ 37.984375 10.453125 37.984375 14.40625 \nQ 37.984375 18.0625 35.515625 20.015625 \nQ 33.0625 21.96875 24.703125 23.78125 \nL 21.578125 24.515625 \nQ 13.234375 26.265625 9.515625 29.90625 \nQ 5.8125 33.546875 5.8125 39.890625 \nQ 5.8125 47.609375 11.28125 51.796875 \nQ 16.75 56 26.8125 56 \nQ 31.78125 56 36.171875 55.265625 \nQ 40.578125 54.546875 44.28125 53.078125 \nz\n\" id=\"DejaVuSans-115\"/>\n     </defs>\n     <g transform=\"translate(162.725414 322.394687)scale(0.1 -0.1)\">\n      <use xlink:href=\"#DejaVuSans-110\"/>\n      <use x=\"63.378906\" xlink:href=\"#DejaVuSans-111\"/>\n      <use x=\"124.560547\" xlink:href=\"#DejaVuSans-100\"/>\n      <use x=\"188.037109\" xlink:href=\"#DejaVuSans-101\"/>\n      <use x=\"249.560547\" xlink:href=\"#DejaVuSans-115\"/>\n     </g>\n    </g>\n   </g>\n   <g id=\"matplotlib.axis_2\">\n    <g id=\"ytick_1\">\n     <g id=\"line2d_51\">\n      <defs>\n       <path d=\"M 0 0 \nL -3.5 0 \n\" id=\"m02b17f71da\" style=\"stroke:#000000;stroke-width:0.8;\"/>\n      </defs>\n      <g>\n       <use style=\"stroke:#000000;stroke-width:0.8;\" x=\"30.103125\" xlink:href=\"#m02b17f71da\" y=\"261.371234\"/>\n      </g>\n     </g>\n     <g id=\"text_8\">\n      <!-- 0.4 -->\n      <defs>\n       <path d=\"M 10.6875 12.40625 \nL 21 12.40625 \nL 21 0 \nL 10.6875 0 \nz\n\" id=\"DejaVuSans-46\"/>\n      </defs>\n      <g transform=\"translate(7.2 265.170452)scale(0.1 -0.1)\">\n       <use xlink:href=\"#DejaVuSans-48\"/>\n       <use x=\"63.623047\" xlink:href=\"#DejaVuSans-46\"/>\n       <use x=\"95.410156\" xlink:href=\"#DejaVuSans-52\"/>\n      </g>\n     </g>\n    </g>\n    <g id=\"ytick_2\">\n     <g id=\"line2d_52\">\n      <g>\n       <use style=\"stroke:#000000;stroke-width:0.8;\" x=\"30.103125\" xlink:href=\"#m02b17f71da\" y=\"224.345205\"/>\n      </g>\n     </g>\n     <g id=\"text_9\">\n      <!-- 0.5 -->\n      <g transform=\"translate(7.2 228.144423)scale(0.1 -0.1)\">\n       <use xlink:href=\"#DejaVuSans-48\"/>\n       <use x=\"63.623047\" xlink:href=\"#DejaVuSans-46\"/>\n       <use x=\"95.410156\" xlink:href=\"#DejaVuSans-53\"/>\n      </g>\n     </g>\n    </g>\n    <g id=\"ytick_3\">\n     <g id=\"line2d_53\">\n      <g>\n       <use style=\"stroke:#000000;stroke-width:0.8;\" x=\"30.103125\" xlink:href=\"#m02b17f71da\" y=\"187.319176\"/>\n      </g>\n     </g>\n     <g id=\"text_10\">\n      <!-- 0.6 -->\n      <defs>\n       <path d=\"M 33.015625 40.375 \nQ 26.375 40.375 22.484375 35.828125 \nQ 18.609375 31.296875 18.609375 23.390625 \nQ 18.609375 15.53125 22.484375 10.953125 \nQ 26.375 6.390625 33.015625 6.390625 \nQ 39.65625 6.390625 43.53125 10.953125 \nQ 47.40625 15.53125 47.40625 23.390625 \nQ 47.40625 31.296875 43.53125 35.828125 \nQ 39.65625 40.375 33.015625 40.375 \nz\nM 52.59375 71.296875 \nL 52.59375 62.3125 \nQ 48.875 64.0625 45.09375 64.984375 \nQ 41.3125 65.921875 37.59375 65.921875 \nQ 27.828125 65.921875 22.671875 59.328125 \nQ 17.53125 52.734375 16.796875 39.40625 \nQ 19.671875 43.65625 24.015625 45.921875 \nQ 28.375 48.1875 33.59375 48.1875 \nQ 44.578125 48.1875 50.953125 41.515625 \nQ 57.328125 34.859375 57.328125 23.390625 \nQ 57.328125 12.15625 50.6875 5.359375 \nQ 44.046875 -1.421875 33.015625 -1.421875 \nQ 20.359375 -1.421875 13.671875 8.265625 \nQ 6.984375 17.96875 6.984375 36.375 \nQ 6.984375 53.65625 15.1875 63.9375 \nQ 23.390625 74.21875 37.203125 74.21875 \nQ 40.921875 74.21875 44.703125 73.484375 \nQ 48.484375 72.75 52.59375 71.296875 \nz\n\" id=\"DejaVuSans-54\"/>\n      </defs>\n      <g transform=\"translate(7.2 191.118395)scale(0.1 -0.1)\">\n       <use xlink:href=\"#DejaVuSans-48\"/>\n       <use x=\"63.623047\" xlink:href=\"#DejaVuSans-46\"/>\n       <use x=\"95.410156\" xlink:href=\"#DejaVuSans-54\"/>\n      </g>\n     </g>\n    </g>\n    <g id=\"ytick_4\">\n     <g id=\"line2d_54\">\n      <g>\n       <use style=\"stroke:#000000;stroke-width:0.8;\" x=\"30.103125\" xlink:href=\"#m02b17f71da\" y=\"150.293147\"/>\n      </g>\n     </g>\n     <g id=\"text_11\">\n      <!-- 0.7 -->\n      <defs>\n       <path d=\"M 8.203125 72.90625 \nL 55.078125 72.90625 \nL 55.078125 68.703125 \nL 28.609375 0 \nL 18.3125 0 \nL 43.21875 64.59375 \nL 8.203125 64.59375 \nz\n\" id=\"DejaVuSans-55\"/>\n      </defs>\n      <g transform=\"translate(7.2 154.092366)scale(0.1 -0.1)\">\n       <use xlink:href=\"#DejaVuSans-48\"/>\n       <use x=\"63.623047\" xlink:href=\"#DejaVuSans-46\"/>\n       <use x=\"95.410156\" xlink:href=\"#DejaVuSans-55\"/>\n      </g>\n     </g>\n    </g>\n    <g id=\"ytick_5\">\n     <g id=\"line2d_55\">\n      <g>\n       <use style=\"stroke:#000000;stroke-width:0.8;\" x=\"30.103125\" xlink:href=\"#m02b17f71da\" y=\"113.267118\"/>\n      </g>\n     </g>\n     <g id=\"text_12\">\n      <!-- 0.8 -->\n      <defs>\n       <path d=\"M 31.78125 34.625 \nQ 24.75 34.625 20.71875 30.859375 \nQ 16.703125 27.09375 16.703125 20.515625 \nQ 16.703125 13.921875 20.71875 10.15625 \nQ 24.75 6.390625 31.78125 6.390625 \nQ 38.8125 6.390625 42.859375 10.171875 \nQ 46.921875 13.96875 46.921875 20.515625 \nQ 46.921875 27.09375 42.890625 30.859375 \nQ 38.875 34.625 31.78125 34.625 \nz\nM 21.921875 38.8125 \nQ 15.578125 40.375 12.03125 44.71875 \nQ 8.5 49.078125 8.5 55.328125 \nQ 8.5 64.0625 14.71875 69.140625 \nQ 20.953125 74.21875 31.78125 74.21875 \nQ 42.671875 74.21875 48.875 69.140625 \nQ 55.078125 64.0625 55.078125 55.328125 \nQ 55.078125 49.078125 51.53125 44.71875 \nQ 48 40.375 41.703125 38.8125 \nQ 48.828125 37.15625 52.796875 32.3125 \nQ 56.78125 27.484375 56.78125 20.515625 \nQ 56.78125 9.90625 50.3125 4.234375 \nQ 43.84375 -1.421875 31.78125 -1.421875 \nQ 19.734375 -1.421875 13.25 4.234375 \nQ 6.78125 9.90625 6.78125 20.515625 \nQ 6.78125 27.484375 10.78125 32.3125 \nQ 14.796875 37.15625 21.921875 38.8125 \nz\nM 18.3125 54.390625 \nQ 18.3125 48.734375 21.84375 45.5625 \nQ 25.390625 42.390625 31.78125 42.390625 \nQ 38.140625 42.390625 41.71875 45.5625 \nQ 45.3125 48.734375 45.3125 54.390625 \nQ 45.3125 60.0625 41.71875 63.234375 \nQ 38.140625 66.40625 31.78125 66.40625 \nQ 25.390625 66.40625 21.84375 63.234375 \nQ 18.3125 60.0625 18.3125 54.390625 \nz\n\" id=\"DejaVuSans-56\"/>\n      </defs>\n      <g transform=\"translate(7.2 117.066337)scale(0.1 -0.1)\">\n       <use xlink:href=\"#DejaVuSans-48\"/>\n       <use x=\"63.623047\" xlink:href=\"#DejaVuSans-46\"/>\n       <use x=\"95.410156\" xlink:href=\"#DejaVuSans-56\"/>\n      </g>\n     </g>\n    </g>\n    <g id=\"ytick_6\">\n     <g id=\"line2d_56\">\n      <g>\n       <use style=\"stroke:#000000;stroke-width:0.8;\" x=\"30.103125\" xlink:href=\"#m02b17f71da\" y=\"76.241089\"/>\n      </g>\n     </g>\n     <g id=\"text_13\">\n      <!-- 0.9 -->\n      <defs>\n       <path d=\"M 10.984375 1.515625 \nL 10.984375 10.5 \nQ 14.703125 8.734375 18.5 7.8125 \nQ 22.3125 6.890625 25.984375 6.890625 \nQ 35.75 6.890625 40.890625 13.453125 \nQ 46.046875 20.015625 46.78125 33.40625 \nQ 43.953125 29.203125 39.59375 26.953125 \nQ 35.25 24.703125 29.984375 24.703125 \nQ 19.046875 24.703125 12.671875 31.3125 \nQ 6.296875 37.9375 6.296875 49.421875 \nQ 6.296875 60.640625 12.9375 67.421875 \nQ 19.578125 74.21875 30.609375 74.21875 \nQ 43.265625 74.21875 49.921875 64.515625 \nQ 56.59375 54.828125 56.59375 36.375 \nQ 56.59375 19.140625 48.40625 8.859375 \nQ 40.234375 -1.421875 26.421875 -1.421875 \nQ 22.703125 -1.421875 18.890625 -0.6875 \nQ 15.09375 0.046875 10.984375 1.515625 \nz\nM 30.609375 32.421875 \nQ 37.25 32.421875 41.125 36.953125 \nQ 45.015625 41.5 45.015625 49.421875 \nQ 45.015625 57.28125 41.125 61.84375 \nQ 37.25 66.40625 30.609375 66.40625 \nQ 23.96875 66.40625 20.09375 61.84375 \nQ 16.21875 57.28125 16.21875 49.421875 \nQ 16.21875 41.5 20.09375 36.953125 \nQ 23.96875 32.421875 30.609375 32.421875 \nz\n\" id=\"DejaVuSans-57\"/>\n      </defs>\n      <g transform=\"translate(7.2 80.040308)scale(0.1 -0.1)\">\n       <use xlink:href=\"#DejaVuSans-48\"/>\n       <use x=\"63.623047\" xlink:href=\"#DejaVuSans-46\"/>\n       <use x=\"95.410156\" xlink:href=\"#DejaVuSans-57\"/>\n      </g>\n     </g>\n    </g>\n    <g id=\"ytick_7\">\n     <g id=\"line2d_57\">\n      <g>\n       <use style=\"stroke:#000000;stroke-width:0.8;\" x=\"30.103125\" xlink:href=\"#m02b17f71da\" y=\"39.215061\"/>\n      </g>\n     </g>\n     <g id=\"text_14\">\n      <!-- 1.0 -->\n      <g transform=\"translate(7.2 43.014279)scale(0.1 -0.1)\">\n       <use xlink:href=\"#DejaVuSans-49\"/>\n       <use x=\"63.623047\" xlink:href=\"#DejaVuSans-46\"/>\n       <use x=\"95.410156\" xlink:href=\"#DejaVuSans-48\"/>\n      </g>\n     </g>\n    </g>\n   </g>\n   <g id=\"LineCollection_1\">\n    <path clip-path=\"url(#p09450aba7b)\" d=\"M 43.530932 165.605696 \nL 43.530932 34.67267 \n\" style=\"fill:none;stroke:#1f77b4;stroke-width:1.5;\"/>\n    <path clip-path=\"url(#p09450aba7b)\" d=\"M 60.315692 192.252177 \nL 60.315692 67.279289 \n\" style=\"fill:none;stroke:#1f77b4;stroke-width:1.5;\"/>\n    <path clip-path=\"url(#p09450aba7b)\" d=\"M 77.100451 225.062587 \nL 77.100451 121.623028 \n\" style=\"fill:none;stroke:#1f77b4;stroke-width:1.5;\"/>\n    <path clip-path=\"url(#p09450aba7b)\" d=\"M 93.885211 244.639156 \nL 93.885211 165.491346 \n\" style=\"fill:none;stroke:#1f77b4;stroke-width:1.5;\"/>\n    <path clip-path=\"url(#p09450aba7b)\" d=\"M 110.66997 253.518058 \nL 110.66997 202.384346 \n\" style=\"fill:none;stroke:#1f77b4;stroke-width:1.5;\"/>\n    <path clip-path=\"url(#p09450aba7b)\" d=\"M 127.454729 263.005477 \nL 127.454729 224.310006 \n\" style=\"fill:none;stroke:#1f77b4;stroke-width:1.5;\"/>\n    <path clip-path=\"url(#p09450aba7b)\" d=\"M 144.239489 268.405392 \nL 144.239489 239.11693 \n\" style=\"fill:none;stroke:#1f77b4;stroke-width:1.5;\"/>\n    <path clip-path=\"url(#p09450aba7b)\" d=\"M 161.024248 272.248419 \nL 161.024248 247.522475 \n\" style=\"fill:none;stroke:#1f77b4;stroke-width:1.5;\"/>\n    <path clip-path=\"url(#p09450aba7b)\" d=\"M 177.809007 274.562037 \nL 177.809007 252.583487 \n\" style=\"fill:none;stroke:#1f77b4;stroke-width:1.5;\"/>\n    <path clip-path=\"url(#p09450aba7b)\" d=\"M 194.593767 275.81301 \nL 194.593767 254.988617 \n\" style=\"fill:none;stroke:#1f77b4;stroke-width:1.5;\"/>\n    <path clip-path=\"url(#p09450aba7b)\" d=\"M 211.378526 276.571863 \nL 211.378526 256.71085 \n\" style=\"fill:none;stroke:#1f77b4;stroke-width:1.5;\"/>\n    <path clip-path=\"url(#p09450aba7b)\" d=\"M 228.163285 276.929902 \nL 228.163285 257.232686 \n\" style=\"fill:none;stroke:#1f77b4;stroke-width:1.5;\"/>\n    <path clip-path=\"url(#p09450aba7b)\" d=\"M 244.948045 277.061943 \nL 244.948045 257.527067 \n\" style=\"fill:none;stroke:#1f77b4;stroke-width:1.5;\"/>\n    <path clip-path=\"url(#p09450aba7b)\" d=\"M 261.732804 277.177508 \nL 261.732804 257.670277 \n\" style=\"fill:none;stroke:#1f77b4;stroke-width:1.5;\"/>\n    <path clip-path=\"url(#p09450aba7b)\" d=\"M 278.517564 277.215238 \nL 278.517564 257.759223 \n\" style=\"fill:none;stroke:#1f77b4;stroke-width:1.5;\"/>\n    <path clip-path=\"url(#p09450aba7b)\" d=\"M 295.302323 277.254658 \nL 295.302323 257.774581 \n\" style=\"fill:none;stroke:#1f77b4;stroke-width:1.5;\"/>\n    <path clip-path=\"url(#p09450aba7b)\" d=\"M 312.087082 277.208611 \nL 312.087082 257.80589 \n\" style=\"fill:none;stroke:#1f77b4;stroke-width:1.5;\"/>\n   </g>\n   <g id=\"LineCollection_2\">\n    <path clip-path=\"url(#p09450aba7b)\" d=\"M 43.530932 224.24724 \nL 43.530932 74.740856 \n\" style=\"fill:none;stroke:#ff7f0e;stroke-width:1.5;\"/>\n    <path clip-path=\"url(#p09450aba7b)\" d=\"M 60.315692 243.769628 \nL 60.315692 133.805762 \n\" style=\"fill:none;stroke:#ff7f0e;stroke-width:1.5;\"/>\n    <path clip-path=\"url(#p09450aba7b)\" d=\"M 77.100451 250.351672 \nL 77.100451 182.67337 \n\" style=\"fill:none;stroke:#ff7f0e;stroke-width:1.5;\"/>\n    <path clip-path=\"url(#p09450aba7b)\" d=\"M 93.885211 253.037229 \nL 93.885211 210.543878 \n\" style=\"fill:none;stroke:#ff7f0e;stroke-width:1.5;\"/>\n    <path clip-path=\"url(#p09450aba7b)\" d=\"M 110.66997 256.074824 \nL 110.66997 223.575521 \n\" style=\"fill:none;stroke:#ff7f0e;stroke-width:1.5;\"/>\n    <path clip-path=\"url(#p09450aba7b)\" d=\"M 127.454729 262.004122 \nL 127.454729 234.764512 \n\" style=\"fill:none;stroke:#ff7f0e;stroke-width:1.5;\"/>\n    <path clip-path=\"url(#p09450aba7b)\" d=\"M 144.239489 266.73937 \nL 144.239489 243.684375 \n\" style=\"fill:none;stroke:#ff7f0e;stroke-width:1.5;\"/>\n    <path clip-path=\"url(#p09450aba7b)\" d=\"M 161.024248 269.67559 \nL 161.024248 249.19642 \n\" style=\"fill:none;stroke:#ff7f0e;stroke-width:1.5;\"/>\n    <path clip-path=\"url(#p09450aba7b)\" d=\"M 177.809007 271.684233 \nL 177.809007 252.253843 \n\" style=\"fill:none;stroke:#ff7f0e;stroke-width:1.5;\"/>\n    <path clip-path=\"url(#p09450aba7b)\" d=\"M 194.593767 272.543166 \nL 194.593767 254.009315 \n\" style=\"fill:none;stroke:#ff7f0e;stroke-width:1.5;\"/>\n    <path clip-path=\"url(#p09450aba7b)\" d=\"M 211.378526 272.932432 \nL 211.378526 254.698013 \n\" style=\"fill:none;stroke:#ff7f0e;stroke-width:1.5;\"/>\n    <path clip-path=\"url(#p09450aba7b)\" d=\"M 228.163285 273.328579 \nL 228.163285 255.309325 \n\" style=\"fill:none;stroke:#ff7f0e;stroke-width:1.5;\"/>\n    <path clip-path=\"url(#p09450aba7b)\" d=\"M 244.948045 273.505291 \nL 244.948045 255.411204 \n\" style=\"fill:none;stroke:#ff7f0e;stroke-width:1.5;\"/>\n    <path clip-path=\"url(#p09450aba7b)\" d=\"M 261.732804 273.616569 \nL 261.732804 255.586622 \n\" style=\"fill:none;stroke:#ff7f0e;stroke-width:1.5;\"/>\n    <path clip-path=\"url(#p09450aba7b)\" d=\"M 278.517564 273.573797 \nL 278.517564 255.611067 \n\" style=\"fill:none;stroke:#ff7f0e;stroke-width:1.5;\"/>\n    <path clip-path=\"url(#p09450aba7b)\" d=\"M 295.302323 273.557878 \nL 295.302323 255.652502 \n\" style=\"fill:none;stroke:#ff7f0e;stroke-width:1.5;\"/>\n    <path clip-path=\"url(#p09450aba7b)\" d=\"M 312.087082 273.631657 \nL 312.087082 255.649929 \n\" style=\"fill:none;stroke:#ff7f0e;stroke-width:1.5;\"/>\n   </g>\n   <g id=\"LineCollection_3\">\n    <path clip-path=\"url(#p09450aba7b)\" d=\"M 43.530932 278.770789 \nL 43.530932 183.636548 \n\" style=\"fill:none;stroke:#2ca02c;stroke-width:1.5;\"/>\n    <path clip-path=\"url(#p09450aba7b)\" d=\"M 60.315692 266.668787 \nL 60.315692 224.21362 \n\" style=\"fill:none;stroke:#2ca02c;stroke-width:1.5;\"/>\n    <path clip-path=\"url(#p09450aba7b)\" d=\"M 77.100451 265.039201 \nL 77.100451 232.011142 \n\" style=\"fill:none;stroke:#2ca02c;stroke-width:1.5;\"/>\n    <path clip-path=\"url(#p09450aba7b)\" d=\"M 93.885211 264.592825 \nL 93.885211 237.224262 \n\" style=\"fill:none;stroke:#2ca02c;stroke-width:1.5;\"/>\n    <path clip-path=\"url(#p09450aba7b)\" d=\"M 110.66997 265.004335 \nL 110.66997 239.415113 \n\" style=\"fill:none;stroke:#2ca02c;stroke-width:1.5;\"/>\n    <path clip-path=\"url(#p09450aba7b)\" d=\"M 127.454729 267.438338 \nL 127.454729 244.608017 \n\" style=\"fill:none;stroke:#2ca02c;stroke-width:1.5;\"/>\n    <path clip-path=\"url(#p09450aba7b)\" d=\"M 144.239489 268.950728 \nL 144.239489 248.432499 \n\" style=\"fill:none;stroke:#2ca02c;stroke-width:1.5;\"/>\n    <path clip-path=\"url(#p09450aba7b)\" d=\"M 161.024248 270.581213 \nL 161.024248 250.46573 \n\" style=\"fill:none;stroke:#2ca02c;stroke-width:1.5;\"/>\n    <path clip-path=\"url(#p09450aba7b)\" d=\"M 177.809007 271.260787 \nL 177.809007 252.67287 \n\" style=\"fill:none;stroke:#2ca02c;stroke-width:1.5;\"/>\n    <path clip-path=\"url(#p09450aba7b)\" d=\"M 194.593767 271.594495 \nL 194.593767 253.324397 \n\" style=\"fill:none;stroke:#2ca02c;stroke-width:1.5;\"/>\n    <path clip-path=\"url(#p09450aba7b)\" d=\"M 211.378526 271.840048 \nL 211.378526 253.898784 \n\" style=\"fill:none;stroke:#2ca02c;stroke-width:1.5;\"/>\n    <path clip-path=\"url(#p09450aba7b)\" d=\"M 228.163285 272.011186 \nL 228.163285 254.039883 \n\" style=\"fill:none;stroke:#2ca02c;stroke-width:1.5;\"/>\n    <path clip-path=\"url(#p09450aba7b)\" d=\"M 244.948045 271.998289 \nL 244.948045 254.087972 \n\" style=\"fill:none;stroke:#2ca02c;stroke-width:1.5;\"/>\n    <path clip-path=\"url(#p09450aba7b)\" d=\"M 261.732804 272.094538 \nL 261.732804 254.136916 \n\" style=\"fill:none;stroke:#2ca02c;stroke-width:1.5;\"/>\n    <path clip-path=\"url(#p09450aba7b)\" d=\"M 278.517564 272.146126 \nL 278.517564 254.192921 \n\" style=\"fill:none;stroke:#2ca02c;stroke-width:1.5;\"/>\n    <path clip-path=\"url(#p09450aba7b)\" d=\"M 295.302323 272.095278 \nL 295.302323 254.200482 \n\" style=\"fill:none;stroke:#2ca02c;stroke-width:1.5;\"/>\n    <path clip-path=\"url(#p09450aba7b)\" d=\"M 312.087082 272.158494 \nL 312.087082 254.159697 \n\" style=\"fill:none;stroke:#2ca02c;stroke-width:1.5;\"/>\n   </g>\n   <g id=\"LineCollection_4\">\n    <path clip-path=\"url(#p09450aba7b)\" d=\"M 43.530932 281.76358 \nL 43.530932 254.005147 \n\" style=\"fill:none;stroke:#d62728;stroke-width:1.5;\"/>\n    <path clip-path=\"url(#p09450aba7b)\" d=\"M 60.315692 276.465443 \nL 60.315692 257.625767 \n\" style=\"fill:none;stroke:#d62728;stroke-width:1.5;\"/>\n    <path clip-path=\"url(#p09450aba7b)\" d=\"M 77.100451 275.349808 \nL 77.100451 255.900521 \n\" style=\"fill:none;stroke:#d62728;stroke-width:1.5;\"/>\n    <path clip-path=\"url(#p09450aba7b)\" d=\"M 93.885211 273.067338 \nL 93.885211 253.546423 \n\" style=\"fill:none;stroke:#d62728;stroke-width:1.5;\"/>\n    <path clip-path=\"url(#p09450aba7b)\" d=\"M 110.66997 270.671762 \nL 110.66997 250.601086 \n\" style=\"fill:none;stroke:#d62728;stroke-width:1.5;\"/>\n    <path clip-path=\"url(#p09450aba7b)\" d=\"M 127.454729 269.788726 \nL 127.454729 249.969902 \n\" style=\"fill:none;stroke:#d62728;stroke-width:1.5;\"/>\n    <path clip-path=\"url(#p09450aba7b)\" d=\"M 144.239489 269.720678 \nL 144.239489 250.587833 \n\" style=\"fill:none;stroke:#d62728;stroke-width:1.5;\"/>\n    <path clip-path=\"url(#p09450aba7b)\" d=\"M 161.024248 269.778773 \nL 161.024248 251.185797 \n\" style=\"fill:none;stroke:#d62728;stroke-width:1.5;\"/>\n    <path clip-path=\"url(#p09450aba7b)\" d=\"M 177.809007 270.404602 \nL 177.809007 251.759332 \n\" style=\"fill:none;stroke:#d62728;stroke-width:1.5;\"/>\n    <path clip-path=\"url(#p09450aba7b)\" d=\"M 194.593767 270.499137 \nL 194.593767 252.225685 \n\" style=\"fill:none;stroke:#d62728;stroke-width:1.5;\"/>\n    <path clip-path=\"url(#p09450aba7b)\" d=\"M 211.378526 270.638908 \nL 211.378526 252.492108 \n\" style=\"fill:none;stroke:#d62728;stroke-width:1.5;\"/>\n    <path clip-path=\"url(#p09450aba7b)\" d=\"M 228.163285 270.679599 \nL 228.163285 252.638586 \n\" style=\"fill:none;stroke:#d62728;stroke-width:1.5;\"/>\n    <path clip-path=\"url(#p09450aba7b)\" d=\"M 244.948045 270.716394 \nL 244.948045 252.641504 \n\" style=\"fill:none;stroke:#d62728;stroke-width:1.5;\"/>\n    <path clip-path=\"url(#p09450aba7b)\" d=\"M 261.732804 270.769039 \nL 261.732804 252.658159 \n\" style=\"fill:none;stroke:#d62728;stroke-width:1.5;\"/>\n    <path clip-path=\"url(#p09450aba7b)\" d=\"M 278.517564 270.768379 \nL 278.517564 252.674715 \n\" style=\"fill:none;stroke:#d62728;stroke-width:1.5;\"/>\n    <path clip-path=\"url(#p09450aba7b)\" d=\"M 295.302323 270.760623 \nL 295.302323 252.697666 \n\" style=\"fill:none;stroke:#d62728;stroke-width:1.5;\"/>\n    <path clip-path=\"url(#p09450aba7b)\" d=\"M 312.087082 270.767142 \nL 312.087082 252.680166 \n\" style=\"fill:none;stroke:#d62728;stroke-width:1.5;\"/>\n   </g>\n   <g id=\"LineCollection_5\">\n    <path clip-path=\"url(#p09450aba7b)\" d=\"M 43.530932 276.835368 \nL 43.530932 258.778327 \n\" style=\"fill:none;stroke:#9467bd;stroke-width:1.5;\"/>\n    <path clip-path=\"url(#p09450aba7b)\" d=\"M 60.315692 276.790883 \nL 60.315692 258.233623 \n\" style=\"fill:none;stroke:#9467bd;stroke-width:1.5;\"/>\n    <path clip-path=\"url(#p09450aba7b)\" d=\"M 77.100451 275.665189 \nL 77.100451 257.02555 \n\" style=\"fill:none;stroke:#9467bd;stroke-width:1.5;\"/>\n    <path clip-path=\"url(#p09450aba7b)\" d=\"M 93.885211 274.099065 \nL 93.885211 254.847863 \n\" style=\"fill:none;stroke:#9467bd;stroke-width:1.5;\"/>\n    <path clip-path=\"url(#p09450aba7b)\" d=\"M 110.66997 271.276806 \nL 110.66997 251.674526 \n\" style=\"fill:none;stroke:#9467bd;stroke-width:1.5;\"/>\n    <path clip-path=\"url(#p09450aba7b)\" d=\"M 127.454729 270.196046 \nL 127.454729 250.695751 \n\" style=\"fill:none;stroke:#9467bd;stroke-width:1.5;\"/>\n    <path clip-path=\"url(#p09450aba7b)\" d=\"M 144.239489 269.667935 \nL 144.239489 250.903793 \n\" style=\"fill:none;stroke:#9467bd;stroke-width:1.5;\"/>\n    <path clip-path=\"url(#p09450aba7b)\" d=\"M 161.024248 270.326206 \nL 161.024248 251.638889 \n\" style=\"fill:none;stroke:#9467bd;stroke-width:1.5;\"/>\n    <path clip-path=\"url(#p09450aba7b)\" d=\"M 177.809007 270.699258 \nL 177.809007 252.130359 \n\" style=\"fill:none;stroke:#9467bd;stroke-width:1.5;\"/>\n    <path clip-path=\"url(#p09450aba7b)\" d=\"M 194.593767 270.796908 \nL 194.593767 252.609061 \n\" style=\"fill:none;stroke:#9467bd;stroke-width:1.5;\"/>\n    <path clip-path=\"url(#p09450aba7b)\" d=\"M 211.378526 270.912403 \nL 211.378526 252.629058 \n\" style=\"fill:none;stroke:#9467bd;stroke-width:1.5;\"/>\n    <path clip-path=\"url(#p09450aba7b)\" d=\"M 228.163285 270.968905 \nL 228.163285 252.845815 \n\" style=\"fill:none;stroke:#9467bd;stroke-width:1.5;\"/>\n    <path clip-path=\"url(#p09450aba7b)\" d=\"M 244.948045 270.983234 \nL 244.948045 252.906968 \n\" style=\"fill:none;stroke:#9467bd;stroke-width:1.5;\"/>\n    <path clip-path=\"url(#p09450aba7b)\" d=\"M 261.732804 271.048347 \nL 261.732804 252.916598 \n\" style=\"fill:none;stroke:#9467bd;stroke-width:1.5;\"/>\n    <path clip-path=\"url(#p09450aba7b)\" d=\"M 278.517564 271.026956 \nL 278.517564 252.964839 \n\" style=\"fill:none;stroke:#9467bd;stroke-width:1.5;\"/>\n    <path clip-path=\"url(#p09450aba7b)\" d=\"M 295.302323 271.053059 \nL 295.302323 252.940212 \n\" style=\"fill:none;stroke:#9467bd;stroke-width:1.5;\"/>\n    <path clip-path=\"url(#p09450aba7b)\" d=\"M 312.087082 271.050368 \nL 312.087082 252.951506 \n\" style=\"fill:none;stroke:#9467bd;stroke-width:1.5;\"/>\n   </g>\n   <g id=\"LineCollection_6\">\n    <path clip-path=\"url(#p09450aba7b)\" d=\"M 43.530932 276.653012 \nL 43.530932 258.371837 \n\" style=\"fill:none;stroke:#8c564b;stroke-width:1.5;\"/>\n    <path clip-path=\"url(#p09450aba7b)\" d=\"M 60.315692 276.462689 \nL 60.315692 258.325384 \n\" style=\"fill:none;stroke:#8c564b;stroke-width:1.5;\"/>\n    <path clip-path=\"url(#p09450aba7b)\" d=\"M 77.100451 275.884966 \nL 77.100451 257.664383 \n\" style=\"fill:none;stroke:#8c564b;stroke-width:1.5;\"/>\n    <path clip-path=\"url(#p09450aba7b)\" d=\"M 93.885211 274.391265 \nL 93.885211 255.36189 \n\" style=\"fill:none;stroke:#8c564b;stroke-width:1.5;\"/>\n    <path clip-path=\"url(#p09450aba7b)\" d=\"M 110.66997 271.583689 \nL 110.66997 252.249904 \n\" style=\"fill:none;stroke:#8c564b;stroke-width:1.5;\"/>\n    <path clip-path=\"url(#p09450aba7b)\" d=\"M 127.454729 270.186822 \nL 127.454729 251.019436 \n\" style=\"fill:none;stroke:#8c564b;stroke-width:1.5;\"/>\n    <path clip-path=\"url(#p09450aba7b)\" d=\"M 144.239489 270.439352 \nL 144.239489 251.426633 \n\" style=\"fill:none;stroke:#8c564b;stroke-width:1.5;\"/>\n    <path clip-path=\"url(#p09450aba7b)\" d=\"M 161.024248 270.766084 \nL 161.024248 252.208079 \n\" style=\"fill:none;stroke:#8c564b;stroke-width:1.5;\"/>\n    <path clip-path=\"url(#p09450aba7b)\" d=\"M 177.809007 271.402414 \nL 177.809007 253.031491 \n\" style=\"fill:none;stroke:#8c564b;stroke-width:1.5;\"/>\n    <path clip-path=\"url(#p09450aba7b)\" d=\"M 194.593767 271.696999 \nL 194.593767 253.326987 \n\" style=\"fill:none;stroke:#8c564b;stroke-width:1.5;\"/>\n    <path clip-path=\"url(#p09450aba7b)\" d=\"M 211.378526 271.805604 \nL 211.378526 253.606458 \n\" style=\"fill:none;stroke:#8c564b;stroke-width:1.5;\"/>\n    <path clip-path=\"url(#p09450aba7b)\" d=\"M 228.163285 271.916393 \nL 228.163285 253.733808 \n\" style=\"fill:none;stroke:#8c564b;stroke-width:1.5;\"/>\n    <path clip-path=\"url(#p09450aba7b)\" d=\"M 244.948045 271.932558 \nL 244.948045 253.786483 \n\" style=\"fill:none;stroke:#8c564b;stroke-width:1.5;\"/>\n    <path clip-path=\"url(#p09450aba7b)\" d=\"M 261.732804 271.963025 \nL 261.732804 253.814736 \n\" style=\"fill:none;stroke:#8c564b;stroke-width:1.5;\"/>\n    <path clip-path=\"url(#p09450aba7b)\" d=\"M 278.517564 271.979397 \nL 278.517564 253.833192 \n\" style=\"fill:none;stroke:#8c564b;stroke-width:1.5;\"/>\n    <path clip-path=\"url(#p09450aba7b)\" d=\"M 295.302323 271.974573 \nL 295.302323 253.825455 \n\" style=\"fill:none;stroke:#8c564b;stroke-width:1.5;\"/>\n    <path clip-path=\"url(#p09450aba7b)\" d=\"M 312.087082 272.003712 \nL 312.087082 253.840904 \n\" style=\"fill:none;stroke:#8c564b;stroke-width:1.5;\"/>\n   </g>\n   <g id=\"line2d_58\">\n    <path clip-path=\"url(#p09450aba7b)\" d=\"M 43.530932 100.139183 \nL 60.315692 129.765733 \nL 77.100451 173.342808 \nL 93.885211 205.065251 \nL 110.66997 227.951202 \nL 127.454729 243.657742 \nL 144.239489 253.761161 \nL 161.024248 259.885447 \nL 177.809007 263.572762 \nL 194.593767 265.400813 \nL 211.378526 266.641356 \nL 228.163285 267.081294 \nL 244.948045 267.294505 \nL 261.732804 267.423893 \nL 278.517564 267.487231 \nL 295.302323 267.514619 \nL 312.087082 267.50725 \n\" style=\"fill:none;stroke:#0000ff;stroke-linecap:square;stroke-width:1.5;\"/>\n   </g>\n   <g id=\"line2d_59\">\n    <path clip-path=\"url(#p09450aba7b)\" d=\"M 43.530932 149.494048 \nL 60.315692 188.787695 \nL 77.100451 216.512521 \nL 93.885211 231.790553 \nL 110.66997 239.825172 \nL 127.454729 248.384317 \nL 144.239489 255.211873 \nL 161.024248 259.436005 \nL 177.809007 261.969038 \nL 194.593767 263.276241 \nL 211.378526 263.815223 \nL 228.163285 264.318952 \nL 244.948045 264.458247 \nL 261.732804 264.601596 \nL 278.517564 264.592432 \nL 295.302323 264.60519 \nL 312.087082 264.640793 \n\" style=\"fill:none;stroke:#008000;stroke-linecap:square;stroke-width:1.5;\"/>\n   </g>\n   <g id=\"line2d_60\">\n    <path clip-path=\"url(#p09450aba7b)\" d=\"M 43.530932 231.203669 \nL 60.315692 245.441204 \nL 77.100451 248.525172 \nL 93.885211 250.908544 \nL 110.66997 252.209724 \nL 127.454729 256.023177 \nL 144.239489 258.691613 \nL 161.024248 260.523472 \nL 177.809007 261.966828 \nL 194.593767 262.459446 \nL 211.378526 262.869416 \nL 228.163285 263.025534 \nL 244.948045 263.04313 \nL 261.732804 263.115727 \nL 278.517564 263.169524 \nL 295.302323 263.14788 \nL 312.087082 263.159096 \n\" style=\"fill:none;stroke:#ff0000;stroke-linecap:square;stroke-width:1.5;\"/>\n   </g>\n   <g id=\"line2d_61\">\n    <path clip-path=\"url(#p09450aba7b)\" d=\"M 43.530932 267.884363 \nL 60.315692 267.045605 \nL 77.100451 265.625165 \nL 93.885211 263.30688 \nL 110.66997 260.636424 \nL 127.454729 259.879314 \nL 144.239489 260.154255 \nL 161.024248 260.482285 \nL 177.809007 261.081967 \nL 194.593767 261.362411 \nL 211.378526 261.565508 \nL 228.163285 261.659092 \nL 244.948045 261.678949 \nL 261.732804 261.713599 \nL 278.517564 261.721547 \nL 295.302323 261.729144 \nL 312.087082 261.723654 \n\" style=\"fill:none;stroke:#00bfbf;stroke-linecap:square;stroke-width:1.5;\"/>\n   </g>\n   <g id=\"line2d_62\">\n    <path clip-path=\"url(#p09450aba7b)\" d=\"M 43.530932 267.806847 \nL 60.315692 267.512253 \nL 77.100451 266.345369 \nL 93.885211 264.473464 \nL 110.66997 261.475666 \nL 127.454729 260.445898 \nL 144.239489 260.285864 \nL 161.024248 260.982547 \nL 177.809007 261.414809 \nL 194.593767 261.702985 \nL 211.378526 261.770731 \nL 228.163285 261.90736 \nL 244.948045 261.945101 \nL 261.732804 261.982472 \nL 278.517564 261.995898 \nL 295.302323 261.996636 \nL 312.087082 262.000937 \n\" style=\"fill:none;stroke:#bfbf00;stroke-linecap:square;stroke-width:1.5;\"/>\n   </g>\n   <g id=\"line2d_63\">\n    <path clip-path=\"url(#p09450aba7b)\" d=\"M 43.530932 267.512424 \nL 60.315692 267.394037 \nL 77.100451 266.774674 \nL 93.885211 264.876577 \nL 110.66997 261.916796 \nL 127.454729 260.603129 \nL 144.239489 260.932993 \nL 161.024248 261.487081 \nL 177.809007 262.216953 \nL 194.593767 262.511993 \nL 211.378526 262.706031 \nL 228.163285 262.825101 \nL 244.948045 262.859521 \nL 261.732804 262.88888 \nL 278.517564 262.906295 \nL 295.302323 262.900014 \nL 312.087082 262.922308 \n\" style=\"fill:none;stroke:#000000;stroke-linecap:square;stroke-width:1.5;\"/>\n   </g>\n   <g id=\"line2d_64\">\n    <path clip-path=\"url(#p09450aba7b)\" d=\"M 43.530932 100.139183 \nL 60.315692 129.765733 \nL 77.100451 173.342808 \nL 93.885211 205.065251 \nL 110.66997 227.951202 \nL 127.454729 243.657742 \nL 144.239489 253.761161 \nL 161.024248 259.885447 \nL 177.809007 263.572762 \nL 194.593767 265.400813 \nL 211.378526 266.641356 \nL 228.163285 267.081294 \nL 244.948045 267.294505 \nL 261.732804 267.423893 \nL 278.517564 267.487231 \nL 295.302323 267.514619 \nL 312.087082 267.50725 \n\" style=\"fill:none;stroke:#1f77b4;stroke-linecap:square;stroke-width:1.5;\"/>\n   </g>\n   <g id=\"line2d_65\">\n    <path clip-path=\"url(#p09450aba7b)\" d=\"M 43.530932 149.494048 \nL 60.315692 188.787695 \nL 77.100451 216.512521 \nL 93.885211 231.790553 \nL 110.66997 239.825172 \nL 127.454729 248.384317 \nL 144.239489 255.211873 \nL 161.024248 259.436005 \nL 177.809007 261.969038 \nL 194.593767 263.276241 \nL 211.378526 263.815223 \nL 228.163285 264.318952 \nL 244.948045 264.458247 \nL 261.732804 264.601596 \nL 278.517564 264.592432 \nL 295.302323 264.60519 \nL 312.087082 264.640793 \n\" style=\"fill:none;stroke:#ff7f0e;stroke-linecap:square;stroke-width:1.5;\"/>\n   </g>\n   <g id=\"line2d_66\">\n    <path clip-path=\"url(#p09450aba7b)\" d=\"M 43.530932 231.203669 \nL 60.315692 245.441204 \nL 77.100451 248.525172 \nL 93.885211 250.908544 \nL 110.66997 252.209724 \nL 127.454729 256.023177 \nL 144.239489 258.691613 \nL 161.024248 260.523472 \nL 177.809007 261.966828 \nL 194.593767 262.459446 \nL 211.378526 262.869416 \nL 228.163285 263.025534 \nL 244.948045 263.04313 \nL 261.732804 263.115727 \nL 278.517564 263.169524 \nL 295.302323 263.14788 \nL 312.087082 263.159096 \n\" style=\"fill:none;stroke:#2ca02c;stroke-linecap:square;stroke-width:1.5;\"/>\n   </g>\n   <g id=\"line2d_67\">\n    <path clip-path=\"url(#p09450aba7b)\" d=\"M 43.530932 267.884363 \nL 60.315692 267.045605 \nL 77.100451 265.625165 \nL 93.885211 263.30688 \nL 110.66997 260.636424 \nL 127.454729 259.879314 \nL 144.239489 260.154255 \nL 161.024248 260.482285 \nL 177.809007 261.081967 \nL 194.593767 261.362411 \nL 211.378526 261.565508 \nL 228.163285 261.659092 \nL 244.948045 261.678949 \nL 261.732804 261.713599 \nL 278.517564 261.721547 \nL 295.302323 261.729144 \nL 312.087082 261.723654 \n\" style=\"fill:none;stroke:#d62728;stroke-linecap:square;stroke-width:1.5;\"/>\n   </g>\n   <g id=\"line2d_68\">\n    <path clip-path=\"url(#p09450aba7b)\" d=\"M 43.530932 267.806847 \nL 60.315692 267.512253 \nL 77.100451 266.345369 \nL 93.885211 264.473464 \nL 110.66997 261.475666 \nL 127.454729 260.445898 \nL 144.239489 260.285864 \nL 161.024248 260.982547 \nL 177.809007 261.414809 \nL 194.593767 261.702985 \nL 211.378526 261.770731 \nL 228.163285 261.90736 \nL 244.948045 261.945101 \nL 261.732804 261.982472 \nL 278.517564 261.995898 \nL 295.302323 261.996636 \nL 312.087082 262.000937 \n\" style=\"fill:none;stroke:#9467bd;stroke-linecap:square;stroke-width:1.5;\"/>\n   </g>\n   <g id=\"line2d_69\">\n    <path clip-path=\"url(#p09450aba7b)\" d=\"M 43.530932 267.512424 \nL 60.315692 267.394037 \nL 77.100451 266.774674 \nL 93.885211 264.876577 \nL 110.66997 261.916796 \nL 127.454729 260.603129 \nL 144.239489 260.932993 \nL 161.024248 261.487081 \nL 177.809007 262.216953 \nL 194.593767 262.511993 \nL 211.378526 262.706031 \nL 228.163285 262.825101 \nL 244.948045 262.859521 \nL 261.732804 262.88888 \nL 278.517564 262.906295 \nL 295.302323 262.900014 \nL 312.087082 262.922308 \n\" style=\"fill:none;stroke:#8c564b;stroke-linecap:square;stroke-width:1.5;\"/>\n   </g>\n   <g id=\"patch_3\">\n    <path d=\"M 30.103125 294.118125 \nL 30.103125 22.318125 \n\" style=\"fill:none;stroke:#000000;stroke-linecap:square;stroke-linejoin:miter;stroke-width:0.8;\"/>\n   </g>\n   <g id=\"patch_4\">\n    <path d=\"M 325.51489 294.118125 \nL 325.51489 22.318125 \n\" style=\"fill:none;stroke:#000000;stroke-linecap:square;stroke-linejoin:miter;stroke-width:0.8;\"/>\n   </g>\n   <g id=\"patch_5\">\n    <path d=\"M 30.103125 294.118125 \nL 325.51489 294.118125 \n\" style=\"fill:none;stroke:#000000;stroke-linecap:square;stroke-linejoin:miter;stroke-width:0.8;\"/>\n   </g>\n   <g id=\"patch_6\">\n    <path d=\"M 30.103125 22.318125 \nL 325.51489 22.318125 \n\" style=\"fill:none;stroke:#000000;stroke-linecap:square;stroke-linejoin:miter;stroke-width:0.8;\"/>\n   </g>\n   <g id=\"text_15\">\n    <!-- Test MSE (Minority) -->\n    <defs>\n     <path d=\"M -0.296875 72.90625 \nL 61.375 72.90625 \nL 61.375 64.59375 \nL 35.5 64.59375 \nL 35.5 0 \nL 25.59375 0 \nL 25.59375 64.59375 \nL -0.296875 64.59375 \nz\n\" id=\"DejaVuSans-84\"/>\n     <path d=\"M 18.3125 70.21875 \nL 18.3125 54.6875 \nL 36.8125 54.6875 \nL 36.8125 47.703125 \nL 18.3125 47.703125 \nL 18.3125 18.015625 \nQ 18.3125 11.328125 20.140625 9.421875 \nQ 21.96875 7.515625 27.59375 7.515625 \nL 36.8125 7.515625 \nL 36.8125 0 \nL 27.59375 0 \nQ 17.1875 0 13.234375 3.875 \nQ 9.28125 7.765625 9.28125 18.015625 \nL 9.28125 47.703125 \nL 2.6875 47.703125 \nL 2.6875 54.6875 \nL 9.28125 54.6875 \nL 9.28125 70.21875 \nz\n\" id=\"DejaVuSans-116\"/>\n     <path id=\"DejaVuSans-32\"/>\n     <path d=\"M 9.8125 72.90625 \nL 24.515625 72.90625 \nL 43.109375 23.296875 \nL 61.8125 72.90625 \nL 76.515625 72.90625 \nL 76.515625 0 \nL 66.890625 0 \nL 66.890625 64.015625 \nL 48.09375 14.015625 \nL 38.1875 14.015625 \nL 19.390625 64.015625 \nL 19.390625 0 \nL 9.8125 0 \nz\n\" id=\"DejaVuSans-77\"/>\n     <path d=\"M 53.515625 70.515625 \nL 53.515625 60.890625 \nQ 47.90625 63.578125 42.921875 64.890625 \nQ 37.9375 66.21875 33.296875 66.21875 \nQ 25.25 66.21875 20.875 63.09375 \nQ 16.5 59.96875 16.5 54.203125 \nQ 16.5 49.359375 19.40625 46.890625 \nQ 22.3125 44.4375 30.421875 42.921875 \nL 36.375 41.703125 \nQ 47.40625 39.59375 52.65625 34.296875 \nQ 57.90625 29 57.90625 20.125 \nQ 57.90625 9.515625 50.796875 4.046875 \nQ 43.703125 -1.421875 29.984375 -1.421875 \nQ 24.8125 -1.421875 18.96875 -0.25 \nQ 13.140625 0.921875 6.890625 3.21875 \nL 6.890625 13.375 \nQ 12.890625 10.015625 18.65625 8.296875 \nQ 24.421875 6.59375 29.984375 6.59375 \nQ 38.421875 6.59375 43.015625 9.90625 \nQ 47.609375 13.234375 47.609375 19.390625 \nQ 47.609375 24.75 44.3125 27.78125 \nQ 41.015625 30.8125 33.5 32.328125 \nL 27.484375 33.5 \nQ 16.453125 35.6875 11.515625 40.375 \nQ 6.59375 45.0625 6.59375 53.421875 \nQ 6.59375 63.09375 13.40625 68.65625 \nQ 20.21875 74.21875 32.171875 74.21875 \nQ 37.3125 74.21875 42.625 73.28125 \nQ 47.953125 72.359375 53.515625 70.515625 \nz\n\" id=\"DejaVuSans-83\"/>\n     <path d=\"M 9.8125 72.90625 \nL 55.90625 72.90625 \nL 55.90625 64.59375 \nL 19.671875 64.59375 \nL 19.671875 43.015625 \nL 54.390625 43.015625 \nL 54.390625 34.71875 \nL 19.671875 34.71875 \nL 19.671875 8.296875 \nL 56.78125 8.296875 \nL 56.78125 0 \nL 9.8125 0 \nz\n\" id=\"DejaVuSans-69\"/>\n     <path d=\"M 31 75.875 \nQ 24.46875 64.65625 21.28125 53.65625 \nQ 18.109375 42.671875 18.109375 31.390625 \nQ 18.109375 20.125 21.3125 9.0625 \nQ 24.515625 -2 31 -13.1875 \nL 23.1875 -13.1875 \nQ 15.875 -1.703125 12.234375 9.375 \nQ 8.59375 20.453125 8.59375 31.390625 \nQ 8.59375 42.28125 12.203125 53.3125 \nQ 15.828125 64.359375 23.1875 75.875 \nz\n\" id=\"DejaVuSans-40\"/>\n     <path d=\"M 9.421875 54.6875 \nL 18.40625 54.6875 \nL 18.40625 0 \nL 9.421875 0 \nz\nM 9.421875 75.984375 \nL 18.40625 75.984375 \nL 18.40625 64.59375 \nL 9.421875 64.59375 \nz\n\" id=\"DejaVuSans-105\"/>\n     <path d=\"M 41.109375 46.296875 \nQ 39.59375 47.171875 37.8125 47.578125 \nQ 36.03125 48 33.890625 48 \nQ 26.265625 48 22.1875 43.046875 \nQ 18.109375 38.09375 18.109375 28.8125 \nL 18.109375 0 \nL 9.078125 0 \nL 9.078125 54.6875 \nL 18.109375 54.6875 \nL 18.109375 46.1875 \nQ 20.953125 51.171875 25.484375 53.578125 \nQ 30.03125 56 36.53125 56 \nQ 37.453125 56 38.578125 55.875 \nQ 39.703125 55.765625 41.0625 55.515625 \nz\n\" id=\"DejaVuSans-114\"/>\n     <path d=\"M 32.171875 -5.078125 \nQ 28.375 -14.84375 24.75 -17.8125 \nQ 21.140625 -20.796875 15.09375 -20.796875 \nL 7.90625 -20.796875 \nL 7.90625 -13.28125 \nL 13.1875 -13.28125 \nQ 16.890625 -13.28125 18.9375 -11.515625 \nQ 21 -9.765625 23.484375 -3.21875 \nL 25.09375 0.875 \nL 2.984375 54.6875 \nL 12.5 54.6875 \nL 29.59375 11.921875 \nL 46.6875 54.6875 \nL 56.203125 54.6875 \nz\n\" id=\"DejaVuSans-121\"/>\n     <path d=\"M 8.015625 75.875 \nL 15.828125 75.875 \nQ 23.140625 64.359375 26.78125 53.3125 \nQ 30.421875 42.28125 30.421875 31.390625 \nQ 30.421875 20.453125 26.78125 9.375 \nQ 23.140625 -1.703125 15.828125 -13.1875 \nL 8.015625 -13.1875 \nQ 14.5 -2 17.703125 9.0625 \nQ 20.90625 20.125 20.90625 31.390625 \nQ 20.90625 42.671875 17.703125 53.65625 \nQ 14.5 64.65625 8.015625 75.875 \nz\n\" id=\"DejaVuSans-41\"/>\n    </defs>\n    <g transform=\"translate(120.367445 16.318125)scale(0.12 -0.12)\">\n     <use xlink:href=\"#DejaVuSans-84\"/>\n     <use x=\"44.083984\" xlink:href=\"#DejaVuSans-101\"/>\n     <use x=\"105.607422\" xlink:href=\"#DejaVuSans-115\"/>\n     <use x=\"157.707031\" xlink:href=\"#DejaVuSans-116\"/>\n     <use x=\"196.916016\" xlink:href=\"#DejaVuSans-32\"/>\n     <use x=\"228.703125\" xlink:href=\"#DejaVuSans-77\"/>\n     <use x=\"314.982422\" xlink:href=\"#DejaVuSans-83\"/>\n     <use x=\"378.458984\" xlink:href=\"#DejaVuSans-69\"/>\n     <use x=\"441.642578\" xlink:href=\"#DejaVuSans-32\"/>\n     <use x=\"473.429688\" xlink:href=\"#DejaVuSans-40\"/>\n     <use x=\"512.443359\" xlink:href=\"#DejaVuSans-77\"/>\n     <use x=\"598.722656\" xlink:href=\"#DejaVuSans-105\"/>\n     <use x=\"626.505859\" xlink:href=\"#DejaVuSans-110\"/>\n     <use x=\"689.884766\" xlink:href=\"#DejaVuSans-111\"/>\n     <use x=\"751.066406\" xlink:href=\"#DejaVuSans-114\"/>\n     <use x=\"792.179688\" xlink:href=\"#DejaVuSans-105\"/>\n     <use x=\"819.962891\" xlink:href=\"#DejaVuSans-116\"/>\n     <use x=\"859.171875\" xlink:href=\"#DejaVuSans-121\"/>\n     <use x=\"918.351562\" xlink:href=\"#DejaVuSans-41\"/>\n    </g>\n   </g>\n  </g>\n  <g id=\"axes_2\">\n   <g id=\"patch_7\">\n    <path d=\"M 384.597243 294.118125 \nL 680.009007 294.118125 \nL 680.009007 22.318125 \nL 384.597243 22.318125 \nz\n\" style=\"fill:#ffffff;\"/>\n   </g>\n   <g id=\"matplotlib.axis_3\">\n    <g id=\"xtick_51\">\n     <g id=\"line2d_70\">\n      <g>\n       <use style=\"stroke:#000000;stroke-width:0.8;\" x=\"398.02505\" xlink:href=\"#m5c8a8a390e\" y=\"294.118125\"/>\n      </g>\n     </g>\n     <g id=\"text_16\">\n      <!-- $\\mathdefault{10^{0}}$ -->\n      <g transform=\"translate(389.22505 308.716563)scale(0.1 -0.1)\">\n       <use transform=\"translate(0 0.765625)\" xlink:href=\"#DejaVuSans-49\"/>\n       <use transform=\"translate(63.623047 0.765625)\" xlink:href=\"#DejaVuSans-48\"/>\n       <use transform=\"translate(128.203125 39.046875)scale(0.7)\" xlink:href=\"#DejaVuSans-48\"/>\n      </g>\n     </g>\n    </g>\n    <g id=\"xtick_52\">\n     <g id=\"line2d_71\">\n      <g>\n       <use style=\"stroke:#000000;stroke-width:0.8;\" x=\"453.782814\" xlink:href=\"#m5c8a8a390e\" y=\"294.118125\"/>\n      </g>\n     </g>\n     <g id=\"text_17\">\n      <!-- $\\mathdefault{10^{1}}$ -->\n      <g transform=\"translate(444.982814 308.716563)scale(0.1 -0.1)\">\n       <use transform=\"translate(0 0.684375)\" xlink:href=\"#DejaVuSans-49\"/>\n       <use transform=\"translate(63.623047 0.684375)\" xlink:href=\"#DejaVuSans-48\"/>\n       <use transform=\"translate(128.203125 38.965625)scale(0.7)\" xlink:href=\"#DejaVuSans-49\"/>\n      </g>\n     </g>\n    </g>\n    <g id=\"xtick_53\">\n     <g id=\"line2d_72\">\n      <g>\n       <use style=\"stroke:#000000;stroke-width:0.8;\" x=\"509.540577\" xlink:href=\"#m5c8a8a390e\" y=\"294.118125\"/>\n      </g>\n     </g>\n     <g id=\"text_18\">\n      <!-- $\\mathdefault{10^{2}}$ -->\n      <g transform=\"translate(500.740577 308.716563)scale(0.1 -0.1)\">\n       <use transform=\"translate(0 0.765625)\" xlink:href=\"#DejaVuSans-49\"/>\n       <use transform=\"translate(63.623047 0.765625)\" xlink:href=\"#DejaVuSans-48\"/>\n       <use transform=\"translate(128.203125 39.046875)scale(0.7)\" xlink:href=\"#DejaVuSans-50\"/>\n      </g>\n     </g>\n    </g>\n    <g id=\"xtick_54\">\n     <g id=\"line2d_73\">\n      <g>\n       <use style=\"stroke:#000000;stroke-width:0.8;\" x=\"565.298341\" xlink:href=\"#m5c8a8a390e\" y=\"294.118125\"/>\n      </g>\n     </g>\n     <g id=\"text_19\">\n      <!-- $\\mathdefault{10^{3}}$ -->\n      <g transform=\"translate(556.498341 308.716563)scale(0.1 -0.1)\">\n       <use transform=\"translate(0 0.765625)\" xlink:href=\"#DejaVuSans-49\"/>\n       <use transform=\"translate(63.623047 0.765625)\" xlink:href=\"#DejaVuSans-48\"/>\n       <use transform=\"translate(128.203125 39.046875)scale(0.7)\" xlink:href=\"#DejaVuSans-51\"/>\n      </g>\n     </g>\n    </g>\n    <g id=\"xtick_55\">\n     <g id=\"line2d_74\">\n      <g>\n       <use style=\"stroke:#000000;stroke-width:0.8;\" x=\"621.056105\" xlink:href=\"#m5c8a8a390e\" y=\"294.118125\"/>\n      </g>\n     </g>\n     <g id=\"text_20\">\n      <!-- $\\mathdefault{10^{4}}$ -->\n      <g transform=\"translate(612.256105 308.716563)scale(0.1 -0.1)\">\n       <use transform=\"translate(0 0.684375)\" xlink:href=\"#DejaVuSans-49\"/>\n       <use transform=\"translate(63.623047 0.684375)\" xlink:href=\"#DejaVuSans-48\"/>\n       <use transform=\"translate(128.203125 38.965625)scale(0.7)\" xlink:href=\"#DejaVuSans-52\"/>\n      </g>\n     </g>\n    </g>\n    <g id=\"xtick_56\">\n     <g id=\"line2d_75\">\n      <g>\n       <use style=\"stroke:#000000;stroke-width:0.8;\" x=\"676.813869\" xlink:href=\"#m5c8a8a390e\" y=\"294.118125\"/>\n      </g>\n     </g>\n     <g id=\"text_21\">\n      <!-- $\\mathdefault{10^{5}}$ -->\n      <g transform=\"translate(668.013869 308.716563)scale(0.1 -0.1)\">\n       <use transform=\"translate(0 0.684375)\" xlink:href=\"#DejaVuSans-49\"/>\n       <use transform=\"translate(63.623047 0.684375)\" xlink:href=\"#DejaVuSans-48\"/>\n       <use transform=\"translate(128.203125 38.965625)scale(0.7)\" xlink:href=\"#DejaVuSans-53\"/>\n      </g>\n     </g>\n    </g>\n    <g id=\"xtick_57\">\n     <g id=\"line2d_76\">\n      <g>\n       <use style=\"stroke:#000000;stroke-width:0.6;\" x=\"385.65526\" xlink:href=\"#m0d7b11006f\" y=\"294.118125\"/>\n      </g>\n     </g>\n    </g>\n    <g id=\"xtick_58\">\n     <g id=\"line2d_77\">\n      <g>\n       <use style=\"stroke:#000000;stroke-width:0.6;\" x=\"389.388063\" xlink:href=\"#m0d7b11006f\" y=\"294.118125\"/>\n      </g>\n     </g>\n    </g>\n    <g id=\"xtick_59\">\n     <g id=\"line2d_78\">\n      <g>\n       <use style=\"stroke:#000000;stroke-width:0.6;\" x=\"392.621565\" xlink:href=\"#m0d7b11006f\" y=\"294.118125\"/>\n      </g>\n     </g>\n    </g>\n    <g id=\"xtick_60\">\n     <g id=\"line2d_79\">\n      <g>\n       <use style=\"stroke:#000000;stroke-width:0.6;\" x=\"395.473715\" xlink:href=\"#m0d7b11006f\" y=\"294.118125\"/>\n      </g>\n     </g>\n    </g>\n    <g id=\"xtick_61\">\n     <g id=\"line2d_80\">\n      <g>\n       <use style=\"stroke:#000000;stroke-width:0.6;\" x=\"414.809809\" xlink:href=\"#m0d7b11006f\" y=\"294.118125\"/>\n      </g>\n     </g>\n    </g>\n    <g id=\"xtick_62\">\n     <g id=\"line2d_81\">\n      <g>\n       <use style=\"stroke:#000000;stroke-width:0.6;\" x=\"424.628264\" xlink:href=\"#m0d7b11006f\" y=\"294.118125\"/>\n      </g>\n     </g>\n    </g>\n    <g id=\"xtick_63\">\n     <g id=\"line2d_82\">\n      <g>\n       <use style=\"stroke:#000000;stroke-width:0.6;\" x=\"431.594569\" xlink:href=\"#m0d7b11006f\" y=\"294.118125\"/>\n      </g>\n     </g>\n    </g>\n    <g id=\"xtick_64\">\n     <g id=\"line2d_83\">\n      <g>\n       <use style=\"stroke:#000000;stroke-width:0.6;\" x=\"436.998054\" xlink:href=\"#m0d7b11006f\" y=\"294.118125\"/>\n      </g>\n     </g>\n    </g>\n    <g id=\"xtick_65\">\n     <g id=\"line2d_84\">\n      <g>\n       <use style=\"stroke:#000000;stroke-width:0.6;\" x=\"441.413024\" xlink:href=\"#m0d7b11006f\" y=\"294.118125\"/>\n      </g>\n     </g>\n    </g>\n    <g id=\"xtick_66\">\n     <g id=\"line2d_85\">\n      <g>\n       <use style=\"stroke:#000000;stroke-width:0.6;\" x=\"445.145827\" xlink:href=\"#m0d7b11006f\" y=\"294.118125\"/>\n      </g>\n     </g>\n    </g>\n    <g id=\"xtick_67\">\n     <g id=\"line2d_86\">\n      <g>\n       <use style=\"stroke:#000000;stroke-width:0.6;\" x=\"448.379328\" xlink:href=\"#m0d7b11006f\" y=\"294.118125\"/>\n      </g>\n     </g>\n    </g>\n    <g id=\"xtick_68\">\n     <g id=\"line2d_87\">\n      <g>\n       <use style=\"stroke:#000000;stroke-width:0.6;\" x=\"451.231478\" xlink:href=\"#m0d7b11006f\" y=\"294.118125\"/>\n      </g>\n     </g>\n    </g>\n    <g id=\"xtick_69\">\n     <g id=\"line2d_88\">\n      <g>\n       <use style=\"stroke:#000000;stroke-width:0.6;\" x=\"470.567573\" xlink:href=\"#m0d7b11006f\" y=\"294.118125\"/>\n      </g>\n     </g>\n    </g>\n    <g id=\"xtick_70\">\n     <g id=\"line2d_89\">\n      <g>\n       <use style=\"stroke:#000000;stroke-width:0.6;\" x=\"480.386028\" xlink:href=\"#m0d7b11006f\" y=\"294.118125\"/>\n      </g>\n     </g>\n    </g>\n    <g id=\"xtick_71\">\n     <g id=\"line2d_90\">\n      <g>\n       <use style=\"stroke:#000000;stroke-width:0.6;\" x=\"487.352333\" xlink:href=\"#m0d7b11006f\" y=\"294.118125\"/>\n      </g>\n     </g>\n    </g>\n    <g id=\"xtick_72\">\n     <g id=\"line2d_91\">\n      <g>\n       <use style=\"stroke:#000000;stroke-width:0.6;\" x=\"492.755818\" xlink:href=\"#m0d7b11006f\" y=\"294.118125\"/>\n      </g>\n     </g>\n    </g>\n    <g id=\"xtick_73\">\n     <g id=\"line2d_92\">\n      <g>\n       <use style=\"stroke:#000000;stroke-width:0.6;\" x=\"497.170787\" xlink:href=\"#m0d7b11006f\" y=\"294.118125\"/>\n      </g>\n     </g>\n    </g>\n    <g id=\"xtick_74\">\n     <g id=\"line2d_93\">\n      <g>\n       <use style=\"stroke:#000000;stroke-width:0.6;\" x=\"500.903591\" xlink:href=\"#m0d7b11006f\" y=\"294.118125\"/>\n      </g>\n     </g>\n    </g>\n    <g id=\"xtick_75\">\n     <g id=\"line2d_94\">\n      <g>\n       <use style=\"stroke:#000000;stroke-width:0.6;\" x=\"504.137092\" xlink:href=\"#m0d7b11006f\" y=\"294.118125\"/>\n      </g>\n     </g>\n    </g>\n    <g id=\"xtick_76\">\n     <g id=\"line2d_95\">\n      <g>\n       <use style=\"stroke:#000000;stroke-width:0.6;\" x=\"506.989242\" xlink:href=\"#m0d7b11006f\" y=\"294.118125\"/>\n      </g>\n     </g>\n    </g>\n    <g id=\"xtick_77\">\n     <g id=\"line2d_96\">\n      <g>\n       <use style=\"stroke:#000000;stroke-width:0.6;\" x=\"526.325337\" xlink:href=\"#m0d7b11006f\" y=\"294.118125\"/>\n      </g>\n     </g>\n    </g>\n    <g id=\"xtick_78\">\n     <g id=\"line2d_97\">\n      <g>\n       <use style=\"stroke:#000000;stroke-width:0.6;\" x=\"536.143792\" xlink:href=\"#m0d7b11006f\" y=\"294.118125\"/>\n      </g>\n     </g>\n    </g>\n    <g id=\"xtick_79\">\n     <g id=\"line2d_98\">\n      <g>\n       <use style=\"stroke:#000000;stroke-width:0.6;\" x=\"543.110096\" xlink:href=\"#m0d7b11006f\" y=\"294.118125\"/>\n      </g>\n     </g>\n    </g>\n    <g id=\"xtick_80\">\n     <g id=\"line2d_99\">\n      <g>\n       <use style=\"stroke:#000000;stroke-width:0.6;\" x=\"548.513582\" xlink:href=\"#m0d7b11006f\" y=\"294.118125\"/>\n      </g>\n     </g>\n    </g>\n    <g id=\"xtick_81\">\n     <g id=\"line2d_100\">\n      <g>\n       <use style=\"stroke:#000000;stroke-width:0.6;\" x=\"552.928551\" xlink:href=\"#m0d7b11006f\" y=\"294.118125\"/>\n      </g>\n     </g>\n    </g>\n    <g id=\"xtick_82\">\n     <g id=\"line2d_101\">\n      <g>\n       <use style=\"stroke:#000000;stroke-width:0.6;\" x=\"556.661354\" xlink:href=\"#m0d7b11006f\" y=\"294.118125\"/>\n      </g>\n     </g>\n    </g>\n    <g id=\"xtick_83\">\n     <g id=\"line2d_102\">\n      <g>\n       <use style=\"stroke:#000000;stroke-width:0.6;\" x=\"559.894856\" xlink:href=\"#m0d7b11006f\" y=\"294.118125\"/>\n      </g>\n     </g>\n    </g>\n    <g id=\"xtick_84\">\n     <g id=\"line2d_103\">\n      <g>\n       <use style=\"stroke:#000000;stroke-width:0.6;\" x=\"562.747006\" xlink:href=\"#m0d7b11006f\" y=\"294.118125\"/>\n      </g>\n     </g>\n    </g>\n    <g id=\"xtick_85\">\n     <g id=\"line2d_104\">\n      <g>\n       <use style=\"stroke:#000000;stroke-width:0.6;\" x=\"582.083101\" xlink:href=\"#m0d7b11006f\" y=\"294.118125\"/>\n      </g>\n     </g>\n    </g>\n    <g id=\"xtick_86\">\n     <g id=\"line2d_105\">\n      <g>\n       <use style=\"stroke:#000000;stroke-width:0.6;\" x=\"591.901555\" xlink:href=\"#m0d7b11006f\" y=\"294.118125\"/>\n      </g>\n     </g>\n    </g>\n    <g id=\"xtick_87\">\n     <g id=\"line2d_106\">\n      <g>\n       <use style=\"stroke:#000000;stroke-width:0.6;\" x=\"598.86786\" xlink:href=\"#m0d7b11006f\" y=\"294.118125\"/>\n      </g>\n     </g>\n    </g>\n    <g id=\"xtick_88\">\n     <g id=\"line2d_107\">\n      <g>\n       <use style=\"stroke:#000000;stroke-width:0.6;\" x=\"604.271345\" xlink:href=\"#m0d7b11006f\" y=\"294.118125\"/>\n      </g>\n     </g>\n    </g>\n    <g id=\"xtick_89\">\n     <g id=\"line2d_108\">\n      <g>\n       <use style=\"stroke:#000000;stroke-width:0.6;\" x=\"608.686315\" xlink:href=\"#m0d7b11006f\" y=\"294.118125\"/>\n      </g>\n     </g>\n    </g>\n    <g id=\"xtick_90\">\n     <g id=\"line2d_109\">\n      <g>\n       <use style=\"stroke:#000000;stroke-width:0.6;\" x=\"612.419118\" xlink:href=\"#m0d7b11006f\" y=\"294.118125\"/>\n      </g>\n     </g>\n    </g>\n    <g id=\"xtick_91\">\n     <g id=\"line2d_110\">\n      <g>\n       <use style=\"stroke:#000000;stroke-width:0.6;\" x=\"615.652619\" xlink:href=\"#m0d7b11006f\" y=\"294.118125\"/>\n      </g>\n     </g>\n    </g>\n    <g id=\"xtick_92\">\n     <g id=\"line2d_111\">\n      <g>\n       <use style=\"stroke:#000000;stroke-width:0.6;\" x=\"618.50477\" xlink:href=\"#m0d7b11006f\" y=\"294.118125\"/>\n      </g>\n     </g>\n    </g>\n    <g id=\"xtick_93\">\n     <g id=\"line2d_112\">\n      <g>\n       <use style=\"stroke:#000000;stroke-width:0.6;\" x=\"637.840864\" xlink:href=\"#m0d7b11006f\" y=\"294.118125\"/>\n      </g>\n     </g>\n    </g>\n    <g id=\"xtick_94\">\n     <g id=\"line2d_113\">\n      <g>\n       <use style=\"stroke:#000000;stroke-width:0.6;\" x=\"647.659319\" xlink:href=\"#m0d7b11006f\" y=\"294.118125\"/>\n      </g>\n     </g>\n    </g>\n    <g id=\"xtick_95\">\n     <g id=\"line2d_114\">\n      <g>\n       <use style=\"stroke:#000000;stroke-width:0.6;\" x=\"654.625624\" xlink:href=\"#m0d7b11006f\" y=\"294.118125\"/>\n      </g>\n     </g>\n    </g>\n    <g id=\"xtick_96\">\n     <g id=\"line2d_115\">\n      <g>\n       <use style=\"stroke:#000000;stroke-width:0.6;\" x=\"660.029109\" xlink:href=\"#m0d7b11006f\" y=\"294.118125\"/>\n      </g>\n     </g>\n    </g>\n    <g id=\"xtick_97\">\n     <g id=\"line2d_116\">\n      <g>\n       <use style=\"stroke:#000000;stroke-width:0.6;\" x=\"664.444078\" xlink:href=\"#m0d7b11006f\" y=\"294.118125\"/>\n      </g>\n     </g>\n    </g>\n    <g id=\"xtick_98\">\n     <g id=\"line2d_117\">\n      <g>\n       <use style=\"stroke:#000000;stroke-width:0.6;\" x=\"668.176882\" xlink:href=\"#m0d7b11006f\" y=\"294.118125\"/>\n      </g>\n     </g>\n    </g>\n    <g id=\"xtick_99\">\n     <g id=\"line2d_118\">\n      <g>\n       <use style=\"stroke:#000000;stroke-width:0.6;\" x=\"671.410383\" xlink:href=\"#m0d7b11006f\" y=\"294.118125\"/>\n      </g>\n     </g>\n    </g>\n    <g id=\"xtick_100\">\n     <g id=\"line2d_119\">\n      <g>\n       <use style=\"stroke:#000000;stroke-width:0.6;\" x=\"674.262533\" xlink:href=\"#m0d7b11006f\" y=\"294.118125\"/>\n      </g>\n     </g>\n    </g>\n    <g id=\"text_22\">\n     <!-- nodes -->\n     <g transform=\"translate(517.219531 322.394687)scale(0.1 -0.1)\">\n      <use xlink:href=\"#DejaVuSans-110\"/>\n      <use x=\"63.378906\" xlink:href=\"#DejaVuSans-111\"/>\n      <use x=\"124.560547\" xlink:href=\"#DejaVuSans-100\"/>\n      <use x=\"188.037109\" xlink:href=\"#DejaVuSans-101\"/>\n      <use x=\"249.560547\" xlink:href=\"#DejaVuSans-115\"/>\n     </g>\n    </g>\n   </g>\n   <g id=\"matplotlib.axis_4\">\n    <g id=\"ytick_8\">\n     <g id=\"line2d_120\">\n      <g>\n       <use style=\"stroke:#000000;stroke-width:0.8;\" x=\"384.597243\" xlink:href=\"#m02b17f71da\" y=\"278.590858\"/>\n      </g>\n     </g>\n     <g id=\"text_23\">\n      <!-- 0.0 -->\n      <g transform=\"translate(361.694118 282.390076)scale(0.1 -0.1)\">\n       <use xlink:href=\"#DejaVuSans-48\"/>\n       <use x=\"63.623047\" xlink:href=\"#DejaVuSans-46\"/>\n       <use x=\"95.410156\" xlink:href=\"#DejaVuSans-48\"/>\n      </g>\n     </g>\n    </g>\n    <g id=\"ytick_9\">\n     <g id=\"line2d_121\">\n      <g>\n       <use style=\"stroke:#000000;stroke-width:0.8;\" x=\"384.597243\" xlink:href=\"#m02b17f71da\" y=\"228.540035\"/>\n      </g>\n     </g>\n     <g id=\"text_24\">\n      <!-- 0.2 -->\n      <g transform=\"translate(361.694118 232.339254)scale(0.1 -0.1)\">\n       <use xlink:href=\"#DejaVuSans-48\"/>\n       <use x=\"63.623047\" xlink:href=\"#DejaVuSans-46\"/>\n       <use x=\"95.410156\" xlink:href=\"#DejaVuSans-50\"/>\n      </g>\n     </g>\n    </g>\n    <g id=\"ytick_10\">\n     <g id=\"line2d_122\">\n      <g>\n       <use style=\"stroke:#000000;stroke-width:0.8;\" x=\"384.597243\" xlink:href=\"#m02b17f71da\" y=\"178.489212\"/>\n      </g>\n     </g>\n     <g id=\"text_25\">\n      <!-- 0.4 -->\n      <g transform=\"translate(361.694118 182.288431)scale(0.1 -0.1)\">\n       <use xlink:href=\"#DejaVuSans-48\"/>\n       <use x=\"63.623047\" xlink:href=\"#DejaVuSans-46\"/>\n       <use x=\"95.410156\" xlink:href=\"#DejaVuSans-52\"/>\n      </g>\n     </g>\n    </g>\n    <g id=\"ytick_11\">\n     <g id=\"line2d_123\">\n      <g>\n       <use style=\"stroke:#000000;stroke-width:0.8;\" x=\"384.597243\" xlink:href=\"#m02b17f71da\" y=\"128.438389\"/>\n      </g>\n     </g>\n     <g id=\"text_26\">\n      <!-- 0.6 -->\n      <g transform=\"translate(361.694118 132.237608)scale(0.1 -0.1)\">\n       <use xlink:href=\"#DejaVuSans-48\"/>\n       <use x=\"63.623047\" xlink:href=\"#DejaVuSans-46\"/>\n       <use x=\"95.410156\" xlink:href=\"#DejaVuSans-54\"/>\n      </g>\n     </g>\n    </g>\n    <g id=\"ytick_12\">\n     <g id=\"line2d_124\">\n      <g>\n       <use style=\"stroke:#000000;stroke-width:0.8;\" x=\"384.597243\" xlink:href=\"#m02b17f71da\" y=\"78.387566\"/>\n      </g>\n     </g>\n     <g id=\"text_27\">\n      <!-- 0.8 -->\n      <g transform=\"translate(361.694118 82.186785)scale(0.1 -0.1)\">\n       <use xlink:href=\"#DejaVuSans-48\"/>\n       <use x=\"63.623047\" xlink:href=\"#DejaVuSans-46\"/>\n       <use x=\"95.410156\" xlink:href=\"#DejaVuSans-56\"/>\n      </g>\n     </g>\n    </g>\n    <g id=\"ytick_13\">\n     <g id=\"line2d_125\">\n      <g>\n       <use style=\"stroke:#000000;stroke-width:0.8;\" x=\"384.597243\" xlink:href=\"#m02b17f71da\" y=\"28.336744\"/>\n      </g>\n     </g>\n     <g id=\"text_28\">\n      <!-- 1.0 -->\n      <g transform=\"translate(361.694118 32.135962)scale(0.1 -0.1)\">\n       <use xlink:href=\"#DejaVuSans-49\"/>\n       <use x=\"63.623047\" xlink:href=\"#DejaVuSans-46\"/>\n       <use x=\"95.410156\" xlink:href=\"#DejaVuSans-48\"/>\n      </g>\n     </g>\n    </g>\n   </g>\n   <g id=\"LineCollection_7\">\n    <path clip-path=\"url(#pb7a24964f7)\" d=\"M 398.02505 145.677116 \nL 398.02505 34.67267 \n\" style=\"fill:none;stroke:#1f77b4;stroke-width:1.5;\"/>\n    <path clip-path=\"url(#pb7a24964f7)\" d=\"M 414.809809 173.140667 \nL 414.809809 67.359651 \n\" style=\"fill:none;stroke:#1f77b4;stroke-width:1.5;\"/>\n    <path clip-path=\"url(#pb7a24964f7)\" d=\"M 431.594569 206.20275 \nL 431.594569 125.131035 \n\" style=\"fill:none;stroke:#1f77b4;stroke-width:1.5;\"/>\n    <path clip-path=\"url(#pb7a24964f7)\" d=\"M 448.379328 226.268479 \nL 448.379328 178.891703 \n\" style=\"fill:none;stroke:#1f77b4;stroke-width:1.5;\"/>\n    <path clip-path=\"url(#pb7a24964f7)\" d=\"M 465.164088 240.458141 \nL 465.164088 217.247591 \n\" style=\"fill:none;stroke:#1f77b4;stroke-width:1.5;\"/>\n    <path clip-path=\"url(#pb7a24964f7)\" d=\"M 481.948847 251.662672 \nL 481.948847 239.376191 \n\" style=\"fill:none;stroke:#1f77b4;stroke-width:1.5;\"/>\n    <path clip-path=\"url(#pb7a24964f7)\" d=\"M 498.733606 258.863585 \nL 498.733606 251.887187 \n\" style=\"fill:none;stroke:#1f77b4;stroke-width:1.5;\"/>\n    <path clip-path=\"url(#pb7a24964f7)\" d=\"M 515.518366 263.367686 \nL 515.518366 258.98556 \n\" style=\"fill:none;stroke:#1f77b4;stroke-width:1.5;\"/>\n    <path clip-path=\"url(#pb7a24964f7)\" d=\"M 532.303125 265.956782 \nL 532.303125 262.554606 \n\" style=\"fill:none;stroke:#1f77b4;stroke-width:1.5;\"/>\n    <path clip-path=\"url(#pb7a24964f7)\" d=\"M 549.087884 267.27081 \nL 549.087884 264.62287 \n\" style=\"fill:none;stroke:#1f77b4;stroke-width:1.5;\"/>\n    <path clip-path=\"url(#pb7a24964f7)\" d=\"M 565.872644 267.960796 \nL 565.872644 265.536491 \n\" style=\"fill:none;stroke:#1f77b4;stroke-width:1.5;\"/>\n    <path clip-path=\"url(#pb7a24964f7)\" d=\"M 582.657403 268.33295 \nL 582.657403 266.102868 \n\" style=\"fill:none;stroke:#1f77b4;stroke-width:1.5;\"/>\n    <path clip-path=\"url(#pb7a24964f7)\" d=\"M 599.442162 268.510419 \nL 599.442162 266.354249 \n\" style=\"fill:none;stroke:#1f77b4;stroke-width:1.5;\"/>\n    <path clip-path=\"url(#pb7a24964f7)\" d=\"M 616.226922 268.611753 \nL 616.226922 266.47587 \n\" style=\"fill:none;stroke:#1f77b4;stroke-width:1.5;\"/>\n    <path clip-path=\"url(#pb7a24964f7)\" d=\"M 633.011681 268.647705 \nL 633.011681 266.537897 \n\" style=\"fill:none;stroke:#1f77b4;stroke-width:1.5;\"/>\n    <path clip-path=\"url(#pb7a24964f7)\" d=\"M 649.796441 268.679558 \nL 649.796441 266.564523 \n\" style=\"fill:none;stroke:#1f77b4;stroke-width:1.5;\"/>\n    <path clip-path=\"url(#pb7a24964f7)\" d=\"M 666.5812 268.688205 \nL 666.5812 266.596932 \n\" style=\"fill:none;stroke:#1f77b4;stroke-width:1.5;\"/>\n   </g>\n   <g id=\"LineCollection_8\">\n    <path clip-path=\"url(#pb7a24964f7)\" d=\"M 398.02505 208.973666 \nL 398.02505 73.233623 \n\" style=\"fill:none;stroke:#ff7f0e;stroke-width:1.5;\"/>\n    <path clip-path=\"url(#pb7a24964f7)\" d=\"M 414.809809 231.855444 \nL 414.809809 133.012963 \n\" style=\"fill:none;stroke:#ff7f0e;stroke-width:1.5;\"/>\n    <path clip-path=\"url(#pb7a24964f7)\" d=\"M 431.594569 240.28228 \nL 431.594569 191.805418 \n\" style=\"fill:none;stroke:#ff7f0e;stroke-width:1.5;\"/>\n    <path clip-path=\"url(#pb7a24964f7)\" d=\"M 448.379328 246.581674 \nL 448.379328 225.269253 \n\" style=\"fill:none;stroke:#ff7f0e;stroke-width:1.5;\"/>\n    <path clip-path=\"url(#pb7a24964f7)\" d=\"M 465.164088 253.598467 \nL 465.164088 241.144755 \n\" style=\"fill:none;stroke:#ff7f0e;stroke-width:1.5;\"/>\n    <path clip-path=\"url(#pb7a24964f7)\" d=\"M 481.948847 259.057945 \nL 481.948847 251.929271 \n\" style=\"fill:none;stroke:#ff7f0e;stroke-width:1.5;\"/>\n    <path clip-path=\"url(#pb7a24964f7)\" d=\"M 498.733606 263.341317 \nL 498.733606 258.991069 \n\" style=\"fill:none;stroke:#ff7f0e;stroke-width:1.5;\"/>\n    <path clip-path=\"url(#pb7a24964f7)\" d=\"M 515.518366 265.948162 \nL 515.518366 263.387706 \n\" style=\"fill:none;stroke:#ff7f0e;stroke-width:1.5;\"/>\n    <path clip-path=\"url(#pb7a24964f7)\" d=\"M 532.303125 267.543172 \nL 532.303125 265.538377 \n\" style=\"fill:none;stroke:#ff7f0e;stroke-width:1.5;\"/>\n    <path clip-path=\"url(#pb7a24964f7)\" d=\"M 549.087884 268.384388 \nL 549.087884 266.788527 \n\" style=\"fill:none;stroke:#ff7f0e;stroke-width:1.5;\"/>\n    <path clip-path=\"url(#pb7a24964f7)\" d=\"M 565.872644 268.825512 \nL 565.872644 267.412558 \n\" style=\"fill:none;stroke:#ff7f0e;stroke-width:1.5;\"/>\n    <path clip-path=\"url(#pb7a24964f7)\" d=\"M 582.657403 269.057817 \nL 582.657403 267.698503 \n\" style=\"fill:none;stroke:#ff7f0e;stroke-width:1.5;\"/>\n    <path clip-path=\"url(#pb7a24964f7)\" d=\"M 599.442162 269.21268 \nL 599.442162 267.859837 \n\" style=\"fill:none;stroke:#ff7f0e;stroke-width:1.5;\"/>\n    <path clip-path=\"url(#pb7a24964f7)\" d=\"M 616.226922 269.259552 \nL 616.226922 267.927677 \n\" style=\"fill:none;stroke:#ff7f0e;stroke-width:1.5;\"/>\n    <path clip-path=\"url(#pb7a24964f7)\" d=\"M 633.011681 269.292866 \nL 633.011681 267.964937 \n\" style=\"fill:none;stroke:#ff7f0e;stroke-width:1.5;\"/>\n    <path clip-path=\"url(#pb7a24964f7)\" d=\"M 649.796441 269.302378 \nL 649.796441 267.994164 \n\" style=\"fill:none;stroke:#ff7f0e;stroke-width:1.5;\"/>\n    <path clip-path=\"url(#pb7a24964f7)\" d=\"M 666.5812 269.312541 \nL 666.5812 267.994118 \n\" style=\"fill:none;stroke:#ff7f0e;stroke-width:1.5;\"/>\n   </g>\n   <g id=\"LineCollection_9\">\n    <path clip-path=\"url(#pb7a24964f7)\" d=\"M 398.02505 272.841145 \nL 398.02505 183.483951 \n\" style=\"fill:none;stroke:#2ca02c;stroke-width:1.5;\"/>\n    <path clip-path=\"url(#pb7a24964f7)\" d=\"M 414.809809 263.553976 \nL 414.809809 229.203568 \n\" style=\"fill:none;stroke:#2ca02c;stroke-width:1.5;\"/>\n    <path clip-path=\"url(#pb7a24964f7)\" d=\"M 431.594569 263.28896 \nL 431.594569 242.460747 \n\" style=\"fill:none;stroke:#2ca02c;stroke-width:1.5;\"/>\n    <path clip-path=\"url(#pb7a24964f7)\" d=\"M 448.379328 263.698766 \nL 448.379328 250.205686 \n\" style=\"fill:none;stroke:#2ca02c;stroke-width:1.5;\"/>\n    <path clip-path=\"url(#pb7a24964f7)\" d=\"M 465.164088 263.090017 \nL 465.164088 255.886432 \n\" style=\"fill:none;stroke:#2ca02c;stroke-width:1.5;\"/>\n    <path clip-path=\"url(#pb7a24964f7)\" d=\"M 481.948847 264.629325 \nL 481.948847 260.42742 \n\" style=\"fill:none;stroke:#2ca02c;stroke-width:1.5;\"/>\n    <path clip-path=\"url(#pb7a24964f7)\" d=\"M 498.733606 266.410288 \nL 498.733606 263.459454 \n\" style=\"fill:none;stroke:#2ca02c;stroke-width:1.5;\"/>\n    <path clip-path=\"url(#pb7a24964f7)\" d=\"M 515.518366 267.574547 \nL 515.518366 265.462482 \n\" style=\"fill:none;stroke:#2ca02c;stroke-width:1.5;\"/>\n    <path clip-path=\"url(#pb7a24964f7)\" d=\"M 532.303125 268.357846 \nL 532.303125 266.602391 \n\" style=\"fill:none;stroke:#2ca02c;stroke-width:1.5;\"/>\n    <path clip-path=\"url(#pb7a24964f7)\" d=\"M 549.087884 268.769744 \nL 549.087884 267.158246 \n\" style=\"fill:none;stroke:#2ca02c;stroke-width:1.5;\"/>\n    <path clip-path=\"url(#pb7a24964f7)\" d=\"M 565.872644 269.003732 \nL 565.872644 267.397041 \n\" style=\"fill:none;stroke:#2ca02c;stroke-width:1.5;\"/>\n    <path clip-path=\"url(#pb7a24964f7)\" d=\"M 582.657403 269.10422 \nL 582.657403 267.528898 \n\" style=\"fill:none;stroke:#2ca02c;stroke-width:1.5;\"/>\n    <path clip-path=\"url(#pb7a24964f7)\" d=\"M 599.442162 269.164855 \nL 599.442162 267.604059 \n\" style=\"fill:none;stroke:#2ca02c;stroke-width:1.5;\"/>\n    <path clip-path=\"url(#pb7a24964f7)\" d=\"M 616.226922 269.200798 \nL 616.226922 267.642313 \n\" style=\"fill:none;stroke:#2ca02c;stroke-width:1.5;\"/>\n    <path clip-path=\"url(#pb7a24964f7)\" d=\"M 633.011681 269.212563 \nL 633.011681 267.660026 \n\" style=\"fill:none;stroke:#2ca02c;stroke-width:1.5;\"/>\n    <path clip-path=\"url(#pb7a24964f7)\" d=\"M 649.796441 269.225683 \nL 649.796441 267.667173 \n\" style=\"fill:none;stroke:#2ca02c;stroke-width:1.5;\"/>\n    <path clip-path=\"url(#pb7a24964f7)\" d=\"M 666.5812 269.225923 \nL 666.5812 267.674148 \n\" style=\"fill:none;stroke:#2ca02c;stroke-width:1.5;\"/>\n   </g>\n   <g id=\"LineCollection_10\">\n    <path clip-path=\"url(#pb7a24964f7)\" d=\"M 398.02505 281.76358 \nL 398.02505 259.11279 \n\" style=\"fill:none;stroke:#d62728;stroke-width:1.5;\"/>\n    <path clip-path=\"url(#pb7a24964f7)\" d=\"M 414.809809 272.780866 \nL 414.809809 268.590479 \n\" style=\"fill:none;stroke:#d62728;stroke-width:1.5;\"/>\n    <path clip-path=\"url(#pb7a24964f7)\" d=\"M 431.594569 272.582986 \nL 431.594569 268.200342 \n\" style=\"fill:none;stroke:#d62728;stroke-width:1.5;\"/>\n    <path clip-path=\"url(#pb7a24964f7)\" d=\"M 448.379328 271.043383 \nL 448.379328 267.241242 \n\" style=\"fill:none;stroke:#d62728;stroke-width:1.5;\"/>\n    <path clip-path=\"url(#pb7a24964f7)\" d=\"M 465.164088 269.023944 \nL 465.164088 265.798441 \n\" style=\"fill:none;stroke:#d62728;stroke-width:1.5;\"/>\n    <path clip-path=\"url(#pb7a24964f7)\" d=\"M 481.948847 268.186866 \nL 481.948847 265.298313 \n\" style=\"fill:none;stroke:#d62728;stroke-width:1.5;\"/>\n    <path clip-path=\"url(#pb7a24964f7)\" d=\"M 498.733606 268.08453 \nL 498.733606 265.566397 \n\" style=\"fill:none;stroke:#d62728;stroke-width:1.5;\"/>\n    <path clip-path=\"url(#pb7a24964f7)\" d=\"M 515.518366 268.41363 \nL 515.518366 265.974138 \n\" style=\"fill:none;stroke:#d62728;stroke-width:1.5;\"/>\n    <path clip-path=\"url(#pb7a24964f7)\" d=\"M 532.303125 268.664699 \nL 532.303125 266.375807 \n\" style=\"fill:none;stroke:#d62728;stroke-width:1.5;\"/>\n    <path clip-path=\"url(#pb7a24964f7)\" d=\"M 549.087884 268.821041 \nL 549.087884 266.570336 \n\" style=\"fill:none;stroke:#d62728;stroke-width:1.5;\"/>\n    <path clip-path=\"url(#pb7a24964f7)\" d=\"M 565.872644 268.903698 \nL 565.872644 266.672181 \n\" style=\"fill:none;stroke:#d62728;stroke-width:1.5;\"/>\n    <path clip-path=\"url(#pb7a24964f7)\" d=\"M 582.657403 268.943663 \nL 582.657403 266.728645 \n\" style=\"fill:none;stroke:#d62728;stroke-width:1.5;\"/>\n    <path clip-path=\"url(#pb7a24964f7)\" d=\"M 599.442162 268.977065 \nL 599.442162 266.759985 \n\" style=\"fill:none;stroke:#d62728;stroke-width:1.5;\"/>\n    <path clip-path=\"url(#pb7a24964f7)\" d=\"M 616.226922 268.985904 \nL 616.226922 266.776431 \n\" style=\"fill:none;stroke:#d62728;stroke-width:1.5;\"/>\n    <path clip-path=\"url(#pb7a24964f7)\" d=\"M 633.011681 268.98949 \nL 633.011681 266.784183 \n\" style=\"fill:none;stroke:#d62728;stroke-width:1.5;\"/>\n    <path clip-path=\"url(#pb7a24964f7)\" d=\"M 649.796441 268.992438 \nL 649.796441 266.789624 \n\" style=\"fill:none;stroke:#d62728;stroke-width:1.5;\"/>\n    <path clip-path=\"url(#pb7a24964f7)\" d=\"M 666.5812 268.99534 \nL 666.5812 266.788195 \n\" style=\"fill:none;stroke:#d62728;stroke-width:1.5;\"/>\n   </g>\n   <g id=\"LineCollection_11\">\n    <path clip-path=\"url(#pb7a24964f7)\" d=\"M 398.02505 272.78581 \nL 398.02505 270.836192 \n\" style=\"fill:none;stroke:#9467bd;stroke-width:1.5;\"/>\n    <path clip-path=\"url(#pb7a24964f7)\" d=\"M 414.809809 273.403306 \nL 414.809809 270.087459 \n\" style=\"fill:none;stroke:#9467bd;stroke-width:1.5;\"/>\n    <path clip-path=\"url(#pb7a24964f7)\" d=\"M 431.594569 273.424504 \nL 431.594569 269.637368 \n\" style=\"fill:none;stroke:#9467bd;stroke-width:1.5;\"/>\n    <path clip-path=\"url(#pb7a24964f7)\" d=\"M 448.379328 272.010402 \nL 448.379328 268.545096 \n\" style=\"fill:none;stroke:#9467bd;stroke-width:1.5;\"/>\n    <path clip-path=\"url(#pb7a24964f7)\" d=\"M 465.164088 269.860235 \nL 465.164088 266.555905 \n\" style=\"fill:none;stroke:#9467bd;stroke-width:1.5;\"/>\n    <path clip-path=\"url(#pb7a24964f7)\" d=\"M 481.948847 268.631599 \nL 481.948847 265.548896 \n\" style=\"fill:none;stroke:#9467bd;stroke-width:1.5;\"/>\n    <path clip-path=\"url(#pb7a24964f7)\" d=\"M 498.733606 268.485679 \nL 498.733606 265.576421 \n\" style=\"fill:none;stroke:#9467bd;stroke-width:1.5;\"/>\n    <path clip-path=\"url(#pb7a24964f7)\" d=\"M 515.518366 268.695225 \nL 515.518366 265.957379 \n\" style=\"fill:none;stroke:#9467bd;stroke-width:1.5;\"/>\n    <path clip-path=\"url(#pb7a24964f7)\" d=\"M 532.303125 268.925915 \nL 532.303125 266.292211 \n\" style=\"fill:none;stroke:#9467bd;stroke-width:1.5;\"/>\n    <path clip-path=\"url(#pb7a24964f7)\" d=\"M 549.087884 269.062807 \nL 549.087884 266.523719 \n\" style=\"fill:none;stroke:#9467bd;stroke-width:1.5;\"/>\n    <path clip-path=\"url(#pb7a24964f7)\" d=\"M 565.872644 269.148009 \nL 565.872644 266.622722 \n\" style=\"fill:none;stroke:#9467bd;stroke-width:1.5;\"/>\n    <path clip-path=\"url(#pb7a24964f7)\" d=\"M 582.657403 269.198087 \nL 582.657403 266.700612 \n\" style=\"fill:none;stroke:#9467bd;stroke-width:1.5;\"/>\n    <path clip-path=\"url(#pb7a24964f7)\" d=\"M 599.442162 269.219459 \nL 599.442162 266.723784 \n\" style=\"fill:none;stroke:#9467bd;stroke-width:1.5;\"/>\n    <path clip-path=\"url(#pb7a24964f7)\" d=\"M 616.226922 269.226799 \nL 616.226922 266.740902 \n\" style=\"fill:none;stroke:#9467bd;stroke-width:1.5;\"/>\n    <path clip-path=\"url(#pb7a24964f7)\" d=\"M 633.011681 269.23279 \nL 633.011681 266.748526 \n\" style=\"fill:none;stroke:#9467bd;stroke-width:1.5;\"/>\n    <path clip-path=\"url(#pb7a24964f7)\" d=\"M 649.796441 269.234892 \nL 649.796441 266.75479 \n\" style=\"fill:none;stroke:#9467bd;stroke-width:1.5;\"/>\n    <path clip-path=\"url(#pb7a24964f7)\" d=\"M 666.5812 269.236412 \nL 666.5812 266.755406 \n\" style=\"fill:none;stroke:#9467bd;stroke-width:1.5;\"/>\n   </g>\n   <g id=\"LineCollection_12\">\n    <path clip-path=\"url(#pb7a24964f7)\" d=\"M 398.02505 272.826792 \nL 398.02505 271.179055 \n\" style=\"fill:none;stroke:#8c564b;stroke-width:1.5;\"/>\n    <path clip-path=\"url(#pb7a24964f7)\" d=\"M 414.809809 273.621083 \nL 414.809809 270.547026 \n\" style=\"fill:none;stroke:#8c564b;stroke-width:1.5;\"/>\n    <path clip-path=\"url(#pb7a24964f7)\" d=\"M 431.594569 273.499916 \nL 431.594569 270.179495 \n\" style=\"fill:none;stroke:#8c564b;stroke-width:1.5;\"/>\n    <path clip-path=\"url(#pb7a24964f7)\" d=\"M 448.379328 272.300168 \nL 448.379328 268.84814 \n\" style=\"fill:none;stroke:#8c564b;stroke-width:1.5;\"/>\n    <path clip-path=\"url(#pb7a24964f7)\" d=\"M 465.164088 270.156085 \nL 465.164088 266.478746 \n\" style=\"fill:none;stroke:#8c564b;stroke-width:1.5;\"/>\n    <path clip-path=\"url(#pb7a24964f7)\" d=\"M 481.948847 269.060181 \nL 481.948847 265.313576 \n\" style=\"fill:none;stroke:#8c564b;stroke-width:1.5;\"/>\n    <path clip-path=\"url(#pb7a24964f7)\" d=\"M 498.733606 268.976935 \nL 498.733606 265.587917 \n\" style=\"fill:none;stroke:#8c564b;stroke-width:1.5;\"/>\n    <path clip-path=\"url(#pb7a24964f7)\" d=\"M 515.518366 269.217871 \nL 515.518366 266.142469 \n\" style=\"fill:none;stroke:#8c564b;stroke-width:1.5;\"/>\n    <path clip-path=\"url(#pb7a24964f7)\" d=\"M 532.303125 269.462111 \nL 532.303125 266.552167 \n\" style=\"fill:none;stroke:#8c564b;stroke-width:1.5;\"/>\n    <path clip-path=\"url(#pb7a24964f7)\" d=\"M 549.087884 269.632315 \nL 549.087884 266.777067 \n\" style=\"fill:none;stroke:#8c564b;stroke-width:1.5;\"/>\n    <path clip-path=\"url(#pb7a24964f7)\" d=\"M 565.872644 269.713119 \nL 565.872644 266.891667 \n\" style=\"fill:none;stroke:#8c564b;stroke-width:1.5;\"/>\n    <path clip-path=\"url(#pb7a24964f7)\" d=\"M 582.657403 269.760217 \nL 582.657403 266.954565 \n\" style=\"fill:none;stroke:#8c564b;stroke-width:1.5;\"/>\n    <path clip-path=\"url(#pb7a24964f7)\" d=\"M 599.442162 269.783542 \nL 599.442162 266.994721 \n\" style=\"fill:none;stroke:#8c564b;stroke-width:1.5;\"/>\n    <path clip-path=\"url(#pb7a24964f7)\" d=\"M 616.226922 269.79874 \nL 616.226922 267.016456 \n\" style=\"fill:none;stroke:#8c564b;stroke-width:1.5;\"/>\n    <path clip-path=\"url(#pb7a24964f7)\" d=\"M 633.011681 269.801019 \nL 633.011681 267.023637 \n\" style=\"fill:none;stroke:#8c564b;stroke-width:1.5;\"/>\n    <path clip-path=\"url(#pb7a24964f7)\" d=\"M 649.796441 269.803675 \nL 649.796441 267.029483 \n\" style=\"fill:none;stroke:#8c564b;stroke-width:1.5;\"/>\n    <path clip-path=\"url(#pb7a24964f7)\" d=\"M 666.5812 269.803124 \nL 666.5812 267.031301 \n\" style=\"fill:none;stroke:#8c564b;stroke-width:1.5;\"/>\n   </g>\n   <g id=\"line2d_126\">\n    <path clip-path=\"url(#pb7a24964f7)\" d=\"M 398.02505 90.174893 \nL 414.809809 120.250159 \nL 431.594569 165.666893 \nL 448.379328 202.580091 \nL 465.164088 228.852866 \nL 481.948847 245.519431 \nL 498.733606 255.375386 \nL 515.518366 261.176623 \nL 532.303125 264.255694 \nL 549.087884 265.94684 \nL 565.872644 266.748643 \nL 582.657403 267.217909 \nL 599.442162 267.432334 \nL 616.226922 267.543812 \nL 633.011681 267.592801 \nL 649.796441 267.62204 \nL 666.5812 267.642568 \n\" style=\"fill:none;stroke:#0000ff;stroke-linecap:square;stroke-width:1.5;\"/>\n   </g>\n   <g id=\"line2d_127\">\n    <path clip-path=\"url(#pb7a24964f7)\" d=\"M 398.02505 141.103644 \nL 414.809809 182.434204 \nL 431.594569 216.043849 \nL 448.379328 235.925464 \nL 465.164088 247.371611 \nL 481.948847 255.493608 \nL 498.733606 261.166193 \nL 515.518366 264.667934 \nL 532.303125 266.540775 \nL 549.087884 267.586457 \nL 565.872644 268.119035 \nL 582.657403 268.37816 \nL 599.442162 268.536259 \nL 616.226922 268.593615 \nL 633.011681 268.628901 \nL 649.796441 268.648271 \nL 666.5812 268.65333 \n\" style=\"fill:none;stroke:#008000;stroke-linecap:square;stroke-width:1.5;\"/>\n   </g>\n   <g id=\"line2d_128\">\n    <path clip-path=\"url(#pb7a24964f7)\" d=\"M 398.02505 228.162548 \nL 414.809809 246.378772 \nL 431.594569 252.874854 \nL 448.379328 256.952226 \nL 465.164088 259.488224 \nL 481.948847 262.528372 \nL 498.733606 264.934871 \nL 515.518366 266.518514 \nL 532.303125 267.480119 \nL 549.087884 267.963995 \nL 565.872644 268.200386 \nL 582.657403 268.316559 \nL 599.442162 268.384457 \nL 616.226922 268.421556 \nL 633.011681 268.436295 \nL 649.796441 268.446428 \nL 666.5812 268.450035 \n\" style=\"fill:none;stroke:#ff0000;stroke-linecap:square;stroke-width:1.5;\"/>\n   </g>\n   <g id=\"line2d_129\">\n    <path clip-path=\"url(#pb7a24964f7)\" d=\"M 398.02505 270.438185 \nL 414.809809 270.685673 \nL 431.594569 270.391664 \nL 448.379328 269.142313 \nL 465.164088 267.411193 \nL 481.948847 266.74259 \nL 498.733606 266.825464 \nL 515.518366 267.193884 \nL 532.303125 267.520253 \nL 549.087884 267.695689 \nL 565.872644 267.78794 \nL 582.657403 267.836154 \nL 599.442162 267.868525 \nL 616.226922 267.881168 \nL 633.011681 267.886836 \nL 649.796441 267.891031 \nL 666.5812 267.891768 \n\" style=\"fill:none;stroke:#00bfbf;stroke-linecap:square;stroke-width:1.5;\"/>\n   </g>\n   <g id=\"line2d_130\">\n    <path clip-path=\"url(#pb7a24964f7)\" d=\"M 398.02505 271.811001 \nL 414.809809 271.745383 \nL 431.594569 271.530936 \nL 448.379328 270.277749 \nL 465.164088 268.20807 \nL 481.948847 267.090247 \nL 498.733606 267.03105 \nL 515.518366 267.326302 \nL 532.303125 267.609063 \nL 549.087884 267.793263 \nL 565.872644 267.885366 \nL 582.657403 267.94935 \nL 599.442162 267.971621 \nL 616.226922 267.983851 \nL 633.011681 267.990658 \nL 649.796441 267.994841 \nL 666.5812 267.995909 \n\" style=\"fill:none;stroke:#bfbf00;stroke-linecap:square;stroke-width:1.5;\"/>\n   </g>\n   <g id=\"line2d_131\">\n    <path clip-path=\"url(#pb7a24964f7)\" d=\"M 398.02505 272.002923 \nL 414.809809 272.084054 \nL 431.594569 271.839706 \nL 448.379328 270.574154 \nL 465.164088 268.317415 \nL 481.948847 267.186878 \nL 498.733606 267.282426 \nL 515.518366 267.68017 \nL 532.303125 268.007139 \nL 549.087884 268.204691 \nL 565.872644 268.302393 \nL 582.657403 268.357391 \nL 599.442162 268.389132 \nL 616.226922 268.407598 \nL 633.011681 268.412328 \nL 649.796441 268.416579 \nL 666.5812 268.417212 \n\" style=\"fill:none;stroke:#000000;stroke-linecap:square;stroke-width:1.5;\"/>\n   </g>\n   <g id=\"line2d_132\">\n    <path clip-path=\"url(#pb7a24964f7)\" d=\"M 398.02505 90.174893 \nL 414.809809 120.250159 \nL 431.594569 165.666893 \nL 448.379328 202.580091 \nL 465.164088 228.852866 \nL 481.948847 245.519431 \nL 498.733606 255.375386 \nL 515.518366 261.176623 \nL 532.303125 264.255694 \nL 549.087884 265.94684 \nL 565.872644 266.748643 \nL 582.657403 267.217909 \nL 599.442162 267.432334 \nL 616.226922 267.543812 \nL 633.011681 267.592801 \nL 649.796441 267.62204 \nL 666.5812 267.642568 \n\" style=\"fill:none;stroke:#1f77b4;stroke-linecap:square;stroke-width:1.5;\"/>\n   </g>\n   <g id=\"line2d_133\">\n    <path clip-path=\"url(#pb7a24964f7)\" d=\"M 398.02505 141.103644 \nL 414.809809 182.434204 \nL 431.594569 216.043849 \nL 448.379328 235.925464 \nL 465.164088 247.371611 \nL 481.948847 255.493608 \nL 498.733606 261.166193 \nL 515.518366 264.667934 \nL 532.303125 266.540775 \nL 549.087884 267.586457 \nL 565.872644 268.119035 \nL 582.657403 268.37816 \nL 599.442162 268.536259 \nL 616.226922 268.593615 \nL 633.011681 268.628901 \nL 649.796441 268.648271 \nL 666.5812 268.65333 \n\" style=\"fill:none;stroke:#ff7f0e;stroke-linecap:square;stroke-width:1.5;\"/>\n   </g>\n   <g id=\"line2d_134\">\n    <path clip-path=\"url(#pb7a24964f7)\" d=\"M 398.02505 228.162548 \nL 414.809809 246.378772 \nL 431.594569 252.874854 \nL 448.379328 256.952226 \nL 465.164088 259.488224 \nL 481.948847 262.528372 \nL 498.733606 264.934871 \nL 515.518366 266.518514 \nL 532.303125 267.480119 \nL 549.087884 267.963995 \nL 565.872644 268.200386 \nL 582.657403 268.316559 \nL 599.442162 268.384457 \nL 616.226922 268.421556 \nL 633.011681 268.436295 \nL 649.796441 268.446428 \nL 666.5812 268.450035 \n\" style=\"fill:none;stroke:#2ca02c;stroke-linecap:square;stroke-width:1.5;\"/>\n   </g>\n   <g id=\"line2d_135\">\n    <path clip-path=\"url(#pb7a24964f7)\" d=\"M 398.02505 270.438185 \nL 414.809809 270.685673 \nL 431.594569 270.391664 \nL 448.379328 269.142313 \nL 465.164088 267.411193 \nL 481.948847 266.74259 \nL 498.733606 266.825464 \nL 515.518366 267.193884 \nL 532.303125 267.520253 \nL 549.087884 267.695689 \nL 565.872644 267.78794 \nL 582.657403 267.836154 \nL 599.442162 267.868525 \nL 616.226922 267.881168 \nL 633.011681 267.886836 \nL 649.796441 267.891031 \nL 666.5812 267.891768 \n\" style=\"fill:none;stroke:#d62728;stroke-linecap:square;stroke-width:1.5;\"/>\n   </g>\n   <g id=\"line2d_136\">\n    <path clip-path=\"url(#pb7a24964f7)\" d=\"M 398.02505 271.811001 \nL 414.809809 271.745383 \nL 431.594569 271.530936 \nL 448.379328 270.277749 \nL 465.164088 268.20807 \nL 481.948847 267.090247 \nL 498.733606 267.03105 \nL 515.518366 267.326302 \nL 532.303125 267.609063 \nL 549.087884 267.793263 \nL 565.872644 267.885366 \nL 582.657403 267.94935 \nL 599.442162 267.971621 \nL 616.226922 267.983851 \nL 633.011681 267.990658 \nL 649.796441 267.994841 \nL 666.5812 267.995909 \n\" style=\"fill:none;stroke:#9467bd;stroke-linecap:square;stroke-width:1.5;\"/>\n   </g>\n   <g id=\"line2d_137\">\n    <path clip-path=\"url(#pb7a24964f7)\" d=\"M 398.02505 272.002923 \nL 414.809809 272.084054 \nL 431.594569 271.839706 \nL 448.379328 270.574154 \nL 465.164088 268.317415 \nL 481.948847 267.186878 \nL 498.733606 267.282426 \nL 515.518366 267.68017 \nL 532.303125 268.007139 \nL 549.087884 268.204691 \nL 565.872644 268.302393 \nL 582.657403 268.357391 \nL 599.442162 268.389132 \nL 616.226922 268.407598 \nL 633.011681 268.412328 \nL 649.796441 268.416579 \nL 666.5812 268.417212 \n\" style=\"fill:none;stroke:#8c564b;stroke-linecap:square;stroke-width:1.5;\"/>\n   </g>\n   <g id=\"patch_8\">\n    <path d=\"M 384.597243 294.118125 \nL 384.597243 22.318125 \n\" style=\"fill:none;stroke:#000000;stroke-linecap:square;stroke-linejoin:miter;stroke-width:0.8;\"/>\n   </g>\n   <g id=\"patch_9\">\n    <path d=\"M 680.009007 294.118125 \nL 680.009007 22.318125 \n\" style=\"fill:none;stroke:#000000;stroke-linecap:square;stroke-linejoin:miter;stroke-width:0.8;\"/>\n   </g>\n   <g id=\"patch_10\">\n    <path d=\"M 384.597243 294.118125 \nL 680.009007 294.118125 \n\" style=\"fill:none;stroke:#000000;stroke-linecap:square;stroke-linejoin:miter;stroke-width:0.8;\"/>\n   </g>\n   <g id=\"patch_11\">\n    <path d=\"M 384.597243 22.318125 \nL 680.009007 22.318125 \n\" style=\"fill:none;stroke:#000000;stroke-linecap:square;stroke-linejoin:miter;stroke-width:0.8;\"/>\n   </g>\n   <g id=\"text_29\">\n    <!-- Test MSE (Majority) -->\n    <defs>\n     <path d=\"M 34.28125 27.484375 \nQ 23.390625 27.484375 19.1875 25 \nQ 14.984375 22.515625 14.984375 16.5 \nQ 14.984375 11.71875 18.140625 8.90625 \nQ 21.296875 6.109375 26.703125 6.109375 \nQ 34.1875 6.109375 38.703125 11.40625 \nQ 43.21875 16.703125 43.21875 25.484375 \nL 43.21875 27.484375 \nz\nM 52.203125 31.203125 \nL 52.203125 0 \nL 43.21875 0 \nL 43.21875 8.296875 \nQ 40.140625 3.328125 35.546875 0.953125 \nQ 30.953125 -1.421875 24.3125 -1.421875 \nQ 15.921875 -1.421875 10.953125 3.296875 \nQ 6 8.015625 6 15.921875 \nQ 6 25.140625 12.171875 29.828125 \nQ 18.359375 34.515625 30.609375 34.515625 \nL 43.21875 34.515625 \nL 43.21875 35.40625 \nQ 43.21875 41.609375 39.140625 45 \nQ 35.0625 48.390625 27.6875 48.390625 \nQ 23 48.390625 18.546875 47.265625 \nQ 14.109375 46.140625 10.015625 43.890625 \nL 10.015625 52.203125 \nQ 14.9375 54.109375 19.578125 55.046875 \nQ 24.21875 56 28.609375 56 \nQ 40.484375 56 46.34375 49.84375 \nQ 52.203125 43.703125 52.203125 31.203125 \nz\n\" id=\"DejaVuSans-97\"/>\n     <path d=\"M 9.421875 54.6875 \nL 18.40625 54.6875 \nL 18.40625 -0.984375 \nQ 18.40625 -11.421875 14.421875 -16.109375 \nQ 10.453125 -20.796875 1.609375 -20.796875 \nL -1.8125 -20.796875 \nL -1.8125 -13.1875 \nL 0.59375 -13.1875 \nQ 5.71875 -13.1875 7.5625 -10.8125 \nQ 9.421875 -8.453125 9.421875 -0.984375 \nz\nM 9.421875 75.984375 \nL 18.40625 75.984375 \nL 18.40625 64.59375 \nL 9.421875 64.59375 \nz\n\" id=\"DejaVuSans-106\"/>\n    </defs>\n    <g transform=\"translate(474.987187 16.318125)scale(0.12 -0.12)\">\n     <use xlink:href=\"#DejaVuSans-84\"/>\n     <use x=\"44.083984\" xlink:href=\"#DejaVuSans-101\"/>\n     <use x=\"105.607422\" xlink:href=\"#DejaVuSans-115\"/>\n     <use x=\"157.707031\" xlink:href=\"#DejaVuSans-116\"/>\n     <use x=\"196.916016\" xlink:href=\"#DejaVuSans-32\"/>\n     <use x=\"228.703125\" xlink:href=\"#DejaVuSans-77\"/>\n     <use x=\"314.982422\" xlink:href=\"#DejaVuSans-83\"/>\n     <use x=\"378.458984\" xlink:href=\"#DejaVuSans-69\"/>\n     <use x=\"441.642578\" xlink:href=\"#DejaVuSans-32\"/>\n     <use x=\"473.429688\" xlink:href=\"#DejaVuSans-40\"/>\n     <use x=\"512.443359\" xlink:href=\"#DejaVuSans-77\"/>\n     <use x=\"598.722656\" xlink:href=\"#DejaVuSans-97\"/>\n     <use x=\"660.001953\" xlink:href=\"#DejaVuSans-106\"/>\n     <use x=\"687.785156\" xlink:href=\"#DejaVuSans-111\"/>\n     <use x=\"748.966797\" xlink:href=\"#DejaVuSans-114\"/>\n     <use x=\"790.080078\" xlink:href=\"#DejaVuSans-105\"/>\n     <use x=\"817.863281\" xlink:href=\"#DejaVuSans-116\"/>\n     <use x=\"857.072266\" xlink:href=\"#DejaVuSans-121\"/>\n     <use x=\"916.251953\" xlink:href=\"#DejaVuSans-41\"/>\n    </g>\n   </g>\n  </g>\n  <g id=\"axes_3\">\n   <g id=\"patch_12\">\n    <path d=\"M 739.09136 294.118125 \nL 1034.503125 294.118125 \nL 1034.503125 22.318125 \nL 739.09136 22.318125 \nz\n\" style=\"fill:#ffffff;\"/>\n   </g>\n   <g id=\"matplotlib.axis_5\">\n    <g id=\"xtick_101\">\n     <g id=\"line2d_138\">\n      <g>\n       <use style=\"stroke:#000000;stroke-width:0.8;\" x=\"752.519168\" xlink:href=\"#m5c8a8a390e\" y=\"294.118125\"/>\n      </g>\n     </g>\n     <g id=\"text_30\">\n      <!-- $\\mathdefault{10^{0}}$ -->\n      <g transform=\"translate(743.719168 308.716563)scale(0.1 -0.1)\">\n       <use transform=\"translate(0 0.765625)\" xlink:href=\"#DejaVuSans-49\"/>\n       <use transform=\"translate(63.623047 0.765625)\" xlink:href=\"#DejaVuSans-48\"/>\n       <use transform=\"translate(128.203125 39.046875)scale(0.7)\" xlink:href=\"#DejaVuSans-48\"/>\n      </g>\n     </g>\n    </g>\n    <g id=\"xtick_102\">\n     <g id=\"line2d_139\">\n      <g>\n       <use style=\"stroke:#000000;stroke-width:0.8;\" x=\"808.276931\" xlink:href=\"#m5c8a8a390e\" y=\"294.118125\"/>\n      </g>\n     </g>\n     <g id=\"text_31\">\n      <!-- $\\mathdefault{10^{1}}$ -->\n      <g transform=\"translate(799.476931 308.716563)scale(0.1 -0.1)\">\n       <use transform=\"translate(0 0.684375)\" xlink:href=\"#DejaVuSans-49\"/>\n       <use transform=\"translate(63.623047 0.684375)\" xlink:href=\"#DejaVuSans-48\"/>\n       <use transform=\"translate(128.203125 38.965625)scale(0.7)\" xlink:href=\"#DejaVuSans-49\"/>\n      </g>\n     </g>\n    </g>\n    <g id=\"xtick_103\">\n     <g id=\"line2d_140\">\n      <g>\n       <use style=\"stroke:#000000;stroke-width:0.8;\" x=\"864.034695\" xlink:href=\"#m5c8a8a390e\" y=\"294.118125\"/>\n      </g>\n     </g>\n     <g id=\"text_32\">\n      <!-- $\\mathdefault{10^{2}}$ -->\n      <g transform=\"translate(855.234695 308.716563)scale(0.1 -0.1)\">\n       <use transform=\"translate(0 0.765625)\" xlink:href=\"#DejaVuSans-49\"/>\n       <use transform=\"translate(63.623047 0.765625)\" xlink:href=\"#DejaVuSans-48\"/>\n       <use transform=\"translate(128.203125 39.046875)scale(0.7)\" xlink:href=\"#DejaVuSans-50\"/>\n      </g>\n     </g>\n    </g>\n    <g id=\"xtick_104\">\n     <g id=\"line2d_141\">\n      <g>\n       <use style=\"stroke:#000000;stroke-width:0.8;\" x=\"919.792459\" xlink:href=\"#m5c8a8a390e\" y=\"294.118125\"/>\n      </g>\n     </g>\n     <g id=\"text_33\">\n      <!-- $\\mathdefault{10^{3}}$ -->\n      <g transform=\"translate(910.992459 308.716563)scale(0.1 -0.1)\">\n       <use transform=\"translate(0 0.765625)\" xlink:href=\"#DejaVuSans-49\"/>\n       <use transform=\"translate(63.623047 0.765625)\" xlink:href=\"#DejaVuSans-48\"/>\n       <use transform=\"translate(128.203125 39.046875)scale(0.7)\" xlink:href=\"#DejaVuSans-51\"/>\n      </g>\n     </g>\n    </g>\n    <g id=\"xtick_105\">\n     <g id=\"line2d_142\">\n      <g>\n       <use style=\"stroke:#000000;stroke-width:0.8;\" x=\"975.550222\" xlink:href=\"#m5c8a8a390e\" y=\"294.118125\"/>\n      </g>\n     </g>\n     <g id=\"text_34\">\n      <!-- $\\mathdefault{10^{4}}$ -->\n      <g transform=\"translate(966.750222 308.716563)scale(0.1 -0.1)\">\n       <use transform=\"translate(0 0.684375)\" xlink:href=\"#DejaVuSans-49\"/>\n       <use transform=\"translate(63.623047 0.684375)\" xlink:href=\"#DejaVuSans-48\"/>\n       <use transform=\"translate(128.203125 38.965625)scale(0.7)\" xlink:href=\"#DejaVuSans-52\"/>\n      </g>\n     </g>\n    </g>\n    <g id=\"xtick_106\">\n     <g id=\"line2d_143\">\n      <g>\n       <use style=\"stroke:#000000;stroke-width:0.8;\" x=\"1031.307986\" xlink:href=\"#m5c8a8a390e\" y=\"294.118125\"/>\n      </g>\n     </g>\n     <g id=\"text_35\">\n      <!-- $\\mathdefault{10^{5}}$ -->\n      <g transform=\"translate(1022.507986 308.716563)scale(0.1 -0.1)\">\n       <use transform=\"translate(0 0.684375)\" xlink:href=\"#DejaVuSans-49\"/>\n       <use transform=\"translate(63.623047 0.684375)\" xlink:href=\"#DejaVuSans-48\"/>\n       <use transform=\"translate(128.203125 38.965625)scale(0.7)\" xlink:href=\"#DejaVuSans-53\"/>\n      </g>\n     </g>\n    </g>\n    <g id=\"xtick_107\">\n     <g id=\"line2d_144\">\n      <g>\n       <use style=\"stroke:#000000;stroke-width:0.6;\" x=\"740.149378\" xlink:href=\"#m0d7b11006f\" y=\"294.118125\"/>\n      </g>\n     </g>\n    </g>\n    <g id=\"xtick_108\">\n     <g id=\"line2d_145\">\n      <g>\n       <use style=\"stroke:#000000;stroke-width:0.6;\" x=\"743.882181\" xlink:href=\"#m0d7b11006f\" y=\"294.118125\"/>\n      </g>\n     </g>\n    </g>\n    <g id=\"xtick_109\">\n     <g id=\"line2d_146\">\n      <g>\n       <use style=\"stroke:#000000;stroke-width:0.6;\" x=\"747.115682\" xlink:href=\"#m0d7b11006f\" y=\"294.118125\"/>\n      </g>\n     </g>\n    </g>\n    <g id=\"xtick_110\">\n     <g id=\"line2d_147\">\n      <g>\n       <use style=\"stroke:#000000;stroke-width:0.6;\" x=\"749.967832\" xlink:href=\"#m0d7b11006f\" y=\"294.118125\"/>\n      </g>\n     </g>\n    </g>\n    <g id=\"xtick_111\">\n     <g id=\"line2d_148\">\n      <g>\n       <use style=\"stroke:#000000;stroke-width:0.6;\" x=\"769.303927\" xlink:href=\"#m0d7b11006f\" y=\"294.118125\"/>\n      </g>\n     </g>\n    </g>\n    <g id=\"xtick_112\">\n     <g id=\"line2d_149\">\n      <g>\n       <use style=\"stroke:#000000;stroke-width:0.6;\" x=\"779.122382\" xlink:href=\"#m0d7b11006f\" y=\"294.118125\"/>\n      </g>\n     </g>\n    </g>\n    <g id=\"xtick_113\">\n     <g id=\"line2d_150\">\n      <g>\n       <use style=\"stroke:#000000;stroke-width:0.6;\" x=\"786.088686\" xlink:href=\"#m0d7b11006f\" y=\"294.118125\"/>\n      </g>\n     </g>\n    </g>\n    <g id=\"xtick_114\">\n     <g id=\"line2d_151\">\n      <g>\n       <use style=\"stroke:#000000;stroke-width:0.6;\" x=\"791.492172\" xlink:href=\"#m0d7b11006f\" y=\"294.118125\"/>\n      </g>\n     </g>\n    </g>\n    <g id=\"xtick_115\">\n     <g id=\"line2d_152\">\n      <g>\n       <use style=\"stroke:#000000;stroke-width:0.6;\" x=\"795.907141\" xlink:href=\"#m0d7b11006f\" y=\"294.118125\"/>\n      </g>\n     </g>\n    </g>\n    <g id=\"xtick_116\">\n     <g id=\"line2d_153\">\n      <g>\n       <use style=\"stroke:#000000;stroke-width:0.6;\" x=\"799.639945\" xlink:href=\"#m0d7b11006f\" y=\"294.118125\"/>\n      </g>\n     </g>\n    </g>\n    <g id=\"xtick_117\">\n     <g id=\"line2d_154\">\n      <g>\n       <use style=\"stroke:#000000;stroke-width:0.6;\" x=\"802.873446\" xlink:href=\"#m0d7b11006f\" y=\"294.118125\"/>\n      </g>\n     </g>\n    </g>\n    <g id=\"xtick_118\">\n     <g id=\"line2d_155\">\n      <g>\n       <use style=\"stroke:#000000;stroke-width:0.6;\" x=\"805.725596\" xlink:href=\"#m0d7b11006f\" y=\"294.118125\"/>\n      </g>\n     </g>\n    </g>\n    <g id=\"xtick_119\">\n     <g id=\"line2d_156\">\n      <g>\n       <use style=\"stroke:#000000;stroke-width:0.6;\" x=\"825.061691\" xlink:href=\"#m0d7b11006f\" y=\"294.118125\"/>\n      </g>\n     </g>\n    </g>\n    <g id=\"xtick_120\">\n     <g id=\"line2d_157\">\n      <g>\n       <use style=\"stroke:#000000;stroke-width:0.6;\" x=\"834.880146\" xlink:href=\"#m0d7b11006f\" y=\"294.118125\"/>\n      </g>\n     </g>\n    </g>\n    <g id=\"xtick_121\">\n     <g id=\"line2d_158\">\n      <g>\n       <use style=\"stroke:#000000;stroke-width:0.6;\" x=\"841.84645\" xlink:href=\"#m0d7b11006f\" y=\"294.118125\"/>\n      </g>\n     </g>\n    </g>\n    <g id=\"xtick_122\">\n     <g id=\"line2d_159\">\n      <g>\n       <use style=\"stroke:#000000;stroke-width:0.6;\" x=\"847.249936\" xlink:href=\"#m0d7b11006f\" y=\"294.118125\"/>\n      </g>\n     </g>\n    </g>\n    <g id=\"xtick_123\">\n     <g id=\"line2d_160\">\n      <g>\n       <use style=\"stroke:#000000;stroke-width:0.6;\" x=\"851.664905\" xlink:href=\"#m0d7b11006f\" y=\"294.118125\"/>\n      </g>\n     </g>\n    </g>\n    <g id=\"xtick_124\">\n     <g id=\"line2d_161\">\n      <g>\n       <use style=\"stroke:#000000;stroke-width:0.6;\" x=\"855.397708\" xlink:href=\"#m0d7b11006f\" y=\"294.118125\"/>\n      </g>\n     </g>\n    </g>\n    <g id=\"xtick_125\">\n     <g id=\"line2d_162\">\n      <g>\n       <use style=\"stroke:#000000;stroke-width:0.6;\" x=\"858.63121\" xlink:href=\"#m0d7b11006f\" y=\"294.118125\"/>\n      </g>\n     </g>\n    </g>\n    <g id=\"xtick_126\">\n     <g id=\"line2d_163\">\n      <g>\n       <use style=\"stroke:#000000;stroke-width:0.6;\" x=\"861.48336\" xlink:href=\"#m0d7b11006f\" y=\"294.118125\"/>\n      </g>\n     </g>\n    </g>\n    <g id=\"xtick_127\">\n     <g id=\"line2d_164\">\n      <g>\n       <use style=\"stroke:#000000;stroke-width:0.6;\" x=\"880.819454\" xlink:href=\"#m0d7b11006f\" y=\"294.118125\"/>\n      </g>\n     </g>\n    </g>\n    <g id=\"xtick_128\">\n     <g id=\"line2d_165\">\n      <g>\n       <use style=\"stroke:#000000;stroke-width:0.6;\" x=\"890.637909\" xlink:href=\"#m0d7b11006f\" y=\"294.118125\"/>\n      </g>\n     </g>\n    </g>\n    <g id=\"xtick_129\">\n     <g id=\"line2d_166\">\n      <g>\n       <use style=\"stroke:#000000;stroke-width:0.6;\" x=\"897.604214\" xlink:href=\"#m0d7b11006f\" y=\"294.118125\"/>\n      </g>\n     </g>\n    </g>\n    <g id=\"xtick_130\">\n     <g id=\"line2d_167\">\n      <g>\n       <use style=\"stroke:#000000;stroke-width:0.6;\" x=\"903.007699\" xlink:href=\"#m0d7b11006f\" y=\"294.118125\"/>\n      </g>\n     </g>\n    </g>\n    <g id=\"xtick_131\">\n     <g id=\"line2d_168\">\n      <g>\n       <use style=\"stroke:#000000;stroke-width:0.6;\" x=\"907.422669\" xlink:href=\"#m0d7b11006f\" y=\"294.118125\"/>\n      </g>\n     </g>\n    </g>\n    <g id=\"xtick_132\">\n     <g id=\"line2d_169\">\n      <g>\n       <use style=\"stroke:#000000;stroke-width:0.6;\" x=\"911.155472\" xlink:href=\"#m0d7b11006f\" y=\"294.118125\"/>\n      </g>\n     </g>\n    </g>\n    <g id=\"xtick_133\">\n     <g id=\"line2d_170\">\n      <g>\n       <use style=\"stroke:#000000;stroke-width:0.6;\" x=\"914.388973\" xlink:href=\"#m0d7b11006f\" y=\"294.118125\"/>\n      </g>\n     </g>\n    </g>\n    <g id=\"xtick_134\">\n     <g id=\"line2d_171\">\n      <g>\n       <use style=\"stroke:#000000;stroke-width:0.6;\" x=\"917.241123\" xlink:href=\"#m0d7b11006f\" y=\"294.118125\"/>\n      </g>\n     </g>\n    </g>\n    <g id=\"xtick_135\">\n     <g id=\"line2d_172\">\n      <g>\n       <use style=\"stroke:#000000;stroke-width:0.6;\" x=\"936.577218\" xlink:href=\"#m0d7b11006f\" y=\"294.118125\"/>\n      </g>\n     </g>\n    </g>\n    <g id=\"xtick_136\">\n     <g id=\"line2d_173\">\n      <g>\n       <use style=\"stroke:#000000;stroke-width:0.6;\" x=\"946.395673\" xlink:href=\"#m0d7b11006f\" y=\"294.118125\"/>\n      </g>\n     </g>\n    </g>\n    <g id=\"xtick_137\">\n     <g id=\"line2d_174\">\n      <g>\n       <use style=\"stroke:#000000;stroke-width:0.6;\" x=\"953.361978\" xlink:href=\"#m0d7b11006f\" y=\"294.118125\"/>\n      </g>\n     </g>\n    </g>\n    <g id=\"xtick_138\">\n     <g id=\"line2d_175\">\n      <g>\n       <use style=\"stroke:#000000;stroke-width:0.6;\" x=\"958.765463\" xlink:href=\"#m0d7b11006f\" y=\"294.118125\"/>\n      </g>\n     </g>\n    </g>\n    <g id=\"xtick_139\">\n     <g id=\"line2d_176\">\n      <g>\n       <use style=\"stroke:#000000;stroke-width:0.6;\" x=\"963.180432\" xlink:href=\"#m0d7b11006f\" y=\"294.118125\"/>\n      </g>\n     </g>\n    </g>\n    <g id=\"xtick_140\">\n     <g id=\"line2d_177\">\n      <g>\n       <use style=\"stroke:#000000;stroke-width:0.6;\" x=\"966.913236\" xlink:href=\"#m0d7b11006f\" y=\"294.118125\"/>\n      </g>\n     </g>\n    </g>\n    <g id=\"xtick_141\">\n     <g id=\"line2d_178\">\n      <g>\n       <use style=\"stroke:#000000;stroke-width:0.6;\" x=\"970.146737\" xlink:href=\"#m0d7b11006f\" y=\"294.118125\"/>\n      </g>\n     </g>\n    </g>\n    <g id=\"xtick_142\">\n     <g id=\"line2d_179\">\n      <g>\n       <use style=\"stroke:#000000;stroke-width:0.6;\" x=\"972.998887\" xlink:href=\"#m0d7b11006f\" y=\"294.118125\"/>\n      </g>\n     </g>\n    </g>\n    <g id=\"xtick_143\">\n     <g id=\"line2d_180\">\n      <g>\n       <use style=\"stroke:#000000;stroke-width:0.6;\" x=\"992.334982\" xlink:href=\"#m0d7b11006f\" y=\"294.118125\"/>\n      </g>\n     </g>\n    </g>\n    <g id=\"xtick_144\">\n     <g id=\"line2d_181\">\n      <g>\n       <use style=\"stroke:#000000;stroke-width:0.6;\" x=\"1002.153437\" xlink:href=\"#m0d7b11006f\" y=\"294.118125\"/>\n      </g>\n     </g>\n    </g>\n    <g id=\"xtick_145\">\n     <g id=\"line2d_182\">\n      <g>\n       <use style=\"stroke:#000000;stroke-width:0.6;\" x=\"1009.119741\" xlink:href=\"#m0d7b11006f\" y=\"294.118125\"/>\n      </g>\n     </g>\n    </g>\n    <g id=\"xtick_146\">\n     <g id=\"line2d_183\">\n      <g>\n       <use style=\"stroke:#000000;stroke-width:0.6;\" x=\"1014.523227\" xlink:href=\"#m0d7b11006f\" y=\"294.118125\"/>\n      </g>\n     </g>\n    </g>\n    <g id=\"xtick_147\">\n     <g id=\"line2d_184\">\n      <g>\n       <use style=\"stroke:#000000;stroke-width:0.6;\" x=\"1018.938196\" xlink:href=\"#m0d7b11006f\" y=\"294.118125\"/>\n      </g>\n     </g>\n    </g>\n    <g id=\"xtick_148\">\n     <g id=\"line2d_185\">\n      <g>\n       <use style=\"stroke:#000000;stroke-width:0.6;\" x=\"1022.670999\" xlink:href=\"#m0d7b11006f\" y=\"294.118125\"/>\n      </g>\n     </g>\n    </g>\n    <g id=\"xtick_149\">\n     <g id=\"line2d_186\">\n      <g>\n       <use style=\"stroke:#000000;stroke-width:0.6;\" x=\"1025.904501\" xlink:href=\"#m0d7b11006f\" y=\"294.118125\"/>\n      </g>\n     </g>\n    </g>\n    <g id=\"xtick_150\">\n     <g id=\"line2d_187\">\n      <g>\n       <use style=\"stroke:#000000;stroke-width:0.6;\" x=\"1028.756651\" xlink:href=\"#m0d7b11006f\" y=\"294.118125\"/>\n      </g>\n     </g>\n    </g>\n    <g id=\"text_36\">\n     <!-- nodes -->\n     <g transform=\"translate(871.713649 322.394687)scale(0.1 -0.1)\">\n      <use xlink:href=\"#DejaVuSans-110\"/>\n      <use x=\"63.378906\" xlink:href=\"#DejaVuSans-111\"/>\n      <use x=\"124.560547\" xlink:href=\"#DejaVuSans-100\"/>\n      <use x=\"188.037109\" xlink:href=\"#DejaVuSans-101\"/>\n      <use x=\"249.560547\" xlink:href=\"#DejaVuSans-115\"/>\n     </g>\n    </g>\n   </g>\n   <g id=\"matplotlib.axis_6\">\n    <g id=\"ytick_14\">\n     <g id=\"line2d_188\">\n      <g>\n       <use style=\"stroke:#000000;stroke-width:0.8;\" x=\"739.09136\" xlink:href=\"#m02b17f71da\" y=\"281.095139\"/>\n      </g>\n     </g>\n     <g id=\"text_37\">\n      <!-- 0.0 -->\n      <g transform=\"translate(716.188235 284.894358)scale(0.1 -0.1)\">\n       <use xlink:href=\"#DejaVuSans-48\"/>\n       <use x=\"63.623047\" xlink:href=\"#DejaVuSans-46\"/>\n       <use x=\"95.410156\" xlink:href=\"#DejaVuSans-48\"/>\n      </g>\n     </g>\n    </g>\n    <g id=\"ytick_15\">\n     <g id=\"line2d_189\">\n      <g>\n       <use style=\"stroke:#000000;stroke-width:0.8;\" x=\"739.09136\" xlink:href=\"#m02b17f71da\" y=\"229.376374\"/>\n      </g>\n     </g>\n     <g id=\"text_38\">\n      <!-- 0.2 -->\n      <g transform=\"translate(716.188235 233.175593)scale(0.1 -0.1)\">\n       <use xlink:href=\"#DejaVuSans-48\"/>\n       <use x=\"63.623047\" xlink:href=\"#DejaVuSans-46\"/>\n       <use x=\"95.410156\" xlink:href=\"#DejaVuSans-50\"/>\n      </g>\n     </g>\n    </g>\n    <g id=\"ytick_16\">\n     <g id=\"line2d_190\">\n      <g>\n       <use style=\"stroke:#000000;stroke-width:0.8;\" x=\"739.09136\" xlink:href=\"#m02b17f71da\" y=\"177.657608\"/>\n      </g>\n     </g>\n     <g id=\"text_39\">\n      <!-- 0.4 -->\n      <g transform=\"translate(716.188235 181.456827)scale(0.1 -0.1)\">\n       <use xlink:href=\"#DejaVuSans-48\"/>\n       <use x=\"63.623047\" xlink:href=\"#DejaVuSans-46\"/>\n       <use x=\"95.410156\" xlink:href=\"#DejaVuSans-52\"/>\n      </g>\n     </g>\n    </g>\n    <g id=\"ytick_17\">\n     <g id=\"line2d_191\">\n      <g>\n       <use style=\"stroke:#000000;stroke-width:0.8;\" x=\"739.09136\" xlink:href=\"#m02b17f71da\" y=\"125.938842\"/>\n      </g>\n     </g>\n     <g id=\"text_40\">\n      <!-- 0.6 -->\n      <g transform=\"translate(716.188235 129.738061)scale(0.1 -0.1)\">\n       <use xlink:href=\"#DejaVuSans-48\"/>\n       <use x=\"63.623047\" xlink:href=\"#DejaVuSans-46\"/>\n       <use x=\"95.410156\" xlink:href=\"#DejaVuSans-54\"/>\n      </g>\n     </g>\n    </g>\n    <g id=\"ytick_18\">\n     <g id=\"line2d_192\">\n      <g>\n       <use style=\"stroke:#000000;stroke-width:0.8;\" x=\"739.09136\" xlink:href=\"#m02b17f71da\" y=\"74.220077\"/>\n      </g>\n     </g>\n     <g id=\"text_41\">\n      <!-- 0.8 -->\n      <g transform=\"translate(716.188235 78.019295)scale(0.1 -0.1)\">\n       <use xlink:href=\"#DejaVuSans-48\"/>\n       <use x=\"63.623047\" xlink:href=\"#DejaVuSans-46\"/>\n       <use x=\"95.410156\" xlink:href=\"#DejaVuSans-56\"/>\n      </g>\n     </g>\n    </g>\n    <g id=\"ytick_19\">\n     <g id=\"line2d_193\">\n      <g>\n       <use style=\"stroke:#000000;stroke-width:0.8;\" x=\"739.09136\" xlink:href=\"#m02b17f71da\" y=\"22.501311\"/>\n      </g>\n     </g>\n     <g id=\"text_42\">\n      <!-- 1.0 -->\n      <g transform=\"translate(716.188235 26.30053)scale(0.1 -0.1)\">\n       <use xlink:href=\"#DejaVuSans-49\"/>\n       <use x=\"63.623047\" xlink:href=\"#DejaVuSans-46\"/>\n       <use x=\"95.410156\" xlink:href=\"#DejaVuSans-48\"/>\n      </g>\n     </g>\n    </g>\n   </g>\n   <g id=\"LineCollection_13\">\n    <path clip-path=\"url(#pd2e8c246ce)\" d=\"M 752.519168 151.37226 \nL 752.519168 34.67267 \n\" style=\"fill:none;stroke:#1f77b4;stroke-width:1.5;\"/>\n    <path clip-path=\"url(#pd2e8c246ce)\" d=\"M 769.303927 180.217121 \nL 769.303927 72.413111 \n\" style=\"fill:none;stroke:#1f77b4;stroke-width:1.5;\"/>\n    <path clip-path=\"url(#pd2e8c246ce)\" d=\"M 786.088686 214.711511 \nL 786.088686 135.171086 \n\" style=\"fill:none;stroke:#1f77b4;stroke-width:1.5;\"/>\n    <path clip-path=\"url(#pd2e8c246ce)\" d=\"M 802.873446 234.359991 \nL 802.873446 192.085386 \n\" style=\"fill:none;stroke:#1f77b4;stroke-width:1.5;\"/>\n    <path clip-path=\"url(#pd2e8c246ce)\" d=\"M 819.658205 247.111402 \nL 819.658205 228.037455 \n\" style=\"fill:none;stroke:#1f77b4;stroke-width:1.5;\"/>\n    <path clip-path=\"url(#pd2e8c246ce)\" d=\"M 836.442965 256.441118 \nL 836.442965 247.528317 \n\" style=\"fill:none;stroke:#1f77b4;stroke-width:1.5;\"/>\n    <path clip-path=\"url(#pd2e8c246ce)\" d=\"M 853.227724 262.616411 \nL 853.227724 257.200285 \n\" style=\"fill:none;stroke:#1f77b4;stroke-width:1.5;\"/>\n    <path clip-path=\"url(#pd2e8c246ce)\" d=\"M 870.012483 266.193698 \nL 870.012483 262.105457 \n\" style=\"fill:none;stroke:#1f77b4;stroke-width:1.5;\"/>\n    <path clip-path=\"url(#pd2e8c246ce)\" d=\"M 886.797243 268.227884 \nL 886.797243 264.627161 \n\" style=\"fill:none;stroke:#1f77b4;stroke-width:1.5;\"/>\n    <path clip-path=\"url(#pd2e8c246ce)\" d=\"M 903.582002 269.265466 \nL 903.582002 265.937597 \n\" style=\"fill:none;stroke:#1f77b4;stroke-width:1.5;\"/>\n    <path clip-path=\"url(#pd2e8c246ce)\" d=\"M 920.366761 269.764927 \nL 920.366761 266.552932 \n\" style=\"fill:none;stroke:#1f77b4;stroke-width:1.5;\"/>\n    <path clip-path=\"url(#pd2e8c246ce)\" d=\"M 937.151521 270.060386 \nL 937.151521 266.877712 \n\" style=\"fill:none;stroke:#1f77b4;stroke-width:1.5;\"/>\n    <path clip-path=\"url(#pd2e8c246ce)\" d=\"M 953.93628 270.203985 \nL 953.93628 267.043078 \n\" style=\"fill:none;stroke:#1f77b4;stroke-width:1.5;\"/>\n    <path clip-path=\"url(#pd2e8c246ce)\" d=\"M 970.721039 270.28903 \nL 970.721039 267.120726 \n\" style=\"fill:none;stroke:#1f77b4;stroke-width:1.5;\"/>\n    <path clip-path=\"url(#pd2e8c246ce)\" d=\"M 987.505799 270.318592 \nL 987.505799 267.149023 \n\" style=\"fill:none;stroke:#1f77b4;stroke-width:1.5;\"/>\n    <path clip-path=\"url(#pd2e8c246ce)\" d=\"M 1004.290558 270.340542 \nL 1004.290558 267.175755 \n\" style=\"fill:none;stroke:#1f77b4;stroke-width:1.5;\"/>\n    <path clip-path=\"url(#pd2e8c246ce)\" d=\"M 1021.075318 270.350828 \nL 1021.075318 267.185802 \n\" style=\"fill:none;stroke:#1f77b4;stroke-width:1.5;\"/>\n   </g>\n   <g id=\"LineCollection_14\">\n    <path clip-path=\"url(#pd2e8c246ce)\" d=\"M 752.519168 212.031921 \nL 752.519168 76.166635 \n\" style=\"fill:none;stroke:#ff7f0e;stroke-width:1.5;\"/>\n    <path clip-path=\"url(#pd2e8c246ce)\" d=\"M 769.303927 236.508137 \nL 769.303927 139.71253 \n\" style=\"fill:none;stroke:#ff7f0e;stroke-width:1.5;\"/>\n    <path clip-path=\"url(#pd2e8c246ce)\" d=\"M 786.088686 246.167193 \nL 786.088686 200.706639 \n\" style=\"fill:none;stroke:#ff7f0e;stroke-width:1.5;\"/>\n    <path clip-path=\"url(#pd2e8c246ce)\" d=\"M 802.873446 253.246976 \nL 802.873446 234.66556 \n\" style=\"fill:none;stroke:#ff7f0e;stroke-width:1.5;\"/>\n    <path clip-path=\"url(#pd2e8c246ce)\" d=\"M 819.658205 259.51148 \nL 819.658205 250.443962 \n\" style=\"fill:none;stroke:#ff7f0e;stroke-width:1.5;\"/>\n    <path clip-path=\"url(#pd2e8c246ce)\" d=\"M 836.442965 264.239685 \nL 836.442965 258.94061 \n\" style=\"fill:none;stroke:#ff7f0e;stroke-width:1.5;\"/>\n    <path clip-path=\"url(#pd2e8c246ce)\" d=\"M 853.227724 267.281376 \nL 853.227724 263.554114 \n\" style=\"fill:none;stroke:#ff7f0e;stroke-width:1.5;\"/>\n    <path clip-path=\"url(#pd2e8c246ce)\" d=\"M 870.012483 269.142413 \nL 870.012483 266.077436 \n\" style=\"fill:none;stroke:#ff7f0e;stroke-width:1.5;\"/>\n    <path clip-path=\"url(#pd2e8c246ce)\" d=\"M 886.797243 270.199603 \nL 886.797243 267.346955 \n\" style=\"fill:none;stroke:#ff7f0e;stroke-width:1.5;\"/>\n    <path clip-path=\"url(#pd2e8c246ce)\" d=\"M 903.582002 270.775843 \nL 903.582002 267.990643 \n\" style=\"fill:none;stroke:#ff7f0e;stroke-width:1.5;\"/>\n    <path clip-path=\"url(#pd2e8c246ce)\" d=\"M 920.366761 271.052548 \nL 920.366761 268.313229 \n\" style=\"fill:none;stroke:#ff7f0e;stroke-width:1.5;\"/>\n    <path clip-path=\"url(#pd2e8c246ce)\" d=\"M 937.151521 271.191859 \nL 937.151521 268.472989 \n\" style=\"fill:none;stroke:#ff7f0e;stroke-width:1.5;\"/>\n    <path clip-path=\"url(#pd2e8c246ce)\" d=\"M 953.93628 271.268658 \nL 953.93628 268.550305 \n\" style=\"fill:none;stroke:#ff7f0e;stroke-width:1.5;\"/>\n    <path clip-path=\"url(#pd2e8c246ce)\" d=\"M 970.721039 271.299439 \nL 970.721039 268.58907 \n\" style=\"fill:none;stroke:#ff7f0e;stroke-width:1.5;\"/>\n    <path clip-path=\"url(#pd2e8c246ce)\" d=\"M 987.505799 271.318332 \nL 987.505799 268.611295 \n\" style=\"fill:none;stroke:#ff7f0e;stroke-width:1.5;\"/>\n    <path clip-path=\"url(#pd2e8c246ce)\" d=\"M 1004.290558 271.327097 \nL 1004.290558 268.617946 \n\" style=\"fill:none;stroke:#ff7f0e;stroke-width:1.5;\"/>\n    <path clip-path=\"url(#pd2e8c246ce)\" d=\"M 1021.075318 271.329716 \nL 1021.075318 268.629414 \n\" style=\"fill:none;stroke:#ff7f0e;stroke-width:1.5;\"/>\n   </g>\n   <g id=\"LineCollection_15\">\n    <path clip-path=\"url(#pd2e8c246ce)\" d=\"M 752.519168 271.438023 \nL 752.519168 187.361333 \n\" style=\"fill:none;stroke:#2ca02c;stroke-width:1.5;\"/>\n    <path clip-path=\"url(#pd2e8c246ce)\" d=\"M 769.303927 265.019749 \nL 769.303927 233.500737 \n\" style=\"fill:none;stroke:#2ca02c;stroke-width:1.5;\"/>\n    <path clip-path=\"url(#pd2e8c246ce)\" d=\"M 786.088686 266.64884 \nL 786.088686 248.830795 \n\" style=\"fill:none;stroke:#2ca02c;stroke-width:1.5;\"/>\n    <path clip-path=\"url(#pd2e8c246ce)\" d=\"M 802.873446 267.776776 \nL 802.873446 257.653009 \n\" style=\"fill:none;stroke:#2ca02c;stroke-width:1.5;\"/>\n    <path clip-path=\"url(#pd2e8c246ce)\" d=\"M 819.658205 268.479995 \nL 819.658205 263.62181 \n\" style=\"fill:none;stroke:#2ca02c;stroke-width:1.5;\"/>\n    <path clip-path=\"url(#pd2e8c246ce)\" d=\"M 836.442965 269.955066 \nL 836.442965 266.835013 \n\" style=\"fill:none;stroke:#2ca02c;stroke-width:1.5;\"/>\n    <path clip-path=\"url(#pd2e8c246ce)\" d=\"M 853.227724 271.188193 \nL 853.227724 268.514735 \n\" style=\"fill:none;stroke:#2ca02c;stroke-width:1.5;\"/>\n    <path clip-path=\"url(#pd2e8c246ce)\" d=\"M 870.012483 271.745924 \nL 870.012483 269.395847 \n\" style=\"fill:none;stroke:#2ca02c;stroke-width:1.5;\"/>\n    <path clip-path=\"url(#pd2e8c246ce)\" d=\"M 886.797243 272.074654 \nL 886.797243 269.831332 \n\" style=\"fill:none;stroke:#2ca02c;stroke-width:1.5;\"/>\n    <path clip-path=\"url(#pd2e8c246ce)\" d=\"M 903.582002 272.204208 \nL 903.582002 270.044594 \n\" style=\"fill:none;stroke:#2ca02c;stroke-width:1.5;\"/>\n    <path clip-path=\"url(#pd2e8c246ce)\" d=\"M 920.366761 272.2774 \nL 920.366761 270.149361 \n\" style=\"fill:none;stroke:#2ca02c;stroke-width:1.5;\"/>\n    <path clip-path=\"url(#pd2e8c246ce)\" d=\"M 937.151521 272.31144 \nL 937.151521 270.197901 \n\" style=\"fill:none;stroke:#2ca02c;stroke-width:1.5;\"/>\n    <path clip-path=\"url(#pd2e8c246ce)\" d=\"M 953.93628 272.334138 \nL 953.93628 270.219072 \n\" style=\"fill:none;stroke:#2ca02c;stroke-width:1.5;\"/>\n    <path clip-path=\"url(#pd2e8c246ce)\" d=\"M 970.721039 272.343491 \nL 970.721039 270.231488 \n\" style=\"fill:none;stroke:#2ca02c;stroke-width:1.5;\"/>\n    <path clip-path=\"url(#pd2e8c246ce)\" d=\"M 987.505799 272.345447 \nL 987.505799 270.238073 \n\" style=\"fill:none;stroke:#2ca02c;stroke-width:1.5;\"/>\n    <path clip-path=\"url(#pd2e8c246ce)\" d=\"M 1004.290558 272.349304 \nL 1004.290558 270.240935 \n\" style=\"fill:none;stroke:#2ca02c;stroke-width:1.5;\"/>\n    <path clip-path=\"url(#pd2e8c246ce)\" d=\"M 1021.075318 272.350033 \nL 1021.075318 270.243083 \n\" style=\"fill:none;stroke:#2ca02c;stroke-width:1.5;\"/>\n   </g>\n   <g id=\"LineCollection_16\">\n    <path clip-path=\"url(#pd2e8c246ce)\" d=\"M 752.519168 281.76358 \nL 752.519168 257.734958 \n\" style=\"fill:none;stroke:#d62728;stroke-width:1.5;\"/>\n    <path clip-path=\"url(#pd2e8c246ce)\" d=\"M 769.303927 273.425267 \nL 769.303927 268.337545 \n\" style=\"fill:none;stroke:#d62728;stroke-width:1.5;\"/>\n    <path clip-path=\"url(#pd2e8c246ce)\" d=\"M 786.088686 274.00061 \nL 786.088686 269.851283 \n\" style=\"fill:none;stroke:#d62728;stroke-width:1.5;\"/>\n    <path clip-path=\"url(#pd2e8c246ce)\" d=\"M 802.873446 273.947954 \nL 802.873446 270.633276 \n\" style=\"fill:none;stroke:#d62728;stroke-width:1.5;\"/>\n    <path clip-path=\"url(#pd2e8c246ce)\" d=\"M 819.658205 273.947665 \nL 819.658205 271.467797 \n\" style=\"fill:none;stroke:#d62728;stroke-width:1.5;\"/>\n    <path clip-path=\"url(#pd2e8c246ce)\" d=\"M 836.442965 274.234302 \nL 836.442965 272.29994 \n\" style=\"fill:none;stroke:#d62728;stroke-width:1.5;\"/>\n    <path clip-path=\"url(#pd2e8c246ce)\" d=\"M 853.227724 274.396548 \nL 853.227724 272.863898 \n\" style=\"fill:none;stroke:#d62728;stroke-width:1.5;\"/>\n    <path clip-path=\"url(#pd2e8c246ce)\" d=\"M 870.012483 274.412769 \nL 870.012483 273.123232 \n\" style=\"fill:none;stroke:#d62728;stroke-width:1.5;\"/>\n    <path clip-path=\"url(#pd2e8c246ce)\" d=\"M 886.797243 274.413059 \nL 886.797243 273.235339 \n\" style=\"fill:none;stroke:#d62728;stroke-width:1.5;\"/>\n    <path clip-path=\"url(#pd2e8c246ce)\" d=\"M 903.582002 274.409524 \nL 903.582002 273.285352 \n\" style=\"fill:none;stroke:#d62728;stroke-width:1.5;\"/>\n    <path clip-path=\"url(#pd2e8c246ce)\" d=\"M 920.366761 274.401752 \nL 920.366761 273.311744 \n\" style=\"fill:none;stroke:#d62728;stroke-width:1.5;\"/>\n    <path clip-path=\"url(#pd2e8c246ce)\" d=\"M 937.151521 274.39529 \nL 937.151521 273.322697 \n\" style=\"fill:none;stroke:#d62728;stroke-width:1.5;\"/>\n    <path clip-path=\"url(#pd2e8c246ce)\" d=\"M 953.93628 274.398477 \nL 953.93628 273.331489 \n\" style=\"fill:none;stroke:#d62728;stroke-width:1.5;\"/>\n    <path clip-path=\"url(#pd2e8c246ce)\" d=\"M 970.721039 274.395558 \nL 970.721039 273.335478 \n\" style=\"fill:none;stroke:#d62728;stroke-width:1.5;\"/>\n    <path clip-path=\"url(#pd2e8c246ce)\" d=\"M 987.505799 274.393225 \nL 987.505799 273.335261 \n\" style=\"fill:none;stroke:#d62728;stroke-width:1.5;\"/>\n    <path clip-path=\"url(#pd2e8c246ce)\" d=\"M 1004.290558 274.393743 \nL 1004.290558 273.33745 \n\" style=\"fill:none;stroke:#d62728;stroke-width:1.5;\"/>\n    <path clip-path=\"url(#pd2e8c246ce)\" d=\"M 1021.075318 274.39406 \nL 1021.075318 273.337151 \n\" style=\"fill:none;stroke:#d62728;stroke-width:1.5;\"/>\n   </g>\n   <g id=\"LineCollection_17\">\n    <path clip-path=\"url(#pd2e8c246ce)\" d=\"M 752.519168 273.238551 \nL 752.519168 269.095027 \n\" style=\"fill:none;stroke:#9467bd;stroke-width:1.5;\"/>\n    <path clip-path=\"url(#pd2e8c246ce)\" d=\"M 769.303927 274.069878 \nL 769.303927 269.636872 \n\" style=\"fill:none;stroke:#9467bd;stroke-width:1.5;\"/>\n    <path clip-path=\"url(#pd2e8c246ce)\" d=\"M 786.088686 274.743234 \nL 786.088686 270.91615 \n\" style=\"fill:none;stroke:#9467bd;stroke-width:1.5;\"/>\n    <path clip-path=\"url(#pd2e8c246ce)\" d=\"M 802.873446 274.850008 \nL 802.873446 271.959186 \n\" style=\"fill:none;stroke:#9467bd;stroke-width:1.5;\"/>\n    <path clip-path=\"url(#pd2e8c246ce)\" d=\"M 819.658205 275.111739 \nL 819.658205 272.862246 \n\" style=\"fill:none;stroke:#9467bd;stroke-width:1.5;\"/>\n    <path clip-path=\"url(#pd2e8c246ce)\" d=\"M 836.442965 275.382538 \nL 836.442965 273.816016 \n\" style=\"fill:none;stroke:#9467bd;stroke-width:1.5;\"/>\n    <path clip-path=\"url(#pd2e8c246ce)\" d=\"M 853.227724 275.483572 \nL 853.227724 274.328929 \n\" style=\"fill:none;stroke:#9467bd;stroke-width:1.5;\"/>\n    <path clip-path=\"url(#pd2e8c246ce)\" d=\"M 870.012483 275.470281 \nL 870.012483 274.551782 \n\" style=\"fill:none;stroke:#9467bd;stroke-width:1.5;\"/>\n    <path clip-path=\"url(#pd2e8c246ce)\" d=\"M 886.797243 275.441039 \nL 886.797243 274.626355 \n\" style=\"fill:none;stroke:#9467bd;stroke-width:1.5;\"/>\n    <path clip-path=\"url(#pd2e8c246ce)\" d=\"M 903.582002 275.413986 \nL 903.582002 274.650669 \n\" style=\"fill:none;stroke:#9467bd;stroke-width:1.5;\"/>\n    <path clip-path=\"url(#pd2e8c246ce)\" d=\"M 920.366761 275.397849 \nL 920.366761 274.661217 \n\" style=\"fill:none;stroke:#9467bd;stroke-width:1.5;\"/>\n    <path clip-path=\"url(#pd2e8c246ce)\" d=\"M 937.151521 275.394433 \nL 937.151521 274.664797 \n\" style=\"fill:none;stroke:#9467bd;stroke-width:1.5;\"/>\n    <path clip-path=\"url(#pd2e8c246ce)\" d=\"M 953.93628 275.388304 \nL 953.93628 274.665128 \n\" style=\"fill:none;stroke:#9467bd;stroke-width:1.5;\"/>\n    <path clip-path=\"url(#pd2e8c246ce)\" d=\"M 970.721039 275.384694 \nL 970.721039 274.665718 \n\" style=\"fill:none;stroke:#9467bd;stroke-width:1.5;\"/>\n    <path clip-path=\"url(#pd2e8c246ce)\" d=\"M 987.505799 275.383852 \nL 987.505799 274.665826 \n\" style=\"fill:none;stroke:#9467bd;stroke-width:1.5;\"/>\n    <path clip-path=\"url(#pd2e8c246ce)\" d=\"M 1004.290558 275.38269 \nL 1004.290558 274.666453 \n\" style=\"fill:none;stroke:#9467bd;stroke-width:1.5;\"/>\n    <path clip-path=\"url(#pd2e8c246ce)\" d=\"M 1021.075318 275.383127 \nL 1021.075318 274.666572 \n\" style=\"fill:none;stroke:#9467bd;stroke-width:1.5;\"/>\n   </g>\n   <g id=\"LineCollection_18\">\n    <path clip-path=\"url(#pd2e8c246ce)\" d=\"M 752.519168 273.288574 \nL 752.519168 269.281598 \n\" style=\"fill:none;stroke:#8c564b;stroke-width:1.5;\"/>\n    <path clip-path=\"url(#pd2e8c246ce)\" d=\"M 769.303927 274.378566 \nL 769.303927 270.196602 \n\" style=\"fill:none;stroke:#8c564b;stroke-width:1.5;\"/>\n    <path clip-path=\"url(#pd2e8c246ce)\" d=\"M 786.088686 275.174937 \nL 786.088686 271.608698 \n\" style=\"fill:none;stroke:#8c564b;stroke-width:1.5;\"/>\n    <path clip-path=\"url(#pd2e8c246ce)\" d=\"M 802.873446 275.627236 \nL 802.873446 272.96543 \n\" style=\"fill:none;stroke:#8c564b;stroke-width:1.5;\"/>\n    <path clip-path=\"url(#pd2e8c246ce)\" d=\"M 819.658205 276.110626 \nL 819.658205 274.253957 \n\" style=\"fill:none;stroke:#8c564b;stroke-width:1.5;\"/>\n    <path clip-path=\"url(#pd2e8c246ce)\" d=\"M 836.442965 276.471424 \nL 836.442965 275.325452 \n\" style=\"fill:none;stroke:#8c564b;stroke-width:1.5;\"/>\n    <path clip-path=\"url(#pd2e8c246ce)\" d=\"M 853.227724 276.578918 \nL 853.227724 275.750962 \n\" style=\"fill:none;stroke:#8c564b;stroke-width:1.5;\"/>\n    <path clip-path=\"url(#pd2e8c246ce)\" d=\"M 870.012483 276.552939 \nL 870.012483 275.862147 \n\" style=\"fill:none;stroke:#8c564b;stroke-width:1.5;\"/>\n    <path clip-path=\"url(#pd2e8c246ce)\" d=\"M 886.797243 276.511459 \nL 886.797243 275.880759 \n\" style=\"fill:none;stroke:#8c564b;stroke-width:1.5;\"/>\n    <path clip-path=\"url(#pd2e8c246ce)\" d=\"M 903.582002 276.481654 \nL 903.582002 275.884951 \n\" style=\"fill:none;stroke:#8c564b;stroke-width:1.5;\"/>\n    <path clip-path=\"url(#pd2e8c246ce)\" d=\"M 920.366761 276.46303 \nL 920.366761 275.877189 \n\" style=\"fill:none;stroke:#8c564b;stroke-width:1.5;\"/>\n    <path clip-path=\"url(#pd2e8c246ce)\" d=\"M 937.151521 276.455647 \nL 937.151521 275.875324 \n\" style=\"fill:none;stroke:#8c564b;stroke-width:1.5;\"/>\n    <path clip-path=\"url(#pd2e8c246ce)\" d=\"M 953.93628 276.450545 \nL 953.93628 275.87297 \n\" style=\"fill:none;stroke:#8c564b;stroke-width:1.5;\"/>\n    <path clip-path=\"url(#pd2e8c246ce)\" d=\"M 970.721039 276.448902 \nL 970.721039 275.87346 \n\" style=\"fill:none;stroke:#8c564b;stroke-width:1.5;\"/>\n    <path clip-path=\"url(#pd2e8c246ce)\" d=\"M 987.505799 276.447127 \nL 987.505799 275.872539 \n\" style=\"fill:none;stroke:#8c564b;stroke-width:1.5;\"/>\n    <path clip-path=\"url(#pd2e8c246ce)\" d=\"M 1004.290558 276.446553 \nL 1004.290558 275.872759 \n\" style=\"fill:none;stroke:#8c564b;stroke-width:1.5;\"/>\n    <path clip-path=\"url(#pd2e8c246ce)\" d=\"M 1021.075318 276.446463 \nL 1021.075318 275.87296 \n\" style=\"fill:none;stroke:#8c564b;stroke-width:1.5;\"/>\n   </g>\n   <g id=\"line2d_194\">\n    <path clip-path=\"url(#pd2e8c246ce)\" d=\"M 752.519168 93.022465 \nL 769.303927 126.315116 \nL 786.088686 174.941298 \nL 802.873446 213.222689 \nL 819.658205 237.574429 \nL 836.442965 251.984718 \nL 853.227724 259.908348 \nL 870.012483 264.149578 \nL 886.797243 266.427522 \nL 903.582002 267.601532 \nL 920.366761 268.158929 \nL 937.151521 268.469049 \nL 953.93628 268.623532 \nL 970.721039 268.704878 \nL 987.505799 268.733807 \nL 1004.290558 268.758149 \nL 1021.075318 268.768315 \n\" style=\"fill:none;stroke:#0000ff;stroke-linecap:square;stroke-width:1.5;\"/>\n   </g>\n   <g id=\"line2d_195\">\n    <path clip-path=\"url(#pd2e8c246ce)\" d=\"M 752.519168 144.099278 \nL 769.303927 188.110333 \nL 786.088686 223.436916 \nL 802.873446 243.956268 \nL 819.658205 254.977721 \nL 836.442965 261.590148 \nL 853.227724 265.417745 \nL 870.012483 267.609925 \nL 886.797243 268.773279 \nL 903.582002 269.383243 \nL 920.366761 269.682888 \nL 937.151521 269.832424 \nL 953.93628 269.909482 \nL 970.721039 269.944255 \nL 987.505799 269.964813 \nL 1004.290558 269.972522 \nL 1021.075318 269.979565 \n\" style=\"fill:none;stroke:#008000;stroke-linecap:square;stroke-width:1.5;\"/>\n   </g>\n   <g id=\"line2d_196\">\n    <path clip-path=\"url(#pd2e8c246ce)\" d=\"M 752.519168 229.399678 \nL 769.303927 249.260243 \nL 786.088686 257.739818 \nL 802.873446 262.714892 \nL 819.658205 266.050903 \nL 836.442965 268.39504 \nL 853.227724 269.851464 \nL 870.012483 270.570886 \nL 886.797243 270.952993 \nL 903.582002 271.124401 \nL 920.366761 271.21338 \nL 937.151521 271.254671 \nL 953.93628 271.276605 \nL 970.721039 271.28749 \nL 987.505799 271.29176 \nL 1004.290558 271.295119 \nL 1021.075318 271.296558 \n\" style=\"fill:none;stroke:#ff0000;stroke-linecap:square;stroke-width:1.5;\"/>\n   </g>\n   <g id=\"line2d_197\">\n    <path clip-path=\"url(#pd2e8c246ce)\" d=\"M 752.519168 269.749269 \nL 769.303927 270.881406 \nL 786.088686 271.925946 \nL 802.873446 272.290615 \nL 819.658205 272.707731 \nL 836.442965 273.267121 \nL 853.227724 273.630223 \nL 870.012483 273.768001 \nL 886.797243 273.824199 \nL 903.582002 273.847438 \nL 920.366761 273.856748 \nL 937.151521 273.858993 \nL 953.93628 273.864983 \nL 970.721039 273.865518 \nL 987.505799 273.864243 \nL 1004.290558 273.865596 \nL 1021.075318 273.865606 \n\" style=\"fill:none;stroke:#00bfbf;stroke-linecap:square;stroke-width:1.5;\"/>\n   </g>\n   <g id=\"line2d_198\">\n    <path clip-path=\"url(#pd2e8c246ce)\" d=\"M 752.519168 271.166789 \nL 769.303927 271.853375 \nL 786.088686 272.829692 \nL 802.873446 273.404597 \nL 819.658205 273.986993 \nL 836.442965 274.599277 \nL 853.227724 274.90625 \nL 870.012483 275.011031 \nL 886.797243 275.033697 \nL 903.582002 275.032328 \nL 920.366761 275.029533 \nL 937.151521 275.029615 \nL 953.93628 275.026716 \nL 970.721039 275.025206 \nL 987.505799 275.024839 \nL 1004.290558 275.024572 \nL 1021.075318 275.024849 \n\" style=\"fill:none;stroke:#bfbf00;stroke-linecap:square;stroke-width:1.5;\"/>\n   </g>\n   <g id=\"line2d_199\">\n    <path clip-path=\"url(#pd2e8c246ce)\" d=\"M 752.519168 271.285086 \nL 769.303927 272.287584 \nL 786.088686 273.391818 \nL 802.873446 274.296333 \nL 819.658205 275.182291 \nL 836.442965 275.898438 \nL 853.227724 276.16494 \nL 870.012483 276.207543 \nL 886.797243 276.196109 \nL 903.582002 276.183303 \nL 920.366761 276.170109 \nL 937.151521 276.165485 \nL 953.93628 276.161758 \nL 970.721039 276.161181 \nL 987.505799 276.159833 \nL 1004.290558 276.159656 \nL 1021.075318 276.159711 \n\" style=\"fill:none;stroke:#000000;stroke-linecap:square;stroke-width:1.5;\"/>\n   </g>\n   <g id=\"line2d_200\">\n    <path clip-path=\"url(#pd2e8c246ce)\" d=\"M 752.519168 93.022465 \nL 769.303927 126.315116 \nL 786.088686 174.941298 \nL 802.873446 213.222689 \nL 819.658205 237.574429 \nL 836.442965 251.984718 \nL 853.227724 259.908348 \nL 870.012483 264.149578 \nL 886.797243 266.427522 \nL 903.582002 267.601532 \nL 920.366761 268.158929 \nL 937.151521 268.469049 \nL 953.93628 268.623532 \nL 970.721039 268.704878 \nL 987.505799 268.733807 \nL 1004.290558 268.758149 \nL 1021.075318 268.768315 \n\" style=\"fill:none;stroke:#1f77b4;stroke-linecap:square;stroke-width:1.5;\"/>\n   </g>\n   <g id=\"line2d_201\">\n    <path clip-path=\"url(#pd2e8c246ce)\" d=\"M 752.519168 144.099278 \nL 769.303927 188.110333 \nL 786.088686 223.436916 \nL 802.873446 243.956268 \nL 819.658205 254.977721 \nL 836.442965 261.590148 \nL 853.227724 265.417745 \nL 870.012483 267.609925 \nL 886.797243 268.773279 \nL 903.582002 269.383243 \nL 920.366761 269.682888 \nL 937.151521 269.832424 \nL 953.93628 269.909482 \nL 970.721039 269.944255 \nL 987.505799 269.964813 \nL 1004.290558 269.972522 \nL 1021.075318 269.979565 \n\" style=\"fill:none;stroke:#ff7f0e;stroke-linecap:square;stroke-width:1.5;\"/>\n   </g>\n   <g id=\"line2d_202\">\n    <path clip-path=\"url(#pd2e8c246ce)\" d=\"M 752.519168 229.399678 \nL 769.303927 249.260243 \nL 786.088686 257.739818 \nL 802.873446 262.714892 \nL 819.658205 266.050903 \nL 836.442965 268.39504 \nL 853.227724 269.851464 \nL 870.012483 270.570886 \nL 886.797243 270.952993 \nL 903.582002 271.124401 \nL 920.366761 271.21338 \nL 937.151521 271.254671 \nL 953.93628 271.276605 \nL 970.721039 271.28749 \nL 987.505799 271.29176 \nL 1004.290558 271.295119 \nL 1021.075318 271.296558 \n\" style=\"fill:none;stroke:#2ca02c;stroke-linecap:square;stroke-width:1.5;\"/>\n   </g>\n   <g id=\"line2d_203\">\n    <path clip-path=\"url(#pd2e8c246ce)\" d=\"M 752.519168 269.749269 \nL 769.303927 270.881406 \nL 786.088686 271.925946 \nL 802.873446 272.290615 \nL 819.658205 272.707731 \nL 836.442965 273.267121 \nL 853.227724 273.630223 \nL 870.012483 273.768001 \nL 886.797243 273.824199 \nL 903.582002 273.847438 \nL 920.366761 273.856748 \nL 937.151521 273.858993 \nL 953.93628 273.864983 \nL 970.721039 273.865518 \nL 987.505799 273.864243 \nL 1004.290558 273.865596 \nL 1021.075318 273.865606 \n\" style=\"fill:none;stroke:#d62728;stroke-linecap:square;stroke-width:1.5;\"/>\n   </g>\n   <g id=\"line2d_204\">\n    <path clip-path=\"url(#pd2e8c246ce)\" d=\"M 752.519168 271.166789 \nL 769.303927 271.853375 \nL 786.088686 272.829692 \nL 802.873446 273.404597 \nL 819.658205 273.986993 \nL 836.442965 274.599277 \nL 853.227724 274.90625 \nL 870.012483 275.011031 \nL 886.797243 275.033697 \nL 903.582002 275.032328 \nL 920.366761 275.029533 \nL 937.151521 275.029615 \nL 953.93628 275.026716 \nL 970.721039 275.025206 \nL 987.505799 275.024839 \nL 1004.290558 275.024572 \nL 1021.075318 275.024849 \n\" style=\"fill:none;stroke:#9467bd;stroke-linecap:square;stroke-width:1.5;\"/>\n   </g>\n   <g id=\"line2d_205\">\n    <path clip-path=\"url(#pd2e8c246ce)\" d=\"M 752.519168 271.285086 \nL 769.303927 272.287584 \nL 786.088686 273.391818 \nL 802.873446 274.296333 \nL 819.658205 275.182291 \nL 836.442965 275.898438 \nL 853.227724 276.16494 \nL 870.012483 276.207543 \nL 886.797243 276.196109 \nL 903.582002 276.183303 \nL 920.366761 276.170109 \nL 937.151521 276.165485 \nL 953.93628 276.161758 \nL 970.721039 276.161181 \nL 987.505799 276.159833 \nL 1004.290558 276.159656 \nL 1021.075318 276.159711 \n\" style=\"fill:none;stroke:#8c564b;stroke-linecap:square;stroke-width:1.5;\"/>\n   </g>\n   <g id=\"patch_13\">\n    <path d=\"M 739.09136 294.118125 \nL 739.09136 22.318125 \n\" style=\"fill:none;stroke:#000000;stroke-linecap:square;stroke-linejoin:miter;stroke-width:0.8;\"/>\n   </g>\n   <g id=\"patch_14\">\n    <path d=\"M 1034.503125 294.118125 \nL 1034.503125 22.318125 \n\" style=\"fill:none;stroke:#000000;stroke-linecap:square;stroke-linejoin:miter;stroke-width:0.8;\"/>\n   </g>\n   <g id=\"patch_15\">\n    <path d=\"M 739.09136 294.118125 \nL 1034.503125 294.118125 \n\" style=\"fill:none;stroke:#000000;stroke-linecap:square;stroke-linejoin:miter;stroke-width:0.8;\"/>\n   </g>\n   <g id=\"patch_16\">\n    <path d=\"M 739.09136 22.318125 \nL 1034.503125 22.318125 \n\" style=\"fill:none;stroke:#000000;stroke-linecap:square;stroke-linejoin:miter;stroke-width:0.8;\"/>\n   </g>\n   <g id=\"text_43\">\n    <!-- Train MSE (Overall) -->\n    <defs>\n     <path d=\"M 39.40625 66.21875 \nQ 28.65625 66.21875 22.328125 58.203125 \nQ 16.015625 50.203125 16.015625 36.375 \nQ 16.015625 22.609375 22.328125 14.59375 \nQ 28.65625 6.59375 39.40625 6.59375 \nQ 50.140625 6.59375 56.421875 14.59375 \nQ 62.703125 22.609375 62.703125 36.375 \nQ 62.703125 50.203125 56.421875 58.203125 \nQ 50.140625 66.21875 39.40625 66.21875 \nz\nM 39.40625 74.21875 \nQ 54.734375 74.21875 63.90625 63.9375 \nQ 73.09375 53.65625 73.09375 36.375 \nQ 73.09375 19.140625 63.90625 8.859375 \nQ 54.734375 -1.421875 39.40625 -1.421875 \nQ 24.03125 -1.421875 14.8125 8.828125 \nQ 5.609375 19.09375 5.609375 36.375 \nQ 5.609375 53.65625 14.8125 63.9375 \nQ 24.03125 74.21875 39.40625 74.21875 \nz\n\" id=\"DejaVuSans-79\"/>\n     <path d=\"M 2.984375 54.6875 \nL 12.5 54.6875 \nL 29.59375 8.796875 \nL 46.6875 54.6875 \nL 56.203125 54.6875 \nL 35.6875 0 \nL 23.484375 0 \nz\n\" id=\"DejaVuSans-118\"/>\n     <path d=\"M 9.421875 75.984375 \nL 18.40625 75.984375 \nL 18.40625 0 \nL 9.421875 0 \nz\n\" id=\"DejaVuSans-108\"/>\n    </defs>\n    <g transform=\"translate(829.688493 16.318125)scale(0.12 -0.12)\">\n     <use xlink:href=\"#DejaVuSans-84\"/>\n     <use x=\"46.333984\" xlink:href=\"#DejaVuSans-114\"/>\n     <use x=\"87.447266\" xlink:href=\"#DejaVuSans-97\"/>\n     <use x=\"148.726562\" xlink:href=\"#DejaVuSans-105\"/>\n     <use x=\"176.509766\" xlink:href=\"#DejaVuSans-110\"/>\n     <use x=\"239.888672\" xlink:href=\"#DejaVuSans-32\"/>\n     <use x=\"271.675781\" xlink:href=\"#DejaVuSans-77\"/>\n     <use x=\"357.955078\" xlink:href=\"#DejaVuSans-83\"/>\n     <use x=\"421.431641\" xlink:href=\"#DejaVuSans-69\"/>\n     <use x=\"484.615234\" xlink:href=\"#DejaVuSans-32\"/>\n     <use x=\"516.402344\" xlink:href=\"#DejaVuSans-40\"/>\n     <use x=\"555.416016\" xlink:href=\"#DejaVuSans-79\"/>\n     <use x=\"634.126953\" xlink:href=\"#DejaVuSans-118\"/>\n     <use x=\"693.306641\" xlink:href=\"#DejaVuSans-101\"/>\n     <use x=\"754.830078\" xlink:href=\"#DejaVuSans-114\"/>\n     <use x=\"795.943359\" xlink:href=\"#DejaVuSans-97\"/>\n     <use x=\"857.222656\" xlink:href=\"#DejaVuSans-108\"/>\n     <use x=\"885.005859\" xlink:href=\"#DejaVuSans-108\"/>\n     <use x=\"912.789062\" xlink:href=\"#DejaVuSans-41\"/>\n    </g>\n   </g>\n   <g id=\"legend_1\">\n    <g id=\"patch_17\">\n     <path d=\"M 970.053125 133.065 \nL 1027.503125 133.065 \nQ 1029.503125 133.065 1029.503125 131.065 \nL 1029.503125 29.318125 \nQ 1029.503125 27.318125 1027.503125 27.318125 \nL 970.053125 27.318125 \nQ 968.053125 27.318125 968.053125 29.318125 \nL 968.053125 131.065 \nQ 968.053125 133.065 970.053125 133.065 \nz\n\" style=\"fill:#ffffff;opacity:0.8;stroke:#cccccc;stroke-linejoin:miter;\"/>\n    </g>\n    <g id=\"text_44\">\n     <!-- epochs -->\n     <defs>\n      <path d=\"M 18.109375 8.203125 \nL 18.109375 -20.796875 \nL 9.078125 -20.796875 \nL 9.078125 54.6875 \nL 18.109375 54.6875 \nL 18.109375 46.390625 \nQ 20.953125 51.265625 25.265625 53.625 \nQ 29.59375 56 35.59375 56 \nQ 45.5625 56 51.78125 48.09375 \nQ 58.015625 40.1875 58.015625 27.296875 \nQ 58.015625 14.40625 51.78125 6.484375 \nQ 45.5625 -1.421875 35.59375 -1.421875 \nQ 29.59375 -1.421875 25.265625 0.953125 \nQ 20.953125 3.328125 18.109375 8.203125 \nz\nM 48.6875 27.296875 \nQ 48.6875 37.203125 44.609375 42.84375 \nQ 40.53125 48.484375 33.40625 48.484375 \nQ 26.265625 48.484375 22.1875 42.84375 \nQ 18.109375 37.203125 18.109375 27.296875 \nQ 18.109375 17.390625 22.1875 11.75 \nQ 26.265625 6.109375 33.40625 6.109375 \nQ 40.53125 6.109375 44.609375 11.75 \nQ 48.6875 17.390625 48.6875 27.296875 \nz\n\" id=\"DejaVuSans-112\"/>\n      <path d=\"M 48.78125 52.59375 \nL 48.78125 44.1875 \nQ 44.96875 46.296875 41.140625 47.34375 \nQ 37.3125 48.390625 33.40625 48.390625 \nQ 24.65625 48.390625 19.8125 42.84375 \nQ 14.984375 37.3125 14.984375 27.296875 \nQ 14.984375 17.28125 19.8125 11.734375 \nQ 24.65625 6.203125 33.40625 6.203125 \nQ 37.3125 6.203125 41.140625 7.25 \nQ 44.96875 8.296875 48.78125 10.40625 \nL 48.78125 2.09375 \nQ 45.015625 0.34375 40.984375 -0.53125 \nQ 36.96875 -1.421875 32.421875 -1.421875 \nQ 20.0625 -1.421875 12.78125 6.34375 \nQ 5.515625 14.109375 5.515625 27.296875 \nQ 5.515625 40.671875 12.859375 48.328125 \nQ 20.21875 56 33.015625 56 \nQ 37.15625 56 41.109375 55.140625 \nQ 45.0625 54.296875 48.78125 52.59375 \nz\n\" id=\"DejaVuSans-99\"/>\n      <path d=\"M 54.890625 33.015625 \nL 54.890625 0 \nL 45.90625 0 \nL 45.90625 32.71875 \nQ 45.90625 40.484375 42.875 44.328125 \nQ 39.84375 48.1875 33.796875 48.1875 \nQ 26.515625 48.1875 22.3125 43.546875 \nQ 18.109375 38.921875 18.109375 30.90625 \nL 18.109375 0 \nL 9.078125 0 \nL 9.078125 75.984375 \nL 18.109375 75.984375 \nL 18.109375 46.1875 \nQ 21.34375 51.125 25.703125 53.5625 \nQ 30.078125 56 35.796875 56 \nQ 45.21875 56 50.046875 50.171875 \nQ 54.890625 44.34375 54.890625 33.015625 \nz\n\" id=\"DejaVuSans-104\"/>\n     </defs>\n     <g transform=\"translate(980.945313 38.916563)scale(0.1 -0.1)\">\n      <use xlink:href=\"#DejaVuSans-101\"/>\n      <use x=\"61.523438\" xlink:href=\"#DejaVuSans-112\"/>\n      <use x=\"125\" xlink:href=\"#DejaVuSans-111\"/>\n      <use x=\"186.181641\" xlink:href=\"#DejaVuSans-99\"/>\n      <use x=\"241.162109\" xlink:href=\"#DejaVuSans-104\"/>\n      <use x=\"304.541016\" xlink:href=\"#DejaVuSans-115\"/>\n     </g>\n    </g>\n    <g id=\"line2d_206\">\n     <path d=\"M 972.053125 50.094688 \nL 992.053125 50.094688 \n\" style=\"fill:none;stroke:#0000ff;stroke-linecap:square;stroke-width:1.5;\"/>\n    </g>\n    <g id=\"line2d_207\"/>\n    <g id=\"text_45\">\n     <!-- 20 -->\n     <g transform=\"translate(1000.053125 53.594688)scale(0.1 -0.1)\">\n      <use xlink:href=\"#DejaVuSans-50\"/>\n      <use x=\"63.623047\" xlink:href=\"#DejaVuSans-48\"/>\n     </g>\n    </g>\n    <g id=\"line2d_208\">\n     <path d=\"M 972.053125 64.772813 \nL 992.053125 64.772813 \n\" style=\"fill:none;stroke:#008000;stroke-linecap:square;stroke-width:1.5;\"/>\n    </g>\n    <g id=\"line2d_209\"/>\n    <g id=\"text_46\">\n     <!-- 40 -->\n     <g transform=\"translate(1000.053125 68.272813)scale(0.1 -0.1)\">\n      <use xlink:href=\"#DejaVuSans-52\"/>\n      <use x=\"63.623047\" xlink:href=\"#DejaVuSans-48\"/>\n     </g>\n    </g>\n    <g id=\"line2d_210\">\n     <path d=\"M 972.053125 79.450938 \nL 992.053125 79.450938 \n\" style=\"fill:none;stroke:#ff0000;stroke-linecap:square;stroke-width:1.5;\"/>\n    </g>\n    <g id=\"line2d_211\"/>\n    <g id=\"text_47\">\n     <!-- 100 -->\n     <g transform=\"translate(1000.053125 82.950938)scale(0.1 -0.1)\">\n      <use xlink:href=\"#DejaVuSans-49\"/>\n      <use x=\"63.623047\" xlink:href=\"#DejaVuSans-48\"/>\n      <use x=\"127.246094\" xlink:href=\"#DejaVuSans-48\"/>\n     </g>\n    </g>\n    <g id=\"line2d_212\">\n     <path d=\"M 972.053125 94.129063 \nL 992.053125 94.129063 \n\" style=\"fill:none;stroke:#00bfbf;stroke-linecap:square;stroke-width:1.5;\"/>\n    </g>\n    <g id=\"line2d_213\"/>\n    <g id=\"text_48\">\n     <!-- 500 -->\n     <g transform=\"translate(1000.053125 97.629063)scale(0.1 -0.1)\">\n      <use xlink:href=\"#DejaVuSans-53\"/>\n      <use x=\"63.623047\" xlink:href=\"#DejaVuSans-48\"/>\n      <use x=\"127.246094\" xlink:href=\"#DejaVuSans-48\"/>\n     </g>\n    </g>\n    <g id=\"line2d_214\">\n     <path d=\"M 972.053125 108.807188 \nL 992.053125 108.807188 \n\" style=\"fill:none;stroke:#bfbf00;stroke-linecap:square;stroke-width:1.5;\"/>\n    </g>\n    <g id=\"line2d_215\"/>\n    <g id=\"text_49\">\n     <!-- 1000 -->\n     <g transform=\"translate(1000.053125 112.307188)scale(0.1 -0.1)\">\n      <use xlink:href=\"#DejaVuSans-49\"/>\n      <use x=\"63.623047\" xlink:href=\"#DejaVuSans-48\"/>\n      <use x=\"127.246094\" xlink:href=\"#DejaVuSans-48\"/>\n      <use x=\"190.869141\" xlink:href=\"#DejaVuSans-48\"/>\n     </g>\n    </g>\n    <g id=\"line2d_216\">\n     <path d=\"M 972.053125 123.485313 \nL 992.053125 123.485313 \n\" style=\"fill:none;stroke:#000000;stroke-linecap:square;stroke-width:1.5;\"/>\n    </g>\n    <g id=\"line2d_217\"/>\n    <g id=\"text_50\">\n     <!-- 2000 -->\n     <g transform=\"translate(1000.053125 126.985313)scale(0.1 -0.1)\">\n      <use xlink:href=\"#DejaVuSans-50\"/>\n      <use x=\"63.623047\" xlink:href=\"#DejaVuSans-48\"/>\n      <use x=\"127.246094\" xlink:href=\"#DejaVuSans-48\"/>\n      <use x=\"190.869141\" xlink:href=\"#DejaVuSans-48\"/>\n     </g>\n    </g>\n   </g>\n  </g>\n </g>\n <defs>\n  <clipPath id=\"p09450aba7b\">\n   <rect height=\"271.8\" width=\"295.411765\" x=\"30.103125\" y=\"22.318125\"/>\n  </clipPath>\n  <clipPath id=\"pb7a24964f7\">\n   <rect height=\"271.8\" width=\"295.411765\" x=\"384.597243\" y=\"22.318125\"/>\n  </clipPath>\n  <clipPath id=\"pd2e8c246ce\">\n   <rect height=\"271.8\" width=\"295.411765\" x=\"739.09136\" y=\"22.318125\"/>\n  </clipPath>\n </defs>\n</svg>\n",
      "image/png": "[encoded data removed]"
     },
     "metadata": {
      "needs_background": "light"
     }
    }
   ],
   "source": [
    "epochs_list = np.unique(df['epochs'])\n",
    "color_list = 'bgrcyk'\n",
    "\n",
    "fig, ax = plt.subplots(1, 3, figsize = (18, 5), sharex=True)\n",
    "for epochs, color in zip(epochs_list, color_list):\n",
    "    result1 = result.loc[result['epochs']==epochs]\n",
    "    nodes, mean, std, count = result1['nodes'], result1['minority-mse']['mean'], result1['minority-mse']['std'],\\\n",
    "     result1['minority-mse']['count']\n",
    "    ax[0].plot(nodes, mean, color)\n",
    "    ax[0].errorbar(nodes, mean, std)\n",
    "    #ax[0].set_yscale('log')\n",
    "    ax[0].set_xscale('log')\n",
    "    ax[0].set_title('Test MSE (Minority)')\n",
    "    ax[0].set_xlabel('nodes')\n",
    "\n",
    "\n",
    "    mean, std, count = result1['majority-mse']['mean'], result1['majority-mse']['std'], result1['majority-mse']['count']\n",
    "    ax[1].plot(nodes, mean, color)\n",
    "    ax[1].errorbar(nodes, mean, std)\n",
    "    #ax[0].set_yscale('log')\n",
    "    ax[1].set_xscale('log')\n",
    "    ax[1].set_title('Test MSE (Majority)')\n",
    "    ax[1].set_xlabel('nodes')\n",
    "\n",
    "    mean, std, count = result1['train-mse']['mean'], result1['train-mse']['std'], result1['train-mse']['count']\n",
    "    ax[2].plot(nodes, mean, color)\n",
    "    ax[2].errorbar(nodes, mean, std)\n",
    "    #ax[0].set_yscale('log')\n",
    "    ax[2].set_xscale('log')\n",
    "    ax[2].set_title('Train MSE (Overall)')\n",
    "    ax[2].set_xlabel('nodes')\n",
    "\n",
    "\n",
    "plt.legend(epochs_list, title='epochs')\n",
    "plt.savefig(filename + '.pdf')"
   ]
  },
  {
   "cell_type": "code",
   "execution_count": 4,
   "metadata": {},
   "outputs": [
    {
     "output_type": "display_data",
     "data": {
      "application/vnd.plotly.v1+json": {
       "config": {
        "plotlyServerURL": "https://plot.ly"
       },
       "data": [
        {
         "error_y": {
          "array": [
           0.17681213745182053,
           0.16876355862042033,
           0.13968492302084673,
           0.1068813114514378,
           0.0690510352974297,
           0.05225441622550902,
           0.039551179407534845,
           0.03338994925183525,
           0.02967986474484983,
           0.028121288162323926,
           0.026820339225825388,
           0.026599148497595402,
           0.026379923179337964,
           0.026342591636082872,
           0.02627342939609334,
           0.02630592245768895,
           0.026201460070132947
          ],
          "color": "red",
          "thickness": 0.9,
          "type": "data",
          "width": 0
         },
         "legendgroup": "20",
         "line": {
          "color": "red"
         },
         "marker": {
          "size": 3
         },
         "name": "20",
         "showlegend": false,
         "type": "scatter",
         "x": [
          1,
          2,
          4,
          8,
          16,
          32,
          64,
          128,
          256,
          512,
          1024,
          2048,
          4096,
          8192,
          16384,
          32768,
          65536
         ],
         "xaxis": "x",
         "y": [
          0.8354559622108936,
          0.755440495789051,
          0.6377474136352539,
          0.5520713518559933,
          0.49026091292500495,
          0.44784064760804176,
          0.42055330529809,
          0.4040128169357777,
          0.39405410587787626,
          0.38911689949035644,
          0.38576643872261046,
          0.3845782531499863,
          0.38400241336226465,
          0.38365296119451525,
          0.38348189851641656,
          0.3834079265594482,
          0.38342782893776894
         ],
         "yaxis": "y"
        },
        {
         "error_y": {
          "array": [
           0.2217834584281857,
           0.21134720801491866,
           0.16197878416338027,
           0.09465733702415177,
           0.046373962255939795,
           0.02454801076320192,
           0.013938628106310812,
           0.008755353680478252,
           0.006797443818724489,
           0.0052905025389823985,
           0.004843685059235204,
           0.004455636206881461,
           0.004307960158862964,
           0.004267429876364981,
           0.004215331654298029,
           0.004225774754446916,
           0.004178300275383827
          ],
          "color": "red",
          "thickness": 0.9,
          "type": "data",
          "width": 0
         },
         "legendgroup": "20",
         "line": {
          "color": "red"
         },
         "marker": {
          "size": 3
         },
         "name": "20",
         "showlegend": false,
         "type": "scatter",
         "x": [
          1,
          2,
          4,
          8,
          16,
          32,
          64,
          128,
          256,
          512,
          1024,
          2048,
          4096,
          8192,
          16384,
          32768,
          65536
         ],
         "xaxis": "x2",
         "y": [
          0.752898568853736,
          0.6327196634858847,
          0.45123719742894175,
          0.3037343322113156,
          0.19874994671344756,
          0.1321513789370656,
          0.09276759150624275,
          0.06958620802685618,
          0.05728242929652333,
          0.0505247134193778,
          0.047320757377892736,
          0.04544560044631362,
          0.044588771522045136,
          0.04414331484213471,
          0.04394755467399955,
          0.04383071825653315,
          0.043748688280582426
         ],
         "yaxis": "y2"
        },
        {
         "error_y": {
          "array": [
           0.22564264311133825,
           0.20844273573629063,
           0.15379412710458296,
           0.08173939143489345,
           0.03688012774341402,
           0.017233205442222666,
           0.010472264813781794,
           0.007904753572975915,
           0.0069621208616811635,
           0.006434548548516374,
           0.006210501357286375,
           0.00615380894461176,
           0.006111720845631835,
           0.006126023815171362,
           0.006128469582527955,
           0.0061192232539500225,
           0.0061196866542005315
          ],
          "color": "red",
          "thickness": 0.9,
          "type": "data",
          "width": 0
         },
         "legendgroup": "20",
         "line": {
          "color": "red"
         },
         "marker": {
          "size": 3
         },
         "name": "20",
         "showlegend": true,
         "type": "scatter",
         "x": [
          1,
          2,
          4,
          8,
          16,
          32,
          64,
          128,
          256,
          512,
          1024,
          2048,
          4096,
          8192,
          16384,
          32768,
          65536
         ],
         "xaxis": "x3",
         "y": [
          0.7272898784130811,
          0.5985449243187905,
          0.41050415483117103,
          0.2624674040898681,
          0.16829756130278112,
          0.1125719902291894,
          0.08193076933175325,
          0.06552964547649026,
          0.056720677368342874,
          0.052180702395737175,
          0.05002520812675357,
          0.048825954224914314,
          0.048228559695184234,
          0.047913986172527075,
          0.047802116025239226,
          0.0477079859264195,
          0.047668673045933245
         ],
         "yaxis": "y3"
        },
        {
         "error_y": {
          "array": [
           0.20189362605467287,
           0.14849535454749996,
           0.09139287040068445,
           0.05738307867471293,
           0.0438871043356957,
           0.03678440642537051,
           0.031133496558208854,
           0.027655098889896278,
           0.02623882582000282,
           0.025028137856306698,
           0.024623785096121408,
           0.024333226076089145,
           0.024434278892837093,
           0.024347664287331986,
           0.02425689589220691,
           0.024179444422654635,
           0.02428255019645079
          ],
          "color": "green",
          "thickness": 0.9,
          "type": "data",
          "width": 0
         },
         "legendgroup": "40",
         "line": {
          "color": "green"
         },
         "marker": {
          "size": 3
         },
         "name": "40",
         "showlegend": false,
         "type": "scatter",
         "x": [
          1,
          2,
          4,
          8,
          16,
          32,
          64,
          128,
          256,
          512,
          1024,
          2048,
          4096,
          8192,
          16384,
          32768,
          65536
         ],
         "xaxis": "x",
         "y": [
          0.7021582090258598,
          0.5960338193774223,
          0.5211545336842537,
          0.4798915817141533,
          0.45819166085124013,
          0.4350750989019871,
          0.41663521829247474,
          0.40522667044401167,
          0.3983854478597641,
          0.39485495156049727,
          0.3933992673754692,
          0.3920387938320637,
          0.3916625844538212,
          0.39127542927861214,
          0.39130017831921576,
          0.3912657208442688,
          0.39116956558823585
         ],
         "yaxis": "y"
        },
        {
         "error_y": {
          "array": [
           0.2712044180339641,
           0.19748422688046077,
           0.09685527360371551,
           0.0425815600915781,
           0.024882131715638238,
           0.014242872210406378,
           0.008691659694181845,
           0.005115712102309282,
           0.004005518809772492,
           0.00318848110786094,
           0.0028230385128939356,
           0.0027158662329188708,
           0.0027029382953022174,
           0.0026610461412887583,
           0.002653159779696671,
           0.0026137697910474144,
           0.0026341684567206293
          ],
          "color": "green",
          "thickness": 0.9,
          "type": "data",
          "width": 0
         },
         "legendgroup": "40",
         "line": {
          "color": "green"
         },
         "marker": {
          "size": 3
         },
         "name": "40",
         "showlegend": false,
         "type": "scatter",
         "x": [
          1,
          2,
          4,
          8,
          16,
          32,
          64,
          128,
          256,
          512,
          1024,
          2048,
          4096,
          8192,
          16384,
          32768,
          65536
         ],
         "xaxis": "x2",
         "y": [
          0.5493904217779636,
          0.3842360569909215,
          0.24993398723751306,
          0.17048828272521496,
          0.12475018281489611,
          0.09229518472403288,
          0.06962788527831436,
          0.055635144669562576,
          0.04815138804167509,
          0.04397290421649814,
          0.04184475585445762,
          0.04080930928140879,
          0.040177557099610565,
          0.03994836615398526,
          0.03980736230313778,
          0.03972996338456869,
          0.03970974865183234
         ],
         "yaxis": "y2"
        },
        {
         "error_y": {
          "array": [
           0.2627001713780746,
           0.18715761190039934,
           0.08789953363037796,
           0.03592780303100501,
           0.017532356097237745,
           0.010245942996197943,
           0.007206789228001636,
           0.005926237885308428,
           0.005515692842056963,
           0.005385278455806241,
           0.0052965668488626815,
           0.005257027510234523,
           0.005256028730041823,
           0.005240591807357554,
           0.005234147234120286,
           0.00523823704019303,
           0.005221125088887926
          ],
          "color": "green",
          "thickness": 0.9,
          "type": "data",
          "width": 0
         },
         "legendgroup": "40",
         "line": {
          "color": "green"
         },
         "marker": {
          "size": 3
         },
         "name": "40",
         "showlegend": true,
         "type": "scatter",
         "x": [
          1,
          2,
          4,
          8,
          16,
          32,
          64,
          128,
          256,
          512,
          1024,
          2048,
          4096,
          8192,
          16384,
          32768,
          65536
         ],
         "xaxis": "x3",
         "y": [
          0.5297723555415869,
          0.35957859762012956,
          0.22296828777715563,
          0.14361855318397285,
          0.10099784167483448,
          0.0754271351993084,
          0.06062555639073253,
          0.0521482472345233,
          0.04764947719499469,
          0.04529070433229208,
          0.04413195509463549,
          0.04355369050055742,
          0.043255701947957276,
          0.04312123329937458,
          0.04304173135198653,
          0.043011922672390936,
          0.04298468650504947
         ],
         "yaxis": "y3"
        },
        {
         "error_y": {
          "array": [
           0.1284694101676614,
           0.05733151644170973,
           0.04460113585133611,
           0.03695854575704531,
           0.03455572096323554,
           0.03083009644261983,
           0.027707844108350692,
           0.02716397515246316,
           0.025101148326072426,
           0.024671965938442363,
           0.024227907682596278,
           0.02426847167695175,
           0.02418611536425872,
           0.024249997133577783,
           0.02424403261131705,
           0.024165157122195066,
           0.024305600208317322
          ],
          "color": "blue",
          "thickness": 0.9,
          "type": "data",
          "width": 0
         },
         "legendgroup": "100",
         "line": {
          "color": "blue"
         },
         "marker": {
          "size": 3
         },
         "name": "100",
         "showlegend": false,
         "type": "scatter",
         "x": [
          1,
          2,
          4,
          8,
          16,
          32,
          64,
          128,
          256,
          512,
          1024,
          2048,
          4096,
          8192,
          16384,
          32768,
          65536
         ],
         "xaxis": "x",
         "y": [
          0.48147664198279383,
          0.4430238682925701,
          0.4346946793794632,
          0.42825766173005103,
          0.42474342995882036,
          0.41444404542446134,
          0.40723712545633317,
          0.40228963765501974,
          0.3983914160132408,
          0.39706095251441004,
          0.39595370391011236,
          0.3955320594608784,
          0.3954845362007618,
          0.3952884665727615,
          0.39514317294955253,
          0.3952016287744045,
          0.3951713363230228
         ],
         "yaxis": "y"
        },
        {
         "error_y": {
          "array": [
           0.17853291716808722,
           0.06863105558318133,
           0.04161412635326298,
           0.026958756733867138,
           0.014392540388438995,
           0.008395276571085578,
           0.005895675368854244,
           0.004219839751996147,
           0.003507345493520897,
           0.0032197244664629488,
           0.003210119145451206,
           0.0031474449322787955,
           0.0031184220398779955,
           0.003113805557997822,
           0.0031019199764988044,
           0.003113853619937978,
           0.0031003980755362477
          ],
          "color": "blue",
          "thickness": 0.9,
          "type": "data",
          "width": 0
         },
         "legendgroup": "100",
         "line": {
          "color": "blue"
         },
         "marker": {
          "size": 3
         },
         "name": "100",
         "showlegend": false,
         "type": "scatter",
         "x": [
          1,
          2,
          4,
          8,
          16,
          32,
          64,
          128,
          256,
          512,
          1024,
          2048,
          4096,
          8192,
          16384,
          32768,
          65536
         ],
         "xaxis": "x2",
         "y": [
          0.2015084147192538,
          0.12871750714816152,
          0.10275956484302878,
          0.08646663618460297,
          0.07633294393494726,
          0.06418470112234353,
          0.05456848096102476,
          0.04824033854901791,
          0.04439782712608576,
          0.04246428824216127,
          0.0415196832716465,
          0.04105546260625124,
          0.04078414773195982,
          0.040635902922600504,
          0.04057700739055872,
          0.04053651455044746,
          0.04052210071310401
         ],
         "yaxis": "y2"
        },
        {
         "error_y": {
          "array": [
           0.16256515050705972,
           0.06094308556777549,
           0.0344517978280543,
           0.019574649882051907,
           0.009393464943720047,
           0.006032728186627082,
           0.005169222007327031,
           0.004543953189533294,
           0.0043375398821464935,
           0.004175687680774738,
           0.0041146357444301635,
           0.004086600747530625,
           0.004089554004203918,
           0.004083631124328002,
           0.0040746784296324095,
           0.004076602061352143,
           0.004073859620716799
          ],
          "color": "blue",
          "thickness": 0.9,
          "type": "data",
          "width": 0
         },
         "legendgroup": "100",
         "line": {
          "color": "blue"
         },
         "marker": {
          "size": 3
         },
         "name": "100",
         "showlegend": true,
         "type": "scatter",
         "x": [
          1,
          2,
          4,
          8,
          16,
          32,
          64,
          128,
          256,
          512,
          1024,
          2048,
          4096,
          8192,
          16384,
          32768,
          65536
         ],
         "xaxis": "x3",
         "y": [
          0.19990988099202514,
          0.12310771932266652,
          0.09031662535108625,
          0.07107767140865326,
          0.058177092038095,
          0.049112153355032204,
          0.0434800604917109,
          0.04069800849445164,
          0.03922037323750555,
          0.03855752708017826,
          0.038213437512516976,
          0.038053765274584296,
          0.03796894351579249,
          0.03792685238271952,
          0.03791033740155399,
          0.037897346857935194,
          0.03789178230054677
         ],
         "yaxis": "y3"
        },
        {
         "error_y": {
          "array": [
           0.03748502513786969,
           0.02544112481405973,
           0.026264343992681884,
           0.026361069909885074,
           0.02710346806054392,
           0.0267633670562866,
           0.025837019677305242,
           0.025107980304583413,
           0.025178597940238544,
           0.024676494675444107,
           0.024505463233936504,
           0.024362607618097318,
           0.024408356816150067,
           0.024456957475447075,
           0.024433708673501447,
           0.024392241059821664,
           0.024424676508686922
          ],
          "color": "black",
          "thickness": 0.9,
          "type": "data",
          "width": 0
         },
         "legendgroup": "500",
         "line": {
          "color": "black"
         },
         "marker": {
          "size": 3
         },
         "name": "500",
         "showlegend": false,
         "type": "scatter",
         "x": [
          1,
          2,
          4,
          8,
          16,
          32,
          64,
          128,
          256,
          512,
          1024,
          2048,
          4096,
          8192,
          16384,
          32768,
          65536
         ],
         "xaxis": "x",
         "y": [
          0.382409321218729,
          0.3846746424734592,
          0.38851097133755685,
          0.3947721999287605,
          0.40198457637429236,
          0.4040293803215027,
          0.40328681775927544,
          0.402400875389576,
          0.4007812530100346,
          0.4000238283276558,
          0.39947530353069305,
          0.3992225500047207,
          0.39916892057657244,
          0.39907533857226374,
          0.3990538724064827,
          0.3990333533287048,
          0.3990481819808483
         ],
         "yaxis": "y"
        },
        {
         "error_y": {
          "array": [
           0.045255578906846394,
           0.008372262608032758,
           0.008756387364592106,
           0.007596560124289528,
           0.006444454379976674,
           0.005771238927883236,
           0.005031153313167062,
           0.004874031017577639,
           0.004573135691601038,
           0.004496839270188813,
           0.004458501708705479,
           0.004425537698153584,
           0.004429656417898767,
           0.004414459605769954,
           0.004406135273371907,
           0.00440115307945973,
           0.004409809553613839
          ],
          "color": "black",
          "thickness": 0.9,
          "type": "data",
          "width": 0
         },
         "legendgroup": "500",
         "line": {
          "color": "black"
         },
         "marker": {
          "size": 3
         },
         "name": "500",
         "showlegend": false,
         "type": "scatter",
         "x": [
          1,
          2,
          4,
          8,
          16,
          32,
          64,
          128,
          256,
          512,
          1024,
          2048,
          4096,
          8192,
          16384,
          32768,
          65536
         ],
         "xaxis": "x2",
         "y": [
          0.032577577954158186,
          0.03158863190468401,
          0.03276347135007381,
          0.03775580250658095,
          0.04467325215600431,
          0.04734494768455624,
          0.047013789094984534,
          0.04554160381481052,
          0.044237452421337364,
          0.043536422193050386,
          0.04316779296100139,
          0.042975133415311575,
          0.04284578031301498,
          0.042795260276645423,
          0.042772608831524846,
          0.04275584769248962,
          0.042752904117107395
         ],
         "yaxis": "y2"
        },
        {
         "error_y": {
          "array": [
           0.046460159909764036,
           0.009837285309783596,
           0.008022865326261562,
           0.00640904355664085,
           0.004794910045580812,
           0.0037401557901122332,
           0.002963430771791567,
           0.0024933632558251343,
           0.002277160941902499,
           0.0021736242328908016,
           0.0021075689426906657,
           0.0020738951086661057,
           0.0020630579052156517,
           0.0020497015019685285,
           0.002045609562555588,
           0.0020423777043869743,
           0.0020435702880278713
          ],
          "color": "black",
          "thickness": 0.9,
          "type": "data",
          "width": 0
         },
         "legendgroup": "500",
         "line": {
          "color": "black"
         },
         "marker": {
          "size": 3
         },
         "name": "500",
         "showlegend": true,
         "type": "scatter",
         "x": [
          1,
          2,
          4,
          8,
          16,
          32,
          64,
          128,
          256,
          512,
          1024,
          2048,
          4096,
          8192,
          16384,
          32768,
          65536
         ],
         "xaxis": "x3",
         "y": [
          0.043875256456434725,
          0.03949720419384539,
          0.03545789669826627,
          0.03404769630543888,
          0.0324346817061305,
          0.030271481269970535,
          0.028867342133075,
          0.028334545992314816,
          0.028117223132401704,
          0.028027355559170245,
          0.02799135461449623,
          0.02798267224803567,
          0.027959510693326594,
          0.0279574390668422,
          0.027962370224297046,
          0.02795713681355119,
          0.027957101652398706
         ],
         "yaxis": "y3"
        },
        {
         "error_y": {
          "array": [
           0.024384251983121566,
           0.025059748498450024,
           0.025170993883966496,
           0.025996848508107278,
           0.026470945486117236,
           0.02633322481139186,
           0.025339121827647047,
           0.025235378829013954,
           0.025075465617691323,
           0.024560893092467933,
           0.024689855262887573,
           0.024473444896438032,
           0.02441021417711211,
           0.024485138396303056,
           0.02439110724373126,
           0.024459612800949798,
           0.024440727760271386
          ],
          "color": "purple",
          "thickness": 0.9,
          "type": "data",
          "width": 0
         },
         "legendgroup": "1000",
         "line": {
          "color": "purple"
         },
         "marker": {
          "size": 3
         },
         "name": "1000",
         "showlegend": false,
         "type": "scatter",
         "x": [
          1,
          2,
          4,
          8,
          16,
          32,
          64,
          128,
          256,
          512,
          1024,
          2048,
          4096,
          8192,
          16384,
          32768,
          65536
         ],
         "xaxis": "x",
         "y": [
          0.3826186762750149,
          0.38341431772708895,
          0.3865658406615257,
          0.39162148761749266,
          0.39971794751286505,
          0.4024991476535797,
          0.4029313689172268,
          0.4010497649013996,
          0.3998823124170303,
          0.3991040056347847,
          0.3989210374057293,
          0.3985520275533199,
          0.3984500977098942,
          0.3983491647839546,
          0.3983129055202007,
          0.3983109124004841,
          0.3982992943525314
         ],
         "yaxis": "y"
        },
        {
         "error_y": {
          "array": [
           0.0038952774571487402,
           0.006624959840213761,
           0.007566580865995945,
           0.006923575157595711,
           0.006601950577429563,
           0.006159143924235478,
           0.005812608368705097,
           0.00547013069268218,
           0.005262060009591878,
           0.005073019169302372,
           0.005045446980359089,
           0.0049898770383012565,
           0.0049862814046978815,
           0.004966746255306189,
           0.004963482074045963,
           0.004955169092284248,
           0.004956972088993446
          ],
          "color": "purple",
          "thickness": 0.9,
          "type": "data",
          "width": 0
         },
         "legendgroup": "1000",
         "line": {
          "color": "purple"
         },
         "marker": {
          "size": 3
         },
         "name": "1000",
         "showlegend": false,
         "type": "scatter",
         "x": [
          1,
          2,
          4,
          8,
          16,
          32,
          64,
          128,
          256,
          512,
          1024,
          2048,
          4096,
          8192,
          16384,
          32768,
          65536
         ],
         "xaxis": "x2",
         "y": [
          0.027091887956485153,
          0.027354095694608987,
          0.028211009791120886,
          0.033218668909743426,
          0.04148897922970354,
          0.0459557290263474,
          0.04619227922335267,
          0.04501247007399797,
          0.04388257332518697,
          0.04314652270078659,
          0.04277848583459854,
          0.04252280989661813,
          0.04243381386995316,
          0.04238494573533535,
          0.04235774490982294,
          0.0423410286642611,
          0.04233676103129983
         ],
         "yaxis": "y2"
        },
        {
         "error_y": {
          "array": [
           0.008011645250216146,
           0.008571369055663733,
           0.007399797521573674,
           0.005589503287724966,
           0.004349471983127146,
           0.0030289255232472047,
           0.002232542598977394,
           0.0017759494508431948,
           0.0015752185204715565,
           0.001475899958063818,
           0.001424302787856804,
           0.0014107763735257519,
           0.0013982860141611647,
           0.001390164680294946,
           0.0013883270325341544,
           0.001384868652329529,
           0.001385484284816895
          ],
          "color": "purple",
          "thickness": 0.9,
          "type": "data",
          "width": 0
         },
         "legendgroup": "1000",
         "line": {
          "color": "purple"
         },
         "marker": {
          "size": 3
         },
         "name": "1000",
         "showlegend": true,
         "type": "scatter",
         "x": [
          1,
          2,
          4,
          8,
          16,
          32,
          64,
          128,
          256,
          512,
          1024,
          2048,
          4096,
          8192,
          16384,
          32768,
          65536
         ],
         "xaxis": "x3",
         "y": [
          0.0383936085999012,
          0.03573853581678122,
          0.031963051383383574,
          0.02973985318467021,
          0.027487689128145577,
          0.025119943851605056,
          0.023932857317849995,
          0.02352766144834459,
          0.023440011506900192,
          0.02344530730508268,
          0.023456113597378134,
          0.02345579905435443,
          0.023467007756233216,
          0.023472848147153856,
          0.023474265560507773,
          0.023475299501791596,
          0.023474226456135512
         ],
         "yaxis": "y3"
        },
        {
         "error_y": {
          "array": [
           0.024686923686107518,
           0.024492641497384594,
           0.024605100688548563,
           0.025697294341634223,
           0.02610836991325363,
           0.025883664269457634,
           0.02567480264445434,
           0.02506075586499859,
           0.024808119753864395,
           0.024806889340780007,
           0.024576151324802814,
           0.024553786986358857,
           0.024504484676562254,
           0.024507474839761352,
           0.024504659932348502,
           0.02450859377018212,
           0.0245270810259562
          ],
          "color": "orange",
          "thickness": 0.9,
          "type": "data",
          "width": 0
         },
         "legendgroup": "2000",
         "line": {
          "color": "orange"
         },
         "marker": {
          "size": 3
         },
         "name": "2000",
         "showlegend": false,
         "type": "scatter",
         "x": [
          1,
          2,
          4,
          8,
          16,
          32,
          64,
          128,
          256,
          512,
          1024,
          2048,
          4096,
          8192,
          16384,
          32768,
          65536
         ],
         "xaxis": "x",
         "y": [
          0.38341385579109194,
          0.3837335962355137,
          0.38540637198090555,
          0.3905327583551407,
          0.3985265423357487,
          0.4020744981765747,
          0.4011836023330688,
          0.3996871182322502,
          0.3977158792316914,
          0.39691903403401374,
          0.39639497455954553,
          0.39607339188456536,
          0.39598042938113215,
          0.39590113538503646,
          0.3958541030287743,
          0.39587106424570084,
          0.39581085416674616
         ],
         "yaxis": "y"
        },
        {
         "error_y": {
          "array": [
           0.0032921273762832578,
           0.006141871152817281,
           0.006634096876818748,
           0.0068970441972428295,
           0.007347209852987992,
           0.00748560201676444,
           0.0067711537351151235,
           0.006144558235790643,
           0.005813978937072245,
           0.005704697971548705,
           0.005637173666624734,
           0.005605607732277268,
           0.005571977771901421,
           0.005558917214776105,
           0.005549124440105913,
           0.005542750353379884,
           0.0055380174093750765
          ],
          "color": "orange",
          "thickness": 0.9,
          "type": "data",
          "width": 0
         },
         "legendgroup": "2000",
         "line": {
          "color": "orange"
         },
         "marker": {
          "size": 3
         },
         "name": "2000",
         "showlegend": false,
         "type": "scatter",
         "x": [
          1,
          2,
          4,
          8,
          16,
          32,
          64,
          128,
          256,
          512,
          1024,
          2048,
          4096,
          8192,
          16384,
          32768,
          65536
         ],
         "xaxis": "x2",
         "y": [
          0.02632497952692211,
          0.026000784303992986,
          0.02697718744724989,
          0.03203425372764468,
          0.04105204181745648,
          0.04556959777697921,
          0.04518779538944363,
          0.04359843422845006,
          0.0422918868586421,
          0.041502480359748004,
          0.041112069686874746,
          0.04089230130240321,
          0.04076546762138605,
          0.040691678626462814,
          0.04067277556471527,
          0.04065578835457563,
          0.04065325918979943
         ],
         "yaxis": "y2"
        },
        {
         "error_y": {
          "array": [
           0.007747625461856808,
           0.008085968692393045,
           0.006895446341966542,
           0.005146693380739651,
           0.003589932314157683,
           0.002215775566731584,
           0.0016008797937870842,
           0.0013356701333164494,
           0.0012194794716654086,
           0.0011537455890425472,
           0.00113274503574324,
           0.0011220732294637034,
           0.0011167605512634288,
           0.0011126356521889893,
           0.001110986817206197,
           0.001109449474259499,
           0.0011088876431271566
          ],
          "color": "orange",
          "thickness": 0.9,
          "type": "data",
          "width": 0
         },
         "legendgroup": "2000",
         "line": {
          "color": "orange"
         },
         "marker": {
          "size": 3
         },
         "name": "2000",
         "showlegend": true,
         "type": "scatter",
         "x": [
          1,
          2,
          4,
          8,
          16,
          32,
          64,
          128,
          256,
          512,
          1024,
          2048,
          4096,
          8192,
          16384,
          32768,
          65536
         ],
         "xaxis": "x3",
         "y": [
          0.037936147591099145,
          0.034059418488293886,
          0.029789271984249355,
          0.026291450269520282,
          0.02286538814753294,
          0.020096000576391816,
          0.01906541767716408,
          0.0189006703523919,
          0.01894488475471735,
          0.018994407488033174,
          0.019045427706092598,
          0.01906330906972289,
          0.01907772483676672,
          0.019079954186454414,
          0.0190851674284786,
          0.019085851848125456,
          0.019085638204589486
         ],
         "yaxis": "y3"
        }
       ],
       "layout": {
        "annotations": [
         {
          "font": {
           "size": 16
          },
          "showarrow": false,
          "text": "Test MSE (minority)",
          "x": 0.14444444444444446,
          "xanchor": "center",
          "xref": "paper",
          "y": 1,
          "yanchor": "bottom",
          "yref": "paper"
         },
         {
          "font": {
           "size": 16
          },
          "showarrow": false,
          "text": "Test MSE (majority)",
          "x": 0.5,
          "xanchor": "center",
          "xref": "paper",
          "y": 1,
          "yanchor": "bottom",
          "yref": "paper"
         },
         {
          "font": {
           "size": 16
          },
          "showarrow": false,
          "text": "Train MSE (overall)",
          "x": 0.8555555555555556,
          "xanchor": "center",
          "xref": "paper",
          "y": 1,
          "yanchor": "bottom",
          "yref": "paper"
         }
        ],
        "height": 400,
        "legend": {
         "title": {
          "text": "epochs"
         }
        },
        "template": {
         "data": {
          "bar": [
           {
            "error_x": {
             "color": "#2a3f5f"
            },
            "error_y": {
             "color": "#2a3f5f"
            },
            "marker": {
             "line": {
              "color": "#E5ECF6",
              "width": 0.5
             }
            },
            "type": "bar"
           }
          ],
          "barpolar": [
           {
            "marker": {
             "line": {
              "color": "#E5ECF6",
              "width": 0.5
             }
            },
            "type": "barpolar"
           }
          ],
          "carpet": [
           {
            "aaxis": {
             "endlinecolor": "#2a3f5f",
             "gridcolor": "white",
             "linecolor": "white",
             "minorgridcolor": "white",
             "startlinecolor": "#2a3f5f"
            },
            "baxis": {
             "endlinecolor": "#2a3f5f",
             "gridcolor": "white",
             "linecolor": "white",
             "minorgridcolor": "white",
             "startlinecolor": "#2a3f5f"
            },
            "type": "carpet"
           }
          ],
          "choropleth": [
           {
            "colorbar": {
             "outlinewidth": 0,
             "ticks": ""
            },
            "type": "choropleth"
           }
          ],
          "contour": [
           {
            "colorbar": {
             "outlinewidth": 0,
             "ticks": ""
            },
            "colorscale": [
             [
              0,
              "#0d0887"
             ],
             [
              0.1111111111111111,
              "#46039f"
             ],
             [
              0.2222222222222222,
              "#7201a8"
             ],
             [
              0.3333333333333333,
              "#9c179e"
             ],
             [
              0.4444444444444444,
              "#bd3786"
             ],
             [
              0.5555555555555556,
              "#d8576b"
             ],
             [
              0.6666666666666666,
              "#ed7953"
             ],
             [
              0.7777777777777778,
              "#fb9f3a"
             ],
             [
              0.8888888888888888,
              "#fdca26"
             ],
             [
              1,
              "#f0f921"
             ]
            ],
            "type": "contour"
           }
          ],
          "contourcarpet": [
           {
            "colorbar": {
             "outlinewidth": 0,
             "ticks": ""
            },
            "type": "contourcarpet"
           }
          ],
          "heatmap": [
           {
            "colorbar": {
             "outlinewidth": 0,
             "ticks": ""
            },
            "colorscale": [
             [
              0,
              "#0d0887"
             ],
             [
              0.1111111111111111,
              "#46039f"
             ],
             [
              0.2222222222222222,
              "#7201a8"
             ],
             [
              0.3333333333333333,
              "#9c179e"
             ],
             [
              0.4444444444444444,
              "#bd3786"
             ],
             [
              0.5555555555555556,
              "#d8576b"
             ],
             [
              0.6666666666666666,
              "#ed7953"
             ],
             [
              0.7777777777777778,
              "#fb9f3a"
             ],
             [
              0.8888888888888888,
              "#fdca26"
             ],
             [
              1,
              "#f0f921"
             ]
            ],
            "type": "heatmap"
           }
          ],
          "heatmapgl": [
           {
            "colorbar": {
             "outlinewidth": 0,
             "ticks": ""
            },
            "colorscale": [
             [
              0,
              "#0d0887"
             ],
             [
              0.1111111111111111,
              "#46039f"
             ],
             [
              0.2222222222222222,
              "#7201a8"
             ],
             [
              0.3333333333333333,
              "#9c179e"
             ],
             [
              0.4444444444444444,
              "#bd3786"
             ],
             [
              0.5555555555555556,
              "#d8576b"
             ],
             [
              0.6666666666666666,
              "#ed7953"
             ],
             [
              0.7777777777777778,
              "#fb9f3a"
             ],
             [
              0.8888888888888888,
              "#fdca26"
             ],
             [
              1,
              "#f0f921"
             ]
            ],
            "type": "heatmapgl"
           }
          ],
          "histogram": [
           {
            "marker": {
             "colorbar": {
              "outlinewidth": 0,
              "ticks": ""
             }
            },
            "type": "histogram"
           }
          ],
          "histogram2d": [
           {
            "colorbar": {
             "outlinewidth": 0,
             "ticks": ""
            },
            "colorscale": [
             [
              0,
              "#0d0887"
             ],
             [
              0.1111111111111111,
              "#46039f"
             ],
             [
              0.2222222222222222,
              "#7201a8"
             ],
             [
              0.3333333333333333,
              "#9c179e"
             ],
             [
              0.4444444444444444,
              "#bd3786"
             ],
             [
              0.5555555555555556,
              "#d8576b"
             ],
             [
              0.6666666666666666,
              "#ed7953"
             ],
             [
              0.7777777777777778,
              "#fb9f3a"
             ],
             [
              0.8888888888888888,
              "#fdca26"
             ],
             [
              1,
              "#f0f921"
             ]
            ],
            "type": "histogram2d"
           }
          ],
          "histogram2dcontour": [
           {
            "colorbar": {
             "outlinewidth": 0,
             "ticks": ""
            },
            "colorscale": [
             [
              0,
              "#0d0887"
             ],
             [
              0.1111111111111111,
              "#46039f"
             ],
             [
              0.2222222222222222,
              "#7201a8"
             ],
             [
              0.3333333333333333,
              "#9c179e"
             ],
             [
              0.4444444444444444,
              "#bd3786"
             ],
             [
              0.5555555555555556,
              "#d8576b"
             ],
             [
              0.6666666666666666,
              "#ed7953"
             ],
             [
              0.7777777777777778,
              "#fb9f3a"
             ],
             [
              0.8888888888888888,
              "#fdca26"
             ],
             [
              1,
              "#f0f921"
             ]
            ],
            "type": "histogram2dcontour"
           }
          ],
          "mesh3d": [
           {
            "colorbar": {
             "outlinewidth": 0,
             "ticks": ""
            },
            "type": "mesh3d"
           }
          ],
          "parcoords": [
           {
            "line": {
             "colorbar": {
              "outlinewidth": 0,
              "ticks": ""
             }
            },
            "type": "parcoords"
           }
          ],
          "pie": [
           {
            "automargin": true,
            "type": "pie"
           }
          ],
          "scatter": [
           {
            "marker": {
             "colorbar": {
              "outlinewidth": 0,
              "ticks": ""
             }
            },
            "type": "scatter"
           }
          ],
          "scatter3d": [
           {
            "line": {
             "colorbar": {
              "outlinewidth": 0,
              "ticks": ""
             }
            },
            "marker": {
             "colorbar": {
              "outlinewidth": 0,
              "ticks": ""
             }
            },
            "type": "scatter3d"
           }
          ],
          "scattercarpet": [
           {
            "marker": {
             "colorbar": {
              "outlinewidth": 0,
              "ticks": ""
             }
            },
            "type": "scattercarpet"
           }
          ],
          "scattergeo": [
           {
            "marker": {
             "colorbar": {
              "outlinewidth": 0,
              "ticks": ""
             }
            },
            "type": "scattergeo"
           }
          ],
          "scattergl": [
           {
            "marker": {
             "colorbar": {
              "outlinewidth": 0,
              "ticks": ""
             }
            },
            "type": "scattergl"
           }
          ],
          "scattermapbox": [
           {
            "marker": {
             "colorbar": {
              "outlinewidth": 0,
              "ticks": ""
             }
            },
            "type": "scattermapbox"
           }
          ],
          "scatterpolar": [
           {
            "marker": {
             "colorbar": {
              "outlinewidth": 0,
              "ticks": ""
             }
            },
            "type": "scatterpolar"
           }
          ],
          "scatterpolargl": [
           {
            "marker": {
             "colorbar": {
              "outlinewidth": 0,
              "ticks": ""
             }
            },
            "type": "scatterpolargl"
           }
          ],
          "scatterternary": [
           {
            "marker": {
             "colorbar": {
              "outlinewidth": 0,
              "ticks": ""
             }
            },
            "type": "scatterternary"
           }
          ],
          "surface": [
           {
            "colorbar": {
             "outlinewidth": 0,
             "ticks": ""
            },
            "colorscale": [
             [
              0,
              "#0d0887"
             ],
             [
              0.1111111111111111,
              "#46039f"
             ],
             [
              0.2222222222222222,
              "#7201a8"
             ],
             [
              0.3333333333333333,
              "#9c179e"
             ],
             [
              0.4444444444444444,
              "#bd3786"
             ],
             [
              0.5555555555555556,
              "#d8576b"
             ],
             [
              0.6666666666666666,
              "#ed7953"
             ],
             [
              0.7777777777777778,
              "#fb9f3a"
             ],
             [
              0.8888888888888888,
              "#fdca26"
             ],
             [
              1,
              "#f0f921"
             ]
            ],
            "type": "surface"
           }
          ],
          "table": [
           {
            "cells": {
             "fill": {
              "color": "#EBF0F8"
             },
             "line": {
              "color": "white"
             }
            },
            "header": {
             "fill": {
              "color": "#C8D4E3"
             },
             "line": {
              "color": "white"
             }
            },
            "type": "table"
           }
          ]
         },
         "layout": {
          "annotationdefaults": {
           "arrowcolor": "#2a3f5f",
           "arrowhead": 0,
           "arrowwidth": 1
          },
          "coloraxis": {
           "colorbar": {
            "outlinewidth": 0,
            "ticks": ""
           }
          },
          "colorscale": {
           "diverging": [
            [
             0,
             "#8e0152"
            ],
            [
             0.1,
             "#c51b7d"
            ],
            [
             0.2,
             "#de77ae"
            ],
            [
             0.3,
             "#f1b6da"
            ],
            [
             0.4,
             "#fde0ef"
            ],
            [
             0.5,
             "#f7f7f7"
            ],
            [
             0.6,
             "#e6f5d0"
            ],
            [
             0.7,
             "#b8e186"
            ],
            [
             0.8,
             "#7fbc41"
            ],
            [
             0.9,
             "#4d9221"
            ],
            [
             1,
             "#276419"
            ]
           ],
           "sequential": [
            [
             0,
             "#0d0887"
            ],
            [
             0.1111111111111111,
             "#46039f"
            ],
            [
             0.2222222222222222,
             "#7201a8"
            ],
            [
             0.3333333333333333,
             "#9c179e"
            ],
            [
             0.4444444444444444,
             "#bd3786"
            ],
            [
             0.5555555555555556,
             "#d8576b"
            ],
            [
             0.6666666666666666,
             "#ed7953"
            ],
            [
             0.7777777777777778,
             "#fb9f3a"
            ],
            [
             0.8888888888888888,
             "#fdca26"
            ],
            [
             1,
             "#f0f921"
            ]
           ],
           "sequentialminus": [
            [
             0,
             "#0d0887"
            ],
            [
             0.1111111111111111,
             "#46039f"
            ],
            [
             0.2222222222222222,
             "#7201a8"
            ],
            [
             0.3333333333333333,
             "#9c179e"
            ],
            [
             0.4444444444444444,
             "#bd3786"
            ],
            [
             0.5555555555555556,
             "#d8576b"
            ],
            [
             0.6666666666666666,
             "#ed7953"
            ],
            [
             0.7777777777777778,
             "#fb9f3a"
            ],
            [
             0.8888888888888888,
             "#fdca26"
            ],
            [
             1,
             "#f0f921"
            ]
           ]
          },
          "colorway": [
           "#636efa",
           "#EF553B",
           "#00cc96",
           "#ab63fa",
           "#FFA15A",
           "#19d3f3",
           "#FF6692",
           "#B6E880",
           "#FF97FF",
           "#FECB52"
          ],
          "font": {
           "color": "#2a3f5f"
          },
          "geo": {
           "bgcolor": "white",
           "lakecolor": "white",
           "landcolor": "#E5ECF6",
           "showlakes": true,
           "showland": true,
           "subunitcolor": "white"
          },
          "hoverlabel": {
           "align": "left"
          },
          "hovermode": "closest",
          "mapbox": {
           "style": "light"
          },
          "paper_bgcolor": "white",
          "plot_bgcolor": "#E5ECF6",
          "polar": {
           "angularaxis": {
            "gridcolor": "white",
            "linecolor": "white",
            "ticks": ""
           },
           "bgcolor": "#E5ECF6",
           "radialaxis": {
            "gridcolor": "white",
            "linecolor": "white",
            "ticks": ""
           }
          },
          "scene": {
           "xaxis": {
            "backgroundcolor": "#E5ECF6",
            "gridcolor": "white",
            "gridwidth": 2,
            "linecolor": "white",
            "showbackground": true,
            "ticks": "",
            "zerolinecolor": "white"
           },
           "yaxis": {
            "backgroundcolor": "#E5ECF6",
            "gridcolor": "white",
            "gridwidth": 2,
            "linecolor": "white",
            "showbackground": true,
            "ticks": "",
            "zerolinecolor": "white"
           },
           "zaxis": {
            "backgroundcolor": "#E5ECF6",
            "gridcolor": "white",
            "gridwidth": 2,
            "linecolor": "white",
            "showbackground": true,
            "ticks": "",
            "zerolinecolor": "white"
           }
          },
          "shapedefaults": {
           "line": {
            "color": "#2a3f5f"
           }
          },
          "ternary": {
           "aaxis": {
            "gridcolor": "white",
            "linecolor": "white",
            "ticks": ""
           },
           "baxis": {
            "gridcolor": "white",
            "linecolor": "white",
            "ticks": ""
           },
           "bgcolor": "#E5ECF6",
           "caxis": {
            "gridcolor": "white",
            "linecolor": "white",
            "ticks": ""
           }
          },
          "title": {
           "x": 0.05
          },
          "xaxis": {
           "automargin": true,
           "gridcolor": "white",
           "linecolor": "white",
           "ticks": "",
           "title": {
            "standoff": 15
           },
           "zerolinecolor": "white",
           "zerolinewidth": 2
          },
          "yaxis": {
           "automargin": true,
           "gridcolor": "white",
           "linecolor": "white",
           "ticks": "",
           "title": {
            "standoff": 15
           },
           "zerolinecolor": "white",
           "zerolinewidth": 2
          }
         }
        },
        "width": 1000,
        "xaxis": {
         "anchor": "y",
         "domain": [
          0,
          0.2888888888888889
         ],
         "title": {
          "text": "nodes"
         },
         "type": "log"
        },
        "xaxis2": {
         "anchor": "y2",
         "domain": [
          0.35555555555555557,
          0.6444444444444445
         ],
         "title": {
          "text": "nodes"
         },
         "type": "log"
        },
        "xaxis3": {
         "anchor": "y3",
         "domain": [
          0.7111111111111111,
          1
         ],
         "title": {
          "text": "nodes"
         },
         "type": "log"
        },
        "yaxis": {
         "anchor": "x",
         "domain": [
          0,
          1
         ]
        },
        "yaxis2": {
         "anchor": "x2",
         "domain": [
          0,
          1
         ]
        },
        "yaxis3": {
         "anchor": "x3",
         "domain": [
          0,
          1
         ]
        }
       }
      }
     },
     "metadata": {}
    },
    {
     "output_type": "execute_result",
     "data": {
      "text/plain": [
       "'trainable_both_small_beta.html'"
      ]
     },
     "metadata": {},
     "execution_count": 4
    }
   ],
   "source": [
    "epochs_list = np.unique(df['epochs'])\n",
    "color_list=['red', 'green', 'blue', 'black', 'purple', 'orange']\n",
    "\n",
    "from plotly.subplots import make_subplots\n",
    "import plotly.graph_objects as go\n",
    "import plotly\n",
    "fig = make_subplots(rows = 1, cols=3, subplot_titles=['Test MSE (minority)', 'Test MSE (majority)', 'Train MSE (overall)'])\n",
    "for epochs, color in zip(epochs_list, color_list):\n",
    "    line = go.scatter.Line(color = color)\n",
    "    result1 = result.loc[result['epochs']==epochs]\n",
    "    nodes, mean, std, count = result1['nodes'], result1['minority-mse']['mean'], result1['minority-mse']['std'],\\\n",
    "     result1['minority-mse']['count']\n",
    "    error_y = dict(type = 'data', array = std, color = color, width = 0, thickness = 0.9)\n",
    "    marker = dict(size = 3)\n",
    "    fig.append_trace(go.Scatter(x = nodes, y = mean, line = line, error_y = error_y, marker = marker, name = str(epochs),\\\n",
    "         legendgroup = str(epochs), showlegend = False), row = 1, col = 1)\n",
    "\n",
    "    mean, std, count = result1['majority-mse']['mean'], result1['majority-mse']['std'], result1['majority-mse']['count']\n",
    "    error_y['array'] = std\n",
    "    fig.append_trace(go.Scatter(x = nodes, y = mean, line = line,  error_y = error_y, marker = marker, name = str(epochs),\\\n",
    "        legendgroup = str(epochs), showlegend = False), row = 1, col = 2)\n",
    "\n",
    "    mean, std, count = result1['train-mse']['mean'], result1['train-mse']['std'], result1['train-mse']['count']\n",
    "    error_y['array'] = std\n",
    "    fig.append_trace(go.Scatter(x = nodes, y = mean, line = line, error_y = error_y, marker = marker,  name = str(epochs),\\\n",
    "        legendgroup = str(epochs), showlegend = True), row = 1, col = 3)\n",
    "\n",
    "\n",
    "fig.update_xaxes(type = 'log', title = 'nodes')\n",
    "fig.update_layout(height = 400, width = 1000, legend_title_text='epochs')\n",
    "\n",
    "fig.show()\n",
    "plotly.offline.plot(fig, filename = filename + '.html')"
   ]
  },
  {
   "cell_type": "code",
   "execution_count": null,
   "metadata": {},
   "outputs": [],
   "source": []
  }
 ]
}