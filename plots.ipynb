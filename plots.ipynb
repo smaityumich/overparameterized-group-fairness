{
 "metadata": {
  "language_info": {
   "codemirror_mode": {
    "name": "ipython",
    "version": 3
   },
   "file_extension": ".py",
   "mimetype": "text/x-python",
   "name": "python",
   "nbconvert_exporter": "python",
   "pygments_lexer": "ipython3",
   "version": "3.7.6-final"
  },
  "orig_nbformat": 2,
  "kernelspec": {
   "name": "python37664bitd090249c0cf5439884290524b93fde75",
   "display_name": "Python 3.7.6 64-bit"
  }
 },
 "nbformat": 4,
 "nbformat_minor": 2,
 "cells": [
  {
   "cell_type": "code",
   "execution_count": 1,
   "metadata": {},
   "outputs": [
    {
     "output_type": "execute_result",
     "data": {
      "text/plain": [
       "nodes             int64\n",
       "epochs            int64\n",
       "train-mse       float64\n",
       "majority-mse    float64\n",
       "minority-mse    float64\n",
       "dtype: object"
      ]
     },
     "metadata": {},
     "execution_count": 1
    }
   ],
   "source": [
    "import re\n",
    "import pandas as pd\n",
    "import numpy as np\n",
    "import matplotlib.pyplot as plt\n",
    "filename = 'trainable_last_large_beta'\n",
    "image_title = '$\\\\|\\\\beta\\\\|_2^2$: 16, Trainable: last layer'\n",
    "plotly_title = r'$\\|\\beta\\|_2^2$: 16, Trainable: last layer'\n",
    "exp = 'summary/' + filename + '.txt'\n",
    "with open(exp) as fh:\n",
    "    out = fh.read()\n",
    "\n",
    "out = re.split(r'\\n', out)\n",
    "\n",
    "dict_list = []\n",
    "for d in out:\n",
    "    try:\n",
    "        f = eval(d)\n",
    "        dict_list.append(f)\n",
    "    except:\n",
    "        continue\n",
    "\n",
    "#dict_list = [eval(d) for d in out]\n",
    "df = pd.DataFrame(dict_list)\n",
    "#df['lipton-excess'] = (df['lipton'] - df['bayes_error']).astype('float32') \n",
    "#df['oracle-excess'] = (df['oracle'] - df['bayes_error']).astype('float32') \n",
    "df.dtypes"
   ]
  },
  {
   "cell_type": "code",
   "execution_count": 2,
   "metadata": {
    "tags": []
   },
   "outputs": [
    {
     "output_type": "execute_result",
     "data": {
      "text/plain": [
       "     nodes epochs  train-mse                 majority-mse                  \\\n",
       "                        mean       std count         mean       std count   \n",
       "0        1     20  14.867621  1.947895   299    15.032770  1.523842   299   \n",
       "1        1     40  14.828846  1.970860   299    15.053100  1.581637   299   \n",
       "2        1    100  14.804706  2.132527   299    15.044032  1.635739   299   \n",
       "3        1    500  14.874261  2.089365   299    15.096861  1.536223   299   \n",
       "4        1   1000  14.810392  2.001067   299    14.986411  1.612090   299   \n",
       "..     ...    ...        ...       ...   ...          ...       ...   ...   \n",
       "97   65536     40   0.383305  0.110828   299     0.260829  0.082548   299   \n",
       "98   65536    100   0.277320  0.096060   299     0.107510  0.030947   299   \n",
       "99   65536    500   0.221702  0.075272   299     0.141106  0.050767   299   \n",
       "100  65536   1000   0.201669  0.067169   299     0.167724  0.062740   299   \n",
       "101  65536   2000   0.180472  0.058526   299     0.188804  0.071202   299   \n",
       "\n",
       "    minority-mse                  \n",
       "            mean       std count  \n",
       "0      15.286181  1.419148   299  \n",
       "1      15.316724  1.702241   299  \n",
       "2      15.311249  1.750857   299  \n",
       "3      15.343792  1.765214   299  \n",
       "4      15.391967  1.629924   299  \n",
       "..           ...       ...   ...  \n",
       "97      5.495980  0.411280   299  \n",
       "98      5.754800  0.355829   299  \n",
       "99      5.854559  0.340300   299  \n",
       "100     5.895774  0.338797   299  \n",
       "101     5.923410  0.339599   299  \n",
       "\n",
       "[102 rows x 11 columns]"
      ],
      "text/html": "<div>\n<style scoped>\n    .dataframe tbody tr th:only-of-type {\n        vertical-align: middle;\n    }\n\n    .dataframe tbody tr th {\n        vertical-align: top;\n    }\n\n    .dataframe thead tr th {\n        text-align: left;\n    }\n</style>\n<table border=\"1\" class=\"dataframe\">\n  <thead>\n    <tr>\n      <th></th>\n      <th>nodes</th>\n      <th>epochs</th>\n      <th colspan=\"3\" halign=\"left\">train-mse</th>\n      <th colspan=\"3\" halign=\"left\">majority-mse</th>\n      <th colspan=\"3\" halign=\"left\">minority-mse</th>\n    </tr>\n    <tr>\n      <th></th>\n      <th></th>\n      <th></th>\n      <th>mean</th>\n      <th>std</th>\n      <th>count</th>\n      <th>mean</th>\n      <th>std</th>\n      <th>count</th>\n      <th>mean</th>\n      <th>std</th>\n      <th>count</th>\n    </tr>\n  </thead>\n  <tbody>\n    <tr>\n      <th>0</th>\n      <td>1</td>\n      <td>20</td>\n      <td>14.867621</td>\n      <td>1.947895</td>\n      <td>299</td>\n      <td>15.032770</td>\n      <td>1.523842</td>\n      <td>299</td>\n      <td>15.286181</td>\n      <td>1.419148</td>\n      <td>299</td>\n    </tr>\n    <tr>\n      <th>1</th>\n      <td>1</td>\n      <td>40</td>\n      <td>14.828846</td>\n      <td>1.970860</td>\n      <td>299</td>\n      <td>15.053100</td>\n      <td>1.581637</td>\n      <td>299</td>\n      <td>15.316724</td>\n      <td>1.702241</td>\n      <td>299</td>\n    </tr>\n    <tr>\n      <th>2</th>\n      <td>1</td>\n      <td>100</td>\n      <td>14.804706</td>\n      <td>2.132527</td>\n      <td>299</td>\n      <td>15.044032</td>\n      <td>1.635739</td>\n      <td>299</td>\n      <td>15.311249</td>\n      <td>1.750857</td>\n      <td>299</td>\n    </tr>\n    <tr>\n      <th>3</th>\n      <td>1</td>\n      <td>500</td>\n      <td>14.874261</td>\n      <td>2.089365</td>\n      <td>299</td>\n      <td>15.096861</td>\n      <td>1.536223</td>\n      <td>299</td>\n      <td>15.343792</td>\n      <td>1.765214</td>\n      <td>299</td>\n    </tr>\n    <tr>\n      <th>4</th>\n      <td>1</td>\n      <td>1000</td>\n      <td>14.810392</td>\n      <td>2.001067</td>\n      <td>299</td>\n      <td>14.986411</td>\n      <td>1.612090</td>\n      <td>299</td>\n      <td>15.391967</td>\n      <td>1.629924</td>\n      <td>299</td>\n    </tr>\n    <tr>\n      <th>...</th>\n      <td>...</td>\n      <td>...</td>\n      <td>...</td>\n      <td>...</td>\n      <td>...</td>\n      <td>...</td>\n      <td>...</td>\n      <td>...</td>\n      <td>...</td>\n      <td>...</td>\n      <td>...</td>\n    </tr>\n    <tr>\n      <th>97</th>\n      <td>65536</td>\n      <td>40</td>\n      <td>0.383305</td>\n      <td>0.110828</td>\n      <td>299</td>\n      <td>0.260829</td>\n      <td>0.082548</td>\n      <td>299</td>\n      <td>5.495980</td>\n      <td>0.411280</td>\n      <td>299</td>\n    </tr>\n    <tr>\n      <th>98</th>\n      <td>65536</td>\n      <td>100</td>\n      <td>0.277320</td>\n      <td>0.096060</td>\n      <td>299</td>\n      <td>0.107510</td>\n      <td>0.030947</td>\n      <td>299</td>\n      <td>5.754800</td>\n      <td>0.355829</td>\n      <td>299</td>\n    </tr>\n    <tr>\n      <th>99</th>\n      <td>65536</td>\n      <td>500</td>\n      <td>0.221702</td>\n      <td>0.075272</td>\n      <td>299</td>\n      <td>0.141106</td>\n      <td>0.050767</td>\n      <td>299</td>\n      <td>5.854559</td>\n      <td>0.340300</td>\n      <td>299</td>\n    </tr>\n    <tr>\n      <th>100</th>\n      <td>65536</td>\n      <td>1000</td>\n      <td>0.201669</td>\n      <td>0.067169</td>\n      <td>299</td>\n      <td>0.167724</td>\n      <td>0.062740</td>\n      <td>299</td>\n      <td>5.895774</td>\n      <td>0.338797</td>\n      <td>299</td>\n    </tr>\n    <tr>\n      <th>101</th>\n      <td>65536</td>\n      <td>2000</td>\n      <td>0.180472</td>\n      <td>0.058526</td>\n      <td>299</td>\n      <td>0.188804</td>\n      <td>0.071202</td>\n      <td>299</td>\n      <td>5.923410</td>\n      <td>0.339599</td>\n      <td>299</td>\n    </tr>\n  </tbody>\n</table>\n<p>102 rows × 11 columns</p>\n</div>"
     },
     "metadata": {},
     "execution_count": 2
    }
   ],
   "source": [
    "measure = ['train-mse', 'majority-mse', 'minority-mse']\n",
    "agg_dict = dict()\n",
    "for key in measure:\n",
    "    agg_dict[key] = ['mean', 'std', 'count']\n",
    "result = df.groupby(['nodes', 'epochs'], as_index=False).agg(agg_dict)\n",
    "result"
   ]
  },
  {
   "cell_type": "code",
   "execution_count": 3,
   "metadata": {},
   "outputs": [
    {
     "output_type": "display_data",
     "data": {
      "text/plain": "<Figure size 1296x360 with 3 Axes>",
      "image/svg+xml": "<?xml version=\"1.0\" encoding=\"utf-8\" standalone=\"no\"?>\n<!DOCTYPE svg PUBLIC \"-//W3C//DTD SVG 1.1//EN\"\n  \"http://www.w3.org/Graphics/SVG/1.1/DTD/svg11.dtd\">\n<!-- Created with matplotlib (https://matplotlib.org/) -->\n<svg height=\"352.55625pt\" version=\"1.1\" viewBox=\"0 0 1044.129861 352.55625\" width=\"1044.129861pt\" xmlns=\"http://www.w3.org/2000/svg\" xmlns:xlink=\"http://www.w3.org/1999/xlink\">\n <defs>\n  <style type=\"text/css\">\n*{stroke-linecap:butt;stroke-linejoin:round;}\n  </style>\n </defs>\n <g id=\"figure_1\">\n  <g id=\"patch_1\">\n   <path d=\"M 0 352.55625 \nL 1044.129861 352.55625 \nL 1044.129861 0 \nL 0 0 \nz\n\" style=\"fill:none;\"/>\n  </g>\n  <g id=\"axes_1\">\n   <g id=\"patch_2\">\n    <path d=\"M 26.925 315 \nL 322.336765 315 \nL 322.336765 43.2 \nL 26.925 43.2 \nz\n\" style=\"fill:#ffffff;\"/>\n   </g>\n   <g id=\"matplotlib.axis_1\">\n    <g id=\"xtick_1\">\n     <g id=\"line2d_1\">\n      <defs>\n       <path d=\"M 0 0 \nL 0 3.5 \n\" id=\"mfd3e5079db\" style=\"stroke:#000000;stroke-width:0.8;\"/>\n      </defs>\n      <g>\n       <use style=\"stroke:#000000;stroke-width:0.8;\" x=\"40.352807\" xlink:href=\"#mfd3e5079db\" y=\"315\"/>\n      </g>\n     </g>\n     <g id=\"text_1\">\n      <!-- $\\mathdefault{10^{0}}$ -->\n      <defs>\n       <path d=\"M 12.40625 8.296875 \nL 28.515625 8.296875 \nL 28.515625 63.921875 \nL 10.984375 60.40625 \nL 10.984375 69.390625 \nL 28.421875 72.90625 \nL 38.28125 72.90625 \nL 38.28125 8.296875 \nL 54.390625 8.296875 \nL 54.390625 0 \nL 12.40625 0 \nz\n\" id=\"DejaVuSans-49\"/>\n       <path d=\"M 31.78125 66.40625 \nQ 24.171875 66.40625 20.328125 58.90625 \nQ 16.5 51.421875 16.5 36.375 \nQ 16.5 21.390625 20.328125 13.890625 \nQ 24.171875 6.390625 31.78125 6.390625 \nQ 39.453125 6.390625 43.28125 13.890625 \nQ 47.125 21.390625 47.125 36.375 \nQ 47.125 51.421875 43.28125 58.90625 \nQ 39.453125 66.40625 31.78125 66.40625 \nz\nM 31.78125 74.21875 \nQ 44.046875 74.21875 50.515625 64.515625 \nQ 56.984375 54.828125 56.984375 36.375 \nQ 56.984375 17.96875 50.515625 8.265625 \nQ 44.046875 -1.421875 31.78125 -1.421875 \nQ 19.53125 -1.421875 13.0625 8.265625 \nQ 6.59375 17.96875 6.59375 36.375 \nQ 6.59375 54.828125 13.0625 64.515625 \nQ 19.53125 74.21875 31.78125 74.21875 \nz\n\" id=\"DejaVuSans-48\"/>\n      </defs>\n      <g transform=\"translate(31.552807 329.598437)scale(0.1 -0.1)\">\n       <use transform=\"translate(0 0.765625)\" xlink:href=\"#DejaVuSans-49\"/>\n       <use transform=\"translate(63.623047 0.765625)\" xlink:href=\"#DejaVuSans-48\"/>\n       <use transform=\"translate(128.203125 39.046875)scale(0.7)\" xlink:href=\"#DejaVuSans-48\"/>\n      </g>\n     </g>\n    </g>\n    <g id=\"xtick_2\">\n     <g id=\"line2d_2\">\n      <g>\n       <use style=\"stroke:#000000;stroke-width:0.8;\" x=\"96.110571\" xlink:href=\"#mfd3e5079db\" y=\"315\"/>\n      </g>\n     </g>\n     <g id=\"text_2\">\n      <!-- $\\mathdefault{10^{1}}$ -->\n      <g transform=\"translate(87.310571 329.598437)scale(0.1 -0.1)\">\n       <use transform=\"translate(0 0.684375)\" xlink:href=\"#DejaVuSans-49\"/>\n       <use transform=\"translate(63.623047 0.684375)\" xlink:href=\"#DejaVuSans-48\"/>\n       <use transform=\"translate(128.203125 38.965625)scale(0.7)\" xlink:href=\"#DejaVuSans-49\"/>\n      </g>\n     </g>\n    </g>\n    <g id=\"xtick_3\">\n     <g id=\"line2d_3\">\n      <g>\n       <use style=\"stroke:#000000;stroke-width:0.8;\" x=\"151.868335\" xlink:href=\"#mfd3e5079db\" y=\"315\"/>\n      </g>\n     </g>\n     <g id=\"text_3\">\n      <!-- $\\mathdefault{10^{2}}$ -->\n      <defs>\n       <path d=\"M 19.1875 8.296875 \nL 53.609375 8.296875 \nL 53.609375 0 \nL 7.328125 0 \nL 7.328125 8.296875 \nQ 12.9375 14.109375 22.625 23.890625 \nQ 32.328125 33.6875 34.8125 36.53125 \nQ 39.546875 41.84375 41.421875 45.53125 \nQ 43.3125 49.21875 43.3125 52.78125 \nQ 43.3125 58.59375 39.234375 62.25 \nQ 35.15625 65.921875 28.609375 65.921875 \nQ 23.96875 65.921875 18.8125 64.3125 \nQ 13.671875 62.703125 7.8125 59.421875 \nL 7.8125 69.390625 \nQ 13.765625 71.78125 18.9375 73 \nQ 24.125 74.21875 28.421875 74.21875 \nQ 39.75 74.21875 46.484375 68.546875 \nQ 53.21875 62.890625 53.21875 53.421875 \nQ 53.21875 48.921875 51.53125 44.890625 \nQ 49.859375 40.875 45.40625 35.40625 \nQ 44.1875 33.984375 37.640625 27.21875 \nQ 31.109375 20.453125 19.1875 8.296875 \nz\n\" id=\"DejaVuSans-50\"/>\n      </defs>\n      <g transform=\"translate(143.068335 329.598437)scale(0.1 -0.1)\">\n       <use transform=\"translate(0 0.765625)\" xlink:href=\"#DejaVuSans-49\"/>\n       <use transform=\"translate(63.623047 0.765625)\" xlink:href=\"#DejaVuSans-48\"/>\n       <use transform=\"translate(128.203125 39.046875)scale(0.7)\" xlink:href=\"#DejaVuSans-50\"/>\n      </g>\n     </g>\n    </g>\n    <g id=\"xtick_4\">\n     <g id=\"line2d_4\">\n      <g>\n       <use style=\"stroke:#000000;stroke-width:0.8;\" x=\"207.626099\" xlink:href=\"#mfd3e5079db\" y=\"315\"/>\n      </g>\n     </g>\n     <g id=\"text_4\">\n      <!-- $\\mathdefault{10^{3}}$ -->\n      <defs>\n       <path d=\"M 40.578125 39.3125 \nQ 47.65625 37.796875 51.625 33 \nQ 55.609375 28.21875 55.609375 21.1875 \nQ 55.609375 10.40625 48.1875 4.484375 \nQ 40.765625 -1.421875 27.09375 -1.421875 \nQ 22.515625 -1.421875 17.65625 -0.515625 \nQ 12.796875 0.390625 7.625 2.203125 \nL 7.625 11.71875 \nQ 11.71875 9.328125 16.59375 8.109375 \nQ 21.484375 6.890625 26.8125 6.890625 \nQ 36.078125 6.890625 40.9375 10.546875 \nQ 45.796875 14.203125 45.796875 21.1875 \nQ 45.796875 27.640625 41.28125 31.265625 \nQ 36.765625 34.90625 28.71875 34.90625 \nL 20.21875 34.90625 \nL 20.21875 43.015625 \nL 29.109375 43.015625 \nQ 36.375 43.015625 40.234375 45.921875 \nQ 44.09375 48.828125 44.09375 54.296875 \nQ 44.09375 59.90625 40.109375 62.90625 \nQ 36.140625 65.921875 28.71875 65.921875 \nQ 24.65625 65.921875 20.015625 65.03125 \nQ 15.375 64.15625 9.8125 62.3125 \nL 9.8125 71.09375 \nQ 15.4375 72.65625 20.34375 73.4375 \nQ 25.25 74.21875 29.59375 74.21875 \nQ 40.828125 74.21875 47.359375 69.109375 \nQ 53.90625 64.015625 53.90625 55.328125 \nQ 53.90625 49.265625 50.4375 45.09375 \nQ 46.96875 40.921875 40.578125 39.3125 \nz\n\" id=\"DejaVuSans-51\"/>\n      </defs>\n      <g transform=\"translate(198.826099 329.598437)scale(0.1 -0.1)\">\n       <use transform=\"translate(0 0.765625)\" xlink:href=\"#DejaVuSans-49\"/>\n       <use transform=\"translate(63.623047 0.765625)\" xlink:href=\"#DejaVuSans-48\"/>\n       <use transform=\"translate(128.203125 39.046875)scale(0.7)\" xlink:href=\"#DejaVuSans-51\"/>\n      </g>\n     </g>\n    </g>\n    <g id=\"xtick_5\">\n     <g id=\"line2d_5\">\n      <g>\n       <use style=\"stroke:#000000;stroke-width:0.8;\" x=\"263.383862\" xlink:href=\"#mfd3e5079db\" y=\"315\"/>\n      </g>\n     </g>\n     <g id=\"text_5\">\n      <!-- $\\mathdefault{10^{4}}$ -->\n      <defs>\n       <path d=\"M 37.796875 64.3125 \nL 12.890625 25.390625 \nL 37.796875 25.390625 \nz\nM 35.203125 72.90625 \nL 47.609375 72.90625 \nL 47.609375 25.390625 \nL 58.015625 25.390625 \nL 58.015625 17.1875 \nL 47.609375 17.1875 \nL 47.609375 0 \nL 37.796875 0 \nL 37.796875 17.1875 \nL 4.890625 17.1875 \nL 4.890625 26.703125 \nz\n\" id=\"DejaVuSans-52\"/>\n      </defs>\n      <g transform=\"translate(254.583862 329.598437)scale(0.1 -0.1)\">\n       <use transform=\"translate(0 0.684375)\" xlink:href=\"#DejaVuSans-49\"/>\n       <use transform=\"translate(63.623047 0.684375)\" xlink:href=\"#DejaVuSans-48\"/>\n       <use transform=\"translate(128.203125 38.965625)scale(0.7)\" xlink:href=\"#DejaVuSans-52\"/>\n      </g>\n     </g>\n    </g>\n    <g id=\"xtick_6\">\n     <g id=\"line2d_6\">\n      <g>\n       <use style=\"stroke:#000000;stroke-width:0.8;\" x=\"319.141626\" xlink:href=\"#mfd3e5079db\" y=\"315\"/>\n      </g>\n     </g>\n     <g id=\"text_6\">\n      <!-- $\\mathdefault{10^{5}}$ -->\n      <defs>\n       <path d=\"M 10.796875 72.90625 \nL 49.515625 72.90625 \nL 49.515625 64.59375 \nL 19.828125 64.59375 \nL 19.828125 46.734375 \nQ 21.96875 47.46875 24.109375 47.828125 \nQ 26.265625 48.1875 28.421875 48.1875 \nQ 40.625 48.1875 47.75 41.5 \nQ 54.890625 34.8125 54.890625 23.390625 \nQ 54.890625 11.625 47.5625 5.09375 \nQ 40.234375 -1.421875 26.90625 -1.421875 \nQ 22.3125 -1.421875 17.546875 -0.640625 \nQ 12.796875 0.140625 7.71875 1.703125 \nL 7.71875 11.625 \nQ 12.109375 9.234375 16.796875 8.0625 \nQ 21.484375 6.890625 26.703125 6.890625 \nQ 35.15625 6.890625 40.078125 11.328125 \nQ 45.015625 15.765625 45.015625 23.390625 \nQ 45.015625 31 40.078125 35.4375 \nQ 35.15625 39.890625 26.703125 39.890625 \nQ 22.75 39.890625 18.8125 39.015625 \nQ 14.890625 38.140625 10.796875 36.28125 \nz\n\" id=\"DejaVuSans-53\"/>\n      </defs>\n      <g transform=\"translate(310.341626 329.598437)scale(0.1 -0.1)\">\n       <use transform=\"translate(0 0.684375)\" xlink:href=\"#DejaVuSans-49\"/>\n       <use transform=\"translate(63.623047 0.684375)\" xlink:href=\"#DejaVuSans-48\"/>\n       <use transform=\"translate(128.203125 38.965625)scale(0.7)\" xlink:href=\"#DejaVuSans-53\"/>\n      </g>\n     </g>\n    </g>\n    <g id=\"xtick_7\">\n     <g id=\"line2d_7\">\n      <defs>\n       <path d=\"M 0 0 \nL 0 2 \n\" id=\"m0050a92b01\" style=\"stroke:#000000;stroke-width:0.6;\"/>\n      </defs>\n      <g>\n       <use style=\"stroke:#000000;stroke-width:0.6;\" x=\"27.983017\" xlink:href=\"#m0050a92b01\" y=\"315\"/>\n      </g>\n     </g>\n    </g>\n    <g id=\"xtick_8\">\n     <g id=\"line2d_8\">\n      <g>\n       <use style=\"stroke:#000000;stroke-width:0.6;\" x=\"31.715821\" xlink:href=\"#m0050a92b01\" y=\"315\"/>\n      </g>\n     </g>\n    </g>\n    <g id=\"xtick_9\">\n     <g id=\"line2d_9\">\n      <g>\n       <use style=\"stroke:#000000;stroke-width:0.6;\" x=\"34.949322\" xlink:href=\"#m0050a92b01\" y=\"315\"/>\n      </g>\n     </g>\n    </g>\n    <g id=\"xtick_10\">\n     <g id=\"line2d_10\">\n      <g>\n       <use style=\"stroke:#000000;stroke-width:0.6;\" x=\"37.801472\" xlink:href=\"#m0050a92b01\" y=\"315\"/>\n      </g>\n     </g>\n    </g>\n    <g id=\"xtick_11\">\n     <g id=\"line2d_11\">\n      <g>\n       <use style=\"stroke:#000000;stroke-width:0.6;\" x=\"57.137567\" xlink:href=\"#m0050a92b01\" y=\"315\"/>\n      </g>\n     </g>\n    </g>\n    <g id=\"xtick_12\">\n     <g id=\"line2d_12\">\n      <g>\n       <use style=\"stroke:#000000;stroke-width:0.6;\" x=\"66.956022\" xlink:href=\"#m0050a92b01\" y=\"315\"/>\n      </g>\n     </g>\n    </g>\n    <g id=\"xtick_13\">\n     <g id=\"line2d_13\">\n      <g>\n       <use style=\"stroke:#000000;stroke-width:0.6;\" x=\"73.922326\" xlink:href=\"#m0050a92b01\" y=\"315\"/>\n      </g>\n     </g>\n    </g>\n    <g id=\"xtick_14\">\n     <g id=\"line2d_14\">\n      <g>\n       <use style=\"stroke:#000000;stroke-width:0.6;\" x=\"79.325812\" xlink:href=\"#m0050a92b01\" y=\"315\"/>\n      </g>\n     </g>\n    </g>\n    <g id=\"xtick_15\">\n     <g id=\"line2d_15\">\n      <g>\n       <use style=\"stroke:#000000;stroke-width:0.6;\" x=\"83.740781\" xlink:href=\"#m0050a92b01\" y=\"315\"/>\n      </g>\n     </g>\n    </g>\n    <g id=\"xtick_16\">\n     <g id=\"line2d_16\">\n      <g>\n       <use style=\"stroke:#000000;stroke-width:0.6;\" x=\"87.473584\" xlink:href=\"#m0050a92b01\" y=\"315\"/>\n      </g>\n     </g>\n    </g>\n    <g id=\"xtick_17\">\n     <g id=\"line2d_17\">\n      <g>\n       <use style=\"stroke:#000000;stroke-width:0.6;\" x=\"90.707086\" xlink:href=\"#m0050a92b01\" y=\"315\"/>\n      </g>\n     </g>\n    </g>\n    <g id=\"xtick_18\">\n     <g id=\"line2d_18\">\n      <g>\n       <use style=\"stroke:#000000;stroke-width:0.6;\" x=\"93.559236\" xlink:href=\"#m0050a92b01\" y=\"315\"/>\n      </g>\n     </g>\n    </g>\n    <g id=\"xtick_19\">\n     <g id=\"line2d_19\">\n      <g>\n       <use style=\"stroke:#000000;stroke-width:0.6;\" x=\"112.895331\" xlink:href=\"#m0050a92b01\" y=\"315\"/>\n      </g>\n     </g>\n    </g>\n    <g id=\"xtick_20\">\n     <g id=\"line2d_20\">\n      <g>\n       <use style=\"stroke:#000000;stroke-width:0.6;\" x=\"122.713785\" xlink:href=\"#m0050a92b01\" y=\"315\"/>\n      </g>\n     </g>\n    </g>\n    <g id=\"xtick_21\">\n     <g id=\"line2d_21\">\n      <g>\n       <use style=\"stroke:#000000;stroke-width:0.6;\" x=\"129.68009\" xlink:href=\"#m0050a92b01\" y=\"315\"/>\n      </g>\n     </g>\n    </g>\n    <g id=\"xtick_22\">\n     <g id=\"line2d_22\">\n      <g>\n       <use style=\"stroke:#000000;stroke-width:0.6;\" x=\"135.083575\" xlink:href=\"#m0050a92b01\" y=\"315\"/>\n      </g>\n     </g>\n    </g>\n    <g id=\"xtick_23\">\n     <g id=\"line2d_23\">\n      <g>\n       <use style=\"stroke:#000000;stroke-width:0.6;\" x=\"139.498545\" xlink:href=\"#m0050a92b01\" y=\"315\"/>\n      </g>\n     </g>\n    </g>\n    <g id=\"xtick_24\">\n     <g id=\"line2d_24\">\n      <g>\n       <use style=\"stroke:#000000;stroke-width:0.6;\" x=\"143.231348\" xlink:href=\"#m0050a92b01\" y=\"315\"/>\n      </g>\n     </g>\n    </g>\n    <g id=\"xtick_25\">\n     <g id=\"line2d_25\">\n      <g>\n       <use style=\"stroke:#000000;stroke-width:0.6;\" x=\"146.464849\" xlink:href=\"#m0050a92b01\" y=\"315\"/>\n      </g>\n     </g>\n    </g>\n    <g id=\"xtick_26\">\n     <g id=\"line2d_26\">\n      <g>\n       <use style=\"stroke:#000000;stroke-width:0.6;\" x=\"149.316999\" xlink:href=\"#m0050a92b01\" y=\"315\"/>\n      </g>\n     </g>\n    </g>\n    <g id=\"xtick_27\">\n     <g id=\"line2d_27\">\n      <g>\n       <use style=\"stroke:#000000;stroke-width:0.6;\" x=\"168.653094\" xlink:href=\"#m0050a92b01\" y=\"315\"/>\n      </g>\n     </g>\n    </g>\n    <g id=\"xtick_28\">\n     <g id=\"line2d_28\">\n      <g>\n       <use style=\"stroke:#000000;stroke-width:0.6;\" x=\"178.471549\" xlink:href=\"#m0050a92b01\" y=\"315\"/>\n      </g>\n     </g>\n    </g>\n    <g id=\"xtick_29\">\n     <g id=\"line2d_29\">\n      <g>\n       <use style=\"stroke:#000000;stroke-width:0.6;\" x=\"185.437854\" xlink:href=\"#m0050a92b01\" y=\"315\"/>\n      </g>\n     </g>\n    </g>\n    <g id=\"xtick_30\">\n     <g id=\"line2d_30\">\n      <g>\n       <use style=\"stroke:#000000;stroke-width:0.6;\" x=\"190.841339\" xlink:href=\"#m0050a92b01\" y=\"315\"/>\n      </g>\n     </g>\n    </g>\n    <g id=\"xtick_31\">\n     <g id=\"line2d_31\">\n      <g>\n       <use style=\"stroke:#000000;stroke-width:0.6;\" x=\"195.256308\" xlink:href=\"#m0050a92b01\" y=\"315\"/>\n      </g>\n     </g>\n    </g>\n    <g id=\"xtick_32\">\n     <g id=\"line2d_32\">\n      <g>\n       <use style=\"stroke:#000000;stroke-width:0.6;\" x=\"198.989112\" xlink:href=\"#m0050a92b01\" y=\"315\"/>\n      </g>\n     </g>\n    </g>\n    <g id=\"xtick_33\">\n     <g id=\"line2d_33\">\n      <g>\n       <use style=\"stroke:#000000;stroke-width:0.6;\" x=\"202.222613\" xlink:href=\"#m0050a92b01\" y=\"315\"/>\n      </g>\n     </g>\n    </g>\n    <g id=\"xtick_34\">\n     <g id=\"line2d_34\">\n      <g>\n       <use style=\"stroke:#000000;stroke-width:0.6;\" x=\"205.074763\" xlink:href=\"#m0050a92b01\" y=\"315\"/>\n      </g>\n     </g>\n    </g>\n    <g id=\"xtick_35\">\n     <g id=\"line2d_35\">\n      <g>\n       <use style=\"stroke:#000000;stroke-width:0.6;\" x=\"224.410858\" xlink:href=\"#m0050a92b01\" y=\"315\"/>\n      </g>\n     </g>\n    </g>\n    <g id=\"xtick_36\">\n     <g id=\"line2d_36\">\n      <g>\n       <use style=\"stroke:#000000;stroke-width:0.6;\" x=\"234.229313\" xlink:href=\"#m0050a92b01\" y=\"315\"/>\n      </g>\n     </g>\n    </g>\n    <g id=\"xtick_37\">\n     <g id=\"line2d_37\">\n      <g>\n       <use style=\"stroke:#000000;stroke-width:0.6;\" x=\"241.195617\" xlink:href=\"#m0050a92b01\" y=\"315\"/>\n      </g>\n     </g>\n    </g>\n    <g id=\"xtick_38\">\n     <g id=\"line2d_38\">\n      <g>\n       <use style=\"stroke:#000000;stroke-width:0.6;\" x=\"246.599103\" xlink:href=\"#m0050a92b01\" y=\"315\"/>\n      </g>\n     </g>\n    </g>\n    <g id=\"xtick_39\">\n     <g id=\"line2d_39\">\n      <g>\n       <use style=\"stroke:#000000;stroke-width:0.6;\" x=\"251.014072\" xlink:href=\"#m0050a92b01\" y=\"315\"/>\n      </g>\n     </g>\n    </g>\n    <g id=\"xtick_40\">\n     <g id=\"line2d_40\">\n      <g>\n       <use style=\"stroke:#000000;stroke-width:0.6;\" x=\"254.746875\" xlink:href=\"#m0050a92b01\" y=\"315\"/>\n      </g>\n     </g>\n    </g>\n    <g id=\"xtick_41\">\n     <g id=\"line2d_41\">\n      <g>\n       <use style=\"stroke:#000000;stroke-width:0.6;\" x=\"257.980377\" xlink:href=\"#m0050a92b01\" y=\"315\"/>\n      </g>\n     </g>\n    </g>\n    <g id=\"xtick_42\">\n     <g id=\"line2d_42\">\n      <g>\n       <use style=\"stroke:#000000;stroke-width:0.6;\" x=\"260.832527\" xlink:href=\"#m0050a92b01\" y=\"315\"/>\n      </g>\n     </g>\n    </g>\n    <g id=\"xtick_43\">\n     <g id=\"line2d_43\">\n      <g>\n       <use style=\"stroke:#000000;stroke-width:0.6;\" x=\"280.168622\" xlink:href=\"#m0050a92b01\" y=\"315\"/>\n      </g>\n     </g>\n    </g>\n    <g id=\"xtick_44\">\n     <g id=\"line2d_44\">\n      <g>\n       <use style=\"stroke:#000000;stroke-width:0.6;\" x=\"289.987076\" xlink:href=\"#m0050a92b01\" y=\"315\"/>\n      </g>\n     </g>\n    </g>\n    <g id=\"xtick_45\">\n     <g id=\"line2d_45\">\n      <g>\n       <use style=\"stroke:#000000;stroke-width:0.6;\" x=\"296.953381\" xlink:href=\"#m0050a92b01\" y=\"315\"/>\n      </g>\n     </g>\n    </g>\n    <g id=\"xtick_46\">\n     <g id=\"line2d_46\">\n      <g>\n       <use style=\"stroke:#000000;stroke-width:0.6;\" x=\"302.356867\" xlink:href=\"#m0050a92b01\" y=\"315\"/>\n      </g>\n     </g>\n    </g>\n    <g id=\"xtick_47\">\n     <g id=\"line2d_47\">\n      <g>\n       <use style=\"stroke:#000000;stroke-width:0.6;\" x=\"306.771836\" xlink:href=\"#m0050a92b01\" y=\"315\"/>\n      </g>\n     </g>\n    </g>\n    <g id=\"xtick_48\">\n     <g id=\"line2d_48\">\n      <g>\n       <use style=\"stroke:#000000;stroke-width:0.6;\" x=\"310.504639\" xlink:href=\"#m0050a92b01\" y=\"315\"/>\n      </g>\n     </g>\n    </g>\n    <g id=\"xtick_49\">\n     <g id=\"line2d_49\">\n      <g>\n       <use style=\"stroke:#000000;stroke-width:0.6;\" x=\"313.73814\" xlink:href=\"#m0050a92b01\" y=\"315\"/>\n      </g>\n     </g>\n    </g>\n    <g id=\"xtick_50\">\n     <g id=\"line2d_50\">\n      <g>\n       <use style=\"stroke:#000000;stroke-width:0.6;\" x=\"316.590291\" xlink:href=\"#m0050a92b01\" y=\"315\"/>\n      </g>\n     </g>\n    </g>\n    <g id=\"text_7\">\n     <!-- nodes -->\n     <defs>\n      <path d=\"M 54.890625 33.015625 \nL 54.890625 0 \nL 45.90625 0 \nL 45.90625 32.71875 \nQ 45.90625 40.484375 42.875 44.328125 \nQ 39.84375 48.1875 33.796875 48.1875 \nQ 26.515625 48.1875 22.3125 43.546875 \nQ 18.109375 38.921875 18.109375 30.90625 \nL 18.109375 0 \nL 9.078125 0 \nL 9.078125 54.6875 \nL 18.109375 54.6875 \nL 18.109375 46.1875 \nQ 21.34375 51.125 25.703125 53.5625 \nQ 30.078125 56 35.796875 56 \nQ 45.21875 56 50.046875 50.171875 \nQ 54.890625 44.34375 54.890625 33.015625 \nz\n\" id=\"DejaVuSans-110\"/>\n      <path d=\"M 30.609375 48.390625 \nQ 23.390625 48.390625 19.1875 42.75 \nQ 14.984375 37.109375 14.984375 27.296875 \nQ 14.984375 17.484375 19.15625 11.84375 \nQ 23.34375 6.203125 30.609375 6.203125 \nQ 37.796875 6.203125 41.984375 11.859375 \nQ 46.1875 17.53125 46.1875 27.296875 \nQ 46.1875 37.015625 41.984375 42.703125 \nQ 37.796875 48.390625 30.609375 48.390625 \nz\nM 30.609375 56 \nQ 42.328125 56 49.015625 48.375 \nQ 55.71875 40.765625 55.71875 27.296875 \nQ 55.71875 13.875 49.015625 6.21875 \nQ 42.328125 -1.421875 30.609375 -1.421875 \nQ 18.84375 -1.421875 12.171875 6.21875 \nQ 5.515625 13.875 5.515625 27.296875 \nQ 5.515625 40.765625 12.171875 48.375 \nQ 18.84375 56 30.609375 56 \nz\n\" id=\"DejaVuSans-111\"/>\n      <path d=\"M 45.40625 46.390625 \nL 45.40625 75.984375 \nL 54.390625 75.984375 \nL 54.390625 0 \nL 45.40625 0 \nL 45.40625 8.203125 \nQ 42.578125 3.328125 38.25 0.953125 \nQ 33.9375 -1.421875 27.875 -1.421875 \nQ 17.96875 -1.421875 11.734375 6.484375 \nQ 5.515625 14.40625 5.515625 27.296875 \nQ 5.515625 40.1875 11.734375 48.09375 \nQ 17.96875 56 27.875 56 \nQ 33.9375 56 38.25 53.625 \nQ 42.578125 51.265625 45.40625 46.390625 \nz\nM 14.796875 27.296875 \nQ 14.796875 17.390625 18.875 11.75 \nQ 22.953125 6.109375 30.078125 6.109375 \nQ 37.203125 6.109375 41.296875 11.75 \nQ 45.40625 17.390625 45.40625 27.296875 \nQ 45.40625 37.203125 41.296875 42.84375 \nQ 37.203125 48.484375 30.078125 48.484375 \nQ 22.953125 48.484375 18.875 42.84375 \nQ 14.796875 37.203125 14.796875 27.296875 \nz\n\" id=\"DejaVuSans-100\"/>\n      <path d=\"M 56.203125 29.59375 \nL 56.203125 25.203125 \nL 14.890625 25.203125 \nQ 15.484375 15.921875 20.484375 11.0625 \nQ 25.484375 6.203125 34.421875 6.203125 \nQ 39.59375 6.203125 44.453125 7.46875 \nQ 49.3125 8.734375 54.109375 11.28125 \nL 54.109375 2.78125 \nQ 49.265625 0.734375 44.1875 -0.34375 \nQ 39.109375 -1.421875 33.890625 -1.421875 \nQ 20.796875 -1.421875 13.15625 6.1875 \nQ 5.515625 13.8125 5.515625 26.8125 \nQ 5.515625 40.234375 12.765625 48.109375 \nQ 20.015625 56 32.328125 56 \nQ 43.359375 56 49.78125 48.890625 \nQ 56.203125 41.796875 56.203125 29.59375 \nz\nM 47.21875 32.234375 \nQ 47.125 39.59375 43.09375 43.984375 \nQ 39.0625 48.390625 32.421875 48.390625 \nQ 24.90625 48.390625 20.390625 44.140625 \nQ 15.875 39.890625 15.1875 32.171875 \nz\n\" id=\"DejaVuSans-101\"/>\n      <path d=\"M 44.28125 53.078125 \nL 44.28125 44.578125 \nQ 40.484375 46.53125 36.375 47.5 \nQ 32.28125 48.484375 27.875 48.484375 \nQ 21.1875 48.484375 17.84375 46.4375 \nQ 14.5 44.390625 14.5 40.28125 \nQ 14.5 37.15625 16.890625 35.375 \nQ 19.28125 33.59375 26.515625 31.984375 \nL 29.59375 31.296875 \nQ 39.15625 29.25 43.1875 25.515625 \nQ 47.21875 21.78125 47.21875 15.09375 \nQ 47.21875 7.46875 41.1875 3.015625 \nQ 35.15625 -1.421875 24.609375 -1.421875 \nQ 20.21875 -1.421875 15.453125 -0.5625 \nQ 10.6875 0.296875 5.421875 2 \nL 5.421875 11.28125 \nQ 10.40625 8.6875 15.234375 7.390625 \nQ 20.0625 6.109375 24.8125 6.109375 \nQ 31.15625 6.109375 34.5625 8.28125 \nQ 37.984375 10.453125 37.984375 14.40625 \nQ 37.984375 18.0625 35.515625 20.015625 \nQ 33.0625 21.96875 24.703125 23.78125 \nL 21.578125 24.515625 \nQ 13.234375 26.265625 9.515625 29.90625 \nQ 5.8125 33.546875 5.8125 39.890625 \nQ 5.8125 47.609375 11.28125 51.796875 \nQ 16.75 56 26.8125 56 \nQ 31.78125 56 36.171875 55.265625 \nQ 40.578125 54.546875 44.28125 53.078125 \nz\n\" id=\"DejaVuSans-115\"/>\n     </defs>\n     <g transform=\"translate(159.547289 343.276562)scale(0.1 -0.1)\">\n      <use xlink:href=\"#DejaVuSans-110\"/>\n      <use x=\"63.378906\" xlink:href=\"#DejaVuSans-111\"/>\n      <use x=\"124.560547\" xlink:href=\"#DejaVuSans-100\"/>\n      <use x=\"188.037109\" xlink:href=\"#DejaVuSans-101\"/>\n      <use x=\"249.560547\" xlink:href=\"#DejaVuSans-115\"/>\n     </g>\n    </g>\n   </g>\n   <g id=\"matplotlib.axis_2\">\n    <g id=\"ytick_1\">\n     <g id=\"line2d_51\">\n      <defs>\n       <path d=\"M 0 0 \nL -3.5 0 \n\" id=\"m8b7a8096a2\" style=\"stroke:#000000;stroke-width:0.8;\"/>\n      </defs>\n      <g>\n       <use style=\"stroke:#000000;stroke-width:0.8;\" x=\"26.925\" xlink:href=\"#m8b7a8096a2\" y=\"281.863622\"/>\n      </g>\n     </g>\n     <g id=\"text_8\">\n      <!-- 6 -->\n      <defs>\n       <path d=\"M 33.015625 40.375 \nQ 26.375 40.375 22.484375 35.828125 \nQ 18.609375 31.296875 18.609375 23.390625 \nQ 18.609375 15.53125 22.484375 10.953125 \nQ 26.375 6.390625 33.015625 6.390625 \nQ 39.65625 6.390625 43.53125 10.953125 \nQ 47.40625 15.53125 47.40625 23.390625 \nQ 47.40625 31.296875 43.53125 35.828125 \nQ 39.65625 40.375 33.015625 40.375 \nz\nM 52.59375 71.296875 \nL 52.59375 62.3125 \nQ 48.875 64.0625 45.09375 64.984375 \nQ 41.3125 65.921875 37.59375 65.921875 \nQ 27.828125 65.921875 22.671875 59.328125 \nQ 17.53125 52.734375 16.796875 39.40625 \nQ 19.671875 43.65625 24.015625 45.921875 \nQ 28.375 48.1875 33.59375 48.1875 \nQ 44.578125 48.1875 50.953125 41.515625 \nQ 57.328125 34.859375 57.328125 23.390625 \nQ 57.328125 12.15625 50.6875 5.359375 \nQ 44.046875 -1.421875 33.015625 -1.421875 \nQ 20.359375 -1.421875 13.671875 8.265625 \nQ 6.984375 17.96875 6.984375 36.375 \nQ 6.984375 53.65625 15.1875 63.9375 \nQ 23.390625 74.21875 37.203125 74.21875 \nQ 40.921875 74.21875 44.703125 73.484375 \nQ 48.484375 72.75 52.59375 71.296875 \nz\n\" id=\"DejaVuSans-54\"/>\n      </defs>\n      <g transform=\"translate(13.5625 285.662841)scale(0.1 -0.1)\">\n       <use xlink:href=\"#DejaVuSans-54\"/>\n      </g>\n     </g>\n    </g>\n    <g id=\"ytick_2\">\n     <g id=\"line2d_52\">\n      <g>\n       <use style=\"stroke:#000000;stroke-width:0.8;\" x=\"26.925\" xlink:href=\"#m8b7a8096a2\" y=\"241.154404\"/>\n      </g>\n     </g>\n     <g id=\"text_9\">\n      <!-- 8 -->\n      <defs>\n       <path d=\"M 31.78125 34.625 \nQ 24.75 34.625 20.71875 30.859375 \nQ 16.703125 27.09375 16.703125 20.515625 \nQ 16.703125 13.921875 20.71875 10.15625 \nQ 24.75 6.390625 31.78125 6.390625 \nQ 38.8125 6.390625 42.859375 10.171875 \nQ 46.921875 13.96875 46.921875 20.515625 \nQ 46.921875 27.09375 42.890625 30.859375 \nQ 38.875 34.625 31.78125 34.625 \nz\nM 21.921875 38.8125 \nQ 15.578125 40.375 12.03125 44.71875 \nQ 8.5 49.078125 8.5 55.328125 \nQ 8.5 64.0625 14.71875 69.140625 \nQ 20.953125 74.21875 31.78125 74.21875 \nQ 42.671875 74.21875 48.875 69.140625 \nQ 55.078125 64.0625 55.078125 55.328125 \nQ 55.078125 49.078125 51.53125 44.71875 \nQ 48 40.375 41.703125 38.8125 \nQ 48.828125 37.15625 52.796875 32.3125 \nQ 56.78125 27.484375 56.78125 20.515625 \nQ 56.78125 9.90625 50.3125 4.234375 \nQ 43.84375 -1.421875 31.78125 -1.421875 \nQ 19.734375 -1.421875 13.25 4.234375 \nQ 6.78125 9.90625 6.78125 20.515625 \nQ 6.78125 27.484375 10.78125 32.3125 \nQ 14.796875 37.15625 21.921875 38.8125 \nz\nM 18.3125 54.390625 \nQ 18.3125 48.734375 21.84375 45.5625 \nQ 25.390625 42.390625 31.78125 42.390625 \nQ 38.140625 42.390625 41.71875 45.5625 \nQ 45.3125 48.734375 45.3125 54.390625 \nQ 45.3125 60.0625 41.71875 63.234375 \nQ 38.140625 66.40625 31.78125 66.40625 \nQ 25.390625 66.40625 21.84375 63.234375 \nQ 18.3125 60.0625 18.3125 54.390625 \nz\n\" id=\"DejaVuSans-56\"/>\n      </defs>\n      <g transform=\"translate(13.5625 244.953623)scale(0.1 -0.1)\">\n       <use xlink:href=\"#DejaVuSans-56\"/>\n      </g>\n     </g>\n    </g>\n    <g id=\"ytick_3\">\n     <g id=\"line2d_53\">\n      <g>\n       <use style=\"stroke:#000000;stroke-width:0.8;\" x=\"26.925\" xlink:href=\"#m8b7a8096a2\" y=\"200.445186\"/>\n      </g>\n     </g>\n     <g id=\"text_10\">\n      <!-- 10 -->\n      <g transform=\"translate(7.2 204.244404)scale(0.1 -0.1)\">\n       <use xlink:href=\"#DejaVuSans-49\"/>\n       <use x=\"63.623047\" xlink:href=\"#DejaVuSans-48\"/>\n      </g>\n     </g>\n    </g>\n    <g id=\"ytick_4\">\n     <g id=\"line2d_54\">\n      <g>\n       <use style=\"stroke:#000000;stroke-width:0.8;\" x=\"26.925\" xlink:href=\"#m8b7a8096a2\" y=\"159.735967\"/>\n      </g>\n     </g>\n     <g id=\"text_11\">\n      <!-- 12 -->\n      <g transform=\"translate(7.2 163.535186)scale(0.1 -0.1)\">\n       <use xlink:href=\"#DejaVuSans-49\"/>\n       <use x=\"63.623047\" xlink:href=\"#DejaVuSans-50\"/>\n      </g>\n     </g>\n    </g>\n    <g id=\"ytick_5\">\n     <g id=\"line2d_55\">\n      <g>\n       <use style=\"stroke:#000000;stroke-width:0.8;\" x=\"26.925\" xlink:href=\"#m8b7a8096a2\" y=\"119.026749\"/>\n      </g>\n     </g>\n     <g id=\"text_12\">\n      <!-- 14 -->\n      <g transform=\"translate(7.2 122.825968)scale(0.1 -0.1)\">\n       <use xlink:href=\"#DejaVuSans-49\"/>\n       <use x=\"63.623047\" xlink:href=\"#DejaVuSans-52\"/>\n      </g>\n     </g>\n    </g>\n    <g id=\"ytick_6\">\n     <g id=\"line2d_56\">\n      <g>\n       <use style=\"stroke:#000000;stroke-width:0.8;\" x=\"26.925\" xlink:href=\"#m8b7a8096a2\" y=\"78.317531\"/>\n      </g>\n     </g>\n     <g id=\"text_13\">\n      <!-- 16 -->\n      <g transform=\"translate(7.2 82.116749)scale(0.1 -0.1)\">\n       <use xlink:href=\"#DejaVuSans-49\"/>\n       <use x=\"63.623047\" xlink:href=\"#DejaVuSans-54\"/>\n      </g>\n     </g>\n    </g>\n   </g>\n   <g id=\"LineCollection_1\">\n    <path clip-path=\"url(#p7c4c8ba319)\" d=\"M 40.352807 121.733236 \nL 40.352807 63.960847 \n\" style=\"fill:none;stroke:#1f77b4;stroke-width:1.5;\"/>\n    <path clip-path=\"url(#p7c4c8ba319)\" d=\"M 57.137567 146.920646 \nL 57.137567 68.845268 \n\" style=\"fill:none;stroke:#1f77b4;stroke-width:1.5;\"/>\n    <path clip-path=\"url(#p7c4c8ba319)\" d=\"M 73.922326 170.820264 \nL 73.922326 81.795655 \n\" style=\"fill:none;stroke:#1f77b4;stroke-width:1.5;\"/>\n    <path clip-path=\"url(#p7c4c8ba319)\" d=\"M 90.707086 210.989126 \nL 90.707086 122.687815 \n\" style=\"fill:none;stroke:#1f77b4;stroke-width:1.5;\"/>\n    <path clip-path=\"url(#p7c4c8ba319)\" d=\"M 107.491845 252.832072 \nL 107.491845 165.610173 \n\" style=\"fill:none;stroke:#1f77b4;stroke-width:1.5;\"/>\n    <path clip-path=\"url(#p7c4c8ba319)\" d=\"M 124.276604 277.559019 \nL 124.276604 213.27753 \n\" style=\"fill:none;stroke:#1f77b4;stroke-width:1.5;\"/>\n    <path clip-path=\"url(#p7c4c8ba319)\" d=\"M 141.061364 289.911422 \nL 141.061364 245.368582 \n\" style=\"fill:none;stroke:#1f77b4;stroke-width:1.5;\"/>\n    <path clip-path=\"url(#p7c4c8ba319)\" d=\"M 157.846123 296.672522 \nL 157.846123 263.774169 \n\" style=\"fill:none;stroke:#1f77b4;stroke-width:1.5;\"/>\n    <path clip-path=\"url(#p7c4c8ba319)\" d=\"M 174.630882 299.930032 \nL 174.630882 271.062118 \n\" style=\"fill:none;stroke:#1f77b4;stroke-width:1.5;\"/>\n    <path clip-path=\"url(#p7c4c8ba319)\" d=\"M 191.415642 300.705314 \nL 191.415642 274.924478 \n\" style=\"fill:none;stroke:#1f77b4;stroke-width:1.5;\"/>\n    <path clip-path=\"url(#p7c4c8ba319)\" d=\"M 208.200401 302.365568 \nL 208.200401 277.789982 \n\" style=\"fill:none;stroke:#1f77b4;stroke-width:1.5;\"/>\n    <path clip-path=\"url(#p7c4c8ba319)\" d=\"M 224.98516 302.355039 \nL 224.98516 279.038435 \n\" style=\"fill:none;stroke:#1f77b4;stroke-width:1.5;\"/>\n    <path clip-path=\"url(#p7c4c8ba319)\" d=\"M 241.76992 302.431242 \nL 241.76992 279.484749 \n\" style=\"fill:none;stroke:#1f77b4;stroke-width:1.5;\"/>\n    <path clip-path=\"url(#p7c4c8ba319)\" d=\"M 258.554679 302.641101 \nL 258.554679 279.73529 \n\" style=\"fill:none;stroke:#1f77b4;stroke-width:1.5;\"/>\n    <path clip-path=\"url(#p7c4c8ba319)\" d=\"M 275.339439 302.552631 \nL 275.339439 280.04937 \n\" style=\"fill:none;stroke:#1f77b4;stroke-width:1.5;\"/>\n    <path clip-path=\"url(#p7c4c8ba319)\" d=\"M 292.124198 302.645455 \nL 292.124198 279.999321 \n\" style=\"fill:none;stroke:#1f77b4;stroke-width:1.5;\"/>\n    <path clip-path=\"url(#p7c4c8ba319)\" d=\"M 308.908957 302.535447 \nL 308.908957 280.028145 \n\" style=\"fill:none;stroke:#1f77b4;stroke-width:1.5;\"/>\n   </g>\n   <g id=\"LineCollection_2\">\n    <path clip-path=\"url(#p7c4c8ba319)\" d=\"M 40.352807 126.873806 \nL 40.352807 57.576892 \n\" style=\"fill:none;stroke:#ff7f0e;stroke-width:1.5;\"/>\n    <path clip-path=\"url(#p7c4c8ba319)\" d=\"M 57.137567 144.700864 \nL 57.137567 68.103308 \n\" style=\"fill:none;stroke:#ff7f0e;stroke-width:1.5;\"/>\n    <path clip-path=\"url(#p7c4c8ba319)\" d=\"M 73.922326 190.530101 \nL 73.922326 83.623338 \n\" style=\"fill:none;stroke:#ff7f0e;stroke-width:1.5;\"/>\n    <path clip-path=\"url(#p7c4c8ba319)\" d=\"M 90.707086 227.425984 \nL 90.707086 124.532289 \n\" style=\"fill:none;stroke:#ff7f0e;stroke-width:1.5;\"/>\n    <path clip-path=\"url(#p7c4c8ba319)\" d=\"M 107.491845 266.379086 \nL 107.491845 182.211645 \n\" style=\"fill:none;stroke:#ff7f0e;stroke-width:1.5;\"/>\n    <path clip-path=\"url(#p7c4c8ba319)\" d=\"M 124.276604 285.438607 \nL 124.276604 233.841986 \n\" style=\"fill:none;stroke:#ff7f0e;stroke-width:1.5;\"/>\n    <path clip-path=\"url(#p7c4c8ba319)\" d=\"M 141.061364 294.195475 \nL 141.061364 261.577582 \n\" style=\"fill:none;stroke:#ff7f0e;stroke-width:1.5;\"/>\n    <path clip-path=\"url(#p7c4c8ba319)\" d=\"M 157.846123 298.621777 \nL 157.846123 273.78603 \n\" style=\"fill:none;stroke:#ff7f0e;stroke-width:1.5;\"/>\n    <path clip-path=\"url(#p7c4c8ba319)\" d=\"M 174.630882 298.921468 \nL 174.630882 278.996978 \n\" style=\"fill:none;stroke:#ff7f0e;stroke-width:1.5;\"/>\n    <path clip-path=\"url(#p7c4c8ba319)\" d=\"M 191.415642 299.650451 \nL 191.415642 281.392328 \n\" style=\"fill:none;stroke:#ff7f0e;stroke-width:1.5;\"/>\n    <path clip-path=\"url(#p7c4c8ba319)\" d=\"M 208.200401 300.144377 \nL 208.200401 282.574653 \n\" style=\"fill:none;stroke:#ff7f0e;stroke-width:1.5;\"/>\n    <path clip-path=\"url(#p7c4c8ba319)\" d=\"M 224.98516 300.391979 \nL 224.98516 283.461766 \n\" style=\"fill:none;stroke:#ff7f0e;stroke-width:1.5;\"/>\n    <path clip-path=\"url(#p7c4c8ba319)\" d=\"M 241.76992 300.376162 \nL 241.76992 283.426475 \n\" style=\"fill:none;stroke:#ff7f0e;stroke-width:1.5;\"/>\n    <path clip-path=\"url(#p7c4c8ba319)\" d=\"M 258.554679 300.490104 \nL 258.554679 283.778753 \n\" style=\"fill:none;stroke:#ff7f0e;stroke-width:1.5;\"/>\n    <path clip-path=\"url(#p7c4c8ba319)\" d=\"M 275.339439 300.447367 \nL 275.339439 283.642795 \n\" style=\"fill:none;stroke:#ff7f0e;stroke-width:1.5;\"/>\n    <path clip-path=\"url(#p7c4c8ba319)\" d=\"M 292.124198 300.499057 \nL 292.124198 283.698367 \n\" style=\"fill:none;stroke:#ff7f0e;stroke-width:1.5;\"/>\n    <path clip-path=\"url(#p7c4c8ba319)\" d=\"M 308.908957 300.494198 \nL 308.908957 283.7513 \n\" style=\"fill:none;stroke:#ff7f0e;stroke-width:1.5;\"/>\n   </g>\n   <g id=\"LineCollection_3\">\n    <path clip-path=\"url(#p7c4c8ba319)\" d=\"M 40.352807 127.974798 \nL 40.352807 56.698772 \n\" style=\"fill:none;stroke:#2ca02c;stroke-width:1.5;\"/>\n    <path clip-path=\"url(#p7c4c8ba319)\" d=\"M 57.137567 147.728524 \nL 57.137567 64.475471 \n\" style=\"fill:none;stroke:#2ca02c;stroke-width:1.5;\"/>\n    <path clip-path=\"url(#p7c4c8ba319)\" d=\"M 73.922326 187.008674 \nL 73.922326 79.254548 \n\" style=\"fill:none;stroke:#2ca02c;stroke-width:1.5;\"/>\n    <path clip-path=\"url(#p7c4c8ba319)\" d=\"M 90.707086 223.933373 \nL 90.707086 118.420529 \n\" style=\"fill:none;stroke:#2ca02c;stroke-width:1.5;\"/>\n    <path clip-path=\"url(#p7c4c8ba319)\" d=\"M 107.491845 264.967502 \nL 107.491845 191.331807 \n\" style=\"fill:none;stroke:#2ca02c;stroke-width:1.5;\"/>\n    <path clip-path=\"url(#p7c4c8ba319)\" d=\"M 124.276604 281.978001 \nL 124.276604 243.086148 \n\" style=\"fill:none;stroke:#2ca02c;stroke-width:1.5;\"/>\n    <path clip-path=\"url(#p7c4c8ba319)\" d=\"M 141.061364 288.723967 \nL 141.061364 265.878194 \n\" style=\"fill:none;stroke:#2ca02c;stroke-width:1.5;\"/>\n    <path clip-path=\"url(#p7c4c8ba319)\" d=\"M 157.846123 291.598881 \nL 157.846123 272.609835 \n\" style=\"fill:none;stroke:#2ca02c;stroke-width:1.5;\"/>\n    <path clip-path=\"url(#p7c4c8ba319)\" d=\"M 174.630882 292.473576 \nL 174.630882 276.38165 \n\" style=\"fill:none;stroke:#2ca02c;stroke-width:1.5;\"/>\n    <path clip-path=\"url(#p7c4c8ba319)\" d=\"M 191.415642 293.21181 \nL 191.415642 278.401928 \n\" style=\"fill:none;stroke:#2ca02c;stroke-width:1.5;\"/>\n    <path clip-path=\"url(#p7c4c8ba319)\" d=\"M 208.200401 293.743481 \nL 208.200401 278.941487 \n\" style=\"fill:none;stroke:#2ca02c;stroke-width:1.5;\"/>\n    <path clip-path=\"url(#p7c4c8ba319)\" d=\"M 224.98516 293.942485 \nL 224.98516 279.207981 \n\" style=\"fill:none;stroke:#2ca02c;stroke-width:1.5;\"/>\n    <path clip-path=\"url(#p7c4c8ba319)\" d=\"M 241.76992 294.084975 \nL 241.76992 279.422293 \n\" style=\"fill:none;stroke:#2ca02c;stroke-width:1.5;\"/>\n    <path clip-path=\"url(#p7c4c8ba319)\" d=\"M 258.554679 294.025855 \nL 258.554679 279.587122 \n\" style=\"fill:none;stroke:#2ca02c;stroke-width:1.5;\"/>\n    <path clip-path=\"url(#p7c4c8ba319)\" d=\"M 275.339439 294.119634 \nL 275.339439 279.557959 \n\" style=\"fill:none;stroke:#2ca02c;stroke-width:1.5;\"/>\n    <path clip-path=\"url(#p7c4c8ba319)\" d=\"M 292.124198 294.079657 \nL 292.124198 279.558855 \n\" style=\"fill:none;stroke:#2ca02c;stroke-width:1.5;\"/>\n    <path clip-path=\"url(#p7c4c8ba319)\" d=\"M 308.908957 294.097334 \nL 308.908957 279.611809 \n\" style=\"fill:none;stroke:#2ca02c;stroke-width:1.5;\"/>\n   </g>\n   <g id=\"LineCollection_4\">\n    <path clip-path=\"url(#p7c4c8ba319)\" d=\"M 40.352807 127.604622 \nL 40.352807 55.744146 \n\" style=\"fill:none;stroke:#d62728;stroke-width:1.5;\"/>\n    <path clip-path=\"url(#p7c4c8ba319)\" d=\"M 57.137567 147.059386 \nL 57.137567 60.067888 \n\" style=\"fill:none;stroke:#d62728;stroke-width:1.5;\"/>\n    <path clip-path=\"url(#p7c4c8ba319)\" d=\"M 73.922326 177.999739 \nL 73.922326 75.548502 \n\" style=\"fill:none;stroke:#d62728;stroke-width:1.5;\"/>\n    <path clip-path=\"url(#p7c4c8ba319)\" d=\"M 90.707086 227.850052 \nL 90.707086 118.957587 \n\" style=\"fill:none;stroke:#d62728;stroke-width:1.5;\"/>\n    <path clip-path=\"url(#p7c4c8ba319)\" d=\"M 107.491845 260.347987 \nL 107.491845 191.883986 \n\" style=\"fill:none;stroke:#d62728;stroke-width:1.5;\"/>\n    <path clip-path=\"url(#p7c4c8ba319)\" d=\"M 124.276604 276.843567 \nL 124.276604 245.669529 \n\" style=\"fill:none;stroke:#d62728;stroke-width:1.5;\"/>\n    <path clip-path=\"url(#p7c4c8ba319)\" d=\"M 141.061364 286.585359 \nL 141.061364 266.944272 \n\" style=\"fill:none;stroke:#d62728;stroke-width:1.5;\"/>\n    <path clip-path=\"url(#p7c4c8ba319)\" d=\"M 157.846123 290.100342 \nL 157.846123 274.526105 \n\" style=\"fill:none;stroke:#d62728;stroke-width:1.5;\"/>\n    <path clip-path=\"url(#p7c4c8ba319)\" d=\"M 174.630882 291.28771 \nL 174.630882 276.510304 \n\" style=\"fill:none;stroke:#d62728;stroke-width:1.5;\"/>\n    <path clip-path=\"url(#p7c4c8ba319)\" d=\"M 191.415642 291.589844 \nL 191.415642 277.295686 \n\" style=\"fill:none;stroke:#d62728;stroke-width:1.5;\"/>\n    <path clip-path=\"url(#p7c4c8ba319)\" d=\"M 208.200401 291.651276 \nL 208.200401 277.773376 \n\" style=\"fill:none;stroke:#d62728;stroke-width:1.5;\"/>\n    <path clip-path=\"url(#p7c4c8ba319)\" d=\"M 224.98516 291.770121 \nL 224.98516 277.749875 \n\" style=\"fill:none;stroke:#d62728;stroke-width:1.5;\"/>\n    <path clip-path=\"url(#p7c4c8ba319)\" d=\"M 241.76992 291.75105 \nL 241.76992 277.911935 \n\" style=\"fill:none;stroke:#d62728;stroke-width:1.5;\"/>\n    <path clip-path=\"url(#p7c4c8ba319)\" d=\"M 258.554679 291.719602 \nL 258.554679 277.915604 \n\" style=\"fill:none;stroke:#d62728;stroke-width:1.5;\"/>\n    <path clip-path=\"url(#p7c4c8ba319)\" d=\"M 275.339439 291.761586 \nL 275.339439 277.868373 \n\" style=\"fill:none;stroke:#d62728;stroke-width:1.5;\"/>\n    <path clip-path=\"url(#p7c4c8ba319)\" d=\"M 292.124198 291.720591 \nL 292.124198 277.89162 \n\" style=\"fill:none;stroke:#d62728;stroke-width:1.5;\"/>\n    <path clip-path=\"url(#p7c4c8ba319)\" d=\"M 308.908957 291.750684 \nL 308.908957 277.897335 \n\" style=\"fill:none;stroke:#d62728;stroke-width:1.5;\"/>\n   </g>\n   <g id=\"LineCollection_5\">\n    <path clip-path=\"url(#p7c4c8ba319)\" d=\"M 40.352807 123.870262 \nL 40.352807 57.517342 \n\" style=\"fill:none;stroke:#9467bd;stroke-width:1.5;\"/>\n    <path clip-path=\"url(#p7c4c8ba319)\" d=\"M 57.137567 147.343624 \nL 57.137567 58.207477 \n\" style=\"fill:none;stroke:#9467bd;stroke-width:1.5;\"/>\n    <path clip-path=\"url(#p7c4c8ba319)\" d=\"M 73.922326 180.955648 \nL 73.922326 75.35824 \n\" style=\"fill:none;stroke:#9467bd;stroke-width:1.5;\"/>\n    <path clip-path=\"url(#p7c4c8ba319)\" d=\"M 90.707086 227.087479 \nL 90.707086 116.994235 \n\" style=\"fill:none;stroke:#9467bd;stroke-width:1.5;\"/>\n    <path clip-path=\"url(#p7c4c8ba319)\" d=\"M 107.491845 251.081878 \nL 107.491845 188.903886 \n\" style=\"fill:none;stroke:#9467bd;stroke-width:1.5;\"/>\n    <path clip-path=\"url(#p7c4c8ba319)\" d=\"M 124.276604 275.493564 \nL 124.276604 241.64024 \n\" style=\"fill:none;stroke:#9467bd;stroke-width:1.5;\"/>\n    <path clip-path=\"url(#p7c4c8ba319)\" d=\"M 141.061364 286.616007 \nL 141.061364 267.380676 \n\" style=\"fill:none;stroke:#9467bd;stroke-width:1.5;\"/>\n    <path clip-path=\"url(#p7c4c8ba319)\" d=\"M 157.846123 289.753919 \nL 157.846123 274.525249 \n\" style=\"fill:none;stroke:#9467bd;stroke-width:1.5;\"/>\n    <path clip-path=\"url(#p7c4c8ba319)\" d=\"M 174.630882 290.399526 \nL 174.630882 276.276376 \n\" style=\"fill:none;stroke:#9467bd;stroke-width:1.5;\"/>\n    <path clip-path=\"url(#p7c4c8ba319)\" d=\"M 191.415642 290.732633 \nL 191.415642 276.641148 \n\" style=\"fill:none;stroke:#9467bd;stroke-width:1.5;\"/>\n    <path clip-path=\"url(#p7c4c8ba319)\" d=\"M 208.200401 290.687328 \nL 208.200401 276.897476 \n\" style=\"fill:none;stroke:#9467bd;stroke-width:1.5;\"/>\n    <path clip-path=\"url(#p7c4c8ba319)\" d=\"M 224.98516 290.739632 \nL 224.98516 277.102201 \n\" style=\"fill:none;stroke:#9467bd;stroke-width:1.5;\"/>\n    <path clip-path=\"url(#p7c4c8ba319)\" d=\"M 241.76992 290.832348 \nL 241.76992 277.051787 \n\" style=\"fill:none;stroke:#9467bd;stroke-width:1.5;\"/>\n    <path clip-path=\"url(#p7c4c8ba319)\" d=\"M 258.554679 290.819674 \nL 258.554679 277.072912 \n\" style=\"fill:none;stroke:#9467bd;stroke-width:1.5;\"/>\n    <path clip-path=\"url(#p7c4c8ba319)\" d=\"M 275.339439 290.863092 \nL 275.339439 277.099025 \n\" style=\"fill:none;stroke:#9467bd;stroke-width:1.5;\"/>\n    <path clip-path=\"url(#p7c4c8ba319)\" d=\"M 292.124198 290.866416 \nL 292.124198 277.078981 \n\" style=\"fill:none;stroke:#9467bd;stroke-width:1.5;\"/>\n    <path clip-path=\"url(#p7c4c8ba319)\" d=\"M 308.908957 290.881174 \nL 308.908957 277.089011 \n\" style=\"fill:none;stroke:#9467bd;stroke-width:1.5;\"/>\n   </g>\n   <g id=\"LineCollection_6\">\n    <path clip-path=\"url(#p7c4c8ba319)\" d=\"M 40.352807 130.477914 \nL 40.352807 55.554545 \n\" style=\"fill:none;stroke:#8c564b;stroke-width:1.5;\"/>\n    <path clip-path=\"url(#p7c4c8ba319)\" d=\"M 57.137567 152.925438 \nL 57.137567 56.132138 \n\" style=\"fill:none;stroke:#8c564b;stroke-width:1.5;\"/>\n    <path clip-path=\"url(#p7c4c8ba319)\" d=\"M 73.922326 181.091657 \nL 73.922326 71.114224 \n\" style=\"fill:none;stroke:#8c564b;stroke-width:1.5;\"/>\n    <path clip-path=\"url(#p7c4c8ba319)\" d=\"M 90.707086 220.594379 \nL 90.707086 119.516334 \n\" style=\"fill:none;stroke:#8c564b;stroke-width:1.5;\"/>\n    <path clip-path=\"url(#p7c4c8ba319)\" d=\"M 107.491845 256.971174 \nL 107.491845 195.819865 \n\" style=\"fill:none;stroke:#8c564b;stroke-width:1.5;\"/>\n    <path clip-path=\"url(#p7c4c8ba319)\" d=\"M 124.276604 276.174895 \nL 124.276604 244.65648 \n\" style=\"fill:none;stroke:#8c564b;stroke-width:1.5;\"/>\n    <path clip-path=\"url(#p7c4c8ba319)\" d=\"M 141.061364 284.888728 \nL 141.061364 265.841718 \n\" style=\"fill:none;stroke:#8c564b;stroke-width:1.5;\"/>\n    <path clip-path=\"url(#p7c4c8ba319)\" d=\"M 157.846123 289.186476 \nL 157.846123 273.709371 \n\" style=\"fill:none;stroke:#8c564b;stroke-width:1.5;\"/>\n    <path clip-path=\"url(#p7c4c8ba319)\" d=\"M 174.630882 289.761624 \nL 174.630882 275.55624 \n\" style=\"fill:none;stroke:#8c564b;stroke-width:1.5;\"/>\n    <path clip-path=\"url(#p7c4c8ba319)\" d=\"M 191.415642 290.096235 \nL 191.415642 276.197791 \n\" style=\"fill:none;stroke:#8c564b;stroke-width:1.5;\"/>\n    <path clip-path=\"url(#p7c4c8ba319)\" d=\"M 208.200401 290.177493 \nL 208.200401 276.461195 \n\" style=\"fill:none;stroke:#8c564b;stroke-width:1.5;\"/>\n    <path clip-path=\"url(#p7c4c8ba319)\" d=\"M 224.98516 290.258119 \nL 224.98516 276.485235 \n\" style=\"fill:none;stroke:#8c564b;stroke-width:1.5;\"/>\n    <path clip-path=\"url(#p7c4c8ba319)\" d=\"M 241.76992 290.354325 \nL 241.76992 276.51165 \n\" style=\"fill:none;stroke:#8c564b;stroke-width:1.5;\"/>\n    <path clip-path=\"url(#p7c4c8ba319)\" d=\"M 258.554679 290.291334 \nL 258.554679 276.495513 \n\" style=\"fill:none;stroke:#8c564b;stroke-width:1.5;\"/>\n    <path clip-path=\"url(#p7c4c8ba319)\" d=\"M 275.339439 290.379941 \nL 275.339439 276.504348 \n\" style=\"fill:none;stroke:#8c564b;stroke-width:1.5;\"/>\n    <path clip-path=\"url(#p7c4c8ba319)\" d=\"M 292.124198 290.373353 \nL 292.124198 276.52244 \n\" style=\"fill:none;stroke:#8c564b;stroke-width:1.5;\"/>\n    <path clip-path=\"url(#p7c4c8ba319)\" d=\"M 308.908957 290.335003 \nL 308.908957 276.510174 \n\" style=\"fill:none;stroke:#8c564b;stroke-width:1.5;\"/>\n   </g>\n   <g id=\"line2d_57\">\n    <path clip-path=\"url(#p7c4c8ba319)\" d=\"M 40.352807 92.847042 \nL 57.137567 107.882957 \nL 73.922326 126.30796 \nL 90.707086 166.838471 \nL 107.491845 209.221123 \nL 124.276604 245.418275 \nL 141.061364 267.640002 \nL 157.846123 280.223346 \nL 174.630882 285.496075 \nL 191.415642 287.814896 \nL 208.200401 290.077775 \nL 224.98516 290.696737 \nL 241.76992 290.957996 \nL 258.554679 291.188195 \nL 275.339439 291.301 \nL 292.124198 291.322388 \nL 308.908957 291.281796 \n\" style=\"fill:none;stroke:#0000ff;stroke-linecap:square;stroke-width:1.5;\"/>\n   </g>\n   <g id=\"line2d_58\">\n    <path clip-path=\"url(#p7c4c8ba319)\" d=\"M 40.352807 92.225349 \nL 57.137567 106.402086 \nL 73.922326 137.07672 \nL 90.707086 175.979137 \nL 107.491845 224.295365 \nL 124.276604 259.640297 \nL 141.061364 277.886528 \nL 157.846123 286.203904 \nL 174.630882 288.959223 \nL 191.415642 290.521389 \nL 208.200401 291.359515 \nL 224.98516 291.926872 \nL 241.76992 291.901319 \nL 258.554679 292.134429 \nL 275.339439 292.045081 \nL 292.124198 292.098712 \nL 308.908957 292.122749 \n\" style=\"fill:none;stroke:#008000;stroke-linecap:square;stroke-width:1.5;\"/>\n   </g>\n   <g id=\"line2d_59\">\n    <path clip-path=\"url(#p7c4c8ba319)\" d=\"M 40.352807 92.336785 \nL 57.137567 106.101997 \nL 73.922326 133.131611 \nL 90.707086 171.176951 \nL 107.491845 228.149655 \nL 124.276604 262.532074 \nL 141.061364 277.301081 \nL 157.846123 282.104358 \nL 174.630882 284.427613 \nL 191.415642 285.806869 \nL 208.200401 286.342484 \nL 224.98516 286.575233 \nL 241.76992 286.753634 \nL 258.554679 286.806488 \nL 275.339439 286.838796 \nL 292.124198 286.819256 \nL 308.908957 286.854571 \n\" style=\"fill:none;stroke:#ff0000;stroke-linecap:square;stroke-width:1.5;\"/>\n   </g>\n   <g id=\"line2d_60\">\n    <path clip-path=\"url(#p7c4c8ba319)\" d=\"M 40.352807 91.674384 \nL 57.137567 103.563637 \nL 73.922326 126.77412 \nL 90.707086 173.40382 \nL 107.491845 226.115987 \nL 124.276604 261.256548 \nL 141.061364 276.764816 \nL 157.846123 282.313223 \nL 174.630882 283.899007 \nL 191.415642 284.442765 \nL 208.200401 284.712326 \nL 224.98516 284.759998 \nL 241.76992 284.831493 \nL 258.554679 284.817603 \nL 275.339439 284.814979 \nL 292.124198 284.806106 \nL 308.908957 284.824009 \n\" style=\"fill:none;stroke:#00bfbf;stroke-linecap:square;stroke-width:1.5;\"/>\n   </g>\n   <g id=\"line2d_61\">\n    <path clip-path=\"url(#p7c4c8ba319)\" d=\"M 40.352807 90.693802 \nL 57.137567 102.775551 \nL 73.922326 128.156944 \nL 90.707086 172.040857 \nL 107.491845 219.992882 \nL 124.276604 258.566902 \nL 141.061364 276.998341 \nL 157.846123 282.139584 \nL 174.630882 283.337951 \nL 191.415642 283.68689 \nL 208.200401 283.792402 \nL 224.98516 283.920917 \nL 241.76992 283.942067 \nL 258.554679 283.946293 \nL 275.339439 283.981058 \nL 292.124198 283.972698 \nL 308.908957 283.985093 \n\" style=\"fill:none;stroke:#bfbf00;stroke-linecap:square;stroke-width:1.5;\"/>\n   </g>\n   <g id=\"line2d_62\">\n    <path clip-path=\"url(#p7c4c8ba319)\" d=\"M 40.352807 93.01623 \nL 57.137567 104.528788 \nL 73.922326 126.102941 \nL 90.707086 170.055356 \nL 107.491845 226.395519 \nL 124.276604 260.415688 \nL 141.061364 275.365223 \nL 157.846123 281.447923 \nL 174.630882 282.658932 \nL 191.415642 283.147013 \nL 208.200401 283.319344 \nL 224.98516 283.371677 \nL 241.76992 283.432987 \nL 258.554679 283.393424 \nL 275.339439 283.442144 \nL 292.124198 283.447896 \nL 308.908957 283.422588 \n\" style=\"fill:none;stroke:#000000;stroke-linecap:square;stroke-width:1.5;\"/>\n   </g>\n   <g id=\"line2d_63\">\n    <path clip-path=\"url(#p7c4c8ba319)\" d=\"M 40.352807 92.847042 \nL 57.137567 107.882957 \nL 73.922326 126.30796 \nL 90.707086 166.838471 \nL 107.491845 209.221123 \nL 124.276604 245.418275 \nL 141.061364 267.640002 \nL 157.846123 280.223346 \nL 174.630882 285.496075 \nL 191.415642 287.814896 \nL 208.200401 290.077775 \nL 224.98516 290.696737 \nL 241.76992 290.957996 \nL 258.554679 291.188195 \nL 275.339439 291.301 \nL 292.124198 291.322388 \nL 308.908957 291.281796 \n\" style=\"fill:none;stroke:#1f77b4;stroke-linecap:square;stroke-width:1.5;\"/>\n   </g>\n   <g id=\"line2d_64\">\n    <path clip-path=\"url(#p7c4c8ba319)\" d=\"M 40.352807 92.225349 \nL 57.137567 106.402086 \nL 73.922326 137.07672 \nL 90.707086 175.979137 \nL 107.491845 224.295365 \nL 124.276604 259.640297 \nL 141.061364 277.886528 \nL 157.846123 286.203904 \nL 174.630882 288.959223 \nL 191.415642 290.521389 \nL 208.200401 291.359515 \nL 224.98516 291.926872 \nL 241.76992 291.901319 \nL 258.554679 292.134429 \nL 275.339439 292.045081 \nL 292.124198 292.098712 \nL 308.908957 292.122749 \n\" style=\"fill:none;stroke:#ff7f0e;stroke-linecap:square;stroke-width:1.5;\"/>\n   </g>\n   <g id=\"line2d_65\">\n    <path clip-path=\"url(#p7c4c8ba319)\" d=\"M 40.352807 92.336785 \nL 57.137567 106.101997 \nL 73.922326 133.131611 \nL 90.707086 171.176951 \nL 107.491845 228.149655 \nL 124.276604 262.532074 \nL 141.061364 277.301081 \nL 157.846123 282.104358 \nL 174.630882 284.427613 \nL 191.415642 285.806869 \nL 208.200401 286.342484 \nL 224.98516 286.575233 \nL 241.76992 286.753634 \nL 258.554679 286.806488 \nL 275.339439 286.838796 \nL 292.124198 286.819256 \nL 308.908957 286.854571 \n\" style=\"fill:none;stroke:#2ca02c;stroke-linecap:square;stroke-width:1.5;\"/>\n   </g>\n   <g id=\"line2d_66\">\n    <path clip-path=\"url(#p7c4c8ba319)\" d=\"M 40.352807 91.674384 \nL 57.137567 103.563637 \nL 73.922326 126.77412 \nL 90.707086 173.40382 \nL 107.491845 226.115987 \nL 124.276604 261.256548 \nL 141.061364 276.764816 \nL 157.846123 282.313223 \nL 174.630882 283.899007 \nL 191.415642 284.442765 \nL 208.200401 284.712326 \nL 224.98516 284.759998 \nL 241.76992 284.831493 \nL 258.554679 284.817603 \nL 275.339439 284.814979 \nL 292.124198 284.806106 \nL 308.908957 284.824009 \n\" style=\"fill:none;stroke:#d62728;stroke-linecap:square;stroke-width:1.5;\"/>\n   </g>\n   <g id=\"line2d_67\">\n    <path clip-path=\"url(#p7c4c8ba319)\" d=\"M 40.352807 90.693802 \nL 57.137567 102.775551 \nL 73.922326 128.156944 \nL 90.707086 172.040857 \nL 107.491845 219.992882 \nL 124.276604 258.566902 \nL 141.061364 276.998341 \nL 157.846123 282.139584 \nL 174.630882 283.337951 \nL 191.415642 283.68689 \nL 208.200401 283.792402 \nL 224.98516 283.920917 \nL 241.76992 283.942067 \nL 258.554679 283.946293 \nL 275.339439 283.981058 \nL 292.124198 283.972698 \nL 308.908957 283.985093 \n\" style=\"fill:none;stroke:#9467bd;stroke-linecap:square;stroke-width:1.5;\"/>\n   </g>\n   <g id=\"line2d_68\">\n    <path clip-path=\"url(#p7c4c8ba319)\" d=\"M 40.352807 93.01623 \nL 57.137567 104.528788 \nL 73.922326 126.102941 \nL 90.707086 170.055356 \nL 107.491845 226.395519 \nL 124.276604 260.415688 \nL 141.061364 275.365223 \nL 157.846123 281.447923 \nL 174.630882 282.658932 \nL 191.415642 283.147013 \nL 208.200401 283.319344 \nL 224.98516 283.371677 \nL 241.76992 283.432987 \nL 258.554679 283.393424 \nL 275.339439 283.442144 \nL 292.124198 283.447896 \nL 308.908957 283.422588 \n\" style=\"fill:none;stroke:#8c564b;stroke-linecap:square;stroke-width:1.5;\"/>\n   </g>\n   <g id=\"patch_3\">\n    <path d=\"M 26.925 315 \nL 26.925 43.2 \n\" style=\"fill:none;stroke:#000000;stroke-linecap:square;stroke-linejoin:miter;stroke-width:0.8;\"/>\n   </g>\n   <g id=\"patch_4\">\n    <path d=\"M 322.336765 315 \nL 322.336765 43.2 \n\" style=\"fill:none;stroke:#000000;stroke-linecap:square;stroke-linejoin:miter;stroke-width:0.8;\"/>\n   </g>\n   <g id=\"patch_5\">\n    <path d=\"M 26.925 315 \nL 322.336765 315 \n\" style=\"fill:none;stroke:#000000;stroke-linecap:square;stroke-linejoin:miter;stroke-width:0.8;\"/>\n   </g>\n   <g id=\"patch_6\">\n    <path d=\"M 26.925 43.2 \nL 322.336765 43.2 \n\" style=\"fill:none;stroke:#000000;stroke-linecap:square;stroke-linejoin:miter;stroke-width:0.8;\"/>\n   </g>\n   <g id=\"text_14\">\n    <!-- Test MSE (Minority) -->\n    <defs>\n     <path d=\"M -0.296875 72.90625 \nL 61.375 72.90625 \nL 61.375 64.59375 \nL 35.5 64.59375 \nL 35.5 0 \nL 25.59375 0 \nL 25.59375 64.59375 \nL -0.296875 64.59375 \nz\n\" id=\"DejaVuSans-84\"/>\n     <path d=\"M 18.3125 70.21875 \nL 18.3125 54.6875 \nL 36.8125 54.6875 \nL 36.8125 47.703125 \nL 18.3125 47.703125 \nL 18.3125 18.015625 \nQ 18.3125 11.328125 20.140625 9.421875 \nQ 21.96875 7.515625 27.59375 7.515625 \nL 36.8125 7.515625 \nL 36.8125 0 \nL 27.59375 0 \nQ 17.1875 0 13.234375 3.875 \nQ 9.28125 7.765625 9.28125 18.015625 \nL 9.28125 47.703125 \nL 2.6875 47.703125 \nL 2.6875 54.6875 \nL 9.28125 54.6875 \nL 9.28125 70.21875 \nz\n\" id=\"DejaVuSans-116\"/>\n     <path id=\"DejaVuSans-32\"/>\n     <path d=\"M 9.8125 72.90625 \nL 24.515625 72.90625 \nL 43.109375 23.296875 \nL 61.8125 72.90625 \nL 76.515625 72.90625 \nL 76.515625 0 \nL 66.890625 0 \nL 66.890625 64.015625 \nL 48.09375 14.015625 \nL 38.1875 14.015625 \nL 19.390625 64.015625 \nL 19.390625 0 \nL 9.8125 0 \nz\n\" id=\"DejaVuSans-77\"/>\n     <path d=\"M 53.515625 70.515625 \nL 53.515625 60.890625 \nQ 47.90625 63.578125 42.921875 64.890625 \nQ 37.9375 66.21875 33.296875 66.21875 \nQ 25.25 66.21875 20.875 63.09375 \nQ 16.5 59.96875 16.5 54.203125 \nQ 16.5 49.359375 19.40625 46.890625 \nQ 22.3125 44.4375 30.421875 42.921875 \nL 36.375 41.703125 \nQ 47.40625 39.59375 52.65625 34.296875 \nQ 57.90625 29 57.90625 20.125 \nQ 57.90625 9.515625 50.796875 4.046875 \nQ 43.703125 -1.421875 29.984375 -1.421875 \nQ 24.8125 -1.421875 18.96875 -0.25 \nQ 13.140625 0.921875 6.890625 3.21875 \nL 6.890625 13.375 \nQ 12.890625 10.015625 18.65625 8.296875 \nQ 24.421875 6.59375 29.984375 6.59375 \nQ 38.421875 6.59375 43.015625 9.90625 \nQ 47.609375 13.234375 47.609375 19.390625 \nQ 47.609375 24.75 44.3125 27.78125 \nQ 41.015625 30.8125 33.5 32.328125 \nL 27.484375 33.5 \nQ 16.453125 35.6875 11.515625 40.375 \nQ 6.59375 45.0625 6.59375 53.421875 \nQ 6.59375 63.09375 13.40625 68.65625 \nQ 20.21875 74.21875 32.171875 74.21875 \nQ 37.3125 74.21875 42.625 73.28125 \nQ 47.953125 72.359375 53.515625 70.515625 \nz\n\" id=\"DejaVuSans-83\"/>\n     <path d=\"M 9.8125 72.90625 \nL 55.90625 72.90625 \nL 55.90625 64.59375 \nL 19.671875 64.59375 \nL 19.671875 43.015625 \nL 54.390625 43.015625 \nL 54.390625 34.71875 \nL 19.671875 34.71875 \nL 19.671875 8.296875 \nL 56.78125 8.296875 \nL 56.78125 0 \nL 9.8125 0 \nz\n\" id=\"DejaVuSans-69\"/>\n     <path d=\"M 31 75.875 \nQ 24.46875 64.65625 21.28125 53.65625 \nQ 18.109375 42.671875 18.109375 31.390625 \nQ 18.109375 20.125 21.3125 9.0625 \nQ 24.515625 -2 31 -13.1875 \nL 23.1875 -13.1875 \nQ 15.875 -1.703125 12.234375 9.375 \nQ 8.59375 20.453125 8.59375 31.390625 \nQ 8.59375 42.28125 12.203125 53.3125 \nQ 15.828125 64.359375 23.1875 75.875 \nz\n\" id=\"DejaVuSans-40\"/>\n     <path d=\"M 9.421875 54.6875 \nL 18.40625 54.6875 \nL 18.40625 0 \nL 9.421875 0 \nz\nM 9.421875 75.984375 \nL 18.40625 75.984375 \nL 18.40625 64.59375 \nL 9.421875 64.59375 \nz\n\" id=\"DejaVuSans-105\"/>\n     <path d=\"M 41.109375 46.296875 \nQ 39.59375 47.171875 37.8125 47.578125 \nQ 36.03125 48 33.890625 48 \nQ 26.265625 48 22.1875 43.046875 \nQ 18.109375 38.09375 18.109375 28.8125 \nL 18.109375 0 \nL 9.078125 0 \nL 9.078125 54.6875 \nL 18.109375 54.6875 \nL 18.109375 46.1875 \nQ 20.953125 51.171875 25.484375 53.578125 \nQ 30.03125 56 36.53125 56 \nQ 37.453125 56 38.578125 55.875 \nQ 39.703125 55.765625 41.0625 55.515625 \nz\n\" id=\"DejaVuSans-114\"/>\n     <path d=\"M 32.171875 -5.078125 \nQ 28.375 -14.84375 24.75 -17.8125 \nQ 21.140625 -20.796875 15.09375 -20.796875 \nL 7.90625 -20.796875 \nL 7.90625 -13.28125 \nL 13.1875 -13.28125 \nQ 16.890625 -13.28125 18.9375 -11.515625 \nQ 21 -9.765625 23.484375 -3.21875 \nL 25.09375 0.875 \nL 2.984375 54.6875 \nL 12.5 54.6875 \nL 29.59375 11.921875 \nL 46.6875 54.6875 \nL 56.203125 54.6875 \nz\n\" id=\"DejaVuSans-121\"/>\n     <path d=\"M 8.015625 75.875 \nL 15.828125 75.875 \nQ 23.140625 64.359375 26.78125 53.3125 \nQ 30.421875 42.28125 30.421875 31.390625 \nQ 30.421875 20.453125 26.78125 9.375 \nQ 23.140625 -1.703125 15.828125 -13.1875 \nL 8.015625 -13.1875 \nQ 14.5 -2 17.703125 9.0625 \nQ 20.90625 20.125 20.90625 31.390625 \nQ 20.90625 42.671875 17.703125 53.65625 \nQ 14.5 64.65625 8.015625 75.875 \nz\n\" id=\"DejaVuSans-41\"/>\n    </defs>\n    <g transform=\"translate(117.18932 37.2)scale(0.12 -0.12)\">\n     <use xlink:href=\"#DejaVuSans-84\"/>\n     <use x=\"44.083984\" xlink:href=\"#DejaVuSans-101\"/>\n     <use x=\"105.607422\" xlink:href=\"#DejaVuSans-115\"/>\n     <use x=\"157.707031\" xlink:href=\"#DejaVuSans-116\"/>\n     <use x=\"196.916016\" xlink:href=\"#DejaVuSans-32\"/>\n     <use x=\"228.703125\" xlink:href=\"#DejaVuSans-77\"/>\n     <use x=\"314.982422\" xlink:href=\"#DejaVuSans-83\"/>\n     <use x=\"378.458984\" xlink:href=\"#DejaVuSans-69\"/>\n     <use x=\"441.642578\" xlink:href=\"#DejaVuSans-32\"/>\n     <use x=\"473.429688\" xlink:href=\"#DejaVuSans-40\"/>\n     <use x=\"512.443359\" xlink:href=\"#DejaVuSans-77\"/>\n     <use x=\"598.722656\" xlink:href=\"#DejaVuSans-105\"/>\n     <use x=\"626.505859\" xlink:href=\"#DejaVuSans-110\"/>\n     <use x=\"689.884766\" xlink:href=\"#DejaVuSans-111\"/>\n     <use x=\"751.066406\" xlink:href=\"#DejaVuSans-114\"/>\n     <use x=\"792.179688\" xlink:href=\"#DejaVuSans-105\"/>\n     <use x=\"819.962891\" xlink:href=\"#DejaVuSans-116\"/>\n     <use x=\"859.171875\" xlink:href=\"#DejaVuSans-121\"/>\n     <use x=\"918.351562\" xlink:href=\"#DejaVuSans-41\"/>\n    </g>\n   </g>\n  </g>\n  <g id=\"axes_2\">\n   <g id=\"patch_7\">\n    <path d=\"M 381.419118 315 \nL 676.830882 315 \nL 676.830882 43.2 \nL 381.419118 43.2 \nz\n\" style=\"fill:#ffffff;\"/>\n   </g>\n   <g id=\"matplotlib.axis_3\">\n    <g id=\"xtick_51\">\n     <g id=\"line2d_69\">\n      <g>\n       <use style=\"stroke:#000000;stroke-width:0.8;\" x=\"394.846925\" xlink:href=\"#mfd3e5079db\" y=\"315\"/>\n      </g>\n     </g>\n     <g id=\"text_15\">\n      <!-- $\\mathdefault{10^{0}}$ -->\n      <g transform=\"translate(386.046925 329.598437)scale(0.1 -0.1)\">\n       <use transform=\"translate(0 0.765625)\" xlink:href=\"#DejaVuSans-49\"/>\n       <use transform=\"translate(63.623047 0.765625)\" xlink:href=\"#DejaVuSans-48\"/>\n       <use transform=\"translate(128.203125 39.046875)scale(0.7)\" xlink:href=\"#DejaVuSans-48\"/>\n      </g>\n     </g>\n    </g>\n    <g id=\"xtick_52\">\n     <g id=\"line2d_70\">\n      <g>\n       <use style=\"stroke:#000000;stroke-width:0.8;\" x=\"450.604689\" xlink:href=\"#mfd3e5079db\" y=\"315\"/>\n      </g>\n     </g>\n     <g id=\"text_16\">\n      <!-- $\\mathdefault{10^{1}}$ -->\n      <g transform=\"translate(441.804689 329.598437)scale(0.1 -0.1)\">\n       <use transform=\"translate(0 0.684375)\" xlink:href=\"#DejaVuSans-49\"/>\n       <use transform=\"translate(63.623047 0.684375)\" xlink:href=\"#DejaVuSans-48\"/>\n       <use transform=\"translate(128.203125 38.965625)scale(0.7)\" xlink:href=\"#DejaVuSans-49\"/>\n      </g>\n     </g>\n    </g>\n    <g id=\"xtick_53\">\n     <g id=\"line2d_71\">\n      <g>\n       <use style=\"stroke:#000000;stroke-width:0.8;\" x=\"506.362452\" xlink:href=\"#mfd3e5079db\" y=\"315\"/>\n      </g>\n     </g>\n     <g id=\"text_17\">\n      <!-- $\\mathdefault{10^{2}}$ -->\n      <g transform=\"translate(497.562452 329.598437)scale(0.1 -0.1)\">\n       <use transform=\"translate(0 0.765625)\" xlink:href=\"#DejaVuSans-49\"/>\n       <use transform=\"translate(63.623047 0.765625)\" xlink:href=\"#DejaVuSans-48\"/>\n       <use transform=\"translate(128.203125 39.046875)scale(0.7)\" xlink:href=\"#DejaVuSans-50\"/>\n      </g>\n     </g>\n    </g>\n    <g id=\"xtick_54\">\n     <g id=\"line2d_72\">\n      <g>\n       <use style=\"stroke:#000000;stroke-width:0.8;\" x=\"562.120216\" xlink:href=\"#mfd3e5079db\" y=\"315\"/>\n      </g>\n     </g>\n     <g id=\"text_18\">\n      <!-- $\\mathdefault{10^{3}}$ -->\n      <g transform=\"translate(553.320216 329.598437)scale(0.1 -0.1)\">\n       <use transform=\"translate(0 0.765625)\" xlink:href=\"#DejaVuSans-49\"/>\n       <use transform=\"translate(63.623047 0.765625)\" xlink:href=\"#DejaVuSans-48\"/>\n       <use transform=\"translate(128.203125 39.046875)scale(0.7)\" xlink:href=\"#DejaVuSans-51\"/>\n      </g>\n     </g>\n    </g>\n    <g id=\"xtick_55\">\n     <g id=\"line2d_73\">\n      <g>\n       <use style=\"stroke:#000000;stroke-width:0.8;\" x=\"617.87798\" xlink:href=\"#mfd3e5079db\" y=\"315\"/>\n      </g>\n     </g>\n     <g id=\"text_19\">\n      <!-- $\\mathdefault{10^{4}}$ -->\n      <g transform=\"translate(609.07798 329.598437)scale(0.1 -0.1)\">\n       <use transform=\"translate(0 0.684375)\" xlink:href=\"#DejaVuSans-49\"/>\n       <use transform=\"translate(63.623047 0.684375)\" xlink:href=\"#DejaVuSans-48\"/>\n       <use transform=\"translate(128.203125 38.965625)scale(0.7)\" xlink:href=\"#DejaVuSans-52\"/>\n      </g>\n     </g>\n    </g>\n    <g id=\"xtick_56\">\n     <g id=\"line2d_74\">\n      <g>\n       <use style=\"stroke:#000000;stroke-width:0.8;\" x=\"673.635744\" xlink:href=\"#mfd3e5079db\" y=\"315\"/>\n      </g>\n     </g>\n     <g id=\"text_20\">\n      <!-- $\\mathdefault{10^{5}}$ -->\n      <g transform=\"translate(664.835744 329.598437)scale(0.1 -0.1)\">\n       <use transform=\"translate(0 0.684375)\" xlink:href=\"#DejaVuSans-49\"/>\n       <use transform=\"translate(63.623047 0.684375)\" xlink:href=\"#DejaVuSans-48\"/>\n       <use transform=\"translate(128.203125 38.965625)scale(0.7)\" xlink:href=\"#DejaVuSans-53\"/>\n      </g>\n     </g>\n    </g>\n    <g id=\"xtick_57\">\n     <g id=\"line2d_75\">\n      <g>\n       <use style=\"stroke:#000000;stroke-width:0.6;\" x=\"382.477135\" xlink:href=\"#m0050a92b01\" y=\"315\"/>\n      </g>\n     </g>\n    </g>\n    <g id=\"xtick_58\">\n     <g id=\"line2d_76\">\n      <g>\n       <use style=\"stroke:#000000;stroke-width:0.6;\" x=\"386.209938\" xlink:href=\"#m0050a92b01\" y=\"315\"/>\n      </g>\n     </g>\n    </g>\n    <g id=\"xtick_59\">\n     <g id=\"line2d_77\">\n      <g>\n       <use style=\"stroke:#000000;stroke-width:0.6;\" x=\"389.44344\" xlink:href=\"#m0050a92b01\" y=\"315\"/>\n      </g>\n     </g>\n    </g>\n    <g id=\"xtick_60\">\n     <g id=\"line2d_78\">\n      <g>\n       <use style=\"stroke:#000000;stroke-width:0.6;\" x=\"392.29559\" xlink:href=\"#m0050a92b01\" y=\"315\"/>\n      </g>\n     </g>\n    </g>\n    <g id=\"xtick_61\">\n     <g id=\"line2d_79\">\n      <g>\n       <use style=\"stroke:#000000;stroke-width:0.6;\" x=\"411.631684\" xlink:href=\"#m0050a92b01\" y=\"315\"/>\n      </g>\n     </g>\n    </g>\n    <g id=\"xtick_62\">\n     <g id=\"line2d_80\">\n      <g>\n       <use style=\"stroke:#000000;stroke-width:0.6;\" x=\"421.450139\" xlink:href=\"#m0050a92b01\" y=\"315\"/>\n      </g>\n     </g>\n    </g>\n    <g id=\"xtick_63\">\n     <g id=\"line2d_81\">\n      <g>\n       <use style=\"stroke:#000000;stroke-width:0.6;\" x=\"428.416444\" xlink:href=\"#m0050a92b01\" y=\"315\"/>\n      </g>\n     </g>\n    </g>\n    <g id=\"xtick_64\">\n     <g id=\"line2d_82\">\n      <g>\n       <use style=\"stroke:#000000;stroke-width:0.6;\" x=\"433.819929\" xlink:href=\"#m0050a92b01\" y=\"315\"/>\n      </g>\n     </g>\n    </g>\n    <g id=\"xtick_65\">\n     <g id=\"line2d_83\">\n      <g>\n       <use style=\"stroke:#000000;stroke-width:0.6;\" x=\"438.234899\" xlink:href=\"#m0050a92b01\" y=\"315\"/>\n      </g>\n     </g>\n    </g>\n    <g id=\"xtick_66\">\n     <g id=\"line2d_84\">\n      <g>\n       <use style=\"stroke:#000000;stroke-width:0.6;\" x=\"441.967702\" xlink:href=\"#m0050a92b01\" y=\"315\"/>\n      </g>\n     </g>\n    </g>\n    <g id=\"xtick_67\">\n     <g id=\"line2d_85\">\n      <g>\n       <use style=\"stroke:#000000;stroke-width:0.6;\" x=\"445.201203\" xlink:href=\"#m0050a92b01\" y=\"315\"/>\n      </g>\n     </g>\n    </g>\n    <g id=\"xtick_68\">\n     <g id=\"line2d_86\">\n      <g>\n       <use style=\"stroke:#000000;stroke-width:0.6;\" x=\"448.053353\" xlink:href=\"#m0050a92b01\" y=\"315\"/>\n      </g>\n     </g>\n    </g>\n    <g id=\"xtick_69\">\n     <g id=\"line2d_87\">\n      <g>\n       <use style=\"stroke:#000000;stroke-width:0.6;\" x=\"467.389448\" xlink:href=\"#m0050a92b01\" y=\"315\"/>\n      </g>\n     </g>\n    </g>\n    <g id=\"xtick_70\">\n     <g id=\"line2d_88\">\n      <g>\n       <use style=\"stroke:#000000;stroke-width:0.6;\" x=\"477.207903\" xlink:href=\"#m0050a92b01\" y=\"315\"/>\n      </g>\n     </g>\n    </g>\n    <g id=\"xtick_71\">\n     <g id=\"line2d_89\">\n      <g>\n       <use style=\"stroke:#000000;stroke-width:0.6;\" x=\"484.174208\" xlink:href=\"#m0050a92b01\" y=\"315\"/>\n      </g>\n     </g>\n    </g>\n    <g id=\"xtick_72\">\n     <g id=\"line2d_90\">\n      <g>\n       <use style=\"stroke:#000000;stroke-width:0.6;\" x=\"489.577693\" xlink:href=\"#m0050a92b01\" y=\"315\"/>\n      </g>\n     </g>\n    </g>\n    <g id=\"xtick_73\">\n     <g id=\"line2d_91\">\n      <g>\n       <use style=\"stroke:#000000;stroke-width:0.6;\" x=\"493.992662\" xlink:href=\"#m0050a92b01\" y=\"315\"/>\n      </g>\n     </g>\n    </g>\n    <g id=\"xtick_74\">\n     <g id=\"line2d_92\">\n      <g>\n       <use style=\"stroke:#000000;stroke-width:0.6;\" x=\"497.725466\" xlink:href=\"#m0050a92b01\" y=\"315\"/>\n      </g>\n     </g>\n    </g>\n    <g id=\"xtick_75\">\n     <g id=\"line2d_93\">\n      <g>\n       <use style=\"stroke:#000000;stroke-width:0.6;\" x=\"500.958967\" xlink:href=\"#m0050a92b01\" y=\"315\"/>\n      </g>\n     </g>\n    </g>\n    <g id=\"xtick_76\">\n     <g id=\"line2d_94\">\n      <g>\n       <use style=\"stroke:#000000;stroke-width:0.6;\" x=\"503.811117\" xlink:href=\"#m0050a92b01\" y=\"315\"/>\n      </g>\n     </g>\n    </g>\n    <g id=\"xtick_77\">\n     <g id=\"line2d_95\">\n      <g>\n       <use style=\"stroke:#000000;stroke-width:0.6;\" x=\"523.147212\" xlink:href=\"#m0050a92b01\" y=\"315\"/>\n      </g>\n     </g>\n    </g>\n    <g id=\"xtick_78\">\n     <g id=\"line2d_96\">\n      <g>\n       <use style=\"stroke:#000000;stroke-width:0.6;\" x=\"532.965667\" xlink:href=\"#m0050a92b01\" y=\"315\"/>\n      </g>\n     </g>\n    </g>\n    <g id=\"xtick_79\">\n     <g id=\"line2d_97\">\n      <g>\n       <use style=\"stroke:#000000;stroke-width:0.6;\" x=\"539.931971\" xlink:href=\"#m0050a92b01\" y=\"315\"/>\n      </g>\n     </g>\n    </g>\n    <g id=\"xtick_80\">\n     <g id=\"line2d_98\">\n      <g>\n       <use style=\"stroke:#000000;stroke-width:0.6;\" x=\"545.335457\" xlink:href=\"#m0050a92b01\" y=\"315\"/>\n      </g>\n     </g>\n    </g>\n    <g id=\"xtick_81\">\n     <g id=\"line2d_99\">\n      <g>\n       <use style=\"stroke:#000000;stroke-width:0.6;\" x=\"549.750426\" xlink:href=\"#m0050a92b01\" y=\"315\"/>\n      </g>\n     </g>\n    </g>\n    <g id=\"xtick_82\">\n     <g id=\"line2d_100\">\n      <g>\n       <use style=\"stroke:#000000;stroke-width:0.6;\" x=\"553.483229\" xlink:href=\"#m0050a92b01\" y=\"315\"/>\n      </g>\n     </g>\n    </g>\n    <g id=\"xtick_83\">\n     <g id=\"line2d_101\">\n      <g>\n       <use style=\"stroke:#000000;stroke-width:0.6;\" x=\"556.716731\" xlink:href=\"#m0050a92b01\" y=\"315\"/>\n      </g>\n     </g>\n    </g>\n    <g id=\"xtick_84\">\n     <g id=\"line2d_102\">\n      <g>\n       <use style=\"stroke:#000000;stroke-width:0.6;\" x=\"559.568881\" xlink:href=\"#m0050a92b01\" y=\"315\"/>\n      </g>\n     </g>\n    </g>\n    <g id=\"xtick_85\">\n     <g id=\"line2d_103\">\n      <g>\n       <use style=\"stroke:#000000;stroke-width:0.6;\" x=\"578.904976\" xlink:href=\"#m0050a92b01\" y=\"315\"/>\n      </g>\n     </g>\n    </g>\n    <g id=\"xtick_86\">\n     <g id=\"line2d_104\">\n      <g>\n       <use style=\"stroke:#000000;stroke-width:0.6;\" x=\"588.72343\" xlink:href=\"#m0050a92b01\" y=\"315\"/>\n      </g>\n     </g>\n    </g>\n    <g id=\"xtick_87\">\n     <g id=\"line2d_105\">\n      <g>\n       <use style=\"stroke:#000000;stroke-width:0.6;\" x=\"595.689735\" xlink:href=\"#m0050a92b01\" y=\"315\"/>\n      </g>\n     </g>\n    </g>\n    <g id=\"xtick_88\">\n     <g id=\"line2d_106\">\n      <g>\n       <use style=\"stroke:#000000;stroke-width:0.6;\" x=\"601.09322\" xlink:href=\"#m0050a92b01\" y=\"315\"/>\n      </g>\n     </g>\n    </g>\n    <g id=\"xtick_89\">\n     <g id=\"line2d_107\">\n      <g>\n       <use style=\"stroke:#000000;stroke-width:0.6;\" x=\"605.50819\" xlink:href=\"#m0050a92b01\" y=\"315\"/>\n      </g>\n     </g>\n    </g>\n    <g id=\"xtick_90\">\n     <g id=\"line2d_108\">\n      <g>\n       <use style=\"stroke:#000000;stroke-width:0.6;\" x=\"609.240993\" xlink:href=\"#m0050a92b01\" y=\"315\"/>\n      </g>\n     </g>\n    </g>\n    <g id=\"xtick_91\">\n     <g id=\"line2d_109\">\n      <g>\n       <use style=\"stroke:#000000;stroke-width:0.6;\" x=\"612.474494\" xlink:href=\"#m0050a92b01\" y=\"315\"/>\n      </g>\n     </g>\n    </g>\n    <g id=\"xtick_92\">\n     <g id=\"line2d_110\">\n      <g>\n       <use style=\"stroke:#000000;stroke-width:0.6;\" x=\"615.326645\" xlink:href=\"#m0050a92b01\" y=\"315\"/>\n      </g>\n     </g>\n    </g>\n    <g id=\"xtick_93\">\n     <g id=\"line2d_111\">\n      <g>\n       <use style=\"stroke:#000000;stroke-width:0.6;\" x=\"634.662739\" xlink:href=\"#m0050a92b01\" y=\"315\"/>\n      </g>\n     </g>\n    </g>\n    <g id=\"xtick_94\">\n     <g id=\"line2d_112\">\n      <g>\n       <use style=\"stroke:#000000;stroke-width:0.6;\" x=\"644.481194\" xlink:href=\"#m0050a92b01\" y=\"315\"/>\n      </g>\n     </g>\n    </g>\n    <g id=\"xtick_95\">\n     <g id=\"line2d_113\">\n      <g>\n       <use style=\"stroke:#000000;stroke-width:0.6;\" x=\"651.447499\" xlink:href=\"#m0050a92b01\" y=\"315\"/>\n      </g>\n     </g>\n    </g>\n    <g id=\"xtick_96\">\n     <g id=\"line2d_114\">\n      <g>\n       <use style=\"stroke:#000000;stroke-width:0.6;\" x=\"656.850984\" xlink:href=\"#m0050a92b01\" y=\"315\"/>\n      </g>\n     </g>\n    </g>\n    <g id=\"xtick_97\">\n     <g id=\"line2d_115\">\n      <g>\n       <use style=\"stroke:#000000;stroke-width:0.6;\" x=\"661.265953\" xlink:href=\"#m0050a92b01\" y=\"315\"/>\n      </g>\n     </g>\n    </g>\n    <g id=\"xtick_98\">\n     <g id=\"line2d_116\">\n      <g>\n       <use style=\"stroke:#000000;stroke-width:0.6;\" x=\"664.998757\" xlink:href=\"#m0050a92b01\" y=\"315\"/>\n      </g>\n     </g>\n    </g>\n    <g id=\"xtick_99\">\n     <g id=\"line2d_117\">\n      <g>\n       <use style=\"stroke:#000000;stroke-width:0.6;\" x=\"668.232258\" xlink:href=\"#m0050a92b01\" y=\"315\"/>\n      </g>\n     </g>\n    </g>\n    <g id=\"xtick_100\">\n     <g id=\"line2d_118\">\n      <g>\n       <use style=\"stroke:#000000;stroke-width:0.6;\" x=\"671.084408\" xlink:href=\"#m0050a92b01\" y=\"315\"/>\n      </g>\n     </g>\n    </g>\n    <g id=\"text_21\">\n     <!-- nodes -->\n     <g transform=\"translate(514.041406 343.276562)scale(0.1 -0.1)\">\n      <use xlink:href=\"#DejaVuSans-110\"/>\n      <use x=\"63.378906\" xlink:href=\"#DejaVuSans-111\"/>\n      <use x=\"124.560547\" xlink:href=\"#DejaVuSans-100\"/>\n      <use x=\"188.037109\" xlink:href=\"#DejaVuSans-101\"/>\n      <use x=\"249.560547\" xlink:href=\"#DejaVuSans-115\"/>\n     </g>\n    </g>\n   </g>\n   <g id=\"matplotlib.axis_4\">\n    <g id=\"ytick_7\">\n     <g id=\"line2d_119\">\n      <g>\n       <use style=\"stroke:#000000;stroke-width:0.8;\" x=\"381.419118\" xlink:href=\"#m8b7a8096a2\" y=\"303.784874\"/>\n      </g>\n     </g>\n     <g id=\"text_22\">\n      <!-- 0.0 -->\n      <defs>\n       <path d=\"M 10.6875 12.40625 \nL 21 12.40625 \nL 21 0 \nL 10.6875 0 \nz\n\" id=\"DejaVuSans-46\"/>\n      </defs>\n      <g transform=\"translate(358.515993 307.584093)scale(0.1 -0.1)\">\n       <use xlink:href=\"#DejaVuSans-48\"/>\n       <use x=\"63.623047\" xlink:href=\"#DejaVuSans-46\"/>\n       <use x=\"95.410156\" xlink:href=\"#DejaVuSans-48\"/>\n      </g>\n     </g>\n    </g>\n    <g id=\"ytick_8\">\n     <g id=\"line2d_120\">\n      <g>\n       <use style=\"stroke:#000000;stroke-width:0.8;\" x=\"381.419118\" xlink:href=\"#m8b7a8096a2\" y=\"266.579577\"/>\n      </g>\n     </g>\n     <g id=\"text_23\">\n      <!-- 2.5 -->\n      <g transform=\"translate(358.515993 270.378796)scale(0.1 -0.1)\">\n       <use xlink:href=\"#DejaVuSans-50\"/>\n       <use x=\"63.623047\" xlink:href=\"#DejaVuSans-46\"/>\n       <use x=\"95.410156\" xlink:href=\"#DejaVuSans-53\"/>\n      </g>\n     </g>\n    </g>\n    <g id=\"ytick_9\">\n     <g id=\"line2d_121\">\n      <g>\n       <use style=\"stroke:#000000;stroke-width:0.8;\" x=\"381.419118\" xlink:href=\"#m8b7a8096a2\" y=\"229.37428\"/>\n      </g>\n     </g>\n     <g id=\"text_24\">\n      <!-- 5.0 -->\n      <g transform=\"translate(358.515993 233.173499)scale(0.1 -0.1)\">\n       <use xlink:href=\"#DejaVuSans-53\"/>\n       <use x=\"63.623047\" xlink:href=\"#DejaVuSans-46\"/>\n       <use x=\"95.410156\" xlink:href=\"#DejaVuSans-48\"/>\n      </g>\n     </g>\n    </g>\n    <g id=\"ytick_10\">\n     <g id=\"line2d_122\">\n      <g>\n       <use style=\"stroke:#000000;stroke-width:0.8;\" x=\"381.419118\" xlink:href=\"#m8b7a8096a2\" y=\"192.168983\"/>\n      </g>\n     </g>\n     <g id=\"text_25\">\n      <!-- 7.5 -->\n      <defs>\n       <path d=\"M 8.203125 72.90625 \nL 55.078125 72.90625 \nL 55.078125 68.703125 \nL 28.609375 0 \nL 18.3125 0 \nL 43.21875 64.59375 \nL 8.203125 64.59375 \nz\n\" id=\"DejaVuSans-55\"/>\n      </defs>\n      <g transform=\"translate(358.515993 195.968202)scale(0.1 -0.1)\">\n       <use xlink:href=\"#DejaVuSans-55\"/>\n       <use x=\"63.623047\" xlink:href=\"#DejaVuSans-46\"/>\n       <use x=\"95.410156\" xlink:href=\"#DejaVuSans-53\"/>\n      </g>\n     </g>\n    </g>\n    <g id=\"ytick_11\">\n     <g id=\"line2d_123\">\n      <g>\n       <use style=\"stroke:#000000;stroke-width:0.8;\" x=\"381.419118\" xlink:href=\"#m8b7a8096a2\" y=\"154.963686\"/>\n      </g>\n     </g>\n     <g id=\"text_26\">\n      <!-- 10.0 -->\n      <g transform=\"translate(352.153493 158.762905)scale(0.1 -0.1)\">\n       <use xlink:href=\"#DejaVuSans-49\"/>\n       <use x=\"63.623047\" xlink:href=\"#DejaVuSans-48\"/>\n       <use x=\"127.246094\" xlink:href=\"#DejaVuSans-46\"/>\n       <use x=\"159.033203\" xlink:href=\"#DejaVuSans-48\"/>\n      </g>\n     </g>\n    </g>\n    <g id=\"ytick_12\">\n     <g id=\"line2d_124\">\n      <g>\n       <use style=\"stroke:#000000;stroke-width:0.8;\" x=\"381.419118\" xlink:href=\"#m8b7a8096a2\" y=\"117.758389\"/>\n      </g>\n     </g>\n     <g id=\"text_27\">\n      <!-- 12.5 -->\n      <g transform=\"translate(352.153493 121.557607)scale(0.1 -0.1)\">\n       <use xlink:href=\"#DejaVuSans-49\"/>\n       <use x=\"63.623047\" xlink:href=\"#DejaVuSans-50\"/>\n       <use x=\"127.246094\" xlink:href=\"#DejaVuSans-46\"/>\n       <use x=\"159.033203\" xlink:href=\"#DejaVuSans-53\"/>\n      </g>\n     </g>\n    </g>\n    <g id=\"ytick_13\">\n     <g id=\"line2d_125\">\n      <g>\n       <use style=\"stroke:#000000;stroke-width:0.8;\" x=\"381.419118\" xlink:href=\"#m8b7a8096a2\" y=\"80.553092\"/>\n      </g>\n     </g>\n     <g id=\"text_28\">\n      <!-- 15.0 -->\n      <g transform=\"translate(352.153493 84.35231)scale(0.1 -0.1)\">\n       <use xlink:href=\"#DejaVuSans-49\"/>\n       <use x=\"63.623047\" xlink:href=\"#DejaVuSans-53\"/>\n       <use x=\"127.246094\" xlink:href=\"#DejaVuSans-46\"/>\n       <use x=\"159.033203\" xlink:href=\"#DejaVuSans-48\"/>\n      </g>\n     </g>\n    </g>\n    <g id=\"ytick_14\">\n     <g id=\"line2d_126\">\n      <g>\n       <use style=\"stroke:#000000;stroke-width:0.8;\" x=\"381.419118\" xlink:href=\"#m8b7a8096a2\" y=\"43.347795\"/>\n      </g>\n     </g>\n     <g id=\"text_29\">\n      <!-- 17.5 -->\n      <g transform=\"translate(352.153493 47.147013)scale(0.1 -0.1)\">\n       <use xlink:href=\"#DejaVuSans-49\"/>\n       <use x=\"63.623047\" xlink:href=\"#DejaVuSans-55\"/>\n       <use x=\"127.246094\" xlink:href=\"#DejaVuSans-46\"/>\n       <use x=\"159.033203\" xlink:href=\"#DejaVuSans-53\"/>\n      </g>\n     </g>\n    </g>\n   </g>\n   <g id=\"LineCollection_7\">\n    <path clip-path=\"url(#pab545ce9c1)\" d=\"M 394.846925 102.7434 \nL 394.846925 57.387417 \n\" style=\"fill:none;stroke:#1f77b4;stroke-width:1.5;\"/>\n    <path clip-path=\"url(#pab545ce9c1)\" d=\"M 411.631684 120.520544 \nL 411.631684 65.743559 \n\" style=\"fill:none;stroke:#1f77b4;stroke-width:1.5;\"/>\n    <path clip-path=\"url(#pab545ce9c1)\" d=\"M 428.416444 147.349213 \nL 428.416444 85.730659 \n\" style=\"fill:none;stroke:#1f77b4;stroke-width:1.5;\"/>\n    <path clip-path=\"url(#pab545ce9c1)\" d=\"M 445.201203 189.24846 \nL 445.201203 120.595055 \n\" style=\"fill:none;stroke:#1f77b4;stroke-width:1.5;\"/>\n    <path clip-path=\"url(#pab545ce9c1)\" d=\"M 461.985963 225.915518 \nL 461.985963 167.537531 \n\" style=\"fill:none;stroke:#1f77b4;stroke-width:1.5;\"/>\n    <path clip-path=\"url(#pab545ce9c1)\" d=\"M 478.770722 254.20079 \nL 478.770722 213.848835 \n\" style=\"fill:none;stroke:#1f77b4;stroke-width:1.5;\"/>\n    <path clip-path=\"url(#pab545ce9c1)\" d=\"M 495.555481 271.173139 \nL 495.555481 243.039666 \n\" style=\"fill:none;stroke:#1f77b4;stroke-width:1.5;\"/>\n    <path clip-path=\"url(#pab545ce9c1)\" d=\"M 512.340241 279.298078 \nL 512.340241 260.516841 \n\" style=\"fill:none;stroke:#1f77b4;stroke-width:1.5;\"/>\n    <path clip-path=\"url(#pab545ce9c1)\" d=\"M 529.125 283.976127 \nL 529.125 270.018554 \n\" style=\"fill:none;stroke:#1f77b4;stroke-width:1.5;\"/>\n    <path clip-path=\"url(#pab545ce9c1)\" d=\"M 545.909759 286.140926 \nL 545.909759 274.60321 \n\" style=\"fill:none;stroke:#1f77b4;stroke-width:1.5;\"/>\n    <path clip-path=\"url(#pab545ce9c1)\" d=\"M 562.694519 287.114752 \nL 562.694519 276.642725 \n\" style=\"fill:none;stroke:#1f77b4;stroke-width:1.5;\"/>\n    <path clip-path=\"url(#pab545ce9c1)\" d=\"M 579.479278 288.041014 \nL 579.479278 277.856619 \n\" style=\"fill:none;stroke:#1f77b4;stroke-width:1.5;\"/>\n    <path clip-path=\"url(#pab545ce9c1)\" d=\"M 596.264037 288.23462 \nL 596.264037 278.298672 \n\" style=\"fill:none;stroke:#1f77b4;stroke-width:1.5;\"/>\n    <path clip-path=\"url(#pab545ce9c1)\" d=\"M 613.048797 288.374074 \nL 613.048797 278.586712 \n\" style=\"fill:none;stroke:#1f77b4;stroke-width:1.5;\"/>\n    <path clip-path=\"url(#pab545ce9c1)\" d=\"M 629.833556 288.495677 \nL 629.833556 278.747475 \n\" style=\"fill:none;stroke:#1f77b4;stroke-width:1.5;\"/>\n    <path clip-path=\"url(#pab545ce9c1)\" d=\"M 646.618316 288.53427 \nL 646.618316 278.70874 \n\" style=\"fill:none;stroke:#1f77b4;stroke-width:1.5;\"/>\n    <path clip-path=\"url(#pab545ce9c1)\" d=\"M 663.403075 288.544893 \nL 663.403075 278.835762 \n\" style=\"fill:none;stroke:#1f77b4;stroke-width:1.5;\"/>\n   </g>\n   <g id=\"LineCollection_8\">\n    <path clip-path=\"url(#pab545ce9c1)\" d=\"M 394.846925 103.300959 \nL 394.846925 56.224743 \n\" style=\"fill:none;stroke:#ff7f0e;stroke-width:1.5;\"/>\n    <path clip-path=\"url(#pab545ce9c1)\" d=\"M 411.631684 123.514705 \nL 411.631684 65.221851 \n\" style=\"fill:none;stroke:#ff7f0e;stroke-width:1.5;\"/>\n    <path clip-path=\"url(#pab545ce9c1)\" d=\"M 428.416444 166.863528 \nL 428.416444 90.031726 \n\" style=\"fill:none;stroke:#ff7f0e;stroke-width:1.5;\"/>\n    <path clip-path=\"url(#pab545ce9c1)\" d=\"M 445.201203 206.698499 \nL 445.201203 131.030726 \n\" style=\"fill:none;stroke:#ff7f0e;stroke-width:1.5;\"/>\n    <path clip-path=\"url(#pab545ce9c1)\" d=\"M 461.985963 247.994156 \nL 461.985963 189.90151 \n\" style=\"fill:none;stroke:#ff7f0e;stroke-width:1.5;\"/>\n    <path clip-path=\"url(#pab545ce9c1)\" d=\"M 478.770722 274.140569 \nL 478.770722 242.435526 \n\" style=\"fill:none;stroke:#ff7f0e;stroke-width:1.5;\"/>\n    <path clip-path=\"url(#pab545ce9c1)\" d=\"M 495.555481 287.970588 \nL 495.555481 272.892413 \n\" style=\"fill:none;stroke:#ff7f0e;stroke-width:1.5;\"/>\n    <path clip-path=\"url(#pab545ce9c1)\" d=\"M 512.340241 294.687382 \nL 512.340241 286.957047 \n\" style=\"fill:none;stroke:#ff7f0e;stroke-width:1.5;\"/>\n    <path clip-path=\"url(#pab545ce9c1)\" d=\"M 529.125 297.904632 \nL 529.125 293.445675 \n\" style=\"fill:none;stroke:#ff7f0e;stroke-width:1.5;\"/>\n    <path clip-path=\"url(#pab545ce9c1)\" d=\"M 545.909759 299.578079 \nL 545.909759 296.160025 \n\" style=\"fill:none;stroke:#ff7f0e;stroke-width:1.5;\"/>\n    <path clip-path=\"url(#pab545ce9c1)\" d=\"M 562.694519 300.379055 \nL 562.694519 297.417571 \n\" style=\"fill:none;stroke:#ff7f0e;stroke-width:1.5;\"/>\n    <path clip-path=\"url(#pab545ce9c1)\" d=\"M 579.479278 300.757722 \nL 579.479278 298.140223 \n\" style=\"fill:none;stroke:#ff7f0e;stroke-width:1.5;\"/>\n    <path clip-path=\"url(#pab545ce9c1)\" d=\"M 596.264037 300.958974 \nL 596.264037 298.40085 \n\" style=\"fill:none;stroke:#ff7f0e;stroke-width:1.5;\"/>\n    <path clip-path=\"url(#pab545ce9c1)\" d=\"M 613.048797 301.051576 \nL 613.048797 298.534751 \n\" style=\"fill:none;stroke:#ff7f0e;stroke-width:1.5;\"/>\n    <path clip-path=\"url(#pab545ce9c1)\" d=\"M 629.833556 301.079316 \nL 629.833556 298.615594 \n\" style=\"fill:none;stroke:#ff7f0e;stroke-width:1.5;\"/>\n    <path clip-path=\"url(#pab545ce9c1)\" d=\"M 646.618316 301.131286 \nL 646.618316 298.642805 \n\" style=\"fill:none;stroke:#ff7f0e;stroke-width:1.5;\"/>\n    <path clip-path=\"url(#pab545ce9c1)\" d=\"M 663.403075 301.131661 \nL 663.403075 298.674696 \n\" style=\"fill:none;stroke:#ff7f0e;stroke-width:1.5;\"/>\n   </g>\n   <g id=\"LineCollection_9\">\n    <path clip-path=\"url(#pab545ce9c1)\" d=\"M 394.846925 104.24107 \nL 394.846925 55.554545 \n\" style=\"fill:none;stroke:#2ca02c;stroke-width:1.5;\"/>\n    <path clip-path=\"url(#pab545ce9c1)\" d=\"M 411.631684 124.819693 \nL 411.631684 66.568468 \n\" style=\"fill:none;stroke:#2ca02c;stroke-width:1.5;\"/>\n    <path clip-path=\"url(#pab545ce9c1)\" d=\"M 428.416444 163.477313 \nL 428.416444 86.533582 \n\" style=\"fill:none;stroke:#2ca02c;stroke-width:1.5;\"/>\n    <path clip-path=\"url(#pab545ce9c1)\" d=\"M 445.201203 209.387729 \nL 445.201203 136.073724 \n\" style=\"fill:none;stroke:#2ca02c;stroke-width:1.5;\"/>\n    <path clip-path=\"url(#pab545ce9c1)\" d=\"M 461.985963 256.529536 \nL 461.985963 208.135493 \n\" style=\"fill:none;stroke:#2ca02c;stroke-width:1.5;\"/>\n    <path clip-path=\"url(#pab545ce9c1)\" d=\"M 478.770722 282.101477 \nL 478.770722 260.427615 \n\" style=\"fill:none;stroke:#2ca02c;stroke-width:1.5;\"/>\n    <path clip-path=\"url(#pab545ce9c1)\" d=\"M 495.555481 293.140991 \nL 495.555481 285.528548 \n\" style=\"fill:none;stroke:#2ca02c;stroke-width:1.5;\"/>\n    <path clip-path=\"url(#pab545ce9c1)\" d=\"M 512.340241 298.113537 \nL 512.340241 294.394141 \n\" style=\"fill:none;stroke:#2ca02c;stroke-width:1.5;\"/>\n    <path clip-path=\"url(#pab545ce9c1)\" d=\"M 529.125 300.365076 \nL 529.125 298.642641 \n\" style=\"fill:none;stroke:#2ca02c;stroke-width:1.5;\"/>\n    <path clip-path=\"url(#pab545ce9c1)\" d=\"M 545.909759 301.530616 \nL 545.909759 300.377659 \n\" style=\"fill:none;stroke:#2ca02c;stroke-width:1.5;\"/>\n    <path clip-path=\"url(#pab545ce9c1)\" d=\"M 562.694519 302.105289 \nL 562.694519 301.046144 \n\" style=\"fill:none;stroke:#2ca02c;stroke-width:1.5;\"/>\n    <path clip-path=\"url(#pab545ce9c1)\" d=\"M 579.479278 302.387365 \nL 579.479278 301.368961 \n\" style=\"fill:none;stroke:#2ca02c;stroke-width:1.5;\"/>\n    <path clip-path=\"url(#pab545ce9c1)\" d=\"M 596.264037 302.529756 \nL 596.264037 301.562125 \n\" style=\"fill:none;stroke:#2ca02c;stroke-width:1.5;\"/>\n    <path clip-path=\"url(#pab545ce9c1)\" d=\"M 613.048797 302.576531 \nL 613.048797 301.66142 \n\" style=\"fill:none;stroke:#2ca02c;stroke-width:1.5;\"/>\n    <path clip-path=\"url(#pab545ce9c1)\" d=\"M 629.833556 302.617865 \nL 629.833556 301.695874 \n\" style=\"fill:none;stroke:#2ca02c;stroke-width:1.5;\"/>\n    <path clip-path=\"url(#pab545ce9c1)\" d=\"M 646.618316 302.634935 \nL 646.618316 301.710289 \n\" style=\"fill:none;stroke:#2ca02c;stroke-width:1.5;\"/>\n    <path clip-path=\"url(#pab545ce9c1)\" d=\"M 663.403075 302.645455 \nL 663.403075 301.724344 \n\" style=\"fill:none;stroke:#2ca02c;stroke-width:1.5;\"/>\n   </g>\n   <g id=\"LineCollection_10\">\n    <path clip-path=\"url(#pab545ce9c1)\" d=\"M 394.846925 101.973842 \nL 394.846925 56.249347 \n\" style=\"fill:none;stroke:#d62728;stroke-width:1.5;\"/>\n    <path clip-path=\"url(#pab545ce9c1)\" d=\"M 411.631684 126.467763 \nL 411.631684 65.669369 \n\" style=\"fill:none;stroke:#d62728;stroke-width:1.5;\"/>\n    <path clip-path=\"url(#pab545ce9c1)\" d=\"M 428.416444 163.473126 \nL 428.416444 82.228258 \n\" style=\"fill:none;stroke:#d62728;stroke-width:1.5;\"/>\n    <path clip-path=\"url(#pab545ce9c1)\" d=\"M 445.201203 213.597984 \nL 445.201203 141.038989 \n\" style=\"fill:none;stroke:#d62728;stroke-width:1.5;\"/>\n    <path clip-path=\"url(#pab545ce9c1)\" d=\"M 461.985963 257.148308 \nL 461.985963 214.822145 \n\" style=\"fill:none;stroke:#d62728;stroke-width:1.5;\"/>\n    <path clip-path=\"url(#pab545ce9c1)\" d=\"M 478.770722 283.440498 \nL 478.770722 267.0337 \n\" style=\"fill:none;stroke:#d62728;stroke-width:1.5;\"/>\n    <path clip-path=\"url(#pab545ce9c1)\" d=\"M 495.555481 295.398509 \nL 495.555481 289.796143 \n\" style=\"fill:none;stroke:#d62728;stroke-width:1.5;\"/>\n    <path clip-path=\"url(#pab545ce9c1)\" d=\"M 512.340241 299.753221 \nL 512.340241 297.357066 \n\" style=\"fill:none;stroke:#d62728;stroke-width:1.5;\"/>\n    <path clip-path=\"url(#pab545ce9c1)\" d=\"M 529.125 301.327499 \nL 529.125 299.699666 \n\" style=\"fill:none;stroke:#d62728;stroke-width:1.5;\"/>\n    <path clip-path=\"url(#pab545ce9c1)\" d=\"M 545.909759 301.963351 \nL 545.909759 300.474075 \n\" style=\"fill:none;stroke:#d62728;stroke-width:1.5;\"/>\n    <path clip-path=\"url(#pab545ce9c1)\" d=\"M 562.694519 302.217027 \nL 562.694519 300.706691 \n\" style=\"fill:none;stroke:#d62728;stroke-width:1.5;\"/>\n    <path clip-path=\"url(#pab545ce9c1)\" d=\"M 579.479278 302.341096 \nL 579.479278 300.818525 \n\" style=\"fill:none;stroke:#d62728;stroke-width:1.5;\"/>\n    <path clip-path=\"url(#pab545ce9c1)\" d=\"M 596.264037 302.391525 \nL 596.264037 300.883434 \n\" style=\"fill:none;stroke:#d62728;stroke-width:1.5;\"/>\n    <path clip-path=\"url(#pab545ce9c1)\" d=\"M 613.048797 302.417498 \nL 613.048797 300.902877 \n\" style=\"fill:none;stroke:#d62728;stroke-width:1.5;\"/>\n    <path clip-path=\"url(#pab545ce9c1)\" d=\"M 629.833556 302.429109 \nL 629.833556 300.916491 \n\" style=\"fill:none;stroke:#d62728;stroke-width:1.5;\"/>\n    <path clip-path=\"url(#pab545ce9c1)\" d=\"M 646.618316 302.435189 \nL 646.618316 300.927538 \n\" style=\"fill:none;stroke:#d62728;stroke-width:1.5;\"/>\n    <path clip-path=\"url(#pab545ce9c1)\" d=\"M 663.403075 302.440443 \nL 663.403075 300.929398 \n\" style=\"fill:none;stroke:#d62728;stroke-width:1.5;\"/>\n   </g>\n   <g id=\"LineCollection_11\">\n    <path clip-path=\"url(#pab545ce9c1)\" d=\"M 394.846925 104.746631 \nL 394.846925 56.764012 \n\" style=\"fill:none;stroke:#9467bd;stroke-width:1.5;\"/>\n    <path clip-path=\"url(#pab545ce9c1)\" d=\"M 411.631684 127.083644 \nL 411.631684 64.879276 \n\" style=\"fill:none;stroke:#9467bd;stroke-width:1.5;\"/>\n    <path clip-path=\"url(#pab545ce9c1)\" d=\"M 428.416444 166.648117 \nL 428.416444 91.050015 \n\" style=\"fill:none;stroke:#9467bd;stroke-width:1.5;\"/>\n    <path clip-path=\"url(#pab545ce9c1)\" d=\"M 445.201203 213.275647 \nL 445.201203 136.220875 \n\" style=\"fill:none;stroke:#9467bd;stroke-width:1.5;\"/>\n    <path clip-path=\"url(#pab545ce9c1)\" d=\"M 461.985963 255.107933 \nL 461.985963 211.004397 \n\" style=\"fill:none;stroke:#9467bd;stroke-width:1.5;\"/>\n    <path clip-path=\"url(#pab545ce9c1)\" d=\"M 478.770722 283.264711 \nL 478.770722 266.02402 \n\" style=\"fill:none;stroke:#9467bd;stroke-width:1.5;\"/>\n    <path clip-path=\"url(#pab545ce9c1)\" d=\"M 495.555481 296.162914 \nL 495.555481 289.879588 \n\" style=\"fill:none;stroke:#9467bd;stroke-width:1.5;\"/>\n    <path clip-path=\"url(#pab545ce9c1)\" d=\"M 512.340241 300.080941 \nL 512.340241 297.745114 \n\" style=\"fill:none;stroke:#9467bd;stroke-width:1.5;\"/>\n    <path clip-path=\"url(#pab545ce9c1)\" d=\"M 529.125 301.432609 \nL 529.125 299.432498 \n\" style=\"fill:none;stroke:#9467bd;stroke-width:1.5;\"/>\n    <path clip-path=\"url(#pab545ce9c1)\" d=\"M 545.909759 301.873737 \nL 545.909759 299.981753 \n\" style=\"fill:none;stroke:#9467bd;stroke-width:1.5;\"/>\n    <path clip-path=\"url(#pab545ce9c1)\" d=\"M 562.694519 302.077529 \nL 562.694519 300.170416 \n\" style=\"fill:none;stroke:#9467bd;stroke-width:1.5;\"/>\n    <path clip-path=\"url(#pab545ce9c1)\" d=\"M 579.479278 302.148113 \nL 579.479278 300.303937 \n\" style=\"fill:none;stroke:#9467bd;stroke-width:1.5;\"/>\n    <path clip-path=\"url(#pab545ce9c1)\" d=\"M 596.264037 302.17938 \nL 596.264037 300.33316 \n\" style=\"fill:none;stroke:#9467bd;stroke-width:1.5;\"/>\n    <path clip-path=\"url(#pab545ce9c1)\" d=\"M 613.048797 302.202719 \nL 613.048797 300.346312 \n\" style=\"fill:none;stroke:#9467bd;stroke-width:1.5;\"/>\n    <path clip-path=\"url(#pab545ce9c1)\" d=\"M 629.833556 302.212069 \nL 629.833556 300.353012 \n\" style=\"fill:none;stroke:#9467bd;stroke-width:1.5;\"/>\n    <path clip-path=\"url(#pab545ce9c1)\" d=\"M 646.618316 302.222022 \nL 646.618316 300.352216 \n\" style=\"fill:none;stroke:#9467bd;stroke-width:1.5;\"/>\n    <path clip-path=\"url(#pab545ce9c1)\" d=\"M 663.403075 302.222494 \nL 663.403075 300.355081 \n\" style=\"fill:none;stroke:#9467bd;stroke-width:1.5;\"/>\n   </g>\n   <g id=\"LineCollection_12\">\n    <path clip-path=\"url(#pab545ce9c1)\" d=\"M 394.846925 107.178058 \nL 394.846925 56.082872 \n\" style=\"fill:none;stroke:#8c564b;stroke-width:1.5;\"/>\n    <path clip-path=\"url(#pab545ce9c1)\" d=\"M 411.631684 125.475399 \nL 411.631684 64.865988 \n\" style=\"fill:none;stroke:#8c564b;stroke-width:1.5;\"/>\n    <path clip-path=\"url(#pab545ce9c1)\" d=\"M 428.416444 163.025983 \nL 428.416444 91.33712 \n\" style=\"fill:none;stroke:#8c564b;stroke-width:1.5;\"/>\n    <path clip-path=\"url(#pab545ce9c1)\" d=\"M 445.201203 208.523933 \nL 445.201203 138.41746 \n\" style=\"fill:none;stroke:#8c564b;stroke-width:1.5;\"/>\n    <path clip-path=\"url(#pab545ce9c1)\" d=\"M 461.985963 255.235857 \nL 461.985963 211.5604 \n\" style=\"fill:none;stroke:#8c564b;stroke-width:1.5;\"/>\n    <path clip-path=\"url(#pab545ce9c1)\" d=\"M 478.770722 284.066946 \nL 478.770722 266.373887 \n\" style=\"fill:none;stroke:#8c564b;stroke-width:1.5;\"/>\n    <path clip-path=\"url(#pab545ce9c1)\" d=\"M 495.555481 295.957143 \nL 495.555481 290.455105 \n\" style=\"fill:none;stroke:#8c564b;stroke-width:1.5;\"/>\n    <path clip-path=\"url(#pab545ce9c1)\" d=\"M 512.340241 300.101525 \nL 512.340241 297.560835 \n\" style=\"fill:none;stroke:#8c564b;stroke-width:1.5;\"/>\n    <path clip-path=\"url(#pab545ce9c1)\" d=\"M 529.125 301.308279 \nL 529.125 299.128183 \n\" style=\"fill:none;stroke:#8c564b;stroke-width:1.5;\"/>\n    <path clip-path=\"url(#pab545ce9c1)\" d=\"M 545.909759 301.705024 \nL 545.909759 299.558583 \n\" style=\"fill:none;stroke:#8c564b;stroke-width:1.5;\"/>\n    <path clip-path=\"url(#pab545ce9c1)\" d=\"M 562.694519 301.860695 \nL 562.694519 299.770739 \n\" style=\"fill:none;stroke:#8c564b;stroke-width:1.5;\"/>\n    <path clip-path=\"url(#pab545ce9c1)\" d=\"M 579.479278 301.962111 \nL 579.479278 299.837956 \n\" style=\"fill:none;stroke:#8c564b;stroke-width:1.5;\"/>\n    <path clip-path=\"url(#pab545ce9c1)\" d=\"M 596.264037 301.986085 \nL 596.264037 299.887479 \n\" style=\"fill:none;stroke:#8c564b;stroke-width:1.5;\"/>\n    <path clip-path=\"url(#pab545ce9c1)\" d=\"M 613.048797 302.018876 \nL 613.048797 299.896918 \n\" style=\"fill:none;stroke:#8c564b;stroke-width:1.5;\"/>\n    <path clip-path=\"url(#pab545ce9c1)\" d=\"M 629.833556 302.028766 \nL 629.833556 299.90541 \n\" style=\"fill:none;stroke:#8c564b;stroke-width:1.5;\"/>\n    <path clip-path=\"url(#pab545ce9c1)\" d=\"M 646.618316 302.032993 \nL 646.618316 299.91412 \n\" style=\"fill:none;stroke:#8c564b;stroke-width:1.5;\"/>\n    <path clip-path=\"url(#pab545ce9c1)\" d=\"M 663.403075 302.034704 \nL 663.403075 299.915432 \n\" style=\"fill:none;stroke:#8c564b;stroke-width:1.5;\"/>\n   </g>\n   <g id=\"line2d_127\">\n    <path clip-path=\"url(#pab545ce9c1)\" d=\"M 394.846925 80.065408 \nL 411.631684 93.132051 \nL 428.416444 116.539936 \nL 445.201203 154.921757 \nL 461.985963 196.726525 \nL 478.770722 234.024813 \nL 495.555481 257.106403 \nL 512.340241 269.907459 \nL 529.125 276.99734 \nL 545.909759 280.372068 \nL 562.694519 281.878738 \nL 579.479278 282.948816 \nL 596.264037 283.266646 \nL 613.048797 283.480393 \nL 629.833556 283.621576 \nL 646.618316 283.621505 \nL 663.403075 283.690328 \n\" style=\"fill:none;stroke:#0000ff;stroke-linecap:square;stroke-width:1.5;\"/>\n   </g>\n   <g id=\"line2d_128\">\n    <path clip-path=\"url(#pab545ce9c1)\" d=\"M 394.846925 79.762851 \nL 411.631684 94.368278 \nL 428.416444 128.447627 \nL 445.201203 168.864613 \nL 461.985963 218.947833 \nL 478.770722 258.288047 \nL 495.555481 280.4315 \nL 512.340241 290.822214 \nL 529.125 295.675153 \nL 545.909759 297.869052 \nL 562.694519 298.898313 \nL 579.479278 299.448973 \nL 596.264037 299.679912 \nL 613.048797 299.793163 \nL 629.833556 299.847455 \nL 646.618316 299.887045 \nL 663.403075 299.903179 \n\" style=\"fill:none;stroke:#008000;stroke-linecap:square;stroke-width:1.5;\"/>\n   </g>\n   <g id=\"line2d_129\">\n    <path clip-path=\"url(#pab545ce9c1)\" d=\"M 394.846925 79.897808 \nL 411.631684 95.694081 \nL 428.416444 125.005447 \nL 445.201203 172.730726 \nL 461.985963 232.332514 \nL 478.770722 271.264546 \nL 495.555481 289.334769 \nL 512.340241 296.253839 \nL 529.125 299.503858 \nL 545.909759 300.954138 \nL 562.694519 301.575717 \nL 579.479278 301.878163 \nL 596.264037 302.045941 \nL 613.048797 302.118975 \nL 629.833556 302.156869 \nL 646.618316 302.172612 \nL 663.403075 302.184899 \n\" style=\"fill:none;stroke:#ff0000;stroke-linecap:square;stroke-width:1.5;\"/>\n   </g>\n   <g id=\"line2d_130\">\n    <path clip-path=\"url(#pab545ce9c1)\" d=\"M 394.846925 79.111594 \nL 411.631684 96.068566 \nL 428.416444 122.850692 \nL 445.201203 177.318486 \nL 461.985963 235.985226 \nL 478.770722 275.237099 \nL 495.555481 292.597326 \nL 512.340241 298.555144 \nL 529.125 300.513583 \nL 545.909759 301.218713 \nL 562.694519 301.461859 \nL 579.479278 301.579811 \nL 596.264037 301.637479 \nL 613.048797 301.660187 \nL 629.833556 301.6728 \nL 646.618316 301.681363 \nL 663.403075 301.68492 \n\" style=\"fill:none;stroke:#00bfbf;stroke-linecap:square;stroke-width:1.5;\"/>\n   </g>\n   <g id=\"line2d_131\">\n    <path clip-path=\"url(#pab545ce9c1)\" d=\"M 394.846925 80.755321 \nL 411.631684 95.98146 \nL 428.416444 128.849066 \nL 445.201203 174.748261 \nL 461.985963 233.056165 \nL 478.770722 274.644366 \nL 495.555481 293.021251 \nL 512.340241 298.913027 \nL 529.125 300.432553 \nL 545.909759 300.927745 \nL 562.694519 301.123973 \nL 579.479278 301.226025 \nL 596.264037 301.25627 \nL 613.048797 301.274516 \nL 629.833556 301.282541 \nL 646.618316 301.287119 \nL 663.403075 301.288788 \n\" style=\"fill:none;stroke:#bfbf00;stroke-linecap:square;stroke-width:1.5;\"/>\n   </g>\n   <g id=\"line2d_132\">\n    <path clip-path=\"url(#pab545ce9c1)\" d=\"M 394.846925 81.630465 \nL 411.631684 95.170694 \nL 428.416444 127.181551 \nL 445.201203 173.470696 \nL 461.985963 233.398129 \nL 478.770722 275.220416 \nL 495.555481 293.206124 \nL 512.340241 298.83118 \nL 529.125 300.218231 \nL 545.909759 300.631803 \nL 562.694519 300.815717 \nL 579.479278 300.900033 \nL 596.264037 300.936782 \nL 613.048797 300.957897 \nL 629.833556 300.967088 \nL 646.618316 300.973557 \nL 663.403075 300.975068 \n\" style=\"fill:none;stroke:#000000;stroke-linecap:square;stroke-width:1.5;\"/>\n   </g>\n   <g id=\"line2d_133\">\n    <path clip-path=\"url(#pab545ce9c1)\" d=\"M 394.846925 80.065408 \nL 411.631684 93.132051 \nL 428.416444 116.539936 \nL 445.201203 154.921757 \nL 461.985963 196.726525 \nL 478.770722 234.024813 \nL 495.555481 257.106403 \nL 512.340241 269.907459 \nL 529.125 276.99734 \nL 545.909759 280.372068 \nL 562.694519 281.878738 \nL 579.479278 282.948816 \nL 596.264037 283.266646 \nL 613.048797 283.480393 \nL 629.833556 283.621576 \nL 646.618316 283.621505 \nL 663.403075 283.690328 \n\" style=\"fill:none;stroke:#1f77b4;stroke-linecap:square;stroke-width:1.5;\"/>\n   </g>\n   <g id=\"line2d_134\">\n    <path clip-path=\"url(#pab545ce9c1)\" d=\"M 394.846925 79.762851 \nL 411.631684 94.368278 \nL 428.416444 128.447627 \nL 445.201203 168.864613 \nL 461.985963 218.947833 \nL 478.770722 258.288047 \nL 495.555481 280.4315 \nL 512.340241 290.822214 \nL 529.125 295.675153 \nL 545.909759 297.869052 \nL 562.694519 298.898313 \nL 579.479278 299.448973 \nL 596.264037 299.679912 \nL 613.048797 299.793163 \nL 629.833556 299.847455 \nL 646.618316 299.887045 \nL 663.403075 299.903179 \n\" style=\"fill:none;stroke:#ff7f0e;stroke-linecap:square;stroke-width:1.5;\"/>\n   </g>\n   <g id=\"line2d_135\">\n    <path clip-path=\"url(#pab545ce9c1)\" d=\"M 394.846925 79.897808 \nL 411.631684 95.694081 \nL 428.416444 125.005447 \nL 445.201203 172.730726 \nL 461.985963 232.332514 \nL 478.770722 271.264546 \nL 495.555481 289.334769 \nL 512.340241 296.253839 \nL 529.125 299.503858 \nL 545.909759 300.954138 \nL 562.694519 301.575717 \nL 579.479278 301.878163 \nL 596.264037 302.045941 \nL 613.048797 302.118975 \nL 629.833556 302.156869 \nL 646.618316 302.172612 \nL 663.403075 302.184899 \n\" style=\"fill:none;stroke:#2ca02c;stroke-linecap:square;stroke-width:1.5;\"/>\n   </g>\n   <g id=\"line2d_136\">\n    <path clip-path=\"url(#pab545ce9c1)\" d=\"M 394.846925 79.111594 \nL 411.631684 96.068566 \nL 428.416444 122.850692 \nL 445.201203 177.318486 \nL 461.985963 235.985226 \nL 478.770722 275.237099 \nL 495.555481 292.597326 \nL 512.340241 298.555144 \nL 529.125 300.513583 \nL 545.909759 301.218713 \nL 562.694519 301.461859 \nL 579.479278 301.579811 \nL 596.264037 301.637479 \nL 613.048797 301.660187 \nL 629.833556 301.6728 \nL 646.618316 301.681363 \nL 663.403075 301.68492 \n\" style=\"fill:none;stroke:#d62728;stroke-linecap:square;stroke-width:1.5;\"/>\n   </g>\n   <g id=\"line2d_137\">\n    <path clip-path=\"url(#pab545ce9c1)\" d=\"M 394.846925 80.755321 \nL 411.631684 95.98146 \nL 428.416444 128.849066 \nL 445.201203 174.748261 \nL 461.985963 233.056165 \nL 478.770722 274.644366 \nL 495.555481 293.021251 \nL 512.340241 298.913027 \nL 529.125 300.432553 \nL 545.909759 300.927745 \nL 562.694519 301.123973 \nL 579.479278 301.226025 \nL 596.264037 301.25627 \nL 613.048797 301.274516 \nL 629.833556 301.282541 \nL 646.618316 301.287119 \nL 663.403075 301.288788 \n\" style=\"fill:none;stroke:#9467bd;stroke-linecap:square;stroke-width:1.5;\"/>\n   </g>\n   <g id=\"line2d_138\">\n    <path clip-path=\"url(#pab545ce9c1)\" d=\"M 394.846925 81.630465 \nL 411.631684 95.170694 \nL 428.416444 127.181551 \nL 445.201203 173.470696 \nL 461.985963 233.398129 \nL 478.770722 275.220416 \nL 495.555481 293.206124 \nL 512.340241 298.83118 \nL 529.125 300.218231 \nL 545.909759 300.631803 \nL 562.694519 300.815717 \nL 579.479278 300.900033 \nL 596.264037 300.936782 \nL 613.048797 300.957897 \nL 629.833556 300.967088 \nL 646.618316 300.973557 \nL 663.403075 300.975068 \n\" style=\"fill:none;stroke:#8c564b;stroke-linecap:square;stroke-width:1.5;\"/>\n   </g>\n   <g id=\"patch_8\">\n    <path d=\"M 381.419118 315 \nL 381.419118 43.2 \n\" style=\"fill:none;stroke:#000000;stroke-linecap:square;stroke-linejoin:miter;stroke-width:0.8;\"/>\n   </g>\n   <g id=\"patch_9\">\n    <path d=\"M 676.830882 315 \nL 676.830882 43.2 \n\" style=\"fill:none;stroke:#000000;stroke-linecap:square;stroke-linejoin:miter;stroke-width:0.8;\"/>\n   </g>\n   <g id=\"patch_10\">\n    <path d=\"M 381.419118 315 \nL 676.830882 315 \n\" style=\"fill:none;stroke:#000000;stroke-linecap:square;stroke-linejoin:miter;stroke-width:0.8;\"/>\n   </g>\n   <g id=\"patch_11\">\n    <path d=\"M 381.419118 43.2 \nL 676.830882 43.2 \n\" style=\"fill:none;stroke:#000000;stroke-linecap:square;stroke-linejoin:miter;stroke-width:0.8;\"/>\n   </g>\n   <g id=\"text_30\">\n    <!-- Test MSE (Majority) -->\n    <defs>\n     <path d=\"M 34.28125 27.484375 \nQ 23.390625 27.484375 19.1875 25 \nQ 14.984375 22.515625 14.984375 16.5 \nQ 14.984375 11.71875 18.140625 8.90625 \nQ 21.296875 6.109375 26.703125 6.109375 \nQ 34.1875 6.109375 38.703125 11.40625 \nQ 43.21875 16.703125 43.21875 25.484375 \nL 43.21875 27.484375 \nz\nM 52.203125 31.203125 \nL 52.203125 0 \nL 43.21875 0 \nL 43.21875 8.296875 \nQ 40.140625 3.328125 35.546875 0.953125 \nQ 30.953125 -1.421875 24.3125 -1.421875 \nQ 15.921875 -1.421875 10.953125 3.296875 \nQ 6 8.015625 6 15.921875 \nQ 6 25.140625 12.171875 29.828125 \nQ 18.359375 34.515625 30.609375 34.515625 \nL 43.21875 34.515625 \nL 43.21875 35.40625 \nQ 43.21875 41.609375 39.140625 45 \nQ 35.0625 48.390625 27.6875 48.390625 \nQ 23 48.390625 18.546875 47.265625 \nQ 14.109375 46.140625 10.015625 43.890625 \nL 10.015625 52.203125 \nQ 14.9375 54.109375 19.578125 55.046875 \nQ 24.21875 56 28.609375 56 \nQ 40.484375 56 46.34375 49.84375 \nQ 52.203125 43.703125 52.203125 31.203125 \nz\n\" id=\"DejaVuSans-97\"/>\n     <path d=\"M 9.421875 54.6875 \nL 18.40625 54.6875 \nL 18.40625 -0.984375 \nQ 18.40625 -11.421875 14.421875 -16.109375 \nQ 10.453125 -20.796875 1.609375 -20.796875 \nL -1.8125 -20.796875 \nL -1.8125 -13.1875 \nL 0.59375 -13.1875 \nQ 5.71875 -13.1875 7.5625 -10.8125 \nQ 9.421875 -8.453125 9.421875 -0.984375 \nz\nM 9.421875 75.984375 \nL 18.40625 75.984375 \nL 18.40625 64.59375 \nL 9.421875 64.59375 \nz\n\" id=\"DejaVuSans-106\"/>\n    </defs>\n    <g transform=\"translate(471.809062 37.2)scale(0.12 -0.12)\">\n     <use xlink:href=\"#DejaVuSans-84\"/>\n     <use x=\"44.083984\" xlink:href=\"#DejaVuSans-101\"/>\n     <use x=\"105.607422\" xlink:href=\"#DejaVuSans-115\"/>\n     <use x=\"157.707031\" xlink:href=\"#DejaVuSans-116\"/>\n     <use x=\"196.916016\" xlink:href=\"#DejaVuSans-32\"/>\n     <use x=\"228.703125\" xlink:href=\"#DejaVuSans-77\"/>\n     <use x=\"314.982422\" xlink:href=\"#DejaVuSans-83\"/>\n     <use x=\"378.458984\" xlink:href=\"#DejaVuSans-69\"/>\n     <use x=\"441.642578\" xlink:href=\"#DejaVuSans-32\"/>\n     <use x=\"473.429688\" xlink:href=\"#DejaVuSans-40\"/>\n     <use x=\"512.443359\" xlink:href=\"#DejaVuSans-77\"/>\n     <use x=\"598.722656\" xlink:href=\"#DejaVuSans-97\"/>\n     <use x=\"660.001953\" xlink:href=\"#DejaVuSans-106\"/>\n     <use x=\"687.785156\" xlink:href=\"#DejaVuSans-111\"/>\n     <use x=\"748.966797\" xlink:href=\"#DejaVuSans-114\"/>\n     <use x=\"790.080078\" xlink:href=\"#DejaVuSans-105\"/>\n     <use x=\"817.863281\" xlink:href=\"#DejaVuSans-116\"/>\n     <use x=\"857.072266\" xlink:href=\"#DejaVuSans-121\"/>\n     <use x=\"916.251953\" xlink:href=\"#DejaVuSans-41\"/>\n    </g>\n   </g>\n  </g>\n  <g id=\"axes_3\">\n   <g id=\"patch_12\">\n    <path d=\"M 735.913235 315 \nL 1031.325 315 \nL 1031.325 43.2 \nL 735.913235 43.2 \nz\n\" style=\"fill:#ffffff;\"/>\n   </g>\n   <g id=\"matplotlib.axis_5\">\n    <g id=\"xtick_101\">\n     <g id=\"line2d_139\">\n      <g>\n       <use style=\"stroke:#000000;stroke-width:0.8;\" x=\"749.341043\" xlink:href=\"#mfd3e5079db\" y=\"315\"/>\n      </g>\n     </g>\n     <g id=\"text_31\">\n      <!-- $\\mathdefault{10^{0}}$ -->\n      <g transform=\"translate(740.541043 329.598437)scale(0.1 -0.1)\">\n       <use transform=\"translate(0 0.765625)\" xlink:href=\"#DejaVuSans-49\"/>\n       <use transform=\"translate(63.623047 0.765625)\" xlink:href=\"#DejaVuSans-48\"/>\n       <use transform=\"translate(128.203125 39.046875)scale(0.7)\" xlink:href=\"#DejaVuSans-48\"/>\n      </g>\n     </g>\n    </g>\n    <g id=\"xtick_102\">\n     <g id=\"line2d_140\">\n      <g>\n       <use style=\"stroke:#000000;stroke-width:0.8;\" x=\"805.098806\" xlink:href=\"#mfd3e5079db\" y=\"315\"/>\n      </g>\n     </g>\n     <g id=\"text_32\">\n      <!-- $\\mathdefault{10^{1}}$ -->\n      <g transform=\"translate(796.298806 329.598437)scale(0.1 -0.1)\">\n       <use transform=\"translate(0 0.684375)\" xlink:href=\"#DejaVuSans-49\"/>\n       <use transform=\"translate(63.623047 0.684375)\" xlink:href=\"#DejaVuSans-48\"/>\n       <use transform=\"translate(128.203125 38.965625)scale(0.7)\" xlink:href=\"#DejaVuSans-49\"/>\n      </g>\n     </g>\n    </g>\n    <g id=\"xtick_103\">\n     <g id=\"line2d_141\">\n      <g>\n       <use style=\"stroke:#000000;stroke-width:0.8;\" x=\"860.85657\" xlink:href=\"#mfd3e5079db\" y=\"315\"/>\n      </g>\n     </g>\n     <g id=\"text_33\">\n      <!-- $\\mathdefault{10^{2}}$ -->\n      <g transform=\"translate(852.05657 329.598437)scale(0.1 -0.1)\">\n       <use transform=\"translate(0 0.765625)\" xlink:href=\"#DejaVuSans-49\"/>\n       <use transform=\"translate(63.623047 0.765625)\" xlink:href=\"#DejaVuSans-48\"/>\n       <use transform=\"translate(128.203125 39.046875)scale(0.7)\" xlink:href=\"#DejaVuSans-50\"/>\n      </g>\n     </g>\n    </g>\n    <g id=\"xtick_104\">\n     <g id=\"line2d_142\">\n      <g>\n       <use style=\"stroke:#000000;stroke-width:0.8;\" x=\"916.614334\" xlink:href=\"#mfd3e5079db\" y=\"315\"/>\n      </g>\n     </g>\n     <g id=\"text_34\">\n      <!-- $\\mathdefault{10^{3}}$ -->\n      <g transform=\"translate(907.814334 329.598437)scale(0.1 -0.1)\">\n       <use transform=\"translate(0 0.765625)\" xlink:href=\"#DejaVuSans-49\"/>\n       <use transform=\"translate(63.623047 0.765625)\" xlink:href=\"#DejaVuSans-48\"/>\n       <use transform=\"translate(128.203125 39.046875)scale(0.7)\" xlink:href=\"#DejaVuSans-51\"/>\n      </g>\n     </g>\n    </g>\n    <g id=\"xtick_105\">\n     <g id=\"line2d_143\">\n      <g>\n       <use style=\"stroke:#000000;stroke-width:0.8;\" x=\"972.372097\" xlink:href=\"#mfd3e5079db\" y=\"315\"/>\n      </g>\n     </g>\n     <g id=\"text_35\">\n      <!-- $\\mathdefault{10^{4}}$ -->\n      <g transform=\"translate(963.572097 329.598437)scale(0.1 -0.1)\">\n       <use transform=\"translate(0 0.684375)\" xlink:href=\"#DejaVuSans-49\"/>\n       <use transform=\"translate(63.623047 0.684375)\" xlink:href=\"#DejaVuSans-48\"/>\n       <use transform=\"translate(128.203125 38.965625)scale(0.7)\" xlink:href=\"#DejaVuSans-52\"/>\n      </g>\n     </g>\n    </g>\n    <g id=\"xtick_106\">\n     <g id=\"line2d_144\">\n      <g>\n       <use style=\"stroke:#000000;stroke-width:0.8;\" x=\"1028.129861\" xlink:href=\"#mfd3e5079db\" y=\"315\"/>\n      </g>\n     </g>\n     <g id=\"text_36\">\n      <!-- $\\mathdefault{10^{5}}$ -->\n      <g transform=\"translate(1019.329861 329.598437)scale(0.1 -0.1)\">\n       <use transform=\"translate(0 0.684375)\" xlink:href=\"#DejaVuSans-49\"/>\n       <use transform=\"translate(63.623047 0.684375)\" xlink:href=\"#DejaVuSans-48\"/>\n       <use transform=\"translate(128.203125 38.965625)scale(0.7)\" xlink:href=\"#DejaVuSans-53\"/>\n      </g>\n     </g>\n    </g>\n    <g id=\"xtick_107\">\n     <g id=\"line2d_145\">\n      <g>\n       <use style=\"stroke:#000000;stroke-width:0.6;\" x=\"736.971253\" xlink:href=\"#m0050a92b01\" y=\"315\"/>\n      </g>\n     </g>\n    </g>\n    <g id=\"xtick_108\">\n     <g id=\"line2d_146\">\n      <g>\n       <use style=\"stroke:#000000;stroke-width:0.6;\" x=\"740.704056\" xlink:href=\"#m0050a92b01\" y=\"315\"/>\n      </g>\n     </g>\n    </g>\n    <g id=\"xtick_109\">\n     <g id=\"line2d_147\">\n      <g>\n       <use style=\"stroke:#000000;stroke-width:0.6;\" x=\"743.937557\" xlink:href=\"#m0050a92b01\" y=\"315\"/>\n      </g>\n     </g>\n    </g>\n    <g id=\"xtick_110\">\n     <g id=\"line2d_148\">\n      <g>\n       <use style=\"stroke:#000000;stroke-width:0.6;\" x=\"746.789707\" xlink:href=\"#m0050a92b01\" y=\"315\"/>\n      </g>\n     </g>\n    </g>\n    <g id=\"xtick_111\">\n     <g id=\"line2d_149\">\n      <g>\n       <use style=\"stroke:#000000;stroke-width:0.6;\" x=\"766.125802\" xlink:href=\"#m0050a92b01\" y=\"315\"/>\n      </g>\n     </g>\n    </g>\n    <g id=\"xtick_112\">\n     <g id=\"line2d_150\">\n      <g>\n       <use style=\"stroke:#000000;stroke-width:0.6;\" x=\"775.944257\" xlink:href=\"#m0050a92b01\" y=\"315\"/>\n      </g>\n     </g>\n    </g>\n    <g id=\"xtick_113\">\n     <g id=\"line2d_151\">\n      <g>\n       <use style=\"stroke:#000000;stroke-width:0.6;\" x=\"782.910561\" xlink:href=\"#m0050a92b01\" y=\"315\"/>\n      </g>\n     </g>\n    </g>\n    <g id=\"xtick_114\">\n     <g id=\"line2d_152\">\n      <g>\n       <use style=\"stroke:#000000;stroke-width:0.6;\" x=\"788.314047\" xlink:href=\"#m0050a92b01\" y=\"315\"/>\n      </g>\n     </g>\n    </g>\n    <g id=\"xtick_115\">\n     <g id=\"line2d_153\">\n      <g>\n       <use style=\"stroke:#000000;stroke-width:0.6;\" x=\"792.729016\" xlink:href=\"#m0050a92b01\" y=\"315\"/>\n      </g>\n     </g>\n    </g>\n    <g id=\"xtick_116\">\n     <g id=\"line2d_154\">\n      <g>\n       <use style=\"stroke:#000000;stroke-width:0.6;\" x=\"796.46182\" xlink:href=\"#m0050a92b01\" y=\"315\"/>\n      </g>\n     </g>\n    </g>\n    <g id=\"xtick_117\">\n     <g id=\"line2d_155\">\n      <g>\n       <use style=\"stroke:#000000;stroke-width:0.6;\" x=\"799.695321\" xlink:href=\"#m0050a92b01\" y=\"315\"/>\n      </g>\n     </g>\n    </g>\n    <g id=\"xtick_118\">\n     <g id=\"line2d_156\">\n      <g>\n       <use style=\"stroke:#000000;stroke-width:0.6;\" x=\"802.547471\" xlink:href=\"#m0050a92b01\" y=\"315\"/>\n      </g>\n     </g>\n    </g>\n    <g id=\"xtick_119\">\n     <g id=\"line2d_157\">\n      <g>\n       <use style=\"stroke:#000000;stroke-width:0.6;\" x=\"821.883566\" xlink:href=\"#m0050a92b01\" y=\"315\"/>\n      </g>\n     </g>\n    </g>\n    <g id=\"xtick_120\">\n     <g id=\"line2d_158\">\n      <g>\n       <use style=\"stroke:#000000;stroke-width:0.6;\" x=\"831.702021\" xlink:href=\"#m0050a92b01\" y=\"315\"/>\n      </g>\n     </g>\n    </g>\n    <g id=\"xtick_121\">\n     <g id=\"line2d_159\">\n      <g>\n       <use style=\"stroke:#000000;stroke-width:0.6;\" x=\"838.668325\" xlink:href=\"#m0050a92b01\" y=\"315\"/>\n      </g>\n     </g>\n    </g>\n    <g id=\"xtick_122\">\n     <g id=\"line2d_160\">\n      <g>\n       <use style=\"stroke:#000000;stroke-width:0.6;\" x=\"844.071811\" xlink:href=\"#m0050a92b01\" y=\"315\"/>\n      </g>\n     </g>\n    </g>\n    <g id=\"xtick_123\">\n     <g id=\"line2d_161\">\n      <g>\n       <use style=\"stroke:#000000;stroke-width:0.6;\" x=\"848.48678\" xlink:href=\"#m0050a92b01\" y=\"315\"/>\n      </g>\n     </g>\n    </g>\n    <g id=\"xtick_124\">\n     <g id=\"line2d_162\">\n      <g>\n       <use style=\"stroke:#000000;stroke-width:0.6;\" x=\"852.219583\" xlink:href=\"#m0050a92b01\" y=\"315\"/>\n      </g>\n     </g>\n    </g>\n    <g id=\"xtick_125\">\n     <g id=\"line2d_163\">\n      <g>\n       <use style=\"stroke:#000000;stroke-width:0.6;\" x=\"855.453085\" xlink:href=\"#m0050a92b01\" y=\"315\"/>\n      </g>\n     </g>\n    </g>\n    <g id=\"xtick_126\">\n     <g id=\"line2d_164\">\n      <g>\n       <use style=\"stroke:#000000;stroke-width:0.6;\" x=\"858.305235\" xlink:href=\"#m0050a92b01\" y=\"315\"/>\n      </g>\n     </g>\n    </g>\n    <g id=\"xtick_127\">\n     <g id=\"line2d_165\">\n      <g>\n       <use style=\"stroke:#000000;stroke-width:0.6;\" x=\"877.641329\" xlink:href=\"#m0050a92b01\" y=\"315\"/>\n      </g>\n     </g>\n    </g>\n    <g id=\"xtick_128\">\n     <g id=\"line2d_166\">\n      <g>\n       <use style=\"stroke:#000000;stroke-width:0.6;\" x=\"887.459784\" xlink:href=\"#m0050a92b01\" y=\"315\"/>\n      </g>\n     </g>\n    </g>\n    <g id=\"xtick_129\">\n     <g id=\"line2d_167\">\n      <g>\n       <use style=\"stroke:#000000;stroke-width:0.6;\" x=\"894.426089\" xlink:href=\"#m0050a92b01\" y=\"315\"/>\n      </g>\n     </g>\n    </g>\n    <g id=\"xtick_130\">\n     <g id=\"line2d_168\">\n      <g>\n       <use style=\"stroke:#000000;stroke-width:0.6;\" x=\"899.829574\" xlink:href=\"#m0050a92b01\" y=\"315\"/>\n      </g>\n     </g>\n    </g>\n    <g id=\"xtick_131\">\n     <g id=\"line2d_169\">\n      <g>\n       <use style=\"stroke:#000000;stroke-width:0.6;\" x=\"904.244544\" xlink:href=\"#m0050a92b01\" y=\"315\"/>\n      </g>\n     </g>\n    </g>\n    <g id=\"xtick_132\">\n     <g id=\"line2d_170\">\n      <g>\n       <use style=\"stroke:#000000;stroke-width:0.6;\" x=\"907.977347\" xlink:href=\"#m0050a92b01\" y=\"315\"/>\n      </g>\n     </g>\n    </g>\n    <g id=\"xtick_133\">\n     <g id=\"line2d_171\">\n      <g>\n       <use style=\"stroke:#000000;stroke-width:0.6;\" x=\"911.210848\" xlink:href=\"#m0050a92b01\" y=\"315\"/>\n      </g>\n     </g>\n    </g>\n    <g id=\"xtick_134\">\n     <g id=\"line2d_172\">\n      <g>\n       <use style=\"stroke:#000000;stroke-width:0.6;\" x=\"914.062998\" xlink:href=\"#m0050a92b01\" y=\"315\"/>\n      </g>\n     </g>\n    </g>\n    <g id=\"xtick_135\">\n     <g id=\"line2d_173\">\n      <g>\n       <use style=\"stroke:#000000;stroke-width:0.6;\" x=\"933.399093\" xlink:href=\"#m0050a92b01\" y=\"315\"/>\n      </g>\n     </g>\n    </g>\n    <g id=\"xtick_136\">\n     <g id=\"line2d_174\">\n      <g>\n       <use style=\"stroke:#000000;stroke-width:0.6;\" x=\"943.217548\" xlink:href=\"#m0050a92b01\" y=\"315\"/>\n      </g>\n     </g>\n    </g>\n    <g id=\"xtick_137\">\n     <g id=\"line2d_175\">\n      <g>\n       <use style=\"stroke:#000000;stroke-width:0.6;\" x=\"950.183853\" xlink:href=\"#m0050a92b01\" y=\"315\"/>\n      </g>\n     </g>\n    </g>\n    <g id=\"xtick_138\">\n     <g id=\"line2d_176\">\n      <g>\n       <use style=\"stroke:#000000;stroke-width:0.6;\" x=\"955.587338\" xlink:href=\"#m0050a92b01\" y=\"315\"/>\n      </g>\n     </g>\n    </g>\n    <g id=\"xtick_139\">\n     <g id=\"line2d_177\">\n      <g>\n       <use style=\"stroke:#000000;stroke-width:0.6;\" x=\"960.002307\" xlink:href=\"#m0050a92b01\" y=\"315\"/>\n      </g>\n     </g>\n    </g>\n    <g id=\"xtick_140\">\n     <g id=\"line2d_178\">\n      <g>\n       <use style=\"stroke:#000000;stroke-width:0.6;\" x=\"963.735111\" xlink:href=\"#m0050a92b01\" y=\"315\"/>\n      </g>\n     </g>\n    </g>\n    <g id=\"xtick_141\">\n     <g id=\"line2d_179\">\n      <g>\n       <use style=\"stroke:#000000;stroke-width:0.6;\" x=\"966.968612\" xlink:href=\"#m0050a92b01\" y=\"315\"/>\n      </g>\n     </g>\n    </g>\n    <g id=\"xtick_142\">\n     <g id=\"line2d_180\">\n      <g>\n       <use style=\"stroke:#000000;stroke-width:0.6;\" x=\"969.820762\" xlink:href=\"#m0050a92b01\" y=\"315\"/>\n      </g>\n     </g>\n    </g>\n    <g id=\"xtick_143\">\n     <g id=\"line2d_181\">\n      <g>\n       <use style=\"stroke:#000000;stroke-width:0.6;\" x=\"989.156857\" xlink:href=\"#m0050a92b01\" y=\"315\"/>\n      </g>\n     </g>\n    </g>\n    <g id=\"xtick_144\">\n     <g id=\"line2d_182\">\n      <g>\n       <use style=\"stroke:#000000;stroke-width:0.6;\" x=\"998.975312\" xlink:href=\"#m0050a92b01\" y=\"315\"/>\n      </g>\n     </g>\n    </g>\n    <g id=\"xtick_145\">\n     <g id=\"line2d_183\">\n      <g>\n       <use style=\"stroke:#000000;stroke-width:0.6;\" x=\"1005.941616\" xlink:href=\"#m0050a92b01\" y=\"315\"/>\n      </g>\n     </g>\n    </g>\n    <g id=\"xtick_146\">\n     <g id=\"line2d_184\">\n      <g>\n       <use style=\"stroke:#000000;stroke-width:0.6;\" x=\"1011.345102\" xlink:href=\"#m0050a92b01\" y=\"315\"/>\n      </g>\n     </g>\n    </g>\n    <g id=\"xtick_147\">\n     <g id=\"line2d_185\">\n      <g>\n       <use style=\"stroke:#000000;stroke-width:0.6;\" x=\"1015.760071\" xlink:href=\"#m0050a92b01\" y=\"315\"/>\n      </g>\n     </g>\n    </g>\n    <g id=\"xtick_148\">\n     <g id=\"line2d_186\">\n      <g>\n       <use style=\"stroke:#000000;stroke-width:0.6;\" x=\"1019.492874\" xlink:href=\"#m0050a92b01\" y=\"315\"/>\n      </g>\n     </g>\n    </g>\n    <g id=\"xtick_149\">\n     <g id=\"line2d_187\">\n      <g>\n       <use style=\"stroke:#000000;stroke-width:0.6;\" x=\"1022.726376\" xlink:href=\"#m0050a92b01\" y=\"315\"/>\n      </g>\n     </g>\n    </g>\n    <g id=\"xtick_150\">\n     <g id=\"line2d_188\">\n      <g>\n       <use style=\"stroke:#000000;stroke-width:0.6;\" x=\"1025.578526\" xlink:href=\"#m0050a92b01\" y=\"315\"/>\n      </g>\n     </g>\n    </g>\n    <g id=\"text_37\">\n     <!-- nodes -->\n     <g transform=\"translate(868.535524 343.276562)scale(0.1 -0.1)\">\n      <use xlink:href=\"#DejaVuSans-110\"/>\n      <use x=\"63.378906\" xlink:href=\"#DejaVuSans-111\"/>\n      <use x=\"124.560547\" xlink:href=\"#DejaVuSans-100\"/>\n      <use x=\"188.037109\" xlink:href=\"#DejaVuSans-101\"/>\n      <use x=\"249.560547\" xlink:href=\"#DejaVuSans-115\"/>\n     </g>\n    </g>\n   </g>\n   <g id=\"matplotlib.axis_6\">\n    <g id=\"ytick_15\">\n     <g id=\"line2d_189\">\n      <g>\n       <use style=\"stroke:#000000;stroke-width:0.8;\" x=\"735.913235\" xlink:href=\"#m8b7a8096a2\" y=\"304.434566\"/>\n      </g>\n     </g>\n     <g id=\"text_38\">\n      <!-- 0.0 -->\n      <g transform=\"translate(713.01011 308.233785)scale(0.1 -0.1)\">\n       <use xlink:href=\"#DejaVuSans-48\"/>\n       <use x=\"63.623047\" xlink:href=\"#DejaVuSans-46\"/>\n       <use x=\"95.410156\" xlink:href=\"#DejaVuSans-48\"/>\n      </g>\n     </g>\n    </g>\n    <g id=\"ytick_16\">\n     <g id=\"line2d_190\">\n      <g>\n       <use style=\"stroke:#000000;stroke-width:0.8;\" x=\"735.913235\" xlink:href=\"#m8b7a8096a2\" y=\"267.756082\"/>\n      </g>\n     </g>\n     <g id=\"text_39\">\n      <!-- 2.5 -->\n      <g transform=\"translate(713.01011 271.555301)scale(0.1 -0.1)\">\n       <use xlink:href=\"#DejaVuSans-50\"/>\n       <use x=\"63.623047\" xlink:href=\"#DejaVuSans-46\"/>\n       <use x=\"95.410156\" xlink:href=\"#DejaVuSans-53\"/>\n      </g>\n     </g>\n    </g>\n    <g id=\"ytick_17\">\n     <g id=\"line2d_191\">\n      <g>\n       <use style=\"stroke:#000000;stroke-width:0.8;\" x=\"735.913235\" xlink:href=\"#m8b7a8096a2\" y=\"231.077598\"/>\n      </g>\n     </g>\n     <g id=\"text_40\">\n      <!-- 5.0 -->\n      <g transform=\"translate(713.01011 234.876817)scale(0.1 -0.1)\">\n       <use xlink:href=\"#DejaVuSans-53\"/>\n       <use x=\"63.623047\" xlink:href=\"#DejaVuSans-46\"/>\n       <use x=\"95.410156\" xlink:href=\"#DejaVuSans-48\"/>\n      </g>\n     </g>\n    </g>\n    <g id=\"ytick_18\">\n     <g id=\"line2d_192\">\n      <g>\n       <use style=\"stroke:#000000;stroke-width:0.8;\" x=\"735.913235\" xlink:href=\"#m8b7a8096a2\" y=\"194.399114\"/>\n      </g>\n     </g>\n     <g id=\"text_41\">\n      <!-- 7.5 -->\n      <g transform=\"translate(713.01011 198.198333)scale(0.1 -0.1)\">\n       <use xlink:href=\"#DejaVuSans-55\"/>\n       <use x=\"63.623047\" xlink:href=\"#DejaVuSans-46\"/>\n       <use x=\"95.410156\" xlink:href=\"#DejaVuSans-53\"/>\n      </g>\n     </g>\n    </g>\n    <g id=\"ytick_19\">\n     <g id=\"line2d_193\">\n      <g>\n       <use style=\"stroke:#000000;stroke-width:0.8;\" x=\"735.913235\" xlink:href=\"#m8b7a8096a2\" y=\"157.72063\"/>\n      </g>\n     </g>\n     <g id=\"text_42\">\n      <!-- 10.0 -->\n      <g transform=\"translate(706.64761 161.519849)scale(0.1 -0.1)\">\n       <use xlink:href=\"#DejaVuSans-49\"/>\n       <use x=\"63.623047\" xlink:href=\"#DejaVuSans-48\"/>\n       <use x=\"127.246094\" xlink:href=\"#DejaVuSans-46\"/>\n       <use x=\"159.033203\" xlink:href=\"#DejaVuSans-48\"/>\n      </g>\n     </g>\n    </g>\n    <g id=\"ytick_20\">\n     <g id=\"line2d_194\">\n      <g>\n       <use style=\"stroke:#000000;stroke-width:0.8;\" x=\"735.913235\" xlink:href=\"#m8b7a8096a2\" y=\"121.042147\"/>\n      </g>\n     </g>\n     <g id=\"text_43\">\n      <!-- 12.5 -->\n      <g transform=\"translate(706.64761 124.841365)scale(0.1 -0.1)\">\n       <use xlink:href=\"#DejaVuSans-49\"/>\n       <use x=\"63.623047\" xlink:href=\"#DejaVuSans-50\"/>\n       <use x=\"127.246094\" xlink:href=\"#DejaVuSans-46\"/>\n       <use x=\"159.033203\" xlink:href=\"#DejaVuSans-53\"/>\n      </g>\n     </g>\n    </g>\n    <g id=\"ytick_21\">\n     <g id=\"line2d_195\">\n      <g>\n       <use style=\"stroke:#000000;stroke-width:0.8;\" x=\"735.913235\" xlink:href=\"#m8b7a8096a2\" y=\"84.363663\"/>\n      </g>\n     </g>\n     <g id=\"text_44\">\n      <!-- 15.0 -->\n      <g transform=\"translate(706.64761 88.162881)scale(0.1 -0.1)\">\n       <use xlink:href=\"#DejaVuSans-49\"/>\n       <use x=\"63.623047\" xlink:href=\"#DejaVuSans-53\"/>\n       <use x=\"127.246094\" xlink:href=\"#DejaVuSans-46\"/>\n       <use x=\"159.033203\" xlink:href=\"#DejaVuSans-48\"/>\n      </g>\n     </g>\n    </g>\n    <g id=\"ytick_22\">\n     <g id=\"line2d_196\">\n      <g>\n       <use style=\"stroke:#000000;stroke-width:0.8;\" x=\"735.913235\" xlink:href=\"#m8b7a8096a2\" y=\"47.685179\"/>\n      </g>\n     </g>\n     <g id=\"text_45\">\n      <!-- 17.5 -->\n      <g transform=\"translate(706.64761 51.484397)scale(0.1 -0.1)\">\n       <use xlink:href=\"#DejaVuSans-49\"/>\n       <use x=\"63.623047\" xlink:href=\"#DejaVuSans-55\"/>\n       <use x=\"127.246094\" xlink:href=\"#DejaVuSans-46\"/>\n       <use x=\"159.033203\" xlink:href=\"#DejaVuSans-53\"/>\n      </g>\n     </g>\n    </g>\n   </g>\n   <g id=\"LineCollection_13\">\n    <path clip-path=\"url(#p392770f30e)\" d=\"M 749.341043 114.884176 \nL 749.341043 57.727512 \n\" style=\"fill:none;stroke:#1f77b4;stroke-width:1.5;\"/>\n    <path clip-path=\"url(#p392770f30e)\" d=\"M 766.125802 132.180585 \nL 766.125802 69.822508 \n\" style=\"fill:none;stroke:#1f77b4;stroke-width:1.5;\"/>\n    <path clip-path=\"url(#p392770f30e)\" d=\"M 782.910561 157.177987 \nL 782.910561 91.569588 \n\" style=\"fill:none;stroke:#1f77b4;stroke-width:1.5;\"/>\n    <path clip-path=\"url(#p392770f30e)\" d=\"M 799.695321 197.369726 \nL 799.695321 128.777345 \n\" style=\"fill:none;stroke:#1f77b4;stroke-width:1.5;\"/>\n    <path clip-path=\"url(#p392770f30e)\" d=\"M 816.48008 231.360608 \nL 816.48008 179.348707 \n\" style=\"fill:none;stroke:#1f77b4;stroke-width:1.5;\"/>\n    <path clip-path=\"url(#p392770f30e)\" d=\"M 833.26484 259.07048 \nL 833.26484 223.0797 \n\" style=\"fill:none;stroke:#1f77b4;stroke-width:1.5;\"/>\n    <path clip-path=\"url(#p392770f30e)\" d=\"M 850.049599 273.501802 \nL 850.049599 250.934513 \n\" style=\"fill:none;stroke:#1f77b4;stroke-width:1.5;\"/>\n    <path clip-path=\"url(#p392770f30e)\" d=\"M 866.834358 280.755222 \nL 866.834358 267.624657 \n\" style=\"fill:none;stroke:#1f77b4;stroke-width:1.5;\"/>\n    <path clip-path=\"url(#p392770f30e)\" d=\"M 883.619118 285.010042 \nL 883.619118 275.788119 \n\" style=\"fill:none;stroke:#1f77b4;stroke-width:1.5;\"/>\n    <path clip-path=\"url(#p392770f30e)\" d=\"M 900.403877 287.018808 \nL 900.403877 279.576114 \n\" style=\"fill:none;stroke:#1f77b4;stroke-width:1.5;\"/>\n    <path clip-path=\"url(#p392770f30e)\" d=\"M 917.188636 287.839359 \nL 917.188636 281.309388 \n\" style=\"fill:none;stroke:#1f77b4;stroke-width:1.5;\"/>\n    <path clip-path=\"url(#p392770f30e)\" d=\"M 933.973396 288.516148 \nL 933.973396 282.468184 \n\" style=\"fill:none;stroke:#1f77b4;stroke-width:1.5;\"/>\n    <path clip-path=\"url(#p392770f30e)\" d=\"M 950.758155 288.645774 \nL 950.758155 282.931354 \n\" style=\"fill:none;stroke:#1f77b4;stroke-width:1.5;\"/>\n    <path clip-path=\"url(#p392770f30e)\" d=\"M 967.542914 288.826134 \nL 967.542914 283.131951 \n\" style=\"fill:none;stroke:#1f77b4;stroke-width:1.5;\"/>\n    <path clip-path=\"url(#p392770f30e)\" d=\"M 984.327674 288.911697 \nL 984.327674 283.294883 \n\" style=\"fill:none;stroke:#1f77b4;stroke-width:1.5;\"/>\n    <path clip-path=\"url(#p392770f30e)\" d=\"M 1001.112433 288.908406 \nL 1001.112433 283.300205 \n\" style=\"fill:none;stroke:#1f77b4;stroke-width:1.5;\"/>\n    <path clip-path=\"url(#p392770f30e)\" d=\"M 1017.897193 288.93521 \nL 1017.897193 283.376504 \n\" style=\"fill:none;stroke:#1f77b4;stroke-width:1.5;\"/>\n   </g>\n   <g id=\"LineCollection_14\">\n    <path clip-path=\"url(#p392770f30e)\" d=\"M 749.341043 115.789988 \nL 749.341043 57.959475 \n\" style=\"fill:none;stroke:#ff7f0e;stroke-width:1.5;\"/>\n    <path clip-path=\"url(#p392770f30e)\" d=\"M 766.125802 135.02313 \nL 766.125802 69.597007 \n\" style=\"fill:none;stroke:#ff7f0e;stroke-width:1.5;\"/>\n    <path clip-path=\"url(#p392770f30e)\" d=\"M 782.910561 176.472334 \nL 782.910561 96.988488 \n\" style=\"fill:none;stroke:#ff7f0e;stroke-width:1.5;\"/>\n    <path clip-path=\"url(#p392770f30e)\" d=\"M 799.695321 214.759156 \nL 799.695321 141.093648 \n\" style=\"fill:none;stroke:#ff7f0e;stroke-width:1.5;\"/>\n    <path clip-path=\"url(#p392770f30e)\" d=\"M 816.48008 252.963181 \nL 816.48008 201.248173 \n\" style=\"fill:none;stroke:#ff7f0e;stroke-width:1.5;\"/>\n    <path clip-path=\"url(#p392770f30e)\" d=\"M 833.26484 276.233745 \nL 833.26484 249.677221 \n\" style=\"fill:none;stroke:#ff7f0e;stroke-width:1.5;\"/>\n    <path clip-path=\"url(#p392770f30e)\" d=\"M 850.049599 288.61738 \nL 850.049599 276.567631 \n\" style=\"fill:none;stroke:#ff7f0e;stroke-width:1.5;\"/>\n    <path clip-path=\"url(#p392770f30e)\" d=\"M 866.834358 294.654075 \nL 866.834358 288.410382 \n\" style=\"fill:none;stroke:#ff7f0e;stroke-width:1.5;\"/>\n    <path clip-path=\"url(#p392770f30e)\" d=\"M 883.619118 297.546669 \nL 883.619118 293.486161 \n\" style=\"fill:none;stroke:#ff7f0e;stroke-width:1.5;\"/>\n    <path clip-path=\"url(#p392770f30e)\" d=\"M 900.403877 298.948022 \nL 900.403877 295.399576 \n\" style=\"fill:none;stroke:#ff7f0e;stroke-width:1.5;\"/>\n    <path clip-path=\"url(#p392770f30e)\" d=\"M 917.188636 299.760376 \nL 917.188636 296.323875 \n\" style=\"fill:none;stroke:#ff7f0e;stroke-width:1.5;\"/>\n    <path clip-path=\"url(#p392770f30e)\" d=\"M 933.973396 300.129449 \nL 933.973396 296.747406 \n\" style=\"fill:none;stroke:#ff7f0e;stroke-width:1.5;\"/>\n    <path clip-path=\"url(#p392770f30e)\" d=\"M 950.758155 300.279818 \nL 950.758155 296.971647 \n\" style=\"fill:none;stroke:#ff7f0e;stroke-width:1.5;\"/>\n    <path clip-path=\"url(#p392770f30e)\" d=\"M 967.542914 300.360575 \nL 967.542914 297.083906 \n\" style=\"fill:none;stroke:#ff7f0e;stroke-width:1.5;\"/>\n    <path clip-path=\"url(#p392770f30e)\" d=\"M 984.327674 300.398214 \nL 984.327674 297.140058 \n\" style=\"fill:none;stroke:#ff7f0e;stroke-width:1.5;\"/>\n    <path clip-path=\"url(#p392770f30e)\" d=\"M 1001.112433 300.435929 \nL 1001.112433 297.160145 \n\" style=\"fill:none;stroke:#ff7f0e;stroke-width:1.5;\"/>\n    <path clip-path=\"url(#p392770f30e)\" d=\"M 1017.897193 300.436955 \nL 1017.897193 297.184947 \n\" style=\"fill:none;stroke:#ff7f0e;stroke-width:1.5;\"/>\n   </g>\n   <g id=\"LineCollection_15\">\n    <path clip-path=\"url(#p392770f30e)\" d=\"M 749.341043 118.516046 \nL 749.341043 55.94176 \n\" style=\"fill:none;stroke:#2ca02c;stroke-width:1.5;\"/>\n    <path clip-path=\"url(#p392770f30e)\" d=\"M 766.125802 136.66245 \nL 766.125802 70.63755 \n\" style=\"fill:none;stroke:#2ca02c;stroke-width:1.5;\"/>\n    <path clip-path=\"url(#p392770f30e)\" d=\"M 782.910561 173.800868 \nL 782.910561 95.230543 \n\" style=\"fill:none;stroke:#2ca02c;stroke-width:1.5;\"/>\n    <path clip-path=\"url(#p392770f30e)\" d=\"M 799.695321 218.154576 \nL 799.695321 148.04853 \n\" style=\"fill:none;stroke:#2ca02c;stroke-width:1.5;\"/>\n    <path clip-path=\"url(#p392770f30e)\" d=\"M 816.48008 260.744623 \nL 816.48008 219.362336 \n\" style=\"fill:none;stroke:#2ca02c;stroke-width:1.5;\"/>\n    <path clip-path=\"url(#p392770f30e)\" d=\"M 833.26484 284.502853 \nL 833.26484 266.638222 \n\" style=\"fill:none;stroke:#2ca02c;stroke-width:1.5;\"/>\n    <path clip-path=\"url(#p392770f30e)\" d=\"M 850.049599 293.785263 \nL 850.049599 287.647603 \n\" style=\"fill:none;stroke:#2ca02c;stroke-width:1.5;\"/>\n    <path clip-path=\"url(#p392770f30e)\" d=\"M 866.834358 297.958662 \nL 866.834358 294.098799 \n\" style=\"fill:none;stroke:#2ca02c;stroke-width:1.5;\"/>\n    <path clip-path=\"url(#p392770f30e)\" d=\"M 883.619118 299.990537 \nL 883.619118 296.942675 \n\" style=\"fill:none;stroke:#2ca02c;stroke-width:1.5;\"/>\n    <path clip-path=\"url(#p392770f30e)\" d=\"M 900.403877 300.93635 \nL 900.403877 298.059734 \n\" style=\"fill:none;stroke:#2ca02c;stroke-width:1.5;\"/>\n    <path clip-path=\"url(#p392770f30e)\" d=\"M 917.188636 301.357128 \nL 917.188636 298.522972 \n\" style=\"fill:none;stroke:#2ca02c;stroke-width:1.5;\"/>\n    <path clip-path=\"url(#p392770f30e)\" d=\"M 933.973396 301.582032 \nL 933.973396 298.756935 \n\" style=\"fill:none;stroke:#2ca02c;stroke-width:1.5;\"/>\n    <path clip-path=\"url(#p392770f30e)\" d=\"M 950.758155 301.678161 \nL 950.758155 298.846639 \n\" style=\"fill:none;stroke:#2ca02c;stroke-width:1.5;\"/>\n    <path clip-path=\"url(#p392770f30e)\" d=\"M 967.542914 301.733359 \nL 967.542914 298.906184 \n\" style=\"fill:none;stroke:#2ca02c;stroke-width:1.5;\"/>\n    <path clip-path=\"url(#p392770f30e)\" d=\"M 984.327674 301.760678 \nL 984.327674 298.932705 \n\" style=\"fill:none;stroke:#2ca02c;stroke-width:1.5;\"/>\n    <path clip-path=\"url(#p392770f30e)\" d=\"M 1001.112433 301.771937 \nL 1001.112433 298.953572 \n\" style=\"fill:none;stroke:#2ca02c;stroke-width:1.5;\"/>\n    <path clip-path=\"url(#p392770f30e)\" d=\"M 1017.897193 301.775242 \nL 1017.897193 298.956562 \n\" style=\"fill:none;stroke:#2ca02c;stroke-width:1.5;\"/>\n   </g>\n   <g id=\"LineCollection_16\">\n    <path clip-path=\"url(#p392770f30e)\" d=\"M 749.341043 116.862324 \nL 749.341043 55.554545 \n\" style=\"fill:none;stroke:#d62728;stroke-width:1.5;\"/>\n    <path clip-path=\"url(#p392770f30e)\" d=\"M 766.125802 136.342477 \nL 766.125802 72.368295 \n\" style=\"fill:none;stroke:#d62728;stroke-width:1.5;\"/>\n    <path clip-path=\"url(#p392770f30e)\" d=\"M 782.910561 172.749813 \nL 782.910561 96.09993 \n\" style=\"fill:none;stroke:#d62728;stroke-width:1.5;\"/>\n    <path clip-path=\"url(#p392770f30e)\" d=\"M 799.695321 223.715007 \nL 799.695321 152.493841 \n\" style=\"fill:none;stroke:#d62728;stroke-width:1.5;\"/>\n    <path clip-path=\"url(#p392770f30e)\" d=\"M 816.48008 263.813875 \nL 816.48008 227.252743 \n\" style=\"fill:none;stroke:#d62728;stroke-width:1.5;\"/>\n    <path clip-path=\"url(#p392770f30e)\" d=\"M 833.26484 287.411278 \nL 833.26484 274.878758 \n\" style=\"fill:none;stroke:#d62728;stroke-width:1.5;\"/>\n    <path clip-path=\"url(#p392770f30e)\" d=\"M 850.049599 297.224298 \nL 850.049599 292.497374 \n\" style=\"fill:none;stroke:#d62728;stroke-width:1.5;\"/>\n    <path clip-path=\"url(#p392770f30e)\" d=\"M 866.834358 300.503236 \nL 866.834358 297.727585 \n\" style=\"fill:none;stroke:#d62728;stroke-width:1.5;\"/>\n    <path clip-path=\"url(#p392770f30e)\" d=\"M 883.619118 301.619581 \nL 883.619118 299.237978 \n\" style=\"fill:none;stroke:#d62728;stroke-width:1.5;\"/>\n    <path clip-path=\"url(#p392770f30e)\" d=\"M 900.403877 301.9929 \nL 900.403877 299.698977 \n\" style=\"fill:none;stroke:#d62728;stroke-width:1.5;\"/>\n    <path clip-path=\"url(#p392770f30e)\" d=\"M 917.188636 302.15337 \nL 917.188636 299.923309 \n\" style=\"fill:none;stroke:#d62728;stroke-width:1.5;\"/>\n    <path clip-path=\"url(#p392770f30e)\" d=\"M 933.973396 302.227002 \nL 933.973396 299.992573 \n\" style=\"fill:none;stroke:#d62728;stroke-width:1.5;\"/>\n    <path clip-path=\"url(#p392770f30e)\" d=\"M 950.758155 302.257152 \nL 950.758155 300.038033 \n\" style=\"fill:none;stroke:#d62728;stroke-width:1.5;\"/>\n    <path clip-path=\"url(#p392770f30e)\" d=\"M 967.542914 302.276889 \nL 967.542914 300.06178 \n\" style=\"fill:none;stroke:#d62728;stroke-width:1.5;\"/>\n    <path clip-path=\"url(#p392770f30e)\" d=\"M 984.327674 302.280554 \nL 984.327674 300.068475 \n\" style=\"fill:none;stroke:#d62728;stroke-width:1.5;\"/>\n    <path clip-path=\"url(#p392770f30e)\" d=\"M 1001.112433 302.285572 \nL 1001.112433 300.074488 \n\" style=\"fill:none;stroke:#d62728;stroke-width:1.5;\"/>\n    <path clip-path=\"url(#p392770f30e)\" d=\"M 1017.897193 302.286229 \nL 1017.897193 300.077551 \n\" style=\"fill:none;stroke:#d62728;stroke-width:1.5;\"/>\n   </g>\n   <g id=\"LineCollection_17\">\n    <path clip-path=\"url(#p392770f30e)\" d=\"M 749.341043 116.503917 \nL 749.341043 57.787026 \n\" style=\"fill:none;stroke:#9467bd;stroke-width:1.5;\"/>\n    <path clip-path=\"url(#p392770f30e)\" d=\"M 766.125802 137.580387 \nL 766.125802 69.331628 \n\" style=\"fill:none;stroke:#9467bd;stroke-width:1.5;\"/>\n    <path clip-path=\"url(#p392770f30e)\" d=\"M 782.910561 175.435831 \nL 782.910561 100.308163 \n\" style=\"fill:none;stroke:#9467bd;stroke-width:1.5;\"/>\n    <path clip-path=\"url(#p392770f30e)\" d=\"M 799.695321 221.921029 \nL 799.695321 151.022129 \n\" style=\"fill:none;stroke:#9467bd;stroke-width:1.5;\"/>\n    <path clip-path=\"url(#p392770f30e)\" d=\"M 816.48008 262.544622 \nL 816.48008 223.650653 \n\" style=\"fill:none;stroke:#9467bd;stroke-width:1.5;\"/>\n    <path clip-path=\"url(#p392770f30e)\" d=\"M 833.26484 287.951696 \nL 833.26484 274.4924 \n\" style=\"fill:none;stroke:#9467bd;stroke-width:1.5;\"/>\n    <path clip-path=\"url(#p392770f30e)\" d=\"M 850.049599 297.992923 \nL 850.049599 293.455025 \n\" style=\"fill:none;stroke:#9467bd;stroke-width:1.5;\"/>\n    <path clip-path=\"url(#p392770f30e)\" d=\"M 866.834358 301.105931 \nL 866.834358 298.487942 \n\" style=\"fill:none;stroke:#9467bd;stroke-width:1.5;\"/>\n    <path clip-path=\"url(#p392770f30e)\" d=\"M 883.619118 301.937868 \nL 883.619118 299.758294 \n\" style=\"fill:none;stroke:#9467bd;stroke-width:1.5;\"/>\n    <path clip-path=\"url(#p392770f30e)\" d=\"M 900.403877 302.230381 \nL 900.403877 300.162523 \n\" style=\"fill:none;stroke:#9467bd;stroke-width:1.5;\"/>\n    <path clip-path=\"url(#p392770f30e)\" d=\"M 917.188636 302.35345 \nL 917.188636 300.351233 \n\" style=\"fill:none;stroke:#9467bd;stroke-width:1.5;\"/>\n    <path clip-path=\"url(#p392770f30e)\" d=\"M 933.973396 302.413832 \nL 933.973396 300.421341 \n\" style=\"fill:none;stroke:#9467bd;stroke-width:1.5;\"/>\n    <path clip-path=\"url(#p392770f30e)\" d=\"M 950.758155 302.435344 \nL 950.758155 300.459655 \n\" style=\"fill:none;stroke:#9467bd;stroke-width:1.5;\"/>\n    <path clip-path=\"url(#p392770f30e)\" d=\"M 967.542914 302.451182 \nL 967.542914 300.474721 \n\" style=\"fill:none;stroke:#9467bd;stroke-width:1.5;\"/>\n    <path clip-path=\"url(#p392770f30e)\" d=\"M 984.327674 302.456832 \nL 984.327674 300.4832 \n\" style=\"fill:none;stroke:#9467bd;stroke-width:1.5;\"/>\n    <path clip-path=\"url(#p392770f30e)\" d=\"M 1001.112433 302.460236 \nL 1001.112433 300.487871 \n\" style=\"fill:none;stroke:#9467bd;stroke-width:1.5;\"/>\n    <path clip-path=\"url(#p392770f30e)\" d=\"M 1017.897193 302.461265 \nL 1017.897193 300.490329 \n\" style=\"fill:none;stroke:#9467bd;stroke-width:1.5;\"/>\n   </g>\n   <g id=\"LineCollection_18\">\n    <path clip-path=\"url(#p392770f30e)\" d=\"M 749.341043 119.199243 \nL 749.341043 56.985821 \n\" style=\"fill:none;stroke:#8c564b;stroke-width:1.5;\"/>\n    <path clip-path=\"url(#p392770f30e)\" d=\"M 766.125802 135.380534 \nL 766.125802 70.045873 \n\" style=\"fill:none;stroke:#8c564b;stroke-width:1.5;\"/>\n    <path clip-path=\"url(#p392770f30e)\" d=\"M 782.910561 173.286925 \nL 782.910561 100.163641 \n\" style=\"fill:none;stroke:#8c564b;stroke-width:1.5;\"/>\n    <path clip-path=\"url(#p392770f30e)\" d=\"M 799.695321 217.388823 \nL 799.695321 150.837808 \n\" style=\"fill:none;stroke:#8c564b;stroke-width:1.5;\"/>\n    <path clip-path=\"url(#p392770f30e)\" d=\"M 816.48008 263.411851 \nL 816.48008 224.492958 \n\" style=\"fill:none;stroke:#8c564b;stroke-width:1.5;\"/>\n    <path clip-path=\"url(#p392770f30e)\" d=\"M 833.26484 288.529539 \nL 833.26484 275.44036 \n\" style=\"fill:none;stroke:#8c564b;stroke-width:1.5;\"/>\n    <path clip-path=\"url(#p392770f30e)\" d=\"M 850.049599 298.363122 \nL 850.049599 294.323442 \n\" style=\"fill:none;stroke:#8c564b;stroke-width:1.5;\"/>\n    <path clip-path=\"url(#p392770f30e)\" d=\"M 866.834358 301.2942 \nL 866.834358 299.005726 \n\" style=\"fill:none;stroke:#8c564b;stroke-width:1.5;\"/>\n    <path clip-path=\"url(#p392770f30e)\" d=\"M 883.619118 302.117516 \nL 883.619118 300.206575 \n\" style=\"fill:none;stroke:#8c564b;stroke-width:1.5;\"/>\n    <path clip-path=\"url(#p392770f30e)\" d=\"M 900.403877 302.428286 \nL 900.403877 300.57 \n\" style=\"fill:none;stroke:#8c564b;stroke-width:1.5;\"/>\n    <path clip-path=\"url(#p392770f30e)\" d=\"M 917.188636 302.537131 \nL 917.188636 300.754253 \n\" style=\"fill:none;stroke:#8c564b;stroke-width:1.5;\"/>\n    <path clip-path=\"url(#p392770f30e)\" d=\"M 933.973396 302.59758 \nL 933.973396 300.843963 \n\" style=\"fill:none;stroke:#8c564b;stroke-width:1.5;\"/>\n    <path clip-path=\"url(#p392770f30e)\" d=\"M 950.758155 302.618218 \nL 950.758155 300.890087 \n\" style=\"fill:none;stroke:#8c564b;stroke-width:1.5;\"/>\n    <path clip-path=\"url(#p392770f30e)\" d=\"M 967.542914 302.629895 \nL 967.542914 300.914357 \n\" style=\"fill:none;stroke:#8c564b;stroke-width:1.5;\"/>\n    <path clip-path=\"url(#p392770f30e)\" d=\"M 984.327674 302.638623 \nL 984.327674 300.922568 \n\" style=\"fill:none;stroke:#8c564b;stroke-width:1.5;\"/>\n    <path clip-path=\"url(#p392770f30e)\" d=\"M 1001.112433 302.643124 \nL 1001.112433 300.928305 \n\" style=\"fill:none;stroke:#8c564b;stroke-width:1.5;\"/>\n    <path clip-path=\"url(#p392770f30e)\" d=\"M 1017.897193 302.645455 \nL 1017.897193 300.928132 \n\" style=\"fill:none;stroke:#8c564b;stroke-width:1.5;\"/>\n   </g>\n   <g id=\"line2d_197\">\n    <path clip-path=\"url(#p392770f30e)\" d=\"M 749.341043 86.305844 \nL 766.125802 101.001546 \nL 782.910561 124.373787 \nL 799.695321 163.073536 \nL 816.48008 205.354657 \nL 833.26484 241.07509 \nL 850.049599 262.218157 \nL 866.834358 274.189939 \nL 883.619118 280.39908 \nL 900.403877 283.297461 \nL 917.188636 284.574374 \nL 933.973396 285.492166 \nL 950.758155 285.788564 \nL 967.542914 285.979042 \nL 984.327674 286.10329 \nL 1001.112433 286.104306 \nL 1017.897193 286.155857 \n\" style=\"fill:none;stroke:#0000ff;stroke-linecap:square;stroke-width:1.5;\"/>\n   </g>\n   <g id=\"line2d_198\">\n    <path clip-path=\"url(#p392770f30e)\" d=\"M 749.341043 86.874732 \nL 766.125802 102.310069 \nL 782.910561 136.730411 \nL 799.695321 177.926402 \nL 816.48008 227.105677 \nL 833.26484 262.955483 \nL 850.049599 282.592506 \nL 866.834358 291.532228 \nL 883.619118 295.516415 \nL 900.403877 297.173799 \nL 917.188636 298.042125 \nL 933.973396 298.438428 \nL 950.758155 298.625733 \nL 967.542914 298.72224 \nL 984.327674 298.769136 \nL 1001.112433 298.798037 \nL 1017.897193 298.810951 \n\" style=\"fill:none;stroke:#008000;stroke-linecap:square;stroke-width:1.5;\"/>\n   </g>\n   <g id=\"line2d_199\">\n    <path clip-path=\"url(#p392770f30e)\" d=\"M 749.341043 87.228903 \nL 766.125802 103.65 \nL 782.910561 134.515705 \nL 799.695321 183.101553 \nL 816.48008 240.053479 \nL 833.26484 275.570538 \nL 850.049599 290.716433 \nL 866.834358 296.028731 \nL 883.619118 298.466606 \nL 900.403877 299.498042 \nL 917.188636 299.94005 \nL 933.973396 300.169483 \nL 950.758155 300.2624 \nL 967.542914 300.319771 \nL 984.327674 300.346692 \nL 1001.112433 300.362754 \nL 1017.897193 300.365902 \n\" style=\"fill:none;stroke:#ff0000;stroke-linecap:square;stroke-width:1.5;\"/>\n   </g>\n   <g id=\"line2d_200\">\n    <path clip-path=\"url(#p392770f30e)\" d=\"M 749.341043 86.208435 \nL 766.125802 104.355386 \nL 782.910561 134.424872 \nL 799.695321 188.104424 \nL 816.48008 245.533309 \nL 833.26484 281.145018 \nL 850.049599 294.860836 \nL 866.834358 299.115411 \nL 883.619118 300.42878 \nL 900.403877 300.845938 \nL 917.188636 301.038339 \nL 933.973396 301.109788 \nL 950.758155 301.147593 \nL 967.542914 301.169334 \nL 984.327674 301.174515 \nL 1001.112433 301.18003 \nL 1017.897193 301.18189 \n\" style=\"fill:none;stroke:#00bfbf;stroke-linecap:square;stroke-width:1.5;\"/>\n   </g>\n   <g id=\"line2d_201\">\n    <path clip-path=\"url(#p392770f30e)\" d=\"M 749.341043 87.145471 \nL 766.125802 103.456007 \nL 782.910561 137.871997 \nL 799.695321 186.471579 \nL 816.48008 243.097637 \nL 833.26484 281.222048 \nL 850.049599 295.723974 \nL 866.834358 299.796937 \nL 883.619118 300.848081 \nL 900.403877 301.196452 \nL 917.188636 301.352342 \nL 933.973396 301.417587 \nL 950.758155 301.447499 \nL 967.542914 301.462951 \nL 984.327674 301.470016 \nL 1001.112433 301.474053 \nL 1017.897193 301.475797 \n\" style=\"fill:none;stroke:#bfbf00;stroke-linecap:square;stroke-width:1.5;\"/>\n   </g>\n   <g id=\"line2d_202\">\n    <path clip-path=\"url(#p392770f30e)\" d=\"M 749.341043 88.092532 \nL 766.125802 102.713204 \nL 782.910561 136.725283 \nL 799.695321 184.113316 \nL 816.48008 243.952404 \nL 833.26484 281.984949 \nL 850.049599 296.343282 \nL 866.834358 300.149963 \nL 883.619118 301.162045 \nL 900.403877 301.499143 \nL 917.188636 301.645692 \nL 933.973396 301.720771 \nL 950.758155 301.754153 \nL 967.542914 301.772126 \nL 984.327674 301.780596 \nL 1001.112433 301.785715 \nL 1017.897193 301.786793 \n\" style=\"fill:none;stroke:#000000;stroke-linecap:square;stroke-width:1.5;\"/>\n   </g>\n   <g id=\"line2d_203\">\n    <path clip-path=\"url(#p392770f30e)\" d=\"M 749.341043 86.305844 \nL 766.125802 101.001546 \nL 782.910561 124.373787 \nL 799.695321 163.073536 \nL 816.48008 205.354657 \nL 833.26484 241.07509 \nL 850.049599 262.218157 \nL 866.834358 274.189939 \nL 883.619118 280.39908 \nL 900.403877 283.297461 \nL 917.188636 284.574374 \nL 933.973396 285.492166 \nL 950.758155 285.788564 \nL 967.542914 285.979042 \nL 984.327674 286.10329 \nL 1001.112433 286.104306 \nL 1017.897193 286.155857 \n\" style=\"fill:none;stroke:#1f77b4;stroke-linecap:square;stroke-width:1.5;\"/>\n   </g>\n   <g id=\"line2d_204\">\n    <path clip-path=\"url(#p392770f30e)\" d=\"M 749.341043 86.874732 \nL 766.125802 102.310069 \nL 782.910561 136.730411 \nL 799.695321 177.926402 \nL 816.48008 227.105677 \nL 833.26484 262.955483 \nL 850.049599 282.592506 \nL 866.834358 291.532228 \nL 883.619118 295.516415 \nL 900.403877 297.173799 \nL 917.188636 298.042125 \nL 933.973396 298.438428 \nL 950.758155 298.625733 \nL 967.542914 298.72224 \nL 984.327674 298.769136 \nL 1001.112433 298.798037 \nL 1017.897193 298.810951 \n\" style=\"fill:none;stroke:#ff7f0e;stroke-linecap:square;stroke-width:1.5;\"/>\n   </g>\n   <g id=\"line2d_205\">\n    <path clip-path=\"url(#p392770f30e)\" d=\"M 749.341043 87.228903 \nL 766.125802 103.65 \nL 782.910561 134.515705 \nL 799.695321 183.101553 \nL 816.48008 240.053479 \nL 833.26484 275.570538 \nL 850.049599 290.716433 \nL 866.834358 296.028731 \nL 883.619118 298.466606 \nL 900.403877 299.498042 \nL 917.188636 299.94005 \nL 933.973396 300.169483 \nL 950.758155 300.2624 \nL 967.542914 300.319771 \nL 984.327674 300.346692 \nL 1001.112433 300.362754 \nL 1017.897193 300.365902 \n\" style=\"fill:none;stroke:#2ca02c;stroke-linecap:square;stroke-width:1.5;\"/>\n   </g>\n   <g id=\"line2d_206\">\n    <path clip-path=\"url(#p392770f30e)\" d=\"M 749.341043 86.208435 \nL 766.125802 104.355386 \nL 782.910561 134.424872 \nL 799.695321 188.104424 \nL 816.48008 245.533309 \nL 833.26484 281.145018 \nL 850.049599 294.860836 \nL 866.834358 299.115411 \nL 883.619118 300.42878 \nL 900.403877 300.845938 \nL 917.188636 301.038339 \nL 933.973396 301.109788 \nL 950.758155 301.147593 \nL 967.542914 301.169334 \nL 984.327674 301.174515 \nL 1001.112433 301.18003 \nL 1017.897193 301.18189 \n\" style=\"fill:none;stroke:#d62728;stroke-linecap:square;stroke-width:1.5;\"/>\n   </g>\n   <g id=\"line2d_207\">\n    <path clip-path=\"url(#p392770f30e)\" d=\"M 749.341043 87.145471 \nL 766.125802 103.456007 \nL 782.910561 137.871997 \nL 799.695321 186.471579 \nL 816.48008 243.097637 \nL 833.26484 281.222048 \nL 850.049599 295.723974 \nL 866.834358 299.796937 \nL 883.619118 300.848081 \nL 900.403877 301.196452 \nL 917.188636 301.352342 \nL 933.973396 301.417587 \nL 950.758155 301.447499 \nL 967.542914 301.462951 \nL 984.327674 301.470016 \nL 1001.112433 301.474053 \nL 1017.897193 301.475797 \n\" style=\"fill:none;stroke:#9467bd;stroke-linecap:square;stroke-width:1.5;\"/>\n   </g>\n   <g id=\"line2d_208\">\n    <path clip-path=\"url(#p392770f30e)\" d=\"M 749.341043 88.092532 \nL 766.125802 102.713204 \nL 782.910561 136.725283 \nL 799.695321 184.113316 \nL 816.48008 243.952404 \nL 833.26484 281.984949 \nL 850.049599 296.343282 \nL 866.834358 300.149963 \nL 883.619118 301.162045 \nL 900.403877 301.499143 \nL 917.188636 301.645692 \nL 933.973396 301.720771 \nL 950.758155 301.754153 \nL 967.542914 301.772126 \nL 984.327674 301.780596 \nL 1001.112433 301.785715 \nL 1017.897193 301.786793 \n\" style=\"fill:none;stroke:#8c564b;stroke-linecap:square;stroke-width:1.5;\"/>\n   </g>\n   <g id=\"patch_13\">\n    <path d=\"M 735.913235 315 \nL 735.913235 43.2 \n\" style=\"fill:none;stroke:#000000;stroke-linecap:square;stroke-linejoin:miter;stroke-width:0.8;\"/>\n   </g>\n   <g id=\"patch_14\">\n    <path d=\"M 1031.325 315 \nL 1031.325 43.2 \n\" style=\"fill:none;stroke:#000000;stroke-linecap:square;stroke-linejoin:miter;stroke-width:0.8;\"/>\n   </g>\n   <g id=\"patch_15\">\n    <path d=\"M 735.913235 315 \nL 1031.325 315 \n\" style=\"fill:none;stroke:#000000;stroke-linecap:square;stroke-linejoin:miter;stroke-width:0.8;\"/>\n   </g>\n   <g id=\"patch_16\">\n    <path d=\"M 735.913235 43.2 \nL 1031.325 43.2 \n\" style=\"fill:none;stroke:#000000;stroke-linecap:square;stroke-linejoin:miter;stroke-width:0.8;\"/>\n   </g>\n   <g id=\"text_46\">\n    <!-- Train MSE (Overall) -->\n    <defs>\n     <path d=\"M 39.40625 66.21875 \nQ 28.65625 66.21875 22.328125 58.203125 \nQ 16.015625 50.203125 16.015625 36.375 \nQ 16.015625 22.609375 22.328125 14.59375 \nQ 28.65625 6.59375 39.40625 6.59375 \nQ 50.140625 6.59375 56.421875 14.59375 \nQ 62.703125 22.609375 62.703125 36.375 \nQ 62.703125 50.203125 56.421875 58.203125 \nQ 50.140625 66.21875 39.40625 66.21875 \nz\nM 39.40625 74.21875 \nQ 54.734375 74.21875 63.90625 63.9375 \nQ 73.09375 53.65625 73.09375 36.375 \nQ 73.09375 19.140625 63.90625 8.859375 \nQ 54.734375 -1.421875 39.40625 -1.421875 \nQ 24.03125 -1.421875 14.8125 8.828125 \nQ 5.609375 19.09375 5.609375 36.375 \nQ 5.609375 53.65625 14.8125 63.9375 \nQ 24.03125 74.21875 39.40625 74.21875 \nz\n\" id=\"DejaVuSans-79\"/>\n     <path d=\"M 2.984375 54.6875 \nL 12.5 54.6875 \nL 29.59375 8.796875 \nL 46.6875 54.6875 \nL 56.203125 54.6875 \nL 35.6875 0 \nL 23.484375 0 \nz\n\" id=\"DejaVuSans-118\"/>\n     <path d=\"M 9.421875 75.984375 \nL 18.40625 75.984375 \nL 18.40625 0 \nL 9.421875 0 \nz\n\" id=\"DejaVuSans-108\"/>\n    </defs>\n    <g transform=\"translate(826.510368 37.2)scale(0.12 -0.12)\">\n     <use xlink:href=\"#DejaVuSans-84\"/>\n     <use x=\"46.333984\" xlink:href=\"#DejaVuSans-114\"/>\n     <use x=\"87.447266\" xlink:href=\"#DejaVuSans-97\"/>\n     <use x=\"148.726562\" xlink:href=\"#DejaVuSans-105\"/>\n     <use x=\"176.509766\" xlink:href=\"#DejaVuSans-110\"/>\n     <use x=\"239.888672\" xlink:href=\"#DejaVuSans-32\"/>\n     <use x=\"271.675781\" xlink:href=\"#DejaVuSans-77\"/>\n     <use x=\"357.955078\" xlink:href=\"#DejaVuSans-83\"/>\n     <use x=\"421.431641\" xlink:href=\"#DejaVuSans-69\"/>\n     <use x=\"484.615234\" xlink:href=\"#DejaVuSans-32\"/>\n     <use x=\"516.402344\" xlink:href=\"#DejaVuSans-40\"/>\n     <use x=\"555.416016\" xlink:href=\"#DejaVuSans-79\"/>\n     <use x=\"634.126953\" xlink:href=\"#DejaVuSans-118\"/>\n     <use x=\"693.306641\" xlink:href=\"#DejaVuSans-101\"/>\n     <use x=\"754.830078\" xlink:href=\"#DejaVuSans-114\"/>\n     <use x=\"795.943359\" xlink:href=\"#DejaVuSans-97\"/>\n     <use x=\"857.222656\" xlink:href=\"#DejaVuSans-108\"/>\n     <use x=\"885.005859\" xlink:href=\"#DejaVuSans-108\"/>\n     <use x=\"912.789062\" xlink:href=\"#DejaVuSans-41\"/>\n    </g>\n   </g>\n   <g id=\"legend_1\">\n    <g id=\"patch_17\">\n     <path d=\"M 966.875 153.946875 \nL 1024.325 153.946875 \nQ 1026.325 153.946875 1026.325 151.946875 \nL 1026.325 50.2 \nQ 1026.325 48.2 1024.325 48.2 \nL 966.875 48.2 \nQ 964.875 48.2 964.875 50.2 \nL 964.875 151.946875 \nQ 964.875 153.946875 966.875 153.946875 \nz\n\" style=\"fill:#ffffff;opacity:0.8;stroke:#cccccc;stroke-linejoin:miter;\"/>\n    </g>\n    <g id=\"text_47\">\n     <!-- epochs -->\n     <defs>\n      <path d=\"M 18.109375 8.203125 \nL 18.109375 -20.796875 \nL 9.078125 -20.796875 \nL 9.078125 54.6875 \nL 18.109375 54.6875 \nL 18.109375 46.390625 \nQ 20.953125 51.265625 25.265625 53.625 \nQ 29.59375 56 35.59375 56 \nQ 45.5625 56 51.78125 48.09375 \nQ 58.015625 40.1875 58.015625 27.296875 \nQ 58.015625 14.40625 51.78125 6.484375 \nQ 45.5625 -1.421875 35.59375 -1.421875 \nQ 29.59375 -1.421875 25.265625 0.953125 \nQ 20.953125 3.328125 18.109375 8.203125 \nz\nM 48.6875 27.296875 \nQ 48.6875 37.203125 44.609375 42.84375 \nQ 40.53125 48.484375 33.40625 48.484375 \nQ 26.265625 48.484375 22.1875 42.84375 \nQ 18.109375 37.203125 18.109375 27.296875 \nQ 18.109375 17.390625 22.1875 11.75 \nQ 26.265625 6.109375 33.40625 6.109375 \nQ 40.53125 6.109375 44.609375 11.75 \nQ 48.6875 17.390625 48.6875 27.296875 \nz\n\" id=\"DejaVuSans-112\"/>\n      <path d=\"M 48.78125 52.59375 \nL 48.78125 44.1875 \nQ 44.96875 46.296875 41.140625 47.34375 \nQ 37.3125 48.390625 33.40625 48.390625 \nQ 24.65625 48.390625 19.8125 42.84375 \nQ 14.984375 37.3125 14.984375 27.296875 \nQ 14.984375 17.28125 19.8125 11.734375 \nQ 24.65625 6.203125 33.40625 6.203125 \nQ 37.3125 6.203125 41.140625 7.25 \nQ 44.96875 8.296875 48.78125 10.40625 \nL 48.78125 2.09375 \nQ 45.015625 0.34375 40.984375 -0.53125 \nQ 36.96875 -1.421875 32.421875 -1.421875 \nQ 20.0625 -1.421875 12.78125 6.34375 \nQ 5.515625 14.109375 5.515625 27.296875 \nQ 5.515625 40.671875 12.859375 48.328125 \nQ 20.21875 56 33.015625 56 \nQ 37.15625 56 41.109375 55.140625 \nQ 45.0625 54.296875 48.78125 52.59375 \nz\n\" id=\"DejaVuSans-99\"/>\n      <path d=\"M 54.890625 33.015625 \nL 54.890625 0 \nL 45.90625 0 \nL 45.90625 32.71875 \nQ 45.90625 40.484375 42.875 44.328125 \nQ 39.84375 48.1875 33.796875 48.1875 \nQ 26.515625 48.1875 22.3125 43.546875 \nQ 18.109375 38.921875 18.109375 30.90625 \nL 18.109375 0 \nL 9.078125 0 \nL 9.078125 75.984375 \nL 18.109375 75.984375 \nL 18.109375 46.1875 \nQ 21.34375 51.125 25.703125 53.5625 \nQ 30.078125 56 35.796875 56 \nQ 45.21875 56 50.046875 50.171875 \nQ 54.890625 44.34375 54.890625 33.015625 \nz\n\" id=\"DejaVuSans-104\"/>\n     </defs>\n     <g transform=\"translate(977.767187 59.798437)scale(0.1 -0.1)\">\n      <use xlink:href=\"#DejaVuSans-101\"/>\n      <use x=\"61.523438\" xlink:href=\"#DejaVuSans-112\"/>\n      <use x=\"125\" xlink:href=\"#DejaVuSans-111\"/>\n      <use x=\"186.181641\" xlink:href=\"#DejaVuSans-99\"/>\n      <use x=\"241.162109\" xlink:href=\"#DejaVuSans-104\"/>\n      <use x=\"304.541016\" xlink:href=\"#DejaVuSans-115\"/>\n     </g>\n    </g>\n    <g id=\"line2d_209\">\n     <path d=\"M 968.875 70.976562 \nL 988.875 70.976562 \n\" style=\"fill:none;stroke:#0000ff;stroke-linecap:square;stroke-width:1.5;\"/>\n    </g>\n    <g id=\"line2d_210\"/>\n    <g id=\"text_48\">\n     <!-- 20 -->\n     <g transform=\"translate(996.875 74.476562)scale(0.1 -0.1)\">\n      <use xlink:href=\"#DejaVuSans-50\"/>\n      <use x=\"63.623047\" xlink:href=\"#DejaVuSans-48\"/>\n     </g>\n    </g>\n    <g id=\"line2d_211\">\n     <path d=\"M 968.875 85.654688 \nL 988.875 85.654688 \n\" style=\"fill:none;stroke:#008000;stroke-linecap:square;stroke-width:1.5;\"/>\n    </g>\n    <g id=\"line2d_212\"/>\n    <g id=\"text_49\">\n     <!-- 40 -->\n     <g transform=\"translate(996.875 89.154688)scale(0.1 -0.1)\">\n      <use xlink:href=\"#DejaVuSans-52\"/>\n      <use x=\"63.623047\" xlink:href=\"#DejaVuSans-48\"/>\n     </g>\n    </g>\n    <g id=\"line2d_213\">\n     <path d=\"M 968.875 100.332812 \nL 988.875 100.332812 \n\" style=\"fill:none;stroke:#ff0000;stroke-linecap:square;stroke-width:1.5;\"/>\n    </g>\n    <g id=\"line2d_214\"/>\n    <g id=\"text_50\">\n     <!-- 100 -->\n     <g transform=\"translate(996.875 103.832812)scale(0.1 -0.1)\">\n      <use xlink:href=\"#DejaVuSans-49\"/>\n      <use x=\"63.623047\" xlink:href=\"#DejaVuSans-48\"/>\n      <use x=\"127.246094\" xlink:href=\"#DejaVuSans-48\"/>\n     </g>\n    </g>\n    <g id=\"line2d_215\">\n     <path d=\"M 968.875 115.010938 \nL 988.875 115.010938 \n\" style=\"fill:none;stroke:#00bfbf;stroke-linecap:square;stroke-width:1.5;\"/>\n    </g>\n    <g id=\"line2d_216\"/>\n    <g id=\"text_51\">\n     <!-- 500 -->\n     <g transform=\"translate(996.875 118.510938)scale(0.1 -0.1)\">\n      <use xlink:href=\"#DejaVuSans-53\"/>\n      <use x=\"63.623047\" xlink:href=\"#DejaVuSans-48\"/>\n      <use x=\"127.246094\" xlink:href=\"#DejaVuSans-48\"/>\n     </g>\n    </g>\n    <g id=\"line2d_217\">\n     <path d=\"M 968.875 129.689063 \nL 988.875 129.689063 \n\" style=\"fill:none;stroke:#bfbf00;stroke-linecap:square;stroke-width:1.5;\"/>\n    </g>\n    <g id=\"line2d_218\"/>\n    <g id=\"text_52\">\n     <!-- 1000 -->\n     <g transform=\"translate(996.875 133.189063)scale(0.1 -0.1)\">\n      <use xlink:href=\"#DejaVuSans-49\"/>\n      <use x=\"63.623047\" xlink:href=\"#DejaVuSans-48\"/>\n      <use x=\"127.246094\" xlink:href=\"#DejaVuSans-48\"/>\n      <use x=\"190.869141\" xlink:href=\"#DejaVuSans-48\"/>\n     </g>\n    </g>\n    <g id=\"line2d_219\">\n     <path d=\"M 968.875 144.367188 \nL 988.875 144.367188 \n\" style=\"fill:none;stroke:#000000;stroke-linecap:square;stroke-width:1.5;\"/>\n    </g>\n    <g id=\"line2d_220\"/>\n    <g id=\"text_53\">\n     <!-- 2000 -->\n     <g transform=\"translate(996.875 147.867188)scale(0.1 -0.1)\">\n      <use xlink:href=\"#DejaVuSans-50\"/>\n      <use x=\"63.623047\" xlink:href=\"#DejaVuSans-48\"/>\n      <use x=\"127.246094\" xlink:href=\"#DejaVuSans-48\"/>\n      <use x=\"190.869141\" xlink:href=\"#DejaVuSans-48\"/>\n     </g>\n    </g>\n   </g>\n  </g>\n  <g id=\"text_54\">\n   <!-- $\\|\\beta\\|_2^2$: 16, Trainable: last layer -->\n   <defs>\n    <path d=\"M 21 76.421875 \nL 21 -23.578125 \nL 12.703125 -23.578125 \nL 12.703125 76.421875 \nz\n\" id=\"DejaVuSans-124\"/>\n    <path d=\"M 13.625 3.375 \nL 8.9375 -20.796875 \nL -0.09375 -20.796875 \nL 14.5 54.34375 \nQ 18.84375 76.609375 39.65625 76.609375 \nQ 60.75 76.609375 57.171875 57.8125 \nQ 54.734375 44.4375 45.21875 39.546875 \nQ 58.015625 35.15625 55.515625 22.125 \nQ 51.125 -1.078125 27.484375 -1.03125 \nQ 17.140625 -0.984375 13.625 3.375 \nz\nM 15.921875 15.09375 \nQ 19.671875 6.59375 29.296875 6.640625 \nQ 43.359375 6.640625 46.34375 21.96875 \nQ 49.03125 35.75 26.171875 34.671875 \nL 27.78125 42.96875 \nQ 45.453125 42.671875 48.53125 58.59375 \nQ 50.640625 69.34375 39.203125 69.28125 \nQ 26.421875 69.28125 23.484375 54.046875 \nz\n\" id=\"DejaVuSans-Oblique-946\"/>\n    <path d=\"M 11.71875 12.40625 \nL 22.015625 12.40625 \nL 22.015625 0 \nL 11.71875 0 \nz\nM 11.71875 51.703125 \nL 22.015625 51.703125 \nL 22.015625 39.3125 \nL 11.71875 39.3125 \nz\n\" id=\"DejaVuSans-58\"/>\n    <path d=\"M 11.71875 12.40625 \nL 22.015625 12.40625 \nL 22.015625 4 \nL 14.015625 -11.625 \nL 7.71875 -11.625 \nL 11.71875 4 \nz\n\" id=\"DejaVuSans-44\"/>\n    <path d=\"M 48.6875 27.296875 \nQ 48.6875 37.203125 44.609375 42.84375 \nQ 40.53125 48.484375 33.40625 48.484375 \nQ 26.265625 48.484375 22.1875 42.84375 \nQ 18.109375 37.203125 18.109375 27.296875 \nQ 18.109375 17.390625 22.1875 11.75 \nQ 26.265625 6.109375 33.40625 6.109375 \nQ 40.53125 6.109375 44.609375 11.75 \nQ 48.6875 17.390625 48.6875 27.296875 \nz\nM 18.109375 46.390625 \nQ 20.953125 51.265625 25.265625 53.625 \nQ 29.59375 56 35.59375 56 \nQ 45.5625 56 51.78125 48.09375 \nQ 58.015625 40.1875 58.015625 27.296875 \nQ 58.015625 14.40625 51.78125 6.484375 \nQ 45.5625 -1.421875 35.59375 -1.421875 \nQ 29.59375 -1.421875 25.265625 0.953125 \nQ 20.953125 3.328125 18.109375 8.203125 \nL 18.109375 0 \nL 9.078125 0 \nL 9.078125 75.984375 \nL 18.109375 75.984375 \nz\n\" id=\"DejaVuSans-98\"/>\n   </defs>\n   <g transform=\"translate(426.945 18.12)scale(0.12 -0.12)\">\n    <use transform=\"translate(0 0.765625)\" xlink:href=\"#DejaVuSans-124\"/>\n    <use transform=\"translate(33.691406 0.765625)\" xlink:href=\"#DejaVuSans-Oblique-946\"/>\n    <use transform=\"translate(97.509766 0.765625)\" xlink:href=\"#DejaVuSans-124\"/>\n    <use transform=\"translate(132.158203 39.046875)scale(0.7)\" xlink:href=\"#DejaVuSans-50\"/>\n    <use transform=\"translate(132.158203 -26.578125)scale(0.7)\" xlink:href=\"#DejaVuSans-50\"/>\n    <use transform=\"translate(179.428711 0.765625)\" xlink:href=\"#DejaVuSans-58\"/>\n    <use transform=\"translate(213.120117 0.765625)\" xlink:href=\"#DejaVuSans-32\"/>\n    <use transform=\"translate(244.907227 0.765625)\" xlink:href=\"#DejaVuSans-49\"/>\n    <use transform=\"translate(308.530273 0.765625)\" xlink:href=\"#DejaVuSans-54\"/>\n    <use transform=\"translate(372.15332 0.765625)\" xlink:href=\"#DejaVuSans-44\"/>\n    <use transform=\"translate(403.94043 0.765625)\" xlink:href=\"#DejaVuSans-32\"/>\n    <use transform=\"translate(435.727539 0.765625)\" xlink:href=\"#DejaVuSans-84\"/>\n    <use transform=\"translate(496.811523 0.765625)\" xlink:href=\"#DejaVuSans-114\"/>\n    <use transform=\"translate(537.924805 0.765625)\" xlink:href=\"#DejaVuSans-97\"/>\n    <use transform=\"translate(599.204102 0.765625)\" xlink:href=\"#DejaVuSans-105\"/>\n    <use transform=\"translate(626.987305 0.765625)\" xlink:href=\"#DejaVuSans-110\"/>\n    <use transform=\"translate(690.366211 0.765625)\" xlink:href=\"#DejaVuSans-97\"/>\n    <use transform=\"translate(751.645508 0.765625)\" xlink:href=\"#DejaVuSans-98\"/>\n    <use transform=\"translate(815.12207 0.765625)\" xlink:href=\"#DejaVuSans-108\"/>\n    <use transform=\"translate(842.905273 0.765625)\" xlink:href=\"#DejaVuSans-101\"/>\n    <use transform=\"translate(904.428711 0.765625)\" xlink:href=\"#DejaVuSans-58\"/>\n    <use transform=\"translate(938.120117 0.765625)\" xlink:href=\"#DejaVuSans-32\"/>\n    <use transform=\"translate(969.907227 0.765625)\" xlink:href=\"#DejaVuSans-108\"/>\n    <use transform=\"translate(997.69043 0.765625)\" xlink:href=\"#DejaVuSans-97\"/>\n    <use transform=\"translate(1058.969727 0.765625)\" xlink:href=\"#DejaVuSans-115\"/>\n    <use transform=\"translate(1111.069336 0.765625)\" xlink:href=\"#DejaVuSans-116\"/>\n    <use transform=\"translate(1150.27832 0.765625)\" xlink:href=\"#DejaVuSans-32\"/>\n    <use transform=\"translate(1182.06543 0.765625)\" xlink:href=\"#DejaVuSans-108\"/>\n    <use transform=\"translate(1209.848633 0.765625)\" xlink:href=\"#DejaVuSans-97\"/>\n    <use transform=\"translate(1271.12793 0.765625)\" xlink:href=\"#DejaVuSans-121\"/>\n    <use transform=\"translate(1330.307617 0.765625)\" xlink:href=\"#DejaVuSans-101\"/>\n    <use transform=\"translate(1391.831055 0.765625)\" xlink:href=\"#DejaVuSans-114\"/>\n   </g>\n  </g>\n </g>\n <defs>\n  <clipPath id=\"p7c4c8ba319\">\n   <rect height=\"271.8\" width=\"295.411765\" x=\"26.925\" y=\"43.2\"/>\n  </clipPath>\n  <clipPath id=\"pab545ce9c1\">\n   <rect height=\"271.8\" width=\"295.411765\" x=\"381.419118\" y=\"43.2\"/>\n  </clipPath>\n  <clipPath id=\"p392770f30e\">\n   <rect height=\"271.8\" width=\"295.411765\" x=\"735.913235\" y=\"43.2\"/>\n  </clipPath>\n </defs>\n</svg>\n",
      "image/png": "[encoded data removed]"
     },
     "metadata": {
      "needs_background": "light"
     }
    }
   ],
   "source": [
    "epochs_list = np.unique(df['epochs'])\n",
    "color_list = 'bgrcyk'\n",
    "\n",
    "fig, ax = plt.subplots(1, 3, figsize = (18, 5), sharex=True)\n",
    "for epochs, color in zip(epochs_list, color_list):\n",
    "    result1 = result.loc[result['epochs']==epochs]\n",
    "    nodes, mean, std, count = result1['nodes'], result1['minority-mse']['mean'], result1['minority-mse']['std'],\\\n",
    "     result1['minority-mse']['count']\n",
    "    ax[0].plot(nodes, mean, color)\n",
    "    ax[0].errorbar(nodes, mean, std)\n",
    "    #ax[0].set_yscale('log')\n",
    "    ax[0].set_xscale('log')\n",
    "    ax[0].set_title('Test MSE (Minority)')\n",
    "    ax[0].set_xlabel('nodes')\n",
    "\n",
    "\n",
    "    mean, std, count = result1['majority-mse']['mean'], result1['majority-mse']['std'], result1['majority-mse']['count']\n",
    "    ax[1].plot(nodes, mean, color)\n",
    "    ax[1].errorbar(nodes, mean, std)\n",
    "    #ax[0].set_yscale('log')\n",
    "    ax[1].set_xscale('log')\n",
    "    ax[1].set_title('Test MSE (Majority)')\n",
    "    ax[1].set_xlabel('nodes')\n",
    "\n",
    "    mean, std, count = result1['train-mse']['mean'], result1['train-mse']['std'], result1['train-mse']['count']\n",
    "    ax[2].plot(nodes, mean, color)\n",
    "    ax[2].errorbar(nodes, mean, std)\n",
    "    #ax[0].set_yscale('log')\n",
    "    ax[2].set_xscale('log')\n",
    "    ax[2].set_title('Train MSE (Overall)')\n",
    "    ax[2].set_xlabel('nodes')\n",
    "\n",
    "fig.suptitle(image_title)\n",
    "plt.legend(epochs_list, title='epochs')\n",
    "plt.savefig('pdf_plots/' + filename + '.pdf')"
   ]
  },
  {
   "cell_type": "code",
   "execution_count": 4,
   "metadata": {},
   "outputs": [
    {
     "output_type": "display_data",
     "data": {
      "application/vnd.plotly.v1+json": {
       "config": {
        "plotlyServerURL": "https://plot.ly"
       },
       "data": [
        {
         "error_y": {
          "array": [
           1.4191475941017606,
           1.9178795717681822,
           2.186841521336423,
           2.169074103394453,
           2.1425589211442646,
           1.579040111493147,
           1.0941708624155155,
           0.8081303086266218,
           0.7091247256932091,
           0.6332923274376412,
           0.6036860175501978,
           0.5727598115467952,
           0.5636682408094494,
           0.5626688854596535,
           0.5527804829041595,
           0.5562900586964505,
           0.5528797378006767
          ],
          "color": "red",
          "thickness": 0.9,
          "type": "data",
          "width": 0
         },
         "legendgroup": "20",
         "line": {
          "color": "red"
         },
         "marker": {
          "size": 3
         },
         "name": "20",
         "showlegend": false,
         "type": "scatter",
         "x": [
          1,
          2,
          4,
          8,
          16,
          32,
          64,
          128,
          256,
          512,
          1024,
          2048,
          4096,
          8192,
          16384,
          32768,
          65536
         ],
         "xaxis": "x",
         "y": [
          15.286180786464525,
          14.547482480970912,
          13.642281961281563,
          11.651061672032078,
          9.568847661034319,
          7.790520627363071,
          6.698791116376386,
          6.0805850076834895,
          5.821541511892874,
          5.7076203384527,
          5.596447517241922,
          5.56603860057716,
          5.5532032382926815,
          5.541893770862184,
          5.536351781226321,
          5.535301044234464,
          5.537295271321683
         ],
         "yaxis": "y"
        },
        {
         "error_y": {
          "array": [
           1.5238415844379751,
           1.8403624346523646,
           2.070221137651106,
           2.3065736331356863,
           1.9613466170922769,
           1.3557194162566455,
           0.9452105722800129,
           0.6310001037403111,
           0.4689377078169946,
           0.38763685205784576,
           0.3518325022182528,
           0.34216885123238366,
           0.33382169278080615,
           0.3288295979025082,
           0.3275139247404015,
           0.33011193183971493,
           0.3262012186863401
          ],
          "color": "red",
          "thickness": 0.9,
          "type": "data",
          "width": 0
         },
         "legendgroup": "20",
         "line": {
          "color": "red"
         },
         "marker": {
          "size": 3
         },
         "name": "20",
         "showlegend": false,
         "type": "scatter",
         "x": [
          1,
          2,
          4,
          8,
          16,
          32,
          64,
          128,
          256,
          512,
          1024,
          2048,
          4096,
          8192,
          16384,
          32768,
          65536
         ],
         "xaxis": "x2",
         "y": [
          15.03276975497753,
          14.154760169345002,
          12.581873593920449,
          10.002817364440714,
          7.193757202314294,
          4.687508697892511,
          3.1365474259175583,
          2.276383828359304,
          1.7999811708727809,
          1.5732172400656352,
          1.4719769284876694,
          1.4000733221653712,
          1.378716843383368,
          1.3643541609164465,
          1.354867434023216,
          1.3548721631235103,
          1.350247681539593
         ],
         "yaxis": "y2"
        },
        {
         "error_y": {
          "array": [
           1.947894850636181,
           2.125158614899262,
           2.2359293448345343,
           2.337623237056056,
           1.7725617223648156,
           1.2265631214233512,
           0.7690915108403044,
           0.44748867681044047,
           0.3142824401259227,
           0.25364646104271654,
           0.2225409409673486,
           0.20611413851693408,
           0.19474702628163365,
           0.19405730819074118,
           0.19142060849635276,
           0.19112707765417875,
           0.18944026776641196
          ],
          "color": "red",
          "thickness": 0.9,
          "type": "data",
          "width": 0
         },
         "legendgroup": "20",
         "line": {
          "color": "red"
         },
         "marker": {
          "size": 3
         },
         "name": "20",
         "showlegend": true,
         "type": "scatter",
         "x": [
          1,
          2,
          4,
          8,
          16,
          32,
          64,
          128,
          256,
          512,
          1024,
          2048,
          4096,
          8192,
          16384,
          32768,
          65536
         ],
         "xaxis": "x3",
         "y": [
          14.8676212240621,
          13.86596433135578,
          12.272915870449614,
          9.635146775771942,
          6.7532718237427165,
          4.318572473765217,
          2.877464147714468,
          2.0614692634563383,
          1.6382551514185393,
          1.4407019553375882,
          1.3536677781156075,
          1.2911111830070265,
          1.2709087392558223,
          1.2579257532106993,
          1.2494570581011948,
          1.2493878407621861,
          1.245874094524511
         ],
         "yaxis": "y3"
        },
        {
         "error_y": {
          "array": [
           1.7022413429193632,
           1.8815776557478232,
           2.6261070045117196,
           2.527528157196352,
           2.067527819459811,
           1.267443173986631,
           0.8012409440080867,
           0.6100767434843808,
           0.489434372611892,
           0.44850094610652463,
           0.431590810196125,
           0.41588154644921266,
           0.4163599117783723,
           0.41050531933613954,
           0.41279523794186396,
           0.41269988604543373,
           0.41128025021698716
          ],
          "color": "green",
          "thickness": 0.9,
          "type": "data",
          "width": 0
         },
         "legendgroup": "40",
         "line": {
          "color": "green"
         },
         "marker": {
          "size": 3
         },
         "name": "40",
         "showlegend": false,
         "type": "scatter",
         "x": [
          1,
          2,
          4,
          8,
          16,
          32,
          64,
          128,
          256,
          512,
          1024,
          2048,
          4096,
          8192,
          16384,
          32768,
          65536
         ],
         "xaxis": "x",
         "y": [
          15.316723880959195,
          14.620236071455837,
          13.113224399528375,
          11.201990600413701,
          8.82826639098866,
          7.091808007313655,
          6.195390329711812,
          5.786766653475554,
          5.65140078458499,
          5.574653250716602,
          5.5334770145224885,
          5.505603378831742,
          5.506858798572451,
          5.495406354948829,
          5.4997959025328775,
          5.497161067847823,
          5.495980170259507
         ],
         "yaxis": "y"
        },
        {
         "error_y": {
          "array": [
           1.5816368847974964,
           1.9584863629512217,
           2.581346234444416,
           2.5422378945489257,
           1.9517598994548586,
           1.065205953958368,
           0.5065869592962681,
           0.2597189105825954,
           0.14980919825568573,
           0.11483762075312358,
           0.09949807583592819,
           0.08794104244097786,
           0.08594623687966169,
           0.08455869587867709,
           0.08277459730067036,
           0.083606407951145,
           0.08254754992003191
          ],
          "color": "green",
          "thickness": 0.9,
          "type": "data",
          "width": 0
         },
         "legendgroup": "40",
         "line": {
          "color": "green"
         },
         "marker": {
          "size": 3
         },
         "name": "40",
         "showlegend": false,
         "type": "scatter",
         "x": [
          1,
          2,
          4,
          8,
          16,
          32,
          64,
          128,
          256,
          512,
          1024,
          2048,
          4096,
          8192,
          16384,
          32768,
          65536
         ],
         "xaxis": "x2",
         "y": [
          15.053100021387822,
          14.071692237088513,
          11.781739494872333,
          9.065930941431818,
          5.700602312151804,
          3.057147112578453,
          1.5692237053427809,
          0.871022450784377,
          0.5449305167265959,
          0.3975121026553438,
          0.32835117615385595,
          0.2913497425740379,
          0.27583180542374935,
          0.26822194975355396,
          0.26457382442062116,
          0.2619135641932089,
          0.2608294663172103
         ],
         "yaxis": "y2"
        },
        {
         "error_y": {
          "array": [
           1.970859545067319,
           2.229717397598805,
           2.708803549260925,
           2.5105150232161115,
           1.762443633024019,
           0.9050443772579589,
           0.4106545497154324,
           0.2127846138415253,
           0.1383817820560018,
           0.12093076231331853,
           0.11711568913962873,
           0.11525979191635609,
           0.11274223017030435,
           0.1116686595497091,
           0.11103772156807845,
           0.11163845935849226,
           0.11082818788226811
          ],
          "color": "green",
          "thickness": 0.9,
          "type": "data",
          "width": 0
         },
         "legendgroup": "40",
         "line": {
          "color": "green"
         },
         "marker": {
          "size": 3
         },
         "name": "40",
         "showlegend": true,
         "type": "scatter",
         "x": [
          1,
          2,
          4,
          8,
          16,
          32,
          64,
          128,
          256,
          512,
          1024,
          2048,
          4096,
          8192,
          16384,
          32768,
          65536
         ],
         "xaxis": "x3",
         "y": [
          14.828845913992279,
          13.776775632813623,
          11.4306902056155,
          8.62277763424111,
          5.270725566009215,
          2.827208130056643,
          1.4887516034088006,
          0.8794214243075521,
          0.6078598660768872,
          0.4948928047183365,
          0.4357078146675359,
          0.40869591576997255,
          0.39592923094397003,
          0.38935128073628533,
          0.38615488138884607,
          0.38418499666910905,
          0.3833048081019252
         ],
         "yaxis": "y3"
        },
        {
         "error_y": {
          "array": [
           1.7508571543970237,
           2.0450663540824157,
           2.64692202897442,
           2.5918661154591067,
           1.8088211314393887,
           0.9553574095541653,
           0.5611940858094848,
           0.46645568556358175,
           0.39528947449237023,
           0.36379676325534616,
           0.3636030167615419,
           0.36194515276661693,
           0.36018088653010566,
           0.3546796819510788,
           0.35769968328697577,
           0.3566956865825892,
           0.35582911126990746
          ],
          "color": "blue",
          "thickness": 0.9,
          "type": "data",
          "width": 0
         },
         "legendgroup": "100",
         "line": {
          "color": "blue"
         },
         "marker": {
          "size": 3
         },
         "name": "100",
         "showlegend": false,
         "type": "scatter",
         "x": [
          1,
          2,
          4,
          8,
          16,
          32,
          64,
          128,
          256,
          512,
          1024,
          2048,
          4096,
          8192,
          16384,
          32768,
          65536
         ],
         "xaxis": "x",
         "y": [
          15.311249165231967,
          14.63497911249116,
          13.307043333914766,
          11.437916797140371,
          8.638909312793642,
          6.949738097430073,
          6.2241527515908945,
          5.988172913873475,
          5.874033899211565,
          5.806272519472052,
          5.779958343824814,
          5.7685236245094735,
          5.759758979580474,
          5.7571623141948995,
          5.755575055661409,
          5.756535061227039,
          5.754800059723615
         ],
         "yaxis": "y"
        },
        {
         "error_y": {
          "array": [
           1.6357390154933893,
           1.957087783402826,
           2.5851067443796985,
           2.4631575090757187,
           1.6259123980043582,
           0.7281846842062292,
           0.25575805208749053,
           0.1249618913796038,
           0.05786926274598451,
           0.03873631329522105,
           0.03558446908762395,
           0.03421569399975497,
           0.032509866558513394,
           0.030745306129113026,
           0.030976472654695334,
           0.031065685202822886,
           0.03094689025724583
          ],
          "color": "blue",
          "thickness": 0.9,
          "type": "data",
          "width": 0
         },
         "legendgroup": "100",
         "line": {
          "color": "blue"
         },
         "marker": {
          "size": 3
         },
         "name": "100",
         "showlegend": false,
         "type": "scatter",
         "x": [
          1,
          2,
          4,
          8,
          16,
          32,
          64,
          128,
          256,
          512,
          1024,
          2048,
          4096,
          8192,
          16384,
          32768,
          65536
         ],
         "xaxis": "x2",
         "y": [
          15.044031623215181,
          13.982605296233825,
          12.013035833237561,
          8.806148458882717,
          4.801222234266658,
          2.1851947696312615,
          0.9709709213928236,
          0.5060458885985474,
          0.28766169506171874,
          0.19021055650551583,
          0.1484437453308233,
          0.12812096149626384,
          0.11684715593339608,
          0.11193961059568718,
          0.10939334382779622,
          0.10833551869244878,
          0.10750987646123239
         ],
         "yaxis": "y2"
        },
        {
         "error_y": {
          "array": [
           2.1325270155915432,
           2.2501236955776878,
           2.677670802080811,
           2.3892088099202144,
           1.4103052666037323,
           0.6088252773416165,
           0.20917100783178638,
           0.1315438473431659,
           0.10387091812157316,
           0.09803484811714726,
           0.09658783054488738,
           0.09627908760100838,
           0.09649806112688657,
           0.09634991502298385,
           0.09637709863193981,
           0.09604966608066923,
           0.09606041806048192
          ],
          "color": "blue",
          "thickness": 0.9,
          "type": "data",
          "width": 0
         },
         "legendgroup": "100",
         "line": {
          "color": "blue"
         },
         "marker": {
          "size": 3
         },
         "name": "100",
         "showlegend": true,
         "type": "scatter",
         "x": [
          1,
          2,
          4,
          8,
          16,
          32,
          64,
          128,
          256,
          512,
          1024,
          2048,
          4096,
          8192,
          16384,
          32768,
          65536
         ],
         "xaxis": "x3",
         "y": [
          14.804705629380651,
          13.685446120424812,
          11.5816442384369,
          8.270040107012592,
          4.388205300605417,
          1.9673678872976017,
          0.9350259332951893,
          0.5729404930087635,
          0.4067752593038074,
          0.3364727815557084,
          0.30634553212186566,
          0.2907074108271296,
          0.28437423227622755,
          0.28046382069089343,
          0.2786289131312466,
          0.2775341027656128,
          0.27731956514128075
         ],
         "yaxis": "y3"
        },
        {
         "error_y": {
          "array": [
           1.7652138551489196,
           2.1368992665620508,
           2.5166594029794846,
           2.6748846784022833,
           1.6817812635384732,
           0.7657734423253585,
           0.4824727000139138,
           0.38257274310288,
           0.3629990022328144,
           0.35112827912529593,
           0.3409031441437685,
           0.3443997865407945,
           0.3399504160439442,
           0.3390877674262085,
           0.3412793033372532,
           0.33970121217580024,
           0.34030005500884103
          ],
          "color": "black",
          "thickness": 0.9,
          "type": "data",
          "width": 0
         },
         "legendgroup": "500",
         "line": {
          "color": "black"
         },
         "marker": {
          "size": 3
         },
         "name": "500",
         "showlegend": false,
         "type": "scatter",
         "x": [
          1,
          2,
          4,
          8,
          16,
          32,
          64,
          128,
          256,
          512,
          1024,
          2048,
          4096,
          8192,
          16384,
          32768,
          65536
         ],
         "xaxis": "x",
         "y": [
          15.34379217696429,
          14.759686012331857,
          13.619380010011604,
          11.32851315182587,
          8.738821216251539,
          7.012403351008692,
          6.250498873732959,
          5.977911575980809,
          5.9000037330448825,
          5.8732894814532735,
          5.860046265515994,
          5.8577041641924295,
          5.85419172746282,
          5.854874103763032,
          5.855002999704419,
          5.855438966017503,
          5.854559378480433
         ],
         "yaxis": "y"
        },
        {
         "error_y": {
          "array": [
           1.5362226232334113,
           2.042665905315549,
           2.7296135757621873,
           2.437791151909482,
           1.4220475988091765,
           0.5512252140762386,
           0.18822476005661098,
           0.08050451841742322,
           0.05469088324958574,
           0.050035766932449155,
           0.05074332567486589,
           0.051154382874505626,
           0.050667875936523346,
           0.05088728065898988,
           0.0508199964755727,
           0.0506530980524447,
           0.050767151850256154
          ],
          "color": "black",
          "thickness": 0.9,
          "type": "data",
          "width": 0
         },
         "legendgroup": "500",
         "line": {
          "color": "black"
         },
         "marker": {
          "size": 3
         },
         "name": "500",
         "showlegend": false,
         "type": "scatter",
         "x": [
          1,
          2,
          4,
          8,
          16,
          32,
          64,
          128,
          256,
          512,
          1024,
          2048,
          4096,
          8192,
          16384,
          32768,
          65536
         ],
         "xaxis": "x2",
         "y": [
          15.096861021175831,
          13.95744185623118,
          12.157824041851388,
          8.497875142655644,
          4.5557792254514915,
          1.9182601044807945,
          0.7517443004260493,
          0.35141033935905697,
          0.2198135545819898,
          0.1724324982152336,
          0.15609438341098486,
          0.14816863069865216,
          0.14429360608193387,
          0.14276776525089174,
          0.14192025373412614,
          0.1413448325866042,
          0.1411058182849932
         ],
         "yaxis": "y2"
        },
        {
         "error_y": {
          "array": [
           2.0893645253462276,
           2.1802353524502283,
           2.6122223143347685,
           2.4272120121432583,
           1.2460006533617132,
           0.4271073433624449,
           0.1610932218521505,
           0.09459397960107135,
           0.0811648193126993,
           0.07817671450782526,
           0.07600030574272928,
           0.07614918197386626,
           0.07562739966722871,
           0.0754907590298202,
           0.07538747671700613,
           0.07535356977719217,
           0.07527158295159975
          ],
          "color": "black",
          "thickness": 0.9,
          "type": "data",
          "width": 0
         },
         "legendgroup": "500",
         "line": {
          "color": "black"
         },
         "marker": {
          "size": 3
         },
         "name": "500",
         "showlegend": true,
         "type": "scatter",
         "x": [
          1,
          2,
          4,
          8,
          16,
          32,
          64,
          128,
          256,
          512,
          1024,
          2048,
          4096,
          8192,
          16384,
          32768,
          65536
         ],
         "xaxis": "x3",
         "y": [
          14.874260605776987,
          13.637367112979442,
          11.587835452229681,
          7.92904517722369,
          4.014700925469797,
          1.5874121512058985,
          0.6525440154266995,
          0.36255286015993776,
          0.27303383043378493,
          0.2446003392288916,
          0.23148632575337305,
          0.22661641205234273,
          0.22403963969204338,
          0.22255771779097044,
          0.2222046357732154,
          0.2218287230833717,
          0.221701905206095
         ],
         "yaxis": "y3"
        },
        {
         "error_y": {
          "array": [
           1.629923689025682,
           2.18958137524302,
           2.5939434023022447,
           2.704381196675772,
           1.5273688415132494,
           0.831588673645638,
           0.4725055325067761,
           0.37408405177958554,
           0.3469275708595989,
           0.3461497396618716,
           0.33874026721284367,
           0.3349961539188871,
           0.3385120516362646,
           0.3376817947778727,
           0.33810688431674607,
           0.338680887520385,
           0.33879703930867694
          ],
          "color": "purple",
          "thickness": 0.9,
          "type": "data",
          "width": 0
         },
         "legendgroup": "1000",
         "line": {
          "color": "purple"
         },
         "marker": {
          "size": 3
         },
         "name": "1000",
         "showlegend": false,
         "type": "scatter",
         "x": [
          1,
          2,
          4,
          8,
          16,
          32,
          64,
          128,
          256,
          512,
          1024,
          2048,
          4096,
          8192,
          16384,
          32768,
          65536
         ],
         "xaxis": "x",
         "y": [
          15.391967124364847,
          14.798403851563316,
          13.551443356734056,
          11.395474032016104,
          9.039642756599248,
          7.14454274193499,
          6.239025997876324,
          5.986442286832675,
          5.9275678280603925,
          5.910424801816909,
          5.905241117828267,
          5.898927339343323,
          5.897888244195128,
          5.897680612710806,
          5.895972658559232,
          5.896383357287251,
          5.895774450589183
         ],
         "yaxis": "y"
        },
        {
         "error_y": {
          "array": [
           1.612089634067835,
           2.089902956687882,
           2.539897150754462,
           2.588837407107127,
           1.4817626534796662,
           0.5792418291121066,
           0.21110320696931575,
           0.07847762188641742,
           0.0671984502361061,
           0.06356570366408383,
           0.0640740050641785,
           0.06195945796959338,
           0.062028110006172074,
           0.06237039772865872,
           0.062459431622158654,
           0.06282056015281308,
           0.06274017092074438
          ],
          "color": "purple",
          "thickness": 0.9,
          "type": "data",
          "width": 0
         },
         "legendgroup": "1000",
         "line": {
          "color": "purple"
         },
         "marker": {
          "size": 3
         },
         "name": "1000",
         "showlegend": false,
         "type": "scatter",
         "x": [
          1,
          2,
          4,
          8,
          16,
          32,
          64,
          128,
          256,
          512,
          1024,
          2048,
          4096,
          8192,
          16384,
          32768,
          65536
         ],
         "xaxis": "x2",
         "y": [
          14.98641123500556,
          13.963294914334913,
          11.754764923682579,
          8.67058072919431,
          4.752596691699331,
          1.9580886808526157,
          0.7232587517902604,
          0.32736243606610443,
          0.2252582975703737,
          0.19198402523197058,
          0.17879856522366355,
          0.17194115432807833,
          0.16990886289738494,
          0.1686828639794353,
          0.16814362481984008,
          0.16783598317051412,
          0.1677238550224033
         ],
         "yaxis": "y2"
        },
        {
         "error_y": {
          "array": [
           2.00106727120888,
           2.3259126109393424,
           2.5603453362493043,
           2.4162292185639553,
           1.3255035712274523,
           0.45869180029271184,
           0.1546512413488611,
           0.08922087401719268,
           0.07427973345833515,
           0.07047246486500454,
           0.06823541415198998,
           0.06790395731033734,
           0.0673313246476553,
           0.06735762013502256,
           0.06726123227141731,
           0.0672180545544977,
           0.06716934655397278
          ],
          "color": "purple",
          "thickness": 0.9,
          "type": "data",
          "width": 0
         },
         "legendgroup": "1000",
         "line": {
          "color": "purple"
         },
         "marker": {
          "size": 3
         },
         "name": "1000",
         "showlegend": true,
         "type": "scatter",
         "x": [
          1,
          2,
          4,
          8,
          16,
          32,
          64,
          128,
          256,
          512,
          1024,
          2048,
          4096,
          8192,
          16384,
          32768,
          65536
         ],
         "xaxis": "x3",
         "y": [
          14.810392335107096,
          13.698668631422878,
          11.35287988464968,
          8.040339652511188,
          4.180715949240337,
          1.5821617979269762,
          0.5937126789204652,
          0.3161001401800774,
          0.24445429406935554,
          0.22070937808042385,
          0.21008395660282378,
          0.2056368790990533,
          0.20359802751935843,
          0.20254482884570507,
          0.20206333731727855,
          0.20178813542111662,
          0.2016692857030642
         ],
         "yaxis": "y3"
        },
        {
         "error_y": {
          "array": [
           1.840452146619672,
           2.377675230206696,
           2.7015363384189954,
           2.482927701282155,
           1.5021489381494957,
           0.7742328671575981,
           0.46787953905931134,
           0.3801867357541673,
           0.34894760733760394,
           0.3414077611041158,
           0.3369334545641852,
           0.3383234738227989,
           0.34003784274730664,
           0.33888690332736837,
           0.34084645250110573,
           0.3402402160339582,
           0.33959948643400556
          ],
          "color": "orange",
          "thickness": 0.9,
          "type": "data",
          "width": 0
         },
         "legendgroup": "2000",
         "line": {
          "color": "orange"
         },
         "marker": {
          "size": 3
         },
         "name": "2000",
         "showlegend": false,
         "type": "scatter",
         "x": [
          1,
          2,
          4,
          8,
          16,
          32,
          64,
          128,
          256,
          512,
          1024,
          2048,
          4096,
          8192,
          16384,
          32768,
          65536
         ],
         "xaxis": "x",
         "y": [
          15.277868768443232,
          14.712269175411468,
          13.652354336103867,
          11.493019532997872,
          8.725088095585239,
          7.053713898993655,
          6.319259330979159,
          6.020422830230815,
          5.960927291857359,
          5.936948391904799,
          5.928481969546315,
          5.925910897079519,
          5.922898777352527,
          5.924842510733716,
          5.922448912591839,
          5.922166328366385,
          5.92340967407992
         ],
         "yaxis": "y"
        },
        {
         "error_y": {
          "array": [
           1.7166636978399092,
           2.0363166018767562,
           2.408556993966553,
           2.3553928660040317,
           1.4673803343567484,
           0.5944401873468625,
           0.18485398925466687,
           0.08536050049680949,
           0.07324549846070903,
           0.07211475935807077,
           0.07021702488406444,
           0.07136600406715955,
           0.07050764474800482,
           0.07129220899020479,
           0.07133917234621286,
           0.07118856568354559,
           0.0712019319949975
          ],
          "color": "orange",
          "thickness": 0.9,
          "type": "data",
          "width": 0
         },
         "legendgroup": "2000",
         "line": {
          "color": "orange"
         },
         "marker": {
          "size": 3
         },
         "name": "2000",
         "showlegend": false,
         "type": "scatter",
         "x": [
          1,
          2,
          4,
          8,
          16,
          32,
          64,
          128,
          256,
          512,
          1024,
          2048,
          4096,
          8192,
          16384,
          32768,
          65536
         ],
         "xaxis": "x2",
         "y": [
          14.927606168000594,
          14.017774127398845,
          11.86681311106602,
          8.756426371060885,
          4.7296185397782855,
          1.919381105182163,
          0.7108362681889614,
          0.3328621373029058,
          0.23965962241126543,
          0.21186974245967674,
          0.1995117297539344,
          0.19384608791524352,
          0.1913767924476228,
          0.1899579842403581,
          0.18934038650232016,
          0.1889057210506404,
          0.18880416136421888
         ],
         "yaxis": "y2"
        },
        {
         "error_y": {
          "array": [
           2.1202288127579303,
           2.226600379897199,
           2.4920360576461413,
           2.268053627535109,
           1.3263529774780605,
           0.44607825028649367,
           0.13767197815698576,
           0.07799104718948119,
           0.06512475080009059,
           0.06333025472659871,
           0.06076033212999559,
           0.05976315369337471,
           0.058894566107114965,
           0.05846538890046378,
           0.05848302467892657,
           0.05844092970845312,
           0.0585262106361995
          ],
          "color": "orange",
          "thickness": 0.9,
          "type": "data",
          "width": 0
         },
         "legendgroup": "2000",
         "line": {
          "color": "orange"
         },
         "marker": {
          "size": 3
         },
         "name": "2000",
         "showlegend": true,
         "type": "scatter",
         "x": [
          1,
          2,
          4,
          8,
          16,
          32,
          64,
          128,
          256,
          512,
          1024,
          2048,
          4096,
          8192,
          16384,
          32768,
          65536
         ],
         "xaxis": "x3",
         "y": [
          14.745840815796102,
          13.749298014369696,
          11.431039754363605,
          8.201078510603379,
          4.122455160753384,
          1.5301625389717892,
          0.5515007342781909,
          0.29203792624050956,
          0.22305453030461053,
          0.20007801511913637,
          0.1900892402715109,
          0.18497185214706088,
          0.18269659680965353,
          0.18147152203779954,
          0.18089424312912103,
          0.18054533557947663,
          0.18047180064147134
         ],
         "yaxis": "y3"
        }
       ],
       "layout": {
        "annotations": [
         {
          "font": {
           "size": 16
          },
          "showarrow": false,
          "text": "Test MSE (minority)",
          "x": 0.14444444444444446,
          "xanchor": "center",
          "xref": "paper",
          "y": 1,
          "yanchor": "bottom",
          "yref": "paper"
         },
         {
          "font": {
           "size": 16
          },
          "showarrow": false,
          "text": "Test MSE (majority)",
          "x": 0.5,
          "xanchor": "center",
          "xref": "paper",
          "y": 1,
          "yanchor": "bottom",
          "yref": "paper"
         },
         {
          "font": {
           "size": 16
          },
          "showarrow": false,
          "text": "Train MSE (overall)",
          "x": 0.8555555555555556,
          "xanchor": "center",
          "xref": "paper",
          "y": 1,
          "yanchor": "bottom",
          "yref": "paper"
         }
        ],
        "height": 400,
        "legend": {
         "title": {
          "text": "epochs"
         }
        },
        "template": {
         "data": {
          "bar": [
           {
            "error_x": {
             "color": "#2a3f5f"
            },
            "error_y": {
             "color": "#2a3f5f"
            },
            "marker": {
             "line": {
              "color": "#E5ECF6",
              "width": 0.5
             }
            },
            "type": "bar"
           }
          ],
          "barpolar": [
           {
            "marker": {
             "line": {
              "color": "#E5ECF6",
              "width": 0.5
             }
            },
            "type": "barpolar"
           }
          ],
          "carpet": [
           {
            "aaxis": {
             "endlinecolor": "#2a3f5f",
             "gridcolor": "white",
             "linecolor": "white",
             "minorgridcolor": "white",
             "startlinecolor": "#2a3f5f"
            },
            "baxis": {
             "endlinecolor": "#2a3f5f",
             "gridcolor": "white",
             "linecolor": "white",
             "minorgridcolor": "white",
             "startlinecolor": "#2a3f5f"
            },
            "type": "carpet"
           }
          ],
          "choropleth": [
           {
            "colorbar": {
             "outlinewidth": 0,
             "ticks": ""
            },
            "type": "choropleth"
           }
          ],
          "contour": [
           {
            "colorbar": {
             "outlinewidth": 0,
             "ticks": ""
            },
            "colorscale": [
             [
              0,
              "#0d0887"
             ],
             [
              0.1111111111111111,
              "#46039f"
             ],
             [
              0.2222222222222222,
              "#7201a8"
             ],
             [
              0.3333333333333333,
              "#9c179e"
             ],
             [
              0.4444444444444444,
              "#bd3786"
             ],
             [
              0.5555555555555556,
              "#d8576b"
             ],
             [
              0.6666666666666666,
              "#ed7953"
             ],
             [
              0.7777777777777778,
              "#fb9f3a"
             ],
             [
              0.8888888888888888,
              "#fdca26"
             ],
             [
              1,
              "#f0f921"
             ]
            ],
            "type": "contour"
           }
          ],
          "contourcarpet": [
           {
            "colorbar": {
             "outlinewidth": 0,
             "ticks": ""
            },
            "type": "contourcarpet"
           }
          ],
          "heatmap": [
           {
            "colorbar": {
             "outlinewidth": 0,
             "ticks": ""
            },
            "colorscale": [
             [
              0,
              "#0d0887"
             ],
             [
              0.1111111111111111,
              "#46039f"
             ],
             [
              0.2222222222222222,
              "#7201a8"
             ],
             [
              0.3333333333333333,
              "#9c179e"
             ],
             [
              0.4444444444444444,
              "#bd3786"
             ],
             [
              0.5555555555555556,
              "#d8576b"
             ],
             [
              0.6666666666666666,
              "#ed7953"
             ],
             [
              0.7777777777777778,
              "#fb9f3a"
             ],
             [
              0.8888888888888888,
              "#fdca26"
             ],
             [
              1,
              "#f0f921"
             ]
            ],
            "type": "heatmap"
           }
          ],
          "heatmapgl": [
           {
            "colorbar": {
             "outlinewidth": 0,
             "ticks": ""
            },
            "colorscale": [
             [
              0,
              "#0d0887"
             ],
             [
              0.1111111111111111,
              "#46039f"
             ],
             [
              0.2222222222222222,
              "#7201a8"
             ],
             [
              0.3333333333333333,
              "#9c179e"
             ],
             [
              0.4444444444444444,
              "#bd3786"
             ],
             [
              0.5555555555555556,
              "#d8576b"
             ],
             [
              0.6666666666666666,
              "#ed7953"
             ],
             [
              0.7777777777777778,
              "#fb9f3a"
             ],
             [
              0.8888888888888888,
              "#fdca26"
             ],
             [
              1,
              "#f0f921"
             ]
            ],
            "type": "heatmapgl"
           }
          ],
          "histogram": [
           {
            "marker": {
             "colorbar": {
              "outlinewidth": 0,
              "ticks": ""
             }
            },
            "type": "histogram"
           }
          ],
          "histogram2d": [
           {
            "colorbar": {
             "outlinewidth": 0,
             "ticks": ""
            },
            "colorscale": [
             [
              0,
              "#0d0887"
             ],
             [
              0.1111111111111111,
              "#46039f"
             ],
             [
              0.2222222222222222,
              "#7201a8"
             ],
             [
              0.3333333333333333,
              "#9c179e"
             ],
             [
              0.4444444444444444,
              "#bd3786"
             ],
             [
              0.5555555555555556,
              "#d8576b"
             ],
             [
              0.6666666666666666,
              "#ed7953"
             ],
             [
              0.7777777777777778,
              "#fb9f3a"
             ],
             [
              0.8888888888888888,
              "#fdca26"
             ],
             [
              1,
              "#f0f921"
             ]
            ],
            "type": "histogram2d"
           }
          ],
          "histogram2dcontour": [
           {
            "colorbar": {
             "outlinewidth": 0,
             "ticks": ""
            },
            "colorscale": [
             [
              0,
              "#0d0887"
             ],
             [
              0.1111111111111111,
              "#46039f"
             ],
             [
              0.2222222222222222,
              "#7201a8"
             ],
             [
              0.3333333333333333,
              "#9c179e"
             ],
             [
              0.4444444444444444,
              "#bd3786"
             ],
             [
              0.5555555555555556,
              "#d8576b"
             ],
             [
              0.6666666666666666,
              "#ed7953"
             ],
             [
              0.7777777777777778,
              "#fb9f3a"
             ],
             [
              0.8888888888888888,
              "#fdca26"
             ],
             [
              1,
              "#f0f921"
             ]
            ],
            "type": "histogram2dcontour"
           }
          ],
          "mesh3d": [
           {
            "colorbar": {
             "outlinewidth": 0,
             "ticks": ""
            },
            "type": "mesh3d"
           }
          ],
          "parcoords": [
           {
            "line": {
             "colorbar": {
              "outlinewidth": 0,
              "ticks": ""
             }
            },
            "type": "parcoords"
           }
          ],
          "pie": [
           {
            "automargin": true,
            "type": "pie"
           }
          ],
          "scatter": [
           {
            "marker": {
             "colorbar": {
              "outlinewidth": 0,
              "ticks": ""
             }
            },
            "type": "scatter"
           }
          ],
          "scatter3d": [
           {
            "line": {
             "colorbar": {
              "outlinewidth": 0,
              "ticks": ""
             }
            },
            "marker": {
             "colorbar": {
              "outlinewidth": 0,
              "ticks": ""
             }
            },
            "type": "scatter3d"
           }
          ],
          "scattercarpet": [
           {
            "marker": {
             "colorbar": {
              "outlinewidth": 0,
              "ticks": ""
             }
            },
            "type": "scattercarpet"
           }
          ],
          "scattergeo": [
           {
            "marker": {
             "colorbar": {
              "outlinewidth": 0,
              "ticks": ""
             }
            },
            "type": "scattergeo"
           }
          ],
          "scattergl": [
           {
            "marker": {
             "colorbar": {
              "outlinewidth": 0,
              "ticks": ""
             }
            },
            "type": "scattergl"
           }
          ],
          "scattermapbox": [
           {
            "marker": {
             "colorbar": {
              "outlinewidth": 0,
              "ticks": ""
             }
            },
            "type": "scattermapbox"
           }
          ],
          "scatterpolar": [
           {
            "marker": {
             "colorbar": {
              "outlinewidth": 0,
              "ticks": ""
             }
            },
            "type": "scatterpolar"
           }
          ],
          "scatterpolargl": [
           {
            "marker": {
             "colorbar": {
              "outlinewidth": 0,
              "ticks": ""
             }
            },
            "type": "scatterpolargl"
           }
          ],
          "scatterternary": [
           {
            "marker": {
             "colorbar": {
              "outlinewidth": 0,
              "ticks": ""
             }
            },
            "type": "scatterternary"
           }
          ],
          "surface": [
           {
            "colorbar": {
             "outlinewidth": 0,
             "ticks": ""
            },
            "colorscale": [
             [
              0,
              "#0d0887"
             ],
             [
              0.1111111111111111,
              "#46039f"
             ],
             [
              0.2222222222222222,
              "#7201a8"
             ],
             [
              0.3333333333333333,
              "#9c179e"
             ],
             [
              0.4444444444444444,
              "#bd3786"
             ],
             [
              0.5555555555555556,
              "#d8576b"
             ],
             [
              0.6666666666666666,
              "#ed7953"
             ],
             [
              0.7777777777777778,
              "#fb9f3a"
             ],
             [
              0.8888888888888888,
              "#fdca26"
             ],
             [
              1,
              "#f0f921"
             ]
            ],
            "type": "surface"
           }
          ],
          "table": [
           {
            "cells": {
             "fill": {
              "color": "#EBF0F8"
             },
             "line": {
              "color": "white"
             }
            },
            "header": {
             "fill": {
              "color": "#C8D4E3"
             },
             "line": {
              "color": "white"
             }
            },
            "type": "table"
           }
          ]
         },
         "layout": {
          "annotationdefaults": {
           "arrowcolor": "#2a3f5f",
           "arrowhead": 0,
           "arrowwidth": 1
          },
          "coloraxis": {
           "colorbar": {
            "outlinewidth": 0,
            "ticks": ""
           }
          },
          "colorscale": {
           "diverging": [
            [
             0,
             "#8e0152"
            ],
            [
             0.1,
             "#c51b7d"
            ],
            [
             0.2,
             "#de77ae"
            ],
            [
             0.3,
             "#f1b6da"
            ],
            [
             0.4,
             "#fde0ef"
            ],
            [
             0.5,
             "#f7f7f7"
            ],
            [
             0.6,
             "#e6f5d0"
            ],
            [
             0.7,
             "#b8e186"
            ],
            [
             0.8,
             "#7fbc41"
            ],
            [
             0.9,
             "#4d9221"
            ],
            [
             1,
             "#276419"
            ]
           ],
           "sequential": [
            [
             0,
             "#0d0887"
            ],
            [
             0.1111111111111111,
             "#46039f"
            ],
            [
             0.2222222222222222,
             "#7201a8"
            ],
            [
             0.3333333333333333,
             "#9c179e"
            ],
            [
             0.4444444444444444,
             "#bd3786"
            ],
            [
             0.5555555555555556,
             "#d8576b"
            ],
            [
             0.6666666666666666,
             "#ed7953"
            ],
            [
             0.7777777777777778,
             "#fb9f3a"
            ],
            [
             0.8888888888888888,
             "#fdca26"
            ],
            [
             1,
             "#f0f921"
            ]
           ],
           "sequentialminus": [
            [
             0,
             "#0d0887"
            ],
            [
             0.1111111111111111,
             "#46039f"
            ],
            [
             0.2222222222222222,
             "#7201a8"
            ],
            [
             0.3333333333333333,
             "#9c179e"
            ],
            [
             0.4444444444444444,
             "#bd3786"
            ],
            [
             0.5555555555555556,
             "#d8576b"
            ],
            [
             0.6666666666666666,
             "#ed7953"
            ],
            [
             0.7777777777777778,
             "#fb9f3a"
            ],
            [
             0.8888888888888888,
             "#fdca26"
            ],
            [
             1,
             "#f0f921"
            ]
           ]
          },
          "colorway": [
           "#636efa",
           "#EF553B",
           "#00cc96",
           "#ab63fa",
           "#FFA15A",
           "#19d3f3",
           "#FF6692",
           "#B6E880",
           "#FF97FF",
           "#FECB52"
          ],
          "font": {
           "color": "#2a3f5f"
          },
          "geo": {
           "bgcolor": "white",
           "lakecolor": "white",
           "landcolor": "#E5ECF6",
           "showlakes": true,
           "showland": true,
           "subunitcolor": "white"
          },
          "hoverlabel": {
           "align": "left"
          },
          "hovermode": "closest",
          "mapbox": {
           "style": "light"
          },
          "paper_bgcolor": "white",
          "plot_bgcolor": "#E5ECF6",
          "polar": {
           "angularaxis": {
            "gridcolor": "white",
            "linecolor": "white",
            "ticks": ""
           },
           "bgcolor": "#E5ECF6",
           "radialaxis": {
            "gridcolor": "white",
            "linecolor": "white",
            "ticks": ""
           }
          },
          "scene": {
           "xaxis": {
            "backgroundcolor": "#E5ECF6",
            "gridcolor": "white",
            "gridwidth": 2,
            "linecolor": "white",
            "showbackground": true,
            "ticks": "",
            "zerolinecolor": "white"
           },
           "yaxis": {
            "backgroundcolor": "#E5ECF6",
            "gridcolor": "white",
            "gridwidth": 2,
            "linecolor": "white",
            "showbackground": true,
            "ticks": "",
            "zerolinecolor": "white"
           },
           "zaxis": {
            "backgroundcolor": "#E5ECF6",
            "gridcolor": "white",
            "gridwidth": 2,
            "linecolor": "white",
            "showbackground": true,
            "ticks": "",
            "zerolinecolor": "white"
           }
          },
          "shapedefaults": {
           "line": {
            "color": "#2a3f5f"
           }
          },
          "ternary": {
           "aaxis": {
            "gridcolor": "white",
            "linecolor": "white",
            "ticks": ""
           },
           "baxis": {
            "gridcolor": "white",
            "linecolor": "white",
            "ticks": ""
           },
           "bgcolor": "#E5ECF6",
           "caxis": {
            "gridcolor": "white",
            "linecolor": "white",
            "ticks": ""
           }
          },
          "title": {
           "x": 0.05
          },
          "xaxis": {
           "automargin": true,
           "gridcolor": "white",
           "linecolor": "white",
           "ticks": "",
           "title": {
            "standoff": 15
           },
           "zerolinecolor": "white",
           "zerolinewidth": 2
          },
          "yaxis": {
           "automargin": true,
           "gridcolor": "white",
           "linecolor": "white",
           "ticks": "",
           "title": {
            "standoff": 15
           },
           "zerolinecolor": "white",
           "zerolinewidth": 2
          }
         }
        },
        "title": {
         "text": "$\\|\\beta\\|_2^2$: 16, Trainable: last layer"
        },
        "width": 1000,
        "xaxis": {
         "anchor": "y",
         "domain": [
          0,
          0.2888888888888889
         ],
         "title": {
          "text": "nodes"
         },
         "type": "log"
        },
        "xaxis2": {
         "anchor": "y2",
         "domain": [
          0.35555555555555557,
          0.6444444444444445
         ],
         "title": {
          "text": "nodes"
         },
         "type": "log"
        },
        "xaxis3": {
         "anchor": "y3",
         "domain": [
          0.7111111111111111,
          1
         ],
         "title": {
          "text": "nodes"
         },
         "type": "log"
        },
        "yaxis": {
         "anchor": "x",
         "domain": [
          0,
          1
         ]
        },
        "yaxis2": {
         "anchor": "x2",
         "domain": [
          0,
          1
         ]
        },
        "yaxis3": {
         "anchor": "x3",
         "domain": [
          0,
          1
         ]
        }
       }
      }
     },
     "metadata": {}
    },
    {
     "output_type": "execute_result",
     "data": {
      "text/plain": [
       "'html_plots/trainable_last_large_beta.html'"
      ]
     },
     "metadata": {},
     "execution_count": 4
    }
   ],
   "source": [
    "epochs_list = np.unique(df['epochs'])\n",
    "color_list=['red', 'green', 'blue', 'black', 'purple', 'orange']\n",
    "\n",
    "from plotly.subplots import make_subplots\n",
    "import plotly.graph_objects as go\n",
    "import plotly\n",
    "fig = make_subplots(rows = 1, cols=3, subplot_titles=['Test MSE (minority)', 'Test MSE (majority)', 'Train MSE (overall)'])\n",
    "for epochs, color in zip(epochs_list, color_list):\n",
    "    line = go.scatter.Line(color = color)\n",
    "    result1 = result.loc[result['epochs']==epochs]\n",
    "    nodes, mean, std, count = result1['nodes'], result1['minority-mse']['mean'], result1['minority-mse']['std'],\\\n",
    "     result1['minority-mse']['count']\n",
    "    error_y = dict(type = 'data', array = std, color = color, width = 0, thickness = 0.9)\n",
    "    marker = dict(size = 3)\n",
    "    fig.append_trace(go.Scatter(x = nodes, y = mean, line = line, error_y = error_y, marker = marker, name = str(epochs),\\\n",
    "         legendgroup = str(epochs), showlegend = False), row = 1, col = 1)\n",
    "\n",
    "    mean, std, count = result1['majority-mse']['mean'], result1['majority-mse']['std'], result1['majority-mse']['count']\n",
    "    error_y['array'] = std\n",
    "    fig.append_trace(go.Scatter(x = nodes, y = mean, line = line,  error_y = error_y, marker = marker, name = str(epochs),\\\n",
    "        legendgroup = str(epochs), showlegend = False), row = 1, col = 2)\n",
    "\n",
    "    mean, std, count = result1['train-mse']['mean'], result1['train-mse']['std'], result1['train-mse']['count']\n",
    "    error_y['array'] = std\n",
    "    fig.append_trace(go.Scatter(x = nodes, y = mean, line = line, error_y = error_y, marker = marker,  name = str(epochs),\\\n",
    "        legendgroup = str(epochs), showlegend = True), row = 1, col = 3)\n",
    "\n",
    "\n",
    "fig.update_xaxes(type = 'log', title = 'nodes')\n",
    "fig.update_layout(height = 400, width = 1000, legend_title_text='epochs', title = plotly_title)\n",
    "\n",
    "fig.show()\n",
    "plotly.offline.plot(fig, filename = 'html_plots/' + filename + '.html')"
   ]
  },
  {
   "cell_type": "code",
   "execution_count": null,
   "metadata": {},
   "outputs": [],
   "source": []
  }
 ]
}