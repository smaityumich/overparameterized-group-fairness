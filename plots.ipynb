{
 "metadata": {
  "language_info": {
   "codemirror_mode": {
    "name": "ipython",
    "version": 3
   },
   "file_extension": ".py",
   "mimetype": "text/x-python",
   "name": "python",
   "nbconvert_exporter": "python",
   "pygments_lexer": "ipython3",
   "version": "3.7.6-final"
  },
  "orig_nbformat": 2,
  "kernelspec": {
   "name": "python37664bitd090249c0cf5439884290524b93fde75",
   "display_name": "Python 3.7.6 64-bit",
   "language": "python"
  }
 },
 "nbformat": 4,
 "nbformat_minor": 2,
 "cells": [
  {
   "cell_type": "code",
   "execution_count": 1,
   "metadata": {},
   "outputs": [
    {
     "output_type": "execute_result",
     "data": {
      "text/plain": [
       "nodes             int64\n",
       "epochs            int64\n",
       "train-mse       float64\n",
       "majority-mse    float64\n",
       "minority-mse    float64\n",
       "dtype: object"
      ]
     },
     "metadata": {},
     "execution_count": 1
    }
   ],
   "source": [
    "import re\n",
    "import pandas as pd\n",
    "import numpy as np\n",
    "import matplotlib.pyplot as plt\n",
    "filename = 'trainable_last_large_beta'\n",
    "image_title = '$\\\\|\\\\beta\\\\|_2^2$: 16, Trainable: last layer'\n",
    "plotly_title = r'$\\|\\beta\\|_2^2$: 16, Trainable: last layer'\n",
    "exp = 'summary/' + filename + '.txt'\n",
    "with open(exp) as fh:\n",
    "    out = fh.read()\n",
    "\n",
    "out = re.split(r'\\n', out)\n",
    "\n",
    "dict_list = []\n",
    "for d in out:\n",
    "    try:\n",
    "        f = eval(d)\n",
    "        dict_list.append(f)\n",
    "    except:\n",
    "        continue\n",
    "\n",
    "#dict_list = [eval(d) for d in out]\n",
    "df = pd.DataFrame(dict_list)\n",
    "#df['lipton-excess'] = (df['lipton'] - df['bayes_error']).astype('float32') \n",
    "#df['oracle-excess'] = (df['oracle'] - df['bayes_error']).astype('float32') \n",
    "df.dtypes"
   ]
  },
  {
   "cell_type": "code",
   "execution_count": 2,
   "metadata": {
    "tags": []
   },
   "outputs": [
    {
     "output_type": "execute_result",
     "data": {
      "text/plain": [
       "     nodes epochs  train-mse                 majority-mse                  \\\n",
       "                        mean       std count         mean       std count   \n",
       "0        1     20  14.867621  1.947895   299    15.032770  1.523842   299   \n",
       "1        1     40  14.828846  1.970860   299    15.053100  1.581637   299   \n",
       "2        1    100  14.804706  2.132527   299    15.044032  1.635739   299   \n",
       "3        1    500  14.874261  2.089365   299    15.096861  1.536223   299   \n",
       "4        1   1000  14.810392  2.001067   299    14.986411  1.612090   299   \n",
       "..     ...    ...        ...       ...   ...          ...       ...   ...   \n",
       "97   65536     40   0.383305  0.110828   299     0.260829  0.082548   299   \n",
       "98   65536    100   0.277320  0.096060   299     0.107510  0.030947   299   \n",
       "99   65536    500   0.221702  0.075272   299     0.141106  0.050767   299   \n",
       "100  65536   1000   0.201669  0.067169   299     0.167724  0.062740   299   \n",
       "101  65536   2000   0.180472  0.058526   299     0.188804  0.071202   299   \n",
       "\n",
       "    minority-mse                  \n",
       "            mean       std count  \n",
       "0      15.286181  1.419148   299  \n",
       "1      15.316724  1.702241   299  \n",
       "2      15.311249  1.750857   299  \n",
       "3      15.343792  1.765214   299  \n",
       "4      15.391967  1.629924   299  \n",
       "..           ...       ...   ...  \n",
       "97      5.495980  0.411280   299  \n",
       "98      5.754800  0.355829   299  \n",
       "99      5.854559  0.340300   299  \n",
       "100     5.895774  0.338797   299  \n",
       "101     5.923410  0.339599   299  \n",
       "\n",
       "[102 rows x 11 columns]"
      ],
      "text/html": "<div>\n<style scoped>\n    .dataframe tbody tr th:only-of-type {\n        vertical-align: middle;\n    }\n\n    .dataframe tbody tr th {\n        vertical-align: top;\n    }\n\n    .dataframe thead tr th {\n        text-align: left;\n    }\n</style>\n<table border=\"1\" class=\"dataframe\">\n  <thead>\n    <tr>\n      <th></th>\n      <th>nodes</th>\n      <th>epochs</th>\n      <th colspan=\"3\" halign=\"left\">train-mse</th>\n      <th colspan=\"3\" halign=\"left\">majority-mse</th>\n      <th colspan=\"3\" halign=\"left\">minority-mse</th>\n    </tr>\n    <tr>\n      <th></th>\n      <th></th>\n      <th></th>\n      <th>mean</th>\n      <th>std</th>\n      <th>count</th>\n      <th>mean</th>\n      <th>std</th>\n      <th>count</th>\n      <th>mean</th>\n      <th>std</th>\n      <th>count</th>\n    </tr>\n  </thead>\n  <tbody>\n    <tr>\n      <th>0</th>\n      <td>1</td>\n      <td>20</td>\n      <td>14.867621</td>\n      <td>1.947895</td>\n      <td>299</td>\n      <td>15.032770</td>\n      <td>1.523842</td>\n      <td>299</td>\n      <td>15.286181</td>\n      <td>1.419148</td>\n      <td>299</td>\n    </tr>\n    <tr>\n      <th>1</th>\n      <td>1</td>\n      <td>40</td>\n      <td>14.828846</td>\n      <td>1.970860</td>\n      <td>299</td>\n      <td>15.053100</td>\n      <td>1.581637</td>\n      <td>299</td>\n      <td>15.316724</td>\n      <td>1.702241</td>\n      <td>299</td>\n    </tr>\n    <tr>\n      <th>2</th>\n      <td>1</td>\n      <td>100</td>\n      <td>14.804706</td>\n      <td>2.132527</td>\n      <td>299</td>\n      <td>15.044032</td>\n      <td>1.635739</td>\n      <td>299</td>\n      <td>15.311249</td>\n      <td>1.750857</td>\n      <td>299</td>\n    </tr>\n    <tr>\n      <th>3</th>\n      <td>1</td>\n      <td>500</td>\n      <td>14.874261</td>\n      <td>2.089365</td>\n      <td>299</td>\n      <td>15.096861</td>\n      <td>1.536223</td>\n      <td>299</td>\n      <td>15.343792</td>\n      <td>1.765214</td>\n      <td>299</td>\n    </tr>\n    <tr>\n      <th>4</th>\n      <td>1</td>\n      <td>1000</td>\n      <td>14.810392</td>\n      <td>2.001067</td>\n      <td>299</td>\n      <td>14.986411</td>\n      <td>1.612090</td>\n      <td>299</td>\n      <td>15.391967</td>\n      <td>1.629924</td>\n      <td>299</td>\n    </tr>\n    <tr>\n      <th>...</th>\n      <td>...</td>\n      <td>...</td>\n      <td>...</td>\n      <td>...</td>\n      <td>...</td>\n      <td>...</td>\n      <td>...</td>\n      <td>...</td>\n      <td>...</td>\n      <td>...</td>\n      <td>...</td>\n    </tr>\n    <tr>\n      <th>97</th>\n      <td>65536</td>\n      <td>40</td>\n      <td>0.383305</td>\n      <td>0.110828</td>\n      <td>299</td>\n      <td>0.260829</td>\n      <td>0.082548</td>\n      <td>299</td>\n      <td>5.495980</td>\n      <td>0.411280</td>\n      <td>299</td>\n    </tr>\n    <tr>\n      <th>98</th>\n      <td>65536</td>\n      <td>100</td>\n      <td>0.277320</td>\n      <td>0.096060</td>\n      <td>299</td>\n      <td>0.107510</td>\n      <td>0.030947</td>\n      <td>299</td>\n      <td>5.754800</td>\n      <td>0.355829</td>\n      <td>299</td>\n    </tr>\n    <tr>\n      <th>99</th>\n      <td>65536</td>\n      <td>500</td>\n      <td>0.221702</td>\n      <td>0.075272</td>\n      <td>299</td>\n      <td>0.141106</td>\n      <td>0.050767</td>\n      <td>299</td>\n      <td>5.854559</td>\n      <td>0.340300</td>\n      <td>299</td>\n    </tr>\n    <tr>\n      <th>100</th>\n      <td>65536</td>\n      <td>1000</td>\n      <td>0.201669</td>\n      <td>0.067169</td>\n      <td>299</td>\n      <td>0.167724</td>\n      <td>0.062740</td>\n      <td>299</td>\n      <td>5.895774</td>\n      <td>0.338797</td>\n      <td>299</td>\n    </tr>\n    <tr>\n      <th>101</th>\n      <td>65536</td>\n      <td>2000</td>\n      <td>0.180472</td>\n      <td>0.058526</td>\n      <td>299</td>\n      <td>0.188804</td>\n      <td>0.071202</td>\n      <td>299</td>\n      <td>5.923410</td>\n      <td>0.339599</td>\n      <td>299</td>\n    </tr>\n  </tbody>\n</table>\n<p>102 rows × 11 columns</p>\n</div>"
     },
     "metadata": {},
     "execution_count": 2
    }
   ],
   "source": [
    "measure = ['train-mse', 'majority-mse', 'minority-mse']\n",
    "agg_dict = dict()\n",
    "for key in measure:\n",
    "    agg_dict[key] = ['mean', 'std', 'count']\n",
    "result = df.groupby(['nodes', 'epochs'], as_index=False).agg(agg_dict)\n",
    "result"
   ]
  },
  {
   "cell_type": "code",
   "execution_count": 3,
   "metadata": {},
   "outputs": [
    {
     "output_type": "display_data",
     "data": {
      "text/plain": "<Figure size 1296x360 with 3 Axes>",
      "image/svg+xml": "<?xml version=\"1.0\" encoding=\"utf-8\" standalone=\"no\"?>\n<!DOCTYPE svg PUBLIC \"-//W3C//DTD SVG 1.1//EN\"\n  \"http://www.w3.org/Graphics/SVG/1.1/DTD/svg11.dtd\">\n<!-- Created with matplotlib (https://matplotlib.org/) -->\n<svg height=\"352.55625pt\" version=\"1.1\" viewBox=\"0 0 1066.004861 352.55625\" width=\"1066.004861pt\" xmlns=\"http://www.w3.org/2000/svg\" xmlns:xlink=\"http://www.w3.org/1999/xlink\">\n <defs>\n  <style type=\"text/css\">\n*{stroke-linecap:butt;stroke-linejoin:round;}\n  </style>\n </defs>\n <g id=\"figure_1\">\n  <g id=\"patch_1\">\n   <path d=\"M 0 352.55625 \nL 1066.004861 352.55625 \nL 1066.004861 0 \nL 0 0 \nz\n\" style=\"fill:none;\"/>\n  </g>\n  <g id=\"axes_1\">\n   <g id=\"patch_2\">\n    <path d=\"M 48.8 315 \nL 344.211765 315 \nL 344.211765 43.2 \nL 48.8 43.2 \nz\n\" style=\"fill:#ffffff;\"/>\n   </g>\n   <g id=\"matplotlib.axis_1\">\n    <g id=\"xtick_1\">\n     <g id=\"line2d_1\">\n      <defs>\n       <path d=\"M 0 0 \nL 0 3.5 \n\" id=\"m7dcdef6c59\" style=\"stroke:#000000;stroke-width:0.8;\"/>\n      </defs>\n      <g>\n       <use style=\"stroke:#000000;stroke-width:0.8;\" x=\"62.227807\" xlink:href=\"#m7dcdef6c59\" y=\"315\"/>\n      </g>\n     </g>\n     <g id=\"text_1\">\n      <!-- $\\mathdefault{10^{0}}$ -->\n      <defs>\n       <path d=\"M 12.40625 8.296875 \nL 28.515625 8.296875 \nL 28.515625 63.921875 \nL 10.984375 60.40625 \nL 10.984375 69.390625 \nL 28.421875 72.90625 \nL 38.28125 72.90625 \nL 38.28125 8.296875 \nL 54.390625 8.296875 \nL 54.390625 0 \nL 12.40625 0 \nz\n\" id=\"DejaVuSans-49\"/>\n       <path d=\"M 31.78125 66.40625 \nQ 24.171875 66.40625 20.328125 58.90625 \nQ 16.5 51.421875 16.5 36.375 \nQ 16.5 21.390625 20.328125 13.890625 \nQ 24.171875 6.390625 31.78125 6.390625 \nQ 39.453125 6.390625 43.28125 13.890625 \nQ 47.125 21.390625 47.125 36.375 \nQ 47.125 51.421875 43.28125 58.90625 \nQ 39.453125 66.40625 31.78125 66.40625 \nz\nM 31.78125 74.21875 \nQ 44.046875 74.21875 50.515625 64.515625 \nQ 56.984375 54.828125 56.984375 36.375 \nQ 56.984375 17.96875 50.515625 8.265625 \nQ 44.046875 -1.421875 31.78125 -1.421875 \nQ 19.53125 -1.421875 13.0625 8.265625 \nQ 6.59375 17.96875 6.59375 36.375 \nQ 6.59375 54.828125 13.0625 64.515625 \nQ 19.53125 74.21875 31.78125 74.21875 \nz\n\" id=\"DejaVuSans-48\"/>\n      </defs>\n      <g transform=\"translate(53.427807 329.598437)scale(0.1 -0.1)\">\n       <use transform=\"translate(0 0.765625)\" xlink:href=\"#DejaVuSans-49\"/>\n       <use transform=\"translate(63.623047 0.765625)\" xlink:href=\"#DejaVuSans-48\"/>\n       <use transform=\"translate(128.203125 39.046875)scale(0.7)\" xlink:href=\"#DejaVuSans-48\"/>\n      </g>\n     </g>\n    </g>\n    <g id=\"xtick_2\">\n     <g id=\"line2d_2\">\n      <g>\n       <use style=\"stroke:#000000;stroke-width:0.8;\" x=\"117.985571\" xlink:href=\"#m7dcdef6c59\" y=\"315\"/>\n      </g>\n     </g>\n     <g id=\"text_2\">\n      <!-- $\\mathdefault{10^{1}}$ -->\n      <g transform=\"translate(109.185571 329.598437)scale(0.1 -0.1)\">\n       <use transform=\"translate(0 0.684375)\" xlink:href=\"#DejaVuSans-49\"/>\n       <use transform=\"translate(63.623047 0.684375)\" xlink:href=\"#DejaVuSans-48\"/>\n       <use transform=\"translate(128.203125 38.965625)scale(0.7)\" xlink:href=\"#DejaVuSans-49\"/>\n      </g>\n     </g>\n    </g>\n    <g id=\"xtick_3\">\n     <g id=\"line2d_3\">\n      <g>\n       <use style=\"stroke:#000000;stroke-width:0.8;\" x=\"173.743335\" xlink:href=\"#m7dcdef6c59\" y=\"315\"/>\n      </g>\n     </g>\n     <g id=\"text_3\">\n      <!-- $\\mathdefault{10^{2}}$ -->\n      <defs>\n       <path d=\"M 19.1875 8.296875 \nL 53.609375 8.296875 \nL 53.609375 0 \nL 7.328125 0 \nL 7.328125 8.296875 \nQ 12.9375 14.109375 22.625 23.890625 \nQ 32.328125 33.6875 34.8125 36.53125 \nQ 39.546875 41.84375 41.421875 45.53125 \nQ 43.3125 49.21875 43.3125 52.78125 \nQ 43.3125 58.59375 39.234375 62.25 \nQ 35.15625 65.921875 28.609375 65.921875 \nQ 23.96875 65.921875 18.8125 64.3125 \nQ 13.671875 62.703125 7.8125 59.421875 \nL 7.8125 69.390625 \nQ 13.765625 71.78125 18.9375 73 \nQ 24.125 74.21875 28.421875 74.21875 \nQ 39.75 74.21875 46.484375 68.546875 \nQ 53.21875 62.890625 53.21875 53.421875 \nQ 53.21875 48.921875 51.53125 44.890625 \nQ 49.859375 40.875 45.40625 35.40625 \nQ 44.1875 33.984375 37.640625 27.21875 \nQ 31.109375 20.453125 19.1875 8.296875 \nz\n\" id=\"DejaVuSans-50\"/>\n      </defs>\n      <g transform=\"translate(164.943335 329.598437)scale(0.1 -0.1)\">\n       <use transform=\"translate(0 0.765625)\" xlink:href=\"#DejaVuSans-49\"/>\n       <use transform=\"translate(63.623047 0.765625)\" xlink:href=\"#DejaVuSans-48\"/>\n       <use transform=\"translate(128.203125 39.046875)scale(0.7)\" xlink:href=\"#DejaVuSans-50\"/>\n      </g>\n     </g>\n    </g>\n    <g id=\"xtick_4\">\n     <g id=\"line2d_4\">\n      <g>\n       <use style=\"stroke:#000000;stroke-width:0.8;\" x=\"229.501099\" xlink:href=\"#m7dcdef6c59\" y=\"315\"/>\n      </g>\n     </g>\n     <g id=\"text_4\">\n      <!-- $\\mathdefault{10^{3}}$ -->\n      <defs>\n       <path d=\"M 40.578125 39.3125 \nQ 47.65625 37.796875 51.625 33 \nQ 55.609375 28.21875 55.609375 21.1875 \nQ 55.609375 10.40625 48.1875 4.484375 \nQ 40.765625 -1.421875 27.09375 -1.421875 \nQ 22.515625 -1.421875 17.65625 -0.515625 \nQ 12.796875 0.390625 7.625 2.203125 \nL 7.625 11.71875 \nQ 11.71875 9.328125 16.59375 8.109375 \nQ 21.484375 6.890625 26.8125 6.890625 \nQ 36.078125 6.890625 40.9375 10.546875 \nQ 45.796875 14.203125 45.796875 21.1875 \nQ 45.796875 27.640625 41.28125 31.265625 \nQ 36.765625 34.90625 28.71875 34.90625 \nL 20.21875 34.90625 \nL 20.21875 43.015625 \nL 29.109375 43.015625 \nQ 36.375 43.015625 40.234375 45.921875 \nQ 44.09375 48.828125 44.09375 54.296875 \nQ 44.09375 59.90625 40.109375 62.90625 \nQ 36.140625 65.921875 28.71875 65.921875 \nQ 24.65625 65.921875 20.015625 65.03125 \nQ 15.375 64.15625 9.8125 62.3125 \nL 9.8125 71.09375 \nQ 15.4375 72.65625 20.34375 73.4375 \nQ 25.25 74.21875 29.59375 74.21875 \nQ 40.828125 74.21875 47.359375 69.109375 \nQ 53.90625 64.015625 53.90625 55.328125 \nQ 53.90625 49.265625 50.4375 45.09375 \nQ 46.96875 40.921875 40.578125 39.3125 \nz\n\" id=\"DejaVuSans-51\"/>\n      </defs>\n      <g transform=\"translate(220.701099 329.598437)scale(0.1 -0.1)\">\n       <use transform=\"translate(0 0.765625)\" xlink:href=\"#DejaVuSans-49\"/>\n       <use transform=\"translate(63.623047 0.765625)\" xlink:href=\"#DejaVuSans-48\"/>\n       <use transform=\"translate(128.203125 39.046875)scale(0.7)\" xlink:href=\"#DejaVuSans-51\"/>\n      </g>\n     </g>\n    </g>\n    <g id=\"xtick_5\">\n     <g id=\"line2d_5\">\n      <g>\n       <use style=\"stroke:#000000;stroke-width:0.8;\" x=\"285.258862\" xlink:href=\"#m7dcdef6c59\" y=\"315\"/>\n      </g>\n     </g>\n     <g id=\"text_5\">\n      <!-- $\\mathdefault{10^{4}}$ -->\n      <defs>\n       <path d=\"M 37.796875 64.3125 \nL 12.890625 25.390625 \nL 37.796875 25.390625 \nz\nM 35.203125 72.90625 \nL 47.609375 72.90625 \nL 47.609375 25.390625 \nL 58.015625 25.390625 \nL 58.015625 17.1875 \nL 47.609375 17.1875 \nL 47.609375 0 \nL 37.796875 0 \nL 37.796875 17.1875 \nL 4.890625 17.1875 \nL 4.890625 26.703125 \nz\n\" id=\"DejaVuSans-52\"/>\n      </defs>\n      <g transform=\"translate(276.458862 329.598437)scale(0.1 -0.1)\">\n       <use transform=\"translate(0 0.684375)\" xlink:href=\"#DejaVuSans-49\"/>\n       <use transform=\"translate(63.623047 0.684375)\" xlink:href=\"#DejaVuSans-48\"/>\n       <use transform=\"translate(128.203125 38.965625)scale(0.7)\" xlink:href=\"#DejaVuSans-52\"/>\n      </g>\n     </g>\n    </g>\n    <g id=\"xtick_6\">\n     <g id=\"line2d_6\">\n      <g>\n       <use style=\"stroke:#000000;stroke-width:0.8;\" x=\"341.016626\" xlink:href=\"#m7dcdef6c59\" y=\"315\"/>\n      </g>\n     </g>\n     <g id=\"text_6\">\n      <!-- $\\mathdefault{10^{5}}$ -->\n      <defs>\n       <path d=\"M 10.796875 72.90625 \nL 49.515625 72.90625 \nL 49.515625 64.59375 \nL 19.828125 64.59375 \nL 19.828125 46.734375 \nQ 21.96875 47.46875 24.109375 47.828125 \nQ 26.265625 48.1875 28.421875 48.1875 \nQ 40.625 48.1875 47.75 41.5 \nQ 54.890625 34.8125 54.890625 23.390625 \nQ 54.890625 11.625 47.5625 5.09375 \nQ 40.234375 -1.421875 26.90625 -1.421875 \nQ 22.3125 -1.421875 17.546875 -0.640625 \nQ 12.796875 0.140625 7.71875 1.703125 \nL 7.71875 11.625 \nQ 12.109375 9.234375 16.796875 8.0625 \nQ 21.484375 6.890625 26.703125 6.890625 \nQ 35.15625 6.890625 40.078125 11.328125 \nQ 45.015625 15.765625 45.015625 23.390625 \nQ 45.015625 31 40.078125 35.4375 \nQ 35.15625 39.890625 26.703125 39.890625 \nQ 22.75 39.890625 18.8125 39.015625 \nQ 14.890625 38.140625 10.796875 36.28125 \nz\n\" id=\"DejaVuSans-53\"/>\n      </defs>\n      <g transform=\"translate(332.216626 329.598437)scale(0.1 -0.1)\">\n       <use transform=\"translate(0 0.684375)\" xlink:href=\"#DejaVuSans-49\"/>\n       <use transform=\"translate(63.623047 0.684375)\" xlink:href=\"#DejaVuSans-48\"/>\n       <use transform=\"translate(128.203125 38.965625)scale(0.7)\" xlink:href=\"#DejaVuSans-53\"/>\n      </g>\n     </g>\n    </g>\n    <g id=\"xtick_7\">\n     <g id=\"line2d_7\">\n      <defs>\n       <path d=\"M 0 0 \nL 0 2 \n\" id=\"mc93e686c97\" style=\"stroke:#000000;stroke-width:0.6;\"/>\n      </defs>\n      <g>\n       <use style=\"stroke:#000000;stroke-width:0.6;\" x=\"49.858017\" xlink:href=\"#mc93e686c97\" y=\"315\"/>\n      </g>\n     </g>\n    </g>\n    <g id=\"xtick_8\">\n     <g id=\"line2d_8\">\n      <g>\n       <use style=\"stroke:#000000;stroke-width:0.6;\" x=\"53.590821\" xlink:href=\"#mc93e686c97\" y=\"315\"/>\n      </g>\n     </g>\n    </g>\n    <g id=\"xtick_9\">\n     <g id=\"line2d_9\">\n      <g>\n       <use style=\"stroke:#000000;stroke-width:0.6;\" x=\"56.824322\" xlink:href=\"#mc93e686c97\" y=\"315\"/>\n      </g>\n     </g>\n    </g>\n    <g id=\"xtick_10\">\n     <g id=\"line2d_10\">\n      <g>\n       <use style=\"stroke:#000000;stroke-width:0.6;\" x=\"59.676472\" xlink:href=\"#mc93e686c97\" y=\"315\"/>\n      </g>\n     </g>\n    </g>\n    <g id=\"xtick_11\">\n     <g id=\"line2d_11\">\n      <g>\n       <use style=\"stroke:#000000;stroke-width:0.6;\" x=\"79.012567\" xlink:href=\"#mc93e686c97\" y=\"315\"/>\n      </g>\n     </g>\n    </g>\n    <g id=\"xtick_12\">\n     <g id=\"line2d_12\">\n      <g>\n       <use style=\"stroke:#000000;stroke-width:0.6;\" x=\"88.831022\" xlink:href=\"#mc93e686c97\" y=\"315\"/>\n      </g>\n     </g>\n    </g>\n    <g id=\"xtick_13\">\n     <g id=\"line2d_13\">\n      <g>\n       <use style=\"stroke:#000000;stroke-width:0.6;\" x=\"95.797326\" xlink:href=\"#mc93e686c97\" y=\"315\"/>\n      </g>\n     </g>\n    </g>\n    <g id=\"xtick_14\">\n     <g id=\"line2d_14\">\n      <g>\n       <use style=\"stroke:#000000;stroke-width:0.6;\" x=\"101.200812\" xlink:href=\"#mc93e686c97\" y=\"315\"/>\n      </g>\n     </g>\n    </g>\n    <g id=\"xtick_15\">\n     <g id=\"line2d_15\">\n      <g>\n       <use style=\"stroke:#000000;stroke-width:0.6;\" x=\"105.615781\" xlink:href=\"#mc93e686c97\" y=\"315\"/>\n      </g>\n     </g>\n    </g>\n    <g id=\"xtick_16\">\n     <g id=\"line2d_16\">\n      <g>\n       <use style=\"stroke:#000000;stroke-width:0.6;\" x=\"109.348584\" xlink:href=\"#mc93e686c97\" y=\"315\"/>\n      </g>\n     </g>\n    </g>\n    <g id=\"xtick_17\">\n     <g id=\"line2d_17\">\n      <g>\n       <use style=\"stroke:#000000;stroke-width:0.6;\" x=\"112.582086\" xlink:href=\"#mc93e686c97\" y=\"315\"/>\n      </g>\n     </g>\n    </g>\n    <g id=\"xtick_18\">\n     <g id=\"line2d_18\">\n      <g>\n       <use style=\"stroke:#000000;stroke-width:0.6;\" x=\"115.434236\" xlink:href=\"#mc93e686c97\" y=\"315\"/>\n      </g>\n     </g>\n    </g>\n    <g id=\"xtick_19\">\n     <g id=\"line2d_19\">\n      <g>\n       <use style=\"stroke:#000000;stroke-width:0.6;\" x=\"134.770331\" xlink:href=\"#mc93e686c97\" y=\"315\"/>\n      </g>\n     </g>\n    </g>\n    <g id=\"xtick_20\">\n     <g id=\"line2d_20\">\n      <g>\n       <use style=\"stroke:#000000;stroke-width:0.6;\" x=\"144.588785\" xlink:href=\"#mc93e686c97\" y=\"315\"/>\n      </g>\n     </g>\n    </g>\n    <g id=\"xtick_21\">\n     <g id=\"line2d_21\">\n      <g>\n       <use style=\"stroke:#000000;stroke-width:0.6;\" x=\"151.55509\" xlink:href=\"#mc93e686c97\" y=\"315\"/>\n      </g>\n     </g>\n    </g>\n    <g id=\"xtick_22\">\n     <g id=\"line2d_22\">\n      <g>\n       <use style=\"stroke:#000000;stroke-width:0.6;\" x=\"156.958575\" xlink:href=\"#mc93e686c97\" y=\"315\"/>\n      </g>\n     </g>\n    </g>\n    <g id=\"xtick_23\">\n     <g id=\"line2d_23\">\n      <g>\n       <use style=\"stroke:#000000;stroke-width:0.6;\" x=\"161.373545\" xlink:href=\"#mc93e686c97\" y=\"315\"/>\n      </g>\n     </g>\n    </g>\n    <g id=\"xtick_24\">\n     <g id=\"line2d_24\">\n      <g>\n       <use style=\"stroke:#000000;stroke-width:0.6;\" x=\"165.106348\" xlink:href=\"#mc93e686c97\" y=\"315\"/>\n      </g>\n     </g>\n    </g>\n    <g id=\"xtick_25\">\n     <g id=\"line2d_25\">\n      <g>\n       <use style=\"stroke:#000000;stroke-width:0.6;\" x=\"168.339849\" xlink:href=\"#mc93e686c97\" y=\"315\"/>\n      </g>\n     </g>\n    </g>\n    <g id=\"xtick_26\">\n     <g id=\"line2d_26\">\n      <g>\n       <use style=\"stroke:#000000;stroke-width:0.6;\" x=\"171.191999\" xlink:href=\"#mc93e686c97\" y=\"315\"/>\n      </g>\n     </g>\n    </g>\n    <g id=\"xtick_27\">\n     <g id=\"line2d_27\">\n      <g>\n       <use style=\"stroke:#000000;stroke-width:0.6;\" x=\"190.528094\" xlink:href=\"#mc93e686c97\" y=\"315\"/>\n      </g>\n     </g>\n    </g>\n    <g id=\"xtick_28\">\n     <g id=\"line2d_28\">\n      <g>\n       <use style=\"stroke:#000000;stroke-width:0.6;\" x=\"200.346549\" xlink:href=\"#mc93e686c97\" y=\"315\"/>\n      </g>\n     </g>\n    </g>\n    <g id=\"xtick_29\">\n     <g id=\"line2d_29\">\n      <g>\n       <use style=\"stroke:#000000;stroke-width:0.6;\" x=\"207.312854\" xlink:href=\"#mc93e686c97\" y=\"315\"/>\n      </g>\n     </g>\n    </g>\n    <g id=\"xtick_30\">\n     <g id=\"line2d_30\">\n      <g>\n       <use style=\"stroke:#000000;stroke-width:0.6;\" x=\"212.716339\" xlink:href=\"#mc93e686c97\" y=\"315\"/>\n      </g>\n     </g>\n    </g>\n    <g id=\"xtick_31\">\n     <g id=\"line2d_31\">\n      <g>\n       <use style=\"stroke:#000000;stroke-width:0.6;\" x=\"217.131308\" xlink:href=\"#mc93e686c97\" y=\"315\"/>\n      </g>\n     </g>\n    </g>\n    <g id=\"xtick_32\">\n     <g id=\"line2d_32\">\n      <g>\n       <use style=\"stroke:#000000;stroke-width:0.6;\" x=\"220.864112\" xlink:href=\"#mc93e686c97\" y=\"315\"/>\n      </g>\n     </g>\n    </g>\n    <g id=\"xtick_33\">\n     <g id=\"line2d_33\">\n      <g>\n       <use style=\"stroke:#000000;stroke-width:0.6;\" x=\"224.097613\" xlink:href=\"#mc93e686c97\" y=\"315\"/>\n      </g>\n     </g>\n    </g>\n    <g id=\"xtick_34\">\n     <g id=\"line2d_34\">\n      <g>\n       <use style=\"stroke:#000000;stroke-width:0.6;\" x=\"226.949763\" xlink:href=\"#mc93e686c97\" y=\"315\"/>\n      </g>\n     </g>\n    </g>\n    <g id=\"xtick_35\">\n     <g id=\"line2d_35\">\n      <g>\n       <use style=\"stroke:#000000;stroke-width:0.6;\" x=\"246.285858\" xlink:href=\"#mc93e686c97\" y=\"315\"/>\n      </g>\n     </g>\n    </g>\n    <g id=\"xtick_36\">\n     <g id=\"line2d_36\">\n      <g>\n       <use style=\"stroke:#000000;stroke-width:0.6;\" x=\"256.104313\" xlink:href=\"#mc93e686c97\" y=\"315\"/>\n      </g>\n     </g>\n    </g>\n    <g id=\"xtick_37\">\n     <g id=\"line2d_37\">\n      <g>\n       <use style=\"stroke:#000000;stroke-width:0.6;\" x=\"263.070617\" xlink:href=\"#mc93e686c97\" y=\"315\"/>\n      </g>\n     </g>\n    </g>\n    <g id=\"xtick_38\">\n     <g id=\"line2d_38\">\n      <g>\n       <use style=\"stroke:#000000;stroke-width:0.6;\" x=\"268.474103\" xlink:href=\"#mc93e686c97\" y=\"315\"/>\n      </g>\n     </g>\n    </g>\n    <g id=\"xtick_39\">\n     <g id=\"line2d_39\">\n      <g>\n       <use style=\"stroke:#000000;stroke-width:0.6;\" x=\"272.889072\" xlink:href=\"#mc93e686c97\" y=\"315\"/>\n      </g>\n     </g>\n    </g>\n    <g id=\"xtick_40\">\n     <g id=\"line2d_40\">\n      <g>\n       <use style=\"stroke:#000000;stroke-width:0.6;\" x=\"276.621875\" xlink:href=\"#mc93e686c97\" y=\"315\"/>\n      </g>\n     </g>\n    </g>\n    <g id=\"xtick_41\">\n     <g id=\"line2d_41\">\n      <g>\n       <use style=\"stroke:#000000;stroke-width:0.6;\" x=\"279.855377\" xlink:href=\"#mc93e686c97\" y=\"315\"/>\n      </g>\n     </g>\n    </g>\n    <g id=\"xtick_42\">\n     <g id=\"line2d_42\">\n      <g>\n       <use style=\"stroke:#000000;stroke-width:0.6;\" x=\"282.707527\" xlink:href=\"#mc93e686c97\" y=\"315\"/>\n      </g>\n     </g>\n    </g>\n    <g id=\"xtick_43\">\n     <g id=\"line2d_43\">\n      <g>\n       <use style=\"stroke:#000000;stroke-width:0.6;\" x=\"302.043622\" xlink:href=\"#mc93e686c97\" y=\"315\"/>\n      </g>\n     </g>\n    </g>\n    <g id=\"xtick_44\">\n     <g id=\"line2d_44\">\n      <g>\n       <use style=\"stroke:#000000;stroke-width:0.6;\" x=\"311.862076\" xlink:href=\"#mc93e686c97\" y=\"315\"/>\n      </g>\n     </g>\n    </g>\n    <g id=\"xtick_45\">\n     <g id=\"line2d_45\">\n      <g>\n       <use style=\"stroke:#000000;stroke-width:0.6;\" x=\"318.828381\" xlink:href=\"#mc93e686c97\" y=\"315\"/>\n      </g>\n     </g>\n    </g>\n    <g id=\"xtick_46\">\n     <g id=\"line2d_46\">\n      <g>\n       <use style=\"stroke:#000000;stroke-width:0.6;\" x=\"324.231867\" xlink:href=\"#mc93e686c97\" y=\"315\"/>\n      </g>\n     </g>\n    </g>\n    <g id=\"xtick_47\">\n     <g id=\"line2d_47\">\n      <g>\n       <use style=\"stroke:#000000;stroke-width:0.6;\" x=\"328.646836\" xlink:href=\"#mc93e686c97\" y=\"315\"/>\n      </g>\n     </g>\n    </g>\n    <g id=\"xtick_48\">\n     <g id=\"line2d_48\">\n      <g>\n       <use style=\"stroke:#000000;stroke-width:0.6;\" x=\"332.379639\" xlink:href=\"#mc93e686c97\" y=\"315\"/>\n      </g>\n     </g>\n    </g>\n    <g id=\"xtick_49\">\n     <g id=\"line2d_49\">\n      <g>\n       <use style=\"stroke:#000000;stroke-width:0.6;\" x=\"335.61314\" xlink:href=\"#mc93e686c97\" y=\"315\"/>\n      </g>\n     </g>\n    </g>\n    <g id=\"xtick_50\">\n     <g id=\"line2d_50\">\n      <g>\n       <use style=\"stroke:#000000;stroke-width:0.6;\" x=\"338.465291\" xlink:href=\"#mc93e686c97\" y=\"315\"/>\n      </g>\n     </g>\n    </g>\n    <g id=\"text_7\">\n     <!-- nodes -->\n     <defs>\n      <path d=\"M 54.890625 33.015625 \nL 54.890625 0 \nL 45.90625 0 \nL 45.90625 32.71875 \nQ 45.90625 40.484375 42.875 44.328125 \nQ 39.84375 48.1875 33.796875 48.1875 \nQ 26.515625 48.1875 22.3125 43.546875 \nQ 18.109375 38.921875 18.109375 30.90625 \nL 18.109375 0 \nL 9.078125 0 \nL 9.078125 54.6875 \nL 18.109375 54.6875 \nL 18.109375 46.1875 \nQ 21.34375 51.125 25.703125 53.5625 \nQ 30.078125 56 35.796875 56 \nQ 45.21875 56 50.046875 50.171875 \nQ 54.890625 44.34375 54.890625 33.015625 \nz\n\" id=\"DejaVuSans-110\"/>\n      <path d=\"M 30.609375 48.390625 \nQ 23.390625 48.390625 19.1875 42.75 \nQ 14.984375 37.109375 14.984375 27.296875 \nQ 14.984375 17.484375 19.15625 11.84375 \nQ 23.34375 6.203125 30.609375 6.203125 \nQ 37.796875 6.203125 41.984375 11.859375 \nQ 46.1875 17.53125 46.1875 27.296875 \nQ 46.1875 37.015625 41.984375 42.703125 \nQ 37.796875 48.390625 30.609375 48.390625 \nz\nM 30.609375 56 \nQ 42.328125 56 49.015625 48.375 \nQ 55.71875 40.765625 55.71875 27.296875 \nQ 55.71875 13.875 49.015625 6.21875 \nQ 42.328125 -1.421875 30.609375 -1.421875 \nQ 18.84375 -1.421875 12.171875 6.21875 \nQ 5.515625 13.875 5.515625 27.296875 \nQ 5.515625 40.765625 12.171875 48.375 \nQ 18.84375 56 30.609375 56 \nz\n\" id=\"DejaVuSans-111\"/>\n      <path d=\"M 45.40625 46.390625 \nL 45.40625 75.984375 \nL 54.390625 75.984375 \nL 54.390625 0 \nL 45.40625 0 \nL 45.40625 8.203125 \nQ 42.578125 3.328125 38.25 0.953125 \nQ 33.9375 -1.421875 27.875 -1.421875 \nQ 17.96875 -1.421875 11.734375 6.484375 \nQ 5.515625 14.40625 5.515625 27.296875 \nQ 5.515625 40.1875 11.734375 48.09375 \nQ 17.96875 56 27.875 56 \nQ 33.9375 56 38.25 53.625 \nQ 42.578125 51.265625 45.40625 46.390625 \nz\nM 14.796875 27.296875 \nQ 14.796875 17.390625 18.875 11.75 \nQ 22.953125 6.109375 30.078125 6.109375 \nQ 37.203125 6.109375 41.296875 11.75 \nQ 45.40625 17.390625 45.40625 27.296875 \nQ 45.40625 37.203125 41.296875 42.84375 \nQ 37.203125 48.484375 30.078125 48.484375 \nQ 22.953125 48.484375 18.875 42.84375 \nQ 14.796875 37.203125 14.796875 27.296875 \nz\n\" id=\"DejaVuSans-100\"/>\n      <path d=\"M 56.203125 29.59375 \nL 56.203125 25.203125 \nL 14.890625 25.203125 \nQ 15.484375 15.921875 20.484375 11.0625 \nQ 25.484375 6.203125 34.421875 6.203125 \nQ 39.59375 6.203125 44.453125 7.46875 \nQ 49.3125 8.734375 54.109375 11.28125 \nL 54.109375 2.78125 \nQ 49.265625 0.734375 44.1875 -0.34375 \nQ 39.109375 -1.421875 33.890625 -1.421875 \nQ 20.796875 -1.421875 13.15625 6.1875 \nQ 5.515625 13.8125 5.515625 26.8125 \nQ 5.515625 40.234375 12.765625 48.109375 \nQ 20.015625 56 32.328125 56 \nQ 43.359375 56 49.78125 48.890625 \nQ 56.203125 41.796875 56.203125 29.59375 \nz\nM 47.21875 32.234375 \nQ 47.125 39.59375 43.09375 43.984375 \nQ 39.0625 48.390625 32.421875 48.390625 \nQ 24.90625 48.390625 20.390625 44.140625 \nQ 15.875 39.890625 15.1875 32.171875 \nz\n\" id=\"DejaVuSans-101\"/>\n      <path d=\"M 44.28125 53.078125 \nL 44.28125 44.578125 \nQ 40.484375 46.53125 36.375 47.5 \nQ 32.28125 48.484375 27.875 48.484375 \nQ 21.1875 48.484375 17.84375 46.4375 \nQ 14.5 44.390625 14.5 40.28125 \nQ 14.5 37.15625 16.890625 35.375 \nQ 19.28125 33.59375 26.515625 31.984375 \nL 29.59375 31.296875 \nQ 39.15625 29.25 43.1875 25.515625 \nQ 47.21875 21.78125 47.21875 15.09375 \nQ 47.21875 7.46875 41.1875 3.015625 \nQ 35.15625 -1.421875 24.609375 -1.421875 \nQ 20.21875 -1.421875 15.453125 -0.5625 \nQ 10.6875 0.296875 5.421875 2 \nL 5.421875 11.28125 \nQ 10.40625 8.6875 15.234375 7.390625 \nQ 20.0625 6.109375 24.8125 6.109375 \nQ 31.15625 6.109375 34.5625 8.28125 \nQ 37.984375 10.453125 37.984375 14.40625 \nQ 37.984375 18.0625 35.515625 20.015625 \nQ 33.0625 21.96875 24.703125 23.78125 \nL 21.578125 24.515625 \nQ 13.234375 26.265625 9.515625 29.90625 \nQ 5.8125 33.546875 5.8125 39.890625 \nQ 5.8125 47.609375 11.28125 51.796875 \nQ 16.75 56 26.8125 56 \nQ 31.78125 56 36.171875 55.265625 \nQ 40.578125 54.546875 44.28125 53.078125 \nz\n\" id=\"DejaVuSans-115\"/>\n     </defs>\n     <g transform=\"translate(181.422289 343.276562)scale(0.1 -0.1)\">\n      <use xlink:href=\"#DejaVuSans-110\"/>\n      <use x=\"63.378906\" xlink:href=\"#DejaVuSans-111\"/>\n      <use x=\"124.560547\" xlink:href=\"#DejaVuSans-100\"/>\n      <use x=\"188.037109\" xlink:href=\"#DejaVuSans-101\"/>\n      <use x=\"249.560547\" xlink:href=\"#DejaVuSans-115\"/>\n     </g>\n    </g>\n   </g>\n   <g id=\"matplotlib.axis_2\">\n    <g id=\"ytick_1\">\n     <g id=\"line2d_51\">\n      <defs>\n       <path d=\"M 0 0 \nL -3.5 0 \n\" id=\"m697a21d126\" style=\"stroke:#000000;stroke-width:0.8;\"/>\n      </defs>\n      <g>\n       <use style=\"stroke:#000000;stroke-width:0.8;\" x=\"48.8\" xlink:href=\"#m697a21d126\" y=\"163.114095\"/>\n      </g>\n     </g>\n     <g id=\"text_8\">\n      <!-- $\\mathdefault{10^{1}}$ -->\n      <g transform=\"translate(24.2 166.913314)scale(0.1 -0.1)\">\n       <use transform=\"translate(0 0.684375)\" xlink:href=\"#DejaVuSans-49\"/>\n       <use transform=\"translate(63.623047 0.684375)\" xlink:href=\"#DejaVuSans-48\"/>\n       <use transform=\"translate(128.203125 38.965625)scale(0.7)\" xlink:href=\"#DejaVuSans-49\"/>\n      </g>\n     </g>\n    </g>\n    <g id=\"ytick_2\">\n     <g id=\"line2d_52\">\n      <defs>\n       <path d=\"M 0 0 \nL -2 0 \n\" id=\"mdf464021a0\" style=\"stroke:#000000;stroke-width:0.6;\"/>\n      </defs>\n      <g>\n       <use style=\"stroke:#000000;stroke-width:0.6;\" x=\"48.8\" xlink:href=\"#mdf464021a0\" y=\"301.803761\"/>\n      </g>\n     </g>\n    </g>\n    <g id=\"ytick_3\">\n     <g id=\"line2d_53\">\n      <g>\n       <use style=\"stroke:#000000;stroke-width:0.6;\" x=\"48.8\" xlink:href=\"#mdf464021a0\" y=\"265.323607\"/>\n      </g>\n     </g>\n     <g id=\"text_9\">\n      <!-- $\\mathdefault{6\\times10^{0}}$ -->\n      <defs>\n       <path d=\"M 33.015625 40.375 \nQ 26.375 40.375 22.484375 35.828125 \nQ 18.609375 31.296875 18.609375 23.390625 \nQ 18.609375 15.53125 22.484375 10.953125 \nQ 26.375 6.390625 33.015625 6.390625 \nQ 39.65625 6.390625 43.53125 10.953125 \nQ 47.40625 15.53125 47.40625 23.390625 \nQ 47.40625 31.296875 43.53125 35.828125 \nQ 39.65625 40.375 33.015625 40.375 \nz\nM 52.59375 71.296875 \nL 52.59375 62.3125 \nQ 48.875 64.0625 45.09375 64.984375 \nQ 41.3125 65.921875 37.59375 65.921875 \nQ 27.828125 65.921875 22.671875 59.328125 \nQ 17.53125 52.734375 16.796875 39.40625 \nQ 19.671875 43.65625 24.015625 45.921875 \nQ 28.375 48.1875 33.59375 48.1875 \nQ 44.578125 48.1875 50.953125 41.515625 \nQ 57.328125 34.859375 57.328125 23.390625 \nQ 57.328125 12.15625 50.6875 5.359375 \nQ 44.046875 -1.421875 33.015625 -1.421875 \nQ 20.359375 -1.421875 13.671875 8.265625 \nQ 6.984375 17.96875 6.984375 36.375 \nQ 6.984375 53.65625 15.1875 63.9375 \nQ 23.390625 74.21875 37.203125 74.21875 \nQ 40.921875 74.21875 44.703125 73.484375 \nQ 48.484375 72.75 52.59375 71.296875 \nz\n\" id=\"DejaVuSans-54\"/>\n       <path d=\"M 70.125 53.71875 \nL 47.796875 31.296875 \nL 70.125 8.984375 \nL 64.3125 3.078125 \nL 41.890625 25.484375 \nL 19.484375 3.078125 \nL 13.71875 8.984375 \nL 35.984375 31.296875 \nL 13.71875 53.71875 \nL 19.484375 59.625 \nL 41.890625 37.203125 \nL 64.3125 59.625 \nz\n\" id=\"DejaVuSans-215\"/>\n      </defs>\n      <g transform=\"translate(7.2 269.122826)scale(0.1 -0.1)\">\n       <use transform=\"translate(0 0.765625)\" xlink:href=\"#DejaVuSans-54\"/>\n       <use transform=\"translate(83.105469 0.765625)\" xlink:href=\"#DejaVuSans-215\"/>\n       <use transform=\"translate(186.376953 0.765625)\" xlink:href=\"#DejaVuSans-49\"/>\n       <use transform=\"translate(250 0.765625)\" xlink:href=\"#DejaVuSans-48\"/>\n       <use transform=\"translate(314.580078 39.046875)scale(0.7)\" xlink:href=\"#DejaVuSans-48\"/>\n      </g>\n     </g>\n    </g>\n    <g id=\"ytick_4\">\n     <g id=\"line2d_54\">\n      <g>\n       <use style=\"stroke:#000000;stroke-width:0.6;\" x=\"48.8\" xlink:href=\"#mdf464021a0\" y=\"234.480077\"/>\n      </g>\n     </g>\n    </g>\n    <g id=\"ytick_5\">\n     <g id=\"line2d_55\">\n      <g>\n       <use style=\"stroke:#000000;stroke-width:0.6;\" x=\"48.8\" xlink:href=\"#mdf464021a0\" y=\"207.762195\"/>\n      </g>\n     </g>\n    </g>\n    <g id=\"ytick_6\">\n     <g id=\"line2d_56\">\n      <g>\n       <use style=\"stroke:#000000;stroke-width:0.6;\" x=\"48.8\" xlink:href=\"#mdf464021a0\" y=\"184.195354\"/>\n      </g>\n     </g>\n    </g>\n   </g>\n   <g id=\"LineCollection_1\">\n    <path clip-path=\"url(#p792ca1dc57)\" d=\"M 62.227807 97.699844 \nL 62.227807 60.440979 \n\" style=\"fill:none;stroke:#1f77b4;stroke-width:1.5;\"/>\n    <path clip-path=\"url(#p792ca1dc57)\" d=\"M 79.012567 116.402129 \nL 79.012567 63.336002 \n\" style=\"fill:none;stroke:#1f77b4;stroke-width:1.5;\"/>\n    <path clip-path=\"url(#p792ca1dc57)\" d=\"M 95.797326 135.926354 \nL 95.797326 71.220906 \n\" style=\"fill:none;stroke:#1f77b4;stroke-width:1.5;\"/>\n    <path clip-path=\"url(#p792ca1dc57)\" d=\"M 112.582086 173.756945 \nL 112.582086 98.377672 \n\" style=\"fill:none;stroke:#1f77b4;stroke-width:1.5;\"/>\n    <path clip-path=\"url(#p792ca1dc57)\" d=\"M 129.366845 222.651722 \nL 129.366845 131.504729 \n\" style=\"fill:none;stroke:#1f77b4;stroke-width:1.5;\"/>\n    <path clip-path=\"url(#p792ca1dc57)\" d=\"M 146.151604 258.392636 \nL 146.151604 176.143529 \n\" style=\"fill:none;stroke:#1f77b4;stroke-width:1.5;\"/>\n    <path clip-path=\"url(#p792ca1dc57)\" d=\"M 162.936364 278.963164 \nL 162.936364 213.008579 \n\" style=\"fill:none;stroke:#1f77b4;stroke-width:1.5;\"/>\n    <path clip-path=\"url(#p792ca1dc57)\" d=\"M 179.721123 291.187525 \nL 179.721123 237.686577 \n\" style=\"fill:none;stroke:#1f77b4;stroke-width:1.5;\"/>\n    <path clip-path=\"url(#p792ca1dc57)\" d=\"M 196.505882 297.354963 \nL 196.505882 248.366344 \n\" style=\"fill:none;stroke:#1f77b4;stroke-width:1.5;\"/>\n    <path clip-path=\"url(#p792ca1dc57)\" d=\"M 213.290642 298.851241 \nL 213.290642 254.266157 \n\" style=\"fill:none;stroke:#1f77b4;stroke-width:1.5;\"/>\n    <path clip-path=\"url(#p792ca1dc57)\" d=\"M 230.075401 302.093637 \nL 230.075401 258.758484 \n\" style=\"fill:none;stroke:#1f77b4;stroke-width:1.5;\"/>\n    <path clip-path=\"url(#p792ca1dc57)\" d=\"M 246.86016 302.072908 \nL 246.86016 260.747709 \n\" style=\"fill:none;stroke:#1f77b4;stroke-width:1.5;\"/>\n    <path clip-path=\"url(#p792ca1dc57)\" d=\"M 263.64492 302.222982 \nL 263.64492 261.463671 \n\" style=\"fill:none;stroke:#1f77b4;stroke-width:1.5;\"/>\n    <path clip-path=\"url(#p792ca1dc57)\" d=\"M 280.429679 302.636859 \nL 280.429679 261.866706 \n\" style=\"fill:none;stroke:#1f77b4;stroke-width:1.5;\"/>\n    <path clip-path=\"url(#p792ca1dc57)\" d=\"M 297.214439 302.462277 \nL 297.214439 262.373103 \n\" style=\"fill:none;stroke:#1f77b4;stroke-width:1.5;\"/>\n    <path clip-path=\"url(#p792ca1dc57)\" d=\"M 313.999198 302.645455 \nL 313.999198 262.292322 \n\" style=\"fill:none;stroke:#1f77b4;stroke-width:1.5;\"/>\n    <path clip-path=\"url(#p792ca1dc57)\" d=\"M 330.783957 302.428385 \nL 330.783957 262.338841 \n\" style=\"fill:none;stroke:#1f77b4;stroke-width:1.5;\"/>\n   </g>\n   <g id=\"LineCollection_2\">\n    <path clip-path=\"url(#p792ca1dc57)\" d=\"M 62.227807 101.377479 \nL 62.227807 56.719244 \n\" style=\"fill:none;stroke:#ff7f0e;stroke-width:1.5;\"/>\n    <path clip-path=\"url(#p792ca1dc57)\" d=\"M 79.012567 114.681813 \nL 79.012567 62.893531 \n\" style=\"fill:none;stroke:#ff7f0e;stroke-width:1.5;\"/>\n    <path clip-path=\"url(#p792ca1dc57)\" d=\"M 95.797326 153.597463 \nL 95.797326 72.359148 \n\" style=\"fill:none;stroke:#ff7f0e;stroke-width:1.5;\"/>\n    <path clip-path=\"url(#p792ca1dc57)\" d=\"M 112.582086 191.566799 \nL 112.582086 99.693938 \n\" style=\"fill:none;stroke:#ff7f0e;stroke-width:1.5;\"/>\n    <path clip-path=\"url(#p792ca1dc57)\" d=\"M 129.366845 241.438701 \nL 129.366845 145.948287 \n\" style=\"fill:none;stroke:#ff7f0e;stroke-width:1.5;\"/>\n    <path clip-path=\"url(#p792ca1dc57)\" d=\"M 146.151604 271.268092 \nL 146.151604 198.972916 \n\" style=\"fill:none;stroke:#ff7f0e;stroke-width:1.5;\"/>\n    <path clip-path=\"url(#p792ca1dc57)\" d=\"M 162.936364 286.621767 \nL 162.936364 234.576391 \n\" style=\"fill:none;stroke:#ff7f0e;stroke-width:1.5;\"/>\n    <path clip-path=\"url(#p792ca1dc57)\" d=\"M 179.721123 294.855158 \nL 179.721123 252.509006 \n\" style=\"fill:none;stroke:#ff7f0e;stroke-width:1.5;\"/>\n    <path clip-path=\"url(#p792ca1dc57)\" d=\"M 196.505882 295.425055 \nL 196.505882 260.681335 \n\" style=\"fill:none;stroke:#ff7f0e;stroke-width:1.5;\"/>\n    <path clip-path=\"url(#p792ca1dc57)\" d=\"M 213.290642 296.818111 \nL 213.290642 264.552952 \n\" style=\"fill:none;stroke:#ff7f0e;stroke-width:1.5;\"/>\n    <path clip-path=\"url(#p792ca1dc57)\" d=\"M 230.075401 297.767528 \nL 230.075401 266.491923 \n\" style=\"fill:none;stroke:#ff7f0e;stroke-width:1.5;\"/>\n    <path clip-path=\"url(#p792ca1dc57)\" d=\"M 246.86016 298.245163 \nL 246.86016 267.959196 \n\" style=\"fill:none;stroke:#ff7f0e;stroke-width:1.5;\"/>\n    <path clip-path=\"url(#p792ca1dc57)\" d=\"M 263.64492 298.214617 \nL 263.64492 267.90062 \n\" style=\"fill:none;stroke:#ff7f0e;stroke-width:1.5;\"/>\n    <path clip-path=\"url(#p792ca1dc57)\" d=\"M 280.429679 298.434767 \nL 280.429679 268.486109 \n\" style=\"fill:none;stroke:#ff7f0e;stroke-width:1.5;\"/>\n    <path clip-path=\"url(#p792ca1dc57)\" d=\"M 297.214439 298.352166 \nL 297.214439 268.259943 \n\" style=\"fill:none;stroke:#ff7f0e;stroke-width:1.5;\"/>\n    <path clip-path=\"url(#p792ca1dc57)\" d=\"M 313.999198 298.452076 \nL 313.999198 268.352356 \n\" style=\"fill:none;stroke:#ff7f0e;stroke-width:1.5;\"/>\n    <path clip-path=\"url(#p792ca1dc57)\" d=\"M 330.783957 298.442681 \nL 330.783957 268.44042 \n\" style=\"fill:none;stroke:#ff7f0e;stroke-width:1.5;\"/>\n   </g>\n   <g id=\"LineCollection_3\">\n    <path clip-path=\"url(#p792ca1dc57)\" d=\"M 62.227807 102.174011 \nL 62.227807 56.212689 \n\" style=\"fill:none;stroke:#2ca02c;stroke-width:1.5;\"/>\n    <path clip-path=\"url(#p792ca1dc57)\" d=\"M 79.012567 117.031918 \nL 79.012567 60.744032 \n\" style=\"fill:none;stroke:#2ca02c;stroke-width:1.5;\"/>\n    <path clip-path=\"url(#p792ca1dc57)\" d=\"M 95.797326 150.3236 \nL 95.797326 69.649042 \n\" style=\"fill:none;stroke:#2ca02c;stroke-width:1.5;\"/>\n    <path clip-path=\"url(#p792ca1dc57)\" d=\"M 112.582086 187.647547 \nL 112.582086 95.365208 \n\" style=\"fill:none;stroke:#2ca02c;stroke-width:1.5;\"/>\n    <path clip-path=\"url(#p792ca1dc57)\" d=\"M 129.366845 239.396725 \nL 129.366845 154.350354 \n\" style=\"fill:none;stroke:#2ca02c;stroke-width:1.5;\"/>\n    <path clip-path=\"url(#p792ca1dc57)\" d=\"M 146.151604 265.511087 \nL 146.151604 210.15003 \n\" style=\"fill:none;stroke:#2ca02c;stroke-width:1.5;\"/>\n    <path clip-path=\"url(#p792ca1dc57)\" d=\"M 162.936364 276.891227 \nL 162.936364 240.711731 \n\" style=\"fill:none;stroke:#2ca02c;stroke-width:1.5;\"/>\n    <path clip-path=\"url(#p792ca1dc57)\" d=\"M 179.721123 281.944939 \nL 179.721123 250.709658 \n\" style=\"fill:none;stroke:#2ca02c;stroke-width:1.5;\"/>\n    <path clip-path=\"url(#p792ca1dc57)\" d=\"M 196.505882 283.508207 \nL 196.505882 256.537999 \n\" style=\"fill:none;stroke:#2ca02c;stroke-width:1.5;\"/>\n    <path clip-path=\"url(#p792ca1dc57)\" d=\"M 213.290642 284.837164 \nL 213.290642 259.731059 \n\" style=\"fill:none;stroke:#2ca02c;stroke-width:1.5;\"/>\n    <path clip-path=\"url(#p792ca1dc57)\" d=\"M 230.075401 285.799766 \nL 230.075401 260.592527 \n\" style=\"fill:none;stroke:#2ca02c;stroke-width:1.5;\"/>\n    <path clip-path=\"url(#p792ca1dc57)\" d=\"M 246.86016 286.161261 \nL 246.86016 261.019388 \n\" style=\"fill:none;stroke:#2ca02c;stroke-width:1.5;\"/>\n    <path clip-path=\"url(#p792ca1dc57)\" d=\"M 263.64492 286.420499 \nL 263.64492 261.363327 \n\" style=\"fill:none;stroke:#2ca02c;stroke-width:1.5;\"/>\n    <path clip-path=\"url(#p792ca1dc57)\" d=\"M 280.429679 286.312898 \nL 280.429679 261.628256 \n\" style=\"fill:none;stroke:#2ca02c;stroke-width:1.5;\"/>\n    <path clip-path=\"url(#p792ca1dc57)\" d=\"M 297.214439 286.483605 \nL 297.214439 261.581357 \n\" style=\"fill:none;stroke:#2ca02c;stroke-width:1.5;\"/>\n    <path clip-path=\"url(#p792ca1dc57)\" d=\"M 313.999198 286.410817 \nL 313.999198 261.582797 \n\" style=\"fill:none;stroke:#2ca02c;stroke-width:1.5;\"/>\n    <path clip-path=\"url(#p792ca1dc57)\" d=\"M 330.783957 286.442999 \nL 330.783957 261.667965 \n\" style=\"fill:none;stroke:#2ca02c;stroke-width:1.5;\"/>\n   </g>\n   <g id=\"LineCollection_4\">\n    <path clip-path=\"url(#p792ca1dc57)\" d=\"M 62.227807 101.905847 \nL 62.227807 55.663452 \n\" style=\"fill:none;stroke:#d62728;stroke-width:1.5;\"/>\n    <path clip-path=\"url(#p792ca1dc57)\" d=\"M 79.012567 116.510144 \nL 79.012567 58.163227 \n\" style=\"fill:none;stroke:#d62728;stroke-width:1.5;\"/>\n    <path clip-path=\"url(#p792ca1dc57)\" d=\"M 95.797326 142.183989 \nL 95.797326 67.378489 \n\" style=\"fill:none;stroke:#d62728;stroke-width:1.5;\"/>\n    <path clip-path=\"url(#p792ca1dc57)\" d=\"M 112.582086 192.047937 \nL 112.582086 95.741855 \n\" style=\"fill:none;stroke:#d62728;stroke-width:1.5;\"/>\n    <path clip-path=\"url(#p792ca1dc57)\" d=\"M 129.366845 232.856263 \nL 129.366845 154.870563 \n\" style=\"fill:none;stroke:#d62728;stroke-width:1.5;\"/>\n    <path clip-path=\"url(#p792ca1dc57)\" d=\"M 146.151604 257.26358 \nL 146.151604 213.388554 \n\" style=\"fill:none;stroke:#d62728;stroke-width:1.5;\"/>\n    <path clip-path=\"url(#p792ca1dc57)\" d=\"M 162.936364 273.21294 \nL 162.936364 242.262169 \n\" style=\"fill:none;stroke:#d62728;stroke-width:1.5;\"/>\n    <path clip-path=\"url(#p792ca1dc57)\" d=\"M 179.721123 279.294789 \nL 179.721123 253.649526 \n\" style=\"fill:none;stroke:#d62728;stroke-width:1.5;\"/>\n    <path clip-path=\"url(#p792ca1dc57)\" d=\"M 196.505882 281.391741 \nL 196.505882 256.739825 \n\" style=\"fill:none;stroke:#d62728;stroke-width:1.5;\"/>\n    <path clip-path=\"url(#p792ca1dc57)\" d=\"M 213.290642 281.928851 \nL 213.290642 257.976329 \n\" style=\"fill:none;stroke:#d62728;stroke-width:1.5;\"/>\n    <path clip-path=\"url(#p792ca1dc57)\" d=\"M 230.075401 282.038237 \nL 230.075401 258.732157 \n\" style=\"fill:none;stroke:#d62728;stroke-width:1.5;\"/>\n    <path clip-path=\"url(#p792ca1dc57)\" d=\"M 246.86016 282.250022 \nL 246.86016 258.694906 \n\" style=\"fill:none;stroke:#d62728;stroke-width:1.5;\"/>\n    <path clip-path=\"url(#p792ca1dc57)\" d=\"M 263.64492 282.216022 \nL 263.64492 258.951928 \n\" style=\"fill:none;stroke:#d62728;stroke-width:1.5;\"/>\n    <path clip-path=\"url(#p792ca1dc57)\" d=\"M 280.429679 282.159968 \nL 280.429679 258.957752 \n\" style=\"fill:none;stroke:#d62728;stroke-width:1.5;\"/>\n    <path clip-path=\"url(#p792ca1dc57)\" d=\"M 297.214439 282.234805 \nL 297.214439 258.882807 \n\" style=\"fill:none;stroke:#d62728;stroke-width:1.5;\"/>\n    <path clip-path=\"url(#p792ca1dc57)\" d=\"M 313.999198 282.161731 \nL 313.999198 258.919692 \n\" style=\"fill:none;stroke:#d62728;stroke-width:1.5;\"/>\n    <path clip-path=\"url(#p792ca1dc57)\" d=\"M 330.783957 282.215369 \nL 330.783957 258.928759 \n\" style=\"fill:none;stroke:#d62728;stroke-width:1.5;\"/>\n   </g>\n   <g id=\"LineCollection_5\">\n    <path clip-path=\"url(#p792ca1dc57)\" d=\"M 62.227807 99.220501 \nL 62.227807 56.684852 \n\" style=\"fill:none;stroke:#9467bd;stroke-width:1.5;\"/>\n    <path clip-path=\"url(#p792ca1dc57)\" d=\"M 79.012567 116.731618 \nL 79.012567 57.083799 \n\" style=\"fill:none;stroke:#9467bd;stroke-width:1.5;\"/>\n    <path clip-path=\"url(#p792ca1dc57)\" d=\"M 95.797326 144.818339 \nL 95.797326 67.262616 \n\" style=\"fill:none;stroke:#9467bd;stroke-width:1.5;\"/>\n    <path clip-path=\"url(#p792ca1dc57)\" d=\"M 112.582086 191.183566 \nL 112.582086 94.368353 \n\" style=\"fill:none;stroke:#9467bd;stroke-width:1.5;\"/>\n    <path clip-path=\"url(#p792ca1dc57)\" d=\"M 129.366845 220.348329 \nL 129.366845 152.078915 \n\" style=\"fill:none;stroke:#9467bd;stroke-width:1.5;\"/>\n    <path clip-path=\"url(#p792ca1dc57)\" d=\"M 146.151604 255.150339 \nL 146.151604 208.360061 \n\" style=\"fill:none;stroke:#9467bd;stroke-width:1.5;\"/>\n    <path clip-path=\"url(#p792ca1dc57)\" d=\"M 162.936364 273.265178 \nL 162.936364 242.900329 \n\" style=\"fill:none;stroke:#9467bd;stroke-width:1.5;\"/>\n    <path clip-path=\"url(#p792ca1dc57)\" d=\"M 179.721123 278.687106 \nL 179.721123 253.648205 \n\" style=\"fill:none;stroke:#9467bd;stroke-width:1.5;\"/>\n    <path clip-path=\"url(#p792ca1dc57)\" d=\"M 196.505882 279.821095 \nL 196.505882 256.373001 \n\" style=\"fill:none;stroke:#9467bd;stroke-width:1.5;\"/>\n    <path clip-path=\"url(#p792ca1dc57)\" d=\"M 213.290642 280.408711 \nL 213.290642 256.945295 \n\" style=\"fill:none;stroke:#9467bd;stroke-width:1.5;\"/>\n    <path clip-path=\"url(#p792ca1dc57)\" d=\"M 230.075401 280.328689 \nL 230.075401 257.348434 \n\" style=\"fill:none;stroke:#9467bd;stroke-width:1.5;\"/>\n    <path clip-path=\"url(#p792ca1dc57)\" d=\"M 246.86016 280.421077 \nL 246.86016 257.670996 \n\" style=\"fill:none;stroke:#9467bd;stroke-width:1.5;\"/>\n    <path clip-path=\"url(#p792ca1dc57)\" d=\"M 263.64492 280.584948 \nL 263.64492 257.591515 \n\" style=\"fill:none;stroke:#9467bd;stroke-width:1.5;\"/>\n    <path clip-path=\"url(#p792ca1dc57)\" d=\"M 280.429679 280.56254 \nL 280.429679 257.624817 \n\" style=\"fill:none;stroke:#9467bd;stroke-width:1.5;\"/>\n    <path clip-path=\"url(#p792ca1dc57)\" d=\"M 297.214439 280.639316 \nL 297.214439 257.665988 \n\" style=\"fill:none;stroke:#9467bd;stroke-width:1.5;\"/>\n    <path clip-path=\"url(#p792ca1dc57)\" d=\"M 313.999198 280.645196 \nL 313.999198 257.634385 \n\" style=\"fill:none;stroke:#9467bd;stroke-width:1.5;\"/>\n    <path clip-path=\"url(#p792ca1dc57)\" d=\"M 330.783957 280.671301 \nL 330.783957 257.650199 \n\" style=\"fill:none;stroke:#9467bd;stroke-width:1.5;\"/>\n   </g>\n   <g id=\"LineCollection_6\">\n    <path clip-path=\"url(#p792ca1dc57)\" d=\"M 62.227807 103.99682 \nL 62.227807 55.554545 \n\" style=\"fill:none;stroke:#8c564b;stroke-width:1.5;\"/>\n    <path clip-path=\"url(#p792ca1dc57)\" d=\"M 79.012567 121.131316 \nL 79.012567 55.886498 \n\" style=\"fill:none;stroke:#8c564b;stroke-width:1.5;\"/>\n    <path clip-path=\"url(#p792ca1dc57)\" d=\"M 95.797326 144.94039 \nL 95.797326 64.695207 \n\" style=\"fill:none;stroke:#8c564b;stroke-width:1.5;\"/>\n    <path clip-path=\"url(#p792ca1dc57)\" d=\"M 112.582086 183.971119 \nL 112.582086 96.134467 \n\" style=\"fill:none;stroke:#8c564b;stroke-width:1.5;\"/>\n    <path clip-path=\"url(#p792ca1dc57)\" d=\"M 129.366845 228.206991 \nL 129.366845 158.61827 \n\" style=\"fill:none;stroke:#8c564b;stroke-width:1.5;\"/>\n    <path clip-path=\"url(#p792ca1dc57)\" d=\"M 146.151604 256.214077 \nL 146.151604 212.112343 \n\" style=\"fill:none;stroke:#8c564b;stroke-width:1.5;\"/>\n    <path clip-path=\"url(#p792ca1dc57)\" d=\"M 162.936364 270.342182 \nL 162.936364 240.658894 \n\" style=\"fill:none;stroke:#8c564b;stroke-width:1.5;\"/>\n    <path clip-path=\"url(#p792ca1dc57)\" d=\"M 179.721123 277.695689 \nL 179.721123 252.391239 \n\" style=\"fill:none;stroke:#8c564b;stroke-width:1.5;\"/>\n    <path clip-path=\"url(#p792ca1dc57)\" d=\"M 196.505882 278.700602 \nL 196.505882 255.247956 \n\" style=\"fill:none;stroke:#8c564b;stroke-width:1.5;\"/>\n    <path clip-path=\"url(#p792ca1dc57)\" d=\"M 213.290642 279.287573 \nL 213.290642 256.249923 \n\" style=\"fill:none;stroke:#8c564b;stroke-width:1.5;\"/>\n    <path clip-path=\"url(#p792ca1dc57)\" d=\"M 230.075401 279.430375 \nL 230.075401 256.662761 \n\" style=\"fill:none;stroke:#8c564b;stroke-width:1.5;\"/>\n    <path clip-path=\"url(#p792ca1dc57)\" d=\"M 246.86016 279.572168 \nL 246.86016 256.700482 \n\" style=\"fill:none;stroke:#8c564b;stroke-width:1.5;\"/>\n    <path clip-path=\"url(#p792ca1dc57)\" d=\"M 263.64492 279.741491 \nL 263.64492 256.741938 \n\" style=\"fill:none;stroke:#8c564b;stroke-width:1.5;\"/>\n    <path clip-path=\"url(#p792ca1dc57)\" d=\"M 280.429679 279.63061 \nL 280.429679 256.716611 \n\" style=\"fill:none;stroke:#8c564b;stroke-width:1.5;\"/>\n    <path clip-path=\"url(#p792ca1dc57)\" d=\"M 297.214439 279.786599 \nL 297.214439 256.730477 \n\" style=\"fill:none;stroke:#8c564b;stroke-width:1.5;\"/>\n    <path clip-path=\"url(#p792ca1dc57)\" d=\"M 313.999198 279.774998 \nL 313.999198 256.758873 \n\" style=\"fill:none;stroke:#8c564b;stroke-width:1.5;\"/>\n    <path clip-path=\"url(#p792ca1dc57)\" d=\"M 330.783957 279.707473 \nL 330.783957 256.73962 \n\" style=\"fill:none;stroke:#8c564b;stroke-width:1.5;\"/>\n   </g>\n   <g id=\"line2d_57\">\n    <path clip-path=\"url(#p792ca1dc57)\" d=\"M 62.227807 78.204399 \nL 79.012567 88.114953 \nL 95.797326 100.969338 \nL 112.582086 132.538374 \nL 129.366845 171.932386 \nL 146.151604 213.071271 \nL 162.936364 243.280513 \nL 179.721123 262.65416 \nL 196.505882 271.365107 \nL 213.290642 275.319406 \nL 230.075401 279.255147 \nL 246.86016 280.345305 \nL 263.64492 280.807241 \nL 280.429679 281.215147 \nL 297.214439 281.415337 \nL 313.999198 281.453315 \nL 330.783957 281.381242 \n\" style=\"fill:none;stroke:#0000ff;stroke-linecap:square;stroke-width:1.5;\"/>\n   </g>\n   <g id=\"line2d_58\">\n    <path clip-path=\"url(#p792ca1dc57)\" d=\"M 62.227807 77.805007 \nL 79.012567 87.11679 \nL 95.797326 108.883319 \nL 112.582086 140.402952 \nL 129.366845 188.05021 \nL 146.151604 231.872911 \nL 162.936364 258.911613 \nL 179.721123 272.563906 \nL 196.505882 277.300014 \nL 213.290642 280.035867 \nL 230.075401 281.51926 \nL 246.86016 282.5297 \nL 263.64492 282.48408 \nL 280.429679 282.900628 \nL 297.214439 282.740869 \nL 313.999198 282.836749 \nL 330.783957 282.879736 \n\" style=\"fill:none;stroke:#008000;stroke-linecap:square;stroke-width:1.5;\"/>\n   </g>\n   <g id=\"line2d_59\">\n    <path clip-path=\"url(#p792ca1dc57)\" d=\"M 62.227807 77.876538 \nL 79.012567 86.915124 \nL 95.797326 105.947594 \nL 112.582086 136.232666 \nL 129.366845 192.38856 \nL 146.151604 235.921938 \nL 162.936364 257.984848 \nL 179.721123 265.718404 \nL 196.505882 269.569024 \nL 213.290642 271.890593 \nL 230.075401 272.799453 \nL 246.86016 273.195685 \nL 263.64492 273.499926 \nL 280.429679 273.590151 \nL 297.214439 273.645323 \nL 313.999198 273.611952 \nL 330.783957 273.672267 \n\" style=\"fill:none;stroke:#ff0000;stroke-linecap:square;stroke-width:1.5;\"/>\n   </g>\n   <g id=\"line2d_60\">\n    <path clip-path=\"url(#p792ca1dc57)\" d=\"M 62.227807 77.451718 \nL 79.012567 85.217376 \nL 95.797326 101.305516 \nL 112.582086 138.155708 \nL 129.366845 190.087766 \nL 146.151604 234.125855 \nL 162.936364 257.139691 \nL 179.721123 266.061567 \nL 196.505882 268.686365 \nL 213.290642 269.594383 \nL 230.075401 270.046052 \nL 246.86016 270.126038 \nL 263.64492 270.246051 \nL 280.429679 270.22273 \nL 297.214439 270.218325 \nL 313.999198 270.203427 \nL 330.783957 270.233486 \n\" style=\"fill:none;stroke:#00bfbf;stroke-linecap:square;stroke-width:1.5;\"/>\n   </g>\n   <g id=\"line2d_61\">\n    <path clip-path=\"url(#p792ca1dc57)\" d=\"M 62.227807 76.824489 \nL 79.012567 84.693192 \nL 95.797326 102.306094 \nL 112.582086 136.976511 \nL 129.366845 183.315956 \nL 146.151604 230.390568 \nL 162.936364 257.507291 \nL 179.721123 265.776239 \nL 196.505882 267.75376 \nL 213.290642 268.333267 \nL 230.075401 268.508828 \nL 246.86016 268.722872 \nL 263.64492 268.75812 \nL 280.429679 268.765164 \nL 297.214439 268.823118 \nL 313.999198 268.80918 \nL 330.783957 268.829844 \n\" style=\"fill:none;stroke:#bfbf00;stroke-linecap:square;stroke-width:1.5;\"/>\n   </g>\n   <g id=\"line2d_62\">\n    <path clip-path=\"url(#p792ca1dc57)\" d=\"M 62.227807 78.313228 \nL 79.012567 85.861208 \nL 95.797326 100.821665 \nL 112.582086 135.271052 \nL 129.366845 190.402452 \nL 146.151604 232.950588 \nL 162.936364 254.950595 \nL 179.721123 264.643707 \nL 196.505882 266.630858 \nL 213.290642 267.437367 \nL 230.075401 267.722906 \nL 246.86016 267.809698 \nL 263.64492 267.911428 \nL 280.429679 267.845775 \nL 297.214439 267.926626 \nL 313.999198 267.936173 \nL 330.783957 267.894169 \n\" style=\"fill:none;stroke:#000000;stroke-linecap:square;stroke-width:1.5;\"/>\n   </g>\n   <g id=\"line2d_63\">\n    <path clip-path=\"url(#p792ca1dc57)\" d=\"M 62.227807 78.204399 \nL 79.012567 88.114953 \nL 95.797326 100.969338 \nL 112.582086 132.538374 \nL 129.366845 171.932386 \nL 146.151604 213.071271 \nL 162.936364 243.280513 \nL 179.721123 262.65416 \nL 196.505882 271.365107 \nL 213.290642 275.319406 \nL 230.075401 279.255147 \nL 246.86016 280.345305 \nL 263.64492 280.807241 \nL 280.429679 281.215147 \nL 297.214439 281.415337 \nL 313.999198 281.453315 \nL 330.783957 281.381242 \n\" style=\"fill:none;stroke:#1f77b4;stroke-linecap:square;stroke-width:1.5;\"/>\n   </g>\n   <g id=\"line2d_64\">\n    <path clip-path=\"url(#p792ca1dc57)\" d=\"M 62.227807 77.805007 \nL 79.012567 87.11679 \nL 95.797326 108.883319 \nL 112.582086 140.402952 \nL 129.366845 188.05021 \nL 146.151604 231.872911 \nL 162.936364 258.911613 \nL 179.721123 272.563906 \nL 196.505882 277.300014 \nL 213.290642 280.035867 \nL 230.075401 281.51926 \nL 246.86016 282.5297 \nL 263.64492 282.48408 \nL 280.429679 282.900628 \nL 297.214439 282.740869 \nL 313.999198 282.836749 \nL 330.783957 282.879736 \n\" style=\"fill:none;stroke:#ff7f0e;stroke-linecap:square;stroke-width:1.5;\"/>\n   </g>\n   <g id=\"line2d_65\">\n    <path clip-path=\"url(#p792ca1dc57)\" d=\"M 62.227807 77.876538 \nL 79.012567 86.915124 \nL 95.797326 105.947594 \nL 112.582086 136.232666 \nL 129.366845 192.38856 \nL 146.151604 235.921938 \nL 162.936364 257.984848 \nL 179.721123 265.718404 \nL 196.505882 269.569024 \nL 213.290642 271.890593 \nL 230.075401 272.799453 \nL 246.86016 273.195685 \nL 263.64492 273.499926 \nL 280.429679 273.590151 \nL 297.214439 273.645323 \nL 313.999198 273.611952 \nL 330.783957 273.672267 \n\" style=\"fill:none;stroke:#2ca02c;stroke-linecap:square;stroke-width:1.5;\"/>\n   </g>\n   <g id=\"line2d_66\">\n    <path clip-path=\"url(#p792ca1dc57)\" d=\"M 62.227807 77.451718 \nL 79.012567 85.217376 \nL 95.797326 101.305516 \nL 112.582086 138.155708 \nL 129.366845 190.087766 \nL 146.151604 234.125855 \nL 162.936364 257.139691 \nL 179.721123 266.061567 \nL 196.505882 268.686365 \nL 213.290642 269.594383 \nL 230.075401 270.046052 \nL 246.86016 270.126038 \nL 263.64492 270.246051 \nL 280.429679 270.22273 \nL 297.214439 270.218325 \nL 313.999198 270.203427 \nL 330.783957 270.233486 \n\" style=\"fill:none;stroke:#d62728;stroke-linecap:square;stroke-width:1.5;\"/>\n   </g>\n   <g id=\"line2d_67\">\n    <path clip-path=\"url(#p792ca1dc57)\" d=\"M 62.227807 76.824489 \nL 79.012567 84.693192 \nL 95.797326 102.306094 \nL 112.582086 136.976511 \nL 129.366845 183.315956 \nL 146.151604 230.390568 \nL 162.936364 257.507291 \nL 179.721123 265.776239 \nL 196.505882 267.75376 \nL 213.290642 268.333267 \nL 230.075401 268.508828 \nL 246.86016 268.722872 \nL 263.64492 268.75812 \nL 280.429679 268.765164 \nL 297.214439 268.823118 \nL 313.999198 268.80918 \nL 330.783957 268.829844 \n\" style=\"fill:none;stroke:#9467bd;stroke-linecap:square;stroke-width:1.5;\"/>\n   </g>\n   <g id=\"line2d_68\">\n    <path clip-path=\"url(#p792ca1dc57)\" d=\"M 62.227807 78.313228 \nL 79.012567 85.861208 \nL 95.797326 100.821665 \nL 112.582086 135.271052 \nL 129.366845 190.402452 \nL 146.151604 232.950588 \nL 162.936364 254.950595 \nL 179.721123 264.643707 \nL 196.505882 266.630858 \nL 213.290642 267.437367 \nL 230.075401 267.722906 \nL 246.86016 267.809698 \nL 263.64492 267.911428 \nL 280.429679 267.845775 \nL 297.214439 267.926626 \nL 313.999198 267.936173 \nL 330.783957 267.894169 \n\" style=\"fill:none;stroke:#8c564b;stroke-linecap:square;stroke-width:1.5;\"/>\n   </g>\n   <g id=\"patch_3\">\n    <path d=\"M 48.8 315 \nL 48.8 43.2 \n\" style=\"fill:none;stroke:#000000;stroke-linecap:square;stroke-linejoin:miter;stroke-width:0.8;\"/>\n   </g>\n   <g id=\"patch_4\">\n    <path d=\"M 344.211765 315 \nL 344.211765 43.2 \n\" style=\"fill:none;stroke:#000000;stroke-linecap:square;stroke-linejoin:miter;stroke-width:0.8;\"/>\n   </g>\n   <g id=\"patch_5\">\n    <path d=\"M 48.8 315 \nL 344.211765 315 \n\" style=\"fill:none;stroke:#000000;stroke-linecap:square;stroke-linejoin:miter;stroke-width:0.8;\"/>\n   </g>\n   <g id=\"patch_6\">\n    <path d=\"M 48.8 43.2 \nL 344.211765 43.2 \n\" style=\"fill:none;stroke:#000000;stroke-linecap:square;stroke-linejoin:miter;stroke-width:0.8;\"/>\n   </g>\n   <g id=\"text_10\">\n    <!-- Test MSE (Minority) -->\n    <defs>\n     <path d=\"M -0.296875 72.90625 \nL 61.375 72.90625 \nL 61.375 64.59375 \nL 35.5 64.59375 \nL 35.5 0 \nL 25.59375 0 \nL 25.59375 64.59375 \nL -0.296875 64.59375 \nz\n\" id=\"DejaVuSans-84\"/>\n     <path d=\"M 18.3125 70.21875 \nL 18.3125 54.6875 \nL 36.8125 54.6875 \nL 36.8125 47.703125 \nL 18.3125 47.703125 \nL 18.3125 18.015625 \nQ 18.3125 11.328125 20.140625 9.421875 \nQ 21.96875 7.515625 27.59375 7.515625 \nL 36.8125 7.515625 \nL 36.8125 0 \nL 27.59375 0 \nQ 17.1875 0 13.234375 3.875 \nQ 9.28125 7.765625 9.28125 18.015625 \nL 9.28125 47.703125 \nL 2.6875 47.703125 \nL 2.6875 54.6875 \nL 9.28125 54.6875 \nL 9.28125 70.21875 \nz\n\" id=\"DejaVuSans-116\"/>\n     <path id=\"DejaVuSans-32\"/>\n     <path d=\"M 9.8125 72.90625 \nL 24.515625 72.90625 \nL 43.109375 23.296875 \nL 61.8125 72.90625 \nL 76.515625 72.90625 \nL 76.515625 0 \nL 66.890625 0 \nL 66.890625 64.015625 \nL 48.09375 14.015625 \nL 38.1875 14.015625 \nL 19.390625 64.015625 \nL 19.390625 0 \nL 9.8125 0 \nz\n\" id=\"DejaVuSans-77\"/>\n     <path d=\"M 53.515625 70.515625 \nL 53.515625 60.890625 \nQ 47.90625 63.578125 42.921875 64.890625 \nQ 37.9375 66.21875 33.296875 66.21875 \nQ 25.25 66.21875 20.875 63.09375 \nQ 16.5 59.96875 16.5 54.203125 \nQ 16.5 49.359375 19.40625 46.890625 \nQ 22.3125 44.4375 30.421875 42.921875 \nL 36.375 41.703125 \nQ 47.40625 39.59375 52.65625 34.296875 \nQ 57.90625 29 57.90625 20.125 \nQ 57.90625 9.515625 50.796875 4.046875 \nQ 43.703125 -1.421875 29.984375 -1.421875 \nQ 24.8125 -1.421875 18.96875 -0.25 \nQ 13.140625 0.921875 6.890625 3.21875 \nL 6.890625 13.375 \nQ 12.890625 10.015625 18.65625 8.296875 \nQ 24.421875 6.59375 29.984375 6.59375 \nQ 38.421875 6.59375 43.015625 9.90625 \nQ 47.609375 13.234375 47.609375 19.390625 \nQ 47.609375 24.75 44.3125 27.78125 \nQ 41.015625 30.8125 33.5 32.328125 \nL 27.484375 33.5 \nQ 16.453125 35.6875 11.515625 40.375 \nQ 6.59375 45.0625 6.59375 53.421875 \nQ 6.59375 63.09375 13.40625 68.65625 \nQ 20.21875 74.21875 32.171875 74.21875 \nQ 37.3125 74.21875 42.625 73.28125 \nQ 47.953125 72.359375 53.515625 70.515625 \nz\n\" id=\"DejaVuSans-83\"/>\n     <path d=\"M 9.8125 72.90625 \nL 55.90625 72.90625 \nL 55.90625 64.59375 \nL 19.671875 64.59375 \nL 19.671875 43.015625 \nL 54.390625 43.015625 \nL 54.390625 34.71875 \nL 19.671875 34.71875 \nL 19.671875 8.296875 \nL 56.78125 8.296875 \nL 56.78125 0 \nL 9.8125 0 \nz\n\" id=\"DejaVuSans-69\"/>\n     <path d=\"M 31 75.875 \nQ 24.46875 64.65625 21.28125 53.65625 \nQ 18.109375 42.671875 18.109375 31.390625 \nQ 18.109375 20.125 21.3125 9.0625 \nQ 24.515625 -2 31 -13.1875 \nL 23.1875 -13.1875 \nQ 15.875 -1.703125 12.234375 9.375 \nQ 8.59375 20.453125 8.59375 31.390625 \nQ 8.59375 42.28125 12.203125 53.3125 \nQ 15.828125 64.359375 23.1875 75.875 \nz\n\" id=\"DejaVuSans-40\"/>\n     <path d=\"M 9.421875 54.6875 \nL 18.40625 54.6875 \nL 18.40625 0 \nL 9.421875 0 \nz\nM 9.421875 75.984375 \nL 18.40625 75.984375 \nL 18.40625 64.59375 \nL 9.421875 64.59375 \nz\n\" id=\"DejaVuSans-105\"/>\n     <path d=\"M 41.109375 46.296875 \nQ 39.59375 47.171875 37.8125 47.578125 \nQ 36.03125 48 33.890625 48 \nQ 26.265625 48 22.1875 43.046875 \nQ 18.109375 38.09375 18.109375 28.8125 \nL 18.109375 0 \nL 9.078125 0 \nL 9.078125 54.6875 \nL 18.109375 54.6875 \nL 18.109375 46.1875 \nQ 20.953125 51.171875 25.484375 53.578125 \nQ 30.03125 56 36.53125 56 \nQ 37.453125 56 38.578125 55.875 \nQ 39.703125 55.765625 41.0625 55.515625 \nz\n\" id=\"DejaVuSans-114\"/>\n     <path d=\"M 32.171875 -5.078125 \nQ 28.375 -14.84375 24.75 -17.8125 \nQ 21.140625 -20.796875 15.09375 -20.796875 \nL 7.90625 -20.796875 \nL 7.90625 -13.28125 \nL 13.1875 -13.28125 \nQ 16.890625 -13.28125 18.9375 -11.515625 \nQ 21 -9.765625 23.484375 -3.21875 \nL 25.09375 0.875 \nL 2.984375 54.6875 \nL 12.5 54.6875 \nL 29.59375 11.921875 \nL 46.6875 54.6875 \nL 56.203125 54.6875 \nz\n\" id=\"DejaVuSans-121\"/>\n     <path d=\"M 8.015625 75.875 \nL 15.828125 75.875 \nQ 23.140625 64.359375 26.78125 53.3125 \nQ 30.421875 42.28125 30.421875 31.390625 \nQ 30.421875 20.453125 26.78125 9.375 \nQ 23.140625 -1.703125 15.828125 -13.1875 \nL 8.015625 -13.1875 \nQ 14.5 -2 17.703125 9.0625 \nQ 20.90625 20.125 20.90625 31.390625 \nQ 20.90625 42.671875 17.703125 53.65625 \nQ 14.5 64.65625 8.015625 75.875 \nz\n\" id=\"DejaVuSans-41\"/>\n    </defs>\n    <g transform=\"translate(139.06432 37.2)scale(0.12 -0.12)\">\n     <use xlink:href=\"#DejaVuSans-84\"/>\n     <use x=\"44.083984\" xlink:href=\"#DejaVuSans-101\"/>\n     <use x=\"105.607422\" xlink:href=\"#DejaVuSans-115\"/>\n     <use x=\"157.707031\" xlink:href=\"#DejaVuSans-116\"/>\n     <use x=\"196.916016\" xlink:href=\"#DejaVuSans-32\"/>\n     <use x=\"228.703125\" xlink:href=\"#DejaVuSans-77\"/>\n     <use x=\"314.982422\" xlink:href=\"#DejaVuSans-83\"/>\n     <use x=\"378.458984\" xlink:href=\"#DejaVuSans-69\"/>\n     <use x=\"441.642578\" xlink:href=\"#DejaVuSans-32\"/>\n     <use x=\"473.429688\" xlink:href=\"#DejaVuSans-40\"/>\n     <use x=\"512.443359\" xlink:href=\"#DejaVuSans-77\"/>\n     <use x=\"598.722656\" xlink:href=\"#DejaVuSans-105\"/>\n     <use x=\"626.505859\" xlink:href=\"#DejaVuSans-110\"/>\n     <use x=\"689.884766\" xlink:href=\"#DejaVuSans-111\"/>\n     <use x=\"751.066406\" xlink:href=\"#DejaVuSans-114\"/>\n     <use x=\"792.179688\" xlink:href=\"#DejaVuSans-105\"/>\n     <use x=\"819.962891\" xlink:href=\"#DejaVuSans-116\"/>\n     <use x=\"859.171875\" xlink:href=\"#DejaVuSans-121\"/>\n     <use x=\"918.351562\" xlink:href=\"#DejaVuSans-41\"/>\n    </g>\n   </g>\n  </g>\n  <g id=\"axes_2\">\n   <g id=\"patch_7\">\n    <path d=\"M 403.294118 315 \nL 698.705882 315 \nL 698.705882 43.2 \nL 403.294118 43.2 \nz\n\" style=\"fill:#ffffff;\"/>\n   </g>\n   <g id=\"matplotlib.axis_3\">\n    <g id=\"xtick_51\">\n     <g id=\"line2d_69\">\n      <g>\n       <use style=\"stroke:#000000;stroke-width:0.8;\" x=\"416.721925\" xlink:href=\"#m7dcdef6c59\" y=\"315\"/>\n      </g>\n     </g>\n     <g id=\"text_11\">\n      <!-- $\\mathdefault{10^{0}}$ -->\n      <g transform=\"translate(407.921925 329.598437)scale(0.1 -0.1)\">\n       <use transform=\"translate(0 0.765625)\" xlink:href=\"#DejaVuSans-49\"/>\n       <use transform=\"translate(63.623047 0.765625)\" xlink:href=\"#DejaVuSans-48\"/>\n       <use transform=\"translate(128.203125 39.046875)scale(0.7)\" xlink:href=\"#DejaVuSans-48\"/>\n      </g>\n     </g>\n    </g>\n    <g id=\"xtick_52\">\n     <g id=\"line2d_70\">\n      <g>\n       <use style=\"stroke:#000000;stroke-width:0.8;\" x=\"472.479689\" xlink:href=\"#m7dcdef6c59\" y=\"315\"/>\n      </g>\n     </g>\n     <g id=\"text_12\">\n      <!-- $\\mathdefault{10^{1}}$ -->\n      <g transform=\"translate(463.679689 329.598437)scale(0.1 -0.1)\">\n       <use transform=\"translate(0 0.684375)\" xlink:href=\"#DejaVuSans-49\"/>\n       <use transform=\"translate(63.623047 0.684375)\" xlink:href=\"#DejaVuSans-48\"/>\n       <use transform=\"translate(128.203125 38.965625)scale(0.7)\" xlink:href=\"#DejaVuSans-49\"/>\n      </g>\n     </g>\n    </g>\n    <g id=\"xtick_53\">\n     <g id=\"line2d_71\">\n      <g>\n       <use style=\"stroke:#000000;stroke-width:0.8;\" x=\"528.237452\" xlink:href=\"#m7dcdef6c59\" y=\"315\"/>\n      </g>\n     </g>\n     <g id=\"text_13\">\n      <!-- $\\mathdefault{10^{2}}$ -->\n      <g transform=\"translate(519.437452 329.598437)scale(0.1 -0.1)\">\n       <use transform=\"translate(0 0.765625)\" xlink:href=\"#DejaVuSans-49\"/>\n       <use transform=\"translate(63.623047 0.765625)\" xlink:href=\"#DejaVuSans-48\"/>\n       <use transform=\"translate(128.203125 39.046875)scale(0.7)\" xlink:href=\"#DejaVuSans-50\"/>\n      </g>\n     </g>\n    </g>\n    <g id=\"xtick_54\">\n     <g id=\"line2d_72\">\n      <g>\n       <use style=\"stroke:#000000;stroke-width:0.8;\" x=\"583.995216\" xlink:href=\"#m7dcdef6c59\" y=\"315\"/>\n      </g>\n     </g>\n     <g id=\"text_14\">\n      <!-- $\\mathdefault{10^{3}}$ -->\n      <g transform=\"translate(575.195216 329.598437)scale(0.1 -0.1)\">\n       <use transform=\"translate(0 0.765625)\" xlink:href=\"#DejaVuSans-49\"/>\n       <use transform=\"translate(63.623047 0.765625)\" xlink:href=\"#DejaVuSans-48\"/>\n       <use transform=\"translate(128.203125 39.046875)scale(0.7)\" xlink:href=\"#DejaVuSans-51\"/>\n      </g>\n     </g>\n    </g>\n    <g id=\"xtick_55\">\n     <g id=\"line2d_73\">\n      <g>\n       <use style=\"stroke:#000000;stroke-width:0.8;\" x=\"639.75298\" xlink:href=\"#m7dcdef6c59\" y=\"315\"/>\n      </g>\n     </g>\n     <g id=\"text_15\">\n      <!-- $\\mathdefault{10^{4}}$ -->\n      <g transform=\"translate(630.95298 329.598437)scale(0.1 -0.1)\">\n       <use transform=\"translate(0 0.684375)\" xlink:href=\"#DejaVuSans-49\"/>\n       <use transform=\"translate(63.623047 0.684375)\" xlink:href=\"#DejaVuSans-48\"/>\n       <use transform=\"translate(128.203125 38.965625)scale(0.7)\" xlink:href=\"#DejaVuSans-52\"/>\n      </g>\n     </g>\n    </g>\n    <g id=\"xtick_56\">\n     <g id=\"line2d_74\">\n      <g>\n       <use style=\"stroke:#000000;stroke-width:0.8;\" x=\"695.510744\" xlink:href=\"#m7dcdef6c59\" y=\"315\"/>\n      </g>\n     </g>\n     <g id=\"text_16\">\n      <!-- $\\mathdefault{10^{5}}$ -->\n      <g transform=\"translate(686.710744 329.598437)scale(0.1 -0.1)\">\n       <use transform=\"translate(0 0.684375)\" xlink:href=\"#DejaVuSans-49\"/>\n       <use transform=\"translate(63.623047 0.684375)\" xlink:href=\"#DejaVuSans-48\"/>\n       <use transform=\"translate(128.203125 38.965625)scale(0.7)\" xlink:href=\"#DejaVuSans-53\"/>\n      </g>\n     </g>\n    </g>\n    <g id=\"xtick_57\">\n     <g id=\"line2d_75\">\n      <g>\n       <use style=\"stroke:#000000;stroke-width:0.6;\" x=\"404.352135\" xlink:href=\"#mc93e686c97\" y=\"315\"/>\n      </g>\n     </g>\n    </g>\n    <g id=\"xtick_58\">\n     <g id=\"line2d_76\">\n      <g>\n       <use style=\"stroke:#000000;stroke-width:0.6;\" x=\"408.084938\" xlink:href=\"#mc93e686c97\" y=\"315\"/>\n      </g>\n     </g>\n    </g>\n    <g id=\"xtick_59\">\n     <g id=\"line2d_77\">\n      <g>\n       <use style=\"stroke:#000000;stroke-width:0.6;\" x=\"411.31844\" xlink:href=\"#mc93e686c97\" y=\"315\"/>\n      </g>\n     </g>\n    </g>\n    <g id=\"xtick_60\">\n     <g id=\"line2d_78\">\n      <g>\n       <use style=\"stroke:#000000;stroke-width:0.6;\" x=\"414.17059\" xlink:href=\"#mc93e686c97\" y=\"315\"/>\n      </g>\n     </g>\n    </g>\n    <g id=\"xtick_61\">\n     <g id=\"line2d_79\">\n      <g>\n       <use style=\"stroke:#000000;stroke-width:0.6;\" x=\"433.506684\" xlink:href=\"#mc93e686c97\" y=\"315\"/>\n      </g>\n     </g>\n    </g>\n    <g id=\"xtick_62\">\n     <g id=\"line2d_80\">\n      <g>\n       <use style=\"stroke:#000000;stroke-width:0.6;\" x=\"443.325139\" xlink:href=\"#mc93e686c97\" y=\"315\"/>\n      </g>\n     </g>\n    </g>\n    <g id=\"xtick_63\">\n     <g id=\"line2d_81\">\n      <g>\n       <use style=\"stroke:#000000;stroke-width:0.6;\" x=\"450.291444\" xlink:href=\"#mc93e686c97\" y=\"315\"/>\n      </g>\n     </g>\n    </g>\n    <g id=\"xtick_64\">\n     <g id=\"line2d_82\">\n      <g>\n       <use style=\"stroke:#000000;stroke-width:0.6;\" x=\"455.694929\" xlink:href=\"#mc93e686c97\" y=\"315\"/>\n      </g>\n     </g>\n    </g>\n    <g id=\"xtick_65\">\n     <g id=\"line2d_83\">\n      <g>\n       <use style=\"stroke:#000000;stroke-width:0.6;\" x=\"460.109899\" xlink:href=\"#mc93e686c97\" y=\"315\"/>\n      </g>\n     </g>\n    </g>\n    <g id=\"xtick_66\">\n     <g id=\"line2d_84\">\n      <g>\n       <use style=\"stroke:#000000;stroke-width:0.6;\" x=\"463.842702\" xlink:href=\"#mc93e686c97\" y=\"315\"/>\n      </g>\n     </g>\n    </g>\n    <g id=\"xtick_67\">\n     <g id=\"line2d_85\">\n      <g>\n       <use style=\"stroke:#000000;stroke-width:0.6;\" x=\"467.076203\" xlink:href=\"#mc93e686c97\" y=\"315\"/>\n      </g>\n     </g>\n    </g>\n    <g id=\"xtick_68\">\n     <g id=\"line2d_86\">\n      <g>\n       <use style=\"stroke:#000000;stroke-width:0.6;\" x=\"469.928353\" xlink:href=\"#mc93e686c97\" y=\"315\"/>\n      </g>\n     </g>\n    </g>\n    <g id=\"xtick_69\">\n     <g id=\"line2d_87\">\n      <g>\n       <use style=\"stroke:#000000;stroke-width:0.6;\" x=\"489.264448\" xlink:href=\"#mc93e686c97\" y=\"315\"/>\n      </g>\n     </g>\n    </g>\n    <g id=\"xtick_70\">\n     <g id=\"line2d_88\">\n      <g>\n       <use style=\"stroke:#000000;stroke-width:0.6;\" x=\"499.082903\" xlink:href=\"#mc93e686c97\" y=\"315\"/>\n      </g>\n     </g>\n    </g>\n    <g id=\"xtick_71\">\n     <g id=\"line2d_89\">\n      <g>\n       <use style=\"stroke:#000000;stroke-width:0.6;\" x=\"506.049208\" xlink:href=\"#mc93e686c97\" y=\"315\"/>\n      </g>\n     </g>\n    </g>\n    <g id=\"xtick_72\">\n     <g id=\"line2d_90\">\n      <g>\n       <use style=\"stroke:#000000;stroke-width:0.6;\" x=\"511.452693\" xlink:href=\"#mc93e686c97\" y=\"315\"/>\n      </g>\n     </g>\n    </g>\n    <g id=\"xtick_73\">\n     <g id=\"line2d_91\">\n      <g>\n       <use style=\"stroke:#000000;stroke-width:0.6;\" x=\"515.867662\" xlink:href=\"#mc93e686c97\" y=\"315\"/>\n      </g>\n     </g>\n    </g>\n    <g id=\"xtick_74\">\n     <g id=\"line2d_92\">\n      <g>\n       <use style=\"stroke:#000000;stroke-width:0.6;\" x=\"519.600466\" xlink:href=\"#mc93e686c97\" y=\"315\"/>\n      </g>\n     </g>\n    </g>\n    <g id=\"xtick_75\">\n     <g id=\"line2d_93\">\n      <g>\n       <use style=\"stroke:#000000;stroke-width:0.6;\" x=\"522.833967\" xlink:href=\"#mc93e686c97\" y=\"315\"/>\n      </g>\n     </g>\n    </g>\n    <g id=\"xtick_76\">\n     <g id=\"line2d_94\">\n      <g>\n       <use style=\"stroke:#000000;stroke-width:0.6;\" x=\"525.686117\" xlink:href=\"#mc93e686c97\" y=\"315\"/>\n      </g>\n     </g>\n    </g>\n    <g id=\"xtick_77\">\n     <g id=\"line2d_95\">\n      <g>\n       <use style=\"stroke:#000000;stroke-width:0.6;\" x=\"545.022212\" xlink:href=\"#mc93e686c97\" y=\"315\"/>\n      </g>\n     </g>\n    </g>\n    <g id=\"xtick_78\">\n     <g id=\"line2d_96\">\n      <g>\n       <use style=\"stroke:#000000;stroke-width:0.6;\" x=\"554.840667\" xlink:href=\"#mc93e686c97\" y=\"315\"/>\n      </g>\n     </g>\n    </g>\n    <g id=\"xtick_79\">\n     <g id=\"line2d_97\">\n      <g>\n       <use style=\"stroke:#000000;stroke-width:0.6;\" x=\"561.806971\" xlink:href=\"#mc93e686c97\" y=\"315\"/>\n      </g>\n     </g>\n    </g>\n    <g id=\"xtick_80\">\n     <g id=\"line2d_98\">\n      <g>\n       <use style=\"stroke:#000000;stroke-width:0.6;\" x=\"567.210457\" xlink:href=\"#mc93e686c97\" y=\"315\"/>\n      </g>\n     </g>\n    </g>\n    <g id=\"xtick_81\">\n     <g id=\"line2d_99\">\n      <g>\n       <use style=\"stroke:#000000;stroke-width:0.6;\" x=\"571.625426\" xlink:href=\"#mc93e686c97\" y=\"315\"/>\n      </g>\n     </g>\n    </g>\n    <g id=\"xtick_82\">\n     <g id=\"line2d_100\">\n      <g>\n       <use style=\"stroke:#000000;stroke-width:0.6;\" x=\"575.358229\" xlink:href=\"#mc93e686c97\" y=\"315\"/>\n      </g>\n     </g>\n    </g>\n    <g id=\"xtick_83\">\n     <g id=\"line2d_101\">\n      <g>\n       <use style=\"stroke:#000000;stroke-width:0.6;\" x=\"578.591731\" xlink:href=\"#mc93e686c97\" y=\"315\"/>\n      </g>\n     </g>\n    </g>\n    <g id=\"xtick_84\">\n     <g id=\"line2d_102\">\n      <g>\n       <use style=\"stroke:#000000;stroke-width:0.6;\" x=\"581.443881\" xlink:href=\"#mc93e686c97\" y=\"315\"/>\n      </g>\n     </g>\n    </g>\n    <g id=\"xtick_85\">\n     <g id=\"line2d_103\">\n      <g>\n       <use style=\"stroke:#000000;stroke-width:0.6;\" x=\"600.779976\" xlink:href=\"#mc93e686c97\" y=\"315\"/>\n      </g>\n     </g>\n    </g>\n    <g id=\"xtick_86\">\n     <g id=\"line2d_104\">\n      <g>\n       <use style=\"stroke:#000000;stroke-width:0.6;\" x=\"610.59843\" xlink:href=\"#mc93e686c97\" y=\"315\"/>\n      </g>\n     </g>\n    </g>\n    <g id=\"xtick_87\">\n     <g id=\"line2d_105\">\n      <g>\n       <use style=\"stroke:#000000;stroke-width:0.6;\" x=\"617.564735\" xlink:href=\"#mc93e686c97\" y=\"315\"/>\n      </g>\n     </g>\n    </g>\n    <g id=\"xtick_88\">\n     <g id=\"line2d_106\">\n      <g>\n       <use style=\"stroke:#000000;stroke-width:0.6;\" x=\"622.96822\" xlink:href=\"#mc93e686c97\" y=\"315\"/>\n      </g>\n     </g>\n    </g>\n    <g id=\"xtick_89\">\n     <g id=\"line2d_107\">\n      <g>\n       <use style=\"stroke:#000000;stroke-width:0.6;\" x=\"627.38319\" xlink:href=\"#mc93e686c97\" y=\"315\"/>\n      </g>\n     </g>\n    </g>\n    <g id=\"xtick_90\">\n     <g id=\"line2d_108\">\n      <g>\n       <use style=\"stroke:#000000;stroke-width:0.6;\" x=\"631.115993\" xlink:href=\"#mc93e686c97\" y=\"315\"/>\n      </g>\n     </g>\n    </g>\n    <g id=\"xtick_91\">\n     <g id=\"line2d_109\">\n      <g>\n       <use style=\"stroke:#000000;stroke-width:0.6;\" x=\"634.349494\" xlink:href=\"#mc93e686c97\" y=\"315\"/>\n      </g>\n     </g>\n    </g>\n    <g id=\"xtick_92\">\n     <g id=\"line2d_110\">\n      <g>\n       <use style=\"stroke:#000000;stroke-width:0.6;\" x=\"637.201645\" xlink:href=\"#mc93e686c97\" y=\"315\"/>\n      </g>\n     </g>\n    </g>\n    <g id=\"xtick_93\">\n     <g id=\"line2d_111\">\n      <g>\n       <use style=\"stroke:#000000;stroke-width:0.6;\" x=\"656.537739\" xlink:href=\"#mc93e686c97\" y=\"315\"/>\n      </g>\n     </g>\n    </g>\n    <g id=\"xtick_94\">\n     <g id=\"line2d_112\">\n      <g>\n       <use style=\"stroke:#000000;stroke-width:0.6;\" x=\"666.356194\" xlink:href=\"#mc93e686c97\" y=\"315\"/>\n      </g>\n     </g>\n    </g>\n    <g id=\"xtick_95\">\n     <g id=\"line2d_113\">\n      <g>\n       <use style=\"stroke:#000000;stroke-width:0.6;\" x=\"673.322499\" xlink:href=\"#mc93e686c97\" y=\"315\"/>\n      </g>\n     </g>\n    </g>\n    <g id=\"xtick_96\">\n     <g id=\"line2d_114\">\n      <g>\n       <use style=\"stroke:#000000;stroke-width:0.6;\" x=\"678.725984\" xlink:href=\"#mc93e686c97\" y=\"315\"/>\n      </g>\n     </g>\n    </g>\n    <g id=\"xtick_97\">\n     <g id=\"line2d_115\">\n      <g>\n       <use style=\"stroke:#000000;stroke-width:0.6;\" x=\"683.140953\" xlink:href=\"#mc93e686c97\" y=\"315\"/>\n      </g>\n     </g>\n    </g>\n    <g id=\"xtick_98\">\n     <g id=\"line2d_116\">\n      <g>\n       <use style=\"stroke:#000000;stroke-width:0.6;\" x=\"686.873757\" xlink:href=\"#mc93e686c97\" y=\"315\"/>\n      </g>\n     </g>\n    </g>\n    <g id=\"xtick_99\">\n     <g id=\"line2d_117\">\n      <g>\n       <use style=\"stroke:#000000;stroke-width:0.6;\" x=\"690.107258\" xlink:href=\"#mc93e686c97\" y=\"315\"/>\n      </g>\n     </g>\n    </g>\n    <g id=\"xtick_100\">\n     <g id=\"line2d_118\">\n      <g>\n       <use style=\"stroke:#000000;stroke-width:0.6;\" x=\"692.959408\" xlink:href=\"#mc93e686c97\" y=\"315\"/>\n      </g>\n     </g>\n    </g>\n    <g id=\"text_17\">\n     <!-- nodes -->\n     <g transform=\"translate(535.916406 343.276562)scale(0.1 -0.1)\">\n      <use xlink:href=\"#DejaVuSans-110\"/>\n      <use x=\"63.378906\" xlink:href=\"#DejaVuSans-111\"/>\n      <use x=\"124.560547\" xlink:href=\"#DejaVuSans-100\"/>\n      <use x=\"188.037109\" xlink:href=\"#DejaVuSans-101\"/>\n      <use x=\"249.560547\" xlink:href=\"#DejaVuSans-115\"/>\n     </g>\n    </g>\n   </g>\n   <g id=\"matplotlib.axis_4\">\n    <g id=\"ytick_7\">\n     <g id=\"line2d_119\">\n      <g>\n       <use style=\"stroke:#000000;stroke-width:0.8;\" x=\"403.294118\" xlink:href=\"#m697a21d126\" y=\"290.388917\"/>\n      </g>\n     </g>\n     <g id=\"text_18\">\n      <!-- $\\mathdefault{10^{-1}}$ -->\n      <defs>\n       <path d=\"M 10.59375 35.5 \nL 73.1875 35.5 \nL 73.1875 27.203125 \nL 10.59375 27.203125 \nz\n\" id=\"DejaVuSans-8722\"/>\n      </defs>\n      <g transform=\"translate(372.794118 294.188135)scale(0.1 -0.1)\">\n       <use transform=\"translate(0 0.684375)\" xlink:href=\"#DejaVuSans-49\"/>\n       <use transform=\"translate(63.623047 0.684375)\" xlink:href=\"#DejaVuSans-48\"/>\n       <use transform=\"translate(128.203125 38.965625)scale(0.7)\" xlink:href=\"#DejaVuSans-8722\"/>\n       <use transform=\"translate(186.855469 38.965625)scale(0.7)\" xlink:href=\"#DejaVuSans-49\"/>\n      </g>\n     </g>\n    </g>\n    <g id=\"ytick_8\">\n     <g id=\"line2d_120\">\n      <g>\n       <use style=\"stroke:#000000;stroke-width:0.8;\" x=\"403.294118\" xlink:href=\"#m697a21d126\" y=\"184.711921\"/>\n      </g>\n     </g>\n     <g id=\"text_19\">\n      <!-- $\\mathdefault{10^{0}}$ -->\n      <g transform=\"translate(378.694118 188.51114)scale(0.1 -0.1)\">\n       <use transform=\"translate(0 0.765625)\" xlink:href=\"#DejaVuSans-49\"/>\n       <use transform=\"translate(63.623047 0.765625)\" xlink:href=\"#DejaVuSans-48\"/>\n       <use transform=\"translate(128.203125 39.046875)scale(0.7)\" xlink:href=\"#DejaVuSans-48\"/>\n      </g>\n     </g>\n    </g>\n    <g id=\"ytick_9\">\n     <g id=\"line2d_121\">\n      <g>\n       <use style=\"stroke:#000000;stroke-width:0.8;\" x=\"403.294118\" xlink:href=\"#m697a21d126\" y=\"79.034925\"/>\n      </g>\n     </g>\n     <g id=\"text_20\">\n      <!-- $\\mathdefault{10^{1}}$ -->\n      <g transform=\"translate(378.694118 82.834144)scale(0.1 -0.1)\">\n       <use transform=\"translate(0 0.684375)\" xlink:href=\"#DejaVuSans-49\"/>\n       <use transform=\"translate(63.623047 0.684375)\" xlink:href=\"#DejaVuSans-48\"/>\n       <use transform=\"translate(128.203125 38.965625)scale(0.7)\" xlink:href=\"#DejaVuSans-49\"/>\n      </g>\n     </g>\n    </g>\n    <g id=\"ytick_10\">\n     <g id=\"line2d_122\">\n      <g>\n       <use style=\"stroke:#000000;stroke-width:0.6;\" x=\"403.294118\" xlink:href=\"#mdf464021a0\" y=\"313.833226\"/>\n      </g>\n     </g>\n    </g>\n    <g id=\"ytick_11\">\n     <g id=\"line2d_123\">\n      <g>\n       <use style=\"stroke:#000000;stroke-width:0.6;\" x=\"403.294118\" xlink:href=\"#mdf464021a0\" y=\"306.75849\"/>\n      </g>\n     </g>\n    </g>\n    <g id=\"ytick_12\">\n     <g id=\"line2d_124\">\n      <g>\n       <use style=\"stroke:#000000;stroke-width:0.6;\" x=\"403.294118\" xlink:href=\"#mdf464021a0\" y=\"300.630076\"/>\n      </g>\n     </g>\n    </g>\n    <g id=\"ytick_13\">\n     <g id=\"line2d_125\">\n      <g>\n       <use style=\"stroke:#000000;stroke-width:0.6;\" x=\"403.294118\" xlink:href=\"#mdf464021a0\" y=\"295.224431\"/>\n      </g>\n     </g>\n    </g>\n    <g id=\"ytick_14\">\n     <g id=\"line2d_126\">\n      <g>\n       <use style=\"stroke:#000000;stroke-width:0.6;\" x=\"403.294118\" xlink:href=\"#mdf464021a0\" y=\"258.576971\"/>\n      </g>\n     </g>\n    </g>\n    <g id=\"ytick_15\">\n     <g id=\"line2d_127\">\n      <g>\n       <use style=\"stroke:#000000;stroke-width:0.6;\" x=\"403.294118\" xlink:href=\"#mdf464021a0\" y=\"239.968176\"/>\n      </g>\n     </g>\n    </g>\n    <g id=\"ytick_16\">\n     <g id=\"line2d_128\">\n      <g>\n       <use style=\"stroke:#000000;stroke-width:0.6;\" x=\"403.294118\" xlink:href=\"#mdf464021a0\" y=\"226.765025\"/>\n      </g>\n     </g>\n    </g>\n    <g id=\"ytick_17\">\n     <g id=\"line2d_129\">\n      <g>\n       <use style=\"stroke:#000000;stroke-width:0.6;\" x=\"403.294118\" xlink:href=\"#mdf464021a0\" y=\"216.523866\"/>\n      </g>\n     </g>\n    </g>\n    <g id=\"ytick_18\">\n     <g id=\"line2d_130\">\n      <g>\n       <use style=\"stroke:#000000;stroke-width:0.6;\" x=\"403.294118\" xlink:href=\"#mdf464021a0\" y=\"208.15623\"/>\n      </g>\n     </g>\n    </g>\n    <g id=\"ytick_19\">\n     <g id=\"line2d_131\">\n      <g>\n       <use style=\"stroke:#000000;stroke-width:0.6;\" x=\"403.294118\" xlink:href=\"#mdf464021a0\" y=\"201.081495\"/>\n      </g>\n     </g>\n    </g>\n    <g id=\"ytick_20\">\n     <g id=\"line2d_132\">\n      <g>\n       <use style=\"stroke:#000000;stroke-width:0.6;\" x=\"403.294118\" xlink:href=\"#mdf464021a0\" y=\"194.95308\"/>\n      </g>\n     </g>\n    </g>\n    <g id=\"ytick_21\">\n     <g id=\"line2d_133\">\n      <g>\n       <use style=\"stroke:#000000;stroke-width:0.6;\" x=\"403.294118\" xlink:href=\"#mdf464021a0\" y=\"189.547435\"/>\n      </g>\n     </g>\n    </g>\n    <g id=\"ytick_22\">\n     <g id=\"line2d_134\">\n      <g>\n       <use style=\"stroke:#000000;stroke-width:0.6;\" x=\"403.294118\" xlink:href=\"#mdf464021a0\" y=\"152.899975\"/>\n      </g>\n     </g>\n    </g>\n    <g id=\"ytick_23\">\n     <g id=\"line2d_135\">\n      <g>\n       <use style=\"stroke:#000000;stroke-width:0.6;\" x=\"403.294118\" xlink:href=\"#mdf464021a0\" y=\"134.29118\"/>\n      </g>\n     </g>\n    </g>\n    <g id=\"ytick_24\">\n     <g id=\"line2d_136\">\n      <g>\n       <use style=\"stroke:#000000;stroke-width:0.6;\" x=\"403.294118\" xlink:href=\"#mdf464021a0\" y=\"121.08803\"/>\n      </g>\n     </g>\n    </g>\n    <g id=\"ytick_25\">\n     <g id=\"line2d_137\">\n      <g>\n       <use style=\"stroke:#000000;stroke-width:0.6;\" x=\"403.294118\" xlink:href=\"#mdf464021a0\" y=\"110.846871\"/>\n      </g>\n     </g>\n    </g>\n    <g id=\"ytick_26\">\n     <g id=\"line2d_138\">\n      <g>\n       <use style=\"stroke:#000000;stroke-width:0.6;\" x=\"403.294118\" xlink:href=\"#mdf464021a0\" y=\"102.479234\"/>\n      </g>\n     </g>\n    </g>\n    <g id=\"ytick_27\">\n     <g id=\"line2d_139\">\n      <g>\n       <use style=\"stroke:#000000;stroke-width:0.6;\" x=\"403.294118\" xlink:href=\"#mdf464021a0\" y=\"95.404499\"/>\n      </g>\n     </g>\n    </g>\n    <g id=\"ytick_28\">\n     <g id=\"line2d_140\">\n      <g>\n       <use style=\"stroke:#000000;stroke-width:0.6;\" x=\"403.294118\" xlink:href=\"#mdf464021a0\" y=\"89.276084\"/>\n      </g>\n     </g>\n    </g>\n    <g id=\"ytick_29\">\n     <g id=\"line2d_141\">\n      <g>\n       <use style=\"stroke:#000000;stroke-width:0.6;\" x=\"403.294118\" xlink:href=\"#mdf464021a0\" y=\"83.870439\"/>\n      </g>\n     </g>\n    </g>\n    <g id=\"ytick_30\">\n     <g id=\"line2d_142\">\n      <g>\n       <use style=\"stroke:#000000;stroke-width:0.6;\" x=\"403.294118\" xlink:href=\"#mdf464021a0\" y=\"47.222979\"/>\n      </g>\n     </g>\n    </g>\n   </g>\n   <g id=\"LineCollection_7\">\n    <path clip-path=\"url(#p5ae806f2af)\" d=\"M 416.721925 65.231302 \nL 416.721925 55.89468 \n\" style=\"fill:none;stroke:#1f77b4;stroke-width:1.5;\"/>\n    <path clip-path=\"url(#p5ae806f2af)\" d=\"M 433.506684 69.480332 \nL 433.506684 57.478131 \n\" style=\"fill:none;stroke:#1f77b4;stroke-width:1.5;\"/>\n    <path clip-path=\"url(#p5ae806f2af)\" d=\"M 450.291444 76.7448 \nL 450.291444 61.503141 \n\" style=\"fill:none;stroke:#1f77b4;stroke-width:1.5;\"/>\n    <path clip-path=\"url(#p5ae806f2af)\" d=\"M 467.076203 91.052638 \nL 467.076203 69.498996 \n\" style=\"fill:none;stroke:#1f77b4;stroke-width:1.5;\"/>\n    <path clip-path=\"url(#p5ae806f2af)\" d=\"M 483.860963 108.761672 \nL 483.860963 83.086235 \n\" style=\"fill:none;stroke:#1f77b4;stroke-width:1.5;\"/>\n    <path clip-path=\"url(#p5ae806f2af)\" d=\"M 500.645722 129.47693 \nL 500.645722 102.149761 \n\" style=\"fill:none;stroke:#1f77b4;stroke-width:1.5;\"/>\n    <path clip-path=\"url(#p5ae806f2af)\" d=\"M 517.430481 148.706802 \nL 517.430481 120.159418 \n\" style=\"fill:none;stroke:#1f77b4;stroke-width:1.5;\"/>\n    <path clip-path=\"url(#p5ae806f2af)\" d=\"M 534.215241 161.857453 \nL 534.215241 135.730381 \n\" style=\"fill:none;stroke:#1f77b4;stroke-width:1.5;\"/>\n    <path clip-path=\"url(#p5ae806f2af)\" d=\"M 551 171.587658 \nL 551 147.110041 \n\" style=\"fill:none;stroke:#1f77b4;stroke-width:1.5;\"/>\n    <path clip-path=\"url(#p5ae806f2af)\" d=\"M 567.784759 176.899114 \nL 567.784759 153.807182 \n\" style=\"fill:none;stroke:#1f77b4;stroke-width:1.5;\"/>\n    <path clip-path=\"url(#p5ae806f2af)\" d=\"M 584.569519 179.50479 \nL 584.569519 157.132396 \n\" style=\"fill:none;stroke:#1f77b4;stroke-width:1.5;\"/>\n    <path clip-path=\"url(#p5ae806f2af)\" d=\"M 601.354278 182.128493 \nL 601.354278 159.232296 \n\" style=\"fill:none;stroke:#1f77b4;stroke-width:1.5;\"/>\n    <path clip-path=\"url(#p5ae806f2af)\" d=\"M 618.139037 182.696374 \nL 618.139037 160.02151 \n\" style=\"fill:none;stroke:#1f77b4;stroke-width:1.5;\"/>\n    <path clip-path=\"url(#p5ae806f2af)\" d=\"M 634.923797 183.109815 \nL 634.923797 160.543159 \n\" style=\"fill:none;stroke:#1f77b4;stroke-width:1.5;\"/>\n    <path clip-path=\"url(#p5ae806f2af)\" d=\"M 651.708556 183.473396 \nL 651.708556 160.836904 \n\" style=\"fill:none;stroke:#1f77b4;stroke-width:1.5;\"/>\n    <path clip-path=\"url(#p5ae806f2af)\" d=\"M 668.493316 183.589392 \nL 668.493316 160.765957 \n\" style=\"fill:none;stroke:#1f77b4;stroke-width:1.5;\"/>\n    <path clip-path=\"url(#p5ae806f2af)\" d=\"M 685.278075 183.62137 \nL 685.278075 160.999026 \n\" style=\"fill:none;stroke:#1f77b4;stroke-width:1.5;\"/>\n   </g>\n   <g id=\"LineCollection_8\">\n    <path clip-path=\"url(#p5ae806f2af)\" d=\"M 416.721925 65.358761 \nL 416.721925 55.678625 \n\" style=\"fill:none;stroke:#ff7f0e;stroke-width:1.5;\"/>\n    <path clip-path=\"url(#p5ae806f2af)\" d=\"M 433.506684 70.236354 \nL 433.506684 57.377655 \n\" style=\"fill:none;stroke:#ff7f0e;stroke-width:1.5;\"/>\n    <path clip-path=\"url(#p5ae806f2af)\" d=\"M 450.291444 82.859757 \nL 450.291444 62.417455 \n\" style=\"fill:none;stroke:#ff7f0e;stroke-width:1.5;\"/>\n    <path clip-path=\"url(#p5ae806f2af)\" d=\"M 467.076203 98.638693 \nL 467.076203 72.19089 \n\" style=\"fill:none;stroke:#ff7f0e;stroke-width:1.5;\"/>\n    <path clip-path=\"url(#p5ae806f2af)\" d=\"M 483.860963 124.06419 \nL 483.860963 91.315066 \n\" style=\"fill:none;stroke:#ff7f0e;stroke-width:1.5;\"/>\n    <path clip-path=\"url(#p5ae806f2af)\" d=\"M 500.645722 153.085279 \nL 500.645722 119.705226 \n\" style=\"fill:none;stroke:#ff7f0e;stroke-width:1.5;\"/>\n    <path clip-path=\"url(#p5ae806f2af)\" d=\"M 517.430481 181.923651 \nL 517.430481 151.192473 \n\" style=\"fill:none;stroke:#ff7f0e;stroke-width:1.5;\"/>\n    <path clip-path=\"url(#p5ae806f2af)\" d=\"M 534.215241 207.299648 \nL 534.215241 179.07265 \n\" style=\"fill:none;stroke:#ff7f0e;stroke-width:1.5;\"/>\n    <path clip-path=\"url(#p5ae806f2af)\" d=\"M 551 227.328234 \nL 551 201.427683 \n\" style=\"fill:none;stroke:#ff7f0e;stroke-width:1.5;\"/>\n    <path clip-path=\"url(#p5ae806f2af)\" d=\"M 567.784759 242.698304 \nL 567.784759 215.40406 \n\" style=\"fill:none;stroke:#ff7f0e;stroke-width:1.5;\"/>\n    <path clip-path=\"url(#p5ae806f2af)\" d=\"M 584.569519 252.392034 \nL 584.569519 223.676004 \n\" style=\"fill:none;stroke:#ff7f0e;stroke-width:1.5;\"/>\n    <path clip-path=\"url(#p5ae806f2af)\" d=\"M 601.354278 257.801352 \nL 601.354278 229.204864 \n\" style=\"fill:none;stroke:#ff7f0e;stroke-width:1.5;\"/>\n    <path clip-path=\"url(#p5ae806f2af)\" d=\"M 618.139037 260.958723 \nL 618.139037 231.374422 \n\" style=\"fill:none;stroke:#ff7f0e;stroke-width:1.5;\"/>\n    <path clip-path=\"url(#p5ae806f2af)\" d=\"M 634.923797 262.487836 \nL 634.923797 232.530259 \n\" style=\"fill:none;stroke:#ff7f0e;stroke-width:1.5;\"/>\n    <path clip-path=\"url(#p5ae806f2af)\" d=\"M 651.708556 262.95601 \nL 651.708556 233.242461 \n\" style=\"fill:none;stroke:#ff7f0e;stroke-width:1.5;\"/>\n    <path clip-path=\"url(#p5ae806f2af)\" d=\"M 668.493316 263.846155 \nL 668.493316 233.484691 \n\" style=\"fill:none;stroke:#ff7f0e;stroke-width:1.5;\"/>\n    <path clip-path=\"url(#p5ae806f2af)\" d=\"M 685.278075 263.852652 \nL 685.278075 233.770223 \n\" style=\"fill:none;stroke:#ff7f0e;stroke-width:1.5;\"/>\n   </g>\n   <g id=\"LineCollection_9\">\n    <path clip-path=\"url(#p5ae806f2af)\" d=\"M 416.721925 65.574478 \nL 416.721925 55.554545 \n\" style=\"fill:none;stroke:#2ca02c;stroke-width:1.5;\"/>\n    <path clip-path=\"url(#p5ae806f2af)\" d=\"M 433.506684 70.569799 \nL 433.506684 57.637452 \n\" style=\"fill:none;stroke:#2ca02c;stroke-width:1.5;\"/>\n    <path clip-path=\"url(#p5ae806f2af)\" d=\"M 450.291444 81.738533 \nL 450.291444 61.672448 \n\" style=\"fill:none;stroke:#2ca02c;stroke-width:1.5;\"/>\n    <path clip-path=\"url(#p5ae806f2af)\" d=\"M 467.076203 99.927891 \nL 467.076203 73.550588 \n\" style=\"fill:none;stroke:#2ca02c;stroke-width:1.5;\"/>\n    <path clip-path=\"url(#p5ae806f2af)\" d=\"M 483.860963 131.684672 \nL 483.860963 99.32307 \n\" style=\"fill:none;stroke:#2ca02c;stroke-width:1.5;\"/>\n    <path clip-path=\"url(#p5ae806f2af)\" d=\"M 500.645722 167.437689 \nL 500.645722 135.635835 \n\" style=\"fill:none;stroke:#2ca02c;stroke-width:1.5;\"/>\n    <path clip-path=\"url(#p5ae806f2af)\" d=\"M 517.430481 200.094759 \nL 517.430481 175.333233 \n\" style=\"fill:none;stroke:#2ca02c;stroke-width:1.5;\"/>\n    <path clip-path=\"url(#p5ae806f2af)\" d=\"M 534.215241 228.988393 \nL 534.215241 205.843651 \n\" style=\"fill:none;stroke:#2ca02c;stroke-width:1.5;\"/>\n    <path clip-path=\"url(#p5ae806f2af)\" d=\"M 551 252.204043 \nL 551 233.483232 \n\" style=\"fill:none;stroke:#2ca02c;stroke-width:1.5;\"/>\n    <path clip-path=\"url(#p5ae806f2af)\" d=\"M 567.784759 271.331255 \nL 567.784759 252.373233 \n\" style=\"fill:none;stroke:#2ca02c;stroke-width:1.5;\"/>\n    <path clip-path=\"url(#p5ae806f2af)\" d=\"M 584.569519 284.836937 \nL 584.569519 262.396728 \n\" style=\"fill:none;stroke:#2ca02c;stroke-width:1.5;\"/>\n    <path clip-path=\"url(#p5ae806f2af)\" d=\"M 601.354278 293.27496 \nL 601.354278 268.152723 \n\" style=\"fill:none;stroke:#2ca02c;stroke-width:1.5;\"/>\n    <path clip-path=\"url(#p5ae806f2af)\" d=\"M 618.139037 298.206939 \nL 618.139037 271.977274 \n\" style=\"fill:none;stroke:#2ca02c;stroke-width:1.5;\"/>\n    <path clip-path=\"url(#p5ae806f2af)\" d=\"M 634.923797 299.949983 \nL 634.923797 274.074706 \n\" style=\"fill:none;stroke:#2ca02c;stroke-width:1.5;\"/>\n    <path clip-path=\"url(#p5ae806f2af)\" d=\"M 651.708556 301.547402 \nL 651.708556 274.825471 \n\" style=\"fill:none;stroke:#2ca02c;stroke-width:1.5;\"/>\n    <path clip-path=\"url(#p5ae806f2af)\" d=\"M 668.493316 302.223686 \nL 668.493316 275.143264 \n\" style=\"fill:none;stroke:#2ca02c;stroke-width:1.5;\"/>\n    <path clip-path=\"url(#p5ae806f2af)\" d=\"M 685.278075 302.645455 \nL 685.278075 275.455258 \n\" style=\"fill:none;stroke:#2ca02c;stroke-width:1.5;\"/>\n   </g>\n   <g id=\"LineCollection_10\">\n    <path clip-path=\"url(#p5ae806f2af)\" d=\"M 416.721925 65.055958 \nL 416.721925 55.683186 \n\" style=\"fill:none;stroke:#d62728;stroke-width:1.5;\"/>\n    <path clip-path=\"url(#p5ae806f2af)\" d=\"M 433.506684 70.994398 \nL 433.506684 57.463829 \n\" style=\"fill:none;stroke:#d62728;stroke-width:1.5;\"/>\n    <path clip-path=\"url(#p5ae806f2af)\" d=\"M 450.291444 81.737163 \nL 450.291444 60.771831 \n\" style=\"fill:none;stroke:#d62728;stroke-width:1.5;\"/>\n    <path clip-path=\"url(#p5ae806f2af)\" d=\"M 467.076203 102.021928 \nL 467.076203 74.929876 \n\" style=\"fill:none;stroke:#d62728;stroke-width:1.5;\"/>\n    <path clip-path=\"url(#p5ae806f2af)\" d=\"M 483.860963 132.2896 \nL 483.860963 102.649155 \n\" style=\"fill:none;stroke:#d62728;stroke-width:1.5;\"/>\n    <path clip-path=\"url(#p5ae806f2af)\" d=\"M 500.645722 170.363141 \nL 500.645722 143.222451 \n\" style=\"fill:none;stroke:#d62728;stroke-width:1.5;\"/>\n    <path clip-path=\"url(#p5ae806f2af)\" d=\"M 517.430481 211.035111 \nL 517.430481 187.553199 \n\" style=\"fill:none;stroke:#d62728;stroke-width:1.5;\"/>\n    <path clip-path=\"url(#p5ae806f2af)\" d=\"M 534.215241 244.649975 \nL 534.215241 223.24195 \n\" style=\"fill:none;stroke:#d62728;stroke-width:1.5;\"/>\n    <path clip-path=\"url(#p5ae806f2af)\" d=\"M 551 267.371758 \nL 551 244.044337 \n\" style=\"fill:none;stroke:#d62728;stroke-width:1.5;\"/>\n    <path clip-path=\"url(#p5ae806f2af)\" d=\"M 567.784759 281.113666 \nL 567.784759 253.69067 \n\" style=\"fill:none;stroke:#d62728;stroke-width:1.5;\"/>\n    <path clip-path=\"url(#p5ae806f2af)\" d=\"M 584.569519 287.996506 \nL 584.569519 257.034116 \n\" style=\"fill:none;stroke:#d62728;stroke-width:1.5;\"/>\n    <path clip-path=\"url(#p5ae806f2af)\" d=\"M 601.354278 291.780099 \nL 601.354278 258.732586 \n\" style=\"fill:none;stroke:#d62728;stroke-width:1.5;\"/>\n    <path clip-path=\"url(#p5ae806f2af)\" d=\"M 618.139037 293.411784 \nL 618.139037 259.747997 \n\" style=\"fill:none;stroke:#d62728;stroke-width:1.5;\"/>\n    <path clip-path=\"url(#p5ae806f2af)\" d=\"M 634.923797 294.27537 \nL 634.923797 260.056573 \n\" style=\"fill:none;stroke:#d62728;stroke-width:1.5;\"/>\n    <path clip-path=\"url(#p5ae806f2af)\" d=\"M 651.708556 294.666763 \nL 651.708556 260.273887 \n\" style=\"fill:none;stroke:#d62728;stroke-width:1.5;\"/>\n    <path clip-path=\"url(#p5ae806f2af)\" d=\"M 668.493316 294.873034 \nL 668.493316 260.450988 \n\" style=\"fill:none;stroke:#d62728;stroke-width:1.5;\"/>\n    <path clip-path=\"url(#p5ae806f2af)\" d=\"M 685.278075 295.052054 \nL 685.278075 260.480869 \n\" style=\"fill:none;stroke:#d62728;stroke-width:1.5;\"/>\n   </g>\n   <g id=\"LineCollection_11\">\n    <path clip-path=\"url(#p5ae806f2af)\" d=\"M 416.721925 65.690905 \nL 416.721925 55.778708 \n\" style=\"fill:none;stroke:#9467bd;stroke-width:1.5;\"/>\n    <path clip-path=\"url(#p5ae806f2af)\" d=\"M 433.506684 71.154084 \nL 433.506684 57.311797 \n\" style=\"fill:none;stroke:#9467bd;stroke-width:1.5;\"/>\n    <path clip-path=\"url(#p5ae806f2af)\" d=\"M 450.291444 82.787609 \nL 450.291444 62.636614 \n\" style=\"fill:none;stroke:#9467bd;stroke-width:1.5;\"/>\n    <path clip-path=\"url(#p5ae806f2af)\" d=\"M 467.076203 101.858188 \nL 467.076203 73.590874 \n\" style=\"fill:none;stroke:#9467bd;stroke-width:1.5;\"/>\n    <path clip-path=\"url(#p5ae806f2af)\" d=\"M 483.860963 130.324356 \nL 483.860963 100.720708 \n\" style=\"fill:none;stroke:#9467bd;stroke-width:1.5;\"/>\n    <path clip-path=\"url(#p5ae806f2af)\" d=\"M 500.645722 169.968286 \nL 500.645722 141.97857 \n\" style=\"fill:none;stroke:#9467bd;stroke-width:1.5;\"/>\n    <path clip-path=\"url(#p5ae806f2af)\" d=\"M 517.430481 215.421457 \nL 517.430481 187.827791 \n\" style=\"fill:none;stroke:#9467bd;stroke-width:1.5;\"/>\n    <path clip-path=\"url(#p5ae806f2af)\" d=\"M 534.215241 248.540995 \nL 534.215241 226.099797 \n\" style=\"fill:none;stroke:#9467bd;stroke-width:1.5;\"/>\n    <path clip-path=\"url(#p5ae806f2af)\" d=\"M 551 269.378052 \nL 551 241.136922 \n\" style=\"fill:none;stroke:#9467bd;stroke-width:1.5;\"/>\n    <path clip-path=\"url(#p5ae806f2af)\" d=\"M 567.784759 278.909543 \nL 567.784759 247.328138 \n\" style=\"fill:none;stroke:#9467bd;stroke-width:1.5;\"/>\n    <path clip-path=\"url(#p5ae806f2af)\" d=\"M 584.569519 284.084607 \nL 584.569519 249.663278 \n\" style=\"fill:none;stroke:#9467bd;stroke-width:1.5;\"/>\n    <path clip-path=\"url(#p5ae806f2af)\" d=\"M 601.354278 286.022299 \nL 601.354278 251.390791 \n\" style=\"fill:none;stroke:#9467bd;stroke-width:1.5;\"/>\n    <path clip-path=\"url(#p5ae806f2af)\" d=\"M 618.139037 286.907497 \nL 618.139037 251.777714 \n\" style=\"fill:none;stroke:#9467bd;stroke-width:1.5;\"/>\n    <path clip-path=\"url(#p5ae806f2af)\" d=\"M 634.923797 287.579579 \nL 634.923797 251.952914 \n\" style=\"fill:none;stroke:#9467bd;stroke-width:1.5;\"/>\n    <path clip-path=\"url(#p5ae806f2af)\" d=\"M 651.708556 287.851608 \nL 651.708556 252.042427 \n\" style=\"fill:none;stroke:#9467bd;stroke-width:1.5;\"/>\n    <path clip-path=\"url(#p5ae806f2af)\" d=\"M 668.493316 288.142954 \nL 668.493316 252.031783 \n\" style=\"fill:none;stroke:#9467bd;stroke-width:1.5;\"/>\n    <path clip-path=\"url(#p5ae806f2af)\" d=\"M 685.278075 288.156827 \nL 685.278075 252.070106 \n\" style=\"fill:none;stroke:#9467bd;stroke-width:1.5;\"/>\n   </g>\n   <g id=\"LineCollection_12\">\n    <path clip-path=\"url(#p5ae806f2af)\" d=\"M 416.721925 66.255004 \nL 416.721925 55.652331 \n\" style=\"fill:none;stroke:#8c564b;stroke-width:1.5;\"/>\n    <path clip-path=\"url(#p5ae806f2af)\" d=\"M 433.506684 70.738261 \nL 433.506684 57.309244 \n\" style=\"fill:none;stroke:#8c564b;stroke-width:1.5;\"/>\n    <path clip-path=\"url(#p5ae806f2af)\" d=\"M 450.291444 81.591138 \nL 450.291444 62.698595 \n\" style=\"fill:none;stroke:#8c564b;stroke-width:1.5;\"/>\n    <path clip-path=\"url(#p5ae806f2af)\" d=\"M 467.076203 99.509832 \nL 467.076203 74.196486 \n\" style=\"fill:none;stroke:#8c564b;stroke-width:1.5;\"/>\n    <path clip-path=\"url(#p5ae806f2af)\" d=\"M 483.860963 130.445128 \nL 483.860963 100.996568 \n\" style=\"fill:none;stroke:#8c564b;stroke-width:1.5;\"/>\n    <path clip-path=\"url(#p5ae806f2af)\" d=\"M 500.645722 171.79856 \nL 500.645722 142.405784 \n\" style=\"fill:none;stroke:#8c564b;stroke-width:1.5;\"/>\n    <path clip-path=\"url(#p5ae806f2af)\" d=\"M 517.430481 214.198855 \nL 517.430481 189.767735 \n\" style=\"fill:none;stroke:#8c564b;stroke-width:1.5;\"/>\n    <path clip-path=\"url(#p5ae806f2af)\" d=\"M 534.215241 248.796768 \nL 534.215241 224.720435 \n\" style=\"fill:none;stroke:#8c564b;stroke-width:1.5;\"/>\n    <path clip-path=\"url(#p5ae806f2af)\" d=\"M 551 267.014202 \nL 551 238.035194 \n\" style=\"fill:none;stroke:#8c564b;stroke-width:1.5;\"/>\n    <path clip-path=\"url(#p5ae806f2af)\" d=\"M 567.784759 275.026937 \nL 567.784759 242.486101 \n\" style=\"fill:none;stroke:#8c564b;stroke-width:1.5;\"/>\n    <path clip-path=\"url(#p5ae806f2af)\" d=\"M 584.569519 278.597399 \nL 584.569519 244.84982 \n\" style=\"fill:none;stroke:#8c564b;stroke-width:1.5;\"/>\n    <path clip-path=\"url(#p5ae806f2af)\" d=\"M 601.354278 281.082422 \nL 601.354278 245.624847 \n\" style=\"fill:none;stroke:#8c564b;stroke-width:1.5;\"/>\n    <path clip-path=\"url(#p5ae806f2af)\" d=\"M 618.139037 281.690066 \nL 618.139037 246.204341 \n\" style=\"fill:none;stroke:#8c564b;stroke-width:1.5;\"/>\n    <path clip-path=\"url(#p5ae806f2af)\" d=\"M 634.923797 282.534423 \nL 634.923797 246.315626 \n\" style=\"fill:none;stroke:#8c564b;stroke-width:1.5;\"/>\n    <path clip-path=\"url(#p5ae806f2af)\" d=\"M 651.708556 282.79217 \nL 651.708556 246.415981 \n\" style=\"fill:none;stroke:#8c564b;stroke-width:1.5;\"/>\n    <path clip-path=\"url(#p5ae806f2af)\" d=\"M 668.493316 282.902784 \nL 668.493316 246.519139 \n\" style=\"fill:none;stroke:#8c564b;stroke-width:1.5;\"/>\n    <path clip-path=\"url(#p5ae806f2af)\" d=\"M 685.278075 282.947612 \nL 685.278075 246.534704 \n\" style=\"fill:none;stroke:#8c564b;stroke-width:1.5;\"/>\n   </g>\n   <g id=\"line2d_143\">\n    <path clip-path=\"url(#p5ae806f2af)\" d=\"M 416.721925 60.325975 \nL 433.506684 63.088001 \nL 450.291444 68.494139 \nL 467.076203 79.021997 \nL 483.860963 94.151409 \nL 500.645722 113.808777 \nL 517.430481 132.24838 \nL 534.215241 146.95929 \nL 551 157.735969 \nL 567.784759 163.915882 \nL 584.569519 166.968647 \nL 601.354278 169.267145 \nL 618.139037 169.972613 \nL 634.923797 170.453228 \nL 651.708556 170.773463 \nL 668.493316 170.773303 \nL 685.278075 170.93022 \n\" style=\"fill:none;stroke:#0000ff;stroke-linecap:square;stroke-width:1.5;\"/>\n   </g>\n   <g id=\"line2d_144\">\n    <path clip-path=\"url(#p5ae806f2af)\" d=\"M 416.721925 60.263949 \nL 433.506684 63.358131 \nL 450.291444 71.509728 \nL 467.076203 83.535454 \nL 483.860963 104.828487 \nL 500.645722 133.425148 \nL 517.430481 164.032533 \nL 534.215241 191.049439 \nL 551 212.574598 \nL 567.784759 227.051372 \nL 584.569519 235.823807 \nL 601.354278 241.310973 \nL 618.139037 243.822946 \nL 634.923797 245.106925 \nL 651.708556 245.735432 \nL 668.493316 246.199236 \nL 685.278075 246.389596 \n\" style=\"fill:none;stroke:#008000;stroke-linecap:square;stroke-width:1.5;\"/>\n   </g>\n   <g id=\"line2d_145\">\n    <path clip-path=\"url(#p5ae806f2af)\" d=\"M 416.721925 60.291605 \nL 433.506684 63.649612 \nL 450.291444 70.617459 \nL 467.076203 84.869774 \nL 483.860963 112.708709 \nL 500.645722 148.835621 \nL 517.430481 186.063929 \nL 534.215241 215.972243 \nL 551 241.895642 \nL 567.784759 260.880241 \nL 584.569519 272.25877 \nL 601.354278 279.015938 \nL 618.139037 283.243234 \nL 634.923797 285.212457 \nL 651.708556 286.268476 \nL 668.493316 286.714436 \nL 685.278075 287.065548 \n\" style=\"fill:none;stroke:#ff0000;stroke-linecap:square;stroke-width:1.5;\"/>\n   </g>\n   <g id=\"line2d_146\">\n    <path clip-path=\"url(#p5ae806f2af)\" d=\"M 416.721925 60.130721 \nL 433.506684 63.73228 \nL 450.291444 70.067613 \nL 467.076203 86.505195 \nL 483.860963 115.116996 \nL 500.645722 154.815107 \nL 517.430481 197.808456 \nL 534.215241 232.708876 \nL 551 254.241628 \nL 567.784759 265.383719 \nL 584.569519 269.95233 \nL 601.354278 272.343907 \nL 618.139037 273.560163 \nL 634.923797 274.048066 \nL 651.708556 274.321323 \nL 668.493316 274.507784 \nL 685.278075 274.585458 \n\" style=\"fill:none;stroke:#00bfbf;stroke-linecap:square;stroke-width:1.5;\"/>\n   </g>\n   <g id=\"line2d_147\">\n    <path clip-path=\"url(#p5ae806f2af)\" d=\"M 416.721925 60.467726 \nL 433.506684 63.713038 \nL 450.291444 71.614926 \nL 467.076203 85.581807 \nL 483.860963 113.17589 \nL 500.645722 153.871954 \nL 517.430481 199.58134 \nL 534.215241 235.962216 \nL 551 253.118669 \nL 567.784759 260.454312 \nL 584.569519 263.719844 \nL 601.354278 265.514682 \nL 618.139037 266.060378 \nL 634.923797 266.392739 \nL 651.708556 266.539689 \nL 668.493316 266.623737 \nL 685.278075 266.654409 \n\" style=\"fill:none;stroke:#bfbf00;stroke-linecap:square;stroke-width:1.5;\"/>\n   </g>\n   <g id=\"line2d_148\">\n    <path clip-path=\"url(#p5ae806f2af)\" d=\"M 416.721925 60.648167 \nL 433.506684 63.534323 \nL 450.291444 71.17952 \nL 467.076203 85.129645 \nL 483.860963 113.398324 \nL 500.645722 154.788294 \nL 517.430481 200.376466 \nL 534.215241 235.197584 \nL 551 250.274471 \nL 567.784759 255.930931 \nL 584.569519 258.689154 \nL 601.354278 260.01132 \nL 618.139037 260.599705 \nL 634.923797 260.941224 \nL 651.708556 261.090682 \nL 668.493316 261.196163 \nL 685.278075 261.220844 \n\" style=\"fill:none;stroke:#000000;stroke-linecap:square;stroke-width:1.5;\"/>\n   </g>\n   <g id=\"line2d_149\">\n    <path clip-path=\"url(#p5ae806f2af)\" d=\"M 416.721925 60.325975 \nL 433.506684 63.088001 \nL 450.291444 68.494139 \nL 467.076203 79.021997 \nL 483.860963 94.151409 \nL 500.645722 113.808777 \nL 517.430481 132.24838 \nL 534.215241 146.95929 \nL 551 157.735969 \nL 567.784759 163.915882 \nL 584.569519 166.968647 \nL 601.354278 169.267145 \nL 618.139037 169.972613 \nL 634.923797 170.453228 \nL 651.708556 170.773463 \nL 668.493316 170.773303 \nL 685.278075 170.93022 \n\" style=\"fill:none;stroke:#1f77b4;stroke-linecap:square;stroke-width:1.5;\"/>\n   </g>\n   <g id=\"line2d_150\">\n    <path clip-path=\"url(#p5ae806f2af)\" d=\"M 416.721925 60.263949 \nL 433.506684 63.358131 \nL 450.291444 71.509728 \nL 467.076203 83.535454 \nL 483.860963 104.828487 \nL 500.645722 133.425148 \nL 517.430481 164.032533 \nL 534.215241 191.049439 \nL 551 212.574598 \nL 567.784759 227.051372 \nL 584.569519 235.823807 \nL 601.354278 241.310973 \nL 618.139037 243.822946 \nL 634.923797 245.106925 \nL 651.708556 245.735432 \nL 668.493316 246.199236 \nL 685.278075 246.389596 \n\" style=\"fill:none;stroke:#ff7f0e;stroke-linecap:square;stroke-width:1.5;\"/>\n   </g>\n   <g id=\"line2d_151\">\n    <path clip-path=\"url(#p5ae806f2af)\" d=\"M 416.721925 60.291605 \nL 433.506684 63.649612 \nL 450.291444 70.617459 \nL 467.076203 84.869774 \nL 483.860963 112.708709 \nL 500.645722 148.835621 \nL 517.430481 186.063929 \nL 534.215241 215.972243 \nL 551 241.895642 \nL 567.784759 260.880241 \nL 584.569519 272.25877 \nL 601.354278 279.015938 \nL 618.139037 283.243234 \nL 634.923797 285.212457 \nL 651.708556 286.268476 \nL 668.493316 286.714436 \nL 685.278075 287.065548 \n\" style=\"fill:none;stroke:#2ca02c;stroke-linecap:square;stroke-width:1.5;\"/>\n   </g>\n   <g id=\"line2d_152\">\n    <path clip-path=\"url(#p5ae806f2af)\" d=\"M 416.721925 60.130721 \nL 433.506684 63.73228 \nL 450.291444 70.067613 \nL 467.076203 86.505195 \nL 483.860963 115.116996 \nL 500.645722 154.815107 \nL 517.430481 197.808456 \nL 534.215241 232.708876 \nL 551 254.241628 \nL 567.784759 265.383719 \nL 584.569519 269.95233 \nL 601.354278 272.343907 \nL 618.139037 273.560163 \nL 634.923797 274.048066 \nL 651.708556 274.321323 \nL 668.493316 274.507784 \nL 685.278075 274.585458 \n\" style=\"fill:none;stroke:#d62728;stroke-linecap:square;stroke-width:1.5;\"/>\n   </g>\n   <g id=\"line2d_153\">\n    <path clip-path=\"url(#p5ae806f2af)\" d=\"M 416.721925 60.467726 \nL 433.506684 63.713038 \nL 450.291444 71.614926 \nL 467.076203 85.581807 \nL 483.860963 113.17589 \nL 500.645722 153.871954 \nL 517.430481 199.58134 \nL 534.215241 235.962216 \nL 551 253.118669 \nL 567.784759 260.454312 \nL 584.569519 263.719844 \nL 601.354278 265.514682 \nL 618.139037 266.060378 \nL 634.923797 266.392739 \nL 651.708556 266.539689 \nL 668.493316 266.623737 \nL 685.278075 266.654409 \n\" style=\"fill:none;stroke:#9467bd;stroke-linecap:square;stroke-width:1.5;\"/>\n   </g>\n   <g id=\"line2d_154\">\n    <path clip-path=\"url(#p5ae806f2af)\" d=\"M 416.721925 60.648167 \nL 433.506684 63.534323 \nL 450.291444 71.17952 \nL 467.076203 85.129645 \nL 483.860963 113.398324 \nL 500.645722 154.788294 \nL 517.430481 200.376466 \nL 534.215241 235.197584 \nL 551 250.274471 \nL 567.784759 255.930931 \nL 584.569519 258.689154 \nL 601.354278 260.01132 \nL 618.139037 260.599705 \nL 634.923797 260.941224 \nL 651.708556 261.090682 \nL 668.493316 261.196163 \nL 685.278075 261.220844 \n\" style=\"fill:none;stroke:#8c564b;stroke-linecap:square;stroke-width:1.5;\"/>\n   </g>\n   <g id=\"patch_8\">\n    <path d=\"M 403.294118 315 \nL 403.294118 43.2 \n\" style=\"fill:none;stroke:#000000;stroke-linecap:square;stroke-linejoin:miter;stroke-width:0.8;\"/>\n   </g>\n   <g id=\"patch_9\">\n    <path d=\"M 698.705882 315 \nL 698.705882 43.2 \n\" style=\"fill:none;stroke:#000000;stroke-linecap:square;stroke-linejoin:miter;stroke-width:0.8;\"/>\n   </g>\n   <g id=\"patch_10\">\n    <path d=\"M 403.294118 315 \nL 698.705882 315 \n\" style=\"fill:none;stroke:#000000;stroke-linecap:square;stroke-linejoin:miter;stroke-width:0.8;\"/>\n   </g>\n   <g id=\"patch_11\">\n    <path d=\"M 403.294118 43.2 \nL 698.705882 43.2 \n\" style=\"fill:none;stroke:#000000;stroke-linecap:square;stroke-linejoin:miter;stroke-width:0.8;\"/>\n   </g>\n   <g id=\"text_21\">\n    <!-- Test MSE (Majority) -->\n    <defs>\n     <path d=\"M 34.28125 27.484375 \nQ 23.390625 27.484375 19.1875 25 \nQ 14.984375 22.515625 14.984375 16.5 \nQ 14.984375 11.71875 18.140625 8.90625 \nQ 21.296875 6.109375 26.703125 6.109375 \nQ 34.1875 6.109375 38.703125 11.40625 \nQ 43.21875 16.703125 43.21875 25.484375 \nL 43.21875 27.484375 \nz\nM 52.203125 31.203125 \nL 52.203125 0 \nL 43.21875 0 \nL 43.21875 8.296875 \nQ 40.140625 3.328125 35.546875 0.953125 \nQ 30.953125 -1.421875 24.3125 -1.421875 \nQ 15.921875 -1.421875 10.953125 3.296875 \nQ 6 8.015625 6 15.921875 \nQ 6 25.140625 12.171875 29.828125 \nQ 18.359375 34.515625 30.609375 34.515625 \nL 43.21875 34.515625 \nL 43.21875 35.40625 \nQ 43.21875 41.609375 39.140625 45 \nQ 35.0625 48.390625 27.6875 48.390625 \nQ 23 48.390625 18.546875 47.265625 \nQ 14.109375 46.140625 10.015625 43.890625 \nL 10.015625 52.203125 \nQ 14.9375 54.109375 19.578125 55.046875 \nQ 24.21875 56 28.609375 56 \nQ 40.484375 56 46.34375 49.84375 \nQ 52.203125 43.703125 52.203125 31.203125 \nz\n\" id=\"DejaVuSans-97\"/>\n     <path d=\"M 9.421875 54.6875 \nL 18.40625 54.6875 \nL 18.40625 -0.984375 \nQ 18.40625 -11.421875 14.421875 -16.109375 \nQ 10.453125 -20.796875 1.609375 -20.796875 \nL -1.8125 -20.796875 \nL -1.8125 -13.1875 \nL 0.59375 -13.1875 \nQ 5.71875 -13.1875 7.5625 -10.8125 \nQ 9.421875 -8.453125 9.421875 -0.984375 \nz\nM 9.421875 75.984375 \nL 18.40625 75.984375 \nL 18.40625 64.59375 \nL 9.421875 64.59375 \nz\n\" id=\"DejaVuSans-106\"/>\n    </defs>\n    <g transform=\"translate(493.684062 37.2)scale(0.12 -0.12)\">\n     <use xlink:href=\"#DejaVuSans-84\"/>\n     <use x=\"44.083984\" xlink:href=\"#DejaVuSans-101\"/>\n     <use x=\"105.607422\" xlink:href=\"#DejaVuSans-115\"/>\n     <use x=\"157.707031\" xlink:href=\"#DejaVuSans-116\"/>\n     <use x=\"196.916016\" xlink:href=\"#DejaVuSans-32\"/>\n     <use x=\"228.703125\" xlink:href=\"#DejaVuSans-77\"/>\n     <use x=\"314.982422\" xlink:href=\"#DejaVuSans-83\"/>\n     <use x=\"378.458984\" xlink:href=\"#DejaVuSans-69\"/>\n     <use x=\"441.642578\" xlink:href=\"#DejaVuSans-32\"/>\n     <use x=\"473.429688\" xlink:href=\"#DejaVuSans-40\"/>\n     <use x=\"512.443359\" xlink:href=\"#DejaVuSans-77\"/>\n     <use x=\"598.722656\" xlink:href=\"#DejaVuSans-97\"/>\n     <use x=\"660.001953\" xlink:href=\"#DejaVuSans-106\"/>\n     <use x=\"687.785156\" xlink:href=\"#DejaVuSans-111\"/>\n     <use x=\"748.966797\" xlink:href=\"#DejaVuSans-114\"/>\n     <use x=\"790.080078\" xlink:href=\"#DejaVuSans-105\"/>\n     <use x=\"817.863281\" xlink:href=\"#DejaVuSans-116\"/>\n     <use x=\"857.072266\" xlink:href=\"#DejaVuSans-121\"/>\n     <use x=\"916.251953\" xlink:href=\"#DejaVuSans-41\"/>\n    </g>\n   </g>\n  </g>\n  <g id=\"axes_3\">\n   <g id=\"patch_12\">\n    <path d=\"M 757.788235 315 \nL 1053.2 315 \nL 1053.2 43.2 \nL 757.788235 43.2 \nz\n\" style=\"fill:#ffffff;\"/>\n   </g>\n   <g id=\"matplotlib.axis_5\">\n    <g id=\"xtick_101\">\n     <g id=\"line2d_155\">\n      <g>\n       <use style=\"stroke:#000000;stroke-width:0.8;\" x=\"771.216043\" xlink:href=\"#m7dcdef6c59\" y=\"315\"/>\n      </g>\n     </g>\n     <g id=\"text_22\">\n      <!-- $\\mathdefault{10^{0}}$ -->\n      <g transform=\"translate(762.416043 329.598437)scale(0.1 -0.1)\">\n       <use transform=\"translate(0 0.765625)\" xlink:href=\"#DejaVuSans-49\"/>\n       <use transform=\"translate(63.623047 0.765625)\" xlink:href=\"#DejaVuSans-48\"/>\n       <use transform=\"translate(128.203125 39.046875)scale(0.7)\" xlink:href=\"#DejaVuSans-48\"/>\n      </g>\n     </g>\n    </g>\n    <g id=\"xtick_102\">\n     <g id=\"line2d_156\">\n      <g>\n       <use style=\"stroke:#000000;stroke-width:0.8;\" x=\"826.973806\" xlink:href=\"#m7dcdef6c59\" y=\"315\"/>\n      </g>\n     </g>\n     <g id=\"text_23\">\n      <!-- $\\mathdefault{10^{1}}$ -->\n      <g transform=\"translate(818.173806 329.598437)scale(0.1 -0.1)\">\n       <use transform=\"translate(0 0.684375)\" xlink:href=\"#DejaVuSans-49\"/>\n       <use transform=\"translate(63.623047 0.684375)\" xlink:href=\"#DejaVuSans-48\"/>\n       <use transform=\"translate(128.203125 38.965625)scale(0.7)\" xlink:href=\"#DejaVuSans-49\"/>\n      </g>\n     </g>\n    </g>\n    <g id=\"xtick_103\">\n     <g id=\"line2d_157\">\n      <g>\n       <use style=\"stroke:#000000;stroke-width:0.8;\" x=\"882.73157\" xlink:href=\"#m7dcdef6c59\" y=\"315\"/>\n      </g>\n     </g>\n     <g id=\"text_24\">\n      <!-- $\\mathdefault{10^{2}}$ -->\n      <g transform=\"translate(873.93157 329.598437)scale(0.1 -0.1)\">\n       <use transform=\"translate(0 0.765625)\" xlink:href=\"#DejaVuSans-49\"/>\n       <use transform=\"translate(63.623047 0.765625)\" xlink:href=\"#DejaVuSans-48\"/>\n       <use transform=\"translate(128.203125 39.046875)scale(0.7)\" xlink:href=\"#DejaVuSans-50\"/>\n      </g>\n     </g>\n    </g>\n    <g id=\"xtick_104\">\n     <g id=\"line2d_158\">\n      <g>\n       <use style=\"stroke:#000000;stroke-width:0.8;\" x=\"938.489334\" xlink:href=\"#m7dcdef6c59\" y=\"315\"/>\n      </g>\n     </g>\n     <g id=\"text_25\">\n      <!-- $\\mathdefault{10^{3}}$ -->\n      <g transform=\"translate(929.689334 329.598437)scale(0.1 -0.1)\">\n       <use transform=\"translate(0 0.765625)\" xlink:href=\"#DejaVuSans-49\"/>\n       <use transform=\"translate(63.623047 0.765625)\" xlink:href=\"#DejaVuSans-48\"/>\n       <use transform=\"translate(128.203125 39.046875)scale(0.7)\" xlink:href=\"#DejaVuSans-51\"/>\n      </g>\n     </g>\n    </g>\n    <g id=\"xtick_105\">\n     <g id=\"line2d_159\">\n      <g>\n       <use style=\"stroke:#000000;stroke-width:0.8;\" x=\"994.247097\" xlink:href=\"#m7dcdef6c59\" y=\"315\"/>\n      </g>\n     </g>\n     <g id=\"text_26\">\n      <!-- $\\mathdefault{10^{4}}$ -->\n      <g transform=\"translate(985.447097 329.598437)scale(0.1 -0.1)\">\n       <use transform=\"translate(0 0.684375)\" xlink:href=\"#DejaVuSans-49\"/>\n       <use transform=\"translate(63.623047 0.684375)\" xlink:href=\"#DejaVuSans-48\"/>\n       <use transform=\"translate(128.203125 38.965625)scale(0.7)\" xlink:href=\"#DejaVuSans-52\"/>\n      </g>\n     </g>\n    </g>\n    <g id=\"xtick_106\">\n     <g id=\"line2d_160\">\n      <g>\n       <use style=\"stroke:#000000;stroke-width:0.8;\" x=\"1050.004861\" xlink:href=\"#m7dcdef6c59\" y=\"315\"/>\n      </g>\n     </g>\n     <g id=\"text_27\">\n      <!-- $\\mathdefault{10^{5}}$ -->\n      <g transform=\"translate(1041.204861 329.598437)scale(0.1 -0.1)\">\n       <use transform=\"translate(0 0.684375)\" xlink:href=\"#DejaVuSans-49\"/>\n       <use transform=\"translate(63.623047 0.684375)\" xlink:href=\"#DejaVuSans-48\"/>\n       <use transform=\"translate(128.203125 38.965625)scale(0.7)\" xlink:href=\"#DejaVuSans-53\"/>\n      </g>\n     </g>\n    </g>\n    <g id=\"xtick_107\">\n     <g id=\"line2d_161\">\n      <g>\n       <use style=\"stroke:#000000;stroke-width:0.6;\" x=\"758.846253\" xlink:href=\"#mc93e686c97\" y=\"315\"/>\n      </g>\n     </g>\n    </g>\n    <g id=\"xtick_108\">\n     <g id=\"line2d_162\">\n      <g>\n       <use style=\"stroke:#000000;stroke-width:0.6;\" x=\"762.579056\" xlink:href=\"#mc93e686c97\" y=\"315\"/>\n      </g>\n     </g>\n    </g>\n    <g id=\"xtick_109\">\n     <g id=\"line2d_163\">\n      <g>\n       <use style=\"stroke:#000000;stroke-width:0.6;\" x=\"765.812557\" xlink:href=\"#mc93e686c97\" y=\"315\"/>\n      </g>\n     </g>\n    </g>\n    <g id=\"xtick_110\">\n     <g id=\"line2d_164\">\n      <g>\n       <use style=\"stroke:#000000;stroke-width:0.6;\" x=\"768.664707\" xlink:href=\"#mc93e686c97\" y=\"315\"/>\n      </g>\n     </g>\n    </g>\n    <g id=\"xtick_111\">\n     <g id=\"line2d_165\">\n      <g>\n       <use style=\"stroke:#000000;stroke-width:0.6;\" x=\"788.000802\" xlink:href=\"#mc93e686c97\" y=\"315\"/>\n      </g>\n     </g>\n    </g>\n    <g id=\"xtick_112\">\n     <g id=\"line2d_166\">\n      <g>\n       <use style=\"stroke:#000000;stroke-width:0.6;\" x=\"797.819257\" xlink:href=\"#mc93e686c97\" y=\"315\"/>\n      </g>\n     </g>\n    </g>\n    <g id=\"xtick_113\">\n     <g id=\"line2d_167\">\n      <g>\n       <use style=\"stroke:#000000;stroke-width:0.6;\" x=\"804.785561\" xlink:href=\"#mc93e686c97\" y=\"315\"/>\n      </g>\n     </g>\n    </g>\n    <g id=\"xtick_114\">\n     <g id=\"line2d_168\">\n      <g>\n       <use style=\"stroke:#000000;stroke-width:0.6;\" x=\"810.189047\" xlink:href=\"#mc93e686c97\" y=\"315\"/>\n      </g>\n     </g>\n    </g>\n    <g id=\"xtick_115\">\n     <g id=\"line2d_169\">\n      <g>\n       <use style=\"stroke:#000000;stroke-width:0.6;\" x=\"814.604016\" xlink:href=\"#mc93e686c97\" y=\"315\"/>\n      </g>\n     </g>\n    </g>\n    <g id=\"xtick_116\">\n     <g id=\"line2d_170\">\n      <g>\n       <use style=\"stroke:#000000;stroke-width:0.6;\" x=\"818.33682\" xlink:href=\"#mc93e686c97\" y=\"315\"/>\n      </g>\n     </g>\n    </g>\n    <g id=\"xtick_117\">\n     <g id=\"line2d_171\">\n      <g>\n       <use style=\"stroke:#000000;stroke-width:0.6;\" x=\"821.570321\" xlink:href=\"#mc93e686c97\" y=\"315\"/>\n      </g>\n     </g>\n    </g>\n    <g id=\"xtick_118\">\n     <g id=\"line2d_172\">\n      <g>\n       <use style=\"stroke:#000000;stroke-width:0.6;\" x=\"824.422471\" xlink:href=\"#mc93e686c97\" y=\"315\"/>\n      </g>\n     </g>\n    </g>\n    <g id=\"xtick_119\">\n     <g id=\"line2d_173\">\n      <g>\n       <use style=\"stroke:#000000;stroke-width:0.6;\" x=\"843.758566\" xlink:href=\"#mc93e686c97\" y=\"315\"/>\n      </g>\n     </g>\n    </g>\n    <g id=\"xtick_120\">\n     <g id=\"line2d_174\">\n      <g>\n       <use style=\"stroke:#000000;stroke-width:0.6;\" x=\"853.577021\" xlink:href=\"#mc93e686c97\" y=\"315\"/>\n      </g>\n     </g>\n    </g>\n    <g id=\"xtick_121\">\n     <g id=\"line2d_175\">\n      <g>\n       <use style=\"stroke:#000000;stroke-width:0.6;\" x=\"860.543325\" xlink:href=\"#mc93e686c97\" y=\"315\"/>\n      </g>\n     </g>\n    </g>\n    <g id=\"xtick_122\">\n     <g id=\"line2d_176\">\n      <g>\n       <use style=\"stroke:#000000;stroke-width:0.6;\" x=\"865.946811\" xlink:href=\"#mc93e686c97\" y=\"315\"/>\n      </g>\n     </g>\n    </g>\n    <g id=\"xtick_123\">\n     <g id=\"line2d_177\">\n      <g>\n       <use style=\"stroke:#000000;stroke-width:0.6;\" x=\"870.36178\" xlink:href=\"#mc93e686c97\" y=\"315\"/>\n      </g>\n     </g>\n    </g>\n    <g id=\"xtick_124\">\n     <g id=\"line2d_178\">\n      <g>\n       <use style=\"stroke:#000000;stroke-width:0.6;\" x=\"874.094583\" xlink:href=\"#mc93e686c97\" y=\"315\"/>\n      </g>\n     </g>\n    </g>\n    <g id=\"xtick_125\">\n     <g id=\"line2d_179\">\n      <g>\n       <use style=\"stroke:#000000;stroke-width:0.6;\" x=\"877.328085\" xlink:href=\"#mc93e686c97\" y=\"315\"/>\n      </g>\n     </g>\n    </g>\n    <g id=\"xtick_126\">\n     <g id=\"line2d_180\">\n      <g>\n       <use style=\"stroke:#000000;stroke-width:0.6;\" x=\"880.180235\" xlink:href=\"#mc93e686c97\" y=\"315\"/>\n      </g>\n     </g>\n    </g>\n    <g id=\"xtick_127\">\n     <g id=\"line2d_181\">\n      <g>\n       <use style=\"stroke:#000000;stroke-width:0.6;\" x=\"899.516329\" xlink:href=\"#mc93e686c97\" y=\"315\"/>\n      </g>\n     </g>\n    </g>\n    <g id=\"xtick_128\">\n     <g id=\"line2d_182\">\n      <g>\n       <use style=\"stroke:#000000;stroke-width:0.6;\" x=\"909.334784\" xlink:href=\"#mc93e686c97\" y=\"315\"/>\n      </g>\n     </g>\n    </g>\n    <g id=\"xtick_129\">\n     <g id=\"line2d_183\">\n      <g>\n       <use style=\"stroke:#000000;stroke-width:0.6;\" x=\"916.301089\" xlink:href=\"#mc93e686c97\" y=\"315\"/>\n      </g>\n     </g>\n    </g>\n    <g id=\"xtick_130\">\n     <g id=\"line2d_184\">\n      <g>\n       <use style=\"stroke:#000000;stroke-width:0.6;\" x=\"921.704574\" xlink:href=\"#mc93e686c97\" y=\"315\"/>\n      </g>\n     </g>\n    </g>\n    <g id=\"xtick_131\">\n     <g id=\"line2d_185\">\n      <g>\n       <use style=\"stroke:#000000;stroke-width:0.6;\" x=\"926.119544\" xlink:href=\"#mc93e686c97\" y=\"315\"/>\n      </g>\n     </g>\n    </g>\n    <g id=\"xtick_132\">\n     <g id=\"line2d_186\">\n      <g>\n       <use style=\"stroke:#000000;stroke-width:0.6;\" x=\"929.852347\" xlink:href=\"#mc93e686c97\" y=\"315\"/>\n      </g>\n     </g>\n    </g>\n    <g id=\"xtick_133\">\n     <g id=\"line2d_187\">\n      <g>\n       <use style=\"stroke:#000000;stroke-width:0.6;\" x=\"933.085848\" xlink:href=\"#mc93e686c97\" y=\"315\"/>\n      </g>\n     </g>\n    </g>\n    <g id=\"xtick_134\">\n     <g id=\"line2d_188\">\n      <g>\n       <use style=\"stroke:#000000;stroke-width:0.6;\" x=\"935.937998\" xlink:href=\"#mc93e686c97\" y=\"315\"/>\n      </g>\n     </g>\n    </g>\n    <g id=\"xtick_135\">\n     <g id=\"line2d_189\">\n      <g>\n       <use style=\"stroke:#000000;stroke-width:0.6;\" x=\"955.274093\" xlink:href=\"#mc93e686c97\" y=\"315\"/>\n      </g>\n     </g>\n    </g>\n    <g id=\"xtick_136\">\n     <g id=\"line2d_190\">\n      <g>\n       <use style=\"stroke:#000000;stroke-width:0.6;\" x=\"965.092548\" xlink:href=\"#mc93e686c97\" y=\"315\"/>\n      </g>\n     </g>\n    </g>\n    <g id=\"xtick_137\">\n     <g id=\"line2d_191\">\n      <g>\n       <use style=\"stroke:#000000;stroke-width:0.6;\" x=\"972.058853\" xlink:href=\"#mc93e686c97\" y=\"315\"/>\n      </g>\n     </g>\n    </g>\n    <g id=\"xtick_138\">\n     <g id=\"line2d_192\">\n      <g>\n       <use style=\"stroke:#000000;stroke-width:0.6;\" x=\"977.462338\" xlink:href=\"#mc93e686c97\" y=\"315\"/>\n      </g>\n     </g>\n    </g>\n    <g id=\"xtick_139\">\n     <g id=\"line2d_193\">\n      <g>\n       <use style=\"stroke:#000000;stroke-width:0.6;\" x=\"981.877307\" xlink:href=\"#mc93e686c97\" y=\"315\"/>\n      </g>\n     </g>\n    </g>\n    <g id=\"xtick_140\">\n     <g id=\"line2d_194\">\n      <g>\n       <use style=\"stroke:#000000;stroke-width:0.6;\" x=\"985.610111\" xlink:href=\"#mc93e686c97\" y=\"315\"/>\n      </g>\n     </g>\n    </g>\n    <g id=\"xtick_141\">\n     <g id=\"line2d_195\">\n      <g>\n       <use style=\"stroke:#000000;stroke-width:0.6;\" x=\"988.843612\" xlink:href=\"#mc93e686c97\" y=\"315\"/>\n      </g>\n     </g>\n    </g>\n    <g id=\"xtick_142\">\n     <g id=\"line2d_196\">\n      <g>\n       <use style=\"stroke:#000000;stroke-width:0.6;\" x=\"991.695762\" xlink:href=\"#mc93e686c97\" y=\"315\"/>\n      </g>\n     </g>\n    </g>\n    <g id=\"xtick_143\">\n     <g id=\"line2d_197\">\n      <g>\n       <use style=\"stroke:#000000;stroke-width:0.6;\" x=\"1011.031857\" xlink:href=\"#mc93e686c97\" y=\"315\"/>\n      </g>\n     </g>\n    </g>\n    <g id=\"xtick_144\">\n     <g id=\"line2d_198\">\n      <g>\n       <use style=\"stroke:#000000;stroke-width:0.6;\" x=\"1020.850312\" xlink:href=\"#mc93e686c97\" y=\"315\"/>\n      </g>\n     </g>\n    </g>\n    <g id=\"xtick_145\">\n     <g id=\"line2d_199\">\n      <g>\n       <use style=\"stroke:#000000;stroke-width:0.6;\" x=\"1027.816616\" xlink:href=\"#mc93e686c97\" y=\"315\"/>\n      </g>\n     </g>\n    </g>\n    <g id=\"xtick_146\">\n     <g id=\"line2d_200\">\n      <g>\n       <use style=\"stroke:#000000;stroke-width:0.6;\" x=\"1033.220102\" xlink:href=\"#mc93e686c97\" y=\"315\"/>\n      </g>\n     </g>\n    </g>\n    <g id=\"xtick_147\">\n     <g id=\"line2d_201\">\n      <g>\n       <use style=\"stroke:#000000;stroke-width:0.6;\" x=\"1037.635071\" xlink:href=\"#mc93e686c97\" y=\"315\"/>\n      </g>\n     </g>\n    </g>\n    <g id=\"xtick_148\">\n     <g id=\"line2d_202\">\n      <g>\n       <use style=\"stroke:#000000;stroke-width:0.6;\" x=\"1041.367874\" xlink:href=\"#mc93e686c97\" y=\"315\"/>\n      </g>\n     </g>\n    </g>\n    <g id=\"xtick_149\">\n     <g id=\"line2d_203\">\n      <g>\n       <use style=\"stroke:#000000;stroke-width:0.6;\" x=\"1044.601376\" xlink:href=\"#mc93e686c97\" y=\"315\"/>\n      </g>\n     </g>\n    </g>\n    <g id=\"xtick_150\">\n     <g id=\"line2d_204\">\n      <g>\n       <use style=\"stroke:#000000;stroke-width:0.6;\" x=\"1047.453526\" xlink:href=\"#mc93e686c97\" y=\"315\"/>\n      </g>\n     </g>\n    </g>\n    <g id=\"text_28\">\n     <!-- nodes -->\n     <g transform=\"translate(890.410524 343.276562)scale(0.1 -0.1)\">\n      <use xlink:href=\"#DejaVuSans-110\"/>\n      <use x=\"63.378906\" xlink:href=\"#DejaVuSans-111\"/>\n      <use x=\"124.560547\" xlink:href=\"#DejaVuSans-100\"/>\n      <use x=\"188.037109\" xlink:href=\"#DejaVuSans-101\"/>\n      <use x=\"249.560547\" xlink:href=\"#DejaVuSans-115\"/>\n     </g>\n    </g>\n   </g>\n   <g id=\"matplotlib.axis_6\">\n    <g id=\"ytick_31\">\n     <g id=\"line2d_205\">\n      <g>\n       <use style=\"stroke:#000000;stroke-width:0.8;\" x=\"757.788235\" xlink:href=\"#m697a21d126\" y=\"312.578893\"/>\n      </g>\n     </g>\n     <g id=\"text_29\">\n      <!-- $\\mathdefault{10^{-1}}$ -->\n      <g transform=\"translate(727.288235 316.378111)scale(0.1 -0.1)\">\n       <use transform=\"translate(0 0.684375)\" xlink:href=\"#DejaVuSans-49\"/>\n       <use transform=\"translate(63.623047 0.684375)\" xlink:href=\"#DejaVuSans-48\"/>\n       <use transform=\"translate(128.203125 38.965625)scale(0.7)\" xlink:href=\"#DejaVuSans-8722\"/>\n       <use transform=\"translate(186.855469 38.965625)scale(0.7)\" xlink:href=\"#DejaVuSans-49\"/>\n      </g>\n     </g>\n    </g>\n    <g id=\"ytick_32\">\n     <g id=\"line2d_206\">\n      <g>\n       <use style=\"stroke:#000000;stroke-width:0.8;\" x=\"757.788235\" xlink:href=\"#m697a21d126\" y=\"197.296455\"/>\n      </g>\n     </g>\n     <g id=\"text_30\">\n      <!-- $\\mathdefault{10^{0}}$ -->\n      <g transform=\"translate(733.188235 201.095673)scale(0.1 -0.1)\">\n       <use transform=\"translate(0 0.765625)\" xlink:href=\"#DejaVuSans-49\"/>\n       <use transform=\"translate(63.623047 0.765625)\" xlink:href=\"#DejaVuSans-48\"/>\n       <use transform=\"translate(128.203125 39.046875)scale(0.7)\" xlink:href=\"#DejaVuSans-48\"/>\n      </g>\n     </g>\n    </g>\n    <g id=\"ytick_33\">\n     <g id=\"line2d_207\">\n      <g>\n       <use style=\"stroke:#000000;stroke-width:0.8;\" x=\"757.788235\" xlink:href=\"#m697a21d126\" y=\"82.014017\"/>\n      </g>\n     </g>\n     <g id=\"text_31\">\n      <!-- $\\mathdefault{10^{1}}$ -->\n      <g transform=\"translate(733.188235 85.813236)scale(0.1 -0.1)\">\n       <use transform=\"translate(0 0.684375)\" xlink:href=\"#DejaVuSans-49\"/>\n       <use transform=\"translate(63.623047 0.684375)\" xlink:href=\"#DejaVuSans-48\"/>\n       <use transform=\"translate(128.203125 38.965625)scale(0.7)\" xlink:href=\"#DejaVuSans-49\"/>\n      </g>\n     </g>\n    </g>\n    <g id=\"ytick_34\">\n     <g id=\"line2d_208\">\n      <g>\n       <use style=\"stroke:#000000;stroke-width:0.6;\" x=\"757.788235\" xlink:href=\"#mdf464021a0\" y=\"277.875421\"/>\n      </g>\n     </g>\n    </g>\n    <g id=\"ytick_35\">\n     <g id=\"line2d_209\">\n      <g>\n       <use style=\"stroke:#000000;stroke-width:0.6;\" x=\"757.788235\" xlink:href=\"#mdf464021a0\" y=\"257.575191\"/>\n      </g>\n     </g>\n    </g>\n    <g id=\"ytick_36\">\n     <g id=\"line2d_210\">\n      <g>\n       <use style=\"stroke:#000000;stroke-width:0.6;\" x=\"757.788235\" xlink:href=\"#mdf464021a0\" y=\"243.171949\"/>\n      </g>\n     </g>\n    </g>\n    <g id=\"ytick_37\">\n     <g id=\"line2d_211\">\n      <g>\n       <use style=\"stroke:#000000;stroke-width:0.6;\" x=\"757.788235\" xlink:href=\"#mdf464021a0\" y=\"231.999926\"/>\n      </g>\n     </g>\n    </g>\n    <g id=\"ytick_38\">\n     <g id=\"line2d_212\">\n      <g>\n       <use style=\"stroke:#000000;stroke-width:0.6;\" x=\"757.788235\" xlink:href=\"#mdf464021a0\" y=\"222.871719\"/>\n      </g>\n     </g>\n    </g>\n    <g id=\"ytick_39\">\n     <g id=\"line2d_213\">\n      <g>\n       <use style=\"stroke:#000000;stroke-width:0.6;\" x=\"757.788235\" xlink:href=\"#mdf464021a0\" y=\"215.15393\"/>\n      </g>\n     </g>\n    </g>\n    <g id=\"ytick_40\">\n     <g id=\"line2d_214\">\n      <g>\n       <use style=\"stroke:#000000;stroke-width:0.6;\" x=\"757.788235\" xlink:href=\"#mdf464021a0\" y=\"208.468477\"/>\n      </g>\n     </g>\n    </g>\n    <g id=\"ytick_41\">\n     <g id=\"line2d_215\">\n      <g>\n       <use style=\"stroke:#000000;stroke-width:0.6;\" x=\"757.788235\" xlink:href=\"#mdf464021a0\" y=\"202.57149\"/>\n      </g>\n     </g>\n    </g>\n    <g id=\"ytick_42\">\n     <g id=\"line2d_216\">\n      <g>\n       <use style=\"stroke:#000000;stroke-width:0.6;\" x=\"757.788235\" xlink:href=\"#mdf464021a0\" y=\"162.592983\"/>\n      </g>\n     </g>\n    </g>\n    <g id=\"ytick_43\">\n     <g id=\"line2d_217\">\n      <g>\n       <use style=\"stroke:#000000;stroke-width:0.6;\" x=\"757.788235\" xlink:href=\"#mdf464021a0\" y=\"142.292753\"/>\n      </g>\n     </g>\n    </g>\n    <g id=\"ytick_44\">\n     <g id=\"line2d_218\">\n      <g>\n       <use style=\"stroke:#000000;stroke-width:0.6;\" x=\"757.788235\" xlink:href=\"#mdf464021a0\" y=\"127.889511\"/>\n      </g>\n     </g>\n    </g>\n    <g id=\"ytick_45\">\n     <g id=\"line2d_219\">\n      <g>\n       <use style=\"stroke:#000000;stroke-width:0.6;\" x=\"757.788235\" xlink:href=\"#mdf464021a0\" y=\"116.717489\"/>\n      </g>\n     </g>\n    </g>\n    <g id=\"ytick_46\">\n     <g id=\"line2d_220\">\n      <g>\n       <use style=\"stroke:#000000;stroke-width:0.6;\" x=\"757.788235\" xlink:href=\"#mdf464021a0\" y=\"107.589282\"/>\n      </g>\n     </g>\n    </g>\n    <g id=\"ytick_47\">\n     <g id=\"line2d_221\">\n      <g>\n       <use style=\"stroke:#000000;stroke-width:0.6;\" x=\"757.788235\" xlink:href=\"#mdf464021a0\" y=\"99.871492\"/>\n      </g>\n     </g>\n    </g>\n    <g id=\"ytick_48\">\n     <g id=\"line2d_222\">\n      <g>\n       <use style=\"stroke:#000000;stroke-width:0.6;\" x=\"757.788235\" xlink:href=\"#mdf464021a0\" y=\"93.186039\"/>\n      </g>\n     </g>\n    </g>\n    <g id=\"ytick_49\">\n     <g id=\"line2d_223\">\n      <g>\n       <use style=\"stroke:#000000;stroke-width:0.6;\" x=\"757.788235\" xlink:href=\"#mdf464021a0\" y=\"87.289052\"/>\n      </g>\n     </g>\n    </g>\n    <g id=\"ytick_50\">\n     <g id=\"line2d_224\">\n      <g>\n       <use style=\"stroke:#000000;stroke-width:0.6;\" x=\"757.788235\" xlink:href=\"#mdf464021a0\" y=\"47.310545\"/>\n      </g>\n     </g>\n    </g>\n   </g>\n   <g id=\"LineCollection_13\">\n    <path clip-path=\"url(#p6489e8fa90)\" d=\"M 771.216043 69.188463 \nL 771.216043 55.993595 \n\" style=\"fill:none;stroke:#1f77b4;stroke-width:1.5;\"/>\n    <path clip-path=\"url(#p6489e8fa90)\" d=\"M 788.000802 73.979073 \nL 788.000802 58.510353 \n\" style=\"fill:none;stroke:#1f77b4;stroke-width:1.5;\"/>\n    <path clip-path=\"url(#p6489e8fa90)\" d=\"M 804.785561 81.82918 \nL 804.785561 63.380588 \n\" style=\"fill:none;stroke:#1f77b4;stroke-width:1.5;\"/>\n    <path clip-path=\"url(#p6489e8fa90)\" d=\"M 821.570321 97.787478 \nL 821.570321 72.999548 \n\" style=\"fill:none;stroke:#1f77b4;stroke-width:1.5;\"/>\n    <path clip-path=\"url(#p6489e8fa90)\" d=\"M 838.35508 116.911018 \nL 838.35508 89.998842 \n\" style=\"fill:none;stroke:#1f77b4;stroke-width:1.5;\"/>\n    <path clip-path=\"url(#p6489e8fa90)\" d=\"M 855.13984 140.7803 \nL 855.13984 111.536446 \n\" style=\"fill:none;stroke:#1f77b4;stroke-width:1.5;\"/>\n    <path clip-path=\"url(#p6489e8fa90)\" d=\"M 871.924599 159.951012 \nL 871.924599 132.52123 \n\" style=\"fill:none;stroke:#1f77b4;stroke-width:1.5;\"/>\n    <path clip-path=\"url(#p6489e8fa90)\" d=\"M 888.709358 173.329431 \nL 888.709358 151.241884 \n\" style=\"fill:none;stroke:#1f77b4;stroke-width:1.5;\"/>\n    <path clip-path=\"url(#p6489e8fa90)\" d=\"M 905.494118 183.245943 \nL 905.494118 163.795447 \n\" style=\"fill:none;stroke:#1f77b4;stroke-width:1.5;\"/>\n    <path clip-path=\"url(#p6489e8fa90)\" d=\"M 922.278877 188.711254 \nL 922.278877 170.896463 \n\" style=\"fill:none;stroke:#1f77b4;stroke-width:1.5;\"/>\n    <path clip-path=\"url(#p6489e8fa90)\" d=\"M 939.063636 191.127541 \nL 939.063636 174.515063 \n\" style=\"fill:none;stroke:#1f77b4;stroke-width:1.5;\"/>\n    <path clip-path=\"url(#p6489e8fa90)\" d=\"M 955.848396 193.212164 \nL 955.848396 177.088923 \n\" style=\"fill:none;stroke:#1f77b4;stroke-width:1.5;\"/>\n    <path clip-path=\"url(#p6489e8fa90)\" d=\"M 972.633155 193.621535 \nL 972.633155 178.155883 \n\" style=\"fill:none;stroke:#1f77b4;stroke-width:1.5;\"/>\n    <path clip-path=\"url(#p6489e8fa90)\" d=\"M 989.417914 194.196749 \nL 989.417914 178.625132 \n\" style=\"fill:none;stroke:#1f77b4;stroke-width:1.5;\"/>\n    <path clip-path=\"url(#p6489e8fa90)\" d=\"M 1006.202674 194.471962 \nL 1006.202674 179.009535 \n\" style=\"fill:none;stroke:#1f77b4;stroke-width:1.5;\"/>\n    <path clip-path=\"url(#p6489e8fa90)\" d=\"M 1022.987433 194.461349 \nL 1022.987433 179.022141 \n\" style=\"fill:none;stroke:#1f77b4;stroke-width:1.5;\"/>\n    <path clip-path=\"url(#p6489e8fa90)\" d=\"M 1039.772193 194.547856 \nL 1039.772193 179.203218 \n\" style=\"fill:none;stroke:#1f77b4;stroke-width:1.5;\"/>\n   </g>\n   <g id=\"LineCollection_14\">\n    <path clip-path=\"url(#p6489e8fa90)\" d=\"M 771.216043 69.428292 \nL 771.216043 56.040691 \n\" style=\"fill:none;stroke:#ff7f0e;stroke-width:1.5;\"/>\n    <path clip-path=\"url(#p6489e8fa90)\" d=\"M 788.000802 74.812167 \nL 788.000802 58.462254 \n\" style=\"fill:none;stroke:#ff7f0e;stroke-width:1.5;\"/>\n    <path clip-path=\"url(#p6489e8fa90)\" d=\"M 804.785561 88.86059 \nL 804.785561 64.671635 \n\" style=\"fill:none;stroke:#ff7f0e;stroke-width:1.5;\"/>\n    <path clip-path=\"url(#p6489e8fa90)\" d=\"M 821.570321 106.661171 \nL 821.570321 76.639132 \n\" style=\"fill:none;stroke:#ff7f0e;stroke-width:1.5;\"/>\n    <path clip-path=\"url(#p6489e8fa90)\" d=\"M 838.35508 134.456633 \nL 838.35508 99.634815 \n\" style=\"fill:none;stroke:#ff7f0e;stroke-width:1.5;\"/>\n    <path clip-path=\"url(#p6489e8fa90)\" d=\"M 855.13984 164.580407 \nL 855.13984 131.358241 \n\" style=\"fill:none;stroke:#ff7f0e;stroke-width:1.5;\"/>\n    <path clip-path=\"url(#p6489e8fa90)\" d=\"M 871.924599 193.531577 \nL 871.924599 165.176711 \n\" style=\"fill:none;stroke:#ff7f0e;stroke-width:1.5;\"/>\n    <path clip-path=\"url(#p6489e8fa90)\" d=\"M 888.709358 217.598927 \nL 888.709358 192.88061 \n\" style=\"fill:none;stroke:#ff7f0e;stroke-width:1.5;\"/>\n    <path clip-path=\"url(#p6489e8fa90)\" d=\"M 905.494118 235.153441 \nL 905.494118 211.951218 \n\" style=\"fill:none;stroke:#ff7f0e;stroke-width:1.5;\"/>\n    <path clip-path=\"url(#p6489e8fa90)\" d=\"M 922.278877 246.541939 \nL 922.278877 221.568445 \n\" style=\"fill:none;stroke:#ff7f0e;stroke-width:1.5;\"/>\n    <path clip-path=\"url(#p6489e8fa90)\" d=\"M 939.063636 254.564731 \nL 939.063636 226.971711 \n\" style=\"fill:none;stroke:#ff7f0e;stroke-width:1.5;\"/>\n    <path clip-path=\"url(#p6489e8fa90)\" d=\"M 955.848396 258.682788 \nL 955.848396 229.65686 \n\" style=\"fill:none;stroke:#ff7f0e;stroke-width:1.5;\"/>\n    <path clip-path=\"url(#p6489e8fa90)\" d=\"M 972.633155 260.462779 \nL 972.633155 231.13907 \n\" style=\"fill:none;stroke:#ff7f0e;stroke-width:1.5;\"/>\n    <path clip-path=\"url(#p6489e8fa90)\" d=\"M 989.417914 261.445517 \nL 989.417914 231.897901 \n\" style=\"fill:none;stroke:#ff7f0e;stroke-width:1.5;\"/>\n    <path clip-path=\"url(#p6489e8fa90)\" d=\"M 1006.202674 261.910223 \nL 1006.202674 232.281832 \n\" style=\"fill:none;stroke:#ff7f0e;stroke-width:1.5;\"/>\n    <path clip-path=\"url(#p6489e8fa90)\" d=\"M 1022.987433 262.380231 \nL 1022.987433 232.419893 \n\" style=\"fill:none;stroke:#ff7f0e;stroke-width:1.5;\"/>\n    <path clip-path=\"url(#p6489e8fa90)\" d=\"M 1039.772193 262.393076 \nL 1039.772193 232.590881 \n\" style=\"fill:none;stroke:#ff7f0e;stroke-width:1.5;\"/>\n   </g>\n   <g id=\"LineCollection_15\">\n    <path clip-path=\"url(#p6489e8fa90)\" d=\"M 771.216043 70.15707 \nL 771.216043 55.632501 \n\" style=\"fill:none;stroke:#2ca02c;stroke-width:1.5;\"/>\n    <path clip-path=\"url(#p6489e8fa90)\" d=\"M 788.000802 75.298998 \nL 788.000802 58.684587 \n\" style=\"fill:none;stroke:#2ca02c;stroke-width:1.5;\"/>\n    <path clip-path=\"url(#p6489e8fa90)\" d=\"M 804.785561 87.826113 \nL 804.785561 64.249147 \n\" style=\"fill:none;stroke:#2ca02c;stroke-width:1.5;\"/>\n    <path clip-path=\"url(#p6489e8fa90)\" d=\"M 821.570321 108.593683 \nL 821.570321 78.817626 \n\" style=\"fill:none;stroke:#2ca02c;stroke-width:1.5;\"/>\n    <path clip-path=\"url(#p6489e8fa90)\" d=\"M 838.35508 142.662941 \nL 838.35508 109.299473 \n\" style=\"fill:none;stroke:#2ca02c;stroke-width:1.5;\"/>\n    <path clip-path=\"url(#p6489e8fa90)\" d=\"M 855.13984 181.955444 \nL 855.13984 149.91786 \n\" style=\"fill:none;stroke:#2ca02c;stroke-width:1.5;\"/>\n    <path clip-path=\"url(#p6489e8fa90)\" d=\"M 871.924599 213.338026 \nL 871.924599 190.552342 \n\" style=\"fill:none;stroke:#2ca02c;stroke-width:1.5;\"/>\n    <path clip-path=\"url(#p6489e8fa90)\" d=\"M 888.709358 238.24143 \nL 888.709358 214.834217 \n\" style=\"fill:none;stroke:#2ca02c;stroke-width:1.5;\"/>\n    <path clip-path=\"url(#p6489e8fa90)\" d=\"M 905.494118 257.092821 \nL 905.494118 230.945083 \n\" style=\"fill:none;stroke:#2ca02c;stroke-width:1.5;\"/>\n    <path clip-path=\"url(#p6489e8fa90)\" d=\"M 922.278877 269.074142 \nL 922.278877 239.028996 \n\" style=\"fill:none;stroke:#2ca02c;stroke-width:1.5;\"/>\n    <path clip-path=\"url(#p6489e8fa90)\" d=\"M 939.063636 275.490467 \nL 939.063636 242.806131 \n\" style=\"fill:none;stroke:#2ca02c;stroke-width:1.5;\"/>\n    <path clip-path=\"url(#p6489e8fa90)\" d=\"M 955.848396 279.28999 \nL 955.848396 244.827886 \n\" style=\"fill:none;stroke:#2ca02c;stroke-width:1.5;\"/>\n    <path clip-path=\"url(#p6489e8fa90)\" d=\"M 972.633155 281.006295 \nL 972.633155 245.62523 \n\" style=\"fill:none;stroke:#2ca02c;stroke-width:1.5;\"/>\n    <path clip-path=\"url(#p6489e8fa90)\" d=\"M 989.417914 282.019064 \nL 989.417914 246.161599 \n\" style=\"fill:none;stroke:#2ca02c;stroke-width:1.5;\"/>\n    <path clip-path=\"url(#p6489e8fa90)\" d=\"M 1006.202674 282.528005 \nL 1006.202674 246.402366 \n\" style=\"fill:none;stroke:#2ca02c;stroke-width:1.5;\"/>\n    <path clip-path=\"url(#p6489e8fa90)\" d=\"M 1022.987433 282.739257 \nL 1022.987433 246.592609 \n\" style=\"fill:none;stroke:#2ca02c;stroke-width:1.5;\"/>\n    <path clip-path=\"url(#p6489e8fa90)\" d=\"M 1039.772193 282.801447 \nL 1039.772193 246.619927 \n\" style=\"fill:none;stroke:#2ca02c;stroke-width:1.5;\"/>\n   </g>\n   <g id=\"LineCollection_16\">\n    <path clip-path=\"url(#p6489e8fa90)\" d=\"M 771.216043 69.713703 \nL 771.216043 55.554545 \n\" style=\"fill:none;stroke:#d62728;stroke-width:1.5;\"/>\n    <path clip-path=\"url(#p6489e8fa90)\" d=\"M 788.000802 75.203602 \nL 788.000802 59.056597 \n\" style=\"fill:none;stroke:#d62728;stroke-width:1.5;\"/>\n    <path clip-path=\"url(#p6489e8fa90)\" d=\"M 804.785561 87.424899 \nL 804.785561 64.457642 \n\" style=\"fill:none;stroke:#d62728;stroke-width:1.5;\"/>\n    <path clip-path=\"url(#p6489e8fa90)\" d=\"M 821.570321 111.928954 \nL 821.570321 80.261398 \n\" style=\"fill:none;stroke:#d62728;stroke-width:1.5;\"/>\n    <path clip-path=\"url(#p6489e8fa90)\" d=\"M 838.35508 146.309806 \nL 838.35508 114.172783 \n\" style=\"fill:none;stroke:#d62728;stroke-width:1.5;\"/>\n    <path clip-path=\"url(#p6489e8fa90)\" d=\"M 855.13984 189.852427 \nL 855.13984 162.230826 \n\" style=\"fill:none;stroke:#d62728;stroke-width:1.5;\"/>\n    <path clip-path=\"url(#p6489e8fa90)\" d=\"M 871.924599 232.863388 \nL 871.924599 207.622209 \n\" style=\"fill:none;stroke:#d62728;stroke-width:1.5;\"/>\n    <path clip-path=\"url(#p6489e8fa90)\" d=\"M 888.709358 263.230152 \nL 888.709358 236.48606 \n\" style=\"fill:none;stroke:#d62728;stroke-width:1.5;\"/>\n    <path clip-path=\"url(#p6489e8fa90)\" d=\"M 905.494118 279.953405 \nL 905.494118 249.260371 \n\" style=\"fill:none;stroke:#d62728;stroke-width:1.5;\"/>\n    <path clip-path=\"url(#p6489e8fa90)\" d=\"M 922.278877 287.076691 \nL 922.278877 253.911354 \n\" style=\"fill:none;stroke:#d62728;stroke-width:1.5;\"/>\n    <path clip-path=\"url(#p6489e8fa90)\" d=\"M 939.063636 290.480247 \nL 939.063636 256.341094 \n\" style=\"fill:none;stroke:#d62728;stroke-width:1.5;\"/>\n    <path clip-path=\"url(#p6489e8fa90)\" d=\"M 955.848396 292.122955 \nL 955.848396 257.11576 \n\" style=\"fill:none;stroke:#d62728;stroke-width:1.5;\"/>\n    <path clip-path=\"url(#p6489e8fa90)\" d=\"M 972.633155 292.811445 \nL 972.633155 257.630789 \n\" style=\"fill:none;stroke:#d62728;stroke-width:1.5;\"/>\n    <path clip-path=\"url(#p6489e8fa90)\" d=\"M 989.417914 293.267342 \nL 989.417914 257.901942 \n\" style=\"fill:none;stroke:#d62728;stroke-width:1.5;\"/>\n    <path clip-path=\"url(#p6489e8fa90)\" d=\"M 1006.202674 293.352455 \nL 1006.202674 257.978661 \n\" style=\"fill:none;stroke:#d62728;stroke-width:1.5;\"/>\n    <path clip-path=\"url(#p6489e8fa90)\" d=\"M 1022.987433 293.469219 \nL 1022.987433 258.047656 \n\" style=\"fill:none;stroke:#d62728;stroke-width:1.5;\"/>\n    <path clip-path=\"url(#p6489e8fa90)\" d=\"M 1039.772193 293.484545 \nL 1039.772193 258.082846 \n\" style=\"fill:none;stroke:#d62728;stroke-width:1.5;\"/>\n   </g>\n   <g id=\"LineCollection_17\">\n    <path clip-path=\"url(#p6489e8fa90)\" d=\"M 771.216043 69.618129 \nL 771.216043 56.005674 \n\" style=\"fill:none;stroke:#9467bd;stroke-width:1.5;\"/>\n    <path clip-path=\"url(#p6489e8fa90)\" d=\"M 788.000802 75.57368 \nL 788.000802 58.405708 \n\" style=\"fill:none;stroke:#9467bd;stroke-width:1.5;\"/>\n    <path clip-path=\"url(#p6489e8fa90)\" d=\"M 804.785561 88.456682 \nL 804.785561 65.479309 \n\" style=\"fill:none;stroke:#9467bd;stroke-width:1.5;\"/>\n    <path clip-path=\"url(#p6489e8fa90)\" d=\"M 821.570321 110.82842 \nL 821.570321 79.778782 \n\" style=\"fill:none;stroke:#9467bd;stroke-width:1.5;\"/>\n    <path clip-path=\"url(#p6489e8fa90)\" d=\"M 838.35508 144.769347 \nL 838.35508 111.889055 \n\" style=\"fill:none;stroke:#9467bd;stroke-width:1.5;\"/>\n    <path clip-path=\"url(#p6489e8fa90)\" d=\"M 855.13984 191.467604 \nL 855.13984 161.580589 \n\" style=\"fill:none;stroke:#9467bd;stroke-width:1.5;\"/>\n    <path clip-path=\"url(#p6489e8fa90)\" d=\"M 871.924599 238.50701 \nL 871.924599 211.809033 \n\" style=\"fill:none;stroke:#9467bd;stroke-width:1.5;\"/>\n    <path clip-path=\"url(#p6489e8fa90)\" d=\"M 888.709358 271.562 \nL 888.709358 242.510328 \n\" style=\"fill:none;stroke:#9467bd;stroke-width:1.5;\"/>\n    <path clip-path=\"url(#p6489e8fa90)\" d=\"M 905.494118 285.960796 \nL 905.494118 254.542436 \n\" style=\"fill:none;stroke:#9467bd;stroke-width:1.5;\"/>\n    <path clip-path=\"url(#p6489e8fa90)\" d=\"M 922.278877 292.199649 \nL 922.278877 259.068902 \n\" style=\"fill:none;stroke:#9467bd;stroke-width:1.5;\"/>\n    <path clip-path=\"url(#p6489e8fa90)\" d=\"M 939.063636 295.076151 \nL 939.063636 261.330842 \n\" style=\"fill:none;stroke:#9467bd;stroke-width:1.5;\"/>\n    <path clip-path=\"url(#p6489e8fa90)\" d=\"M 955.848396 296.550281 \nL 955.848396 262.197911 \n\" style=\"fill:none;stroke:#9467bd;stroke-width:1.5;\"/>\n    <path clip-path=\"url(#p6489e8fa90)\" d=\"M 972.633155 297.086115 \nL 972.633155 262.678191 \n\" style=\"fill:none;stroke:#9467bd;stroke-width:1.5;\"/>\n    <path clip-path=\"url(#p6489e8fa90)\" d=\"M 989.417914 297.484317 \nL 989.417914 262.868319 \n\" style=\"fill:none;stroke:#9467bd;stroke-width:1.5;\"/>\n    <path clip-path=\"url(#p6489e8fa90)\" d=\"M 1006.202674 297.627144 \nL 1006.202674 262.975629 \n\" style=\"fill:none;stroke:#9467bd;stroke-width:1.5;\"/>\n    <path clip-path=\"url(#p6489e8fa90)\" d=\"M 1022.987433 297.713394 \nL 1022.987433 263.03485 \n\" style=\"fill:none;stroke:#9467bd;stroke-width:1.5;\"/>\n    <path clip-path=\"url(#p6489e8fa90)\" d=\"M 1039.772193 297.739496 \nL 1039.772193 263.066045 \n\" style=\"fill:none;stroke:#9467bd;stroke-width:1.5;\"/>\n   </g>\n   <g id=\"LineCollection_18\">\n    <path clip-path=\"url(#p6489e8fa90)\" d=\"M 771.216043 70.341389 \nL 771.216043 55.843302 \n\" style=\"fill:none;stroke:#8c564b;stroke-width:1.5;\"/>\n    <path clip-path=\"url(#p6489e8fa90)\" d=\"M 788.000802 74.917903 \nL 788.000802 58.558042 \n\" style=\"fill:none;stroke:#8c564b;stroke-width:1.5;\"/>\n    <path clip-path=\"url(#p6489e8fa90)\" d=\"M 804.785561 87.629526 \nL 804.785561 65.443874 \n\" style=\"fill:none;stroke:#8c564b;stroke-width:1.5;\"/>\n    <path clip-path=\"url(#p6489e8fa90)\" d=\"M 821.570321 108.151293 \nL 821.570321 79.718665 \n\" style=\"fill:none;stroke:#8c564b;stroke-width:1.5;\"/>\n    <path clip-path=\"url(#p6489e8fa90)\" d=\"M 838.35508 145.816732 \nL 838.35508 112.413821 \n\" style=\"fill:none;stroke:#8c564b;stroke-width:1.5;\"/>\n    <path clip-path=\"url(#p6489e8fa90)\" d=\"M 855.13984 193.254301 \nL 855.13984 163.191315 \n\" style=\"fill:none;stroke:#8c564b;stroke-width:1.5;\"/>\n    <path clip-path=\"url(#p6489e8fa90)\" d=\"M 871.924599 241.470302 \nL 871.924599 215.934389 \n\" style=\"fill:none;stroke:#8c564b;stroke-width:1.5;\"/>\n    <path clip-path=\"url(#p6489e8fa90)\" d=\"M 888.709358 274.477021 \nL 888.709358 247.071292 \n\" style=\"fill:none;stroke:#8c564b;stroke-width:1.5;\"/>\n    <path clip-path=\"url(#p6489e8fa90)\" d=\"M 905.494118 289.699475 \nL 905.494118 259.58785 \n\" style=\"fill:none;stroke:#8c564b;stroke-width:1.5;\"/>\n    <path clip-path=\"url(#p6489e8fa90)\" d=\"M 922.278877 296.909678 \nL 922.278877 264.087709 \n\" style=\"fill:none;stroke:#8c564b;stroke-width:1.5;\"/>\n    <path clip-path=\"url(#p6489e8fa90)\" d=\"M 939.063636 299.70235 \nL 939.063636 266.533546 \n\" style=\"fill:none;stroke:#8c564b;stroke-width:1.5;\"/>\n    <path clip-path=\"url(#p6489e8fa90)\" d=\"M 955.848396 301.323349 \nL 955.848396 267.769059 \n\" style=\"fill:none;stroke:#8c564b;stroke-width:1.5;\"/>\n    <path clip-path=\"url(#p6489e8fa90)\" d=\"M 972.633155 301.889009 \nL 972.633155 268.416376 \n\" style=\"fill:none;stroke:#8c564b;stroke-width:1.5;\"/>\n    <path clip-path=\"url(#p6489e8fa90)\" d=\"M 989.417914 302.211916 \nL 989.417914 268.760376 \n\" style=\"fill:none;stroke:#8c564b;stroke-width:1.5;\"/>\n    <path clip-path=\"url(#p6489e8fa90)\" d=\"M 1006.202674 302.454648 \nL 1006.202674 268.877291 \n\" style=\"fill:none;stroke:#8c564b;stroke-width:1.5;\"/>\n    <path clip-path=\"url(#p6489e8fa90)\" d=\"M 1022.987433 302.580293 \nL 1022.987433 268.959137 \n\" style=\"fill:none;stroke:#8c564b;stroke-width:1.5;\"/>\n    <path clip-path=\"url(#p6489e8fa90)\" d=\"M 1039.772193 302.645455 \nL 1039.772193 268.956677 \n\" style=\"fill:none;stroke:#8c564b;stroke-width:1.5;\"/>\n   </g>\n   <g id=\"line2d_225\">\n    <path clip-path=\"url(#p6489e8fa90)\" d=\"M 771.216043 62.157598 \nL 788.000802 65.649666 \nL 804.785561 71.759903 \nL 821.570321 83.874867 \nL 838.35508 101.668032 \nL 855.13984 124.052886 \nL 871.924599 144.380672 \nL 888.709358 161.07738 \nL 905.494118 172.582028 \nL 922.278877 179.015641 \nL 939.063636 182.13542 \nL 955.848396 184.504295 \nL 972.633155 185.293897 \nL 989.417914 185.807982 \nL 1006.202674 186.146183 \nL 1022.987433 186.148957 \nL 1039.772193 186.289961 \n\" style=\"fill:none;stroke:#0000ff;stroke-linecap:square;stroke-width:1.5;\"/>\n   </g>\n   <g id=\"line2d_226\">\n    <path clip-path=\"url(#p6489e8fa90)\" d=\"M 771.216043 62.288344 \nL 788.000802 65.972744 \nL 804.785561 75.319283 \nL 821.570321 89.432766 \nL 838.35508 114.077475 \nL 855.13984 145.262829 \nL 871.924599 177.373085 \nL 888.709358 203.729556 \nL 905.494118 222.220118 \nL 922.278877 232.513955 \nL 939.063636 238.890894 \nL 955.848396 242.095176 \nL 972.633155 243.684083 \nL 989.417914 244.522873 \nL 1006.202674 244.935593 \nL 1022.987433 245.19165 \nL 1039.772193 245.306487 \n\" style=\"fill:none;stroke:#008000;stroke-linecap:square;stroke-width:1.5;\"/>\n   </g>\n   <g id=\"line2d_227\">\n    <path clip-path=\"url(#p6489e8fa90)\" d=\"M 771.216043 62.369915 \nL 788.000802 66.305752 \nL 804.785561 74.66243 \nL 821.570321 91.52394 \nL 838.35508 123.252051 \nL 855.13984 163.416609 \nL 871.924599 200.659975 \nL 888.709358 225.182179 \nL 905.494118 242.331017 \nL 922.278877 251.830819 \nL 939.063636 256.52724 \nL 955.848396 259.150543 \nL 972.633155 260.253319 \nL 989.417914 260.946558 \nL 1006.202674 261.27519 \nL 1022.987433 261.472302 \nL 1039.772193 261.511019 \n\" style=\"fill:none;stroke:#ff0000;stroke-linecap:square;stroke-width:1.5;\"/>\n   </g>\n   <g id=\"line2d_228\">\n    <path clip-path=\"url(#p6489e8fa90)\" d=\"M 771.216043 62.135245 \nL 788.000802 66.481953 \nL 804.785561 74.635673 \nL 821.570321 93.632078 \nL 838.35508 127.705842 \nL 855.13984 174.160457 \nL 871.924599 218.668688 \nL 888.709358 248.093201 \nL 905.494118 262.290795 \nL 922.278877 267.796616 \nL 939.063636 270.555522 \nL 955.848396 271.620038 \nL 972.633155 272.192588 \nL 989.417914 272.524856 \nL 1006.202674 272.604348 \nL 1022.987433 272.689119 \nL 1039.772193 272.71775 \n\" style=\"fill:none;stroke:#00bfbf;stroke-linecap:square;stroke-width:1.5;\"/>\n   </g>\n   <g id=\"line2d_229\">\n    <path clip-path=\"url(#p6489e8fa90)\" d=\"M 771.216043 62.350688 \nL 788.000802 66.257402 \nL 804.785561 75.661258 \nL 821.570321 92.934216 \nL 838.35508 125.677164 \nL 855.13984 174.326326 \nL 871.924599 223.399128 \nL 888.709358 254.957884 \nL 905.494118 267.826519 \nL 922.278877 272.942394 \nL 939.063636 275.412654 \nL 955.848396 276.483845 \nL 972.633155 276.982723 \nL 989.417914 277.242386 \nL 1006.202674 277.361546 \nL 1022.987433 277.429781 \nL 1039.772193 277.459278 \n\" style=\"fill:none;stroke:#bfbf00;stroke-linecap:square;stroke-width:1.5;\"/>\n   </g>\n   <g id=\"line2d_230\">\n    <path clip-path=\"url(#p6489e8fa90)\" d=\"M 771.216043 62.569381 \nL 788.000802 66.072701 \nL 804.785561 75.317752 \nL 821.570321 91.943181 \nL 838.35508 126.379778 \nL 855.13984 175.999458 \nL 871.924599 227.091651 \nL 888.709358 258.92192 \nL 905.494118 272.413218 \nL 922.278877 277.855895 \nL 939.063636 280.419988 \nL 955.848396 281.786303 \nL 972.633155 282.405967 \nL 989.417914 282.74282 \nL 1006.202674 282.90234 \nL 1022.987433 282.999001 \nL 1039.772193 283.019397 \n\" style=\"fill:none;stroke:#000000;stroke-linecap:square;stroke-width:1.5;\"/>\n   </g>\n   <g id=\"line2d_231\">\n    <path clip-path=\"url(#p6489e8fa90)\" d=\"M 771.216043 62.157598 \nL 788.000802 65.649666 \nL 804.785561 71.759903 \nL 821.570321 83.874867 \nL 838.35508 101.668032 \nL 855.13984 124.052886 \nL 871.924599 144.380672 \nL 888.709358 161.07738 \nL 905.494118 172.582028 \nL 922.278877 179.015641 \nL 939.063636 182.13542 \nL 955.848396 184.504295 \nL 972.633155 185.293897 \nL 989.417914 185.807982 \nL 1006.202674 186.146183 \nL 1022.987433 186.148957 \nL 1039.772193 186.289961 \n\" style=\"fill:none;stroke:#1f77b4;stroke-linecap:square;stroke-width:1.5;\"/>\n   </g>\n   <g id=\"line2d_232\">\n    <path clip-path=\"url(#p6489e8fa90)\" d=\"M 771.216043 62.288344 \nL 788.000802 65.972744 \nL 804.785561 75.319283 \nL 821.570321 89.432766 \nL 838.35508 114.077475 \nL 855.13984 145.262829 \nL 871.924599 177.373085 \nL 888.709358 203.729556 \nL 905.494118 222.220118 \nL 922.278877 232.513955 \nL 939.063636 238.890894 \nL 955.848396 242.095176 \nL 972.633155 243.684083 \nL 989.417914 244.522873 \nL 1006.202674 244.935593 \nL 1022.987433 245.19165 \nL 1039.772193 245.306487 \n\" style=\"fill:none;stroke:#ff7f0e;stroke-linecap:square;stroke-width:1.5;\"/>\n   </g>\n   <g id=\"line2d_233\">\n    <path clip-path=\"url(#p6489e8fa90)\" d=\"M 771.216043 62.369915 \nL 788.000802 66.305752 \nL 804.785561 74.66243 \nL 821.570321 91.52394 \nL 838.35508 123.252051 \nL 855.13984 163.416609 \nL 871.924599 200.659975 \nL 888.709358 225.182179 \nL 905.494118 242.331017 \nL 922.278877 251.830819 \nL 939.063636 256.52724 \nL 955.848396 259.150543 \nL 972.633155 260.253319 \nL 989.417914 260.946558 \nL 1006.202674 261.27519 \nL 1022.987433 261.472302 \nL 1039.772193 261.511019 \n\" style=\"fill:none;stroke:#2ca02c;stroke-linecap:square;stroke-width:1.5;\"/>\n   </g>\n   <g id=\"line2d_234\">\n    <path clip-path=\"url(#p6489e8fa90)\" d=\"M 771.216043 62.135245 \nL 788.000802 66.481953 \nL 804.785561 74.635673 \nL 821.570321 93.632078 \nL 838.35508 127.705842 \nL 855.13984 174.160457 \nL 871.924599 218.668688 \nL 888.709358 248.093201 \nL 905.494118 262.290795 \nL 922.278877 267.796616 \nL 939.063636 270.555522 \nL 955.848396 271.620038 \nL 972.633155 272.192588 \nL 989.417914 272.524856 \nL 1006.202674 272.604348 \nL 1022.987433 272.689119 \nL 1039.772193 272.71775 \n\" style=\"fill:none;stroke:#d62728;stroke-linecap:square;stroke-width:1.5;\"/>\n   </g>\n   <g id=\"line2d_235\">\n    <path clip-path=\"url(#p6489e8fa90)\" d=\"M 771.216043 62.350688 \nL 788.000802 66.257402 \nL 804.785561 75.661258 \nL 821.570321 92.934216 \nL 838.35508 125.677164 \nL 855.13984 174.326326 \nL 871.924599 223.399128 \nL 888.709358 254.957884 \nL 905.494118 267.826519 \nL 922.278877 272.942394 \nL 939.063636 275.412654 \nL 955.848396 276.483845 \nL 972.633155 276.982723 \nL 989.417914 277.242386 \nL 1006.202674 277.361546 \nL 1022.987433 277.429781 \nL 1039.772193 277.459278 \n\" style=\"fill:none;stroke:#9467bd;stroke-linecap:square;stroke-width:1.5;\"/>\n   </g>\n   <g id=\"line2d_236\">\n    <path clip-path=\"url(#p6489e8fa90)\" d=\"M 771.216043 62.569381 \nL 788.000802 66.072701 \nL 804.785561 75.317752 \nL 821.570321 91.943181 \nL 838.35508 126.379778 \nL 855.13984 175.999458 \nL 871.924599 227.091651 \nL 888.709358 258.92192 \nL 905.494118 272.413218 \nL 922.278877 277.855895 \nL 939.063636 280.419988 \nL 955.848396 281.786303 \nL 972.633155 282.405967 \nL 989.417914 282.74282 \nL 1006.202674 282.90234 \nL 1022.987433 282.999001 \nL 1039.772193 283.019397 \n\" style=\"fill:none;stroke:#8c564b;stroke-linecap:square;stroke-width:1.5;\"/>\n   </g>\n   <g id=\"patch_13\">\n    <path d=\"M 757.788235 315 \nL 757.788235 43.2 \n\" style=\"fill:none;stroke:#000000;stroke-linecap:square;stroke-linejoin:miter;stroke-width:0.8;\"/>\n   </g>\n   <g id=\"patch_14\">\n    <path d=\"M 1053.2 315 \nL 1053.2 43.2 \n\" style=\"fill:none;stroke:#000000;stroke-linecap:square;stroke-linejoin:miter;stroke-width:0.8;\"/>\n   </g>\n   <g id=\"patch_15\">\n    <path d=\"M 757.788235 315 \nL 1053.2 315 \n\" style=\"fill:none;stroke:#000000;stroke-linecap:square;stroke-linejoin:miter;stroke-width:0.8;\"/>\n   </g>\n   <g id=\"patch_16\">\n    <path d=\"M 757.788235 43.2 \nL 1053.2 43.2 \n\" style=\"fill:none;stroke:#000000;stroke-linecap:square;stroke-linejoin:miter;stroke-width:0.8;\"/>\n   </g>\n   <g id=\"text_32\">\n    <!-- Train MSE (Overall) -->\n    <defs>\n     <path d=\"M 39.40625 66.21875 \nQ 28.65625 66.21875 22.328125 58.203125 \nQ 16.015625 50.203125 16.015625 36.375 \nQ 16.015625 22.609375 22.328125 14.59375 \nQ 28.65625 6.59375 39.40625 6.59375 \nQ 50.140625 6.59375 56.421875 14.59375 \nQ 62.703125 22.609375 62.703125 36.375 \nQ 62.703125 50.203125 56.421875 58.203125 \nQ 50.140625 66.21875 39.40625 66.21875 \nz\nM 39.40625 74.21875 \nQ 54.734375 74.21875 63.90625 63.9375 \nQ 73.09375 53.65625 73.09375 36.375 \nQ 73.09375 19.140625 63.90625 8.859375 \nQ 54.734375 -1.421875 39.40625 -1.421875 \nQ 24.03125 -1.421875 14.8125 8.828125 \nQ 5.609375 19.09375 5.609375 36.375 \nQ 5.609375 53.65625 14.8125 63.9375 \nQ 24.03125 74.21875 39.40625 74.21875 \nz\n\" id=\"DejaVuSans-79\"/>\n     <path d=\"M 2.984375 54.6875 \nL 12.5 54.6875 \nL 29.59375 8.796875 \nL 46.6875 54.6875 \nL 56.203125 54.6875 \nL 35.6875 0 \nL 23.484375 0 \nz\n\" id=\"DejaVuSans-118\"/>\n     <path d=\"M 9.421875 75.984375 \nL 18.40625 75.984375 \nL 18.40625 0 \nL 9.421875 0 \nz\n\" id=\"DejaVuSans-108\"/>\n    </defs>\n    <g transform=\"translate(848.385368 37.2)scale(0.12 -0.12)\">\n     <use xlink:href=\"#DejaVuSans-84\"/>\n     <use x=\"46.333984\" xlink:href=\"#DejaVuSans-114\"/>\n     <use x=\"87.447266\" xlink:href=\"#DejaVuSans-97\"/>\n     <use x=\"148.726562\" xlink:href=\"#DejaVuSans-105\"/>\n     <use x=\"176.509766\" xlink:href=\"#DejaVuSans-110\"/>\n     <use x=\"239.888672\" xlink:href=\"#DejaVuSans-32\"/>\n     <use x=\"271.675781\" xlink:href=\"#DejaVuSans-77\"/>\n     <use x=\"357.955078\" xlink:href=\"#DejaVuSans-83\"/>\n     <use x=\"421.431641\" xlink:href=\"#DejaVuSans-69\"/>\n     <use x=\"484.615234\" xlink:href=\"#DejaVuSans-32\"/>\n     <use x=\"516.402344\" xlink:href=\"#DejaVuSans-40\"/>\n     <use x=\"555.416016\" xlink:href=\"#DejaVuSans-79\"/>\n     <use x=\"634.126953\" xlink:href=\"#DejaVuSans-118\"/>\n     <use x=\"693.306641\" xlink:href=\"#DejaVuSans-101\"/>\n     <use x=\"754.830078\" xlink:href=\"#DejaVuSans-114\"/>\n     <use x=\"795.943359\" xlink:href=\"#DejaVuSans-97\"/>\n     <use x=\"857.222656\" xlink:href=\"#DejaVuSans-108\"/>\n     <use x=\"885.005859\" xlink:href=\"#DejaVuSans-108\"/>\n     <use x=\"912.789062\" xlink:href=\"#DejaVuSans-41\"/>\n    </g>\n   </g>\n   <g id=\"legend_1\">\n    <g id=\"patch_17\">\n     <path d=\"M 988.75 153.946875 \nL 1046.2 153.946875 \nQ 1048.2 153.946875 1048.2 151.946875 \nL 1048.2 50.2 \nQ 1048.2 48.2 1046.2 48.2 \nL 988.75 48.2 \nQ 986.75 48.2 986.75 50.2 \nL 986.75 151.946875 \nQ 986.75 153.946875 988.75 153.946875 \nz\n\" style=\"fill:#ffffff;opacity:0.8;stroke:#cccccc;stroke-linejoin:miter;\"/>\n    </g>\n    <g id=\"text_33\">\n     <!-- epochs -->\n     <defs>\n      <path d=\"M 18.109375 8.203125 \nL 18.109375 -20.796875 \nL 9.078125 -20.796875 \nL 9.078125 54.6875 \nL 18.109375 54.6875 \nL 18.109375 46.390625 \nQ 20.953125 51.265625 25.265625 53.625 \nQ 29.59375 56 35.59375 56 \nQ 45.5625 56 51.78125 48.09375 \nQ 58.015625 40.1875 58.015625 27.296875 \nQ 58.015625 14.40625 51.78125 6.484375 \nQ 45.5625 -1.421875 35.59375 -1.421875 \nQ 29.59375 -1.421875 25.265625 0.953125 \nQ 20.953125 3.328125 18.109375 8.203125 \nz\nM 48.6875 27.296875 \nQ 48.6875 37.203125 44.609375 42.84375 \nQ 40.53125 48.484375 33.40625 48.484375 \nQ 26.265625 48.484375 22.1875 42.84375 \nQ 18.109375 37.203125 18.109375 27.296875 \nQ 18.109375 17.390625 22.1875 11.75 \nQ 26.265625 6.109375 33.40625 6.109375 \nQ 40.53125 6.109375 44.609375 11.75 \nQ 48.6875 17.390625 48.6875 27.296875 \nz\n\" id=\"DejaVuSans-112\"/>\n      <path d=\"M 48.78125 52.59375 \nL 48.78125 44.1875 \nQ 44.96875 46.296875 41.140625 47.34375 \nQ 37.3125 48.390625 33.40625 48.390625 \nQ 24.65625 48.390625 19.8125 42.84375 \nQ 14.984375 37.3125 14.984375 27.296875 \nQ 14.984375 17.28125 19.8125 11.734375 \nQ 24.65625 6.203125 33.40625 6.203125 \nQ 37.3125 6.203125 41.140625 7.25 \nQ 44.96875 8.296875 48.78125 10.40625 \nL 48.78125 2.09375 \nQ 45.015625 0.34375 40.984375 -0.53125 \nQ 36.96875 -1.421875 32.421875 -1.421875 \nQ 20.0625 -1.421875 12.78125 6.34375 \nQ 5.515625 14.109375 5.515625 27.296875 \nQ 5.515625 40.671875 12.859375 48.328125 \nQ 20.21875 56 33.015625 56 \nQ 37.15625 56 41.109375 55.140625 \nQ 45.0625 54.296875 48.78125 52.59375 \nz\n\" id=\"DejaVuSans-99\"/>\n      <path d=\"M 54.890625 33.015625 \nL 54.890625 0 \nL 45.90625 0 \nL 45.90625 32.71875 \nQ 45.90625 40.484375 42.875 44.328125 \nQ 39.84375 48.1875 33.796875 48.1875 \nQ 26.515625 48.1875 22.3125 43.546875 \nQ 18.109375 38.921875 18.109375 30.90625 \nL 18.109375 0 \nL 9.078125 0 \nL 9.078125 75.984375 \nL 18.109375 75.984375 \nL 18.109375 46.1875 \nQ 21.34375 51.125 25.703125 53.5625 \nQ 30.078125 56 35.796875 56 \nQ 45.21875 56 50.046875 50.171875 \nQ 54.890625 44.34375 54.890625 33.015625 \nz\n\" id=\"DejaVuSans-104\"/>\n     </defs>\n     <g transform=\"translate(999.642187 59.798437)scale(0.1 -0.1)\">\n      <use xlink:href=\"#DejaVuSans-101\"/>\n      <use x=\"61.523438\" xlink:href=\"#DejaVuSans-112\"/>\n      <use x=\"125\" xlink:href=\"#DejaVuSans-111\"/>\n      <use x=\"186.181641\" xlink:href=\"#DejaVuSans-99\"/>\n      <use x=\"241.162109\" xlink:href=\"#DejaVuSans-104\"/>\n      <use x=\"304.541016\" xlink:href=\"#DejaVuSans-115\"/>\n     </g>\n    </g>\n    <g id=\"line2d_237\">\n     <path d=\"M 990.75 70.976562 \nL 1010.75 70.976562 \n\" style=\"fill:none;stroke:#0000ff;stroke-linecap:square;stroke-width:1.5;\"/>\n    </g>\n    <g id=\"line2d_238\"/>\n    <g id=\"text_34\">\n     <!-- 20 -->\n     <g transform=\"translate(1018.75 74.476562)scale(0.1 -0.1)\">\n      <use xlink:href=\"#DejaVuSans-50\"/>\n      <use x=\"63.623047\" xlink:href=\"#DejaVuSans-48\"/>\n     </g>\n    </g>\n    <g id=\"line2d_239\">\n     <path d=\"M 990.75 85.654688 \nL 1010.75 85.654688 \n\" style=\"fill:none;stroke:#008000;stroke-linecap:square;stroke-width:1.5;\"/>\n    </g>\n    <g id=\"line2d_240\"/>\n    <g id=\"text_35\">\n     <!-- 40 -->\n     <g transform=\"translate(1018.75 89.154688)scale(0.1 -0.1)\">\n      <use xlink:href=\"#DejaVuSans-52\"/>\n      <use x=\"63.623047\" xlink:href=\"#DejaVuSans-48\"/>\n     </g>\n    </g>\n    <g id=\"line2d_241\">\n     <path d=\"M 990.75 100.332812 \nL 1010.75 100.332812 \n\" style=\"fill:none;stroke:#ff0000;stroke-linecap:square;stroke-width:1.5;\"/>\n    </g>\n    <g id=\"line2d_242\"/>\n    <g id=\"text_36\">\n     <!-- 100 -->\n     <g transform=\"translate(1018.75 103.832812)scale(0.1 -0.1)\">\n      <use xlink:href=\"#DejaVuSans-49\"/>\n      <use x=\"63.623047\" xlink:href=\"#DejaVuSans-48\"/>\n      <use x=\"127.246094\" xlink:href=\"#DejaVuSans-48\"/>\n     </g>\n    </g>\n    <g id=\"line2d_243\">\n     <path d=\"M 990.75 115.010938 \nL 1010.75 115.010938 \n\" style=\"fill:none;stroke:#00bfbf;stroke-linecap:square;stroke-width:1.5;\"/>\n    </g>\n    <g id=\"line2d_244\"/>\n    <g id=\"text_37\">\n     <!-- 500 -->\n     <g transform=\"translate(1018.75 118.510938)scale(0.1 -0.1)\">\n      <use xlink:href=\"#DejaVuSans-53\"/>\n      <use x=\"63.623047\" xlink:href=\"#DejaVuSans-48\"/>\n      <use x=\"127.246094\" xlink:href=\"#DejaVuSans-48\"/>\n     </g>\n    </g>\n    <g id=\"line2d_245\">\n     <path d=\"M 990.75 129.689063 \nL 1010.75 129.689063 \n\" style=\"fill:none;stroke:#bfbf00;stroke-linecap:square;stroke-width:1.5;\"/>\n    </g>\n    <g id=\"line2d_246\"/>\n    <g id=\"text_38\">\n     <!-- 1000 -->\n     <g transform=\"translate(1018.75 133.189063)scale(0.1 -0.1)\">\n      <use xlink:href=\"#DejaVuSans-49\"/>\n      <use x=\"63.623047\" xlink:href=\"#DejaVuSans-48\"/>\n      <use x=\"127.246094\" xlink:href=\"#DejaVuSans-48\"/>\n      <use x=\"190.869141\" xlink:href=\"#DejaVuSans-48\"/>\n     </g>\n    </g>\n    <g id=\"line2d_247\">\n     <path d=\"M 990.75 144.367188 \nL 1010.75 144.367188 \n\" style=\"fill:none;stroke:#000000;stroke-linecap:square;stroke-width:1.5;\"/>\n    </g>\n    <g id=\"line2d_248\"/>\n    <g id=\"text_39\">\n     <!-- 2000 -->\n     <g transform=\"translate(1018.75 147.867188)scale(0.1 -0.1)\">\n      <use xlink:href=\"#DejaVuSans-50\"/>\n      <use x=\"63.623047\" xlink:href=\"#DejaVuSans-48\"/>\n      <use x=\"127.246094\" xlink:href=\"#DejaVuSans-48\"/>\n      <use x=\"190.869141\" xlink:href=\"#DejaVuSans-48\"/>\n     </g>\n    </g>\n   </g>\n  </g>\n  <g id=\"text_40\">\n   <!-- $\\|\\beta\\|_2^2$: 16, Trainable: last layer -->\n   <defs>\n    <path d=\"M 21 76.421875 \nL 21 -23.578125 \nL 12.703125 -23.578125 \nL 12.703125 76.421875 \nz\n\" id=\"DejaVuSans-124\"/>\n    <path d=\"M 13.625 3.375 \nL 8.9375 -20.796875 \nL -0.09375 -20.796875 \nL 14.5 54.34375 \nQ 18.84375 76.609375 39.65625 76.609375 \nQ 60.75 76.609375 57.171875 57.8125 \nQ 54.734375 44.4375 45.21875 39.546875 \nQ 58.015625 35.15625 55.515625 22.125 \nQ 51.125 -1.078125 27.484375 -1.03125 \nQ 17.140625 -0.984375 13.625 3.375 \nz\nM 15.921875 15.09375 \nQ 19.671875 6.59375 29.296875 6.640625 \nQ 43.359375 6.640625 46.34375 21.96875 \nQ 49.03125 35.75 26.171875 34.671875 \nL 27.78125 42.96875 \nQ 45.453125 42.671875 48.53125 58.59375 \nQ 50.640625 69.34375 39.203125 69.28125 \nQ 26.421875 69.28125 23.484375 54.046875 \nz\n\" id=\"DejaVuSans-Oblique-946\"/>\n    <path d=\"M 11.71875 12.40625 \nL 22.015625 12.40625 \nL 22.015625 0 \nL 11.71875 0 \nz\nM 11.71875 51.703125 \nL 22.015625 51.703125 \nL 22.015625 39.3125 \nL 11.71875 39.3125 \nz\n\" id=\"DejaVuSans-58\"/>\n    <path d=\"M 11.71875 12.40625 \nL 22.015625 12.40625 \nL 22.015625 4 \nL 14.015625 -11.625 \nL 7.71875 -11.625 \nL 11.71875 4 \nz\n\" id=\"DejaVuSans-44\"/>\n    <path d=\"M 48.6875 27.296875 \nQ 48.6875 37.203125 44.609375 42.84375 \nQ 40.53125 48.484375 33.40625 48.484375 \nQ 26.265625 48.484375 22.1875 42.84375 \nQ 18.109375 37.203125 18.109375 27.296875 \nQ 18.109375 17.390625 22.1875 11.75 \nQ 26.265625 6.109375 33.40625 6.109375 \nQ 40.53125 6.109375 44.609375 11.75 \nQ 48.6875 17.390625 48.6875 27.296875 \nz\nM 18.109375 46.390625 \nQ 20.953125 51.265625 25.265625 53.625 \nQ 29.59375 56 35.59375 56 \nQ 45.5625 56 51.78125 48.09375 \nQ 58.015625 40.1875 58.015625 27.296875 \nQ 58.015625 14.40625 51.78125 6.484375 \nQ 45.5625 -1.421875 35.59375 -1.421875 \nQ 29.59375 -1.421875 25.265625 0.953125 \nQ 20.953125 3.328125 18.109375 8.203125 \nL 18.109375 0 \nL 9.078125 0 \nL 9.078125 75.984375 \nL 18.109375 75.984375 \nz\n\" id=\"DejaVuSans-98\"/>\n   </defs>\n   <g transform=\"translate(448.82 18.12)scale(0.12 -0.12)\">\n    <use transform=\"translate(0 0.765625)\" xlink:href=\"#DejaVuSans-124\"/>\n    <use transform=\"translate(33.691406 0.765625)\" xlink:href=\"#DejaVuSans-Oblique-946\"/>\n    <use transform=\"translate(97.509766 0.765625)\" xlink:href=\"#DejaVuSans-124\"/>\n    <use transform=\"translate(132.158203 39.046875)scale(0.7)\" xlink:href=\"#DejaVuSans-50\"/>\n    <use transform=\"translate(132.158203 -26.578125)scale(0.7)\" xlink:href=\"#DejaVuSans-50\"/>\n    <use transform=\"translate(179.428711 0.765625)\" xlink:href=\"#DejaVuSans-58\"/>\n    <use transform=\"translate(213.120117 0.765625)\" xlink:href=\"#DejaVuSans-32\"/>\n    <use transform=\"translate(244.907227 0.765625)\" xlink:href=\"#DejaVuSans-49\"/>\n    <use transform=\"translate(308.530273 0.765625)\" xlink:href=\"#DejaVuSans-54\"/>\n    <use transform=\"translate(372.15332 0.765625)\" xlink:href=\"#DejaVuSans-44\"/>\n    <use transform=\"translate(403.94043 0.765625)\" xlink:href=\"#DejaVuSans-32\"/>\n    <use transform=\"translate(435.727539 0.765625)\" xlink:href=\"#DejaVuSans-84\"/>\n    <use transform=\"translate(496.811523 0.765625)\" xlink:href=\"#DejaVuSans-114\"/>\n    <use transform=\"translate(537.924805 0.765625)\" xlink:href=\"#DejaVuSans-97\"/>\n    <use transform=\"translate(599.204102 0.765625)\" xlink:href=\"#DejaVuSans-105\"/>\n    <use transform=\"translate(626.987305 0.765625)\" xlink:href=\"#DejaVuSans-110\"/>\n    <use transform=\"translate(690.366211 0.765625)\" xlink:href=\"#DejaVuSans-97\"/>\n    <use transform=\"translate(751.645508 0.765625)\" xlink:href=\"#DejaVuSans-98\"/>\n    <use transform=\"translate(815.12207 0.765625)\" xlink:href=\"#DejaVuSans-108\"/>\n    <use transform=\"translate(842.905273 0.765625)\" xlink:href=\"#DejaVuSans-101\"/>\n    <use transform=\"translate(904.428711 0.765625)\" xlink:href=\"#DejaVuSans-58\"/>\n    <use transform=\"translate(938.120117 0.765625)\" xlink:href=\"#DejaVuSans-32\"/>\n    <use transform=\"translate(969.907227 0.765625)\" xlink:href=\"#DejaVuSans-108\"/>\n    <use transform=\"translate(997.69043 0.765625)\" xlink:href=\"#DejaVuSans-97\"/>\n    <use transform=\"translate(1058.969727 0.765625)\" xlink:href=\"#DejaVuSans-115\"/>\n    <use transform=\"translate(1111.069336 0.765625)\" xlink:href=\"#DejaVuSans-116\"/>\n    <use transform=\"translate(1150.27832 0.765625)\" xlink:href=\"#DejaVuSans-32\"/>\n    <use transform=\"translate(1182.06543 0.765625)\" xlink:href=\"#DejaVuSans-108\"/>\n    <use transform=\"translate(1209.848633 0.765625)\" xlink:href=\"#DejaVuSans-97\"/>\n    <use transform=\"translate(1271.12793 0.765625)\" xlink:href=\"#DejaVuSans-121\"/>\n    <use transform=\"translate(1330.307617 0.765625)\" xlink:href=\"#DejaVuSans-101\"/>\n    <use transform=\"translate(1391.831055 0.765625)\" xlink:href=\"#DejaVuSans-114\"/>\n   </g>\n  </g>\n </g>\n <defs>\n  <clipPath id=\"p792ca1dc57\">\n   <rect height=\"271.8\" width=\"295.411765\" x=\"48.8\" y=\"43.2\"/>\n  </clipPath>\n  <clipPath id=\"p5ae806f2af\">\n   <rect height=\"271.8\" width=\"295.411765\" x=\"403.294118\" y=\"43.2\"/>\n  </clipPath>\n  <clipPath id=\"p6489e8fa90\">\n   <rect height=\"271.8\" width=\"295.411765\" x=\"757.788235\" y=\"43.2\"/>\n  </clipPath>\n </defs>\n</svg>\n",
      "image/png": "[encoded data removed]"
     },
     "metadata": {
      "needs_background": "light"
     }
    }
   ],
   "source": [
    "epochs_list = np.unique(df['epochs'])\n",
    "color_list = 'bgrcyk'\n",
    "\n",
    "fig, ax = plt.subplots(1, 3, figsize = (18, 5), sharex=True)\n",
    "for epochs, color in zip(epochs_list, color_list):\n",
    "    result1 = result.loc[result['epochs']==epochs]\n",
    "    nodes, mean, std, count = result1['nodes'], result1['minority-mse']['mean'], result1['minority-mse']['std'],\\\n",
    "     result1['minority-mse']['count']\n",
    "    ax[0].plot(nodes, mean, color)\n",
    "    ax[0].errorbar(nodes, mean, std)\n",
    "    ax[0].set_yscale('log')\n",
    "    ax[0].set_xscale('log')\n",
    "    ax[0].set_title('Test MSE (Minority)')\n",
    "    ax[0].set_xlabel('nodes')\n",
    "\n",
    "\n",
    "    mean, std, count = result1['majority-mse']['mean'], result1['majority-mse']['std'], result1['majority-mse']['count']\n",
    "    ax[1].plot(nodes, mean, color)\n",
    "    ax[1].errorbar(nodes, mean, std)\n",
    "    ax[1].set_yscale('log')\n",
    "    ax[1].set_xscale('log')\n",
    "    ax[1].set_title('Test MSE (Majority)')\n",
    "    ax[1].set_xlabel('nodes')\n",
    "\n",
    "    mean, std, count = result1['train-mse']['mean'], result1['train-mse']['std'], result1['train-mse']['count']\n",
    "    ax[2].plot(nodes, mean, color)\n",
    "    ax[2].errorbar(nodes, mean, std)\n",
    "    ax[2].set_yscale('log')\n",
    "    ax[2].set_xscale('log')\n",
    "    ax[2].set_title('Train MSE (Overall)')\n",
    "    ax[2].set_xlabel('nodes')\n",
    "\n",
    "fig.suptitle(image_title)\n",
    "plt.legend(epochs_list, title='epochs')\n",
    "plt.savefig('pdf_plots/' + filename + '.pdf')"
   ]
  },
  {
   "cell_type": "code",
   "execution_count": 4,
   "metadata": {},
   "outputs": [
    {
     "output_type": "display_data",
     "data": {
      "application/vnd.plotly.v1+json": {
       "config": {
        "plotlyServerURL": "https://plot.ly"
       },
       "data": [
        {
         "error_y": {
          "array": [
           1.4191475941017606,
           1.9178795717681822,
           2.186841521336423,
           2.169074103394453,
           2.1425589211442646,
           1.579040111493147,
           1.0941708624155155,
           0.8081303086266218,
           0.7091247256932091,
           0.6332923274376412,
           0.6036860175501978,
           0.5727598115467952,
           0.5636682408094494,
           0.5626688854596535,
           0.5527804829041595,
           0.5562900586964505,
           0.5528797378006767
          ],
          "color": "red",
          "thickness": 0.9,
          "type": "data",
          "width": 0
         },
         "legendgroup": "20",
         "line": {
          "color": "red"
         },
         "marker": {
          "size": 3
         },
         "name": "20",
         "showlegend": false,
         "type": "scatter",
         "x": [
          1,
          2,
          4,
          8,
          16,
          32,
          64,
          128,
          256,
          512,
          1024,
          2048,
          4096,
          8192,
          16384,
          32768,
          65536
         ],
         "xaxis": "x",
         "y": [
          15.286180786464525,
          14.547482480970912,
          13.642281961281563,
          11.651061672032078,
          9.568847661034319,
          7.790520627363071,
          6.698791116376386,
          6.0805850076834895,
          5.821541511892874,
          5.7076203384527,
          5.596447517241922,
          5.56603860057716,
          5.5532032382926815,
          5.541893770862184,
          5.536351781226321,
          5.535301044234464,
          5.537295271321683
         ],
         "yaxis": "y"
        },
        {
         "error_y": {
          "array": [
           1.5238415844379751,
           1.8403624346523646,
           2.070221137651106,
           2.3065736331356863,
           1.9613466170922769,
           1.3557194162566455,
           0.9452105722800129,
           0.6310001037403111,
           0.4689377078169946,
           0.38763685205784576,
           0.3518325022182528,
           0.34216885123238366,
           0.33382169278080615,
           0.3288295979025082,
           0.3275139247404015,
           0.33011193183971493,
           0.3262012186863401
          ],
          "color": "red",
          "thickness": 0.9,
          "type": "data",
          "width": 0
         },
         "legendgroup": "20",
         "line": {
          "color": "red"
         },
         "marker": {
          "size": 3
         },
         "name": "20",
         "showlegend": false,
         "type": "scatter",
         "x": [
          1,
          2,
          4,
          8,
          16,
          32,
          64,
          128,
          256,
          512,
          1024,
          2048,
          4096,
          8192,
          16384,
          32768,
          65536
         ],
         "xaxis": "x2",
         "y": [
          15.03276975497753,
          14.154760169345002,
          12.581873593920449,
          10.002817364440714,
          7.193757202314294,
          4.687508697892511,
          3.1365474259175583,
          2.276383828359304,
          1.7999811708727809,
          1.5732172400656352,
          1.4719769284876694,
          1.4000733221653712,
          1.378716843383368,
          1.3643541609164465,
          1.354867434023216,
          1.3548721631235103,
          1.350247681539593
         ],
         "yaxis": "y2"
        },
        {
         "error_y": {
          "array": [
           1.947894850636181,
           2.125158614899262,
           2.2359293448345343,
           2.337623237056056,
           1.7725617223648156,
           1.2265631214233512,
           0.7690915108403044,
           0.44748867681044047,
           0.3142824401259227,
           0.25364646104271654,
           0.2225409409673486,
           0.20611413851693408,
           0.19474702628163365,
           0.19405730819074118,
           0.19142060849635276,
           0.19112707765417875,
           0.18944026776641196
          ],
          "color": "red",
          "thickness": 0.9,
          "type": "data",
          "width": 0
         },
         "legendgroup": "20",
         "line": {
          "color": "red"
         },
         "marker": {
          "size": 3
         },
         "name": "20",
         "showlegend": true,
         "type": "scatter",
         "x": [
          1,
          2,
          4,
          8,
          16,
          32,
          64,
          128,
          256,
          512,
          1024,
          2048,
          4096,
          8192,
          16384,
          32768,
          65536
         ],
         "xaxis": "x3",
         "y": [
          14.8676212240621,
          13.86596433135578,
          12.272915870449614,
          9.635146775771942,
          6.7532718237427165,
          4.318572473765217,
          2.877464147714468,
          2.0614692634563383,
          1.6382551514185393,
          1.4407019553375882,
          1.3536677781156075,
          1.2911111830070265,
          1.2709087392558223,
          1.2579257532106993,
          1.2494570581011948,
          1.2493878407621861,
          1.245874094524511
         ],
         "yaxis": "y3"
        },
        {
         "error_y": {
          "array": [
           1.7022413429193632,
           1.8815776557478232,
           2.6261070045117196,
           2.527528157196352,
           2.067527819459811,
           1.267443173986631,
           0.8012409440080867,
           0.6100767434843808,
           0.489434372611892,
           0.44850094610652463,
           0.431590810196125,
           0.41588154644921266,
           0.4163599117783723,
           0.41050531933613954,
           0.41279523794186396,
           0.41269988604543373,
           0.41128025021698716
          ],
          "color": "green",
          "thickness": 0.9,
          "type": "data",
          "width": 0
         },
         "legendgroup": "40",
         "line": {
          "color": "green"
         },
         "marker": {
          "size": 3
         },
         "name": "40",
         "showlegend": false,
         "type": "scatter",
         "x": [
          1,
          2,
          4,
          8,
          16,
          32,
          64,
          128,
          256,
          512,
          1024,
          2048,
          4096,
          8192,
          16384,
          32768,
          65536
         ],
         "xaxis": "x",
         "y": [
          15.316723880959195,
          14.620236071455837,
          13.113224399528375,
          11.201990600413701,
          8.82826639098866,
          7.091808007313655,
          6.195390329711812,
          5.786766653475554,
          5.65140078458499,
          5.574653250716602,
          5.5334770145224885,
          5.505603378831742,
          5.506858798572451,
          5.495406354948829,
          5.4997959025328775,
          5.497161067847823,
          5.495980170259507
         ],
         "yaxis": "y"
        },
        {
         "error_y": {
          "array": [
           1.5816368847974964,
           1.9584863629512217,
           2.581346234444416,
           2.5422378945489257,
           1.9517598994548586,
           1.065205953958368,
           0.5065869592962681,
           0.2597189105825954,
           0.14980919825568573,
           0.11483762075312358,
           0.09949807583592819,
           0.08794104244097786,
           0.08594623687966169,
           0.08455869587867709,
           0.08277459730067036,
           0.083606407951145,
           0.08254754992003191
          ],
          "color": "green",
          "thickness": 0.9,
          "type": "data",
          "width": 0
         },
         "legendgroup": "40",
         "line": {
          "color": "green"
         },
         "marker": {
          "size": 3
         },
         "name": "40",
         "showlegend": false,
         "type": "scatter",
         "x": [
          1,
          2,
          4,
          8,
          16,
          32,
          64,
          128,
          256,
          512,
          1024,
          2048,
          4096,
          8192,
          16384,
          32768,
          65536
         ],
         "xaxis": "x2",
         "y": [
          15.053100021387822,
          14.071692237088513,
          11.781739494872333,
          9.065930941431818,
          5.700602312151804,
          3.057147112578453,
          1.5692237053427809,
          0.871022450784377,
          0.5449305167265959,
          0.3975121026553438,
          0.32835117615385595,
          0.2913497425740379,
          0.27583180542374935,
          0.26822194975355396,
          0.26457382442062116,
          0.2619135641932089,
          0.2608294663172103
         ],
         "yaxis": "y2"
        },
        {
         "error_y": {
          "array": [
           1.970859545067319,
           2.229717397598805,
           2.708803549260925,
           2.5105150232161115,
           1.762443633024019,
           0.9050443772579589,
           0.4106545497154324,
           0.2127846138415253,
           0.1383817820560018,
           0.12093076231331853,
           0.11711568913962873,
           0.11525979191635609,
           0.11274223017030435,
           0.1116686595497091,
           0.11103772156807845,
           0.11163845935849226,
           0.11082818788226811
          ],
          "color": "green",
          "thickness": 0.9,
          "type": "data",
          "width": 0
         },
         "legendgroup": "40",
         "line": {
          "color": "green"
         },
         "marker": {
          "size": 3
         },
         "name": "40",
         "showlegend": true,
         "type": "scatter",
         "x": [
          1,
          2,
          4,
          8,
          16,
          32,
          64,
          128,
          256,
          512,
          1024,
          2048,
          4096,
          8192,
          16384,
          32768,
          65536
         ],
         "xaxis": "x3",
         "y": [
          14.828845913992279,
          13.776775632813623,
          11.4306902056155,
          8.62277763424111,
          5.270725566009215,
          2.827208130056643,
          1.4887516034088006,
          0.8794214243075521,
          0.6078598660768872,
          0.4948928047183365,
          0.4357078146675359,
          0.40869591576997255,
          0.39592923094397003,
          0.38935128073628533,
          0.38615488138884607,
          0.38418499666910905,
          0.3833048081019252
         ],
         "yaxis": "y3"
        },
        {
         "error_y": {
          "array": [
           1.7508571543970237,
           2.0450663540824157,
           2.64692202897442,
           2.5918661154591067,
           1.8088211314393887,
           0.9553574095541653,
           0.5611940858094848,
           0.46645568556358175,
           0.39528947449237023,
           0.36379676325534616,
           0.3636030167615419,
           0.36194515276661693,
           0.36018088653010566,
           0.3546796819510788,
           0.35769968328697577,
           0.3566956865825892,
           0.35582911126990746
          ],
          "color": "blue",
          "thickness": 0.9,
          "type": "data",
          "width": 0
         },
         "legendgroup": "100",
         "line": {
          "color": "blue"
         },
         "marker": {
          "size": 3
         },
         "name": "100",
         "showlegend": false,
         "type": "scatter",
         "x": [
          1,
          2,
          4,
          8,
          16,
          32,
          64,
          128,
          256,
          512,
          1024,
          2048,
          4096,
          8192,
          16384,
          32768,
          65536
         ],
         "xaxis": "x",
         "y": [
          15.311249165231967,
          14.63497911249116,
          13.307043333914766,
          11.437916797140371,
          8.638909312793642,
          6.949738097430073,
          6.2241527515908945,
          5.988172913873475,
          5.874033899211565,
          5.806272519472052,
          5.779958343824814,
          5.7685236245094735,
          5.759758979580474,
          5.7571623141948995,
          5.755575055661409,
          5.756535061227039,
          5.754800059723615
         ],
         "yaxis": "y"
        },
        {
         "error_y": {
          "array": [
           1.6357390154933893,
           1.957087783402826,
           2.5851067443796985,
           2.4631575090757187,
           1.6259123980043582,
           0.7281846842062292,
           0.25575805208749053,
           0.1249618913796038,
           0.05786926274598451,
           0.03873631329522105,
           0.03558446908762395,
           0.03421569399975497,
           0.032509866558513394,
           0.030745306129113026,
           0.030976472654695334,
           0.031065685202822886,
           0.03094689025724583
          ],
          "color": "blue",
          "thickness": 0.9,
          "type": "data",
          "width": 0
         },
         "legendgroup": "100",
         "line": {
          "color": "blue"
         },
         "marker": {
          "size": 3
         },
         "name": "100",
         "showlegend": false,
         "type": "scatter",
         "x": [
          1,
          2,
          4,
          8,
          16,
          32,
          64,
          128,
          256,
          512,
          1024,
          2048,
          4096,
          8192,
          16384,
          32768,
          65536
         ],
         "xaxis": "x2",
         "y": [
          15.044031623215181,
          13.982605296233825,
          12.013035833237561,
          8.806148458882717,
          4.801222234266658,
          2.1851947696312615,
          0.9709709213928236,
          0.5060458885985474,
          0.28766169506171874,
          0.19021055650551583,
          0.1484437453308233,
          0.12812096149626384,
          0.11684715593339608,
          0.11193961059568718,
          0.10939334382779622,
          0.10833551869244878,
          0.10750987646123239
         ],
         "yaxis": "y2"
        },
        {
         "error_y": {
          "array": [
           2.1325270155915432,
           2.2501236955776878,
           2.677670802080811,
           2.3892088099202144,
           1.4103052666037323,
           0.6088252773416165,
           0.20917100783178638,
           0.1315438473431659,
           0.10387091812157316,
           0.09803484811714726,
           0.09658783054488738,
           0.09627908760100838,
           0.09649806112688657,
           0.09634991502298385,
           0.09637709863193981,
           0.09604966608066923,
           0.09606041806048192
          ],
          "color": "blue",
          "thickness": 0.9,
          "type": "data",
          "width": 0
         },
         "legendgroup": "100",
         "line": {
          "color": "blue"
         },
         "marker": {
          "size": 3
         },
         "name": "100",
         "showlegend": true,
         "type": "scatter",
         "x": [
          1,
          2,
          4,
          8,
          16,
          32,
          64,
          128,
          256,
          512,
          1024,
          2048,
          4096,
          8192,
          16384,
          32768,
          65536
         ],
         "xaxis": "x3",
         "y": [
          14.804705629380651,
          13.685446120424812,
          11.5816442384369,
          8.270040107012592,
          4.388205300605417,
          1.9673678872976017,
          0.9350259332951893,
          0.5729404930087635,
          0.4067752593038074,
          0.3364727815557084,
          0.30634553212186566,
          0.2907074108271296,
          0.28437423227622755,
          0.28046382069089343,
          0.2786289131312466,
          0.2775341027656128,
          0.27731956514128075
         ],
         "yaxis": "y3"
        },
        {
         "error_y": {
          "array": [
           1.7652138551489196,
           2.1368992665620508,
           2.5166594029794846,
           2.6748846784022833,
           1.6817812635384732,
           0.7657734423253585,
           0.4824727000139138,
           0.38257274310288,
           0.3629990022328144,
           0.35112827912529593,
           0.3409031441437685,
           0.3443997865407945,
           0.3399504160439442,
           0.3390877674262085,
           0.3412793033372532,
           0.33970121217580024,
           0.34030005500884103
          ],
          "color": "black",
          "thickness": 0.9,
          "type": "data",
          "width": 0
         },
         "legendgroup": "500",
         "line": {
          "color": "black"
         },
         "marker": {
          "size": 3
         },
         "name": "500",
         "showlegend": false,
         "type": "scatter",
         "x": [
          1,
          2,
          4,
          8,
          16,
          32,
          64,
          128,
          256,
          512,
          1024,
          2048,
          4096,
          8192,
          16384,
          32768,
          65536
         ],
         "xaxis": "x",
         "y": [
          15.34379217696429,
          14.759686012331857,
          13.619380010011604,
          11.32851315182587,
          8.738821216251539,
          7.012403351008692,
          6.250498873732959,
          5.977911575980809,
          5.9000037330448825,
          5.8732894814532735,
          5.860046265515994,
          5.8577041641924295,
          5.85419172746282,
          5.854874103763032,
          5.855002999704419,
          5.855438966017503,
          5.854559378480433
         ],
         "yaxis": "y"
        },
        {
         "error_y": {
          "array": [
           1.5362226232334113,
           2.042665905315549,
           2.7296135757621873,
           2.437791151909482,
           1.4220475988091765,
           0.5512252140762386,
           0.18822476005661098,
           0.08050451841742322,
           0.05469088324958574,
           0.050035766932449155,
           0.05074332567486589,
           0.051154382874505626,
           0.050667875936523346,
           0.05088728065898988,
           0.0508199964755727,
           0.0506530980524447,
           0.050767151850256154
          ],
          "color": "black",
          "thickness": 0.9,
          "type": "data",
          "width": 0
         },
         "legendgroup": "500",
         "line": {
          "color": "black"
         },
         "marker": {
          "size": 3
         },
         "name": "500",
         "showlegend": false,
         "type": "scatter",
         "x": [
          1,
          2,
          4,
          8,
          16,
          32,
          64,
          128,
          256,
          512,
          1024,
          2048,
          4096,
          8192,
          16384,
          32768,
          65536
         ],
         "xaxis": "x2",
         "y": [
          15.096861021175831,
          13.95744185623118,
          12.157824041851388,
          8.497875142655644,
          4.5557792254514915,
          1.9182601044807945,
          0.7517443004260493,
          0.35141033935905697,
          0.2198135545819898,
          0.1724324982152336,
          0.15609438341098486,
          0.14816863069865216,
          0.14429360608193387,
          0.14276776525089174,
          0.14192025373412614,
          0.1413448325866042,
          0.1411058182849932
         ],
         "yaxis": "y2"
        },
        {
         "error_y": {
          "array": [
           2.0893645253462276,
           2.1802353524502283,
           2.6122223143347685,
           2.4272120121432583,
           1.2460006533617132,
           0.4271073433624449,
           0.1610932218521505,
           0.09459397960107135,
           0.0811648193126993,
           0.07817671450782526,
           0.07600030574272928,
           0.07614918197386626,
           0.07562739966722871,
           0.0754907590298202,
           0.07538747671700613,
           0.07535356977719217,
           0.07527158295159975
          ],
          "color": "black",
          "thickness": 0.9,
          "type": "data",
          "width": 0
         },
         "legendgroup": "500",
         "line": {
          "color": "black"
         },
         "marker": {
          "size": 3
         },
         "name": "500",
         "showlegend": true,
         "type": "scatter",
         "x": [
          1,
          2,
          4,
          8,
          16,
          32,
          64,
          128,
          256,
          512,
          1024,
          2048,
          4096,
          8192,
          16384,
          32768,
          65536
         ],
         "xaxis": "x3",
         "y": [
          14.874260605776987,
          13.637367112979442,
          11.587835452229681,
          7.92904517722369,
          4.014700925469797,
          1.5874121512058985,
          0.6525440154266995,
          0.36255286015993776,
          0.27303383043378493,
          0.2446003392288916,
          0.23148632575337305,
          0.22661641205234273,
          0.22403963969204338,
          0.22255771779097044,
          0.2222046357732154,
          0.2218287230833717,
          0.221701905206095
         ],
         "yaxis": "y3"
        },
        {
         "error_y": {
          "array": [
           1.629923689025682,
           2.18958137524302,
           2.5939434023022447,
           2.704381196675772,
           1.5273688415132494,
           0.831588673645638,
           0.4725055325067761,
           0.37408405177958554,
           0.3469275708595989,
           0.3461497396618716,
           0.33874026721284367,
           0.3349961539188871,
           0.3385120516362646,
           0.3376817947778727,
           0.33810688431674607,
           0.338680887520385,
           0.33879703930867694
          ],
          "color": "purple",
          "thickness": 0.9,
          "type": "data",
          "width": 0
         },
         "legendgroup": "1000",
         "line": {
          "color": "purple"
         },
         "marker": {
          "size": 3
         },
         "name": "1000",
         "showlegend": false,
         "type": "scatter",
         "x": [
          1,
          2,
          4,
          8,
          16,
          32,
          64,
          128,
          256,
          512,
          1024,
          2048,
          4096,
          8192,
          16384,
          32768,
          65536
         ],
         "xaxis": "x",
         "y": [
          15.391967124364847,
          14.798403851563316,
          13.551443356734056,
          11.395474032016104,
          9.039642756599248,
          7.14454274193499,
          6.239025997876324,
          5.986442286832675,
          5.9275678280603925,
          5.910424801816909,
          5.905241117828267,
          5.898927339343323,
          5.897888244195128,
          5.897680612710806,
          5.895972658559232,
          5.896383357287251,
          5.895774450589183
         ],
         "yaxis": "y"
        },
        {
         "error_y": {
          "array": [
           1.612089634067835,
           2.089902956687882,
           2.539897150754462,
           2.588837407107127,
           1.4817626534796662,
           0.5792418291121066,
           0.21110320696931575,
           0.07847762188641742,
           0.0671984502361061,
           0.06356570366408383,
           0.0640740050641785,
           0.06195945796959338,
           0.062028110006172074,
           0.06237039772865872,
           0.062459431622158654,
           0.06282056015281308,
           0.06274017092074438
          ],
          "color": "purple",
          "thickness": 0.9,
          "type": "data",
          "width": 0
         },
         "legendgroup": "1000",
         "line": {
          "color": "purple"
         },
         "marker": {
          "size": 3
         },
         "name": "1000",
         "showlegend": false,
         "type": "scatter",
         "x": [
          1,
          2,
          4,
          8,
          16,
          32,
          64,
          128,
          256,
          512,
          1024,
          2048,
          4096,
          8192,
          16384,
          32768,
          65536
         ],
         "xaxis": "x2",
         "y": [
          14.98641123500556,
          13.963294914334913,
          11.754764923682579,
          8.67058072919431,
          4.752596691699331,
          1.9580886808526157,
          0.7232587517902604,
          0.32736243606610443,
          0.2252582975703737,
          0.19198402523197058,
          0.17879856522366355,
          0.17194115432807833,
          0.16990886289738494,
          0.1686828639794353,
          0.16814362481984008,
          0.16783598317051412,
          0.1677238550224033
         ],
         "yaxis": "y2"
        },
        {
         "error_y": {
          "array": [
           2.00106727120888,
           2.3259126109393424,
           2.5603453362493043,
           2.4162292185639553,
           1.3255035712274523,
           0.45869180029271184,
           0.1546512413488611,
           0.08922087401719268,
           0.07427973345833515,
           0.07047246486500454,
           0.06823541415198998,
           0.06790395731033734,
           0.0673313246476553,
           0.06735762013502256,
           0.06726123227141731,
           0.0672180545544977,
           0.06716934655397278
          ],
          "color": "purple",
          "thickness": 0.9,
          "type": "data",
          "width": 0
         },
         "legendgroup": "1000",
         "line": {
          "color": "purple"
         },
         "marker": {
          "size": 3
         },
         "name": "1000",
         "showlegend": true,
         "type": "scatter",
         "x": [
          1,
          2,
          4,
          8,
          16,
          32,
          64,
          128,
          256,
          512,
          1024,
          2048,
          4096,
          8192,
          16384,
          32768,
          65536
         ],
         "xaxis": "x3",
         "y": [
          14.810392335107096,
          13.698668631422878,
          11.35287988464968,
          8.040339652511188,
          4.180715949240337,
          1.5821617979269762,
          0.5937126789204652,
          0.3161001401800774,
          0.24445429406935554,
          0.22070937808042385,
          0.21008395660282378,
          0.2056368790990533,
          0.20359802751935843,
          0.20254482884570507,
          0.20206333731727855,
          0.20178813542111662,
          0.2016692857030642
         ],
         "yaxis": "y3"
        },
        {
         "error_y": {
          "array": [
           1.840452146619672,
           2.377675230206696,
           2.7015363384189954,
           2.482927701282155,
           1.5021489381494957,
           0.7742328671575981,
           0.46787953905931134,
           0.3801867357541673,
           0.34894760733760394,
           0.3414077611041158,
           0.3369334545641852,
           0.3383234738227989,
           0.34003784274730664,
           0.33888690332736837,
           0.34084645250110573,
           0.3402402160339582,
           0.33959948643400556
          ],
          "color": "orange",
          "thickness": 0.9,
          "type": "data",
          "width": 0
         },
         "legendgroup": "2000",
         "line": {
          "color": "orange"
         },
         "marker": {
          "size": 3
         },
         "name": "2000",
         "showlegend": false,
         "type": "scatter",
         "x": [
          1,
          2,
          4,
          8,
          16,
          32,
          64,
          128,
          256,
          512,
          1024,
          2048,
          4096,
          8192,
          16384,
          32768,
          65536
         ],
         "xaxis": "x",
         "y": [
          15.277868768443232,
          14.712269175411468,
          13.652354336103867,
          11.493019532997872,
          8.725088095585239,
          7.053713898993655,
          6.319259330979159,
          6.020422830230815,
          5.960927291857359,
          5.936948391904799,
          5.928481969546315,
          5.925910897079519,
          5.922898777352527,
          5.924842510733716,
          5.922448912591839,
          5.922166328366385,
          5.92340967407992
         ],
         "yaxis": "y"
        },
        {
         "error_y": {
          "array": [
           1.7166636978399092,
           2.0363166018767562,
           2.408556993966553,
           2.3553928660040317,
           1.4673803343567484,
           0.5944401873468625,
           0.18485398925466687,
           0.08536050049680949,
           0.07324549846070903,
           0.07211475935807077,
           0.07021702488406444,
           0.07136600406715955,
           0.07050764474800482,
           0.07129220899020479,
           0.07133917234621286,
           0.07118856568354559,
           0.0712019319949975
          ],
          "color": "orange",
          "thickness": 0.9,
          "type": "data",
          "width": 0
         },
         "legendgroup": "2000",
         "line": {
          "color": "orange"
         },
         "marker": {
          "size": 3
         },
         "name": "2000",
         "showlegend": false,
         "type": "scatter",
         "x": [
          1,
          2,
          4,
          8,
          16,
          32,
          64,
          128,
          256,
          512,
          1024,
          2048,
          4096,
          8192,
          16384,
          32768,
          65536
         ],
         "xaxis": "x2",
         "y": [
          14.927606168000594,
          14.017774127398845,
          11.86681311106602,
          8.756426371060885,
          4.7296185397782855,
          1.919381105182163,
          0.7108362681889614,
          0.3328621373029058,
          0.23965962241126543,
          0.21186974245967674,
          0.1995117297539344,
          0.19384608791524352,
          0.1913767924476228,
          0.1899579842403581,
          0.18934038650232016,
          0.1889057210506404,
          0.18880416136421888
         ],
         "yaxis": "y2"
        },
        {
         "error_y": {
          "array": [
           2.1202288127579303,
           2.226600379897199,
           2.4920360576461413,
           2.268053627535109,
           1.3263529774780605,
           0.44607825028649367,
           0.13767197815698576,
           0.07799104718948119,
           0.06512475080009059,
           0.06333025472659871,
           0.06076033212999559,
           0.05976315369337471,
           0.058894566107114965,
           0.05846538890046378,
           0.05848302467892657,
           0.05844092970845312,
           0.0585262106361995
          ],
          "color": "orange",
          "thickness": 0.9,
          "type": "data",
          "width": 0
         },
         "legendgroup": "2000",
         "line": {
          "color": "orange"
         },
         "marker": {
          "size": 3
         },
         "name": "2000",
         "showlegend": true,
         "type": "scatter",
         "x": [
          1,
          2,
          4,
          8,
          16,
          32,
          64,
          128,
          256,
          512,
          1024,
          2048,
          4096,
          8192,
          16384,
          32768,
          65536
         ],
         "xaxis": "x3",
         "y": [
          14.745840815796102,
          13.749298014369696,
          11.431039754363605,
          8.201078510603379,
          4.122455160753384,
          1.5301625389717892,
          0.5515007342781909,
          0.29203792624050956,
          0.22305453030461053,
          0.20007801511913637,
          0.1900892402715109,
          0.18497185214706088,
          0.18269659680965353,
          0.18147152203779954,
          0.18089424312912103,
          0.18054533557947663,
          0.18047180064147134
         ],
         "yaxis": "y3"
        }
       ],
       "layout": {
        "annotations": [
         {
          "font": {
           "size": 16
          },
          "showarrow": false,
          "text": "Test MSE (minority)",
          "x": 0.14444444444444446,
          "xanchor": "center",
          "xref": "paper",
          "y": 1,
          "yanchor": "bottom",
          "yref": "paper"
         },
         {
          "font": {
           "size": 16
          },
          "showarrow": false,
          "text": "Test MSE (majority)",
          "x": 0.5,
          "xanchor": "center",
          "xref": "paper",
          "y": 1,
          "yanchor": "bottom",
          "yref": "paper"
         },
         {
          "font": {
           "size": 16
          },
          "showarrow": false,
          "text": "Train MSE (overall)",
          "x": 0.8555555555555556,
          "xanchor": "center",
          "xref": "paper",
          "y": 1,
          "yanchor": "bottom",
          "yref": "paper"
         }
        ],
        "height": 400,
        "legend": {
         "title": {
          "text": "epochs"
         }
        },
        "template": {
         "data": {
          "bar": [
           {
            "error_x": {
             "color": "#2a3f5f"
            },
            "error_y": {
             "color": "#2a3f5f"
            },
            "marker": {
             "line": {
              "color": "#E5ECF6",
              "width": 0.5
             }
            },
            "type": "bar"
           }
          ],
          "barpolar": [
           {
            "marker": {
             "line": {
              "color": "#E5ECF6",
              "width": 0.5
             }
            },
            "type": "barpolar"
           }
          ],
          "carpet": [
           {
            "aaxis": {
             "endlinecolor": "#2a3f5f",
             "gridcolor": "white",
             "linecolor": "white",
             "minorgridcolor": "white",
             "startlinecolor": "#2a3f5f"
            },
            "baxis": {
             "endlinecolor": "#2a3f5f",
             "gridcolor": "white",
             "linecolor": "white",
             "minorgridcolor": "white",
             "startlinecolor": "#2a3f5f"
            },
            "type": "carpet"
           }
          ],
          "choropleth": [
           {
            "colorbar": {
             "outlinewidth": 0,
             "ticks": ""
            },
            "type": "choropleth"
           }
          ],
          "contour": [
           {
            "colorbar": {
             "outlinewidth": 0,
             "ticks": ""
            },
            "colorscale": [
             [
              0,
              "#0d0887"
             ],
             [
              0.1111111111111111,
              "#46039f"
             ],
             [
              0.2222222222222222,
              "#7201a8"
             ],
             [
              0.3333333333333333,
              "#9c179e"
             ],
             [
              0.4444444444444444,
              "#bd3786"
             ],
             [
              0.5555555555555556,
              "#d8576b"
             ],
             [
              0.6666666666666666,
              "#ed7953"
             ],
             [
              0.7777777777777778,
              "#fb9f3a"
             ],
             [
              0.8888888888888888,
              "#fdca26"
             ],
             [
              1,
              "#f0f921"
             ]
            ],
            "type": "contour"
           }
          ],
          "contourcarpet": [
           {
            "colorbar": {
             "outlinewidth": 0,
             "ticks": ""
            },
            "type": "contourcarpet"
           }
          ],
          "heatmap": [
           {
            "colorbar": {
             "outlinewidth": 0,
             "ticks": ""
            },
            "colorscale": [
             [
              0,
              "#0d0887"
             ],
             [
              0.1111111111111111,
              "#46039f"
             ],
             [
              0.2222222222222222,
              "#7201a8"
             ],
             [
              0.3333333333333333,
              "#9c179e"
             ],
             [
              0.4444444444444444,
              "#bd3786"
             ],
             [
              0.5555555555555556,
              "#d8576b"
             ],
             [
              0.6666666666666666,
              "#ed7953"
             ],
             [
              0.7777777777777778,
              "#fb9f3a"
             ],
             [
              0.8888888888888888,
              "#fdca26"
             ],
             [
              1,
              "#f0f921"
             ]
            ],
            "type": "heatmap"
           }
          ],
          "heatmapgl": [
           {
            "colorbar": {
             "outlinewidth": 0,
             "ticks": ""
            },
            "colorscale": [
             [
              0,
              "#0d0887"
             ],
             [
              0.1111111111111111,
              "#46039f"
             ],
             [
              0.2222222222222222,
              "#7201a8"
             ],
             [
              0.3333333333333333,
              "#9c179e"
             ],
             [
              0.4444444444444444,
              "#bd3786"
             ],
             [
              0.5555555555555556,
              "#d8576b"
             ],
             [
              0.6666666666666666,
              "#ed7953"
             ],
             [
              0.7777777777777778,
              "#fb9f3a"
             ],
             [
              0.8888888888888888,
              "#fdca26"
             ],
             [
              1,
              "#f0f921"
             ]
            ],
            "type": "heatmapgl"
           }
          ],
          "histogram": [
           {
            "marker": {
             "colorbar": {
              "outlinewidth": 0,
              "ticks": ""
             }
            },
            "type": "histogram"
           }
          ],
          "histogram2d": [
           {
            "colorbar": {
             "outlinewidth": 0,
             "ticks": ""
            },
            "colorscale": [
             [
              0,
              "#0d0887"
             ],
             [
              0.1111111111111111,
              "#46039f"
             ],
             [
              0.2222222222222222,
              "#7201a8"
             ],
             [
              0.3333333333333333,
              "#9c179e"
             ],
             [
              0.4444444444444444,
              "#bd3786"
             ],
             [
              0.5555555555555556,
              "#d8576b"
             ],
             [
              0.6666666666666666,
              "#ed7953"
             ],
             [
              0.7777777777777778,
              "#fb9f3a"
             ],
             [
              0.8888888888888888,
              "#fdca26"
             ],
             [
              1,
              "#f0f921"
             ]
            ],
            "type": "histogram2d"
           }
          ],
          "histogram2dcontour": [
           {
            "colorbar": {
             "outlinewidth": 0,
             "ticks": ""
            },
            "colorscale": [
             [
              0,
              "#0d0887"
             ],
             [
              0.1111111111111111,
              "#46039f"
             ],
             [
              0.2222222222222222,
              "#7201a8"
             ],
             [
              0.3333333333333333,
              "#9c179e"
             ],
             [
              0.4444444444444444,
              "#bd3786"
             ],
             [
              0.5555555555555556,
              "#d8576b"
             ],
             [
              0.6666666666666666,
              "#ed7953"
             ],
             [
              0.7777777777777778,
              "#fb9f3a"
             ],
             [
              0.8888888888888888,
              "#fdca26"
             ],
             [
              1,
              "#f0f921"
             ]
            ],
            "type": "histogram2dcontour"
           }
          ],
          "mesh3d": [
           {
            "colorbar": {
             "outlinewidth": 0,
             "ticks": ""
            },
            "type": "mesh3d"
           }
          ],
          "parcoords": [
           {
            "line": {
             "colorbar": {
              "outlinewidth": 0,
              "ticks": ""
             }
            },
            "type": "parcoords"
           }
          ],
          "pie": [
           {
            "automargin": true,
            "type": "pie"
           }
          ],
          "scatter": [
           {
            "marker": {
             "colorbar": {
              "outlinewidth": 0,
              "ticks": ""
             }
            },
            "type": "scatter"
           }
          ],
          "scatter3d": [
           {
            "line": {
             "colorbar": {
              "outlinewidth": 0,
              "ticks": ""
             }
            },
            "marker": {
             "colorbar": {
              "outlinewidth": 0,
              "ticks": ""
             }
            },
            "type": "scatter3d"
           }
          ],
          "scattercarpet": [
           {
            "marker": {
             "colorbar": {
              "outlinewidth": 0,
              "ticks": ""
             }
            },
            "type": "scattercarpet"
           }
          ],
          "scattergeo": [
           {
            "marker": {
             "colorbar": {
              "outlinewidth": 0,
              "ticks": ""
             }
            },
            "type": "scattergeo"
           }
          ],
          "scattergl": [
           {
            "marker": {
             "colorbar": {
              "outlinewidth": 0,
              "ticks": ""
             }
            },
            "type": "scattergl"
           }
          ],
          "scattermapbox": [
           {
            "marker": {
             "colorbar": {
              "outlinewidth": 0,
              "ticks": ""
             }
            },
            "type": "scattermapbox"
           }
          ],
          "scatterpolar": [
           {
            "marker": {
             "colorbar": {
              "outlinewidth": 0,
              "ticks": ""
             }
            },
            "type": "scatterpolar"
           }
          ],
          "scatterpolargl": [
           {
            "marker": {
             "colorbar": {
              "outlinewidth": 0,
              "ticks": ""
             }
            },
            "type": "scatterpolargl"
           }
          ],
          "scatterternary": [
           {
            "marker": {
             "colorbar": {
              "outlinewidth": 0,
              "ticks": ""
             }
            },
            "type": "scatterternary"
           }
          ],
          "surface": [
           {
            "colorbar": {
             "outlinewidth": 0,
             "ticks": ""
            },
            "colorscale": [
             [
              0,
              "#0d0887"
             ],
             [
              0.1111111111111111,
              "#46039f"
             ],
             [
              0.2222222222222222,
              "#7201a8"
             ],
             [
              0.3333333333333333,
              "#9c179e"
             ],
             [
              0.4444444444444444,
              "#bd3786"
             ],
             [
              0.5555555555555556,
              "#d8576b"
             ],
             [
              0.6666666666666666,
              "#ed7953"
             ],
             [
              0.7777777777777778,
              "#fb9f3a"
             ],
             [
              0.8888888888888888,
              "#fdca26"
             ],
             [
              1,
              "#f0f921"
             ]
            ],
            "type": "surface"
           }
          ],
          "table": [
           {
            "cells": {
             "fill": {
              "color": "#EBF0F8"
             },
             "line": {
              "color": "white"
             }
            },
            "header": {
             "fill": {
              "color": "#C8D4E3"
             },
             "line": {
              "color": "white"
             }
            },
            "type": "table"
           }
          ]
         },
         "layout": {
          "annotationdefaults": {
           "arrowcolor": "#2a3f5f",
           "arrowhead": 0,
           "arrowwidth": 1
          },
          "coloraxis": {
           "colorbar": {
            "outlinewidth": 0,
            "ticks": ""
           }
          },
          "colorscale": {
           "diverging": [
            [
             0,
             "#8e0152"
            ],
            [
             0.1,
             "#c51b7d"
            ],
            [
             0.2,
             "#de77ae"
            ],
            [
             0.3,
             "#f1b6da"
            ],
            [
             0.4,
             "#fde0ef"
            ],
            [
             0.5,
             "#f7f7f7"
            ],
            [
             0.6,
             "#e6f5d0"
            ],
            [
             0.7,
             "#b8e186"
            ],
            [
             0.8,
             "#7fbc41"
            ],
            [
             0.9,
             "#4d9221"
            ],
            [
             1,
             "#276419"
            ]
           ],
           "sequential": [
            [
             0,
             "#0d0887"
            ],
            [
             0.1111111111111111,
             "#46039f"
            ],
            [
             0.2222222222222222,
             "#7201a8"
            ],
            [
             0.3333333333333333,
             "#9c179e"
            ],
            [
             0.4444444444444444,
             "#bd3786"
            ],
            [
             0.5555555555555556,
             "#d8576b"
            ],
            [
             0.6666666666666666,
             "#ed7953"
            ],
            [
             0.7777777777777778,
             "#fb9f3a"
            ],
            [
             0.8888888888888888,
             "#fdca26"
            ],
            [
             1,
             "#f0f921"
            ]
           ],
           "sequentialminus": [
            [
             0,
             "#0d0887"
            ],
            [
             0.1111111111111111,
             "#46039f"
            ],
            [
             0.2222222222222222,
             "#7201a8"
            ],
            [
             0.3333333333333333,
             "#9c179e"
            ],
            [
             0.4444444444444444,
             "#bd3786"
            ],
            [
             0.5555555555555556,
             "#d8576b"
            ],
            [
             0.6666666666666666,
             "#ed7953"
            ],
            [
             0.7777777777777778,
             "#fb9f3a"
            ],
            [
             0.8888888888888888,
             "#fdca26"
            ],
            [
             1,
             "#f0f921"
            ]
           ]
          },
          "colorway": [
           "#636efa",
           "#EF553B",
           "#00cc96",
           "#ab63fa",
           "#FFA15A",
           "#19d3f3",
           "#FF6692",
           "#B6E880",
           "#FF97FF",
           "#FECB52"
          ],
          "font": {
           "color": "#2a3f5f"
          },
          "geo": {
           "bgcolor": "white",
           "lakecolor": "white",
           "landcolor": "#E5ECF6",
           "showlakes": true,
           "showland": true,
           "subunitcolor": "white"
          },
          "hoverlabel": {
           "align": "left"
          },
          "hovermode": "closest",
          "mapbox": {
           "style": "light"
          },
          "paper_bgcolor": "white",
          "plot_bgcolor": "#E5ECF6",
          "polar": {
           "angularaxis": {
            "gridcolor": "white",
            "linecolor": "white",
            "ticks": ""
           },
           "bgcolor": "#E5ECF6",
           "radialaxis": {
            "gridcolor": "white",
            "linecolor": "white",
            "ticks": ""
           }
          },
          "scene": {
           "xaxis": {
            "backgroundcolor": "#E5ECF6",
            "gridcolor": "white",
            "gridwidth": 2,
            "linecolor": "white",
            "showbackground": true,
            "ticks": "",
            "zerolinecolor": "white"
           },
           "yaxis": {
            "backgroundcolor": "#E5ECF6",
            "gridcolor": "white",
            "gridwidth": 2,
            "linecolor": "white",
            "showbackground": true,
            "ticks": "",
            "zerolinecolor": "white"
           },
           "zaxis": {
            "backgroundcolor": "#E5ECF6",
            "gridcolor": "white",
            "gridwidth": 2,
            "linecolor": "white",
            "showbackground": true,
            "ticks": "",
            "zerolinecolor": "white"
           }
          },
          "shapedefaults": {
           "line": {
            "color": "#2a3f5f"
           }
          },
          "ternary": {
           "aaxis": {
            "gridcolor": "white",
            "linecolor": "white",
            "ticks": ""
           },
           "baxis": {
            "gridcolor": "white",
            "linecolor": "white",
            "ticks": ""
           },
           "bgcolor": "#E5ECF6",
           "caxis": {
            "gridcolor": "white",
            "linecolor": "white",
            "ticks": ""
           }
          },
          "title": {
           "x": 0.05
          },
          "xaxis": {
           "automargin": true,
           "gridcolor": "white",
           "linecolor": "white",
           "ticks": "",
           "title": {
            "standoff": 15
           },
           "zerolinecolor": "white",
           "zerolinewidth": 2
          },
          "yaxis": {
           "automargin": true,
           "gridcolor": "white",
           "linecolor": "white",
           "ticks": "",
           "title": {
            "standoff": 15
           },
           "zerolinecolor": "white",
           "zerolinewidth": 2
          }
         }
        },
        "title": {
         "text": "$\\|\\beta\\|_2^2$: 16, Trainable: last layer"
        },
        "width": 1000,
        "xaxis": {
         "anchor": "y",
         "domain": [
          0,
          0.2888888888888889
         ],
         "title": {
          "text": "nodes"
         },
         "type": "log"
        },
        "xaxis2": {
         "anchor": "y2",
         "domain": [
          0.35555555555555557,
          0.6444444444444445
         ],
         "title": {
          "text": "nodes"
         },
         "type": "log"
        },
        "xaxis3": {
         "anchor": "y3",
         "domain": [
          0.7111111111111111,
          1
         ],
         "title": {
          "text": "nodes"
         },
         "type": "log"
        },
        "yaxis": {
         "anchor": "x",
         "domain": [
          0,
          1
         ]
        },
        "yaxis2": {
         "anchor": "x2",
         "domain": [
          0,
          1
         ]
        },
        "yaxis3": {
         "anchor": "x3",
         "domain": [
          0,
          1
         ]
        }
       }
      }
     },
     "metadata": {}
    },
    {
     "output_type": "execute_result",
     "data": {
      "text/plain": [
       "'html_plots/trainable_last_large_beta.html'"
      ]
     },
     "metadata": {},
     "execution_count": 4
    }
   ],
   "source": [
    "epochs_list = np.unique(df['epochs'])\n",
    "color_list=['red', 'green', 'blue', 'black', 'purple', 'orange']\n",
    "\n",
    "from plotly.subplots import make_subplots\n",
    "import plotly.graph_objects as go\n",
    "import plotly\n",
    "fig = make_subplots(rows = 1, cols=3, subplot_titles=['Test MSE (minority)', 'Test MSE (majority)', 'Train MSE (overall)'])\n",
    "for epochs, color in zip(epochs_list, color_list):\n",
    "    line = go.scatter.Line(color = color)\n",
    "    result1 = result.loc[result['epochs']==epochs]\n",
    "    nodes, mean, std, count = result1['nodes'], result1['minority-mse']['mean'], result1['minority-mse']['std'],\\\n",
    "     result1['minority-mse']['count']\n",
    "    error_y = dict(type = 'data', array = std, color = color, width = 0, thickness = 0.9)\n",
    "    marker = dict(size = 3)\n",
    "    fig.append_trace(go.Scatter(x = nodes, y = mean, line = line, error_y = error_y, marker = marker, name = str(epochs),\\\n",
    "         legendgroup = str(epochs), showlegend = False), row = 1, col = 1)\n",
    "\n",
    "    mean, std, count = result1['majority-mse']['mean'], result1['majority-mse']['std'], result1['majority-mse']['count']\n",
    "    error_y['array'] = std\n",
    "    fig.append_trace(go.Scatter(x = nodes, y = mean, line = line,  error_y = error_y, marker = marker, name = str(epochs),\\\n",
    "        legendgroup = str(epochs), showlegend = False), row = 1, col = 2)\n",
    "\n",
    "    mean, std, count = result1['train-mse']['mean'], result1['train-mse']['std'], result1['train-mse']['count']\n",
    "    error_y['array'] = std\n",
    "    fig.append_trace(go.Scatter(x = nodes, y = mean, line = line, error_y = error_y, marker = marker,  name = str(epochs),\\\n",
    "        legendgroup = str(epochs), showlegend = True), row = 1, col = 3)\n",
    "\n",
    "\n",
    "fig.update_xaxes(type = 'log', title = 'nodes')\n",
    "fig.update_layout(height = 400, width = 1000, legend_title_text='epochs', title = plotly_title)\n",
    "\n",
    "fig.show()\n",
    "plotly.offline.plot(fig, filename = 'html_plots/' + filename + '.html')"
   ]
  },
  {
   "cell_type": "code",
   "execution_count": 5,
   "metadata": {},
   "outputs": [],
   "source": [
    "import re\n",
    "import pandas as pd\n",
    "import numpy as np\n",
    "import matplotlib.pyplot as plt\n",
    "from matplotlib.lines import Line2D\n",
    "with open('mses.txt', 'r') as f:\n",
    "    out = f.read()\n",
    "out = re.split(r'\\n', out)\n",
    "dict_list = []\n",
    "for d in out:\n",
    "    try:\n",
    "        f = eval(d)\n",
    "        dict_list.append(f)\n",
    "    except:\n",
    "        continue\n",
    "\n",
    "\n",
    "\n",
    "df = pd.DataFrame(dict_list)\n",
    "df.dtypes\n",
    "df1 = df.loc[df['epochs'] == 5000]"
   ]
  },
  {
   "cell_type": "code",
   "execution_count": 6,
   "metadata": {},
   "outputs": [
    {
     "output_type": "execute_result",
     "data": {
      "text/plain": [
       "                       setup beta-norm  nodes   train-mse                   \\\n",
       "                                                     mean        std count   \n",
       "0   different-core-over-envs         1     10    3.032185   0.619724   500   \n",
       "1   different-core-over-envs         1     40    1.460649   0.153575   500   \n",
       "2   different-core-over-envs         1    160    1.019514   0.090573   500   \n",
       "3   different-core-over-envs         1    640    0.596075   0.054005   500   \n",
       "4   different-core-over-envs         1   2560    0.146781   0.020860   500   \n",
       "5   different-core-over-envs         1  10240    0.011760   0.002282   500   \n",
       "6   different-core-over-envs         5     10   54.190673  15.690302   500   \n",
       "7   different-core-over-envs         5     40    9.160974   2.510403   500   \n",
       "8   different-core-over-envs         5    160    1.390060   0.123886   500   \n",
       "9   different-core-over-envs         5    640    0.632771   0.057500   500   \n",
       "10  different-core-over-envs         5   2560    0.150023   0.019446   500   \n",
       "11  different-core-over-envs         5  10240    0.012041   0.002272   500   \n",
       "12  different-core-over-envs        10     10  217.892488  64.927569   500   \n",
       "13  different-core-over-envs        10     40   33.552503   9.764514   500   \n",
       "14  different-core-over-envs        10    160    2.534983   0.299757   500   \n",
       "15  different-core-over-envs        10    640    0.752777   0.060137   500   \n",
       "16  different-core-over-envs        10   2560    0.159770   0.020299   500   \n",
       "17  different-core-over-envs        10  10240    0.012657   0.002494   500   \n",
       "18       same-core-over-envs         1     10    7.026966   1.070899   500   \n",
       "19       same-core-over-envs         1     40    4.989579   0.430569   500   \n",
       "20       same-core-over-envs         1    160    3.989823   0.348337   500   \n",
       "21       same-core-over-envs         1    640    2.505658   0.231690   500   \n",
       "22       same-core-over-envs         1   2560    0.996462   0.111272   500   \n",
       "23       same-core-over-envs         1  10240    0.148245   0.028733   500   \n",
       "24       same-core-over-envs         5     10   59.867759  16.789348   500   \n",
       "25       same-core-over-envs         5     40   12.501672   2.601380   500   \n",
       "26       same-core-over-envs         5    160    4.369451   0.366698   500   \n",
       "27       same-core-over-envs         5    640    2.577545   0.244134   500   \n",
       "28       same-core-over-envs         5   2560    1.013784   0.120861   500   \n",
       "29       same-core-over-envs         5  10240    0.152394   0.028733   500   \n",
       "30       same-core-over-envs        10     10  219.167477  61.339279   500   \n",
       "31       same-core-over-envs        10     40   37.341525  10.569296   500   \n",
       "32       same-core-over-envs        10    160    5.487275   0.490521   500   \n",
       "33       same-core-over-envs        10    640    2.688395   0.257795   500   \n",
       "34       same-core-over-envs        10   2560    1.028134   0.128947   500   \n",
       "35       same-core-over-envs        10  10240    0.155727   0.033066   500   \n",
       "\n",
       "   majority-mse                  minority-mse                   \n",
       "           mean        std count         mean        std count  \n",
       "0      2.874480   0.668020   500     5.011233   1.177869   500  \n",
       "1      1.481254   0.185426   500     2.080352   0.272977   500  \n",
       "2      1.159875   0.129205   500     2.134834   0.203639   500  \n",
       "3      0.979768   0.101164   500     3.259405   0.220553   500  \n",
       "4      0.657028   0.070858   500     4.136262   0.231701   500  \n",
       "5      0.394026   0.045369   500     4.304347   0.220416   500  \n",
       "6     54.733576  16.224927   500    56.649800  16.744343   500  \n",
       "7      9.566720   2.691009   500    10.138267   2.766566   500  \n",
       "8      1.605767   0.174455   500     2.544992   0.220157   500  \n",
       "9      1.034937   0.103551   500     3.305353   0.233563   500  \n",
       "10     0.664463   0.067912   500     4.143789   0.238829   500  \n",
       "11     0.393700   0.042528   500     4.304135   0.227877   500  \n",
       "12   219.971248  65.749623   500   222.455016  67.218064   500  \n",
       "13    35.031926  10.358994   500    35.632776  10.289783   500  \n",
       "14     2.941603   0.366636   500     3.843323   0.407071   500  \n",
       "15     1.221010   0.108237   500     3.437806   0.235793   500  \n",
       "16     0.698750   0.068502   500     4.133797   0.240452   500  \n",
       "17     0.401138   0.044338   500     4.280974   0.224033   500  \n",
       "18     7.081496   1.261598   500     7.392504   1.224764   500  \n",
       "19     5.138157   0.559532   500     6.244512   0.671116   500  \n",
       "20     4.479017   0.494517   500     7.920243   0.758346   500  \n",
       "21     3.561850   0.382475   500    11.224046   0.875232   500  \n",
       "22     2.517441   0.271194   500    14.805601   0.957773   500  \n",
       "23     1.600794   0.186554   500    16.605317   0.924513   500  \n",
       "24    60.569776  17.381032   500    60.263958  17.806085   500  \n",
       "25    12.957087   2.747012   500    14.089004   2.779656   500  \n",
       "26     4.923117   0.547918   500     8.322844   0.815166   500  \n",
       "27     3.648317   0.416857   500    11.218905   0.882914   500  \n",
       "28     2.538495   0.293924   500    14.885165   0.949233   500  \n",
       "29     1.618660   0.204423   500    16.722990   0.917120   500  \n",
       "30   221.843753  62.218824   500   219.831469  61.576988   500  \n",
       "31    38.907552  11.142514   500    39.951537  10.946737   500  \n",
       "32     6.223627   0.658543   500     9.620705   0.869809   500  \n",
       "33     3.821016   0.410935   500    11.411211   0.919671   500  \n",
       "34     2.562953   0.285996   500    14.852173   0.964500   500  \n",
       "35     1.629207   0.209615   500    16.667547   0.934540   500  "
      ],
      "text/html": "<div>\n<style scoped>\n    .dataframe tbody tr th:only-of-type {\n        vertical-align: middle;\n    }\n\n    .dataframe tbody tr th {\n        vertical-align: top;\n    }\n\n    .dataframe thead tr th {\n        text-align: left;\n    }\n</style>\n<table border=\"1\" class=\"dataframe\">\n  <thead>\n    <tr>\n      <th></th>\n      <th>setup</th>\n      <th>beta-norm</th>\n      <th>nodes</th>\n      <th colspan=\"3\" halign=\"left\">train-mse</th>\n      <th colspan=\"3\" halign=\"left\">majority-mse</th>\n      <th colspan=\"3\" halign=\"left\">minority-mse</th>\n    </tr>\n    <tr>\n      <th></th>\n      <th></th>\n      <th></th>\n      <th></th>\n      <th>mean</th>\n      <th>std</th>\n      <th>count</th>\n      <th>mean</th>\n      <th>std</th>\n      <th>count</th>\n      <th>mean</th>\n      <th>std</th>\n      <th>count</th>\n    </tr>\n  </thead>\n  <tbody>\n    <tr>\n      <th>0</th>\n      <td>different-core-over-envs</td>\n      <td>1</td>\n      <td>10</td>\n      <td>3.032185</td>\n      <td>0.619724</td>\n      <td>500</td>\n      <td>2.874480</td>\n      <td>0.668020</td>\n      <td>500</td>\n      <td>5.011233</td>\n      <td>1.177869</td>\n      <td>500</td>\n    </tr>\n    <tr>\n      <th>1</th>\n      <td>different-core-over-envs</td>\n      <td>1</td>\n      <td>40</td>\n      <td>1.460649</td>\n      <td>0.153575</td>\n      <td>500</td>\n      <td>1.481254</td>\n      <td>0.185426</td>\n      <td>500</td>\n      <td>2.080352</td>\n      <td>0.272977</td>\n      <td>500</td>\n    </tr>\n    <tr>\n      <th>2</th>\n      <td>different-core-over-envs</td>\n      <td>1</td>\n      <td>160</td>\n      <td>1.019514</td>\n      <td>0.090573</td>\n      <td>500</td>\n      <td>1.159875</td>\n      <td>0.129205</td>\n      <td>500</td>\n      <td>2.134834</td>\n      <td>0.203639</td>\n      <td>500</td>\n    </tr>\n    <tr>\n      <th>3</th>\n      <td>different-core-over-envs</td>\n      <td>1</td>\n      <td>640</td>\n      <td>0.596075</td>\n      <td>0.054005</td>\n      <td>500</td>\n      <td>0.979768</td>\n      <td>0.101164</td>\n      <td>500</td>\n      <td>3.259405</td>\n      <td>0.220553</td>\n      <td>500</td>\n    </tr>\n    <tr>\n      <th>4</th>\n      <td>different-core-over-envs</td>\n      <td>1</td>\n      <td>2560</td>\n      <td>0.146781</td>\n      <td>0.020860</td>\n      <td>500</td>\n      <td>0.657028</td>\n      <td>0.070858</td>\n      <td>500</td>\n      <td>4.136262</td>\n      <td>0.231701</td>\n      <td>500</td>\n    </tr>\n    <tr>\n      <th>5</th>\n      <td>different-core-over-envs</td>\n      <td>1</td>\n      <td>10240</td>\n      <td>0.011760</td>\n      <td>0.002282</td>\n      <td>500</td>\n      <td>0.394026</td>\n      <td>0.045369</td>\n      <td>500</td>\n      <td>4.304347</td>\n      <td>0.220416</td>\n      <td>500</td>\n    </tr>\n    <tr>\n      <th>6</th>\n      <td>different-core-over-envs</td>\n      <td>5</td>\n      <td>10</td>\n      <td>54.190673</td>\n      <td>15.690302</td>\n      <td>500</td>\n      <td>54.733576</td>\n      <td>16.224927</td>\n      <td>500</td>\n      <td>56.649800</td>\n      <td>16.744343</td>\n      <td>500</td>\n    </tr>\n    <tr>\n      <th>7</th>\n      <td>different-core-over-envs</td>\n      <td>5</td>\n      <td>40</td>\n      <td>9.160974</td>\n      <td>2.510403</td>\n      <td>500</td>\n      <td>9.566720</td>\n      <td>2.691009</td>\n      <td>500</td>\n      <td>10.138267</td>\n      <td>2.766566</td>\n      <td>500</td>\n    </tr>\n    <tr>\n      <th>8</th>\n      <td>different-core-over-envs</td>\n      <td>5</td>\n      <td>160</td>\n      <td>1.390060</td>\n      <td>0.123886</td>\n      <td>500</td>\n      <td>1.605767</td>\n      <td>0.174455</td>\n      <td>500</td>\n      <td>2.544992</td>\n      <td>0.220157</td>\n      <td>500</td>\n    </tr>\n    <tr>\n      <th>9</th>\n      <td>different-core-over-envs</td>\n      <td>5</td>\n      <td>640</td>\n      <td>0.632771</td>\n      <td>0.057500</td>\n      <td>500</td>\n      <td>1.034937</td>\n      <td>0.103551</td>\n      <td>500</td>\n      <td>3.305353</td>\n      <td>0.233563</td>\n      <td>500</td>\n    </tr>\n    <tr>\n      <th>10</th>\n      <td>different-core-over-envs</td>\n      <td>5</td>\n      <td>2560</td>\n      <td>0.150023</td>\n      <td>0.019446</td>\n      <td>500</td>\n      <td>0.664463</td>\n      <td>0.067912</td>\n      <td>500</td>\n      <td>4.143789</td>\n      <td>0.238829</td>\n      <td>500</td>\n    </tr>\n    <tr>\n      <th>11</th>\n      <td>different-core-over-envs</td>\n      <td>5</td>\n      <td>10240</td>\n      <td>0.012041</td>\n      <td>0.002272</td>\n      <td>500</td>\n      <td>0.393700</td>\n      <td>0.042528</td>\n      <td>500</td>\n      <td>4.304135</td>\n      <td>0.227877</td>\n      <td>500</td>\n    </tr>\n    <tr>\n      <th>12</th>\n      <td>different-core-over-envs</td>\n      <td>10</td>\n      <td>10</td>\n      <td>217.892488</td>\n      <td>64.927569</td>\n      <td>500</td>\n      <td>219.971248</td>\n      <td>65.749623</td>\n      <td>500</td>\n      <td>222.455016</td>\n      <td>67.218064</td>\n      <td>500</td>\n    </tr>\n    <tr>\n      <th>13</th>\n      <td>different-core-over-envs</td>\n      <td>10</td>\n      <td>40</td>\n      <td>33.552503</td>\n      <td>9.764514</td>\n      <td>500</td>\n      <td>35.031926</td>\n      <td>10.358994</td>\n      <td>500</td>\n      <td>35.632776</td>\n      <td>10.289783</td>\n      <td>500</td>\n    </tr>\n    <tr>\n      <th>14</th>\n      <td>different-core-over-envs</td>\n      <td>10</td>\n      <td>160</td>\n      <td>2.534983</td>\n      <td>0.299757</td>\n      <td>500</td>\n      <td>2.941603</td>\n      <td>0.366636</td>\n      <td>500</td>\n      <td>3.843323</td>\n      <td>0.407071</td>\n      <td>500</td>\n    </tr>\n    <tr>\n      <th>15</th>\n      <td>different-core-over-envs</td>\n      <td>10</td>\n      <td>640</td>\n      <td>0.752777</td>\n      <td>0.060137</td>\n      <td>500</td>\n      <td>1.221010</td>\n      <td>0.108237</td>\n      <td>500</td>\n      <td>3.437806</td>\n      <td>0.235793</td>\n      <td>500</td>\n    </tr>\n    <tr>\n      <th>16</th>\n      <td>different-core-over-envs</td>\n      <td>10</td>\n      <td>2560</td>\n      <td>0.159770</td>\n      <td>0.020299</td>\n      <td>500</td>\n      <td>0.698750</td>\n      <td>0.068502</td>\n      <td>500</td>\n      <td>4.133797</td>\n      <td>0.240452</td>\n      <td>500</td>\n    </tr>\n    <tr>\n      <th>17</th>\n      <td>different-core-over-envs</td>\n      <td>10</td>\n      <td>10240</td>\n      <td>0.012657</td>\n      <td>0.002494</td>\n      <td>500</td>\n      <td>0.401138</td>\n      <td>0.044338</td>\n      <td>500</td>\n      <td>4.280974</td>\n      <td>0.224033</td>\n      <td>500</td>\n    </tr>\n    <tr>\n      <th>18</th>\n      <td>same-core-over-envs</td>\n      <td>1</td>\n      <td>10</td>\n      <td>7.026966</td>\n      <td>1.070899</td>\n      <td>500</td>\n      <td>7.081496</td>\n      <td>1.261598</td>\n      <td>500</td>\n      <td>7.392504</td>\n      <td>1.224764</td>\n      <td>500</td>\n    </tr>\n    <tr>\n      <th>19</th>\n      <td>same-core-over-envs</td>\n      <td>1</td>\n      <td>40</td>\n      <td>4.989579</td>\n      <td>0.430569</td>\n      <td>500</td>\n      <td>5.138157</td>\n      <td>0.559532</td>\n      <td>500</td>\n      <td>6.244512</td>\n      <td>0.671116</td>\n      <td>500</td>\n    </tr>\n    <tr>\n      <th>20</th>\n      <td>same-core-over-envs</td>\n      <td>1</td>\n      <td>160</td>\n      <td>3.989823</td>\n      <td>0.348337</td>\n      <td>500</td>\n      <td>4.479017</td>\n      <td>0.494517</td>\n      <td>500</td>\n      <td>7.920243</td>\n      <td>0.758346</td>\n      <td>500</td>\n    </tr>\n    <tr>\n      <th>21</th>\n      <td>same-core-over-envs</td>\n      <td>1</td>\n      <td>640</td>\n      <td>2.505658</td>\n      <td>0.231690</td>\n      <td>500</td>\n      <td>3.561850</td>\n      <td>0.382475</td>\n      <td>500</td>\n      <td>11.224046</td>\n      <td>0.875232</td>\n      <td>500</td>\n    </tr>\n    <tr>\n      <th>22</th>\n      <td>same-core-over-envs</td>\n      <td>1</td>\n      <td>2560</td>\n      <td>0.996462</td>\n      <td>0.111272</td>\n      <td>500</td>\n      <td>2.517441</td>\n      <td>0.271194</td>\n      <td>500</td>\n      <td>14.805601</td>\n      <td>0.957773</td>\n      <td>500</td>\n    </tr>\n    <tr>\n      <th>23</th>\n      <td>same-core-over-envs</td>\n      <td>1</td>\n      <td>10240</td>\n      <td>0.148245</td>\n      <td>0.028733</td>\n      <td>500</td>\n      <td>1.600794</td>\n      <td>0.186554</td>\n      <td>500</td>\n      <td>16.605317</td>\n      <td>0.924513</td>\n      <td>500</td>\n    </tr>\n    <tr>\n      <th>24</th>\n      <td>same-core-over-envs</td>\n      <td>5</td>\n      <td>10</td>\n      <td>59.867759</td>\n      <td>16.789348</td>\n      <td>500</td>\n      <td>60.569776</td>\n      <td>17.381032</td>\n      <td>500</td>\n      <td>60.263958</td>\n      <td>17.806085</td>\n      <td>500</td>\n    </tr>\n    <tr>\n      <th>25</th>\n      <td>same-core-over-envs</td>\n      <td>5</td>\n      <td>40</td>\n      <td>12.501672</td>\n      <td>2.601380</td>\n      <td>500</td>\n      <td>12.957087</td>\n      <td>2.747012</td>\n      <td>500</td>\n      <td>14.089004</td>\n      <td>2.779656</td>\n      <td>500</td>\n    </tr>\n    <tr>\n      <th>26</th>\n      <td>same-core-over-envs</td>\n      <td>5</td>\n      <td>160</td>\n      <td>4.369451</td>\n      <td>0.366698</td>\n      <td>500</td>\n      <td>4.923117</td>\n      <td>0.547918</td>\n      <td>500</td>\n      <td>8.322844</td>\n      <td>0.815166</td>\n      <td>500</td>\n    </tr>\n    <tr>\n      <th>27</th>\n      <td>same-core-over-envs</td>\n      <td>5</td>\n      <td>640</td>\n      <td>2.577545</td>\n      <td>0.244134</td>\n      <td>500</td>\n      <td>3.648317</td>\n      <td>0.416857</td>\n      <td>500</td>\n      <td>11.218905</td>\n      <td>0.882914</td>\n      <td>500</td>\n    </tr>\n    <tr>\n      <th>28</th>\n      <td>same-core-over-envs</td>\n      <td>5</td>\n      <td>2560</td>\n      <td>1.013784</td>\n      <td>0.120861</td>\n      <td>500</td>\n      <td>2.538495</td>\n      <td>0.293924</td>\n      <td>500</td>\n      <td>14.885165</td>\n      <td>0.949233</td>\n      <td>500</td>\n    </tr>\n    <tr>\n      <th>29</th>\n      <td>same-core-over-envs</td>\n      <td>5</td>\n      <td>10240</td>\n      <td>0.152394</td>\n      <td>0.028733</td>\n      <td>500</td>\n      <td>1.618660</td>\n      <td>0.204423</td>\n      <td>500</td>\n      <td>16.722990</td>\n      <td>0.917120</td>\n      <td>500</td>\n    </tr>\n    <tr>\n      <th>30</th>\n      <td>same-core-over-envs</td>\n      <td>10</td>\n      <td>10</td>\n      <td>219.167477</td>\n      <td>61.339279</td>\n      <td>500</td>\n      <td>221.843753</td>\n      <td>62.218824</td>\n      <td>500</td>\n      <td>219.831469</td>\n      <td>61.576988</td>\n      <td>500</td>\n    </tr>\n    <tr>\n      <th>31</th>\n      <td>same-core-over-envs</td>\n      <td>10</td>\n      <td>40</td>\n      <td>37.341525</td>\n      <td>10.569296</td>\n      <td>500</td>\n      <td>38.907552</td>\n      <td>11.142514</td>\n      <td>500</td>\n      <td>39.951537</td>\n      <td>10.946737</td>\n      <td>500</td>\n    </tr>\n    <tr>\n      <th>32</th>\n      <td>same-core-over-envs</td>\n      <td>10</td>\n      <td>160</td>\n      <td>5.487275</td>\n      <td>0.490521</td>\n      <td>500</td>\n      <td>6.223627</td>\n      <td>0.658543</td>\n      <td>500</td>\n      <td>9.620705</td>\n      <td>0.869809</td>\n      <td>500</td>\n    </tr>\n    <tr>\n      <th>33</th>\n      <td>same-core-over-envs</td>\n      <td>10</td>\n      <td>640</td>\n      <td>2.688395</td>\n      <td>0.257795</td>\n      <td>500</td>\n      <td>3.821016</td>\n      <td>0.410935</td>\n      <td>500</td>\n      <td>11.411211</td>\n      <td>0.919671</td>\n      <td>500</td>\n    </tr>\n    <tr>\n      <th>34</th>\n      <td>same-core-over-envs</td>\n      <td>10</td>\n      <td>2560</td>\n      <td>1.028134</td>\n      <td>0.128947</td>\n      <td>500</td>\n      <td>2.562953</td>\n      <td>0.285996</td>\n      <td>500</td>\n      <td>14.852173</td>\n      <td>0.964500</td>\n      <td>500</td>\n    </tr>\n    <tr>\n      <th>35</th>\n      <td>same-core-over-envs</td>\n      <td>10</td>\n      <td>10240</td>\n      <td>0.155727</td>\n      <td>0.033066</td>\n      <td>500</td>\n      <td>1.629207</td>\n      <td>0.209615</td>\n      <td>500</td>\n      <td>16.667547</td>\n      <td>0.934540</td>\n      <td>500</td>\n    </tr>\n  </tbody>\n</table>\n</div>"
     },
     "metadata": {},
     "execution_count": 6
    }
   ],
   "source": [
    "measure = ['train-mse', 'majority-mse', 'minority-mse']\n",
    "agg_dict = dict()\n",
    "for key in measure:\n",
    "    agg_dict[key] = ['mean', 'std', 'count']\n",
    "result = df1.groupby(['setup', 'beta-norm',  'nodes'], as_index=False).agg(agg_dict)\n",
    "result"
   ]
  },
  {
   "source": [
    "fig, ax = plt.subplots(1, 3, figsize = (18, 5), sharex=True)\n",
    "betas = [1, 5, 10]\n",
    "for i, beta in enumerate(betas):\n",
    "    result1 = result.loc[result['beta-norm']==beta]\n",
    "    nodes, mean_minor, std_minor = result1['nodes'],\\\n",
    "         result1['minority-mse']['mean'], result1['minority-mse']['std']\n",
    "\n",
    "    mean_major, std_major = result1['majority-mse']['mean'], result1['majority-mse']['std']\n",
    "    mean_tr, std_tr = result1['train-mse']['mean'], result1['train-mse']['std']\n",
    "    \n",
    "    ax[i].errorbar(nodes, mean_minor, std_minor, color = 'k', linestyle = '-', marker = '*')\n",
    "    ax[i].errorbar(nodes, mean_major, std_major, color = 'orange', linestyle = '-', marker = '+')\n",
    "    ax[i].errorbar(nodes, mean_tr, std_tr, color = 'g', linestyle = '-', marker = 'x')\n",
    "    #ax[0].set_yscale('log')\n",
    "    ax[i].set_xscale('log')\n",
    "    ax[i].title.set_text(f'SNR={beta**2}')\n",
    "lines = [Line2D([0], [0], color='k', linestyle='-', marker='*'), \\\n",
    "    Line2D([0], [0], color='orange', linestyle='-', marker='+'), \\\n",
    "        Line2D([0], [0], color='g', linestyle='-', marker='x')]  \n",
    "\n",
    "plt.legend(lines, ['Minority', 'Majority', 'Balanced Train'], title='MSE')\n",
    "#plt.title('$\\\\text{SNR}=\\\\frac{\\\\|\\\\beta\\\\|_2^2}{\\\\|\\\\delta\\\\|_2^2}$')\n",
    "plt.savefig('pdf_plots/plot.pdf')"
   ],
   "cell_type": "markdown",
   "metadata": {}
  },
  {
   "cell_type": "code",
   "execution_count": 7,
   "metadata": {},
   "outputs": [
    {
     "output_type": "display_data",
     "data": {
      "text/plain": "<Figure size 864x360 with 2 Axes>",
      "image/svg+xml": "<?xml version=\"1.0\" encoding=\"utf-8\" standalone=\"no\"?>\n<!DOCTYPE svg PUBLIC \"-//W3C//DTD SVG 1.1//EN\"\n  \"http://www.w3.org/Graphics/SVG/1.1/DTD/svg11.dtd\">\n<!-- Created with matplotlib (https://matplotlib.org/) -->\n<svg height=\"346.645312pt\" version=\"1.1\" viewBox=\"0 0 733.017187 346.645312\" width=\"733.017187pt\" xmlns=\"http://www.w3.org/2000/svg\" xmlns:xlink=\"http://www.w3.org/1999/xlink\">\n <defs>\n  <style type=\"text/css\">\n*{stroke-linecap:butt;stroke-linejoin:round;}\n  </style>\n </defs>\n <g id=\"figure_1\">\n  <g id=\"patch_1\">\n   <path d=\"M 0 346.645312 \nL 733.017187 346.645312 \nL 733.017187 0 \nL 0 0 \nz\n\" style=\"fill:none;\"/>\n  </g>\n  <g id=\"axes_1\">\n   <g id=\"patch_2\">\n    <path d=\"M 56.217187 304.25 \nL 360.580824 304.25 \nL 360.580824 32.45 \nL 56.217187 32.45 \nz\n\" style=\"fill:#ffffff;\"/>\n   </g>\n   <g id=\"matplotlib.axis_1\">\n    <g id=\"xtick_1\">\n     <g id=\"line2d_1\">\n      <defs>\n       <path d=\"M 0 0 \nL 0 3.5 \n\" id=\"m271d348d23\" style=\"stroke:#000000;stroke-width:0.8;\"/>\n      </defs>\n      <g>\n       <use style=\"stroke:#000000;stroke-width:0.8;\" x=\"70.051898\" xlink:href=\"#m271d348d23\" y=\"304.25\"/>\n      </g>\n     </g>\n     <g id=\"text_1\">\n      <!-- $\\mathdefault{10^{1}}$ -->\n      <defs>\n       <path d=\"M 12.40625 8.296875 \nL 28.515625 8.296875 \nL 28.515625 63.921875 \nL 10.984375 60.40625 \nL 10.984375 69.390625 \nL 28.421875 72.90625 \nL 38.28125 72.90625 \nL 38.28125 8.296875 \nL 54.390625 8.296875 \nL 54.390625 0 \nL 12.40625 0 \nz\n\" id=\"DejaVuSans-49\"/>\n       <path d=\"M 31.78125 66.40625 \nQ 24.171875 66.40625 20.328125 58.90625 \nQ 16.5 51.421875 16.5 36.375 \nQ 16.5 21.390625 20.328125 13.890625 \nQ 24.171875 6.390625 31.78125 6.390625 \nQ 39.453125 6.390625 43.28125 13.890625 \nQ 47.125 21.390625 47.125 36.375 \nQ 47.125 51.421875 43.28125 58.90625 \nQ 39.453125 66.40625 31.78125 66.40625 \nz\nM 31.78125 74.21875 \nQ 44.046875 74.21875 50.515625 64.515625 \nQ 56.984375 54.828125 56.984375 36.375 \nQ 56.984375 17.96875 50.515625 8.265625 \nQ 44.046875 -1.421875 31.78125 -1.421875 \nQ 19.53125 -1.421875 13.0625 8.265625 \nQ 6.59375 17.96875 6.59375 36.375 \nQ 6.59375 54.828125 13.0625 64.515625 \nQ 19.53125 74.21875 31.78125 74.21875 \nz\n\" id=\"DejaVuSans-48\"/>\n      </defs>\n      <g transform=\"translate(61.251898 318.848437)scale(0.1 -0.1)\">\n       <use transform=\"translate(0 0.684375)\" xlink:href=\"#DejaVuSans-49\"/>\n       <use transform=\"translate(63.623047 0.684375)\" xlink:href=\"#DejaVuSans-48\"/>\n       <use transform=\"translate(128.203125 38.965625)scale(0.7)\" xlink:href=\"#DejaVuSans-49\"/>\n      </g>\n     </g>\n    </g>\n    <g id=\"xtick_2\">\n     <g id=\"line2d_2\">\n      <g>\n       <use style=\"stroke:#000000;stroke-width:0.8;\" x=\"157.712449\" xlink:href=\"#m271d348d23\" y=\"304.25\"/>\n      </g>\n     </g>\n     <g id=\"text_2\">\n      <!-- $\\mathdefault{10^{2}}$ -->\n      <defs>\n       <path d=\"M 19.1875 8.296875 \nL 53.609375 8.296875 \nL 53.609375 0 \nL 7.328125 0 \nL 7.328125 8.296875 \nQ 12.9375 14.109375 22.625 23.890625 \nQ 32.328125 33.6875 34.8125 36.53125 \nQ 39.546875 41.84375 41.421875 45.53125 \nQ 43.3125 49.21875 43.3125 52.78125 \nQ 43.3125 58.59375 39.234375 62.25 \nQ 35.15625 65.921875 28.609375 65.921875 \nQ 23.96875 65.921875 18.8125 64.3125 \nQ 13.671875 62.703125 7.8125 59.421875 \nL 7.8125 69.390625 \nQ 13.765625 71.78125 18.9375 73 \nQ 24.125 74.21875 28.421875 74.21875 \nQ 39.75 74.21875 46.484375 68.546875 \nQ 53.21875 62.890625 53.21875 53.421875 \nQ 53.21875 48.921875 51.53125 44.890625 \nQ 49.859375 40.875 45.40625 35.40625 \nQ 44.1875 33.984375 37.640625 27.21875 \nQ 31.109375 20.453125 19.1875 8.296875 \nz\n\" id=\"DejaVuSans-50\"/>\n      </defs>\n      <g transform=\"translate(148.912449 318.848437)scale(0.1 -0.1)\">\n       <use transform=\"translate(0 0.765625)\" xlink:href=\"#DejaVuSans-49\"/>\n       <use transform=\"translate(63.623047 0.765625)\" xlink:href=\"#DejaVuSans-48\"/>\n       <use transform=\"translate(128.203125 39.046875)scale(0.7)\" xlink:href=\"#DejaVuSans-50\"/>\n      </g>\n     </g>\n    </g>\n    <g id=\"xtick_3\">\n     <g id=\"line2d_3\">\n      <g>\n       <use style=\"stroke:#000000;stroke-width:0.8;\" x=\"245.372999\" xlink:href=\"#m271d348d23\" y=\"304.25\"/>\n      </g>\n     </g>\n     <g id=\"text_3\">\n      <!-- $\\mathdefault{10^{3}}$ -->\n      <defs>\n       <path d=\"M 40.578125 39.3125 \nQ 47.65625 37.796875 51.625 33 \nQ 55.609375 28.21875 55.609375 21.1875 \nQ 55.609375 10.40625 48.1875 4.484375 \nQ 40.765625 -1.421875 27.09375 -1.421875 \nQ 22.515625 -1.421875 17.65625 -0.515625 \nQ 12.796875 0.390625 7.625 2.203125 \nL 7.625 11.71875 \nQ 11.71875 9.328125 16.59375 8.109375 \nQ 21.484375 6.890625 26.8125 6.890625 \nQ 36.078125 6.890625 40.9375 10.546875 \nQ 45.796875 14.203125 45.796875 21.1875 \nQ 45.796875 27.640625 41.28125 31.265625 \nQ 36.765625 34.90625 28.71875 34.90625 \nL 20.21875 34.90625 \nL 20.21875 43.015625 \nL 29.109375 43.015625 \nQ 36.375 43.015625 40.234375 45.921875 \nQ 44.09375 48.828125 44.09375 54.296875 \nQ 44.09375 59.90625 40.109375 62.90625 \nQ 36.140625 65.921875 28.71875 65.921875 \nQ 24.65625 65.921875 20.015625 65.03125 \nQ 15.375 64.15625 9.8125 62.3125 \nL 9.8125 71.09375 \nQ 15.4375 72.65625 20.34375 73.4375 \nQ 25.25 74.21875 29.59375 74.21875 \nQ 40.828125 74.21875 47.359375 69.109375 \nQ 53.90625 64.015625 53.90625 55.328125 \nQ 53.90625 49.265625 50.4375 45.09375 \nQ 46.96875 40.921875 40.578125 39.3125 \nz\n\" id=\"DejaVuSans-51\"/>\n      </defs>\n      <g transform=\"translate(236.572999 318.848437)scale(0.1 -0.1)\">\n       <use transform=\"translate(0 0.765625)\" xlink:href=\"#DejaVuSans-49\"/>\n       <use transform=\"translate(63.623047 0.765625)\" xlink:href=\"#DejaVuSans-48\"/>\n       <use transform=\"translate(128.203125 39.046875)scale(0.7)\" xlink:href=\"#DejaVuSans-51\"/>\n      </g>\n     </g>\n    </g>\n    <g id=\"xtick_4\">\n     <g id=\"line2d_4\">\n      <g>\n       <use style=\"stroke:#000000;stroke-width:0.8;\" x=\"333.033549\" xlink:href=\"#m271d348d23\" y=\"304.25\"/>\n      </g>\n     </g>\n     <g id=\"text_4\">\n      <!-- $\\mathdefault{10^{4}}$ -->\n      <defs>\n       <path d=\"M 37.796875 64.3125 \nL 12.890625 25.390625 \nL 37.796875 25.390625 \nz\nM 35.203125 72.90625 \nL 47.609375 72.90625 \nL 47.609375 25.390625 \nL 58.015625 25.390625 \nL 58.015625 17.1875 \nL 47.609375 17.1875 \nL 47.609375 0 \nL 37.796875 0 \nL 37.796875 17.1875 \nL 4.890625 17.1875 \nL 4.890625 26.703125 \nz\n\" id=\"DejaVuSans-52\"/>\n      </defs>\n      <g transform=\"translate(324.233549 318.848437)scale(0.1 -0.1)\">\n       <use transform=\"translate(0 0.684375)\" xlink:href=\"#DejaVuSans-49\"/>\n       <use transform=\"translate(63.623047 0.684375)\" xlink:href=\"#DejaVuSans-48\"/>\n       <use transform=\"translate(128.203125 38.965625)scale(0.7)\" xlink:href=\"#DejaVuSans-52\"/>\n      </g>\n     </g>\n    </g>\n    <g id=\"xtick_5\">\n     <g id=\"line2d_5\">\n      <defs>\n       <path d=\"M 0 0 \nL 0 2 \n\" id=\"m68fd9011de\" style=\"stroke:#000000;stroke-width:0.6;\"/>\n      </defs>\n      <g>\n       <use style=\"stroke:#000000;stroke-width:0.6;\" x=\"56.473107\" xlink:href=\"#m68fd9011de\" y=\"304.25\"/>\n      </g>\n     </g>\n    </g>\n    <g id=\"xtick_6\">\n     <g id=\"line2d_6\">\n      <g>\n       <use style=\"stroke:#000000;stroke-width:0.6;\" x=\"61.556713\" xlink:href=\"#m68fd9011de\" y=\"304.25\"/>\n      </g>\n     </g>\n    </g>\n    <g id=\"xtick_7\">\n     <g id=\"line2d_7\">\n      <g>\n       <use style=\"stroke:#000000;stroke-width:0.6;\" x=\"66.040771\" xlink:href=\"#m68fd9011de\" y=\"304.25\"/>\n      </g>\n     </g>\n    </g>\n    <g id=\"xtick_8\">\n     <g id=\"line2d_8\">\n      <g>\n       <use style=\"stroke:#000000;stroke-width:0.6;\" x=\"96.440353\" xlink:href=\"#m68fd9011de\" y=\"304.25\"/>\n      </g>\n     </g>\n    </g>\n    <g id=\"xtick_9\">\n     <g id=\"line2d_9\">\n      <g>\n       <use style=\"stroke:#000000;stroke-width:0.6;\" x=\"111.87661\" xlink:href=\"#m68fd9011de\" y=\"304.25\"/>\n      </g>\n     </g>\n    </g>\n    <g id=\"xtick_10\">\n     <g id=\"line2d_10\">\n      <g>\n       <use style=\"stroke:#000000;stroke-width:0.6;\" x=\"122.828808\" xlink:href=\"#m68fd9011de\" y=\"304.25\"/>\n      </g>\n     </g>\n    </g>\n    <g id=\"xtick_11\">\n     <g id=\"line2d_11\">\n      <g>\n       <use style=\"stroke:#000000;stroke-width:0.6;\" x=\"131.323993\" xlink:href=\"#m68fd9011de\" y=\"304.25\"/>\n      </g>\n     </g>\n    </g>\n    <g id=\"xtick_12\">\n     <g id=\"line2d_12\">\n      <g>\n       <use style=\"stroke:#000000;stroke-width:0.6;\" x=\"138.265065\" xlink:href=\"#m68fd9011de\" y=\"304.25\"/>\n      </g>\n     </g>\n    </g>\n    <g id=\"xtick_13\">\n     <g id=\"line2d_13\">\n      <g>\n       <use style=\"stroke:#000000;stroke-width:0.6;\" x=\"144.133658\" xlink:href=\"#m68fd9011de\" y=\"304.25\"/>\n      </g>\n     </g>\n    </g>\n    <g id=\"xtick_14\">\n     <g id=\"line2d_14\">\n      <g>\n       <use style=\"stroke:#000000;stroke-width:0.6;\" x=\"149.217263\" xlink:href=\"#m68fd9011de\" y=\"304.25\"/>\n      </g>\n     </g>\n    </g>\n    <g id=\"xtick_15\">\n     <g id=\"line2d_15\">\n      <g>\n       <use style=\"stroke:#000000;stroke-width:0.6;\" x=\"153.701322\" xlink:href=\"#m68fd9011de\" y=\"304.25\"/>\n      </g>\n     </g>\n    </g>\n    <g id=\"xtick_16\">\n     <g id=\"line2d_16\">\n      <g>\n       <use style=\"stroke:#000000;stroke-width:0.6;\" x=\"184.100904\" xlink:href=\"#m68fd9011de\" y=\"304.25\"/>\n      </g>\n     </g>\n    </g>\n    <g id=\"xtick_17\">\n     <g id=\"line2d_17\">\n      <g>\n       <use style=\"stroke:#000000;stroke-width:0.6;\" x=\"199.53716\" xlink:href=\"#m68fd9011de\" y=\"304.25\"/>\n      </g>\n     </g>\n    </g>\n    <g id=\"xtick_18\">\n     <g id=\"line2d_18\">\n      <g>\n       <use style=\"stroke:#000000;stroke-width:0.6;\" x=\"210.489359\" xlink:href=\"#m68fd9011de\" y=\"304.25\"/>\n      </g>\n     </g>\n    </g>\n    <g id=\"xtick_19\">\n     <g id=\"line2d_19\">\n      <g>\n       <use style=\"stroke:#000000;stroke-width:0.6;\" x=\"218.984544\" xlink:href=\"#m68fd9011de\" y=\"304.25\"/>\n      </g>\n     </g>\n    </g>\n    <g id=\"xtick_20\">\n     <g id=\"line2d_20\">\n      <g>\n       <use style=\"stroke:#000000;stroke-width:0.6;\" x=\"225.925615\" xlink:href=\"#m68fd9011de\" y=\"304.25\"/>\n      </g>\n     </g>\n    </g>\n    <g id=\"xtick_21\">\n     <g id=\"line2d_21\">\n      <g>\n       <use style=\"stroke:#000000;stroke-width:0.6;\" x=\"231.794208\" xlink:href=\"#m68fd9011de\" y=\"304.25\"/>\n      </g>\n     </g>\n    </g>\n    <g id=\"xtick_22\">\n     <g id=\"line2d_22\">\n      <g>\n       <use style=\"stroke:#000000;stroke-width:0.6;\" x=\"236.877814\" xlink:href=\"#m68fd9011de\" y=\"304.25\"/>\n      </g>\n     </g>\n    </g>\n    <g id=\"xtick_23\">\n     <g id=\"line2d_23\">\n      <g>\n       <use style=\"stroke:#000000;stroke-width:0.6;\" x=\"241.361872\" xlink:href=\"#m68fd9011de\" y=\"304.25\"/>\n      </g>\n     </g>\n    </g>\n    <g id=\"xtick_24\">\n     <g id=\"line2d_24\">\n      <g>\n       <use style=\"stroke:#000000;stroke-width:0.6;\" x=\"271.761454\" xlink:href=\"#m68fd9011de\" y=\"304.25\"/>\n      </g>\n     </g>\n    </g>\n    <g id=\"xtick_25\">\n     <g id=\"line2d_25\">\n      <g>\n       <use style=\"stroke:#000000;stroke-width:0.6;\" x=\"287.197711\" xlink:href=\"#m68fd9011de\" y=\"304.25\"/>\n      </g>\n     </g>\n    </g>\n    <g id=\"xtick_26\">\n     <g id=\"line2d_26\">\n      <g>\n       <use style=\"stroke:#000000;stroke-width:0.6;\" x=\"298.149909\" xlink:href=\"#m68fd9011de\" y=\"304.25\"/>\n      </g>\n     </g>\n    </g>\n    <g id=\"xtick_27\">\n     <g id=\"line2d_27\">\n      <g>\n       <use style=\"stroke:#000000;stroke-width:0.6;\" x=\"306.645094\" xlink:href=\"#m68fd9011de\" y=\"304.25\"/>\n      </g>\n     </g>\n    </g>\n    <g id=\"xtick_28\">\n     <g id=\"line2d_28\">\n      <g>\n       <use style=\"stroke:#000000;stroke-width:0.6;\" x=\"313.586166\" xlink:href=\"#m68fd9011de\" y=\"304.25\"/>\n      </g>\n     </g>\n    </g>\n    <g id=\"xtick_29\">\n     <g id=\"line2d_29\">\n      <g>\n       <use style=\"stroke:#000000;stroke-width:0.6;\" x=\"319.454758\" xlink:href=\"#m68fd9011de\" y=\"304.25\"/>\n      </g>\n     </g>\n    </g>\n    <g id=\"xtick_30\">\n     <g id=\"line2d_30\">\n      <g>\n       <use style=\"stroke:#000000;stroke-width:0.6;\" x=\"324.538364\" xlink:href=\"#m68fd9011de\" y=\"304.25\"/>\n      </g>\n     </g>\n    </g>\n    <g id=\"xtick_31\">\n     <g id=\"line2d_31\">\n      <g>\n       <use style=\"stroke:#000000;stroke-width:0.6;\" x=\"329.022422\" xlink:href=\"#m68fd9011de\" y=\"304.25\"/>\n      </g>\n     </g>\n    </g>\n    <g id=\"xtick_32\">\n     <g id=\"line2d_32\">\n      <g>\n       <use style=\"stroke:#000000;stroke-width:0.6;\" x=\"359.422004\" xlink:href=\"#m68fd9011de\" y=\"304.25\"/>\n      </g>\n     </g>\n    </g>\n    <g id=\"text_5\">\n     <!-- nodes -->\n     <defs>\n      <path d=\"M 54.890625 33.015625 \nL 54.890625 0 \nL 45.90625 0 \nL 45.90625 32.71875 \nQ 45.90625 40.484375 42.875 44.328125 \nQ 39.84375 48.1875 33.796875 48.1875 \nQ 26.515625 48.1875 22.3125 43.546875 \nQ 18.109375 38.921875 18.109375 30.90625 \nL 18.109375 0 \nL 9.078125 0 \nL 9.078125 54.6875 \nL 18.109375 54.6875 \nL 18.109375 46.1875 \nQ 21.34375 51.125 25.703125 53.5625 \nQ 30.078125 56 35.796875 56 \nQ 45.21875 56 50.046875 50.171875 \nQ 54.890625 44.34375 54.890625 33.015625 \nz\n\" id=\"DejaVuSans-110\"/>\n      <path d=\"M 30.609375 48.390625 \nQ 23.390625 48.390625 19.1875 42.75 \nQ 14.984375 37.109375 14.984375 27.296875 \nQ 14.984375 17.484375 19.15625 11.84375 \nQ 23.34375 6.203125 30.609375 6.203125 \nQ 37.796875 6.203125 41.984375 11.859375 \nQ 46.1875 17.53125 46.1875 27.296875 \nQ 46.1875 37.015625 41.984375 42.703125 \nQ 37.796875 48.390625 30.609375 48.390625 \nz\nM 30.609375 56 \nQ 42.328125 56 49.015625 48.375 \nQ 55.71875 40.765625 55.71875 27.296875 \nQ 55.71875 13.875 49.015625 6.21875 \nQ 42.328125 -1.421875 30.609375 -1.421875 \nQ 18.84375 -1.421875 12.171875 6.21875 \nQ 5.515625 13.875 5.515625 27.296875 \nQ 5.515625 40.765625 12.171875 48.375 \nQ 18.84375 56 30.609375 56 \nz\n\" id=\"DejaVuSans-111\"/>\n      <path d=\"M 45.40625 46.390625 \nL 45.40625 75.984375 \nL 54.390625 75.984375 \nL 54.390625 0 \nL 45.40625 0 \nL 45.40625 8.203125 \nQ 42.578125 3.328125 38.25 0.953125 \nQ 33.9375 -1.421875 27.875 -1.421875 \nQ 17.96875 -1.421875 11.734375 6.484375 \nQ 5.515625 14.40625 5.515625 27.296875 \nQ 5.515625 40.1875 11.734375 48.09375 \nQ 17.96875 56 27.875 56 \nQ 33.9375 56 38.25 53.625 \nQ 42.578125 51.265625 45.40625 46.390625 \nz\nM 14.796875 27.296875 \nQ 14.796875 17.390625 18.875 11.75 \nQ 22.953125 6.109375 30.078125 6.109375 \nQ 37.203125 6.109375 41.296875 11.75 \nQ 45.40625 17.390625 45.40625 27.296875 \nQ 45.40625 37.203125 41.296875 42.84375 \nQ 37.203125 48.484375 30.078125 48.484375 \nQ 22.953125 48.484375 18.875 42.84375 \nQ 14.796875 37.203125 14.796875 27.296875 \nz\n\" id=\"DejaVuSans-100\"/>\n      <path d=\"M 56.203125 29.59375 \nL 56.203125 25.203125 \nL 14.890625 25.203125 \nQ 15.484375 15.921875 20.484375 11.0625 \nQ 25.484375 6.203125 34.421875 6.203125 \nQ 39.59375 6.203125 44.453125 7.46875 \nQ 49.3125 8.734375 54.109375 11.28125 \nL 54.109375 2.78125 \nQ 49.265625 0.734375 44.1875 -0.34375 \nQ 39.109375 -1.421875 33.890625 -1.421875 \nQ 20.796875 -1.421875 13.15625 6.1875 \nQ 5.515625 13.8125 5.515625 26.8125 \nQ 5.515625 40.234375 12.765625 48.109375 \nQ 20.015625 56 32.328125 56 \nQ 43.359375 56 49.78125 48.890625 \nQ 56.203125 41.796875 56.203125 29.59375 \nz\nM 47.21875 32.234375 \nQ 47.125 39.59375 43.09375 43.984375 \nQ 39.0625 48.390625 32.421875 48.390625 \nQ 24.90625 48.390625 20.390625 44.140625 \nQ 15.875 39.890625 15.1875 32.171875 \nz\n\" id=\"DejaVuSans-101\"/>\n      <path d=\"M 44.28125 53.078125 \nL 44.28125 44.578125 \nQ 40.484375 46.53125 36.375 47.5 \nQ 32.28125 48.484375 27.875 48.484375 \nQ 21.1875 48.484375 17.84375 46.4375 \nQ 14.5 44.390625 14.5 40.28125 \nQ 14.5 37.15625 16.890625 35.375 \nQ 19.28125 33.59375 26.515625 31.984375 \nL 29.59375 31.296875 \nQ 39.15625 29.25 43.1875 25.515625 \nQ 47.21875 21.78125 47.21875 15.09375 \nQ 47.21875 7.46875 41.1875 3.015625 \nQ 35.15625 -1.421875 24.609375 -1.421875 \nQ 20.21875 -1.421875 15.453125 -0.5625 \nQ 10.6875 0.296875 5.421875 2 \nL 5.421875 11.28125 \nQ 10.40625 8.6875 15.234375 7.390625 \nQ 20.0625 6.109375 24.8125 6.109375 \nQ 31.15625 6.109375 34.5625 8.28125 \nQ 37.984375 10.453125 37.984375 14.40625 \nQ 37.984375 18.0625 35.515625 20.015625 \nQ 33.0625 21.96875 24.703125 23.78125 \nL 21.578125 24.515625 \nQ 13.234375 26.265625 9.515625 29.90625 \nQ 5.8125 33.546875 5.8125 39.890625 \nQ 5.8125 47.609375 11.28125 51.796875 \nQ 16.75 56 26.8125 56 \nQ 31.78125 56 36.171875 55.265625 \nQ 40.578125 54.546875 44.28125 53.078125 \nz\n\" id=\"DejaVuSans-115\"/>\n     </defs>\n     <g transform=\"translate(185.773615 336.325781)scale(0.15 -0.15)\">\n      <use xlink:href=\"#DejaVuSans-110\"/>\n      <use x=\"63.378906\" xlink:href=\"#DejaVuSans-111\"/>\n      <use x=\"124.560547\" xlink:href=\"#DejaVuSans-100\"/>\n      <use x=\"188.037109\" xlink:href=\"#DejaVuSans-101\"/>\n      <use x=\"249.560547\" xlink:href=\"#DejaVuSans-115\"/>\n     </g>\n    </g>\n   </g>\n   <g id=\"matplotlib.axis_2\">\n    <g id=\"ytick_1\">\n     <g id=\"line2d_33\">\n      <defs>\n       <path d=\"M 0 0 \nL -3.5 0 \n\" id=\"mbd937a44ae\" style=\"stroke:#000000;stroke-width:0.8;\"/>\n      </defs>\n      <g>\n       <use style=\"stroke:#000000;stroke-width:0.8;\" x=\"56.217187\" xlink:href=\"#mbd937a44ae\" y=\"297.561097\"/>\n      </g>\n     </g>\n     <g id=\"text_6\">\n      <!-- $\\mathdefault{10^{-1}}$ -->\n      <defs>\n       <path d=\"M 10.59375 35.5 \nL 73.1875 35.5 \nL 73.1875 27.203125 \nL 10.59375 27.203125 \nz\n\" id=\"DejaVuSans-8722\"/>\n      </defs>\n      <g transform=\"translate(25.717187 301.360316)scale(0.1 -0.1)\">\n       <use transform=\"translate(0 0.684375)\" xlink:href=\"#DejaVuSans-49\"/>\n       <use transform=\"translate(63.623047 0.684375)\" xlink:href=\"#DejaVuSans-48\"/>\n       <use transform=\"translate(128.203125 38.965625)scale(0.7)\" xlink:href=\"#DejaVuSans-8722\"/>\n       <use transform=\"translate(186.855469 38.965625)scale(0.7)\" xlink:href=\"#DejaVuSans-49\"/>\n      </g>\n     </g>\n    </g>\n    <g id=\"ytick_2\">\n     <g id=\"line2d_34\">\n      <g>\n       <use style=\"stroke:#000000;stroke-width:0.8;\" x=\"56.217187\" xlink:href=\"#mbd937a44ae\" y=\"224.370756\"/>\n      </g>\n     </g>\n     <g id=\"text_7\">\n      <!-- $\\mathdefault{10^{0}}$ -->\n      <g transform=\"translate(31.617187 228.169974)scale(0.1 -0.1)\">\n       <use transform=\"translate(0 0.765625)\" xlink:href=\"#DejaVuSans-49\"/>\n       <use transform=\"translate(63.623047 0.765625)\" xlink:href=\"#DejaVuSans-48\"/>\n       <use transform=\"translate(128.203125 39.046875)scale(0.7)\" xlink:href=\"#DejaVuSans-48\"/>\n      </g>\n     </g>\n    </g>\n    <g id=\"ytick_3\">\n     <g id=\"line2d_35\">\n      <g>\n       <use style=\"stroke:#000000;stroke-width:0.8;\" x=\"56.217187\" xlink:href=\"#mbd937a44ae\" y=\"151.180414\"/>\n      </g>\n     </g>\n     <g id=\"text_8\">\n      <!-- $\\mathdefault{10^{1}}$ -->\n      <g transform=\"translate(31.617187 154.979633)scale(0.1 -0.1)\">\n       <use transform=\"translate(0 0.684375)\" xlink:href=\"#DejaVuSans-49\"/>\n       <use transform=\"translate(63.623047 0.684375)\" xlink:href=\"#DejaVuSans-48\"/>\n       <use transform=\"translate(128.203125 38.965625)scale(0.7)\" xlink:href=\"#DejaVuSans-49\"/>\n      </g>\n     </g>\n    </g>\n    <g id=\"ytick_4\">\n     <g id=\"line2d_36\">\n      <g>\n       <use style=\"stroke:#000000;stroke-width:0.8;\" x=\"56.217187\" xlink:href=\"#mbd937a44ae\" y=\"77.990073\"/>\n      </g>\n     </g>\n     <g id=\"text_9\">\n      <!-- $\\mathdefault{10^{2}}$ -->\n      <g transform=\"translate(31.617187 81.789291)scale(0.1 -0.1)\">\n       <use transform=\"translate(0 0.765625)\" xlink:href=\"#DejaVuSans-49\"/>\n       <use transform=\"translate(63.623047 0.765625)\" xlink:href=\"#DejaVuSans-48\"/>\n       <use transform=\"translate(128.203125 39.046875)scale(0.7)\" xlink:href=\"#DejaVuSans-50\"/>\n      </g>\n     </g>\n    </g>\n    <g id=\"ytick_5\">\n     <g id=\"line2d_37\">\n      <defs>\n       <path d=\"M 0 0 \nL -2 0 \n\" id=\"mc86eb42f12\" style=\"stroke:#000000;stroke-width:0.6;\"/>\n      </defs>\n      <g>\n       <use style=\"stroke:#000000;stroke-width:0.6;\" x=\"56.217187\" xlink:href=\"#mc86eb42f12\" y=\"300.910104\"/>\n      </g>\n     </g>\n    </g>\n    <g id=\"ytick_6\">\n     <g id=\"line2d_38\">\n      <g>\n       <use style=\"stroke:#000000;stroke-width:0.6;\" x=\"56.217187\" xlink:href=\"#mc86eb42f12\" y=\"275.528609\"/>\n      </g>\n     </g>\n    </g>\n    <g id=\"ytick_7\">\n     <g id=\"line2d_39\">\n      <g>\n       <use style=\"stroke:#000000;stroke-width:0.6;\" x=\"56.217187\" xlink:href=\"#mc86eb42f12\" y=\"262.64043\"/>\n      </g>\n     </g>\n    </g>\n    <g id=\"ytick_8\">\n     <g id=\"line2d_40\">\n      <g>\n       <use style=\"stroke:#000000;stroke-width:0.6;\" x=\"56.217187\" xlink:href=\"#mc86eb42f12\" y=\"253.496121\"/>\n      </g>\n     </g>\n    </g>\n    <g id=\"ytick_9\">\n     <g id=\"line2d_41\">\n      <g>\n       <use style=\"stroke:#000000;stroke-width:0.6;\" x=\"56.217187\" xlink:href=\"#mc86eb42f12\" y=\"246.403244\"/>\n      </g>\n     </g>\n    </g>\n    <g id=\"ytick_10\">\n     <g id=\"line2d_42\">\n      <g>\n       <use style=\"stroke:#000000;stroke-width:0.6;\" x=\"56.217187\" xlink:href=\"#mc86eb42f12\" y=\"240.607941\"/>\n      </g>\n     </g>\n    </g>\n    <g id=\"ytick_11\">\n     <g id=\"line2d_43\">\n      <g>\n       <use style=\"stroke:#000000;stroke-width:0.6;\" x=\"56.217187\" xlink:href=\"#mc86eb42f12\" y=\"235.708083\"/>\n      </g>\n     </g>\n    </g>\n    <g id=\"ytick_12\">\n     <g id=\"line2d_44\">\n      <g>\n       <use style=\"stroke:#000000;stroke-width:0.6;\" x=\"56.217187\" xlink:href=\"#mc86eb42f12\" y=\"231.463633\"/>\n      </g>\n     </g>\n    </g>\n    <g id=\"ytick_13\">\n     <g id=\"line2d_45\">\n      <g>\n       <use style=\"stroke:#000000;stroke-width:0.6;\" x=\"56.217187\" xlink:href=\"#mc86eb42f12\" y=\"227.719762\"/>\n      </g>\n     </g>\n    </g>\n    <g id=\"ytick_14\">\n     <g id=\"line2d_46\">\n      <g>\n       <use style=\"stroke:#000000;stroke-width:0.6;\" x=\"56.217187\" xlink:href=\"#mc86eb42f12\" y=\"202.338267\"/>\n      </g>\n     </g>\n    </g>\n    <g id=\"ytick_15\">\n     <g id=\"line2d_47\">\n      <g>\n       <use style=\"stroke:#000000;stroke-width:0.6;\" x=\"56.217187\" xlink:href=\"#mc86eb42f12\" y=\"189.450088\"/>\n      </g>\n     </g>\n    </g>\n    <g id=\"ytick_16\">\n     <g id=\"line2d_48\">\n      <g>\n       <use style=\"stroke:#000000;stroke-width:0.6;\" x=\"56.217187\" xlink:href=\"#mc86eb42f12\" y=\"180.305779\"/>\n      </g>\n     </g>\n    </g>\n    <g id=\"ytick_17\">\n     <g id=\"line2d_49\">\n      <g>\n       <use style=\"stroke:#000000;stroke-width:0.6;\" x=\"56.217187\" xlink:href=\"#mc86eb42f12\" y=\"173.212902\"/>\n      </g>\n     </g>\n    </g>\n    <g id=\"ytick_18\">\n     <g id=\"line2d_50\">\n      <g>\n       <use style=\"stroke:#000000;stroke-width:0.6;\" x=\"56.217187\" xlink:href=\"#mc86eb42f12\" y=\"167.4176\"/>\n      </g>\n     </g>\n    </g>\n    <g id=\"ytick_19\">\n     <g id=\"line2d_51\">\n      <g>\n       <use style=\"stroke:#000000;stroke-width:0.6;\" x=\"56.217187\" xlink:href=\"#mc86eb42f12\" y=\"162.517741\"/>\n      </g>\n     </g>\n    </g>\n    <g id=\"ytick_20\">\n     <g id=\"line2d_52\">\n      <g>\n       <use style=\"stroke:#000000;stroke-width:0.6;\" x=\"56.217187\" xlink:href=\"#mc86eb42f12\" y=\"158.273291\"/>\n      </g>\n     </g>\n    </g>\n    <g id=\"ytick_21\">\n     <g id=\"line2d_53\">\n      <g>\n       <use style=\"stroke:#000000;stroke-width:0.6;\" x=\"56.217187\" xlink:href=\"#mc86eb42f12\" y=\"154.52942\"/>\n      </g>\n     </g>\n    </g>\n    <g id=\"ytick_22\">\n     <g id=\"line2d_54\">\n      <g>\n       <use style=\"stroke:#000000;stroke-width:0.6;\" x=\"56.217187\" xlink:href=\"#mc86eb42f12\" y=\"129.147926\"/>\n      </g>\n     </g>\n    </g>\n    <g id=\"ytick_23\">\n     <g id=\"line2d_55\">\n      <g>\n       <use style=\"stroke:#000000;stroke-width:0.6;\" x=\"56.217187\" xlink:href=\"#mc86eb42f12\" y=\"116.259747\"/>\n      </g>\n     </g>\n    </g>\n    <g id=\"ytick_24\">\n     <g id=\"line2d_56\">\n      <g>\n       <use style=\"stroke:#000000;stroke-width:0.6;\" x=\"56.217187\" xlink:href=\"#mc86eb42f12\" y=\"107.115438\"/>\n      </g>\n     </g>\n    </g>\n    <g id=\"ytick_25\">\n     <g id=\"line2d_57\">\n      <g>\n       <use style=\"stroke:#000000;stroke-width:0.6;\" x=\"56.217187\" xlink:href=\"#mc86eb42f12\" y=\"100.022561\"/>\n      </g>\n     </g>\n    </g>\n    <g id=\"ytick_26\">\n     <g id=\"line2d_58\">\n      <g>\n       <use style=\"stroke:#000000;stroke-width:0.6;\" x=\"56.217187\" xlink:href=\"#mc86eb42f12\" y=\"94.227258\"/>\n      </g>\n     </g>\n    </g>\n    <g id=\"ytick_27\">\n     <g id=\"line2d_59\">\n      <g>\n       <use style=\"stroke:#000000;stroke-width:0.6;\" x=\"56.217187\" xlink:href=\"#mc86eb42f12\" y=\"89.3274\"/>\n      </g>\n     </g>\n    </g>\n    <g id=\"ytick_28\">\n     <g id=\"line2d_60\">\n      <g>\n       <use style=\"stroke:#000000;stroke-width:0.6;\" x=\"56.217187\" xlink:href=\"#mc86eb42f12\" y=\"85.08295\"/>\n      </g>\n     </g>\n    </g>\n    <g id=\"ytick_29\">\n     <g id=\"line2d_61\">\n      <g>\n       <use style=\"stroke:#000000;stroke-width:0.6;\" x=\"56.217187\" xlink:href=\"#mc86eb42f12\" y=\"81.339079\"/>\n      </g>\n     </g>\n    </g>\n    <g id=\"ytick_30\">\n     <g id=\"line2d_62\">\n      <g>\n       <use style=\"stroke:#000000;stroke-width:0.6;\" x=\"56.217187\" xlink:href=\"#mc86eb42f12\" y=\"55.957584\"/>\n      </g>\n     </g>\n    </g>\n    <g id=\"ytick_31\">\n     <g id=\"line2d_63\">\n      <g>\n       <use style=\"stroke:#000000;stroke-width:0.6;\" x=\"56.217187\" xlink:href=\"#mc86eb42f12\" y=\"43.069405\"/>\n      </g>\n     </g>\n    </g>\n    <g id=\"ytick_32\">\n     <g id=\"line2d_64\">\n      <g>\n       <use style=\"stroke:#000000;stroke-width:0.6;\" x=\"56.217187\" xlink:href=\"#mc86eb42f12\" y=\"33.925096\"/>\n      </g>\n     </g>\n    </g>\n    <g id=\"text_10\">\n     <!-- MSE -->\n     <defs>\n      <path d=\"M 9.8125 72.90625 \nL 24.515625 72.90625 \nL 43.109375 23.296875 \nL 61.8125 72.90625 \nL 76.515625 72.90625 \nL 76.515625 0 \nL 66.890625 0 \nL 66.890625 64.015625 \nL 48.09375 14.015625 \nL 38.1875 14.015625 \nL 19.390625 64.015625 \nL 19.390625 0 \nL 9.8125 0 \nz\n\" id=\"DejaVuSans-77\"/>\n      <path d=\"M 53.515625 70.515625 \nL 53.515625 60.890625 \nQ 47.90625 63.578125 42.921875 64.890625 \nQ 37.9375 66.21875 33.296875 66.21875 \nQ 25.25 66.21875 20.875 63.09375 \nQ 16.5 59.96875 16.5 54.203125 \nQ 16.5 49.359375 19.40625 46.890625 \nQ 22.3125 44.4375 30.421875 42.921875 \nL 36.375 41.703125 \nQ 47.40625 39.59375 52.65625 34.296875 \nQ 57.90625 29 57.90625 20.125 \nQ 57.90625 9.515625 50.796875 4.046875 \nQ 43.703125 -1.421875 29.984375 -1.421875 \nQ 24.8125 -1.421875 18.96875 -0.25 \nQ 13.140625 0.921875 6.890625 3.21875 \nL 6.890625 13.375 \nQ 12.890625 10.015625 18.65625 8.296875 \nQ 24.421875 6.59375 29.984375 6.59375 \nQ 38.421875 6.59375 43.015625 9.90625 \nQ 47.609375 13.234375 47.609375 19.390625 \nQ 47.609375 24.75 44.3125 27.78125 \nQ 41.015625 30.8125 33.5 32.328125 \nL 27.484375 33.5 \nQ 16.453125 35.6875 11.515625 40.375 \nQ 6.59375 45.0625 6.59375 53.421875 \nQ 6.59375 63.09375 13.40625 68.65625 \nQ 20.21875 74.21875 32.171875 74.21875 \nQ 37.3125 74.21875 42.625 73.28125 \nQ 47.953125 72.359375 53.515625 70.515625 \nz\n\" id=\"DejaVuSans-83\"/>\n      <path d=\"M 9.8125 72.90625 \nL 55.90625 72.90625 \nL 55.90625 64.59375 \nL 19.671875 64.59375 \nL 19.671875 43.015625 \nL 54.390625 43.015625 \nL 54.390625 34.71875 \nL 19.671875 34.71875 \nL 19.671875 8.296875 \nL 56.78125 8.296875 \nL 56.78125 0 \nL 9.8125 0 \nz\n\" id=\"DejaVuSans-69\"/>\n     </defs>\n     <g transform=\"translate(18.597656 184.321484)rotate(-90)scale(0.15 -0.15)\">\n      <use xlink:href=\"#DejaVuSans-77\"/>\n      <use x=\"86.279297\" xlink:href=\"#DejaVuSans-83\"/>\n      <use x=\"149.755859\" xlink:href=\"#DejaVuSans-69\"/>\n     </g>\n    </g>\n   </g>\n   <g id=\"LineCollection_1\">\n    <path clip-path=\"url(#p85514057bc)\" d=\"M 70.051898 166.541157 \nL 70.051898 155.910736 \n\" style=\"fill:none;stroke:#000000;stroke-opacity:0.3;stroke-width:4;\"/>\n    <path clip-path=\"url(#p85514057bc)\" d=\"M 122.828808 169.761989 \nL 122.828808 162.903194 \n\" style=\"fill:none;stroke:#000000;stroke-opacity:0.3;stroke-width:4;\"/>\n    <path clip-path=\"url(#p85514057bc)\" d=\"M 175.605719 161.790962 \nL 175.605719 155.685345 \n\" style=\"fill:none;stroke:#000000;stroke-opacity:0.3;stroke-width:4;\"/>\n    <path clip-path=\"url(#p85514057bc)\" d=\"M 228.382629 150.090568 \nL 228.382629 145.12322 \n\" style=\"fill:none;stroke:#000000;stroke-opacity:0.3;stroke-width:4;\"/>\n    <path clip-path=\"url(#p85514057bc)\" d=\"M 281.159539 140.832642 \nL 281.159539 136.714403 \n\" style=\"fill:none;stroke:#000000;stroke-opacity:0.3;stroke-width:4;\"/>\n    <path clip-path=\"url(#p85514057bc)\" d=\"M 333.936449 136.881341 \nL 333.936449 133.33824 \n\" style=\"fill:none;stroke:#000000;stroke-opacity:0.3;stroke-width:4;\"/>\n   </g>\n   <g id=\"LineCollection_2\">\n    <path clip-path=\"url(#p85514057bc)\" d=\"M 76.99297 168.386342 \nL 76.99297 156.938507 \n\" style=\"fill:none;stroke:#ff0000;stroke-opacity:0.3;stroke-width:4;\"/>\n    <path clip-path=\"url(#p85514057bc)\" d=\"M 129.76988 176.011326 \nL 129.76988 169.060905 \n\" style=\"fill:none;stroke:#ff0000;stroke-opacity:0.3;stroke-width:4;\"/>\n    <path clip-path=\"url(#p85514057bc)\" d=\"M 182.54679 180.429188 \nL 182.54679 173.3816 \n\" style=\"fill:none;stroke:#ff0000;stroke-opacity:0.3;stroke-width:4;\"/>\n    <path clip-path=\"url(#p85514057bc)\" d=\"M 235.3237 187.604188 \nL 235.3237 180.751306 \n\" style=\"fill:none;stroke:#ff0000;stroke-opacity:0.3;stroke-width:4;\"/>\n    <path clip-path=\"url(#p85514057bc)\" d=\"M 288.100611 198.647467 \nL 288.100611 191.772387 \n\" style=\"fill:none;stroke:#ff0000;stroke-opacity:0.3;stroke-width:4;\"/>\n    <path clip-path=\"url(#p85514057bc)\" d=\"M 340.877521 213.353917 \nL 340.877521 205.9115 \n\" style=\"fill:none;stroke:#ff0000;stroke-opacity:0.3;stroke-width:4;\"/>\n   </g>\n   <g id=\"LineCollection_3\">\n    <path clip-path=\"url(#p85514057bc)\" d=\"M 82.861562 167.651197 \nL 82.861562 157.886807 \n\" style=\"fill:none;stroke:#008000;stroke-opacity:0.3;stroke-width:4;\"/>\n    <path clip-path=\"url(#p85514057bc)\" d=\"M 135.638472 176.147792 \nL 135.638472 170.648228 \n\" style=\"fill:none;stroke:#008000;stroke-opacity:0.3;stroke-width:4;\"/>\n    <path clip-path=\"url(#p85514057bc)\" d=\"M 188.415383 183.290576 \nL 188.415383 177.72614 \n\" style=\"fill:none;stroke:#008000;stroke-opacity:0.3;stroke-width:4;\"/>\n    <path clip-path=\"url(#p85514057bc)\" d=\"M 241.192293 198.257586 \nL 241.192293 192.362425 \n\" style=\"fill:none;stroke:#008000;stroke-opacity:0.3;stroke-width:4;\"/>\n    <path clip-path=\"url(#p85514057bc)\" d=\"M 293.969203 228.24716 \nL 293.969203 221.118492 \n\" style=\"fill:none;stroke:#008000;stroke-opacity:0.3;stroke-width:4;\"/>\n    <path clip-path=\"url(#p85514057bc)\" d=\"M 346.746113 291.895455 \nL 346.746113 279.415852 \n\" style=\"fill:none;stroke:#008000;stroke-opacity:0.3;stroke-width:4;\"/>\n   </g>\n   <g id=\"LineCollection_4\">\n    <path clip-path=\"url(#p85514057bc)\" d=\"M 70.051898 105.219936 \nL 70.051898 85.859175 \n\" style=\"fill:none;stroke:#000000;stroke-opacity:0.5;stroke-width:2;\"/>\n    <path clip-path=\"url(#p85514057bc)\" d=\"M 122.828808 147.269302 \nL 122.828808 134.560308 \n\" style=\"fill:none;stroke:#000000;stroke-opacity:0.5;stroke-width:2;\"/>\n    <path clip-path=\"url(#p85514057bc)\" d=\"M 175.605719 160.292198 \nL 175.605719 154.045695 \n\" style=\"fill:none;stroke:#000000;stroke-opacity:0.5;stroke-width:2;\"/>\n    <path clip-path=\"url(#p85514057bc)\" d=\"M 228.382629 150.129978 \nL 228.382629 145.116545 \n\" style=\"fill:none;stroke:#000000;stroke-opacity:0.5;stroke-width:2;\"/>\n    <path clip-path=\"url(#p85514057bc)\" d=\"M 281.159539 140.631048 \nL 281.159539 136.571508 \n\" style=\"fill:none;stroke:#000000;stroke-opacity:0.5;stroke-width:2;\"/>\n    <path clip-path=\"url(#p85514057bc)\" d=\"M 333.936449 136.628827 \nL 333.936449 133.138901 \n\" style=\"fill:none;stroke:#000000;stroke-opacity:0.5;stroke-width:2;\"/>\n   </g>\n   <g id=\"LineCollection_5\">\n    <path clip-path=\"url(#p85514057bc)\" d=\"M 76.99297 104.677425 \nL 76.99297 85.907758 \n\" style=\"fill:none;stroke:#ff0000;stroke-opacity:0.5;stroke-width:2;\"/>\n    <path clip-path=\"url(#p85514057bc)\" d=\"M 129.76988 150.519582 \nL 129.76988 136.834154 \n\" style=\"fill:none;stroke:#ff0000;stroke-opacity:0.5;stroke-width:2;\"/>\n    <path clip-path=\"url(#p85514057bc)\" d=\"M 182.54679 177.455907 \nL 182.54679 170.351193 \n\" style=\"fill:none;stroke:#ff0000;stroke-opacity:0.5;stroke-width:2;\"/>\n    <path clip-path=\"url(#p85514057bc)\" d=\"M 235.3237 187.087679 \nL 235.3237 179.792043 \n\" style=\"fill:none;stroke:#ff0000;stroke-opacity:0.5;stroke-width:2;\"/>\n    <path clip-path=\"url(#p85514057bc)\" d=\"M 288.100611 198.671192 \nL 288.100611 191.277192 \n\" style=\"fill:none;stroke:#ff0000;stroke-opacity:0.5;stroke-width:2;\"/>\n    <path clip-path=\"url(#p85514057bc)\" d=\"M 340.877521 213.353992 \nL 340.877521 205.282239 \n\" style=\"fill:none;stroke:#ff0000;stroke-opacity:0.5;stroke-width:2;\"/>\n   </g>\n   <g id=\"LineCollection_6\">\n    <path clip-path=\"url(#p85514057bc)\" d=\"M 82.861562 104.758732 \nL 82.861562 86.43972 \n\" style=\"fill:none;stroke:#008000;stroke-opacity:0.5;stroke-width:2;\"/>\n    <path clip-path=\"url(#p85514057bc)\" d=\"M 135.638472 151.498938 \nL 135.638472 138.074605 \n\" style=\"fill:none;stroke:#008000;stroke-opacity:0.5;stroke-width:2;\"/>\n    <path clip-path=\"url(#p85514057bc)\" d=\"M 188.415383 180.283915 \nL 188.415383 174.936142 \n\" style=\"fill:none;stroke:#008000;stroke-opacity:0.5;stroke-width:2;\"/>\n    <path clip-path=\"url(#p85514057bc)\" d=\"M 241.192293 197.437349 \nL 241.192293 191.397959 \n\" style=\"fill:none;stroke:#008000;stroke-opacity:0.5;stroke-width:2;\"/>\n    <path clip-path=\"url(#p85514057bc)\" d=\"M 293.969203 227.97067 \nL 293.969203 220.355527 \n\" style=\"fill:none;stroke:#008000;stroke-opacity:0.5;stroke-width:2;\"/>\n    <path clip-path=\"url(#p85514057bc)\" d=\"M 346.746113 290.810588 \nL 346.746113 278.679189 \n\" style=\"fill:none;stroke:#008000;stroke-opacity:0.5;stroke-width:2;\"/>\n   </g>\n   <g id=\"LineCollection_7\">\n    <path clip-path=\"url(#p85514057bc)\" d=\"M 70.051898 63.399138 \nL 70.051898 45.102934 \n\" style=\"fill:none;stroke:#000000;\"/>\n    <path clip-path=\"url(#p85514057bc)\" d=\"M 122.828808 117.332087 \nL 122.828808 99.456576 \n\" style=\"fill:none;stroke:#000000;\"/>\n    <path clip-path=\"url(#p85514057bc)\" d=\"M 175.605719 155.421611 \nL 175.605719 149.658292 \n\" style=\"fill:none;stroke:#000000;\"/>\n    <path clip-path=\"url(#p85514057bc)\" d=\"M 228.382629 149.655183 \nL 228.382629 144.520522 \n\" style=\"fill:none;stroke:#000000;\"/>\n    <path clip-path=\"url(#p85514057bc)\" d=\"M 281.159539 140.741313 \nL 281.159539 136.60711 \n\" style=\"fill:none;stroke:#000000;\"/>\n    <path clip-path=\"url(#p85514057bc)\" d=\"M 333.936449 136.775696 \nL 333.936449 133.207489 \n\" style=\"fill:none;stroke:#000000;\"/>\n   </g>\n   <g id=\"LineCollection_8\">\n    <path clip-path=\"url(#p85514057bc)\" d=\"M 76.99297 63.125062 \nL 76.99297 44.804545 \n\" style=\"fill:none;stroke:#ff0000;\"/>\n    <path clip-path=\"url(#p85514057bc)\" d=\"M 129.76988 118.720624 \nL 129.76988 99.990748 \n\" style=\"fill:none;stroke:#ff0000;\"/>\n    <path clip-path=\"url(#p85514057bc)\" d=\"M 182.54679 169.809425 \nL 182.54679 163.057349 \n\" style=\"fill:none;stroke:#ff0000;\"/>\n    <path clip-path=\"url(#p85514057bc)\" d=\"M 235.3237 185.377522 \nL 235.3237 178.514031 \n\" style=\"fill:none;stroke:#ff0000;\"/>\n    <path clip-path=\"url(#p85514057bc)\" d=\"M 288.100611 198.21583 \nL 288.100611 191.092227 \n\" style=\"fill:none;stroke:#ff0000;\"/>\n    <path clip-path=\"url(#p85514057bc)\" d=\"M 340.877521 213.233845 \nL 340.877521 205.008997 \n\" style=\"fill:none;stroke:#ff0000;\"/>\n   </g>\n   <g id=\"LineCollection_9\">\n    <path clip-path=\"url(#p85514057bc)\" d=\"M 82.861562 63.484874 \nL 82.861562 45.204948 \n\" style=\"fill:none;stroke:#008000;\"/>\n    <path clip-path=\"url(#p85514057bc)\" d=\"M 135.638472 119.878038 \nL 135.638472 101.379246 \n\" style=\"fill:none;stroke:#008000;\"/>\n    <path clip-path=\"url(#p85514057bc)\" d=\"M 188.415383 173.233546 \nL 188.415383 167.53545 \n\" style=\"fill:none;stroke:#008000;\"/>\n    <path clip-path=\"url(#p85514057bc)\" d=\"M 241.192293 196.140248 \nL 241.192293 190.025395 \n\" style=\"fill:none;stroke:#008000;\"/>\n    <path clip-path=\"url(#p85514057bc)\" d=\"M 293.969203 227.748494 \nL 293.969203 219.733126 \n\" style=\"fill:none;stroke:#008000;\"/>\n    <path clip-path=\"url(#p85514057bc)\" d=\"M 346.746113 291.068464 \nL 346.746113 277.361586 \n\" style=\"fill:none;stroke:#008000;\"/>\n   </g>\n   <g id=\"line2d_65\">\n    <path clip-path=\"url(#p85514057bc)\" d=\"M 70.051898 160.783603 \nL 122.828808 166.147951 \nL 175.605719 158.591779 \nL 228.382629 147.509959 \nL 281.159539 138.706874 \nL 333.936449 135.060449 \n\" style=\"fill:none;stroke:#000000;stroke-linecap:square;stroke-opacity:0.3;stroke-width:4;\"/>\n    <defs>\n     <path d=\"M 0 -4 \nL -0.898056 -1.236068 \nL -3.804226 -1.236068 \nL -1.453085 0.472136 \nL -2.351141 3.236068 \nL -0 1.527864 \nL 2.351141 3.236068 \nL 1.453085 0.472136 \nL 3.804226 -1.236068 \nL 0.898056 -1.236068 \nz\n\" id=\"m91e6da0a1a\" style=\"stroke:#000000;stroke-linejoin:bevel;stroke-opacity:0.3;\"/>\n    </defs>\n    <g clip-path=\"url(#p85514057bc)\">\n     <use style=\"fill-opacity:0.3;stroke:#000000;stroke-linejoin:bevel;stroke-opacity:0.3;\" x=\"70.051898\" xlink:href=\"#m91e6da0a1a\" y=\"160.783603\"/>\n     <use style=\"fill-opacity:0.3;stroke:#000000;stroke-linejoin:bevel;stroke-opacity:0.3;\" x=\"122.828808\" xlink:href=\"#m91e6da0a1a\" y=\"166.147951\"/>\n     <use style=\"fill-opacity:0.3;stroke:#000000;stroke-linejoin:bevel;stroke-opacity:0.3;\" x=\"175.605719\" xlink:href=\"#m91e6da0a1a\" y=\"158.591779\"/>\n     <use style=\"fill-opacity:0.3;stroke:#000000;stroke-linejoin:bevel;stroke-opacity:0.3;\" x=\"228.382629\" xlink:href=\"#m91e6da0a1a\" y=\"147.509959\"/>\n     <use style=\"fill-opacity:0.3;stroke:#000000;stroke-linejoin:bevel;stroke-opacity:0.3;\" x=\"281.159539\" xlink:href=\"#m91e6da0a1a\" y=\"138.706874\"/>\n     <use style=\"fill-opacity:0.3;stroke:#000000;stroke-linejoin:bevel;stroke-opacity:0.3;\" x=\"333.936449\" xlink:href=\"#m91e6da0a1a\" y=\"135.060449\"/>\n    </g>\n   </g>\n   <g id=\"line2d_66\">\n    <path clip-path=\"url(#p85514057bc)\" d=\"M 76.99297 162.149817 \nL 129.76988 172.346519 \nL 182.54679 176.71047 \nL 235.3237 183.993424 \nL 288.100611 195.02441 \nL 340.877521 209.415383 \n\" style=\"fill:none;stroke:#ff0000;stroke-linecap:square;stroke-opacity:0.3;stroke-width:4;\"/>\n    <defs>\n     <path d=\"M -4 0 \nL 4 0 \nM 0 4 \nL 0 -4 \n\" id=\"mb89d4c01a1\" style=\"stroke:#ff0000;stroke-opacity:0.3;\"/>\n    </defs>\n    <g clip-path=\"url(#p85514057bc)\">\n     <use style=\"fill:#ff0000;fill-opacity:0.3;stroke:#ff0000;stroke-opacity:0.3;\" x=\"76.99297\" xlink:href=\"#mb89d4c01a1\" y=\"162.149817\"/>\n     <use style=\"fill:#ff0000;fill-opacity:0.3;stroke:#ff0000;stroke-opacity:0.3;\" x=\"129.76988\" xlink:href=\"#mb89d4c01a1\" y=\"172.346519\"/>\n     <use style=\"fill:#ff0000;fill-opacity:0.3;stroke:#ff0000;stroke-opacity:0.3;\" x=\"182.54679\" xlink:href=\"#mb89d4c01a1\" y=\"176.71047\"/>\n     <use style=\"fill:#ff0000;fill-opacity:0.3;stroke:#ff0000;stroke-opacity:0.3;\" x=\"235.3237\" xlink:href=\"#mb89d4c01a1\" y=\"183.993424\"/>\n     <use style=\"fill:#ff0000;fill-opacity:0.3;stroke:#ff0000;stroke-opacity:0.3;\" x=\"288.100611\" xlink:href=\"#mb89d4c01a1\" y=\"195.02441\"/>\n     <use style=\"fill:#ff0000;fill-opacity:0.3;stroke:#ff0000;stroke-opacity:0.3;\" x=\"340.877521\" xlink:href=\"#mb89d4c01a1\" y=\"209.415383\"/>\n    </g>\n   </g>\n   <g id=\"line2d_67\">\n    <path clip-path=\"url(#p85514057bc)\" d=\"M 82.861562 162.395527 \nL 135.638472 173.279218 \nL 188.415383 180.386751 \nL 241.192293 195.173534 \nL 293.969203 224.4834 \nL 346.746113 285.047093 \n\" style=\"fill:none;stroke:#008000;stroke-linecap:square;stroke-opacity:0.3;stroke-width:4;\"/>\n    <defs>\n     <path d=\"M -4 4 \nL 4 -4 \nM -4 -4 \nL 4 4 \n\" id=\"m9bc4f71135\" style=\"stroke:#008000;stroke-opacity:0.3;\"/>\n    </defs>\n    <g clip-path=\"url(#p85514057bc)\">\n     <use style=\"fill:#008000;fill-opacity:0.3;stroke:#008000;stroke-opacity:0.3;\" x=\"82.861562\" xlink:href=\"#m9bc4f71135\" y=\"162.395527\"/>\n     <use style=\"fill:#008000;fill-opacity:0.3;stroke:#008000;stroke-opacity:0.3;\" x=\"135.638472\" xlink:href=\"#m9bc4f71135\" y=\"173.279218\"/>\n     <use style=\"fill:#008000;fill-opacity:0.3;stroke:#008000;stroke-opacity:0.3;\" x=\"188.415383\" xlink:href=\"#m9bc4f71135\" y=\"180.386751\"/>\n     <use style=\"fill:#008000;fill-opacity:0.3;stroke:#008000;stroke-opacity:0.3;\" x=\"241.192293\" xlink:href=\"#m9bc4f71135\" y=\"195.173534\"/>\n     <use style=\"fill:#008000;fill-opacity:0.3;stroke:#008000;stroke-opacity:0.3;\" x=\"293.969203\" xlink:href=\"#m9bc4f71135\" y=\"224.4834\"/>\n     <use style=\"fill:#008000;fill-opacity:0.3;stroke:#008000;stroke-opacity:0.3;\" x=\"346.746113\" xlink:href=\"#m9bc4f71135\" y=\"285.047093\"/>\n    </g>\n   </g>\n   <g id=\"line2d_68\">\n    <path clip-path=\"url(#p85514057bc)\" d=\"M 70.051898 94.087728 \nL 122.828808 140.283815 \nL 175.605719 157.01575 \nL 228.382629 147.524522 \nL 281.159539 138.536514 \nL 333.936449 134.835991 \n\" style=\"fill:none;stroke:#000000;stroke-dasharray:7.4,3.2;stroke-dashoffset:0;stroke-opacity:0.5;stroke-width:2;\"/>\n    <defs>\n     <path d=\"M 0 -4 \nL -0.898056 -1.236068 \nL -3.804226 -1.236068 \nL -1.453085 0.472136 \nL -2.351141 3.236068 \nL -0 1.527864 \nL 2.351141 3.236068 \nL 1.453085 0.472136 \nL 3.804226 -1.236068 \nL 0.898056 -1.236068 \nz\n\" id=\"mb1bfb15360\" style=\"stroke:#000000;stroke-linejoin:bevel;stroke-opacity:0.5;\"/>\n    </defs>\n    <g clip-path=\"url(#p85514057bc)\">\n     <use style=\"fill-opacity:0.5;stroke:#000000;stroke-linejoin:bevel;stroke-opacity:0.5;\" x=\"70.051898\" xlink:href=\"#mb1bfb15360\" y=\"94.087728\"/>\n     <use style=\"fill-opacity:0.5;stroke:#000000;stroke-linejoin:bevel;stroke-opacity:0.5;\" x=\"122.828808\" xlink:href=\"#mb1bfb15360\" y=\"140.283815\"/>\n     <use style=\"fill-opacity:0.5;stroke:#000000;stroke-linejoin:bevel;stroke-opacity:0.5;\" x=\"175.605719\" xlink:href=\"#mb1bfb15360\" y=\"157.01575\"/>\n     <use style=\"fill-opacity:0.5;stroke:#000000;stroke-linejoin:bevel;stroke-opacity:0.5;\" x=\"228.382629\" xlink:href=\"#mb1bfb15360\" y=\"147.524522\"/>\n     <use style=\"fill-opacity:0.5;stroke:#000000;stroke-linejoin:bevel;stroke-opacity:0.5;\" x=\"281.159539\" xlink:href=\"#mb1bfb15360\" y=\"138.536514\"/>\n     <use style=\"fill-opacity:0.5;stroke:#000000;stroke-linejoin:bevel;stroke-opacity:0.5;\" x=\"333.936449\" xlink:href=\"#mb1bfb15360\" y=\"134.835991\"/>\n    </g>\n   </g>\n   <g id=\"line2d_69\">\n    <path clip-path=\"url(#p85514057bc)\" d=\"M 76.99297 93.926833 \nL 129.76988 142.945961 \nL 182.54679 173.70546 \nL 235.3237 183.231005 \nL 288.100611 194.759679 \nL 340.877521 209.062584 \n\" style=\"fill:none;stroke:#ff0000;stroke-dasharray:7.4,3.2;stroke-dashoffset:0;stroke-opacity:0.5;stroke-width:2;\"/>\n    <defs>\n     <path d=\"M -4 0 \nL 4 0 \nM 0 4 \nL 0 -4 \n\" id=\"m5561f494fb\" style=\"stroke:#ff0000;stroke-opacity:0.5;\"/>\n    </defs>\n    <g clip-path=\"url(#p85514057bc)\">\n     <use style=\"fill:#ff0000;fill-opacity:0.5;stroke:#ff0000;stroke-opacity:0.5;\" x=\"76.99297\" xlink:href=\"#m5561f494fb\" y=\"93.926833\"/>\n     <use style=\"fill:#ff0000;fill-opacity:0.5;stroke:#ff0000;stroke-opacity:0.5;\" x=\"129.76988\" xlink:href=\"#m5561f494fb\" y=\"142.945961\"/>\n     <use style=\"fill:#ff0000;fill-opacity:0.5;stroke:#ff0000;stroke-opacity:0.5;\" x=\"182.54679\" xlink:href=\"#m5561f494fb\" y=\"173.70546\"/>\n     <use style=\"fill:#ff0000;fill-opacity:0.5;stroke:#ff0000;stroke-opacity:0.5;\" x=\"235.3237\" xlink:href=\"#m5561f494fb\" y=\"183.231005\"/>\n     <use style=\"fill:#ff0000;fill-opacity:0.5;stroke:#ff0000;stroke-opacity:0.5;\" x=\"288.100611\" xlink:href=\"#m5561f494fb\" y=\"194.759679\"/>\n     <use style=\"fill:#ff0000;fill-opacity:0.5;stroke:#ff0000;stroke-opacity:0.5;\" x=\"340.877521\" xlink:href=\"#m5561f494fb\" y=\"209.062584\"/>\n    </g>\n   </g>\n   <g id=\"line2d_70\">\n    <path clip-path=\"url(#p85514057bc)\" d=\"M 82.861562 94.297393 \nL 135.638472 144.083285 \nL 188.415383 177.497696 \nL 241.192293 194.274433 \nL 293.969203 223.935593 \nL 346.746113 284.169614 \n\" style=\"fill:none;stroke:#008000;stroke-dasharray:7.4,3.2;stroke-dashoffset:0;stroke-opacity:0.5;stroke-width:2;\"/>\n    <defs>\n     <path d=\"M -4 4 \nL 4 -4 \nM -4 -4 \nL 4 4 \n\" id=\"mfe9d3b5796\" style=\"stroke:#008000;stroke-opacity:0.5;\"/>\n    </defs>\n    <g clip-path=\"url(#p85514057bc)\">\n     <use style=\"fill:#008000;fill-opacity:0.5;stroke:#008000;stroke-opacity:0.5;\" x=\"82.861562\" xlink:href=\"#mfe9d3b5796\" y=\"94.297393\"/>\n     <use style=\"fill:#008000;fill-opacity:0.5;stroke:#008000;stroke-opacity:0.5;\" x=\"135.638472\" xlink:href=\"#mfe9d3b5796\" y=\"144.083285\"/>\n     <use style=\"fill:#008000;fill-opacity:0.5;stroke:#008000;stroke-opacity:0.5;\" x=\"188.415383\" xlink:href=\"#mfe9d3b5796\" y=\"177.497696\"/>\n     <use style=\"fill:#008000;fill-opacity:0.5;stroke:#008000;stroke-opacity:0.5;\" x=\"241.192293\" xlink:href=\"#mfe9d3b5796\" y=\"194.274433\"/>\n     <use style=\"fill:#008000;fill-opacity:0.5;stroke:#008000;stroke-opacity:0.5;\" x=\"293.969203\" xlink:href=\"#mfe9d3b5796\" y=\"223.935593\"/>\n     <use style=\"fill:#008000;fill-opacity:0.5;stroke:#008000;stroke-opacity:0.5;\" x=\"346.746113\" xlink:href=\"#mfe9d3b5796\" y=\"284.169614\"/>\n    </g>\n   </g>\n   <g id=\"line2d_71\">\n    <path clip-path=\"url(#p85514057bc)\" d=\"M 70.051898 52.952399 \nL 122.828808 107.153973 \nL 175.605719 152.409508 \nL 228.382629 146.984285 \nL 281.159539 138.607046 \nL 333.936449 134.941549 \n\" style=\"fill:none;stroke:#000000;stroke-dasharray:1,1.65;stroke-dashoffset:0;\"/>\n    <defs>\n     <path d=\"M 0 -4 \nL -0.898056 -1.236068 \nL -3.804226 -1.236068 \nL -1.453085 0.472136 \nL -2.351141 3.236068 \nL -0 1.527864 \nL 2.351141 3.236068 \nL 1.453085 0.472136 \nL 3.804226 -1.236068 \nL 0.898056 -1.236068 \nz\n\" id=\"me4e3acfb8e\" style=\"stroke:#000000;stroke-linejoin:bevel;\"/>\n    </defs>\n    <g clip-path=\"url(#p85514057bc)\">\n     <use style=\"stroke:#000000;stroke-linejoin:bevel;\" x=\"70.051898\" xlink:href=\"#me4e3acfb8e\" y=\"52.952399\"/>\n     <use style=\"stroke:#000000;stroke-linejoin:bevel;\" x=\"122.828808\" xlink:href=\"#me4e3acfb8e\" y=\"107.153973\"/>\n     <use style=\"stroke:#000000;stroke-linejoin:bevel;\" x=\"175.605719\" xlink:href=\"#me4e3acfb8e\" y=\"152.409508\"/>\n     <use style=\"stroke:#000000;stroke-linejoin:bevel;\" x=\"228.382629\" xlink:href=\"#me4e3acfb8e\" y=\"146.984285\"/>\n     <use style=\"stroke:#000000;stroke-linejoin:bevel;\" x=\"281.159539\" xlink:href=\"#me4e3acfb8e\" y=\"138.607046\"/>\n     <use style=\"stroke:#000000;stroke-linejoin:bevel;\" x=\"333.936449\" xlink:href=\"#me4e3acfb8e\" y=\"134.941549\"/>\n    </g>\n   </g>\n   <g id=\"line2d_72\">\n    <path clip-path=\"url(#p85514057bc)\" d=\"M 76.99297 52.66276 \nL 129.76988 107.995631 \nL 182.54679 166.254437 \nL 235.3237 181.760884 \nL 288.100611 194.454886 \nL 340.877521 208.856131 \n\" style=\"fill:none;stroke:#ff0000;stroke-dasharray:1,1.65;stroke-dashoffset:0;\"/>\n    <defs>\n     <path d=\"M -4 0 \nL 4 0 \nM 0 4 \nL 0 -4 \n\" id=\"m3e76468320\" style=\"stroke:#ff0000;\"/>\n    </defs>\n    <g clip-path=\"url(#p85514057bc)\">\n     <use style=\"fill:#ff0000;stroke:#ff0000;\" x=\"76.99297\" xlink:href=\"#m3e76468320\" y=\"52.66276\"/>\n     <use style=\"fill:#ff0000;stroke:#ff0000;\" x=\"129.76988\" xlink:href=\"#m3e76468320\" y=\"107.995631\"/>\n     <use style=\"fill:#ff0000;stroke:#ff0000;\" x=\"182.54679\" xlink:href=\"#m3e76468320\" y=\"166.254437\"/>\n     <use style=\"fill:#ff0000;stroke:#ff0000;\" x=\"235.3237\" xlink:href=\"#m3e76468320\" y=\"181.760884\"/>\n     <use style=\"fill:#ff0000;stroke:#ff0000;\" x=\"288.100611\" xlink:href=\"#m3e76468320\" y=\"194.454886\"/>\n     <use style=\"fill:#ff0000;stroke:#ff0000;\" x=\"340.877521\" xlink:href=\"#m3e76468320\" y=\"208.856131\"/>\n    </g>\n   </g>\n   <g id=\"line2d_73\">\n    <path clip-path=\"url(#p85514057bc)\" d=\"M 82.861562 53.048553 \nL 135.638472 109.301483 \nL 188.415383 170.256986 \nL 241.192293 192.936005 \nL 293.969203 223.488827 \nL 346.746113 283.481842 \n\" style=\"fill:none;stroke:#008000;stroke-dasharray:1,1.65;stroke-dashoffset:0;\"/>\n    <defs>\n     <path d=\"M -4 4 \nL 4 -4 \nM -4 -4 \nL 4 4 \n\" id=\"m7f99d4cc68\" style=\"stroke:#008000;\"/>\n    </defs>\n    <g clip-path=\"url(#p85514057bc)\">\n     <use style=\"fill:#008000;stroke:#008000;\" x=\"82.861562\" xlink:href=\"#m7f99d4cc68\" y=\"53.048553\"/>\n     <use style=\"fill:#008000;stroke:#008000;\" x=\"135.638472\" xlink:href=\"#m7f99d4cc68\" y=\"109.301483\"/>\n     <use style=\"fill:#008000;stroke:#008000;\" x=\"188.415383\" xlink:href=\"#m7f99d4cc68\" y=\"170.256986\"/>\n     <use style=\"fill:#008000;stroke:#008000;\" x=\"241.192293\" xlink:href=\"#m7f99d4cc68\" y=\"192.936005\"/>\n     <use style=\"fill:#008000;stroke:#008000;\" x=\"293.969203\" xlink:href=\"#m7f99d4cc68\" y=\"223.488827\"/>\n     <use style=\"fill:#008000;stroke:#008000;\" x=\"346.746113\" xlink:href=\"#m7f99d4cc68\" y=\"283.481842\"/>\n    </g>\n   </g>\n   <g id=\"patch_3\">\n    <path d=\"M 56.217187 304.25 \nL 56.217187 32.45 \n\" style=\"fill:none;stroke:#000000;stroke-linecap:square;stroke-linejoin:miter;stroke-width:0.8;\"/>\n   </g>\n   <g id=\"patch_4\">\n    <path d=\"M 360.580824 304.25 \nL 360.580824 32.45 \n\" style=\"fill:none;stroke:#000000;stroke-linecap:square;stroke-linejoin:miter;stroke-width:0.8;\"/>\n   </g>\n   <g id=\"patch_5\">\n    <path d=\"M 56.217187 304.25 \nL 360.580824 304.25 \n\" style=\"fill:none;stroke:#000000;stroke-linecap:square;stroke-linejoin:miter;stroke-width:0.8;\"/>\n   </g>\n   <g id=\"patch_6\">\n    <path d=\"M 56.217187 32.45 \nL 360.580824 32.45 \n\" style=\"fill:none;stroke:#000000;stroke-linecap:square;stroke-linejoin:miter;stroke-width:0.8;\"/>\n   </g>\n   <g id=\"text_11\">\n    <!-- $\\beta_{1} = \\beta + \\delta$, $\\beta_{-1} = \\beta - \\delta$ -->\n    <defs>\n     <path d=\"M 13.625 3.375 \nL 8.9375 -20.796875 \nL -0.09375 -20.796875 \nL 14.5 54.34375 \nQ 18.84375 76.609375 39.65625 76.609375 \nQ 60.75 76.609375 57.171875 57.8125 \nQ 54.734375 44.4375 45.21875 39.546875 \nQ 58.015625 35.15625 55.515625 22.125 \nQ 51.125 -1.078125 27.484375 -1.03125 \nQ 17.140625 -0.984375 13.625 3.375 \nz\nM 15.921875 15.09375 \nQ 19.671875 6.59375 29.296875 6.640625 \nQ 43.359375 6.640625 46.34375 21.96875 \nQ 49.03125 35.75 26.171875 34.671875 \nL 27.78125 42.96875 \nQ 45.453125 42.671875 48.53125 58.59375 \nQ 50.640625 69.34375 39.203125 69.28125 \nQ 26.421875 69.28125 23.484375 54.046875 \nz\n\" id=\"DejaVuSans-Oblique-946\"/>\n     <path d=\"M 10.59375 45.40625 \nL 73.1875 45.40625 \nL 73.1875 37.203125 \nL 10.59375 37.203125 \nz\nM 10.59375 25.484375 \nL 73.1875 25.484375 \nL 73.1875 17.1875 \nL 10.59375 17.1875 \nz\n\" id=\"DejaVuSans-61\"/>\n     <path d=\"M 46 62.703125 \nL 46 35.5 \nL 73.1875 35.5 \nL 73.1875 27.203125 \nL 46 27.203125 \nL 46 0 \nL 37.796875 0 \nL 37.796875 27.203125 \nL 10.59375 27.203125 \nL 10.59375 35.5 \nL 37.796875 35.5 \nL 37.796875 62.703125 \nz\n\" id=\"DejaVuSans-43\"/>\n     <path d=\"M 54.25 63.328125 \nQ 49.953125 66.75 38.28125 66.75 \nQ 25.921875 66.75 24.8125 61.03125 \nQ 23.921875 56.546875 36.375 54.203125 \nQ 46.140625 52.390625 50.828125 46.921875 \nQ 56.5 40.328125 53.859375 26.8125 \nQ 51.3125 13.875 43.171875 6.25 \nQ 34.96875 -1.421875 23.25 -1.421875 \nQ 11.578125 -1.421875 6.34375 6.25 \nQ 1.125 13.875 3.765625 27.296875 \nQ 5.671875 37.25 13.921875 45.3125 \nQ 17.140625 48.4375 21.140625 50.203125 \nQ 14.265625 54.046875 15.625 60.9375 \nQ 18.21875 74.21875 39.75 74.21875 \nQ 50.53125 74.21875 55.71875 70.796875 \nz\nM 27.390625 47.75 \nQ 23.828125 46.34375 20.40625 42.78125 \nQ 15.140625 37.25 13.234375 27.296875 \nQ 11.28125 17.390625 14.359375 11.8125 \nQ 17.484375 6.203125 24.75 6.203125 \nQ 31.9375 6.203125 37.203125 11.859375 \nQ 42.53125 17.53125 44.34375 26.8125 \nQ 46.1875 36.53125 42.671875 41.21875 \nQ 38.921875 46.234375 32.859375 46.78125 \nQ 29.78125 47.078125 27.390625 47.75 \nz\n\" id=\"DejaVuSans-Oblique-948\"/>\n     <path d=\"M 11.71875 12.40625 \nL 22.015625 12.40625 \nL 22.015625 4 \nL 14.015625 -11.625 \nL 7.71875 -11.625 \nL 11.71875 4 \nz\n\" id=\"DejaVuSans-44\"/>\n     <path id=\"DejaVuSans-32\"/>\n    </defs>\n    <g transform=\"translate(72.649006 26.45)scale(0.25 -0.25)\">\n     <use transform=\"translate(0 0.390625)\" xlink:href=\"#DejaVuSans-Oblique-946\"/>\n     <use transform=\"translate(63.818359 -16.015625)scale(0.7)\" xlink:href=\"#DejaVuSans-49\"/>\n     <use transform=\"translate(130.571289 0.390625)\" xlink:href=\"#DejaVuSans-61\"/>\n     <use transform=\"translate(233.842773 0.390625)\" xlink:href=\"#DejaVuSans-Oblique-946\"/>\n     <use transform=\"translate(317.143555 0.390625)\" xlink:href=\"#DejaVuSans-43\"/>\n     <use transform=\"translate(420.415039 0.390625)\" xlink:href=\"#DejaVuSans-Oblique-948\"/>\n     <use transform=\"translate(481.59668 0.390625)\" xlink:href=\"#DejaVuSans-44\"/>\n     <use transform=\"translate(513.383789 0.390625)\" xlink:href=\"#DejaVuSans-32\"/>\n     <use transform=\"translate(545.170898 0.390625)\" xlink:href=\"#DejaVuSans-Oblique-946\"/>\n     <use transform=\"translate(608.989258 -16.015625)scale(0.7)\" xlink:href=\"#DejaVuSans-8722\"/>\n     <use transform=\"translate(667.641602 -16.015625)scale(0.7)\" xlink:href=\"#DejaVuSans-49\"/>\n     <use transform=\"translate(734.394531 0.390625)\" xlink:href=\"#DejaVuSans-61\"/>\n     <use transform=\"translate(837.666016 0.390625)\" xlink:href=\"#DejaVuSans-Oblique-946\"/>\n     <use transform=\"translate(920.966797 0.390625)\" xlink:href=\"#DejaVuSans-8722\"/>\n     <use transform=\"translate(1024.238281 0.390625)\" xlink:href=\"#DejaVuSans-Oblique-948\"/>\n    </g>\n   </g>\n  </g>\n  <g id=\"axes_2\">\n   <g id=\"patch_7\">\n    <path d=\"M 421.453551 304.25 \nL 725.817187 304.25 \nL 725.817187 32.45 \nL 421.453551 32.45 \nz\n\" style=\"fill:#ffffff;\"/>\n   </g>\n   <g id=\"matplotlib.axis_3\">\n    <g id=\"xtick_33\">\n     <g id=\"line2d_74\">\n      <g>\n       <use style=\"stroke:#000000;stroke-width:0.8;\" x=\"435.288262\" xlink:href=\"#m271d348d23\" y=\"304.25\"/>\n      </g>\n     </g>\n     <g id=\"text_12\">\n      <!-- $\\mathdefault{10^{1}}$ -->\n      <g transform=\"translate(426.488262 318.848437)scale(0.1 -0.1)\">\n       <use transform=\"translate(0 0.684375)\" xlink:href=\"#DejaVuSans-49\"/>\n       <use transform=\"translate(63.623047 0.684375)\" xlink:href=\"#DejaVuSans-48\"/>\n       <use transform=\"translate(128.203125 38.965625)scale(0.7)\" xlink:href=\"#DejaVuSans-49\"/>\n      </g>\n     </g>\n    </g>\n    <g id=\"xtick_34\">\n     <g id=\"line2d_75\">\n      <g>\n       <use style=\"stroke:#000000;stroke-width:0.8;\" x=\"522.948812\" xlink:href=\"#m271d348d23\" y=\"304.25\"/>\n      </g>\n     </g>\n     <g id=\"text_13\">\n      <!-- $\\mathdefault{10^{2}}$ -->\n      <g transform=\"translate(514.148812 318.848437)scale(0.1 -0.1)\">\n       <use transform=\"translate(0 0.765625)\" xlink:href=\"#DejaVuSans-49\"/>\n       <use transform=\"translate(63.623047 0.765625)\" xlink:href=\"#DejaVuSans-48\"/>\n       <use transform=\"translate(128.203125 39.046875)scale(0.7)\" xlink:href=\"#DejaVuSans-50\"/>\n      </g>\n     </g>\n    </g>\n    <g id=\"xtick_35\">\n     <g id=\"line2d_76\">\n      <g>\n       <use style=\"stroke:#000000;stroke-width:0.8;\" x=\"610.609363\" xlink:href=\"#m271d348d23\" y=\"304.25\"/>\n      </g>\n     </g>\n     <g id=\"text_14\">\n      <!-- $\\mathdefault{10^{3}}$ -->\n      <g transform=\"translate(601.809363 318.848437)scale(0.1 -0.1)\">\n       <use transform=\"translate(0 0.765625)\" xlink:href=\"#DejaVuSans-49\"/>\n       <use transform=\"translate(63.623047 0.765625)\" xlink:href=\"#DejaVuSans-48\"/>\n       <use transform=\"translate(128.203125 39.046875)scale(0.7)\" xlink:href=\"#DejaVuSans-51\"/>\n      </g>\n     </g>\n    </g>\n    <g id=\"xtick_36\">\n     <g id=\"line2d_77\">\n      <g>\n       <use style=\"stroke:#000000;stroke-width:0.8;\" x=\"698.269913\" xlink:href=\"#m271d348d23\" y=\"304.25\"/>\n      </g>\n     </g>\n     <g id=\"text_15\">\n      <!-- $\\mathdefault{10^{4}}$ -->\n      <g transform=\"translate(689.469913 318.848437)scale(0.1 -0.1)\">\n       <use transform=\"translate(0 0.684375)\" xlink:href=\"#DejaVuSans-49\"/>\n       <use transform=\"translate(63.623047 0.684375)\" xlink:href=\"#DejaVuSans-48\"/>\n       <use transform=\"translate(128.203125 38.965625)scale(0.7)\" xlink:href=\"#DejaVuSans-52\"/>\n      </g>\n     </g>\n    </g>\n    <g id=\"xtick_37\">\n     <g id=\"line2d_78\">\n      <g>\n       <use style=\"stroke:#000000;stroke-width:0.6;\" x=\"421.709471\" xlink:href=\"#m68fd9011de\" y=\"304.25\"/>\n      </g>\n     </g>\n    </g>\n    <g id=\"xtick_38\">\n     <g id=\"line2d_79\">\n      <g>\n       <use style=\"stroke:#000000;stroke-width:0.6;\" x=\"426.793077\" xlink:href=\"#m68fd9011de\" y=\"304.25\"/>\n      </g>\n     </g>\n    </g>\n    <g id=\"xtick_39\">\n     <g id=\"line2d_80\">\n      <g>\n       <use style=\"stroke:#000000;stroke-width:0.6;\" x=\"431.277135\" xlink:href=\"#m68fd9011de\" y=\"304.25\"/>\n      </g>\n     </g>\n    </g>\n    <g id=\"xtick_40\">\n     <g id=\"line2d_81\">\n      <g>\n       <use style=\"stroke:#000000;stroke-width:0.6;\" x=\"461.676717\" xlink:href=\"#m68fd9011de\" y=\"304.25\"/>\n      </g>\n     </g>\n    </g>\n    <g id=\"xtick_41\">\n     <g id=\"line2d_82\">\n      <g>\n       <use style=\"stroke:#000000;stroke-width:0.6;\" x=\"477.112974\" xlink:href=\"#m68fd9011de\" y=\"304.25\"/>\n      </g>\n     </g>\n    </g>\n    <g id=\"xtick_42\">\n     <g id=\"line2d_83\">\n      <g>\n       <use style=\"stroke:#000000;stroke-width:0.6;\" x=\"488.065172\" xlink:href=\"#m68fd9011de\" y=\"304.25\"/>\n      </g>\n     </g>\n    </g>\n    <g id=\"xtick_43\">\n     <g id=\"line2d_84\">\n      <g>\n       <use style=\"stroke:#000000;stroke-width:0.6;\" x=\"496.560357\" xlink:href=\"#m68fd9011de\" y=\"304.25\"/>\n      </g>\n     </g>\n    </g>\n    <g id=\"xtick_44\">\n     <g id=\"line2d_85\">\n      <g>\n       <use style=\"stroke:#000000;stroke-width:0.6;\" x=\"503.501429\" xlink:href=\"#m68fd9011de\" y=\"304.25\"/>\n      </g>\n     </g>\n    </g>\n    <g id=\"xtick_45\">\n     <g id=\"line2d_86\">\n      <g>\n       <use style=\"stroke:#000000;stroke-width:0.6;\" x=\"509.370021\" xlink:href=\"#m68fd9011de\" y=\"304.25\"/>\n      </g>\n     </g>\n    </g>\n    <g id=\"xtick_46\">\n     <g id=\"line2d_87\">\n      <g>\n       <use style=\"stroke:#000000;stroke-width:0.6;\" x=\"514.453627\" xlink:href=\"#m68fd9011de\" y=\"304.25\"/>\n      </g>\n     </g>\n    </g>\n    <g id=\"xtick_47\">\n     <g id=\"line2d_88\">\n      <g>\n       <use style=\"stroke:#000000;stroke-width:0.6;\" x=\"518.937685\" xlink:href=\"#m68fd9011de\" y=\"304.25\"/>\n      </g>\n     </g>\n    </g>\n    <g id=\"xtick_48\">\n     <g id=\"line2d_89\">\n      <g>\n       <use style=\"stroke:#000000;stroke-width:0.6;\" x=\"549.337267\" xlink:href=\"#m68fd9011de\" y=\"304.25\"/>\n      </g>\n     </g>\n    </g>\n    <g id=\"xtick_49\">\n     <g id=\"line2d_90\">\n      <g>\n       <use style=\"stroke:#000000;stroke-width:0.6;\" x=\"564.773524\" xlink:href=\"#m68fd9011de\" y=\"304.25\"/>\n      </g>\n     </g>\n    </g>\n    <g id=\"xtick_50\">\n     <g id=\"line2d_91\">\n      <g>\n       <use style=\"stroke:#000000;stroke-width:0.6;\" x=\"575.725722\" xlink:href=\"#m68fd9011de\" y=\"304.25\"/>\n      </g>\n     </g>\n    </g>\n    <g id=\"xtick_51\">\n     <g id=\"line2d_92\">\n      <g>\n       <use style=\"stroke:#000000;stroke-width:0.6;\" x=\"584.220907\" xlink:href=\"#m68fd9011de\" y=\"304.25\"/>\n      </g>\n     </g>\n    </g>\n    <g id=\"xtick_52\">\n     <g id=\"line2d_93\">\n      <g>\n       <use style=\"stroke:#000000;stroke-width:0.6;\" x=\"591.161979\" xlink:href=\"#m68fd9011de\" y=\"304.25\"/>\n      </g>\n     </g>\n    </g>\n    <g id=\"xtick_53\">\n     <g id=\"line2d_94\">\n      <g>\n       <use style=\"stroke:#000000;stroke-width:0.6;\" x=\"597.030571\" xlink:href=\"#m68fd9011de\" y=\"304.25\"/>\n      </g>\n     </g>\n    </g>\n    <g id=\"xtick_54\">\n     <g id=\"line2d_95\">\n      <g>\n       <use style=\"stroke:#000000;stroke-width:0.6;\" x=\"602.114177\" xlink:href=\"#m68fd9011de\" y=\"304.25\"/>\n      </g>\n     </g>\n    </g>\n    <g id=\"xtick_55\">\n     <g id=\"line2d_96\">\n      <g>\n       <use style=\"stroke:#000000;stroke-width:0.6;\" x=\"606.598236\" xlink:href=\"#m68fd9011de\" y=\"304.25\"/>\n      </g>\n     </g>\n    </g>\n    <g id=\"xtick_56\">\n     <g id=\"line2d_97\">\n      <g>\n       <use style=\"stroke:#000000;stroke-width:0.6;\" x=\"636.997818\" xlink:href=\"#m68fd9011de\" y=\"304.25\"/>\n      </g>\n     </g>\n    </g>\n    <g id=\"xtick_57\">\n     <g id=\"line2d_98\">\n      <g>\n       <use style=\"stroke:#000000;stroke-width:0.6;\" x=\"652.434074\" xlink:href=\"#m68fd9011de\" y=\"304.25\"/>\n      </g>\n     </g>\n    </g>\n    <g id=\"xtick_58\">\n     <g id=\"line2d_99\">\n      <g>\n       <use style=\"stroke:#000000;stroke-width:0.6;\" x=\"663.386273\" xlink:href=\"#m68fd9011de\" y=\"304.25\"/>\n      </g>\n     </g>\n    </g>\n    <g id=\"xtick_59\">\n     <g id=\"line2d_100\">\n      <g>\n       <use style=\"stroke:#000000;stroke-width:0.6;\" x=\"671.881458\" xlink:href=\"#m68fd9011de\" y=\"304.25\"/>\n      </g>\n     </g>\n    </g>\n    <g id=\"xtick_60\">\n     <g id=\"line2d_101\">\n      <g>\n       <use style=\"stroke:#000000;stroke-width:0.6;\" x=\"678.822529\" xlink:href=\"#m68fd9011de\" y=\"304.25\"/>\n      </g>\n     </g>\n    </g>\n    <g id=\"xtick_61\">\n     <g id=\"line2d_102\">\n      <g>\n       <use style=\"stroke:#000000;stroke-width:0.6;\" x=\"684.691122\" xlink:href=\"#m68fd9011de\" y=\"304.25\"/>\n      </g>\n     </g>\n    </g>\n    <g id=\"xtick_62\">\n     <g id=\"line2d_103\">\n      <g>\n       <use style=\"stroke:#000000;stroke-width:0.6;\" x=\"689.774728\" xlink:href=\"#m68fd9011de\" y=\"304.25\"/>\n      </g>\n     </g>\n    </g>\n    <g id=\"xtick_63\">\n     <g id=\"line2d_104\">\n      <g>\n       <use style=\"stroke:#000000;stroke-width:0.6;\" x=\"694.258786\" xlink:href=\"#m68fd9011de\" y=\"304.25\"/>\n      </g>\n     </g>\n    </g>\n    <g id=\"xtick_64\">\n     <g id=\"line2d_105\">\n      <g>\n       <use style=\"stroke:#000000;stroke-width:0.6;\" x=\"724.658368\" xlink:href=\"#m68fd9011de\" y=\"304.25\"/>\n      </g>\n     </g>\n    </g>\n    <g id=\"text_16\">\n     <!-- nodes -->\n     <g transform=\"translate(551.009979 336.325781)scale(0.15 -0.15)\">\n      <use xlink:href=\"#DejaVuSans-110\"/>\n      <use x=\"63.378906\" xlink:href=\"#DejaVuSans-111\"/>\n      <use x=\"124.560547\" xlink:href=\"#DejaVuSans-100\"/>\n      <use x=\"188.037109\" xlink:href=\"#DejaVuSans-101\"/>\n      <use x=\"249.560547\" xlink:href=\"#DejaVuSans-115\"/>\n     </g>\n    </g>\n   </g>\n   <g id=\"matplotlib.axis_4\">\n    <g id=\"ytick_33\">\n     <g id=\"line2d_106\">\n      <g>\n       <use style=\"stroke:#000000;stroke-width:0.8;\" x=\"421.453551\" xlink:href=\"#mbd937a44ae\" y=\"290.611703\"/>\n      </g>\n     </g>\n     <g id=\"text_17\">\n      <!-- $\\mathdefault{10^{-2}}$ -->\n      <g transform=\"translate(390.953551 294.410922)scale(0.1 -0.1)\">\n       <use transform=\"translate(0 0.765625)\" xlink:href=\"#DejaVuSans-49\"/>\n       <use transform=\"translate(63.623047 0.765625)\" xlink:href=\"#DejaVuSans-48\"/>\n       <use transform=\"translate(128.203125 39.046875)scale(0.7)\" xlink:href=\"#DejaVuSans-8722\"/>\n       <use transform=\"translate(186.855469 39.046875)scale(0.7)\" xlink:href=\"#DejaVuSans-50\"/>\n      </g>\n     </g>\n    </g>\n    <g id=\"ytick_34\">\n     <g id=\"line2d_107\">\n      <g>\n       <use style=\"stroke:#000000;stroke-width:0.8;\" x=\"421.453551\" xlink:href=\"#mbd937a44ae\" y=\"235.52156\"/>\n      </g>\n     </g>\n     <g id=\"text_18\">\n      <!-- $\\mathdefault{10^{-1}}$ -->\n      <g transform=\"translate(390.953551 239.320779)scale(0.1 -0.1)\">\n       <use transform=\"translate(0 0.684375)\" xlink:href=\"#DejaVuSans-49\"/>\n       <use transform=\"translate(63.623047 0.684375)\" xlink:href=\"#DejaVuSans-48\"/>\n       <use transform=\"translate(128.203125 38.965625)scale(0.7)\" xlink:href=\"#DejaVuSans-8722\"/>\n       <use transform=\"translate(186.855469 38.965625)scale(0.7)\" xlink:href=\"#DejaVuSans-49\"/>\n      </g>\n     </g>\n    </g>\n    <g id=\"ytick_35\">\n     <g id=\"line2d_108\">\n      <g>\n       <use style=\"stroke:#000000;stroke-width:0.8;\" x=\"421.453551\" xlink:href=\"#mbd937a44ae\" y=\"180.431417\"/>\n      </g>\n     </g>\n     <g id=\"text_19\">\n      <!-- $\\mathdefault{10^{0}}$ -->\n      <g transform=\"translate(396.853551 184.230636)scale(0.1 -0.1)\">\n       <use transform=\"translate(0 0.765625)\" xlink:href=\"#DejaVuSans-49\"/>\n       <use transform=\"translate(63.623047 0.765625)\" xlink:href=\"#DejaVuSans-48\"/>\n       <use transform=\"translate(128.203125 39.046875)scale(0.7)\" xlink:href=\"#DejaVuSans-48\"/>\n      </g>\n     </g>\n    </g>\n    <g id=\"ytick_36\">\n     <g id=\"line2d_109\">\n      <g>\n       <use style=\"stroke:#000000;stroke-width:0.8;\" x=\"421.453551\" xlink:href=\"#mbd937a44ae\" y=\"125.341274\"/>\n      </g>\n     </g>\n     <g id=\"text_20\">\n      <!-- $\\mathdefault{10^{1}}$ -->\n      <g transform=\"translate(396.853551 129.140493)scale(0.1 -0.1)\">\n       <use transform=\"translate(0 0.684375)\" xlink:href=\"#DejaVuSans-49\"/>\n       <use transform=\"translate(63.623047 0.684375)\" xlink:href=\"#DejaVuSans-48\"/>\n       <use transform=\"translate(128.203125 38.965625)scale(0.7)\" xlink:href=\"#DejaVuSans-49\"/>\n      </g>\n     </g>\n    </g>\n    <g id=\"ytick_37\">\n     <g id=\"line2d_110\">\n      <g>\n       <use style=\"stroke:#000000;stroke-width:0.8;\" x=\"421.453551\" xlink:href=\"#mbd937a44ae\" y=\"70.251131\"/>\n      </g>\n     </g>\n     <g id=\"text_21\">\n      <!-- $\\mathdefault{10^{2}}$ -->\n      <g transform=\"translate(396.853551 74.05035)scale(0.1 -0.1)\">\n       <use transform=\"translate(0 0.765625)\" xlink:href=\"#DejaVuSans-49\"/>\n       <use transform=\"translate(63.623047 0.765625)\" xlink:href=\"#DejaVuSans-48\"/>\n       <use transform=\"translate(128.203125 39.046875)scale(0.7)\" xlink:href=\"#DejaVuSans-50\"/>\n      </g>\n     </g>\n    </g>\n    <g id=\"ytick_38\">\n     <g id=\"line2d_111\">\n      <g>\n       <use style=\"stroke:#000000;stroke-width:0.6;\" x=\"421.453551\" xlink:href=\"#mc86eb42f12\" y=\"302.833383\"/>\n      </g>\n     </g>\n    </g>\n    <g id=\"ytick_39\">\n     <g id=\"line2d_112\">\n      <g>\n       <use style=\"stroke:#000000;stroke-width:0.6;\" x=\"421.453551\" xlink:href=\"#mc86eb42f12\" y=\"299.145274\"/>\n      </g>\n     </g>\n    </g>\n    <g id=\"ytick_40\">\n     <g id=\"line2d_113\">\n      <g>\n       <use style=\"stroke:#000000;stroke-width:0.6;\" x=\"421.453551\" xlink:href=\"#mc86eb42f12\" y=\"295.95049\"/>\n      </g>\n     </g>\n    </g>\n    <g id=\"ytick_41\">\n     <g id=\"line2d_114\">\n      <g>\n       <use style=\"stroke:#000000;stroke-width:0.6;\" x=\"421.453551\" xlink:href=\"#mc86eb42f12\" y=\"293.13249\"/>\n      </g>\n     </g>\n    </g>\n    <g id=\"ytick_42\">\n     <g id=\"line2d_115\">\n      <g>\n       <use style=\"stroke:#000000;stroke-width:0.6;\" x=\"421.453551\" xlink:href=\"#mc86eb42f12\" y=\"274.027918\"/>\n      </g>\n     </g>\n    </g>\n    <g id=\"ytick_43\">\n     <g id=\"line2d_116\">\n      <g>\n       <use style=\"stroke:#000000;stroke-width:0.6;\" x=\"421.453551\" xlink:href=\"#mc86eb42f12\" y=\"264.327025\"/>\n      </g>\n     </g>\n    </g>\n    <g id=\"ytick_44\">\n     <g id=\"line2d_117\">\n      <g>\n       <use style=\"stroke:#000000;stroke-width:0.6;\" x=\"421.453551\" xlink:href=\"#mc86eb42f12\" y=\"257.444132\"/>\n      </g>\n     </g>\n    </g>\n    <g id=\"ytick_45\">\n     <g id=\"line2d_118\">\n      <g>\n       <use style=\"stroke:#000000;stroke-width:0.6;\" x=\"421.453551\" xlink:href=\"#mc86eb42f12\" y=\"252.105346\"/>\n      </g>\n     </g>\n    </g>\n    <g id=\"ytick_46\">\n     <g id=\"line2d_119\">\n      <g>\n       <use style=\"stroke:#000000;stroke-width:0.6;\" x=\"421.453551\" xlink:href=\"#mc86eb42f12\" y=\"247.743239\"/>\n      </g>\n     </g>\n    </g>\n    <g id=\"ytick_47\">\n     <g id=\"line2d_120\">\n      <g>\n       <use style=\"stroke:#000000;stroke-width:0.6;\" x=\"421.453551\" xlink:href=\"#mc86eb42f12\" y=\"244.055131\"/>\n      </g>\n     </g>\n    </g>\n    <g id=\"ytick_48\">\n     <g id=\"line2d_121\">\n      <g>\n       <use style=\"stroke:#000000;stroke-width:0.6;\" x=\"421.453551\" xlink:href=\"#mc86eb42f12\" y=\"240.860347\"/>\n      </g>\n     </g>\n    </g>\n    <g id=\"ytick_49\">\n     <g id=\"line2d_122\">\n      <g>\n       <use style=\"stroke:#000000;stroke-width:0.6;\" x=\"421.453551\" xlink:href=\"#mc86eb42f12\" y=\"238.042347\"/>\n      </g>\n     </g>\n    </g>\n    <g id=\"ytick_50\">\n     <g id=\"line2d_123\">\n      <g>\n       <use style=\"stroke:#000000;stroke-width:0.6;\" x=\"421.453551\" xlink:href=\"#mc86eb42f12\" y=\"218.937775\"/>\n      </g>\n     </g>\n    </g>\n    <g id=\"ytick_51\">\n     <g id=\"line2d_124\">\n      <g>\n       <use style=\"stroke:#000000;stroke-width:0.6;\" x=\"421.453551\" xlink:href=\"#mc86eb42f12\" y=\"209.236882\"/>\n      </g>\n     </g>\n    </g>\n    <g id=\"ytick_52\">\n     <g id=\"line2d_125\">\n      <g>\n       <use style=\"stroke:#000000;stroke-width:0.6;\" x=\"421.453551\" xlink:href=\"#mc86eb42f12\" y=\"202.353989\"/>\n      </g>\n     </g>\n    </g>\n    <g id=\"ytick_53\">\n     <g id=\"line2d_126\">\n      <g>\n       <use style=\"stroke:#000000;stroke-width:0.6;\" x=\"421.453551\" xlink:href=\"#mc86eb42f12\" y=\"197.015203\"/>\n      </g>\n     </g>\n    </g>\n    <g id=\"ytick_54\">\n     <g id=\"line2d_127\">\n      <g>\n       <use style=\"stroke:#000000;stroke-width:0.6;\" x=\"421.453551\" xlink:href=\"#mc86eb42f12\" y=\"192.653096\"/>\n      </g>\n     </g>\n    </g>\n    <g id=\"ytick_55\">\n     <g id=\"line2d_128\">\n      <g>\n       <use style=\"stroke:#000000;stroke-width:0.6;\" x=\"421.453551\" xlink:href=\"#mc86eb42f12\" y=\"188.964988\"/>\n      </g>\n     </g>\n    </g>\n    <g id=\"ytick_56\">\n     <g id=\"line2d_129\">\n      <g>\n       <use style=\"stroke:#000000;stroke-width:0.6;\" x=\"421.453551\" xlink:href=\"#mc86eb42f12\" y=\"185.770203\"/>\n      </g>\n     </g>\n    </g>\n    <g id=\"ytick_57\">\n     <g id=\"line2d_130\">\n      <g>\n       <use style=\"stroke:#000000;stroke-width:0.6;\" x=\"421.453551\" xlink:href=\"#mc86eb42f12\" y=\"182.952204\"/>\n      </g>\n     </g>\n    </g>\n    <g id=\"ytick_58\">\n     <g id=\"line2d_131\">\n      <g>\n       <use style=\"stroke:#000000;stroke-width:0.6;\" x=\"421.453551\" xlink:href=\"#mc86eb42f12\" y=\"163.847631\"/>\n      </g>\n     </g>\n    </g>\n    <g id=\"ytick_59\">\n     <g id=\"line2d_132\">\n      <g>\n       <use style=\"stroke:#000000;stroke-width:0.6;\" x=\"421.453551\" xlink:href=\"#mc86eb42f12\" y=\"154.146739\"/>\n      </g>\n     </g>\n    </g>\n    <g id=\"ytick_60\">\n     <g id=\"line2d_133\">\n      <g>\n       <use style=\"stroke:#000000;stroke-width:0.6;\" x=\"421.453551\" xlink:href=\"#mc86eb42f12\" y=\"147.263846\"/>\n      </g>\n     </g>\n    </g>\n    <g id=\"ytick_61\">\n     <g id=\"line2d_134\">\n      <g>\n       <use style=\"stroke:#000000;stroke-width:0.6;\" x=\"421.453551\" xlink:href=\"#mc86eb42f12\" y=\"141.925059\"/>\n      </g>\n     </g>\n    </g>\n    <g id=\"ytick_62\">\n     <g id=\"line2d_135\">\n      <g>\n       <use style=\"stroke:#000000;stroke-width:0.6;\" x=\"421.453551\" xlink:href=\"#mc86eb42f12\" y=\"137.562953\"/>\n      </g>\n     </g>\n    </g>\n    <g id=\"ytick_63\">\n     <g id=\"line2d_136\">\n      <g>\n       <use style=\"stroke:#000000;stroke-width:0.6;\" x=\"421.453551\" xlink:href=\"#mc86eb42f12\" y=\"133.874845\"/>\n      </g>\n     </g>\n    </g>\n    <g id=\"ytick_64\">\n     <g id=\"line2d_137\">\n      <g>\n       <use style=\"stroke:#000000;stroke-width:0.6;\" x=\"421.453551\" xlink:href=\"#mc86eb42f12\" y=\"130.68006\"/>\n      </g>\n     </g>\n    </g>\n    <g id=\"ytick_65\">\n     <g id=\"line2d_138\">\n      <g>\n       <use style=\"stroke:#000000;stroke-width:0.6;\" x=\"421.453551\" xlink:href=\"#mc86eb42f12\" y=\"127.862061\"/>\n      </g>\n     </g>\n    </g>\n    <g id=\"ytick_66\">\n     <g id=\"line2d_139\">\n      <g>\n       <use style=\"stroke:#000000;stroke-width:0.6;\" x=\"421.453551\" xlink:href=\"#mc86eb42f12\" y=\"108.757488\"/>\n      </g>\n     </g>\n    </g>\n    <g id=\"ytick_67\">\n     <g id=\"line2d_140\">\n      <g>\n       <use style=\"stroke:#000000;stroke-width:0.6;\" x=\"421.453551\" xlink:href=\"#mc86eb42f12\" y=\"99.056596\"/>\n      </g>\n     </g>\n    </g>\n    <g id=\"ytick_68\">\n     <g id=\"line2d_141\">\n      <g>\n       <use style=\"stroke:#000000;stroke-width:0.6;\" x=\"421.453551\" xlink:href=\"#mc86eb42f12\" y=\"92.173703\"/>\n      </g>\n     </g>\n    </g>\n    <g id=\"ytick_69\">\n     <g id=\"line2d_142\">\n      <g>\n       <use style=\"stroke:#000000;stroke-width:0.6;\" x=\"421.453551\" xlink:href=\"#mc86eb42f12\" y=\"86.834916\"/>\n      </g>\n     </g>\n    </g>\n    <g id=\"ytick_70\">\n     <g id=\"line2d_143\">\n      <g>\n       <use style=\"stroke:#000000;stroke-width:0.6;\" x=\"421.453551\" xlink:href=\"#mc86eb42f12\" y=\"82.47281\"/>\n      </g>\n     </g>\n    </g>\n    <g id=\"ytick_71\">\n     <g id=\"line2d_144\">\n      <g>\n       <use style=\"stroke:#000000;stroke-width:0.6;\" x=\"421.453551\" xlink:href=\"#mc86eb42f12\" y=\"78.784702\"/>\n      </g>\n     </g>\n    </g>\n    <g id=\"ytick_72\">\n     <g id=\"line2d_145\">\n      <g>\n       <use style=\"stroke:#000000;stroke-width:0.6;\" x=\"421.453551\" xlink:href=\"#mc86eb42f12\" y=\"75.589917\"/>\n      </g>\n     </g>\n    </g>\n    <g id=\"ytick_73\">\n     <g id=\"line2d_146\">\n      <g>\n       <use style=\"stroke:#000000;stroke-width:0.6;\" x=\"421.453551\" xlink:href=\"#mc86eb42f12\" y=\"72.771918\"/>\n      </g>\n     </g>\n    </g>\n    <g id=\"ytick_74\">\n     <g id=\"line2d_147\">\n      <g>\n       <use style=\"stroke:#000000;stroke-width:0.6;\" x=\"421.453551\" xlink:href=\"#mc86eb42f12\" y=\"53.667345\"/>\n      </g>\n     </g>\n    </g>\n    <g id=\"ytick_75\">\n     <g id=\"line2d_148\">\n      <g>\n       <use style=\"stroke:#000000;stroke-width:0.6;\" x=\"421.453551\" xlink:href=\"#mc86eb42f12\" y=\"43.966453\"/>\n      </g>\n     </g>\n    </g>\n    <g id=\"ytick_76\">\n     <g id=\"line2d_149\">\n      <g>\n       <use style=\"stroke:#000000;stroke-width:0.6;\" x=\"421.453551\" xlink:href=\"#mc86eb42f12\" y=\"37.08356\"/>\n      </g>\n     </g>\n    </g>\n    <g id=\"text_22\">\n     <!-- MSE -->\n     <g transform=\"translate(383.83402 184.321484)rotate(-90)scale(0.15 -0.15)\">\n      <use xlink:href=\"#DejaVuSans-77\"/>\n      <use x=\"86.279297\" xlink:href=\"#DejaVuSans-83\"/>\n      <use x=\"149.755859\" xlink:href=\"#DejaVuSans-69\"/>\n     </g>\n    </g>\n   </g>\n   <g id=\"LineCollection_10\">\n    <path clip-path=\"url(#pc48627ee9b)\" d=\"M 435.288262 148.281909 \nL 435.288262 136.820537 \n\" style=\"fill:none;stroke:#000000;stroke-opacity:0.3;stroke-width:4;\"/>\n    <path clip-path=\"url(#pc48627ee9b)\" d=\"M 488.065172 166.270593 \nL 488.065172 159.955366 \n\" style=\"fill:none;stroke:#000000;stroke-opacity:0.3;stroke-width:4;\"/>\n    <path clip-path=\"url(#pc48627ee9b)\" d=\"M 540.842082 164.68521 \nL 540.842082 160.106875 \n\" style=\"fill:none;stroke:#000000;stroke-opacity:0.3;stroke-width:4;\"/>\n    <path clip-path=\"url(#pc48627ee9b)\" d=\"M 593.618992 153.838876 \nL 593.618992 150.596025 \n\" style=\"fill:none;stroke:#000000;stroke-opacity:0.3;stroke-width:4;\"/>\n    <path clip-path=\"url(#pc48627ee9b)\" d=\"M 646.395903 147.841621 \nL 646.395903 145.158355 \n\" style=\"fill:none;stroke:#000000;stroke-opacity:0.3;stroke-width:4;\"/>\n    <path clip-path=\"url(#pc48627ee9b)\" d=\"M 699.172813 146.767017 \nL 699.172813 144.31455 \n\" style=\"fill:none;stroke:#000000;stroke-opacity:0.3;stroke-width:4;\"/>\n   </g>\n   <g id=\"LineCollection_11\">\n    <path clip-path=\"url(#pc48627ee9b)\" d=\"M 442.229333 161.497153 \nL 442.229333 150.169854 \n\" style=\"fill:none;stroke:#ff0000;stroke-opacity:0.3;stroke-width:4;\"/>\n    <path clip-path=\"url(#pc48627ee9b)\" d=\"M 495.006244 174.231184 \nL 495.006244 168.209545 \n\" style=\"fill:none;stroke:#ff0000;stroke-opacity:0.3;stroke-width:4;\"/>\n    <path clip-path=\"url(#pc48627ee9b)\" d=\"M 547.783154 179.708659 \nL 547.783154 174.35609 \n\" style=\"fill:none;stroke:#ff0000;stroke-opacity:0.3;stroke-width:4;\"/>\n    <path clip-path=\"url(#pc48627ee9b)\" d=\"M 600.560064 183.527853 \nL 600.560064 178.569459 \n\" style=\"fill:none;stroke:#ff0000;stroke-opacity:0.3;stroke-width:4;\"/>\n    <path clip-path=\"url(#pc48627ee9b)\" d=\"M 653.336974 193.21105 \nL 653.336974 188.030374 \n\" style=\"fill:none;stroke:#ff0000;stroke-opacity:0.3;stroke-width:4;\"/>\n    <path clip-path=\"url(#pc48627ee9b)\" d=\"M 706.113884 205.640734 \nL 706.113884 200.106615 \n\" style=\"fill:none;stroke:#ff0000;stroke-opacity:0.3;stroke-width:4;\"/>\n   </g>\n   <g id=\"LineCollection_12\">\n    <path clip-path=\"url(#pc48627ee9b)\" d=\"M 448.097926 159.36163 \nL 448.097926 149.442113 \n\" style=\"fill:none;stroke:#008000;stroke-opacity:0.3;stroke-width:4;\"/>\n    <path clip-path=\"url(#pc48627ee9b)\" d=\"M 500.874836 174.024413 \nL 500.874836 168.974659 \n\" style=\"fill:none;stroke:#008000;stroke-opacity:0.3;stroke-width:4;\"/>\n    <path clip-path=\"url(#pc48627ee9b)\" d=\"M 553.651746 182.194977 \nL 553.651746 177.932694 \n\" style=\"fill:none;stroke:#008000;stroke-opacity:0.3;stroke-width:4;\"/>\n    <path clip-path=\"url(#pc48627ee9b)\" d=\"M 606.428656 195.082379 \nL 606.428656 190.735103 \n\" style=\"fill:none;stroke:#008000;stroke-opacity:0.3;stroke-width:4;\"/>\n    <path clip-path=\"url(#pc48627ee9b)\" d=\"M 659.205567 230.007193 \nL 659.205567 223.160319 \n\" style=\"fill:none;stroke:#008000;stroke-opacity:0.3;stroke-width:4;\"/>\n    <path clip-path=\"url(#pc48627ee9b)\" d=\"M 711.982477 291.895455 \nL 711.982477 282.489996 \n\" style=\"fill:none;stroke:#008000;stroke-opacity:0.3;stroke-width:4;\"/>\n   </g>\n   <g id=\"LineCollection_13\">\n    <path clip-path=\"url(#pc48627ee9b)\" d=\"M 435.288262 92.230319 \nL 435.288262 77.651863 \n\" style=\"fill:none;stroke:#000000;stroke-opacity:0.5;stroke-width:2;\"/>\n    <path clip-path=\"url(#pc48627ee9b)\" d=\"M 488.065172 132.636986 \nL 488.065172 119.239909 \n\" style=\"fill:none;stroke:#000000;stroke-opacity:0.5;stroke-width:2;\"/>\n    <path clip-path=\"url(#pc48627ee9b)\" d=\"M 540.842082 160.246824 \nL 540.842082 156.09708 \n\" style=\"fill:none;stroke:#000000;stroke-opacity:0.5;stroke-width:2;\"/>\n    <path clip-path=\"url(#pc48627ee9b)\" d=\"M 593.618992 153.580945 \nL 593.618992 150.194075 \n\" style=\"fill:none;stroke:#000000;stroke-opacity:0.5;stroke-width:2;\"/>\n    <path clip-path=\"url(#pc48627ee9b)\" d=\"M 646.395903 147.839174 \nL 646.395903 145.078223 \n\" style=\"fill:none;stroke:#000000;stroke-opacity:0.5;stroke-width:2;\"/>\n    <path clip-path=\"url(#pc48627ee9b)\" d=\"M 699.172813 146.812014 \nL 699.172813 144.276246 \n\" style=\"fill:none;stroke:#000000;stroke-opacity:0.5;stroke-width:2;\"/>\n   </g>\n   <g id=\"LineCollection_14\">\n    <path clip-path=\"url(#pc48627ee9b)\" d=\"M 442.229333 93.082784 \nL 442.229333 78.459317 \n\" style=\"fill:none;stroke:#ff0000;stroke-opacity:0.5;stroke-width:2;\"/>\n    <path clip-path=\"url(#pc48627ee9b)\" d=\"M 495.006244 134.30347 \nL 495.006244 120.470754 \n\" style=\"fill:none;stroke:#ff0000;stroke-opacity:0.5;stroke-width:2;\"/>\n    <path clip-path=\"url(#pc48627ee9b)\" d=\"M 547.783154 171.852 \nL 547.783154 166.63276 \n\" style=\"fill:none;stroke:#ff0000;stroke-opacity:0.5;stroke-width:2;\"/>\n    <path clip-path=\"url(#pc48627ee9b)\" d=\"M 600.560064 182.132083 \nL 600.560064 177.328275 \n\" style=\"fill:none;stroke:#ff0000;stroke-opacity:0.5;stroke-width:2;\"/>\n    <path clip-path=\"url(#pc48627ee9b)\" d=\"M 653.336974 192.790997 \nL 653.336974 187.883274 \n\" style=\"fill:none;stroke:#ff0000;stroke-opacity:0.5;stroke-width:2;\"/>\n    <path clip-path=\"url(#pc48627ee9b)\" d=\"M 706.113884 205.46877 \nL 706.113884 200.279671 \n\" style=\"fill:none;stroke:#ff0000;stroke-opacity:0.5;stroke-width:2;\"/>\n   </g>\n   <g id=\"LineCollection_15\">\n    <path clip-path=\"url(#pc48627ee9b)\" d=\"M 448.097926 93.087928 \nL 448.097926 78.825418 \n\" style=\"fill:none;stroke:#008000;stroke-opacity:0.5;stroke-width:2;\"/>\n    <path clip-path=\"url(#pc48627ee9b)\" d=\"M 500.874836 135.100002 \nL 500.874836 121.643508 \n\" style=\"fill:none;stroke:#008000;stroke-opacity:0.5;stroke-width:2;\"/>\n    <path clip-path=\"url(#pc48627ee9b)\" d=\"M 553.651746 174.78503 \nL 553.651746 170.50911 \n\" style=\"fill:none;stroke:#008000;stroke-opacity:0.5;stroke-width:2;\"/>\n    <path clip-path=\"url(#pc48627ee9b)\" d=\"M 606.428656 193.660066 \nL 606.428656 189.299866 \n\" style=\"fill:none;stroke:#008000;stroke-opacity:0.5;stroke-width:2;\"/>\n    <path clip-path=\"url(#pc48627ee9b)\" d=\"M 659.205567 229.138411 \nL 659.205567 222.901007 \n\" style=\"fill:none;stroke:#008000;stroke-opacity:0.5;stroke-width:2;\"/>\n    <path clip-path=\"url(#pc48627ee9b)\" d=\"M 711.982477 291.171809 \nL 711.982477 282.033122 \n\" style=\"fill:none;stroke:#008000;stroke-opacity:0.5;stroke-width:2;\"/>\n   </g>\n   <g id=\"LineCollection_16\">\n    <path clip-path=\"url(#pc48627ee9b)\" d=\"M 435.288262 59.729183 \nL 435.288262 44.804545 \n\" style=\"fill:none;stroke:#000000;\"/>\n    <path clip-path=\"url(#pc48627ee9b)\" d=\"M 488.065172 103.092684 \nL 488.065172 88.870163 \n\" style=\"fill:none;stroke:#000000;\"/>\n    <path clip-path=\"url(#pc48627ee9b)\" d=\"M 540.842082 150.898417 \nL 540.842082 145.811167 \n\" style=\"fill:none;stroke:#000000;\"/>\n    <path clip-path=\"url(#pc48627ee9b)\" d=\"M 593.618992 152.58759 \nL 593.618992 149.300428 \n\" style=\"fill:none;stroke:#000000;\"/>\n    <path clip-path=\"url(#pc48627ee9b)\" d=\"M 646.395903 147.910444 \nL 646.395903 145.123951 \n\" style=\"fill:none;stroke:#000000;\"/>\n    <path clip-path=\"url(#pc48627ee9b)\" d=\"M 699.172813 146.925664 \nL 699.172813 144.419239 \n\" style=\"fill:none;stroke:#000000;\"/>\n   </g>\n   <g id=\"LineCollection_17\">\n    <path clip-path=\"url(#pc48627ee9b)\" d=\"M 442.229333 59.886181 \nL 442.229333 45.133223 \n\" style=\"fill:none;stroke:#ff0000;\"/>\n    <path clip-path=\"url(#pc48627ee9b)\" d=\"M 495.006244 103.733776 \nL 495.006244 89.148758 \n\" style=\"fill:none;stroke:#ff0000;\"/>\n    <path clip-path=\"url(#pc48627ee9b)\" d=\"M 547.783154 157.801946 \nL 547.783154 151.806749 \n\" style=\"fill:none;stroke:#ff0000;\"/>\n    <path clip-path=\"url(#pc48627ee9b)\" d=\"M 600.560064 177.874887 \nL 600.560064 173.62196 \n\" style=\"fill:none;stroke:#ff0000;\"/>\n    <path clip-path=\"url(#pc48627ee9b)\" d=\"M 653.336974 191.476336 \nL 653.336974 186.770185 \n\" style=\"fill:none;stroke:#ff0000;\"/>\n    <path clip-path=\"url(#pc48627ee9b)\" d=\"M 706.113884 205.088374 \nL 706.113884 199.777748 \n\" style=\"fill:none;stroke:#ff0000;\"/>\n   </g>\n   <g id=\"LineCollection_18\">\n    <path clip-path=\"url(#pc48627ee9b)\" d=\"M 448.097926 60.08194 \nL 448.097926 45.377369 \n\" style=\"fill:none;stroke:#008000;\"/>\n    <path clip-path=\"url(#pc48627ee9b)\" d=\"M 500.874836 104.607673 \nL 500.874836 90.267664 \n\" style=\"fill:none;stroke:#008000;\"/>\n    <path clip-path=\"url(#pc48627ee9b)\" d=\"M 553.651746 161.187252 \nL 553.651746 155.502392 \n\" style=\"fill:none;stroke:#008000;\"/>\n    <path clip-path=\"url(#pc48627ee9b)\" d=\"M 606.428656 189.217871 \nL 606.428656 185.387065 \n\" style=\"fill:none;stroke:#008000;\"/>\n    <path clip-path=\"url(#pc48627ee9b)\" d=\"M 659.205567 227.561961 \nL 659.205567 221.449352 \n\" style=\"fill:none;stroke:#008000;\"/>\n    <path clip-path=\"url(#pc48627ee9b)\" d=\"M 711.982477 290.223657 \nL 711.982477 280.670986 \n\" style=\"fill:none;stroke:#008000;\"/>\n   </g>\n   <g id=\"line2d_150\">\n    <path clip-path=\"url(#pc48627ee9b)\" d=\"M 435.288262 141.871369 \nL 488.065172 162.905214 \nL 540.842082 162.286696 \nL 593.618992 152.16255 \nL 646.395903 146.462391 \nL 699.172813 145.509374 \n\" style=\"fill:none;stroke:#000000;stroke-linecap:square;stroke-opacity:0.3;stroke-width:4;\"/>\n    <g clip-path=\"url(#pc48627ee9b)\">\n     <use style=\"fill-opacity:0.3;stroke:#000000;stroke-linejoin:bevel;stroke-opacity:0.3;\" x=\"435.288262\" xlink:href=\"#m91e6da0a1a\" y=\"141.871369\"/>\n     <use style=\"fill-opacity:0.3;stroke:#000000;stroke-linejoin:bevel;stroke-opacity:0.3;\" x=\"488.065172\" xlink:href=\"#m91e6da0a1a\" y=\"162.905214\"/>\n     <use style=\"fill-opacity:0.3;stroke:#000000;stroke-linejoin:bevel;stroke-opacity:0.3;\" x=\"540.842082\" xlink:href=\"#m91e6da0a1a\" y=\"162.286696\"/>\n     <use style=\"fill-opacity:0.3;stroke:#000000;stroke-linejoin:bevel;stroke-opacity:0.3;\" x=\"593.618992\" xlink:href=\"#m91e6da0a1a\" y=\"152.16255\"/>\n     <use style=\"fill-opacity:0.3;stroke:#000000;stroke-linejoin:bevel;stroke-opacity:0.3;\" x=\"646.395903\" xlink:href=\"#m91e6da0a1a\" y=\"146.462391\"/>\n     <use style=\"fill-opacity:0.3;stroke:#000000;stroke-linejoin:bevel;stroke-opacity:0.3;\" x=\"699.172813\" xlink:href=\"#m91e6da0a1a\" y=\"145.509374\"/>\n    </g>\n   </g>\n   <g id=\"line2d_151\">\n    <path clip-path=\"url(#pc48627ee9b)\" d=\"M 442.229333 155.169318 \nL 495.006244 171.031418 \nL 547.783154 176.883001 \nL 600.560064 180.920435 \nL 653.336974 190.48076 \nL 706.113884 202.714019 \n\" style=\"fill:none;stroke:#ff0000;stroke-linecap:square;stroke-opacity:0.3;stroke-width:4;\"/>\n    <g clip-path=\"url(#pc48627ee9b)\">\n     <use style=\"fill:#ff0000;fill-opacity:0.3;stroke:#ff0000;stroke-opacity:0.3;\" x=\"442.229333\" xlink:href=\"#mb89d4c01a1\" y=\"155.169318\"/>\n     <use style=\"fill:#ff0000;fill-opacity:0.3;stroke:#ff0000;stroke-opacity:0.3;\" x=\"495.006244\" xlink:href=\"#mb89d4c01a1\" y=\"171.031418\"/>\n     <use style=\"fill:#ff0000;fill-opacity:0.3;stroke:#ff0000;stroke-opacity:0.3;\" x=\"547.783154\" xlink:href=\"#mb89d4c01a1\" y=\"176.883001\"/>\n     <use style=\"fill:#ff0000;fill-opacity:0.3;stroke:#ff0000;stroke-opacity:0.3;\" x=\"600.560064\" xlink:href=\"#mb89d4c01a1\" y=\"180.920435\"/>\n     <use style=\"fill:#ff0000;fill-opacity:0.3;stroke:#ff0000;stroke-opacity:0.3;\" x=\"653.336974\" xlink:href=\"#mb89d4c01a1\" y=\"190.48076\"/>\n     <use style=\"fill:#ff0000;fill-opacity:0.3;stroke:#ff0000;stroke-opacity:0.3;\" x=\"706.113884\" xlink:href=\"#mb89d4c01a1\" y=\"202.714019\"/>\n    </g>\n   </g>\n   <g id=\"line2d_152\">\n    <path clip-path=\"url(#pc48627ee9b)\" d=\"M 448.097926 153.891429 \nL 500.874836 171.366555 \nL 553.651746 179.969045 \nL 606.428656 192.810138 \nL 659.205567 226.33966 \nL 711.982477 286.73349 \n\" style=\"fill:none;stroke:#008000;stroke-linecap:square;stroke-opacity:0.3;stroke-width:4;\"/>\n    <g clip-path=\"url(#pc48627ee9b)\">\n     <use style=\"fill:#008000;fill-opacity:0.3;stroke:#008000;stroke-opacity:0.3;\" x=\"448.097926\" xlink:href=\"#m9bc4f71135\" y=\"153.891429\"/>\n     <use style=\"fill:#008000;fill-opacity:0.3;stroke:#008000;stroke-opacity:0.3;\" x=\"500.874836\" xlink:href=\"#m9bc4f71135\" y=\"171.366555\"/>\n     <use style=\"fill:#008000;fill-opacity:0.3;stroke:#008000;stroke-opacity:0.3;\" x=\"553.651746\" xlink:href=\"#m9bc4f71135\" y=\"179.969045\"/>\n     <use style=\"fill:#008000;fill-opacity:0.3;stroke:#008000;stroke-opacity:0.3;\" x=\"606.428656\" xlink:href=\"#m9bc4f71135\" y=\"192.810138\"/>\n     <use style=\"fill:#008000;fill-opacity:0.3;stroke:#008000;stroke-opacity:0.3;\" x=\"659.205567\" xlink:href=\"#m9bc4f71135\" y=\"226.33966\"/>\n     <use style=\"fill:#008000;fill-opacity:0.3;stroke:#008000;stroke-opacity:0.3;\" x=\"711.982477\" xlink:href=\"#m9bc4f71135\" y=\"286.73349\"/>\n    </g>\n   </g>\n   <g id=\"line2d_153\">\n    <path clip-path=\"url(#pc48627ee9b)\" d=\"M 435.288262 83.847467 \nL 488.065172 125.012731 \nL 540.842082 158.082095 \nL 593.618992 151.827629 \nL 646.395903 146.418894 \nL 699.172813 145.510551 \n\" style=\"fill:none;stroke:#000000;stroke-dasharray:7.4,3.2;stroke-dashoffset:0;stroke-opacity:0.5;stroke-width:2;\"/>\n    <g clip-path=\"url(#pc48627ee9b)\">\n     <use style=\"fill-opacity:0.5;stroke:#000000;stroke-linejoin:bevel;stroke-opacity:0.5;\" x=\"435.288262\" xlink:href=\"#mb1bfb15360\" y=\"83.847467\"/>\n     <use style=\"fill-opacity:0.5;stroke:#000000;stroke-linejoin:bevel;stroke-opacity:0.5;\" x=\"488.065172\" xlink:href=\"#mb1bfb15360\" y=\"125.012731\"/>\n     <use style=\"fill-opacity:0.5;stroke:#000000;stroke-linejoin:bevel;stroke-opacity:0.5;\" x=\"540.842082\" xlink:href=\"#mb1bfb15360\" y=\"158.082095\"/>\n     <use style=\"fill-opacity:0.5;stroke:#000000;stroke-linejoin:bevel;stroke-opacity:0.5;\" x=\"593.618992\" xlink:href=\"#mb1bfb15360\" y=\"151.827629\"/>\n     <use style=\"fill-opacity:0.5;stroke:#000000;stroke-linejoin:bevel;stroke-opacity:0.5;\" x=\"646.395903\" xlink:href=\"#mb1bfb15360\" y=\"146.418894\"/>\n     <use style=\"fill-opacity:0.5;stroke:#000000;stroke-linejoin:bevel;stroke-opacity:0.5;\" x=\"699.172813\" xlink:href=\"#mb1bfb15360\" y=\"145.510551\"/>\n    </g>\n   </g>\n   <g id=\"line2d_154\">\n    <path clip-path=\"url(#pc48627ee9b)\" d=\"M 442.229333 84.670765 \nL 495.006244 126.40104 \nL 547.783154 169.100341 \nL 600.560064 179.609816 \nL 653.336974 190.211517 \nL 706.113884 202.733815 \n\" style=\"fill:none;stroke:#ff0000;stroke-dasharray:7.4,3.2;stroke-dashoffset:0;stroke-opacity:0.5;stroke-width:2;\"/>\n    <g clip-path=\"url(#pc48627ee9b)\">\n     <use style=\"fill:#ff0000;fill-opacity:0.5;stroke:#ff0000;stroke-opacity:0.5;\" x=\"442.229333\" xlink:href=\"#m5561f494fb\" y=\"84.670765\"/>\n     <use style=\"fill:#ff0000;fill-opacity:0.5;stroke:#ff0000;stroke-opacity:0.5;\" x=\"495.006244\" xlink:href=\"#m5561f494fb\" y=\"126.40104\"/>\n     <use style=\"fill:#ff0000;fill-opacity:0.5;stroke:#ff0000;stroke-opacity:0.5;\" x=\"547.783154\" xlink:href=\"#m5561f494fb\" y=\"169.100341\"/>\n     <use style=\"fill:#ff0000;fill-opacity:0.5;stroke:#ff0000;stroke-opacity:0.5;\" x=\"600.560064\" xlink:href=\"#m5561f494fb\" y=\"179.609816\"/>\n     <use style=\"fill:#ff0000;fill-opacity:0.5;stroke:#ff0000;stroke-opacity:0.5;\" x=\"653.336974\" xlink:href=\"#m5561f494fb\" y=\"190.211517\"/>\n     <use style=\"fill:#ff0000;fill-opacity:0.5;stroke:#ff0000;stroke-opacity:0.5;\" x=\"706.113884\" xlink:href=\"#m5561f494fb\" y=\"202.733815\"/>\n    </g>\n   </g>\n   <g id=\"line2d_155\">\n    <path clip-path=\"url(#pc48627ee9b)\" d=\"M 448.097926 84.909266 \nL 500.874836 127.437914 \nL 553.651746 172.551674 \nL 606.428656 191.380777 \nL 659.205567 225.817019 \nL 711.982477 286.168758 \n\" style=\"fill:none;stroke:#008000;stroke-dasharray:7.4,3.2;stroke-dashoffset:0;stroke-opacity:0.5;stroke-width:2;\"/>\n    <g clip-path=\"url(#pc48627ee9b)\">\n     <use style=\"fill:#008000;fill-opacity:0.5;stroke:#008000;stroke-opacity:0.5;\" x=\"448.097926\" xlink:href=\"#mfe9d3b5796\" y=\"84.909266\"/>\n     <use style=\"fill:#008000;fill-opacity:0.5;stroke:#008000;stroke-opacity:0.5;\" x=\"500.874836\" xlink:href=\"#mfe9d3b5796\" y=\"127.437914\"/>\n     <use style=\"fill:#008000;fill-opacity:0.5;stroke:#008000;stroke-opacity:0.5;\" x=\"553.651746\" xlink:href=\"#mfe9d3b5796\" y=\"172.551674\"/>\n     <use style=\"fill:#008000;fill-opacity:0.5;stroke:#008000;stroke-opacity:0.5;\" x=\"606.428656\" xlink:href=\"#mfe9d3b5796\" y=\"191.380777\"/>\n     <use style=\"fill:#008000;fill-opacity:0.5;stroke:#008000;stroke-opacity:0.5;\" x=\"659.205567\" xlink:href=\"#mfe9d3b5796\" y=\"225.817019\"/>\n     <use style=\"fill:#008000;fill-opacity:0.5;stroke:#008000;stroke-opacity:0.5;\" x=\"711.982477\" xlink:href=\"#mfe9d3b5796\" y=\"286.168758\"/>\n    </g>\n   </g>\n   <g id=\"line2d_156\">\n    <path clip-path=\"url(#pc48627ee9b)\" d=\"M 435.288262 51.121508 \nL 488.065172 94.939797 \nL 540.842082 148.219833 \nL 593.618992 150.8876 \nL 646.395903 146.476654 \nL 699.172813 145.639645 \n\" style=\"fill:none;stroke:#000000;stroke-dasharray:1,1.65;stroke-dashoffset:0;\"/>\n    <g clip-path=\"url(#pc48627ee9b)\">\n     <use style=\"stroke:#000000;stroke-linejoin:bevel;\" x=\"435.288262\" xlink:href=\"#me4e3acfb8e\" y=\"51.121508\"/>\n     <use style=\"stroke:#000000;stroke-linejoin:bevel;\" x=\"488.065172\" xlink:href=\"#me4e3acfb8e\" y=\"94.939797\"/>\n     <use style=\"stroke:#000000;stroke-linejoin:bevel;\" x=\"540.842082\" xlink:href=\"#me4e3acfb8e\" y=\"148.219833\"/>\n     <use style=\"stroke:#000000;stroke-linejoin:bevel;\" x=\"593.618992\" xlink:href=\"#me4e3acfb8e\" y=\"150.8876\"/>\n     <use style=\"stroke:#000000;stroke-linejoin:bevel;\" x=\"646.395903\" xlink:href=\"#me4e3acfb8e\" y=\"146.476654\"/>\n     <use style=\"stroke:#000000;stroke-linejoin:bevel;\" x=\"699.172813\" xlink:href=\"#me4e3acfb8e\" y=\"145.639645\"/>\n    </g>\n   </g>\n   <g id=\"line2d_157\">\n    <path clip-path=\"url(#pc48627ee9b)\" d=\"M 442.229333 51.390143 \nL 495.006244 95.346673 \nL 547.783154 154.617053 \nL 600.560064 175.654049 \nL 653.336974 189.007733 \nL 706.113884 202.286015 \n\" style=\"fill:none;stroke:#ff0000;stroke-dasharray:1,1.65;stroke-dashoffset:0;\"/>\n    <g clip-path=\"url(#pc48627ee9b)\">\n     <use style=\"fill:#ff0000;stroke:#ff0000;\" x=\"442.229333\" xlink:href=\"#m3e76468320\" y=\"51.390143\"/>\n     <use style=\"fill:#ff0000;stroke:#ff0000;\" x=\"495.006244\" xlink:href=\"#m3e76468320\" y=\"95.346673\"/>\n     <use style=\"fill:#ff0000;stroke:#ff0000;\" x=\"547.783154\" xlink:href=\"#m3e76468320\" y=\"154.617053\"/>\n     <use style=\"fill:#ff0000;stroke:#ff0000;\" x=\"600.560064\" xlink:href=\"#m3e76468320\" y=\"175.654049\"/>\n     <use style=\"fill:#ff0000;stroke:#ff0000;\" x=\"653.336974\" xlink:href=\"#m3e76468320\" y=\"189.007733\"/>\n     <use style=\"fill:#ff0000;stroke:#ff0000;\" x=\"706.113884\" xlink:href=\"#m3e76468320\" y=\"202.286015\"/>\n    </g>\n   </g>\n   <g id=\"line2d_158\">\n    <path clip-path=\"url(#pc48627ee9b)\" d=\"M 448.097926 51.617316 \nL 500.874836 96.379013 \nL 553.651746 158.176371 \nL 606.428656 187.225879 \nL 659.205567 224.310974 \nL 711.982477 284.973693 \n\" style=\"fill:none;stroke:#008000;stroke-dasharray:1,1.65;stroke-dashoffset:0;\"/>\n    <g clip-path=\"url(#pc48627ee9b)\">\n     <use style=\"fill:#008000;stroke:#008000;\" x=\"448.097926\" xlink:href=\"#m7f99d4cc68\" y=\"51.617316\"/>\n     <use style=\"fill:#008000;stroke:#008000;\" x=\"500.874836\" xlink:href=\"#m7f99d4cc68\" y=\"96.379013\"/>\n     <use style=\"fill:#008000;stroke:#008000;\" x=\"553.651746\" xlink:href=\"#m7f99d4cc68\" y=\"158.176371\"/>\n     <use style=\"fill:#008000;stroke:#008000;\" x=\"606.428656\" xlink:href=\"#m7f99d4cc68\" y=\"187.225879\"/>\n     <use style=\"fill:#008000;stroke:#008000;\" x=\"659.205567\" xlink:href=\"#m7f99d4cc68\" y=\"224.310974\"/>\n     <use style=\"fill:#008000;stroke:#008000;\" x=\"711.982477\" xlink:href=\"#m7f99d4cc68\" y=\"284.973693\"/>\n    </g>\n   </g>\n   <g id=\"patch_8\">\n    <path d=\"M 421.453551 304.25 \nL 421.453551 32.45 \n\" style=\"fill:none;stroke:#000000;stroke-linecap:square;stroke-linejoin:miter;stroke-width:0.8;\"/>\n   </g>\n   <g id=\"patch_9\">\n    <path d=\"M 725.817187 304.25 \nL 725.817187 32.45 \n\" style=\"fill:none;stroke:#000000;stroke-linecap:square;stroke-linejoin:miter;stroke-width:0.8;\"/>\n   </g>\n   <g id=\"patch_10\">\n    <path d=\"M 421.453551 304.25 \nL 725.817187 304.25 \n\" style=\"fill:none;stroke:#000000;stroke-linecap:square;stroke-linejoin:miter;stroke-width:0.8;\"/>\n   </g>\n   <g id=\"patch_11\">\n    <path d=\"M 421.453551 32.45 \nL 725.817187 32.45 \n\" style=\"fill:none;stroke:#000000;stroke-linecap:square;stroke-linejoin:miter;stroke-width:0.8;\"/>\n   </g>\n   <g id=\"text_23\">\n    <!-- $\\beta_{1} = \\beta$, $\\beta_{-1} = \\beta + \\delta$ -->\n    <g transform=\"translate(460.885369 26.45)scale(0.25 -0.25)\">\n     <use transform=\"translate(0 0.390625)\" xlink:href=\"#DejaVuSans-Oblique-946\"/>\n     <use transform=\"translate(63.818359 -16.015625)scale(0.7)\" xlink:href=\"#DejaVuSans-49\"/>\n     <use transform=\"translate(130.571289 0.390625)\" xlink:href=\"#DejaVuSans-61\"/>\n     <use transform=\"translate(233.842773 0.390625)\" xlink:href=\"#DejaVuSans-Oblique-946\"/>\n     <use transform=\"translate(297.661133 0.390625)\" xlink:href=\"#DejaVuSans-44\"/>\n     <use transform=\"translate(329.448242 0.390625)\" xlink:href=\"#DejaVuSans-32\"/>\n     <use transform=\"translate(361.235352 0.390625)\" xlink:href=\"#DejaVuSans-Oblique-946\"/>\n     <use transform=\"translate(425.053711 -16.015625)scale(0.7)\" xlink:href=\"#DejaVuSans-8722\"/>\n     <use transform=\"translate(483.706055 -16.015625)scale(0.7)\" xlink:href=\"#DejaVuSans-49\"/>\n     <use transform=\"translate(550.458984 0.390625)\" xlink:href=\"#DejaVuSans-61\"/>\n     <use transform=\"translate(653.730469 0.390625)\" xlink:href=\"#DejaVuSans-Oblique-946\"/>\n     <use transform=\"translate(737.03125 0.390625)\" xlink:href=\"#DejaVuSans-43\"/>\n     <use transform=\"translate(840.302734 0.390625)\" xlink:href=\"#DejaVuSans-Oblique-948\"/>\n    </g>\n   </g>\n   <g id=\"legend_1\">\n    <g id=\"patch_12\">\n     <path d=\"M 431.953551 296.75 \nL 590.051207 296.75 \nQ 593.051207 296.75 593.051207 293.75 \nL 593.051207 163.146875 \nQ 593.051207 160.146875 590.051207 160.146875 \nL 431.953551 160.146875 \nQ 428.953551 160.146875 428.953551 163.146875 \nL 428.953551 293.75 \nQ 428.953551 296.75 431.953551 296.75 \nz\n\" style=\"fill:#ffffff;opacity:0.8;stroke:#cccccc;stroke-linejoin:miter;\"/>\n    </g>\n    <g id=\"line2d_159\">\n     <path d=\"M 434.953551 172.294531 \nL 464.953551 172.294531 \n\" style=\"fill:none;stroke:#000000;stroke-linecap:square;stroke-width:1.5;\"/>\n    </g>\n    <g id=\"line2d_160\">\n     <defs>\n      <path d=\"M 0 -3 \nL -0.673542 -0.927051 \nL -2.85317 -0.927051 \nL -1.089814 0.354102 \nL -1.763356 2.427051 \nL -0 1.145898 \nL 1.763356 2.427051 \nL 1.089814 0.354102 \nL 2.85317 -0.927051 \nL 0.673542 -0.927051 \nz\n\" id=\"m3204b84113\" style=\"stroke:#000000;stroke-linejoin:bevel;\"/>\n     </defs>\n     <g>\n      <use style=\"stroke:#000000;stroke-linejoin:bevel;\" x=\"449.953551\" xlink:href=\"#m3204b84113\" y=\"172.294531\"/>\n     </g>\n    </g>\n    <g id=\"text_24\">\n     <!-- Minority -->\n     <defs>\n      <path d=\"M 9.421875 54.6875 \nL 18.40625 54.6875 \nL 18.40625 0 \nL 9.421875 0 \nz\nM 9.421875 75.984375 \nL 18.40625 75.984375 \nL 18.40625 64.59375 \nL 9.421875 64.59375 \nz\n\" id=\"DejaVuSans-105\"/>\n      <path d=\"M 41.109375 46.296875 \nQ 39.59375 47.171875 37.8125 47.578125 \nQ 36.03125 48 33.890625 48 \nQ 26.265625 48 22.1875 43.046875 \nQ 18.109375 38.09375 18.109375 28.8125 \nL 18.109375 0 \nL 9.078125 0 \nL 9.078125 54.6875 \nL 18.109375 54.6875 \nL 18.109375 46.1875 \nQ 20.953125 51.171875 25.484375 53.578125 \nQ 30.03125 56 36.53125 56 \nQ 37.453125 56 38.578125 55.875 \nQ 39.703125 55.765625 41.0625 55.515625 \nz\n\" id=\"DejaVuSans-114\"/>\n      <path d=\"M 18.3125 70.21875 \nL 18.3125 54.6875 \nL 36.8125 54.6875 \nL 36.8125 47.703125 \nL 18.3125 47.703125 \nL 18.3125 18.015625 \nQ 18.3125 11.328125 20.140625 9.421875 \nQ 21.96875 7.515625 27.59375 7.515625 \nL 36.8125 7.515625 \nL 36.8125 0 \nL 27.59375 0 \nQ 17.1875 0 13.234375 3.875 \nQ 9.28125 7.765625 9.28125 18.015625 \nL 9.28125 47.703125 \nL 2.6875 47.703125 \nL 2.6875 54.6875 \nL 9.28125 54.6875 \nL 9.28125 70.21875 \nz\n\" id=\"DejaVuSans-116\"/>\n      <path d=\"M 32.171875 -5.078125 \nQ 28.375 -14.84375 24.75 -17.8125 \nQ 21.140625 -20.796875 15.09375 -20.796875 \nL 7.90625 -20.796875 \nL 7.90625 -13.28125 \nL 13.1875 -13.28125 \nQ 16.890625 -13.28125 18.9375 -11.515625 \nQ 21 -9.765625 23.484375 -3.21875 \nL 25.09375 0.875 \nL 2.984375 54.6875 \nL 12.5 54.6875 \nL 29.59375 11.921875 \nL 46.6875 54.6875 \nL 56.203125 54.6875 \nz\n\" id=\"DejaVuSans-121\"/>\n     </defs>\n     <g transform=\"translate(476.953551 177.544531)scale(0.15 -0.15)\">\n      <use xlink:href=\"#DejaVuSans-77\"/>\n      <use x=\"86.279297\" xlink:href=\"#DejaVuSans-105\"/>\n      <use x=\"114.0625\" xlink:href=\"#DejaVuSans-110\"/>\n      <use x=\"177.441406\" xlink:href=\"#DejaVuSans-111\"/>\n      <use x=\"238.623047\" xlink:href=\"#DejaVuSans-114\"/>\n      <use x=\"279.736328\" xlink:href=\"#DejaVuSans-105\"/>\n      <use x=\"307.519531\" xlink:href=\"#DejaVuSans-116\"/>\n      <use x=\"346.728516\" xlink:href=\"#DejaVuSans-121\"/>\n     </g>\n    </g>\n    <g id=\"line2d_161\">\n     <path d=\"M 434.953551 194.311719 \nL 464.953551 194.311719 \n\" style=\"fill:none;stroke:#ff0000;stroke-linecap:square;stroke-width:1.5;\"/>\n    </g>\n    <g id=\"line2d_162\">\n     <defs>\n      <path d=\"M -3 0 \nL 3 0 \nM 0 3 \nL 0 -3 \n\" id=\"m0023ee1931\" style=\"stroke:#ff0000;\"/>\n     </defs>\n     <g>\n      <use style=\"fill:#ff0000;stroke:#ff0000;\" x=\"449.953551\" xlink:href=\"#m0023ee1931\" y=\"194.311719\"/>\n     </g>\n    </g>\n    <g id=\"text_25\">\n     <!-- Majority -->\n     <defs>\n      <path d=\"M 34.28125 27.484375 \nQ 23.390625 27.484375 19.1875 25 \nQ 14.984375 22.515625 14.984375 16.5 \nQ 14.984375 11.71875 18.140625 8.90625 \nQ 21.296875 6.109375 26.703125 6.109375 \nQ 34.1875 6.109375 38.703125 11.40625 \nQ 43.21875 16.703125 43.21875 25.484375 \nL 43.21875 27.484375 \nz\nM 52.203125 31.203125 \nL 52.203125 0 \nL 43.21875 0 \nL 43.21875 8.296875 \nQ 40.140625 3.328125 35.546875 0.953125 \nQ 30.953125 -1.421875 24.3125 -1.421875 \nQ 15.921875 -1.421875 10.953125 3.296875 \nQ 6 8.015625 6 15.921875 \nQ 6 25.140625 12.171875 29.828125 \nQ 18.359375 34.515625 30.609375 34.515625 \nL 43.21875 34.515625 \nL 43.21875 35.40625 \nQ 43.21875 41.609375 39.140625 45 \nQ 35.0625 48.390625 27.6875 48.390625 \nQ 23 48.390625 18.546875 47.265625 \nQ 14.109375 46.140625 10.015625 43.890625 \nL 10.015625 52.203125 \nQ 14.9375 54.109375 19.578125 55.046875 \nQ 24.21875 56 28.609375 56 \nQ 40.484375 56 46.34375 49.84375 \nQ 52.203125 43.703125 52.203125 31.203125 \nz\n\" id=\"DejaVuSans-97\"/>\n      <path d=\"M 9.421875 54.6875 \nL 18.40625 54.6875 \nL 18.40625 -0.984375 \nQ 18.40625 -11.421875 14.421875 -16.109375 \nQ 10.453125 -20.796875 1.609375 -20.796875 \nL -1.8125 -20.796875 \nL -1.8125 -13.1875 \nL 0.59375 -13.1875 \nQ 5.71875 -13.1875 7.5625 -10.8125 \nQ 9.421875 -8.453125 9.421875 -0.984375 \nz\nM 9.421875 75.984375 \nL 18.40625 75.984375 \nL 18.40625 64.59375 \nL 9.421875 64.59375 \nz\n\" id=\"DejaVuSans-106\"/>\n     </defs>\n     <g transform=\"translate(476.953551 199.561719)scale(0.15 -0.15)\">\n      <use xlink:href=\"#DejaVuSans-77\"/>\n      <use x=\"86.279297\" xlink:href=\"#DejaVuSans-97\"/>\n      <use x=\"147.558594\" xlink:href=\"#DejaVuSans-106\"/>\n      <use x=\"175.341797\" xlink:href=\"#DejaVuSans-111\"/>\n      <use x=\"236.523438\" xlink:href=\"#DejaVuSans-114\"/>\n      <use x=\"277.636719\" xlink:href=\"#DejaVuSans-105\"/>\n      <use x=\"305.419922\" xlink:href=\"#DejaVuSans-116\"/>\n      <use x=\"344.628906\" xlink:href=\"#DejaVuSans-121\"/>\n     </g>\n    </g>\n    <g id=\"line2d_163\">\n     <path d=\"M 434.953551 216.328906 \nL 464.953551 216.328906 \n\" style=\"fill:none;stroke:#008000;stroke-linecap:square;stroke-width:1.5;\"/>\n    </g>\n    <g id=\"line2d_164\">\n     <defs>\n      <path d=\"M -3 3 \nL 3 -3 \nM -3 -3 \nL 3 3 \n\" id=\"m3f797f480a\" style=\"stroke:#008000;\"/>\n     </defs>\n     <g>\n      <use style=\"fill:#008000;stroke:#008000;\" x=\"449.953551\" xlink:href=\"#m3f797f480a\" y=\"216.328906\"/>\n     </g>\n    </g>\n    <g id=\"text_26\">\n     <!-- Balanced Train -->\n     <defs>\n      <path d=\"M 19.671875 34.8125 \nL 19.671875 8.109375 \nL 35.5 8.109375 \nQ 43.453125 8.109375 47.28125 11.40625 \nQ 51.125 14.703125 51.125 21.484375 \nQ 51.125 28.328125 47.28125 31.5625 \nQ 43.453125 34.8125 35.5 34.8125 \nz\nM 19.671875 64.796875 \nL 19.671875 42.828125 \nL 34.28125 42.828125 \nQ 41.5 42.828125 45.03125 45.53125 \nQ 48.578125 48.25 48.578125 53.8125 \nQ 48.578125 59.328125 45.03125 62.0625 \nQ 41.5 64.796875 34.28125 64.796875 \nz\nM 9.8125 72.90625 \nL 35.015625 72.90625 \nQ 46.296875 72.90625 52.390625 68.21875 \nQ 58.5 63.53125 58.5 54.890625 \nQ 58.5 48.1875 55.375 44.234375 \nQ 52.25 40.28125 46.1875 39.3125 \nQ 53.46875 37.75 57.5 32.78125 \nQ 61.53125 27.828125 61.53125 20.40625 \nQ 61.53125 10.640625 54.890625 5.3125 \nQ 48.25 0 35.984375 0 \nL 9.8125 0 \nz\n\" id=\"DejaVuSans-66\"/>\n      <path d=\"M 9.421875 75.984375 \nL 18.40625 75.984375 \nL 18.40625 0 \nL 9.421875 0 \nz\n\" id=\"DejaVuSans-108\"/>\n      <path d=\"M 48.78125 52.59375 \nL 48.78125 44.1875 \nQ 44.96875 46.296875 41.140625 47.34375 \nQ 37.3125 48.390625 33.40625 48.390625 \nQ 24.65625 48.390625 19.8125 42.84375 \nQ 14.984375 37.3125 14.984375 27.296875 \nQ 14.984375 17.28125 19.8125 11.734375 \nQ 24.65625 6.203125 33.40625 6.203125 \nQ 37.3125 6.203125 41.140625 7.25 \nQ 44.96875 8.296875 48.78125 10.40625 \nL 48.78125 2.09375 \nQ 45.015625 0.34375 40.984375 -0.53125 \nQ 36.96875 -1.421875 32.421875 -1.421875 \nQ 20.0625 -1.421875 12.78125 6.34375 \nQ 5.515625 14.109375 5.515625 27.296875 \nQ 5.515625 40.671875 12.859375 48.328125 \nQ 20.21875 56 33.015625 56 \nQ 37.15625 56 41.109375 55.140625 \nQ 45.0625 54.296875 48.78125 52.59375 \nz\n\" id=\"DejaVuSans-99\"/>\n      <path d=\"M -0.296875 72.90625 \nL 61.375 72.90625 \nL 61.375 64.59375 \nL 35.5 64.59375 \nL 35.5 0 \nL 25.59375 0 \nL 25.59375 64.59375 \nL -0.296875 64.59375 \nz\n\" id=\"DejaVuSans-84\"/>\n     </defs>\n     <g transform=\"translate(476.953551 221.578906)scale(0.15 -0.15)\">\n      <use xlink:href=\"#DejaVuSans-66\"/>\n      <use x=\"68.603516\" xlink:href=\"#DejaVuSans-97\"/>\n      <use x=\"129.882812\" xlink:href=\"#DejaVuSans-108\"/>\n      <use x=\"157.666016\" xlink:href=\"#DejaVuSans-97\"/>\n      <use x=\"218.945312\" xlink:href=\"#DejaVuSans-110\"/>\n      <use x=\"282.324219\" xlink:href=\"#DejaVuSans-99\"/>\n      <use x=\"337.304688\" xlink:href=\"#DejaVuSans-101\"/>\n      <use x=\"398.828125\" xlink:href=\"#DejaVuSans-100\"/>\n      <use x=\"462.304688\" xlink:href=\"#DejaVuSans-32\"/>\n      <use x=\"494.091797\" xlink:href=\"#DejaVuSans-84\"/>\n      <use x=\"540.425781\" xlink:href=\"#DejaVuSans-114\"/>\n      <use x=\"581.539062\" xlink:href=\"#DejaVuSans-97\"/>\n      <use x=\"642.818359\" xlink:href=\"#DejaVuSans-105\"/>\n      <use x=\"670.601562\" xlink:href=\"#DejaVuSans-110\"/>\n     </g>\n    </g>\n    <g id=\"line2d_165\">\n     <path d=\"M 434.953551 238.346094 \nL 464.953551 238.346094 \n\" style=\"fill:none;stroke:#000000;stroke-linecap:square;stroke-opacity:0.3;stroke-width:4;\"/>\n    </g>\n    <g id=\"line2d_166\"/>\n    <g id=\"text_27\">\n     <!-- SNR=1 -->\n     <defs>\n      <path d=\"M 9.8125 72.90625 \nL 23.09375 72.90625 \nL 55.421875 11.921875 \nL 55.421875 72.90625 \nL 64.984375 72.90625 \nL 64.984375 0 \nL 51.703125 0 \nL 19.390625 60.984375 \nL 19.390625 0 \nL 9.8125 0 \nz\n\" id=\"DejaVuSans-78\"/>\n      <path d=\"M 44.390625 34.1875 \nQ 47.5625 33.109375 50.5625 29.59375 \nQ 53.5625 26.078125 56.59375 19.921875 \nL 66.609375 0 \nL 56 0 \nL 46.6875 18.703125 \nQ 43.0625 26.03125 39.671875 28.421875 \nQ 36.28125 30.8125 30.421875 30.8125 \nL 19.671875 30.8125 \nL 19.671875 0 \nL 9.8125 0 \nL 9.8125 72.90625 \nL 32.078125 72.90625 \nQ 44.578125 72.90625 50.734375 67.671875 \nQ 56.890625 62.453125 56.890625 51.90625 \nQ 56.890625 45.015625 53.6875 40.46875 \nQ 50.484375 35.9375 44.390625 34.1875 \nz\nM 19.671875 64.796875 \nL 19.671875 38.921875 \nL 32.078125 38.921875 \nQ 39.203125 38.921875 42.84375 42.21875 \nQ 46.484375 45.515625 46.484375 51.90625 \nQ 46.484375 58.296875 42.84375 61.546875 \nQ 39.203125 64.796875 32.078125 64.796875 \nz\n\" id=\"DejaVuSans-82\"/>\n     </defs>\n     <g transform=\"translate(476.953551 243.596094)scale(0.15 -0.15)\">\n      <use xlink:href=\"#DejaVuSans-83\"/>\n      <use x=\"63.476562\" xlink:href=\"#DejaVuSans-78\"/>\n      <use x=\"138.28125\" xlink:href=\"#DejaVuSans-82\"/>\n      <use x=\"207.763672\" xlink:href=\"#DejaVuSans-61\"/>\n      <use x=\"291.552734\" xlink:href=\"#DejaVuSans-49\"/>\n     </g>\n    </g>\n    <g id=\"line2d_167\">\n     <path d=\"M 434.953551 260.363281 \nL 464.953551 260.363281 \n\" style=\"fill:none;stroke:#000000;stroke-dasharray:7.4,3.2;stroke-dashoffset:0;stroke-opacity:0.5;stroke-width:2;\"/>\n    </g>\n    <g id=\"line2d_168\"/>\n    <g id=\"text_28\">\n     <!-- SNR=25 -->\n     <defs>\n      <path d=\"M 10.796875 72.90625 \nL 49.515625 72.90625 \nL 49.515625 64.59375 \nL 19.828125 64.59375 \nL 19.828125 46.734375 \nQ 21.96875 47.46875 24.109375 47.828125 \nQ 26.265625 48.1875 28.421875 48.1875 \nQ 40.625 48.1875 47.75 41.5 \nQ 54.890625 34.8125 54.890625 23.390625 \nQ 54.890625 11.625 47.5625 5.09375 \nQ 40.234375 -1.421875 26.90625 -1.421875 \nQ 22.3125 -1.421875 17.546875 -0.640625 \nQ 12.796875 0.140625 7.71875 1.703125 \nL 7.71875 11.625 \nQ 12.109375 9.234375 16.796875 8.0625 \nQ 21.484375 6.890625 26.703125 6.890625 \nQ 35.15625 6.890625 40.078125 11.328125 \nQ 45.015625 15.765625 45.015625 23.390625 \nQ 45.015625 31 40.078125 35.4375 \nQ 35.15625 39.890625 26.703125 39.890625 \nQ 22.75 39.890625 18.8125 39.015625 \nQ 14.890625 38.140625 10.796875 36.28125 \nz\n\" id=\"DejaVuSans-53\"/>\n     </defs>\n     <g transform=\"translate(476.953551 265.613281)scale(0.15 -0.15)\">\n      <use xlink:href=\"#DejaVuSans-83\"/>\n      <use x=\"63.476562\" xlink:href=\"#DejaVuSans-78\"/>\n      <use x=\"138.28125\" xlink:href=\"#DejaVuSans-82\"/>\n      <use x=\"207.763672\" xlink:href=\"#DejaVuSans-61\"/>\n      <use x=\"291.552734\" xlink:href=\"#DejaVuSans-50\"/>\n      <use x=\"355.175781\" xlink:href=\"#DejaVuSans-53\"/>\n     </g>\n    </g>\n    <g id=\"line2d_169\">\n     <path d=\"M 434.953551 282.380469 \nL 464.953551 282.380469 \n\" style=\"fill:none;stroke:#000000;stroke-dasharray:1,1.65;stroke-dashoffset:0;\"/>\n    </g>\n    <g id=\"line2d_170\"/>\n    <g id=\"text_29\">\n     <!-- SNR=100 -->\n     <g transform=\"translate(476.953551 287.630469)scale(0.15 -0.15)\">\n      <use xlink:href=\"#DejaVuSans-83\"/>\n      <use x=\"63.476562\" xlink:href=\"#DejaVuSans-78\"/>\n      <use x=\"138.28125\" xlink:href=\"#DejaVuSans-82\"/>\n      <use x=\"207.763672\" xlink:href=\"#DejaVuSans-61\"/>\n      <use x=\"291.552734\" xlink:href=\"#DejaVuSans-49\"/>\n      <use x=\"355.175781\" xlink:href=\"#DejaVuSans-48\"/>\n      <use x=\"418.798828\" xlink:href=\"#DejaVuSans-48\"/>\n     </g>\n    </g>\n   </g>\n  </g>\n </g>\n <defs>\n  <clipPath id=\"p85514057bc\">\n   <rect height=\"271.8\" width=\"304.363636\" x=\"56.217187\" y=\"32.45\"/>\n  </clipPath>\n  <clipPath id=\"pc48627ee9b\">\n   <rect height=\"271.8\" width=\"304.363636\" x=\"421.453551\" y=\"32.45\"/>\n  </clipPath>\n </defs>\n</svg>\n",
      "image/png": "[encoded data removed]"
     },
     "metadata": {
      "needs_background": "light"
     }
    }
   ],
   "source": [
    "betas = [1, 5, 10]\n",
    "ltys = ['-', '--', ':']\n",
    "lws = [4, 2, 1]\n",
    "alphas = [0.3, 0.5, 1]\n",
    "add_on = 4 ** np.array(range(6))\n",
    "setups = ['same-core-over-envs', 'different-core-over-envs']\n",
    "names = ['$\\\\beta_{1} = \\\\beta + \\\\delta$, $\\\\beta_{-1} = \\\\beta - \\\\delta$',\\\n",
    "     '$\\\\beta_{1} = \\\\beta$, $\\\\beta_{-1} = \\\\beta + \\\\delta$']\n",
    "fig, ax = plt.subplots(1, 2, figsize = (12, 5), sharex=True)\n",
    "for s, (setup, name) in enumerate(zip(setups, names)):\n",
    "    result_setup = result.loc[result['setup']==setup]\n",
    "    for i, (beta, lty, lw, alpha) in enumerate(zip(betas, ltys, lws, alphas)):\n",
    "        result1 = result_setup.loc[result['beta-norm']==beta]\n",
    "        nodes, mean_minor, std_minor = result1['nodes'],\\\n",
    "            result1['minority-mse']['mean'], result1['minority-mse']['std']\n",
    "\n",
    "        mean_major, std_major = result1['majority-mse']['mean'], result1['majority-mse']['std']\n",
    "        mean_tr, std_tr = result1['train-mse']['mean'], result1['train-mse']['std']\n",
    "    \n",
    "        ax[s].errorbar(nodes, mean_minor, std_minor, color = 'k', linestyle = lty,\\\n",
    "             marker = '*', markersize = 8, lw = lw, alpha = alpha)\n",
    "        ax[s].errorbar(nodes * (1.2), mean_major, std_major, color = 'r', linestyle = lty,\\\n",
    "         marker = '+', markersize = 8, lw = lw, alpha = alpha)\n",
    "        ax[s].errorbar(nodes * (1.4), mean_tr, std_tr, color = 'g', linestyle = lty, marker = 'x',\\\n",
    "         markersize = 8, lw = lw, alpha = alpha)\n",
    "        ax[s].set_yscale('log')\n",
    "        ax[s].set_xscale('log')\n",
    "        ax[s].set_xlabel('nodes', fontsize = 15)\n",
    "        ax[s].set_ylabel('MSE', fontsize = 15)\n",
    "        ax[s].set_title(name, fontsize = 25)\n",
    "        #ax[s].set_ylim(0, 20)\n",
    "        \n",
    "    \n",
    "lines = [Line2D([0], [0], color='k', linestyle='-', marker='*'), \\\n",
    "    Line2D([0], [0], color='r', linestyle='-', marker='+'), \\\n",
    "        Line2D([0], [0], color='g', linestyle='-', marker='x')\\\n",
    "        ]  \n",
    "for i, (beta, lty, lw, alpha) in enumerate(zip(betas, ltys, lws, alphas)):\n",
    "    lines.append(Line2D([0], [0], color='k', linestyle=lty, lw = lw, alpha = alpha))\n",
    "plt.legend(lines, ['Minority', 'Majority', 'Balanced Train', 'SNR=1', 'SNR=25', 'SNR=100'], fontsize = 15)\n",
    "plt.savefig('pdf_plots/plot.pdf')"
   ]
  },
  {
   "cell_type": "code",
   "execution_count": 8,
   "metadata": {},
   "outputs": [
    {
     "output_type": "execute_result",
     "data": {
      "text/plain": [
       "12       11.0\n",
       "13       44.0\n",
       "14      176.0\n",
       "15      704.0\n",
       "16     2816.0\n",
       "17    11264.0\n",
       "Name: nodes, dtype: float64"
      ]
     },
     "metadata": {},
     "execution_count": 8
    }
   ],
   "source": [
    "nodes * 1.1"
   ]
  },
  {
   "cell_type": "code",
   "execution_count": null,
   "metadata": {},
   "outputs": [],
   "source": []
  }
 ]
}