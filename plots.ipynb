{
 "metadata": {
  "language_info": {
   "codemirror_mode": {
    "name": "ipython",
    "version": 3
   },
   "file_extension": ".py",
   "mimetype": "text/x-python",
   "name": "python",
   "nbconvert_exporter": "python",
   "pygments_lexer": "ipython3",
   "version": "3.7.6-final"
  },
  "orig_nbformat": 2,
  "kernelspec": {
   "name": "python37664bitd090249c0cf5439884290524b93fde75",
   "display_name": "Python 3.7.6 64-bit"
  }
 },
 "nbformat": 4,
 "nbformat_minor": 2,
 "cells": [
  {
   "cell_type": "code",
   "execution_count": 1,
   "metadata": {},
   "outputs": [
    {
     "output_type": "execute_result",
     "data": {
      "text/plain": [
       "nodes             int64\n",
       "epochs            int64\n",
       "train-mse       float64\n",
       "majority-mse    float64\n",
       "minority-mse    float64\n",
       "dtype: object"
      ]
     },
     "metadata": {},
     "execution_count": 1
    }
   ],
   "source": [
    "import re\n",
    "import pandas as pd\n",
    "import numpy as np\n",
    "import matplotlib.pyplot as plt\n",
    "\n",
    "exp = 'result.txt'\n",
    "with open(exp) as fh:\n",
    "    out = fh.read()\n",
    "\n",
    "out = re.split(r'\\n', out)\n",
    "\n",
    "dict_list = [eval(d) for d in out]\n",
    "df = pd.DataFrame(dict_list)\n",
    "#df['lipton-excess'] = (df['lipton'] - df['bayes_error']).astype('float32') \n",
    "#df['oracle-excess'] = (df['oracle'] - df['bayes_error']).astype('float32') \n",
    "df.dtypes"
   ]
  },
  {
   "cell_type": "code",
   "execution_count": 2,
   "metadata": {
    "tags": []
   },
   "outputs": [
    {
     "output_type": "execute_result",
     "data": {
      "text/plain": [
       "     nodes epochs train-mse                 majority-mse                  \\\n",
       "                       mean       std count         mean       std count   \n",
       "0        1     20  0.967016  0.123992  1000     0.981009  0.104128  1000   \n",
       "1        1     40  0.937388  0.129633  1000     0.949820  0.106647  1000   \n",
       "2        1    100  0.927977  0.133020  1000     0.943874  0.106110  1000   \n",
       "3        1    500  0.932845  0.126972  1000     0.946493  0.100635  1000   \n",
       "4        1   1000  0.928230  0.135412  1000     0.943561  0.109444  1000   \n",
       "..     ...    ...       ...       ...   ...          ...       ...   ...   \n",
       "97   65536     40  0.033637  0.006783  1000     0.028157  0.005617  1000   \n",
       "98   65536    100  0.026323  0.005760  1000     0.018667  0.002180  1000   \n",
       "99   65536    500  0.021293  0.004451  1000     0.021959  0.003556  1000   \n",
       "100  65536   1000  0.019287  0.003979  1000     0.024229  0.004362  1000   \n",
       "101  65536   2000  0.017032  0.003463  1000     0.025813  0.004878  1000   \n",
       "\n",
       "    minority-mse                  \n",
       "            mean       std count  \n",
       "0       1.001121  0.107224  1000  \n",
       "1       0.978297  0.105214  1000  \n",
       "2       0.973097  0.113337  1000  \n",
       "3       0.973225  0.108458  1000  \n",
       "4       0.973814  0.110765  1000  \n",
       "..           ...       ...   ...  \n",
       "97      0.358674  0.026475  1000  \n",
       "98      0.373377  0.023444  1000  \n",
       "99      0.380588  0.023555  1000  \n",
       "100     0.383629  0.023776  1000  \n",
       "101     0.385618  0.023992  1000  \n",
       "\n",
       "[102 rows x 11 columns]"
      ],
      "text/html": "<div>\n<style scoped>\n    .dataframe tbody tr th:only-of-type {\n        vertical-align: middle;\n    }\n\n    .dataframe tbody tr th {\n        vertical-align: top;\n    }\n\n    .dataframe thead tr th {\n        text-align: left;\n    }\n</style>\n<table border=\"1\" class=\"dataframe\">\n  <thead>\n    <tr>\n      <th></th>\n      <th>nodes</th>\n      <th>epochs</th>\n      <th colspan=\"3\" halign=\"left\">train-mse</th>\n      <th colspan=\"3\" halign=\"left\">majority-mse</th>\n      <th colspan=\"3\" halign=\"left\">minority-mse</th>\n    </tr>\n    <tr>\n      <th></th>\n      <th></th>\n      <th></th>\n      <th>mean</th>\n      <th>std</th>\n      <th>count</th>\n      <th>mean</th>\n      <th>std</th>\n      <th>count</th>\n      <th>mean</th>\n      <th>std</th>\n      <th>count</th>\n    </tr>\n  </thead>\n  <tbody>\n    <tr>\n      <th>0</th>\n      <td>1</td>\n      <td>20</td>\n      <td>0.967016</td>\n      <td>0.123992</td>\n      <td>1000</td>\n      <td>0.981009</td>\n      <td>0.104128</td>\n      <td>1000</td>\n      <td>1.001121</td>\n      <td>0.107224</td>\n      <td>1000</td>\n    </tr>\n    <tr>\n      <th>1</th>\n      <td>1</td>\n      <td>40</td>\n      <td>0.937388</td>\n      <td>0.129633</td>\n      <td>1000</td>\n      <td>0.949820</td>\n      <td>0.106647</td>\n      <td>1000</td>\n      <td>0.978297</td>\n      <td>0.105214</td>\n      <td>1000</td>\n    </tr>\n    <tr>\n      <th>2</th>\n      <td>1</td>\n      <td>100</td>\n      <td>0.927977</td>\n      <td>0.133020</td>\n      <td>1000</td>\n      <td>0.943874</td>\n      <td>0.106110</td>\n      <td>1000</td>\n      <td>0.973097</td>\n      <td>0.113337</td>\n      <td>1000</td>\n    </tr>\n    <tr>\n      <th>3</th>\n      <td>1</td>\n      <td>500</td>\n      <td>0.932845</td>\n      <td>0.126972</td>\n      <td>1000</td>\n      <td>0.946493</td>\n      <td>0.100635</td>\n      <td>1000</td>\n      <td>0.973225</td>\n      <td>0.108458</td>\n      <td>1000</td>\n    </tr>\n    <tr>\n      <th>4</th>\n      <td>1</td>\n      <td>1000</td>\n      <td>0.928230</td>\n      <td>0.135412</td>\n      <td>1000</td>\n      <td>0.943561</td>\n      <td>0.109444</td>\n      <td>1000</td>\n      <td>0.973814</td>\n      <td>0.110765</td>\n      <td>1000</td>\n    </tr>\n    <tr>\n      <th>...</th>\n      <td>...</td>\n      <td>...</td>\n      <td>...</td>\n      <td>...</td>\n      <td>...</td>\n      <td>...</td>\n      <td>...</td>\n      <td>...</td>\n      <td>...</td>\n      <td>...</td>\n      <td>...</td>\n    </tr>\n    <tr>\n      <th>97</th>\n      <td>65536</td>\n      <td>40</td>\n      <td>0.033637</td>\n      <td>0.006783</td>\n      <td>1000</td>\n      <td>0.028157</td>\n      <td>0.005617</td>\n      <td>1000</td>\n      <td>0.358674</td>\n      <td>0.026475</td>\n      <td>1000</td>\n    </tr>\n    <tr>\n      <th>98</th>\n      <td>65536</td>\n      <td>100</td>\n      <td>0.026323</td>\n      <td>0.005760</td>\n      <td>1000</td>\n      <td>0.018667</td>\n      <td>0.002180</td>\n      <td>1000</td>\n      <td>0.373377</td>\n      <td>0.023444</td>\n      <td>1000</td>\n    </tr>\n    <tr>\n      <th>99</th>\n      <td>65536</td>\n      <td>500</td>\n      <td>0.021293</td>\n      <td>0.004451</td>\n      <td>1000</td>\n      <td>0.021959</td>\n      <td>0.003556</td>\n      <td>1000</td>\n      <td>0.380588</td>\n      <td>0.023555</td>\n      <td>1000</td>\n    </tr>\n    <tr>\n      <th>100</th>\n      <td>65536</td>\n      <td>1000</td>\n      <td>0.019287</td>\n      <td>0.003979</td>\n      <td>1000</td>\n      <td>0.024229</td>\n      <td>0.004362</td>\n      <td>1000</td>\n      <td>0.383629</td>\n      <td>0.023776</td>\n      <td>1000</td>\n    </tr>\n    <tr>\n      <th>101</th>\n      <td>65536</td>\n      <td>2000</td>\n      <td>0.017032</td>\n      <td>0.003463</td>\n      <td>1000</td>\n      <td>0.025813</td>\n      <td>0.004878</td>\n      <td>1000</td>\n      <td>0.385618</td>\n      <td>0.023992</td>\n      <td>1000</td>\n    </tr>\n  </tbody>\n</table>\n<p>102 rows × 11 columns</p>\n</div>"
     },
     "metadata": {},
     "execution_count": 2
    }
   ],
   "source": [
    "measure = ['train-mse', 'majority-mse', 'minority-mse']\n",
    "agg_dict = dict()\n",
    "for key in measure:\n",
    "    agg_dict[key] = ['mean', 'std', 'count']\n",
    "result = df.groupby(['nodes', 'epochs'], as_index=False).agg(agg_dict)\n",
    "result"
   ]
  },
  {
   "cell_type": "code",
   "execution_count": 10,
   "metadata": {},
   "outputs": [
    {
     "output_type": "display_data",
     "data": {
      "text/plain": "<Figure size 1296x360 with 3 Axes>",
      "image/svg+xml": "<?xml version=\"1.0\" encoding=\"utf-8\" standalone=\"no\"?>\n<!DOCTYPE svg PUBLIC \"-//W3C//DTD SVG 1.1//EN\"\n  \"http://www.w3.org/Graphics/SVG/1.1/DTD/svg11.dtd\">\n<!-- Created with matplotlib (https://matplotlib.org/) -->\n<svg height=\"331.674375pt\" version=\"1.1\" viewBox=\"0 0 1047.307986 331.674375\" width=\"1047.307986pt\" xmlns=\"http://www.w3.org/2000/svg\" xmlns:xlink=\"http://www.w3.org/1999/xlink\">\n <defs>\n  <style type=\"text/css\">\n*{stroke-linecap:butt;stroke-linejoin:round;}\n  </style>\n </defs>\n <g id=\"figure_1\">\n  <g id=\"patch_1\">\n   <path d=\"M 0 331.674375 \nL 1047.307986 331.674375 \nL 1047.307986 0 \nL 0 0 \nz\n\" style=\"fill:none;\"/>\n  </g>\n  <g id=\"axes_1\">\n   <g id=\"patch_2\">\n    <path d=\"M 30.103125 294.118125 \nL 325.51489 294.118125 \nL 325.51489 22.318125 \nL 30.103125 22.318125 \nz\n\" style=\"fill:#ffffff;\"/>\n   </g>\n   <g id=\"matplotlib.axis_1\">\n    <g id=\"xtick_1\">\n     <g id=\"line2d_1\">\n      <defs>\n       <path d=\"M 0 0 \nL 0 3.5 \n\" id=\"m4cae115b53\" style=\"stroke:#000000;stroke-width:0.8;\"/>\n      </defs>\n      <g>\n       <use style=\"stroke:#000000;stroke-width:0.8;\" x=\"43.530932\" xlink:href=\"#m4cae115b53\" y=\"294.118125\"/>\n      </g>\n     </g>\n     <g id=\"text_1\">\n      <!-- $\\mathdefault{10^{0}}$ -->\n      <defs>\n       <path d=\"M 12.40625 8.296875 \nL 28.515625 8.296875 \nL 28.515625 63.921875 \nL 10.984375 60.40625 \nL 10.984375 69.390625 \nL 28.421875 72.90625 \nL 38.28125 72.90625 \nL 38.28125 8.296875 \nL 54.390625 8.296875 \nL 54.390625 0 \nL 12.40625 0 \nz\n\" id=\"DejaVuSans-49\"/>\n       <path d=\"M 31.78125 66.40625 \nQ 24.171875 66.40625 20.328125 58.90625 \nQ 16.5 51.421875 16.5 36.375 \nQ 16.5 21.390625 20.328125 13.890625 \nQ 24.171875 6.390625 31.78125 6.390625 \nQ 39.453125 6.390625 43.28125 13.890625 \nQ 47.125 21.390625 47.125 36.375 \nQ 47.125 51.421875 43.28125 58.90625 \nQ 39.453125 66.40625 31.78125 66.40625 \nz\nM 31.78125 74.21875 \nQ 44.046875 74.21875 50.515625 64.515625 \nQ 56.984375 54.828125 56.984375 36.375 \nQ 56.984375 17.96875 50.515625 8.265625 \nQ 44.046875 -1.421875 31.78125 -1.421875 \nQ 19.53125 -1.421875 13.0625 8.265625 \nQ 6.59375 17.96875 6.59375 36.375 \nQ 6.59375 54.828125 13.0625 64.515625 \nQ 19.53125 74.21875 31.78125 74.21875 \nz\n\" id=\"DejaVuSans-48\"/>\n      </defs>\n      <g transform=\"translate(34.730932 308.716563)scale(0.1 -0.1)\">\n       <use transform=\"translate(0 0.765625)\" xlink:href=\"#DejaVuSans-49\"/>\n       <use transform=\"translate(63.623047 0.765625)\" xlink:href=\"#DejaVuSans-48\"/>\n       <use transform=\"translate(128.203125 39.046875)scale(0.7)\" xlink:href=\"#DejaVuSans-48\"/>\n      </g>\n     </g>\n    </g>\n    <g id=\"xtick_2\">\n     <g id=\"line2d_2\">\n      <g>\n       <use style=\"stroke:#000000;stroke-width:0.8;\" x=\"99.288696\" xlink:href=\"#m4cae115b53\" y=\"294.118125\"/>\n      </g>\n     </g>\n     <g id=\"text_2\">\n      <!-- $\\mathdefault{10^{1}}$ -->\n      <g transform=\"translate(90.488696 308.716563)scale(0.1 -0.1)\">\n       <use transform=\"translate(0 0.684375)\" xlink:href=\"#DejaVuSans-49\"/>\n       <use transform=\"translate(63.623047 0.684375)\" xlink:href=\"#DejaVuSans-48\"/>\n       <use transform=\"translate(128.203125 38.965625)scale(0.7)\" xlink:href=\"#DejaVuSans-49\"/>\n      </g>\n     </g>\n    </g>\n    <g id=\"xtick_3\">\n     <g id=\"line2d_3\">\n      <g>\n       <use style=\"stroke:#000000;stroke-width:0.8;\" x=\"155.04646\" xlink:href=\"#m4cae115b53\" y=\"294.118125\"/>\n      </g>\n     </g>\n     <g id=\"text_3\">\n      <!-- $\\mathdefault{10^{2}}$ -->\n      <defs>\n       <path d=\"M 19.1875 8.296875 \nL 53.609375 8.296875 \nL 53.609375 0 \nL 7.328125 0 \nL 7.328125 8.296875 \nQ 12.9375 14.109375 22.625 23.890625 \nQ 32.328125 33.6875 34.8125 36.53125 \nQ 39.546875 41.84375 41.421875 45.53125 \nQ 43.3125 49.21875 43.3125 52.78125 \nQ 43.3125 58.59375 39.234375 62.25 \nQ 35.15625 65.921875 28.609375 65.921875 \nQ 23.96875 65.921875 18.8125 64.3125 \nQ 13.671875 62.703125 7.8125 59.421875 \nL 7.8125 69.390625 \nQ 13.765625 71.78125 18.9375 73 \nQ 24.125 74.21875 28.421875 74.21875 \nQ 39.75 74.21875 46.484375 68.546875 \nQ 53.21875 62.890625 53.21875 53.421875 \nQ 53.21875 48.921875 51.53125 44.890625 \nQ 49.859375 40.875 45.40625 35.40625 \nQ 44.1875 33.984375 37.640625 27.21875 \nQ 31.109375 20.453125 19.1875 8.296875 \nz\n\" id=\"DejaVuSans-50\"/>\n      </defs>\n      <g transform=\"translate(146.24646 308.716563)scale(0.1 -0.1)\">\n       <use transform=\"translate(0 0.765625)\" xlink:href=\"#DejaVuSans-49\"/>\n       <use transform=\"translate(63.623047 0.765625)\" xlink:href=\"#DejaVuSans-48\"/>\n       <use transform=\"translate(128.203125 39.046875)scale(0.7)\" xlink:href=\"#DejaVuSans-50\"/>\n      </g>\n     </g>\n    </g>\n    <g id=\"xtick_4\">\n     <g id=\"line2d_4\">\n      <g>\n       <use style=\"stroke:#000000;stroke-width:0.8;\" x=\"210.804224\" xlink:href=\"#m4cae115b53\" y=\"294.118125\"/>\n      </g>\n     </g>\n     <g id=\"text_4\">\n      <!-- $\\mathdefault{10^{3}}$ -->\n      <defs>\n       <path d=\"M 40.578125 39.3125 \nQ 47.65625 37.796875 51.625 33 \nQ 55.609375 28.21875 55.609375 21.1875 \nQ 55.609375 10.40625 48.1875 4.484375 \nQ 40.765625 -1.421875 27.09375 -1.421875 \nQ 22.515625 -1.421875 17.65625 -0.515625 \nQ 12.796875 0.390625 7.625 2.203125 \nL 7.625 11.71875 \nQ 11.71875 9.328125 16.59375 8.109375 \nQ 21.484375 6.890625 26.8125 6.890625 \nQ 36.078125 6.890625 40.9375 10.546875 \nQ 45.796875 14.203125 45.796875 21.1875 \nQ 45.796875 27.640625 41.28125 31.265625 \nQ 36.765625 34.90625 28.71875 34.90625 \nL 20.21875 34.90625 \nL 20.21875 43.015625 \nL 29.109375 43.015625 \nQ 36.375 43.015625 40.234375 45.921875 \nQ 44.09375 48.828125 44.09375 54.296875 \nQ 44.09375 59.90625 40.109375 62.90625 \nQ 36.140625 65.921875 28.71875 65.921875 \nQ 24.65625 65.921875 20.015625 65.03125 \nQ 15.375 64.15625 9.8125 62.3125 \nL 9.8125 71.09375 \nQ 15.4375 72.65625 20.34375 73.4375 \nQ 25.25 74.21875 29.59375 74.21875 \nQ 40.828125 74.21875 47.359375 69.109375 \nQ 53.90625 64.015625 53.90625 55.328125 \nQ 53.90625 49.265625 50.4375 45.09375 \nQ 46.96875 40.921875 40.578125 39.3125 \nz\n\" id=\"DejaVuSans-51\"/>\n      </defs>\n      <g transform=\"translate(202.004224 308.716563)scale(0.1 -0.1)\">\n       <use transform=\"translate(0 0.765625)\" xlink:href=\"#DejaVuSans-49\"/>\n       <use transform=\"translate(63.623047 0.765625)\" xlink:href=\"#DejaVuSans-48\"/>\n       <use transform=\"translate(128.203125 39.046875)scale(0.7)\" xlink:href=\"#DejaVuSans-51\"/>\n      </g>\n     </g>\n    </g>\n    <g id=\"xtick_5\">\n     <g id=\"line2d_5\">\n      <g>\n       <use style=\"stroke:#000000;stroke-width:0.8;\" x=\"266.561987\" xlink:href=\"#m4cae115b53\" y=\"294.118125\"/>\n      </g>\n     </g>\n     <g id=\"text_5\">\n      <!-- $\\mathdefault{10^{4}}$ -->\n      <defs>\n       <path d=\"M 37.796875 64.3125 \nL 12.890625 25.390625 \nL 37.796875 25.390625 \nz\nM 35.203125 72.90625 \nL 47.609375 72.90625 \nL 47.609375 25.390625 \nL 58.015625 25.390625 \nL 58.015625 17.1875 \nL 47.609375 17.1875 \nL 47.609375 0 \nL 37.796875 0 \nL 37.796875 17.1875 \nL 4.890625 17.1875 \nL 4.890625 26.703125 \nz\n\" id=\"DejaVuSans-52\"/>\n      </defs>\n      <g transform=\"translate(257.761987 308.716563)scale(0.1 -0.1)\">\n       <use transform=\"translate(0 0.684375)\" xlink:href=\"#DejaVuSans-49\"/>\n       <use transform=\"translate(63.623047 0.684375)\" xlink:href=\"#DejaVuSans-48\"/>\n       <use transform=\"translate(128.203125 38.965625)scale(0.7)\" xlink:href=\"#DejaVuSans-52\"/>\n      </g>\n     </g>\n    </g>\n    <g id=\"xtick_6\">\n     <g id=\"line2d_6\">\n      <g>\n       <use style=\"stroke:#000000;stroke-width:0.8;\" x=\"322.319751\" xlink:href=\"#m4cae115b53\" y=\"294.118125\"/>\n      </g>\n     </g>\n     <g id=\"text_6\">\n      <!-- $\\mathdefault{10^{5}}$ -->\n      <defs>\n       <path d=\"M 10.796875 72.90625 \nL 49.515625 72.90625 \nL 49.515625 64.59375 \nL 19.828125 64.59375 \nL 19.828125 46.734375 \nQ 21.96875 47.46875 24.109375 47.828125 \nQ 26.265625 48.1875 28.421875 48.1875 \nQ 40.625 48.1875 47.75 41.5 \nQ 54.890625 34.8125 54.890625 23.390625 \nQ 54.890625 11.625 47.5625 5.09375 \nQ 40.234375 -1.421875 26.90625 -1.421875 \nQ 22.3125 -1.421875 17.546875 -0.640625 \nQ 12.796875 0.140625 7.71875 1.703125 \nL 7.71875 11.625 \nQ 12.109375 9.234375 16.796875 8.0625 \nQ 21.484375 6.890625 26.703125 6.890625 \nQ 35.15625 6.890625 40.078125 11.328125 \nQ 45.015625 15.765625 45.015625 23.390625 \nQ 45.015625 31 40.078125 35.4375 \nQ 35.15625 39.890625 26.703125 39.890625 \nQ 22.75 39.890625 18.8125 39.015625 \nQ 14.890625 38.140625 10.796875 36.28125 \nz\n\" id=\"DejaVuSans-53\"/>\n      </defs>\n      <g transform=\"translate(313.519751 308.716563)scale(0.1 -0.1)\">\n       <use transform=\"translate(0 0.684375)\" xlink:href=\"#DejaVuSans-49\"/>\n       <use transform=\"translate(63.623047 0.684375)\" xlink:href=\"#DejaVuSans-48\"/>\n       <use transform=\"translate(128.203125 38.965625)scale(0.7)\" xlink:href=\"#DejaVuSans-53\"/>\n      </g>\n     </g>\n    </g>\n    <g id=\"xtick_7\">\n     <g id=\"line2d_7\">\n      <defs>\n       <path d=\"M 0 0 \nL 0 2 \n\" id=\"mfc58ec093d\" style=\"stroke:#000000;stroke-width:0.6;\"/>\n      </defs>\n      <g>\n       <use style=\"stroke:#000000;stroke-width:0.6;\" x=\"31.161142\" xlink:href=\"#mfc58ec093d\" y=\"294.118125\"/>\n      </g>\n     </g>\n    </g>\n    <g id=\"xtick_8\">\n     <g id=\"line2d_8\">\n      <g>\n       <use style=\"stroke:#000000;stroke-width:0.6;\" x=\"34.893946\" xlink:href=\"#mfc58ec093d\" y=\"294.118125\"/>\n      </g>\n     </g>\n    </g>\n    <g id=\"xtick_9\">\n     <g id=\"line2d_9\">\n      <g>\n       <use style=\"stroke:#000000;stroke-width:0.6;\" x=\"38.127447\" xlink:href=\"#mfc58ec093d\" y=\"294.118125\"/>\n      </g>\n     </g>\n    </g>\n    <g id=\"xtick_10\">\n     <g id=\"line2d_10\">\n      <g>\n       <use style=\"stroke:#000000;stroke-width:0.6;\" x=\"40.979597\" xlink:href=\"#mfc58ec093d\" y=\"294.118125\"/>\n      </g>\n     </g>\n    </g>\n    <g id=\"xtick_11\">\n     <g id=\"line2d_11\">\n      <g>\n       <use style=\"stroke:#000000;stroke-width:0.6;\" x=\"60.315692\" xlink:href=\"#mfc58ec093d\" y=\"294.118125\"/>\n      </g>\n     </g>\n    </g>\n    <g id=\"xtick_12\">\n     <g id=\"line2d_12\">\n      <g>\n       <use style=\"stroke:#000000;stroke-width:0.6;\" x=\"70.134147\" xlink:href=\"#mfc58ec093d\" y=\"294.118125\"/>\n      </g>\n     </g>\n    </g>\n    <g id=\"xtick_13\">\n     <g id=\"line2d_13\">\n      <g>\n       <use style=\"stroke:#000000;stroke-width:0.6;\" x=\"77.100451\" xlink:href=\"#mfc58ec093d\" y=\"294.118125\"/>\n      </g>\n     </g>\n    </g>\n    <g id=\"xtick_14\">\n     <g id=\"line2d_14\">\n      <g>\n       <use style=\"stroke:#000000;stroke-width:0.6;\" x=\"82.503937\" xlink:href=\"#mfc58ec093d\" y=\"294.118125\"/>\n      </g>\n     </g>\n    </g>\n    <g id=\"xtick_15\">\n     <g id=\"line2d_15\">\n      <g>\n       <use style=\"stroke:#000000;stroke-width:0.6;\" x=\"86.918906\" xlink:href=\"#mfc58ec093d\" y=\"294.118125\"/>\n      </g>\n     </g>\n    </g>\n    <g id=\"xtick_16\">\n     <g id=\"line2d_16\">\n      <g>\n       <use style=\"stroke:#000000;stroke-width:0.6;\" x=\"90.651709\" xlink:href=\"#mfc58ec093d\" y=\"294.118125\"/>\n      </g>\n     </g>\n    </g>\n    <g id=\"xtick_17\">\n     <g id=\"line2d_17\">\n      <g>\n       <use style=\"stroke:#000000;stroke-width:0.6;\" x=\"93.885211\" xlink:href=\"#mfc58ec093d\" y=\"294.118125\"/>\n      </g>\n     </g>\n    </g>\n    <g id=\"xtick_18\">\n     <g id=\"line2d_18\">\n      <g>\n       <use style=\"stroke:#000000;stroke-width:0.6;\" x=\"96.737361\" xlink:href=\"#mfc58ec093d\" y=\"294.118125\"/>\n      </g>\n     </g>\n    </g>\n    <g id=\"xtick_19\">\n     <g id=\"line2d_19\">\n      <g>\n       <use style=\"stroke:#000000;stroke-width:0.6;\" x=\"116.073456\" xlink:href=\"#mfc58ec093d\" y=\"294.118125\"/>\n      </g>\n     </g>\n    </g>\n    <g id=\"xtick_20\">\n     <g id=\"line2d_20\">\n      <g>\n       <use style=\"stroke:#000000;stroke-width:0.6;\" x=\"125.89191\" xlink:href=\"#mfc58ec093d\" y=\"294.118125\"/>\n      </g>\n     </g>\n    </g>\n    <g id=\"xtick_21\">\n     <g id=\"line2d_21\">\n      <g>\n       <use style=\"stroke:#000000;stroke-width:0.6;\" x=\"132.858215\" xlink:href=\"#mfc58ec093d\" y=\"294.118125\"/>\n      </g>\n     </g>\n    </g>\n    <g id=\"xtick_22\">\n     <g id=\"line2d_22\">\n      <g>\n       <use style=\"stroke:#000000;stroke-width:0.6;\" x=\"138.2617\" xlink:href=\"#mfc58ec093d\" y=\"294.118125\"/>\n      </g>\n     </g>\n    </g>\n    <g id=\"xtick_23\">\n     <g id=\"line2d_23\">\n      <g>\n       <use style=\"stroke:#000000;stroke-width:0.6;\" x=\"142.67667\" xlink:href=\"#mfc58ec093d\" y=\"294.118125\"/>\n      </g>\n     </g>\n    </g>\n    <g id=\"xtick_24\">\n     <g id=\"line2d_24\">\n      <g>\n       <use style=\"stroke:#000000;stroke-width:0.6;\" x=\"146.409473\" xlink:href=\"#mfc58ec093d\" y=\"294.118125\"/>\n      </g>\n     </g>\n    </g>\n    <g id=\"xtick_25\">\n     <g id=\"line2d_25\">\n      <g>\n       <use style=\"stroke:#000000;stroke-width:0.6;\" x=\"149.642974\" xlink:href=\"#mfc58ec093d\" y=\"294.118125\"/>\n      </g>\n     </g>\n    </g>\n    <g id=\"xtick_26\">\n     <g id=\"line2d_26\">\n      <g>\n       <use style=\"stroke:#000000;stroke-width:0.6;\" x=\"152.495124\" xlink:href=\"#mfc58ec093d\" y=\"294.118125\"/>\n      </g>\n     </g>\n    </g>\n    <g id=\"xtick_27\">\n     <g id=\"line2d_27\">\n      <g>\n       <use style=\"stroke:#000000;stroke-width:0.6;\" x=\"171.831219\" xlink:href=\"#mfc58ec093d\" y=\"294.118125\"/>\n      </g>\n     </g>\n    </g>\n    <g id=\"xtick_28\">\n     <g id=\"line2d_28\">\n      <g>\n       <use style=\"stroke:#000000;stroke-width:0.6;\" x=\"181.649674\" xlink:href=\"#mfc58ec093d\" y=\"294.118125\"/>\n      </g>\n     </g>\n    </g>\n    <g id=\"xtick_29\">\n     <g id=\"line2d_29\">\n      <g>\n       <use style=\"stroke:#000000;stroke-width:0.6;\" x=\"188.615979\" xlink:href=\"#mfc58ec093d\" y=\"294.118125\"/>\n      </g>\n     </g>\n    </g>\n    <g id=\"xtick_30\">\n     <g id=\"line2d_30\">\n      <g>\n       <use style=\"stroke:#000000;stroke-width:0.6;\" x=\"194.019464\" xlink:href=\"#mfc58ec093d\" y=\"294.118125\"/>\n      </g>\n     </g>\n    </g>\n    <g id=\"xtick_31\">\n     <g id=\"line2d_31\">\n      <g>\n       <use style=\"stroke:#000000;stroke-width:0.6;\" x=\"198.434433\" xlink:href=\"#mfc58ec093d\" y=\"294.118125\"/>\n      </g>\n     </g>\n    </g>\n    <g id=\"xtick_32\">\n     <g id=\"line2d_32\">\n      <g>\n       <use style=\"stroke:#000000;stroke-width:0.6;\" x=\"202.167237\" xlink:href=\"#mfc58ec093d\" y=\"294.118125\"/>\n      </g>\n     </g>\n    </g>\n    <g id=\"xtick_33\">\n     <g id=\"line2d_33\">\n      <g>\n       <use style=\"stroke:#000000;stroke-width:0.6;\" x=\"205.400738\" xlink:href=\"#mfc58ec093d\" y=\"294.118125\"/>\n      </g>\n     </g>\n    </g>\n    <g id=\"xtick_34\">\n     <g id=\"line2d_34\">\n      <g>\n       <use style=\"stroke:#000000;stroke-width:0.6;\" x=\"208.252888\" xlink:href=\"#mfc58ec093d\" y=\"294.118125\"/>\n      </g>\n     </g>\n    </g>\n    <g id=\"xtick_35\">\n     <g id=\"line2d_35\">\n      <g>\n       <use style=\"stroke:#000000;stroke-width:0.6;\" x=\"227.588983\" xlink:href=\"#mfc58ec093d\" y=\"294.118125\"/>\n      </g>\n     </g>\n    </g>\n    <g id=\"xtick_36\">\n     <g id=\"line2d_36\">\n      <g>\n       <use style=\"stroke:#000000;stroke-width:0.6;\" x=\"237.407438\" xlink:href=\"#mfc58ec093d\" y=\"294.118125\"/>\n      </g>\n     </g>\n    </g>\n    <g id=\"xtick_37\">\n     <g id=\"line2d_37\">\n      <g>\n       <use style=\"stroke:#000000;stroke-width:0.6;\" x=\"244.373742\" xlink:href=\"#mfc58ec093d\" y=\"294.118125\"/>\n      </g>\n     </g>\n    </g>\n    <g id=\"xtick_38\">\n     <g id=\"line2d_38\">\n      <g>\n       <use style=\"stroke:#000000;stroke-width:0.6;\" x=\"249.777228\" xlink:href=\"#mfc58ec093d\" y=\"294.118125\"/>\n      </g>\n     </g>\n    </g>\n    <g id=\"xtick_39\">\n     <g id=\"line2d_39\">\n      <g>\n       <use style=\"stroke:#000000;stroke-width:0.6;\" x=\"254.192197\" xlink:href=\"#mfc58ec093d\" y=\"294.118125\"/>\n      </g>\n     </g>\n    </g>\n    <g id=\"xtick_40\">\n     <g id=\"line2d_40\">\n      <g>\n       <use style=\"stroke:#000000;stroke-width:0.6;\" x=\"257.925\" xlink:href=\"#mfc58ec093d\" y=\"294.118125\"/>\n      </g>\n     </g>\n    </g>\n    <g id=\"xtick_41\">\n     <g id=\"line2d_41\">\n      <g>\n       <use style=\"stroke:#000000;stroke-width:0.6;\" x=\"261.158502\" xlink:href=\"#mfc58ec093d\" y=\"294.118125\"/>\n      </g>\n     </g>\n    </g>\n    <g id=\"xtick_42\">\n     <g id=\"line2d_42\">\n      <g>\n       <use style=\"stroke:#000000;stroke-width:0.6;\" x=\"264.010652\" xlink:href=\"#mfc58ec093d\" y=\"294.118125\"/>\n      </g>\n     </g>\n    </g>\n    <g id=\"xtick_43\">\n     <g id=\"line2d_43\">\n      <g>\n       <use style=\"stroke:#000000;stroke-width:0.6;\" x=\"283.346747\" xlink:href=\"#mfc58ec093d\" y=\"294.118125\"/>\n      </g>\n     </g>\n    </g>\n    <g id=\"xtick_44\">\n     <g id=\"line2d_44\">\n      <g>\n       <use style=\"stroke:#000000;stroke-width:0.6;\" x=\"293.165201\" xlink:href=\"#mfc58ec093d\" y=\"294.118125\"/>\n      </g>\n     </g>\n    </g>\n    <g id=\"xtick_45\">\n     <g id=\"line2d_45\">\n      <g>\n       <use style=\"stroke:#000000;stroke-width:0.6;\" x=\"300.131506\" xlink:href=\"#mfc58ec093d\" y=\"294.118125\"/>\n      </g>\n     </g>\n    </g>\n    <g id=\"xtick_46\">\n     <g id=\"line2d_46\">\n      <g>\n       <use style=\"stroke:#000000;stroke-width:0.6;\" x=\"305.534992\" xlink:href=\"#mfc58ec093d\" y=\"294.118125\"/>\n      </g>\n     </g>\n    </g>\n    <g id=\"xtick_47\">\n     <g id=\"line2d_47\">\n      <g>\n       <use style=\"stroke:#000000;stroke-width:0.6;\" x=\"309.949961\" xlink:href=\"#mfc58ec093d\" y=\"294.118125\"/>\n      </g>\n     </g>\n    </g>\n    <g id=\"xtick_48\">\n     <g id=\"line2d_48\">\n      <g>\n       <use style=\"stroke:#000000;stroke-width:0.6;\" x=\"313.682764\" xlink:href=\"#mfc58ec093d\" y=\"294.118125\"/>\n      </g>\n     </g>\n    </g>\n    <g id=\"xtick_49\">\n     <g id=\"line2d_49\">\n      <g>\n       <use style=\"stroke:#000000;stroke-width:0.6;\" x=\"316.916265\" xlink:href=\"#mfc58ec093d\" y=\"294.118125\"/>\n      </g>\n     </g>\n    </g>\n    <g id=\"xtick_50\">\n     <g id=\"line2d_50\">\n      <g>\n       <use style=\"stroke:#000000;stroke-width:0.6;\" x=\"319.768416\" xlink:href=\"#mfc58ec093d\" y=\"294.118125\"/>\n      </g>\n     </g>\n    </g>\n    <g id=\"text_7\">\n     <!-- nodes -->\n     <defs>\n      <path d=\"M 54.890625 33.015625 \nL 54.890625 0 \nL 45.90625 0 \nL 45.90625 32.71875 \nQ 45.90625 40.484375 42.875 44.328125 \nQ 39.84375 48.1875 33.796875 48.1875 \nQ 26.515625 48.1875 22.3125 43.546875 \nQ 18.109375 38.921875 18.109375 30.90625 \nL 18.109375 0 \nL 9.078125 0 \nL 9.078125 54.6875 \nL 18.109375 54.6875 \nL 18.109375 46.1875 \nQ 21.34375 51.125 25.703125 53.5625 \nQ 30.078125 56 35.796875 56 \nQ 45.21875 56 50.046875 50.171875 \nQ 54.890625 44.34375 54.890625 33.015625 \nz\n\" id=\"DejaVuSans-110\"/>\n      <path d=\"M 30.609375 48.390625 \nQ 23.390625 48.390625 19.1875 42.75 \nQ 14.984375 37.109375 14.984375 27.296875 \nQ 14.984375 17.484375 19.15625 11.84375 \nQ 23.34375 6.203125 30.609375 6.203125 \nQ 37.796875 6.203125 41.984375 11.859375 \nQ 46.1875 17.53125 46.1875 27.296875 \nQ 46.1875 37.015625 41.984375 42.703125 \nQ 37.796875 48.390625 30.609375 48.390625 \nz\nM 30.609375 56 \nQ 42.328125 56 49.015625 48.375 \nQ 55.71875 40.765625 55.71875 27.296875 \nQ 55.71875 13.875 49.015625 6.21875 \nQ 42.328125 -1.421875 30.609375 -1.421875 \nQ 18.84375 -1.421875 12.171875 6.21875 \nQ 5.515625 13.875 5.515625 27.296875 \nQ 5.515625 40.765625 12.171875 48.375 \nQ 18.84375 56 30.609375 56 \nz\n\" id=\"DejaVuSans-111\"/>\n      <path d=\"M 45.40625 46.390625 \nL 45.40625 75.984375 \nL 54.390625 75.984375 \nL 54.390625 0 \nL 45.40625 0 \nL 45.40625 8.203125 \nQ 42.578125 3.328125 38.25 0.953125 \nQ 33.9375 -1.421875 27.875 -1.421875 \nQ 17.96875 -1.421875 11.734375 6.484375 \nQ 5.515625 14.40625 5.515625 27.296875 \nQ 5.515625 40.1875 11.734375 48.09375 \nQ 17.96875 56 27.875 56 \nQ 33.9375 56 38.25 53.625 \nQ 42.578125 51.265625 45.40625 46.390625 \nz\nM 14.796875 27.296875 \nQ 14.796875 17.390625 18.875 11.75 \nQ 22.953125 6.109375 30.078125 6.109375 \nQ 37.203125 6.109375 41.296875 11.75 \nQ 45.40625 17.390625 45.40625 27.296875 \nQ 45.40625 37.203125 41.296875 42.84375 \nQ 37.203125 48.484375 30.078125 48.484375 \nQ 22.953125 48.484375 18.875 42.84375 \nQ 14.796875 37.203125 14.796875 27.296875 \nz\n\" id=\"DejaVuSans-100\"/>\n      <path d=\"M 56.203125 29.59375 \nL 56.203125 25.203125 \nL 14.890625 25.203125 \nQ 15.484375 15.921875 20.484375 11.0625 \nQ 25.484375 6.203125 34.421875 6.203125 \nQ 39.59375 6.203125 44.453125 7.46875 \nQ 49.3125 8.734375 54.109375 11.28125 \nL 54.109375 2.78125 \nQ 49.265625 0.734375 44.1875 -0.34375 \nQ 39.109375 -1.421875 33.890625 -1.421875 \nQ 20.796875 -1.421875 13.15625 6.1875 \nQ 5.515625 13.8125 5.515625 26.8125 \nQ 5.515625 40.234375 12.765625 48.109375 \nQ 20.015625 56 32.328125 56 \nQ 43.359375 56 49.78125 48.890625 \nQ 56.203125 41.796875 56.203125 29.59375 \nz\nM 47.21875 32.234375 \nQ 47.125 39.59375 43.09375 43.984375 \nQ 39.0625 48.390625 32.421875 48.390625 \nQ 24.90625 48.390625 20.390625 44.140625 \nQ 15.875 39.890625 15.1875 32.171875 \nz\n\" id=\"DejaVuSans-101\"/>\n      <path d=\"M 44.28125 53.078125 \nL 44.28125 44.578125 \nQ 40.484375 46.53125 36.375 47.5 \nQ 32.28125 48.484375 27.875 48.484375 \nQ 21.1875 48.484375 17.84375 46.4375 \nQ 14.5 44.390625 14.5 40.28125 \nQ 14.5 37.15625 16.890625 35.375 \nQ 19.28125 33.59375 26.515625 31.984375 \nL 29.59375 31.296875 \nQ 39.15625 29.25 43.1875 25.515625 \nQ 47.21875 21.78125 47.21875 15.09375 \nQ 47.21875 7.46875 41.1875 3.015625 \nQ 35.15625 -1.421875 24.609375 -1.421875 \nQ 20.21875 -1.421875 15.453125 -0.5625 \nQ 10.6875 0.296875 5.421875 2 \nL 5.421875 11.28125 \nQ 10.40625 8.6875 15.234375 7.390625 \nQ 20.0625 6.109375 24.8125 6.109375 \nQ 31.15625 6.109375 34.5625 8.28125 \nQ 37.984375 10.453125 37.984375 14.40625 \nQ 37.984375 18.0625 35.515625 20.015625 \nQ 33.0625 21.96875 24.703125 23.78125 \nL 21.578125 24.515625 \nQ 13.234375 26.265625 9.515625 29.90625 \nQ 5.8125 33.546875 5.8125 39.890625 \nQ 5.8125 47.609375 11.28125 51.796875 \nQ 16.75 56 26.8125 56 \nQ 31.78125 56 36.171875 55.265625 \nQ 40.578125 54.546875 44.28125 53.078125 \nz\n\" id=\"DejaVuSans-115\"/>\n     </defs>\n     <g transform=\"translate(162.725414 322.394687)scale(0.1 -0.1)\">\n      <use xlink:href=\"#DejaVuSans-110\"/>\n      <use x=\"63.378906\" xlink:href=\"#DejaVuSans-111\"/>\n      <use x=\"124.560547\" xlink:href=\"#DejaVuSans-100\"/>\n      <use x=\"188.037109\" xlink:href=\"#DejaVuSans-101\"/>\n      <use x=\"249.560547\" xlink:href=\"#DejaVuSans-115\"/>\n     </g>\n    </g>\n   </g>\n   <g id=\"matplotlib.axis_2\">\n    <g id=\"ytick_1\">\n     <g id=\"line2d_51\">\n      <defs>\n       <path d=\"M 0 0 \nL -3.5 0 \n\" id=\"m3cb5fac210\" style=\"stroke:#000000;stroke-width:0.8;\"/>\n      </defs>\n      <g>\n       <use style=\"stroke:#000000;stroke-width:0.8;\" x=\"30.103125\" xlink:href=\"#m3cb5fac210\" y=\"291.101383\"/>\n      </g>\n     </g>\n     <g id=\"text_8\">\n      <!-- 0.3 -->\n      <defs>\n       <path d=\"M 10.6875 12.40625 \nL 21 12.40625 \nL 21 0 \nL 10.6875 0 \nz\n\" id=\"DejaVuSans-46\"/>\n      </defs>\n      <g transform=\"translate(7.2 294.900602)scale(0.1 -0.1)\">\n       <use xlink:href=\"#DejaVuSans-48\"/>\n       <use x=\"63.623047\" xlink:href=\"#DejaVuSans-46\"/>\n       <use x=\"95.410156\" xlink:href=\"#DejaVuSans-51\"/>\n      </g>\n     </g>\n    </g>\n    <g id=\"ytick_2\">\n     <g id=\"line2d_52\">\n      <g>\n       <use style=\"stroke:#000000;stroke-width:0.8;\" x=\"30.103125\" xlink:href=\"#m3cb5fac210\" y=\"259.594466\"/>\n      </g>\n     </g>\n     <g id=\"text_9\">\n      <!-- 0.4 -->\n      <g transform=\"translate(7.2 263.393685)scale(0.1 -0.1)\">\n       <use xlink:href=\"#DejaVuSans-48\"/>\n       <use x=\"63.623047\" xlink:href=\"#DejaVuSans-46\"/>\n       <use x=\"95.410156\" xlink:href=\"#DejaVuSans-52\"/>\n      </g>\n     </g>\n    </g>\n    <g id=\"ytick_3\">\n     <g id=\"line2d_53\">\n      <g>\n       <use style=\"stroke:#000000;stroke-width:0.8;\" x=\"30.103125\" xlink:href=\"#m3cb5fac210\" y=\"228.087549\"/>\n      </g>\n     </g>\n     <g id=\"text_10\">\n      <!-- 0.5 -->\n      <g transform=\"translate(7.2 231.886768)scale(0.1 -0.1)\">\n       <use xlink:href=\"#DejaVuSans-48\"/>\n       <use x=\"63.623047\" xlink:href=\"#DejaVuSans-46\"/>\n       <use x=\"95.410156\" xlink:href=\"#DejaVuSans-53\"/>\n      </g>\n     </g>\n    </g>\n    <g id=\"ytick_4\">\n     <g id=\"line2d_54\">\n      <g>\n       <use style=\"stroke:#000000;stroke-width:0.8;\" x=\"30.103125\" xlink:href=\"#m3cb5fac210\" y=\"196.580632\"/>\n      </g>\n     </g>\n     <g id=\"text_11\">\n      <!-- 0.6 -->\n      <defs>\n       <path d=\"M 33.015625 40.375 \nQ 26.375 40.375 22.484375 35.828125 \nQ 18.609375 31.296875 18.609375 23.390625 \nQ 18.609375 15.53125 22.484375 10.953125 \nQ 26.375 6.390625 33.015625 6.390625 \nQ 39.65625 6.390625 43.53125 10.953125 \nQ 47.40625 15.53125 47.40625 23.390625 \nQ 47.40625 31.296875 43.53125 35.828125 \nQ 39.65625 40.375 33.015625 40.375 \nz\nM 52.59375 71.296875 \nL 52.59375 62.3125 \nQ 48.875 64.0625 45.09375 64.984375 \nQ 41.3125 65.921875 37.59375 65.921875 \nQ 27.828125 65.921875 22.671875 59.328125 \nQ 17.53125 52.734375 16.796875 39.40625 \nQ 19.671875 43.65625 24.015625 45.921875 \nQ 28.375 48.1875 33.59375 48.1875 \nQ 44.578125 48.1875 50.953125 41.515625 \nQ 57.328125 34.859375 57.328125 23.390625 \nQ 57.328125 12.15625 50.6875 5.359375 \nQ 44.046875 -1.421875 33.015625 -1.421875 \nQ 20.359375 -1.421875 13.671875 8.265625 \nQ 6.984375 17.96875 6.984375 36.375 \nQ 6.984375 53.65625 15.1875 63.9375 \nQ 23.390625 74.21875 37.203125 74.21875 \nQ 40.921875 74.21875 44.703125 73.484375 \nQ 48.484375 72.75 52.59375 71.296875 \nz\n\" id=\"DejaVuSans-54\"/>\n      </defs>\n      <g transform=\"translate(7.2 200.379851)scale(0.1 -0.1)\">\n       <use xlink:href=\"#DejaVuSans-48\"/>\n       <use x=\"63.623047\" xlink:href=\"#DejaVuSans-46\"/>\n       <use x=\"95.410156\" xlink:href=\"#DejaVuSans-54\"/>\n      </g>\n     </g>\n    </g>\n    <g id=\"ytick_5\">\n     <g id=\"line2d_55\">\n      <g>\n       <use style=\"stroke:#000000;stroke-width:0.8;\" x=\"30.103125\" xlink:href=\"#m3cb5fac210\" y=\"165.073715\"/>\n      </g>\n     </g>\n     <g id=\"text_12\">\n      <!-- 0.7 -->\n      <defs>\n       <path d=\"M 8.203125 72.90625 \nL 55.078125 72.90625 \nL 55.078125 68.703125 \nL 28.609375 0 \nL 18.3125 0 \nL 43.21875 64.59375 \nL 8.203125 64.59375 \nz\n\" id=\"DejaVuSans-55\"/>\n      </defs>\n      <g transform=\"translate(7.2 168.872934)scale(0.1 -0.1)\">\n       <use xlink:href=\"#DejaVuSans-48\"/>\n       <use x=\"63.623047\" xlink:href=\"#DejaVuSans-46\"/>\n       <use x=\"95.410156\" xlink:href=\"#DejaVuSans-55\"/>\n      </g>\n     </g>\n    </g>\n    <g id=\"ytick_6\">\n     <g id=\"line2d_56\">\n      <g>\n       <use style=\"stroke:#000000;stroke-width:0.8;\" x=\"30.103125\" xlink:href=\"#m3cb5fac210\" y=\"133.566798\"/>\n      </g>\n     </g>\n     <g id=\"text_13\">\n      <!-- 0.8 -->\n      <defs>\n       <path d=\"M 31.78125 34.625 \nQ 24.75 34.625 20.71875 30.859375 \nQ 16.703125 27.09375 16.703125 20.515625 \nQ 16.703125 13.921875 20.71875 10.15625 \nQ 24.75 6.390625 31.78125 6.390625 \nQ 38.8125 6.390625 42.859375 10.171875 \nQ 46.921875 13.96875 46.921875 20.515625 \nQ 46.921875 27.09375 42.890625 30.859375 \nQ 38.875 34.625 31.78125 34.625 \nz\nM 21.921875 38.8125 \nQ 15.578125 40.375 12.03125 44.71875 \nQ 8.5 49.078125 8.5 55.328125 \nQ 8.5 64.0625 14.71875 69.140625 \nQ 20.953125 74.21875 31.78125 74.21875 \nQ 42.671875 74.21875 48.875 69.140625 \nQ 55.078125 64.0625 55.078125 55.328125 \nQ 55.078125 49.078125 51.53125 44.71875 \nQ 48 40.375 41.703125 38.8125 \nQ 48.828125 37.15625 52.796875 32.3125 \nQ 56.78125 27.484375 56.78125 20.515625 \nQ 56.78125 9.90625 50.3125 4.234375 \nQ 43.84375 -1.421875 31.78125 -1.421875 \nQ 19.734375 -1.421875 13.25 4.234375 \nQ 6.78125 9.90625 6.78125 20.515625 \nQ 6.78125 27.484375 10.78125 32.3125 \nQ 14.796875 37.15625 21.921875 38.8125 \nz\nM 18.3125 54.390625 \nQ 18.3125 48.734375 21.84375 45.5625 \nQ 25.390625 42.390625 31.78125 42.390625 \nQ 38.140625 42.390625 41.71875 45.5625 \nQ 45.3125 48.734375 45.3125 54.390625 \nQ 45.3125 60.0625 41.71875 63.234375 \nQ 38.140625 66.40625 31.78125 66.40625 \nQ 25.390625 66.40625 21.84375 63.234375 \nQ 18.3125 60.0625 18.3125 54.390625 \nz\n\" id=\"DejaVuSans-56\"/>\n      </defs>\n      <g transform=\"translate(7.2 137.366017)scale(0.1 -0.1)\">\n       <use xlink:href=\"#DejaVuSans-48\"/>\n       <use x=\"63.623047\" xlink:href=\"#DejaVuSans-46\"/>\n       <use x=\"95.410156\" xlink:href=\"#DejaVuSans-56\"/>\n      </g>\n     </g>\n    </g>\n    <g id=\"ytick_7\">\n     <g id=\"line2d_57\">\n      <g>\n       <use style=\"stroke:#000000;stroke-width:0.8;\" x=\"30.103125\" xlink:href=\"#m3cb5fac210\" y=\"102.059881\"/>\n      </g>\n     </g>\n     <g id=\"text_14\">\n      <!-- 0.9 -->\n      <defs>\n       <path d=\"M 10.984375 1.515625 \nL 10.984375 10.5 \nQ 14.703125 8.734375 18.5 7.8125 \nQ 22.3125 6.890625 25.984375 6.890625 \nQ 35.75 6.890625 40.890625 13.453125 \nQ 46.046875 20.015625 46.78125 33.40625 \nQ 43.953125 29.203125 39.59375 26.953125 \nQ 35.25 24.703125 29.984375 24.703125 \nQ 19.046875 24.703125 12.671875 31.3125 \nQ 6.296875 37.9375 6.296875 49.421875 \nQ 6.296875 60.640625 12.9375 67.421875 \nQ 19.578125 74.21875 30.609375 74.21875 \nQ 43.265625 74.21875 49.921875 64.515625 \nQ 56.59375 54.828125 56.59375 36.375 \nQ 56.59375 19.140625 48.40625 8.859375 \nQ 40.234375 -1.421875 26.421875 -1.421875 \nQ 22.703125 -1.421875 18.890625 -0.6875 \nQ 15.09375 0.046875 10.984375 1.515625 \nz\nM 30.609375 32.421875 \nQ 37.25 32.421875 41.125 36.953125 \nQ 45.015625 41.5 45.015625 49.421875 \nQ 45.015625 57.28125 41.125 61.84375 \nQ 37.25 66.40625 30.609375 66.40625 \nQ 23.96875 66.40625 20.09375 61.84375 \nQ 16.21875 57.28125 16.21875 49.421875 \nQ 16.21875 41.5 20.09375 36.953125 \nQ 23.96875 32.421875 30.609375 32.421875 \nz\n\" id=\"DejaVuSans-57\"/>\n      </defs>\n      <g transform=\"translate(7.2 105.8591)scale(0.1 -0.1)\">\n       <use xlink:href=\"#DejaVuSans-48\"/>\n       <use x=\"63.623047\" xlink:href=\"#DejaVuSans-46\"/>\n       <use x=\"95.410156\" xlink:href=\"#DejaVuSans-57\"/>\n      </g>\n     </g>\n    </g>\n    <g id=\"ytick_8\">\n     <g id=\"line2d_58\">\n      <g>\n       <use style=\"stroke:#000000;stroke-width:0.8;\" x=\"30.103125\" xlink:href=\"#m3cb5fac210\" y=\"70.552964\"/>\n      </g>\n     </g>\n     <g id=\"text_15\">\n      <!-- 1.0 -->\n      <g transform=\"translate(7.2 74.352183)scale(0.1 -0.1)\">\n       <use xlink:href=\"#DejaVuSans-49\"/>\n       <use x=\"63.623047\" xlink:href=\"#DejaVuSans-46\"/>\n       <use x=\"95.410156\" xlink:href=\"#DejaVuSans-48\"/>\n      </g>\n     </g>\n    </g>\n    <g id=\"ytick_9\">\n     <g id=\"line2d_59\">\n      <g>\n       <use style=\"stroke:#000000;stroke-width:0.8;\" x=\"30.103125\" xlink:href=\"#m3cb5fac210\" y=\"39.046048\"/>\n      </g>\n     </g>\n     <g id=\"text_16\">\n      <!-- 1.1 -->\n      <g transform=\"translate(7.2 42.845266)scale(0.1 -0.1)\">\n       <use xlink:href=\"#DejaVuSans-49\"/>\n       <use x=\"63.623047\" xlink:href=\"#DejaVuSans-46\"/>\n       <use x=\"95.410156\" xlink:href=\"#DejaVuSans-49\"/>\n      </g>\n     </g>\n    </g>\n   </g>\n   <g id=\"LineCollection_1\">\n    <path clip-path=\"url(#pc92385cb37)\" d=\"M 43.530932 103.982662 \nL 43.530932 36.416862 \n\" style=\"fill:none;stroke:#1f77b4;stroke-width:1.5;\"/>\n    <path clip-path=\"url(#pc92385cb37)\" d=\"M 60.315692 123.894675 \nL 60.315692 34.67267 \n\" style=\"fill:none;stroke:#1f77b4;stroke-width:1.5;\"/>\n    <path clip-path=\"url(#pc92385cb37)\" d=\"M 77.100451 150.384599 \nL 77.100451 46.006091 \n\" style=\"fill:none;stroke:#1f77b4;stroke-width:1.5;\"/>\n    <path clip-path=\"url(#pc92385cb37)\" d=\"M 93.885211 182.927972 \nL 93.885211 70.835335 \n\" style=\"fill:none;stroke:#1f77b4;stroke-width:1.5;\"/>\n    <path clip-path=\"url(#pc92385cb37)\" d=\"M 110.66997 215.695418 \nL 110.66997 118.755425 \n\" style=\"fill:none;stroke:#1f77b4;stroke-width:1.5;\"/>\n    <path clip-path=\"url(#pc92385cb37)\" d=\"M 127.454729 244.414301 \nL 127.454729 171.210724 \n\" style=\"fill:none;stroke:#1f77b4;stroke-width:1.5;\"/>\n    <path clip-path=\"url(#pc92385cb37)\" d=\"M 144.239489 260.888165 \nL 144.239489 210.208377 \n\" style=\"fill:none;stroke:#1f77b4;stroke-width:1.5;\"/>\n    <path clip-path=\"url(#pc92385cb37)\" d=\"M 161.024248 272.786693 \nL 161.024248 234.707633 \n\" style=\"fill:none;stroke:#1f77b4;stroke-width:1.5;\"/>\n    <path clip-path=\"url(#pc92385cb37)\" d=\"M 177.809007 277.152904 \nL 177.809007 247.338056 \n\" style=\"fill:none;stroke:#1f77b4;stroke-width:1.5;\"/>\n    <path clip-path=\"url(#pc92385cb37)\" d=\"M 194.593767 279.599377 \nL 194.593767 253.073524 \n\" style=\"fill:none;stroke:#1f77b4;stroke-width:1.5;\"/>\n    <path clip-path=\"url(#pc92385cb37)\" d=\"M 211.378526 280.598813 \nL 211.378526 257.030101 \n\" style=\"fill:none;stroke:#1f77b4;stroke-width:1.5;\"/>\n    <path clip-path=\"url(#pc92385cb37)\" d=\"M 228.163285 281.102569 \nL 228.163285 259.086979 \n\" style=\"fill:none;stroke:#1f77b4;stroke-width:1.5;\"/>\n    <path clip-path=\"url(#pc92385cb37)\" d=\"M 244.948045 281.418843 \nL 244.948045 259.97447 \n\" style=\"fill:none;stroke:#1f77b4;stroke-width:1.5;\"/>\n    <path clip-path=\"url(#pc92385cb37)\" d=\"M 261.732804 281.695065 \nL 261.732804 260.240566 \n\" style=\"fill:none;stroke:#1f77b4;stroke-width:1.5;\"/>\n    <path clip-path=\"url(#pc92385cb37)\" d=\"M 278.517564 281.759509 \nL 278.517564 260.721692 \n\" style=\"fill:none;stroke:#1f77b4;stroke-width:1.5;\"/>\n    <path clip-path=\"url(#pc92385cb37)\" d=\"M 295.302323 281.759157 \nL 295.302323 260.714488 \n\" style=\"fill:none;stroke:#1f77b4;stroke-width:1.5;\"/>\n    <path clip-path=\"url(#pc92385cb37)\" d=\"M 312.087082 281.76358 \nL 312.087082 260.781343 \n\" style=\"fill:none;stroke:#1f77b4;stroke-width:1.5;\"/>\n   </g>\n   <g id=\"LineCollection_2\">\n    <path clip-path=\"url(#pc92385cb37)\" d=\"M 43.530932 114.738201 \nL 43.530932 43.320291 \n\" style=\"fill:none;stroke:#ff7f0e;stroke-width:1.5;\"/>\n    <path clip-path=\"url(#pc92385cb37)\" d=\"M 60.315692 137.514725 \nL 60.315692 47.656013 \n\" style=\"fill:none;stroke:#ff7f0e;stroke-width:1.5;\"/>\n    <path clip-path=\"url(#pc92385cb37)\" d=\"M 77.100451 166.780141 \nL 77.100451 64.533619 \n\" style=\"fill:none;stroke:#ff7f0e;stroke-width:1.5;\"/>\n    <path clip-path=\"url(#pc92385cb37)\" d=\"M 93.885211 207.008555 \nL 93.885211 105.56772 \n\" style=\"fill:none;stroke:#ff7f0e;stroke-width:1.5;\"/>\n    <path clip-path=\"url(#pc92385cb37)\" d=\"M 110.66997 243.654117 \nL 110.66997 171.900582 \n\" style=\"fill:none;stroke:#ff7f0e;stroke-width:1.5;\"/>\n    <path clip-path=\"url(#pc92385cb37)\" d=\"M 127.454729 259.232958 \nL 127.454729 219.047417 \n\" style=\"fill:none;stroke:#ff7f0e;stroke-width:1.5;\"/>\n    <path clip-path=\"url(#pc92385cb37)\" d=\"M 144.239489 265.634085 \nL 144.239489 240.988949 \n\" style=\"fill:none;stroke:#ff7f0e;stroke-width:1.5;\"/>\n    <path clip-path=\"url(#pc92385cb37)\" d=\"M 161.024248 269.802396 \nL 161.024248 250.863741 \n\" style=\"fill:none;stroke:#ff7f0e;stroke-width:1.5;\"/>\n    <path clip-path=\"url(#pc92385cb37)\" d=\"M 177.809007 272.623376 \nL 177.809007 255.584489 \n\" style=\"fill:none;stroke:#ff7f0e;stroke-width:1.5;\"/>\n    <path clip-path=\"url(#pc92385cb37)\" d=\"M 194.593767 273.859318 \nL 194.593767 258.155896 \n\" style=\"fill:none;stroke:#ff7f0e;stroke-width:1.5;\"/>\n    <path clip-path=\"url(#pc92385cb37)\" d=\"M 211.378526 274.851253 \nL 211.378526 259.397886 \n\" style=\"fill:none;stroke:#ff7f0e;stroke-width:1.5;\"/>\n    <path clip-path=\"url(#pc92385cb37)\" d=\"M 228.163285 274.98629 \nL 228.163285 259.979897 \n\" style=\"fill:none;stroke:#ff7f0e;stroke-width:1.5;\"/>\n    <path clip-path=\"url(#pc92385cb37)\" d=\"M 244.948045 275.21616 \nL 244.948045 260.333089 \n\" style=\"fill:none;stroke:#ff7f0e;stroke-width:1.5;\"/>\n    <path clip-path=\"url(#pc92385cb37)\" d=\"M 261.732804 275.283887 \nL 261.732804 260.467601 \n\" style=\"fill:none;stroke:#ff7f0e;stroke-width:1.5;\"/>\n    <path clip-path=\"url(#pc92385cb37)\" d=\"M 278.517564 275.321339 \nL 278.517564 260.496731 \n\" style=\"fill:none;stroke:#ff7f0e;stroke-width:1.5;\"/>\n    <path clip-path=\"url(#pc92385cb37)\" d=\"M 295.302323 275.373373 \nL 295.302323 260.566706 \n\" style=\"fill:none;stroke:#ff7f0e;stroke-width:1.5;\"/>\n    <path clip-path=\"url(#pc92385cb37)\" d=\"M 312.087082 275.369104 \nL 312.087082 260.596158 \n\" style=\"fill:none;stroke:#ff7f0e;stroke-width:1.5;\"/>\n   </g>\n   <g id=\"LineCollection_3\">\n    <path clip-path=\"url(#pc92385cb37)\" d=\"M 43.530932 113.702017 \nL 43.530932 43.904602 \n\" style=\"fill:none;stroke:#2ca02c;stroke-width:1.5;\"/>\n    <path clip-path=\"url(#pc92385cb37)\" d=\"M 60.315692 136.297305 \nL 60.315692 48.439975 \n\" style=\"fill:none;stroke:#2ca02c;stroke-width:1.5;\"/>\n    <path clip-path=\"url(#pc92385cb37)\" d=\"M 77.100451 164.890478 \nL 77.100451 62.5194 \n\" style=\"fill:none;stroke:#2ca02c;stroke-width:1.5;\"/>\n    <path clip-path=\"url(#pc92385cb37)\" d=\"M 93.885211 207.862856 \nL 93.885211 103.1839 \n\" style=\"fill:none;stroke:#2ca02c;stroke-width:1.5;\"/>\n    <path clip-path=\"url(#pc92385cb37)\" d=\"M 110.66997 240.005332 \nL 110.66997 173.975008 \n\" style=\"fill:none;stroke:#2ca02c;stroke-width:1.5;\"/>\n    <path clip-path=\"url(#pc92385cb37)\" d=\"M 127.454729 258.635643 \nL 127.454729 225.736595 \n\" style=\"fill:none;stroke:#2ca02c;stroke-width:1.5;\"/>\n    <path clip-path=\"url(#pc92385cb37)\" d=\"M 144.239489 267.508153 \nL 144.239489 247.435948 \n\" style=\"fill:none;stroke:#2ca02c;stroke-width:1.5;\"/>\n    <path clip-path=\"url(#pc92385cb37)\" d=\"M 161.024248 270.79768 \nL 161.024248 254.404949 \n\" style=\"fill:none;stroke:#2ca02c;stroke-width:1.5;\"/>\n    <path clip-path=\"url(#pc92385cb37)\" d=\"M 177.809007 271.862124 \nL 177.809007 256.241933 \n\" style=\"fill:none;stroke:#2ca02c;stroke-width:1.5;\"/>\n    <path clip-path=\"url(#pc92385cb37)\" d=\"M 194.593767 272.027654 \nL 194.593767 256.70564 \n\" style=\"fill:none;stroke:#2ca02c;stroke-width:1.5;\"/>\n    <path clip-path=\"url(#pc92385cb37)\" d=\"M 211.378526 272.128141 \nL 211.378526 256.990061 \n\" style=\"fill:none;stroke:#2ca02c;stroke-width:1.5;\"/>\n    <path clip-path=\"url(#pc92385cb37)\" d=\"M 228.163285 272.15513 \nL 228.163285 257.129109 \n\" style=\"fill:none;stroke:#2ca02c;stroke-width:1.5;\"/>\n    <path clip-path=\"url(#pc92385cb37)\" d=\"M 244.948045 272.216871 \nL 244.948045 257.216382 \n\" style=\"fill:none;stroke:#2ca02c;stroke-width:1.5;\"/>\n    <path clip-path=\"url(#pc92385cb37)\" d=\"M 261.732804 272.216241 \nL 261.732804 257.236005 \n\" style=\"fill:none;stroke:#2ca02c;stroke-width:1.5;\"/>\n    <path clip-path=\"url(#pc92385cb37)\" d=\"M 278.517564 272.250419 \nL 278.517564 257.232144 \n\" style=\"fill:none;stroke:#2ca02c;stroke-width:1.5;\"/>\n    <path clip-path=\"url(#pc92385cb37)\" d=\"M 295.302323 272.238722 \nL 295.302323 257.240419 \n\" style=\"fill:none;stroke:#2ca02c;stroke-width:1.5;\"/>\n    <path clip-path=\"url(#pc92385cb37)\" d=\"M 312.087082 272.243339 \nL 312.087082 257.261305 \n\" style=\"fill:none;stroke:#2ca02c;stroke-width:1.5;\"/>\n   </g>\n   <g id=\"line2d_60\">\n    <path clip-path=\"url(#pc92385cb37)\" d=\"M 43.530932 70.199762 \nL 60.315692 79.283673 \nL 77.100451 98.195345 \nL 93.885211 126.881654 \nL 110.66997 167.225422 \nL 127.454729 207.812512 \nL 144.239489 235.548271 \nL 161.024248 253.747163 \nL 177.809007 262.24548 \nL 194.593767 266.33645 \nL 211.378526 268.814457 \nL 228.163285 270.094774 \nL 244.948045 270.696657 \nL 261.732804 270.967815 \nL 278.517564 271.2406 \nL 295.302323 271.236823 \nL 312.087082 271.272461 \n\" style=\"fill:none;stroke:#0000ff;stroke-linecap:square;stroke-width:1.5;\"/>\n   </g>\n   <g id=\"line2d_61\">\n    <path clip-path=\"url(#pc92385cb37)\" d=\"M 43.530932 79.029246 \nL 60.315692 92.585369 \nL 77.100451 115.65688 \nL 93.885211 156.288138 \nL 110.66997 207.77735 \nL 127.454729 239.140188 \nL 144.239489 253.311517 \nL 161.024248 260.333068 \nL 177.809007 264.103933 \nL 194.593767 266.007607 \nL 211.378526 267.12457 \nL 228.163285 267.483094 \nL 244.948045 267.774625 \nL 261.732804 267.875744 \nL 278.517564 267.909035 \nL 295.302323 267.97004 \nL 312.087082 267.982631 \n\" style=\"fill:none;stroke:#008000;stroke-linecap:square;stroke-width:1.5;\"/>\n   </g>\n   <g id=\"line2d_62\">\n    <path clip-path=\"url(#pc92385cb37)\" d=\"M 43.530932 78.803309 \nL 60.315692 92.36864 \nL 77.100451 113.704939 \nL 93.885211 155.523378 \nL 110.66997 206.99017 \nL 127.454729 242.186119 \nL 144.239489 257.47205 \nL 161.024248 262.601315 \nL 177.809007 264.052028 \nL 194.593767 264.366647 \nL 211.378526 264.559101 \nL 228.163285 264.64212 \nL 244.948045 264.716626 \nL 261.732804 264.726123 \nL 278.517564 264.741281 \nL 295.302323 264.73957 \nL 312.087082 264.752322 \n\" style=\"fill:none;stroke:#ff0000;stroke-linecap:square;stroke-width:1.5;\"/>\n   </g>\n   <g id=\"line2d_63\">\n    <path clip-path=\"url(#pc92385cb37)\" d=\"M 43.530932 70.199762 \nL 60.315692 79.283673 \nL 77.100451 98.195345 \nL 93.885211 126.881654 \nL 110.66997 167.225422 \nL 127.454729 207.812512 \nL 144.239489 235.548271 \nL 161.024248 253.747163 \nL 177.809007 262.24548 \nL 194.593767 266.33645 \nL 211.378526 268.814457 \nL 228.163285 270.094774 \nL 244.948045 270.696657 \nL 261.732804 270.967815 \nL 278.517564 271.2406 \nL 295.302323 271.236823 \nL 312.087082 271.272461 \n\" style=\"fill:none;stroke:#1f77b4;stroke-linecap:square;stroke-width:1.5;\"/>\n   </g>\n   <g id=\"line2d_64\">\n    <path clip-path=\"url(#pc92385cb37)\" d=\"M 43.530932 79.029246 \nL 60.315692 92.585369 \nL 77.100451 115.65688 \nL 93.885211 156.288138 \nL 110.66997 207.77735 \nL 127.454729 239.140188 \nL 144.239489 253.311517 \nL 161.024248 260.333068 \nL 177.809007 264.103933 \nL 194.593767 266.007607 \nL 211.378526 267.12457 \nL 228.163285 267.483094 \nL 244.948045 267.774625 \nL 261.732804 267.875744 \nL 278.517564 267.909035 \nL 295.302323 267.97004 \nL 312.087082 267.982631 \n\" style=\"fill:none;stroke:#ff7f0e;stroke-linecap:square;stroke-width:1.5;\"/>\n   </g>\n   <g id=\"line2d_65\">\n    <path clip-path=\"url(#pc92385cb37)\" d=\"M 43.530932 78.803309 \nL 60.315692 92.36864 \nL 77.100451 113.704939 \nL 93.885211 155.523378 \nL 110.66997 206.99017 \nL 127.454729 242.186119 \nL 144.239489 257.47205 \nL 161.024248 262.601315 \nL 177.809007 264.052028 \nL 194.593767 264.366647 \nL 211.378526 264.559101 \nL 228.163285 264.64212 \nL 244.948045 264.716626 \nL 261.732804 264.726123 \nL 278.517564 264.741281 \nL 295.302323 264.73957 \nL 312.087082 264.752322 \n\" style=\"fill:none;stroke:#2ca02c;stroke-linecap:square;stroke-width:1.5;\"/>\n   </g>\n   <g id=\"patch_3\">\n    <path d=\"M 30.103125 294.118125 \nL 30.103125 22.318125 \n\" style=\"fill:none;stroke:#000000;stroke-linecap:square;stroke-linejoin:miter;stroke-width:0.8;\"/>\n   </g>\n   <g id=\"patch_4\">\n    <path d=\"M 325.51489 294.118125 \nL 325.51489 22.318125 \n\" style=\"fill:none;stroke:#000000;stroke-linecap:square;stroke-linejoin:miter;stroke-width:0.8;\"/>\n   </g>\n   <g id=\"patch_5\">\n    <path d=\"M 30.103125 294.118125 \nL 325.51489 294.118125 \n\" style=\"fill:none;stroke:#000000;stroke-linecap:square;stroke-linejoin:miter;stroke-width:0.8;\"/>\n   </g>\n   <g id=\"patch_6\">\n    <path d=\"M 30.103125 22.318125 \nL 325.51489 22.318125 \n\" style=\"fill:none;stroke:#000000;stroke-linecap:square;stroke-linejoin:miter;stroke-width:0.8;\"/>\n   </g>\n   <g id=\"text_17\">\n    <!-- Test MSE (Minority) -->\n    <defs>\n     <path d=\"M -0.296875 72.90625 \nL 61.375 72.90625 \nL 61.375 64.59375 \nL 35.5 64.59375 \nL 35.5 0 \nL 25.59375 0 \nL 25.59375 64.59375 \nL -0.296875 64.59375 \nz\n\" id=\"DejaVuSans-84\"/>\n     <path d=\"M 18.3125 70.21875 \nL 18.3125 54.6875 \nL 36.8125 54.6875 \nL 36.8125 47.703125 \nL 18.3125 47.703125 \nL 18.3125 18.015625 \nQ 18.3125 11.328125 20.140625 9.421875 \nQ 21.96875 7.515625 27.59375 7.515625 \nL 36.8125 7.515625 \nL 36.8125 0 \nL 27.59375 0 \nQ 17.1875 0 13.234375 3.875 \nQ 9.28125 7.765625 9.28125 18.015625 \nL 9.28125 47.703125 \nL 2.6875 47.703125 \nL 2.6875 54.6875 \nL 9.28125 54.6875 \nL 9.28125 70.21875 \nz\n\" id=\"DejaVuSans-116\"/>\n     <path id=\"DejaVuSans-32\"/>\n     <path d=\"M 9.8125 72.90625 \nL 24.515625 72.90625 \nL 43.109375 23.296875 \nL 61.8125 72.90625 \nL 76.515625 72.90625 \nL 76.515625 0 \nL 66.890625 0 \nL 66.890625 64.015625 \nL 48.09375 14.015625 \nL 38.1875 14.015625 \nL 19.390625 64.015625 \nL 19.390625 0 \nL 9.8125 0 \nz\n\" id=\"DejaVuSans-77\"/>\n     <path d=\"M 53.515625 70.515625 \nL 53.515625 60.890625 \nQ 47.90625 63.578125 42.921875 64.890625 \nQ 37.9375 66.21875 33.296875 66.21875 \nQ 25.25 66.21875 20.875 63.09375 \nQ 16.5 59.96875 16.5 54.203125 \nQ 16.5 49.359375 19.40625 46.890625 \nQ 22.3125 44.4375 30.421875 42.921875 \nL 36.375 41.703125 \nQ 47.40625 39.59375 52.65625 34.296875 \nQ 57.90625 29 57.90625 20.125 \nQ 57.90625 9.515625 50.796875 4.046875 \nQ 43.703125 -1.421875 29.984375 -1.421875 \nQ 24.8125 -1.421875 18.96875 -0.25 \nQ 13.140625 0.921875 6.890625 3.21875 \nL 6.890625 13.375 \nQ 12.890625 10.015625 18.65625 8.296875 \nQ 24.421875 6.59375 29.984375 6.59375 \nQ 38.421875 6.59375 43.015625 9.90625 \nQ 47.609375 13.234375 47.609375 19.390625 \nQ 47.609375 24.75 44.3125 27.78125 \nQ 41.015625 30.8125 33.5 32.328125 \nL 27.484375 33.5 \nQ 16.453125 35.6875 11.515625 40.375 \nQ 6.59375 45.0625 6.59375 53.421875 \nQ 6.59375 63.09375 13.40625 68.65625 \nQ 20.21875 74.21875 32.171875 74.21875 \nQ 37.3125 74.21875 42.625 73.28125 \nQ 47.953125 72.359375 53.515625 70.515625 \nz\n\" id=\"DejaVuSans-83\"/>\n     <path d=\"M 9.8125 72.90625 \nL 55.90625 72.90625 \nL 55.90625 64.59375 \nL 19.671875 64.59375 \nL 19.671875 43.015625 \nL 54.390625 43.015625 \nL 54.390625 34.71875 \nL 19.671875 34.71875 \nL 19.671875 8.296875 \nL 56.78125 8.296875 \nL 56.78125 0 \nL 9.8125 0 \nz\n\" id=\"DejaVuSans-69\"/>\n     <path d=\"M 31 75.875 \nQ 24.46875 64.65625 21.28125 53.65625 \nQ 18.109375 42.671875 18.109375 31.390625 \nQ 18.109375 20.125 21.3125 9.0625 \nQ 24.515625 -2 31 -13.1875 \nL 23.1875 -13.1875 \nQ 15.875 -1.703125 12.234375 9.375 \nQ 8.59375 20.453125 8.59375 31.390625 \nQ 8.59375 42.28125 12.203125 53.3125 \nQ 15.828125 64.359375 23.1875 75.875 \nz\n\" id=\"DejaVuSans-40\"/>\n     <path d=\"M 9.421875 54.6875 \nL 18.40625 54.6875 \nL 18.40625 0 \nL 9.421875 0 \nz\nM 9.421875 75.984375 \nL 18.40625 75.984375 \nL 18.40625 64.59375 \nL 9.421875 64.59375 \nz\n\" id=\"DejaVuSans-105\"/>\n     <path d=\"M 41.109375 46.296875 \nQ 39.59375 47.171875 37.8125 47.578125 \nQ 36.03125 48 33.890625 48 \nQ 26.265625 48 22.1875 43.046875 \nQ 18.109375 38.09375 18.109375 28.8125 \nL 18.109375 0 \nL 9.078125 0 \nL 9.078125 54.6875 \nL 18.109375 54.6875 \nL 18.109375 46.1875 \nQ 20.953125 51.171875 25.484375 53.578125 \nQ 30.03125 56 36.53125 56 \nQ 37.453125 56 38.578125 55.875 \nQ 39.703125 55.765625 41.0625 55.515625 \nz\n\" id=\"DejaVuSans-114\"/>\n     <path d=\"M 32.171875 -5.078125 \nQ 28.375 -14.84375 24.75 -17.8125 \nQ 21.140625 -20.796875 15.09375 -20.796875 \nL 7.90625 -20.796875 \nL 7.90625 -13.28125 \nL 13.1875 -13.28125 \nQ 16.890625 -13.28125 18.9375 -11.515625 \nQ 21 -9.765625 23.484375 -3.21875 \nL 25.09375 0.875 \nL 2.984375 54.6875 \nL 12.5 54.6875 \nL 29.59375 11.921875 \nL 46.6875 54.6875 \nL 56.203125 54.6875 \nz\n\" id=\"DejaVuSans-121\"/>\n     <path d=\"M 8.015625 75.875 \nL 15.828125 75.875 \nQ 23.140625 64.359375 26.78125 53.3125 \nQ 30.421875 42.28125 30.421875 31.390625 \nQ 30.421875 20.453125 26.78125 9.375 \nQ 23.140625 -1.703125 15.828125 -13.1875 \nL 8.015625 -13.1875 \nQ 14.5 -2 17.703125 9.0625 \nQ 20.90625 20.125 20.90625 31.390625 \nQ 20.90625 42.671875 17.703125 53.65625 \nQ 14.5 64.65625 8.015625 75.875 \nz\n\" id=\"DejaVuSans-41\"/>\n    </defs>\n    <g transform=\"translate(120.367445 16.318125)scale(0.12 -0.12)\">\n     <use xlink:href=\"#DejaVuSans-84\"/>\n     <use x=\"44.083984\" xlink:href=\"#DejaVuSans-101\"/>\n     <use x=\"105.607422\" xlink:href=\"#DejaVuSans-115\"/>\n     <use x=\"157.707031\" xlink:href=\"#DejaVuSans-116\"/>\n     <use x=\"196.916016\" xlink:href=\"#DejaVuSans-32\"/>\n     <use x=\"228.703125\" xlink:href=\"#DejaVuSans-77\"/>\n     <use x=\"314.982422\" xlink:href=\"#DejaVuSans-83\"/>\n     <use x=\"378.458984\" xlink:href=\"#DejaVuSans-69\"/>\n     <use x=\"441.642578\" xlink:href=\"#DejaVuSans-32\"/>\n     <use x=\"473.429688\" xlink:href=\"#DejaVuSans-40\"/>\n     <use x=\"512.443359\" xlink:href=\"#DejaVuSans-77\"/>\n     <use x=\"598.722656\" xlink:href=\"#DejaVuSans-105\"/>\n     <use x=\"626.505859\" xlink:href=\"#DejaVuSans-110\"/>\n     <use x=\"689.884766\" xlink:href=\"#DejaVuSans-111\"/>\n     <use x=\"751.066406\" xlink:href=\"#DejaVuSans-114\"/>\n     <use x=\"792.179688\" xlink:href=\"#DejaVuSans-105\"/>\n     <use x=\"819.962891\" xlink:href=\"#DejaVuSans-116\"/>\n     <use x=\"859.171875\" xlink:href=\"#DejaVuSans-121\"/>\n     <use x=\"918.351562\" xlink:href=\"#DejaVuSans-41\"/>\n    </g>\n   </g>\n  </g>\n  <g id=\"axes_2\">\n   <g id=\"patch_7\">\n    <path d=\"M 384.597243 294.118125 \nL 680.009007 294.118125 \nL 680.009007 22.318125 \nL 384.597243 22.318125 \nz\n\" style=\"fill:#ffffff;\"/>\n   </g>\n   <g id=\"matplotlib.axis_3\">\n    <g id=\"xtick_51\">\n     <g id=\"line2d_66\">\n      <g>\n       <use style=\"stroke:#000000;stroke-width:0.8;\" x=\"398.02505\" xlink:href=\"#m4cae115b53\" y=\"294.118125\"/>\n      </g>\n     </g>\n     <g id=\"text_18\">\n      <!-- $\\mathdefault{10^{0}}$ -->\n      <g transform=\"translate(389.22505 308.716563)scale(0.1 -0.1)\">\n       <use transform=\"translate(0 0.765625)\" xlink:href=\"#DejaVuSans-49\"/>\n       <use transform=\"translate(63.623047 0.765625)\" xlink:href=\"#DejaVuSans-48\"/>\n       <use transform=\"translate(128.203125 39.046875)scale(0.7)\" xlink:href=\"#DejaVuSans-48\"/>\n      </g>\n     </g>\n    </g>\n    <g id=\"xtick_52\">\n     <g id=\"line2d_67\">\n      <g>\n       <use style=\"stroke:#000000;stroke-width:0.8;\" x=\"453.782814\" xlink:href=\"#m4cae115b53\" y=\"294.118125\"/>\n      </g>\n     </g>\n     <g id=\"text_19\">\n      <!-- $\\mathdefault{10^{1}}$ -->\n      <g transform=\"translate(444.982814 308.716563)scale(0.1 -0.1)\">\n       <use transform=\"translate(0 0.684375)\" xlink:href=\"#DejaVuSans-49\"/>\n       <use transform=\"translate(63.623047 0.684375)\" xlink:href=\"#DejaVuSans-48\"/>\n       <use transform=\"translate(128.203125 38.965625)scale(0.7)\" xlink:href=\"#DejaVuSans-49\"/>\n      </g>\n     </g>\n    </g>\n    <g id=\"xtick_53\">\n     <g id=\"line2d_68\">\n      <g>\n       <use style=\"stroke:#000000;stroke-width:0.8;\" x=\"509.540577\" xlink:href=\"#m4cae115b53\" y=\"294.118125\"/>\n      </g>\n     </g>\n     <g id=\"text_20\">\n      <!-- $\\mathdefault{10^{2}}$ -->\n      <g transform=\"translate(500.740577 308.716563)scale(0.1 -0.1)\">\n       <use transform=\"translate(0 0.765625)\" xlink:href=\"#DejaVuSans-49\"/>\n       <use transform=\"translate(63.623047 0.765625)\" xlink:href=\"#DejaVuSans-48\"/>\n       <use transform=\"translate(128.203125 39.046875)scale(0.7)\" xlink:href=\"#DejaVuSans-50\"/>\n      </g>\n     </g>\n    </g>\n    <g id=\"xtick_54\">\n     <g id=\"line2d_69\">\n      <g>\n       <use style=\"stroke:#000000;stroke-width:0.8;\" x=\"565.298341\" xlink:href=\"#m4cae115b53\" y=\"294.118125\"/>\n      </g>\n     </g>\n     <g id=\"text_21\">\n      <!-- $\\mathdefault{10^{3}}$ -->\n      <g transform=\"translate(556.498341 308.716563)scale(0.1 -0.1)\">\n       <use transform=\"translate(0 0.765625)\" xlink:href=\"#DejaVuSans-49\"/>\n       <use transform=\"translate(63.623047 0.765625)\" xlink:href=\"#DejaVuSans-48\"/>\n       <use transform=\"translate(128.203125 39.046875)scale(0.7)\" xlink:href=\"#DejaVuSans-51\"/>\n      </g>\n     </g>\n    </g>\n    <g id=\"xtick_55\">\n     <g id=\"line2d_70\">\n      <g>\n       <use style=\"stroke:#000000;stroke-width:0.8;\" x=\"621.056105\" xlink:href=\"#m4cae115b53\" y=\"294.118125\"/>\n      </g>\n     </g>\n     <g id=\"text_22\">\n      <!-- $\\mathdefault{10^{4}}$ -->\n      <g transform=\"translate(612.256105 308.716563)scale(0.1 -0.1)\">\n       <use transform=\"translate(0 0.684375)\" xlink:href=\"#DejaVuSans-49\"/>\n       <use transform=\"translate(63.623047 0.684375)\" xlink:href=\"#DejaVuSans-48\"/>\n       <use transform=\"translate(128.203125 38.965625)scale(0.7)\" xlink:href=\"#DejaVuSans-52\"/>\n      </g>\n     </g>\n    </g>\n    <g id=\"xtick_56\">\n     <g id=\"line2d_71\">\n      <g>\n       <use style=\"stroke:#000000;stroke-width:0.8;\" x=\"676.813869\" xlink:href=\"#m4cae115b53\" y=\"294.118125\"/>\n      </g>\n     </g>\n     <g id=\"text_23\">\n      <!-- $\\mathdefault{10^{5}}$ -->\n      <g transform=\"translate(668.013869 308.716563)scale(0.1 -0.1)\">\n       <use transform=\"translate(0 0.684375)\" xlink:href=\"#DejaVuSans-49\"/>\n       <use transform=\"translate(63.623047 0.684375)\" xlink:href=\"#DejaVuSans-48\"/>\n       <use transform=\"translate(128.203125 38.965625)scale(0.7)\" xlink:href=\"#DejaVuSans-53\"/>\n      </g>\n     </g>\n    </g>\n    <g id=\"xtick_57\">\n     <g id=\"line2d_72\">\n      <g>\n       <use style=\"stroke:#000000;stroke-width:0.6;\" x=\"385.65526\" xlink:href=\"#mfc58ec093d\" y=\"294.118125\"/>\n      </g>\n     </g>\n    </g>\n    <g id=\"xtick_58\">\n     <g id=\"line2d_73\">\n      <g>\n       <use style=\"stroke:#000000;stroke-width:0.6;\" x=\"389.388063\" xlink:href=\"#mfc58ec093d\" y=\"294.118125\"/>\n      </g>\n     </g>\n    </g>\n    <g id=\"xtick_59\">\n     <g id=\"line2d_74\">\n      <g>\n       <use style=\"stroke:#000000;stroke-width:0.6;\" x=\"392.621565\" xlink:href=\"#mfc58ec093d\" y=\"294.118125\"/>\n      </g>\n     </g>\n    </g>\n    <g id=\"xtick_60\">\n     <g id=\"line2d_75\">\n      <g>\n       <use style=\"stroke:#000000;stroke-width:0.6;\" x=\"395.473715\" xlink:href=\"#mfc58ec093d\" y=\"294.118125\"/>\n      </g>\n     </g>\n    </g>\n    <g id=\"xtick_61\">\n     <g id=\"line2d_76\">\n      <g>\n       <use style=\"stroke:#000000;stroke-width:0.6;\" x=\"414.809809\" xlink:href=\"#mfc58ec093d\" y=\"294.118125\"/>\n      </g>\n     </g>\n    </g>\n    <g id=\"xtick_62\">\n     <g id=\"line2d_77\">\n      <g>\n       <use style=\"stroke:#000000;stroke-width:0.6;\" x=\"424.628264\" xlink:href=\"#mfc58ec093d\" y=\"294.118125\"/>\n      </g>\n     </g>\n    </g>\n    <g id=\"xtick_63\">\n     <g id=\"line2d_78\">\n      <g>\n       <use style=\"stroke:#000000;stroke-width:0.6;\" x=\"431.594569\" xlink:href=\"#mfc58ec093d\" y=\"294.118125\"/>\n      </g>\n     </g>\n    </g>\n    <g id=\"xtick_64\">\n     <g id=\"line2d_79\">\n      <g>\n       <use style=\"stroke:#000000;stroke-width:0.6;\" x=\"436.998054\" xlink:href=\"#mfc58ec093d\" y=\"294.118125\"/>\n      </g>\n     </g>\n    </g>\n    <g id=\"xtick_65\">\n     <g id=\"line2d_80\">\n      <g>\n       <use style=\"stroke:#000000;stroke-width:0.6;\" x=\"441.413024\" xlink:href=\"#mfc58ec093d\" y=\"294.118125\"/>\n      </g>\n     </g>\n    </g>\n    <g id=\"xtick_66\">\n     <g id=\"line2d_81\">\n      <g>\n       <use style=\"stroke:#000000;stroke-width:0.6;\" x=\"445.145827\" xlink:href=\"#mfc58ec093d\" y=\"294.118125\"/>\n      </g>\n     </g>\n    </g>\n    <g id=\"xtick_67\">\n     <g id=\"line2d_82\">\n      <g>\n       <use style=\"stroke:#000000;stroke-width:0.6;\" x=\"448.379328\" xlink:href=\"#mfc58ec093d\" y=\"294.118125\"/>\n      </g>\n     </g>\n    </g>\n    <g id=\"xtick_68\">\n     <g id=\"line2d_83\">\n      <g>\n       <use style=\"stroke:#000000;stroke-width:0.6;\" x=\"451.231478\" xlink:href=\"#mfc58ec093d\" y=\"294.118125\"/>\n      </g>\n     </g>\n    </g>\n    <g id=\"xtick_69\">\n     <g id=\"line2d_84\">\n      <g>\n       <use style=\"stroke:#000000;stroke-width:0.6;\" x=\"470.567573\" xlink:href=\"#mfc58ec093d\" y=\"294.118125\"/>\n      </g>\n     </g>\n    </g>\n    <g id=\"xtick_70\">\n     <g id=\"line2d_85\">\n      <g>\n       <use style=\"stroke:#000000;stroke-width:0.6;\" x=\"480.386028\" xlink:href=\"#mfc58ec093d\" y=\"294.118125\"/>\n      </g>\n     </g>\n    </g>\n    <g id=\"xtick_71\">\n     <g id=\"line2d_86\">\n      <g>\n       <use style=\"stroke:#000000;stroke-width:0.6;\" x=\"487.352333\" xlink:href=\"#mfc58ec093d\" y=\"294.118125\"/>\n      </g>\n     </g>\n    </g>\n    <g id=\"xtick_72\">\n     <g id=\"line2d_87\">\n      <g>\n       <use style=\"stroke:#000000;stroke-width:0.6;\" x=\"492.755818\" xlink:href=\"#mfc58ec093d\" y=\"294.118125\"/>\n      </g>\n     </g>\n    </g>\n    <g id=\"xtick_73\">\n     <g id=\"line2d_88\">\n      <g>\n       <use style=\"stroke:#000000;stroke-width:0.6;\" x=\"497.170787\" xlink:href=\"#mfc58ec093d\" y=\"294.118125\"/>\n      </g>\n     </g>\n    </g>\n    <g id=\"xtick_74\">\n     <g id=\"line2d_89\">\n      <g>\n       <use style=\"stroke:#000000;stroke-width:0.6;\" x=\"500.903591\" xlink:href=\"#mfc58ec093d\" y=\"294.118125\"/>\n      </g>\n     </g>\n    </g>\n    <g id=\"xtick_75\">\n     <g id=\"line2d_90\">\n      <g>\n       <use style=\"stroke:#000000;stroke-width:0.6;\" x=\"504.137092\" xlink:href=\"#mfc58ec093d\" y=\"294.118125\"/>\n      </g>\n     </g>\n    </g>\n    <g id=\"xtick_76\">\n     <g id=\"line2d_91\">\n      <g>\n       <use style=\"stroke:#000000;stroke-width:0.6;\" x=\"506.989242\" xlink:href=\"#mfc58ec093d\" y=\"294.118125\"/>\n      </g>\n     </g>\n    </g>\n    <g id=\"xtick_77\">\n     <g id=\"line2d_92\">\n      <g>\n       <use style=\"stroke:#000000;stroke-width:0.6;\" x=\"526.325337\" xlink:href=\"#mfc58ec093d\" y=\"294.118125\"/>\n      </g>\n     </g>\n    </g>\n    <g id=\"xtick_78\">\n     <g id=\"line2d_93\">\n      <g>\n       <use style=\"stroke:#000000;stroke-width:0.6;\" x=\"536.143792\" xlink:href=\"#mfc58ec093d\" y=\"294.118125\"/>\n      </g>\n     </g>\n    </g>\n    <g id=\"xtick_79\">\n     <g id=\"line2d_94\">\n      <g>\n       <use style=\"stroke:#000000;stroke-width:0.6;\" x=\"543.110096\" xlink:href=\"#mfc58ec093d\" y=\"294.118125\"/>\n      </g>\n     </g>\n    </g>\n    <g id=\"xtick_80\">\n     <g id=\"line2d_95\">\n      <g>\n       <use style=\"stroke:#000000;stroke-width:0.6;\" x=\"548.513582\" xlink:href=\"#mfc58ec093d\" y=\"294.118125\"/>\n      </g>\n     </g>\n    </g>\n    <g id=\"xtick_81\">\n     <g id=\"line2d_96\">\n      <g>\n       <use style=\"stroke:#000000;stroke-width:0.6;\" x=\"552.928551\" xlink:href=\"#mfc58ec093d\" y=\"294.118125\"/>\n      </g>\n     </g>\n    </g>\n    <g id=\"xtick_82\">\n     <g id=\"line2d_97\">\n      <g>\n       <use style=\"stroke:#000000;stroke-width:0.6;\" x=\"556.661354\" xlink:href=\"#mfc58ec093d\" y=\"294.118125\"/>\n      </g>\n     </g>\n    </g>\n    <g id=\"xtick_83\">\n     <g id=\"line2d_98\">\n      <g>\n       <use style=\"stroke:#000000;stroke-width:0.6;\" x=\"559.894856\" xlink:href=\"#mfc58ec093d\" y=\"294.118125\"/>\n      </g>\n     </g>\n    </g>\n    <g id=\"xtick_84\">\n     <g id=\"line2d_99\">\n      <g>\n       <use style=\"stroke:#000000;stroke-width:0.6;\" x=\"562.747006\" xlink:href=\"#mfc58ec093d\" y=\"294.118125\"/>\n      </g>\n     </g>\n    </g>\n    <g id=\"xtick_85\">\n     <g id=\"line2d_100\">\n      <g>\n       <use style=\"stroke:#000000;stroke-width:0.6;\" x=\"582.083101\" xlink:href=\"#mfc58ec093d\" y=\"294.118125\"/>\n      </g>\n     </g>\n    </g>\n    <g id=\"xtick_86\">\n     <g id=\"line2d_101\">\n      <g>\n       <use style=\"stroke:#000000;stroke-width:0.6;\" x=\"591.901555\" xlink:href=\"#mfc58ec093d\" y=\"294.118125\"/>\n      </g>\n     </g>\n    </g>\n    <g id=\"xtick_87\">\n     <g id=\"line2d_102\">\n      <g>\n       <use style=\"stroke:#000000;stroke-width:0.6;\" x=\"598.86786\" xlink:href=\"#mfc58ec093d\" y=\"294.118125\"/>\n      </g>\n     </g>\n    </g>\n    <g id=\"xtick_88\">\n     <g id=\"line2d_103\">\n      <g>\n       <use style=\"stroke:#000000;stroke-width:0.6;\" x=\"604.271345\" xlink:href=\"#mfc58ec093d\" y=\"294.118125\"/>\n      </g>\n     </g>\n    </g>\n    <g id=\"xtick_89\">\n     <g id=\"line2d_104\">\n      <g>\n       <use style=\"stroke:#000000;stroke-width:0.6;\" x=\"608.686315\" xlink:href=\"#mfc58ec093d\" y=\"294.118125\"/>\n      </g>\n     </g>\n    </g>\n    <g id=\"xtick_90\">\n     <g id=\"line2d_105\">\n      <g>\n       <use style=\"stroke:#000000;stroke-width:0.6;\" x=\"612.419118\" xlink:href=\"#mfc58ec093d\" y=\"294.118125\"/>\n      </g>\n     </g>\n    </g>\n    <g id=\"xtick_91\">\n     <g id=\"line2d_106\">\n      <g>\n       <use style=\"stroke:#000000;stroke-width:0.6;\" x=\"615.652619\" xlink:href=\"#mfc58ec093d\" y=\"294.118125\"/>\n      </g>\n     </g>\n    </g>\n    <g id=\"xtick_92\">\n     <g id=\"line2d_107\">\n      <g>\n       <use style=\"stroke:#000000;stroke-width:0.6;\" x=\"618.50477\" xlink:href=\"#mfc58ec093d\" y=\"294.118125\"/>\n      </g>\n     </g>\n    </g>\n    <g id=\"xtick_93\">\n     <g id=\"line2d_108\">\n      <g>\n       <use style=\"stroke:#000000;stroke-width:0.6;\" x=\"637.840864\" xlink:href=\"#mfc58ec093d\" y=\"294.118125\"/>\n      </g>\n     </g>\n    </g>\n    <g id=\"xtick_94\">\n     <g id=\"line2d_109\">\n      <g>\n       <use style=\"stroke:#000000;stroke-width:0.6;\" x=\"647.659319\" xlink:href=\"#mfc58ec093d\" y=\"294.118125\"/>\n      </g>\n     </g>\n    </g>\n    <g id=\"xtick_95\">\n     <g id=\"line2d_110\">\n      <g>\n       <use style=\"stroke:#000000;stroke-width:0.6;\" x=\"654.625624\" xlink:href=\"#mfc58ec093d\" y=\"294.118125\"/>\n      </g>\n     </g>\n    </g>\n    <g id=\"xtick_96\">\n     <g id=\"line2d_111\">\n      <g>\n       <use style=\"stroke:#000000;stroke-width:0.6;\" x=\"660.029109\" xlink:href=\"#mfc58ec093d\" y=\"294.118125\"/>\n      </g>\n     </g>\n    </g>\n    <g id=\"xtick_97\">\n     <g id=\"line2d_112\">\n      <g>\n       <use style=\"stroke:#000000;stroke-width:0.6;\" x=\"664.444078\" xlink:href=\"#mfc58ec093d\" y=\"294.118125\"/>\n      </g>\n     </g>\n    </g>\n    <g id=\"xtick_98\">\n     <g id=\"line2d_113\">\n      <g>\n       <use style=\"stroke:#000000;stroke-width:0.6;\" x=\"668.176882\" xlink:href=\"#mfc58ec093d\" y=\"294.118125\"/>\n      </g>\n     </g>\n    </g>\n    <g id=\"xtick_99\">\n     <g id=\"line2d_114\">\n      <g>\n       <use style=\"stroke:#000000;stroke-width:0.6;\" x=\"671.410383\" xlink:href=\"#mfc58ec093d\" y=\"294.118125\"/>\n      </g>\n     </g>\n    </g>\n    <g id=\"xtick_100\">\n     <g id=\"line2d_115\">\n      <g>\n       <use style=\"stroke:#000000;stroke-width:0.6;\" x=\"674.262533\" xlink:href=\"#mfc58ec093d\" y=\"294.118125\"/>\n      </g>\n     </g>\n    </g>\n    <g id=\"text_24\">\n     <!-- nodes -->\n     <g transform=\"translate(517.219531 322.394687)scale(0.1 -0.1)\">\n      <use xlink:href=\"#DejaVuSans-110\"/>\n      <use x=\"63.378906\" xlink:href=\"#DejaVuSans-111\"/>\n      <use x=\"124.560547\" xlink:href=\"#DejaVuSans-100\"/>\n      <use x=\"188.037109\" xlink:href=\"#DejaVuSans-101\"/>\n      <use x=\"249.560547\" xlink:href=\"#DejaVuSans-115\"/>\n     </g>\n    </g>\n   </g>\n   <g id=\"matplotlib.axis_4\">\n    <g id=\"ytick_10\">\n     <g id=\"line2d_116\">\n      <g>\n       <use style=\"stroke:#000000;stroke-width:0.8;\" x=\"384.597243\" xlink:href=\"#m3cb5fac210\" y=\"285.57559\"/>\n      </g>\n     </g>\n     <g id=\"text_25\">\n      <!-- 0.0 -->\n      <g transform=\"translate(361.694118 289.374809)scale(0.1 -0.1)\">\n       <use xlink:href=\"#DejaVuSans-48\"/>\n       <use x=\"63.623047\" xlink:href=\"#DejaVuSans-46\"/>\n       <use x=\"95.410156\" xlink:href=\"#DejaVuSans-48\"/>\n      </g>\n     </g>\n    </g>\n    <g id=\"ytick_11\">\n     <g id=\"line2d_117\">\n      <g>\n       <use style=\"stroke:#000000;stroke-width:0.8;\" x=\"384.597243\" xlink:href=\"#m3cb5fac210\" y=\"239.332035\"/>\n      </g>\n     </g>\n     <g id=\"text_26\">\n      <!-- 0.2 -->\n      <g transform=\"translate(361.694118 243.131254)scale(0.1 -0.1)\">\n       <use xlink:href=\"#DejaVuSans-48\"/>\n       <use x=\"63.623047\" xlink:href=\"#DejaVuSans-46\"/>\n       <use x=\"95.410156\" xlink:href=\"#DejaVuSans-50\"/>\n      </g>\n     </g>\n    </g>\n    <g id=\"ytick_12\">\n     <g id=\"line2d_118\">\n      <g>\n       <use style=\"stroke:#000000;stroke-width:0.8;\" x=\"384.597243\" xlink:href=\"#m3cb5fac210\" y=\"193.088479\"/>\n      </g>\n     </g>\n     <g id=\"text_27\">\n      <!-- 0.4 -->\n      <g transform=\"translate(361.694118 196.887698)scale(0.1 -0.1)\">\n       <use xlink:href=\"#DejaVuSans-48\"/>\n       <use x=\"63.623047\" xlink:href=\"#DejaVuSans-46\"/>\n       <use x=\"95.410156\" xlink:href=\"#DejaVuSans-52\"/>\n      </g>\n     </g>\n    </g>\n    <g id=\"ytick_13\">\n     <g id=\"line2d_119\">\n      <g>\n       <use style=\"stroke:#000000;stroke-width:0.8;\" x=\"384.597243\" xlink:href=\"#m3cb5fac210\" y=\"146.844924\"/>\n      </g>\n     </g>\n     <g id=\"text_28\">\n      <!-- 0.6 -->\n      <g transform=\"translate(361.694118 150.644143)scale(0.1 -0.1)\">\n       <use xlink:href=\"#DejaVuSans-48\"/>\n       <use x=\"63.623047\" xlink:href=\"#DejaVuSans-46\"/>\n       <use x=\"95.410156\" xlink:href=\"#DejaVuSans-54\"/>\n      </g>\n     </g>\n    </g>\n    <g id=\"ytick_14\">\n     <g id=\"line2d_120\">\n      <g>\n       <use style=\"stroke:#000000;stroke-width:0.8;\" x=\"384.597243\" xlink:href=\"#m3cb5fac210\" y=\"100.601369\"/>\n      </g>\n     </g>\n     <g id=\"text_29\">\n      <!-- 0.8 -->\n      <g transform=\"translate(361.694118 104.400587)scale(0.1 -0.1)\">\n       <use xlink:href=\"#DejaVuSans-48\"/>\n       <use x=\"63.623047\" xlink:href=\"#DejaVuSans-46\"/>\n       <use x=\"95.410156\" xlink:href=\"#DejaVuSans-56\"/>\n      </g>\n     </g>\n    </g>\n    <g id=\"ytick_15\">\n     <g id=\"line2d_121\">\n      <g>\n       <use style=\"stroke:#000000;stroke-width:0.8;\" x=\"384.597243\" xlink:href=\"#m3cb5fac210\" y=\"54.357813\"/>\n      </g>\n     </g>\n     <g id=\"text_30\">\n      <!-- 1.0 -->\n      <g transform=\"translate(361.694118 58.157032)scale(0.1 -0.1)\">\n       <use xlink:href=\"#DejaVuSans-49\"/>\n       <use x=\"63.623047\" xlink:href=\"#DejaVuSans-46\"/>\n       <use x=\"95.410156\" xlink:href=\"#DejaVuSans-48\"/>\n      </g>\n     </g>\n    </g>\n   </g>\n   <g id=\"LineCollection_4\">\n    <path clip-path=\"url(#p13bacdc80b)\" d=\"M 398.02505 82.825221 \nL 398.02505 34.67267 \n\" style=\"fill:none;stroke:#1f77b4;stroke-width:1.5;\"/>\n    <path clip-path=\"url(#p13bacdc80b)\" d=\"M 414.809809 100.324952 \nL 414.809809 37.909578 \n\" style=\"fill:none;stroke:#1f77b4;stroke-width:1.5;\"/>\n    <path clip-path=\"url(#p13bacdc80b)\" d=\"M 431.594569 125.415765 \nL 431.594569 53.778534 \n\" style=\"fill:none;stroke:#1f77b4;stroke-width:1.5;\"/>\n    <path clip-path=\"url(#p13bacdc80b)\" d=\"M 448.379328 161.008844 \nL 448.379328 83.186128 \n\" style=\"fill:none;stroke:#1f77b4;stroke-width:1.5;\"/>\n    <path clip-path=\"url(#p13bacdc80b)\" d=\"M 465.164088 194.279992 \nL 465.164088 127.996669 \n\" style=\"fill:none;stroke:#1f77b4;stroke-width:1.5;\"/>\n    <path clip-path=\"url(#p13bacdc80b)\" d=\"M 481.948847 224.71581 \nL 481.948847 178.332544 \n\" style=\"fill:none;stroke:#1f77b4;stroke-width:1.5;\"/>\n    <path clip-path=\"url(#p13bacdc80b)\" d=\"M 498.733606 243.516315 \nL 498.733606 214.316156 \n\" style=\"fill:none;stroke:#1f77b4;stroke-width:1.5;\"/>\n    <path clip-path=\"url(#p13bacdc80b)\" d=\"M 515.518366 255.413018 \nL 515.518366 235.583862 \n\" style=\"fill:none;stroke:#1f77b4;stroke-width:1.5;\"/>\n    <path clip-path=\"url(#p13bacdc80b)\" d=\"M 532.303125 261.717715 \nL 532.303125 246.598443 \n\" style=\"fill:none;stroke:#1f77b4;stroke-width:1.5;\"/>\n    <path clip-path=\"url(#p13bacdc80b)\" d=\"M 549.087884 265.072036 \nL 549.087884 252.210751 \n\" style=\"fill:none;stroke:#1f77b4;stroke-width:1.5;\"/>\n    <path clip-path=\"url(#p13bacdc80b)\" d=\"M 565.872644 266.361698 \nL 565.872644 255.374912 \n\" style=\"fill:none;stroke:#1f77b4;stroke-width:1.5;\"/>\n    <path clip-path=\"url(#p13bacdc80b)\" d=\"M 582.657403 267.194474 \nL 582.657403 257.021362 \n\" style=\"fill:none;stroke:#1f77b4;stroke-width:1.5;\"/>\n    <path clip-path=\"url(#p13bacdc80b)\" d=\"M 599.442162 267.727549 \nL 599.442162 257.786133 \n\" style=\"fill:none;stroke:#1f77b4;stroke-width:1.5;\"/>\n    <path clip-path=\"url(#p13bacdc80b)\" d=\"M 616.226922 267.880663 \nL 616.226922 258.224784 \n\" style=\"fill:none;stroke:#1f77b4;stroke-width:1.5;\"/>\n    <path clip-path=\"url(#p13bacdc80b)\" d=\"M 633.011681 267.973774 \nL 633.011681 258.413711 \n\" style=\"fill:none;stroke:#1f77b4;stroke-width:1.5;\"/>\n    <path clip-path=\"url(#p13bacdc80b)\" d=\"M 649.796441 267.998889 \nL 649.796441 258.488502 \n\" style=\"fill:none;stroke:#1f77b4;stroke-width:1.5;\"/>\n    <path clip-path=\"url(#p13bacdc80b)\" d=\"M 666.5812 268.055087 \nL 666.5812 258.517791 \n\" style=\"fill:none;stroke:#1f77b4;stroke-width:1.5;\"/>\n   </g>\n   <g id=\"LineCollection_5\">\n    <path clip-path=\"url(#p13bacdc80b)\" d=\"M 398.02505 91.869644 \nL 398.02505 42.800514 \n\" style=\"fill:none;stroke:#ff7f0e;stroke-width:1.5;\"/>\n    <path clip-path=\"url(#p13bacdc80b)\" d=\"M 414.809809 114.085187 \nL 414.809809 51.402479 \n\" style=\"fill:none;stroke:#ff7f0e;stroke-width:1.5;\"/>\n    <path clip-path=\"url(#p13bacdc80b)\" d=\"M 431.594569 146.527171 \nL 431.594569 75.208698 \n\" style=\"fill:none;stroke:#ff7f0e;stroke-width:1.5;\"/>\n    <path clip-path=\"url(#p13bacdc80b)\" d=\"M 448.379328 190.525214 \nL 448.379328 119.149992 \n\" style=\"fill:none;stroke:#ff7f0e;stroke-width:1.5;\"/>\n    <path clip-path=\"url(#p13bacdc80b)\" d=\"M 465.164088 235.687445 \nL 465.164088 188.388988 \n\" style=\"fill:none;stroke:#ff7f0e;stroke-width:1.5;\"/>\n    <path clip-path=\"url(#p13bacdc80b)\" d=\"M 481.948847 258.527864 \nL 481.948847 238.14772 \n\" style=\"fill:none;stroke:#ff7f0e;stroke-width:1.5;\"/>\n    <path clip-path=\"url(#p13bacdc80b)\" d=\"M 498.733606 269.660341 \nL 498.733606 261.021033 \n\" style=\"fill:none;stroke:#ff7f0e;stroke-width:1.5;\"/>\n    <path clip-path=\"url(#p13bacdc80b)\" d=\"M 515.518366 275.439521 \nL 515.518366 271.765695 \n\" style=\"fill:none;stroke:#ff7f0e;stroke-width:1.5;\"/>\n    <path clip-path=\"url(#p13bacdc80b)\" d=\"M 532.303125 278.493844 \nL 532.303125 276.290772 \n\" style=\"fill:none;stroke:#ff7f0e;stroke-width:1.5;\"/>\n    <path clip-path=\"url(#p13bacdc80b)\" d=\"M 549.087884 280.09191 \nL 549.087884 278.557338 \n\" style=\"fill:none;stroke:#ff7f0e;stroke-width:1.5;\"/>\n    <path clip-path=\"url(#p13bacdc80b)\" d=\"M 565.872644 280.917831 \nL 565.872644 279.688846 \n\" style=\"fill:none;stroke:#ff7f0e;stroke-width:1.5;\"/>\n    <path clip-path=\"url(#p13bacdc80b)\" d=\"M 582.657403 281.345706 \nL 582.657403 280.264015 \n\" style=\"fill:none;stroke:#ff7f0e;stroke-width:1.5;\"/>\n    <path clip-path=\"url(#p13bacdc80b)\" d=\"M 599.442162 281.554454 \nL 599.442162 280.50741 \n\" style=\"fill:none;stroke:#ff7f0e;stroke-width:1.5;\"/>\n    <path clip-path=\"url(#p13bacdc80b)\" d=\"M 616.226922 281.66653 \nL 616.226922 280.634971 \n\" style=\"fill:none;stroke:#ff7f0e;stroke-width:1.5;\"/>\n    <path clip-path=\"url(#p13bacdc80b)\" d=\"M 633.011681 281.730334 \nL 633.011681 280.701642 \n\" style=\"fill:none;stroke:#ff7f0e;stroke-width:1.5;\"/>\n    <path clip-path=\"url(#p13bacdc80b)\" d=\"M 649.796441 281.749243 \nL 649.796441 280.738308 \n\" style=\"fill:none;stroke:#ff7f0e;stroke-width:1.5;\"/>\n    <path clip-path=\"url(#p13bacdc80b)\" d=\"M 666.5812 281.76358 \nL 666.5812 280.75527 \n\" style=\"fill:none;stroke:#ff7f0e;stroke-width:1.5;\"/>\n   </g>\n   <g id=\"LineCollection_6\">\n    <path clip-path=\"url(#p13bacdc80b)\" d=\"M 398.02505 92.71288 \nL 398.02505 42.101951 \n\" style=\"fill:none;stroke:#2ca02c;stroke-width:1.5;\"/>\n    <path clip-path=\"url(#p13bacdc80b)\" d=\"M 414.809809 113.515142 \nL 414.809809 50.070154 \n\" style=\"fill:none;stroke:#2ca02c;stroke-width:1.5;\"/>\n    <path clip-path=\"url(#p13bacdc80b)\" d=\"M 431.594569 145.884966 \nL 431.594569 75.167603 \n\" style=\"fill:none;stroke:#2ca02c;stroke-width:1.5;\"/>\n    <path clip-path=\"url(#p13bacdc80b)\" d=\"M 448.379328 193.567068 \nL 448.379328 120.248312 \n\" style=\"fill:none;stroke:#2ca02c;stroke-width:1.5;\"/>\n    <path clip-path=\"url(#p13bacdc80b)\" d=\"M 465.164088 238.065674 \nL 465.164088 193.124708 \n\" style=\"fill:none;stroke:#2ca02c;stroke-width:1.5;\"/>\n    <path clip-path=\"url(#p13bacdc80b)\" d=\"M 481.948847 263.298361 \nL 481.948847 246.63981 \n\" style=\"fill:none;stroke:#2ca02c;stroke-width:1.5;\"/>\n    <path clip-path=\"url(#p13bacdc80b)\" d=\"M 498.733606 275.159937 \nL 498.733606 269.45711 \n\" style=\"fill:none;stroke:#2ca02c;stroke-width:1.5;\"/>\n    <path clip-path=\"url(#p13bacdc80b)\" d=\"M 515.518366 278.80884 \nL 515.518366 276.303106 \n\" style=\"fill:none;stroke:#2ca02c;stroke-width:1.5;\"/>\n    <path clip-path=\"url(#p13bacdc80b)\" d=\"M 532.303125 280.089292 \nL 532.303125 278.07342 \n\" style=\"fill:none;stroke:#2ca02c;stroke-width:1.5;\"/>\n    <path clip-path=\"url(#p13bacdc80b)\" d=\"M 549.087884 280.590118 \nL 549.087884 278.54354 \n\" style=\"fill:none;stroke:#2ca02c;stroke-width:1.5;\"/>\n    <path clip-path=\"url(#p13bacdc80b)\" d=\"M 565.872644 280.803593 \nL 565.872644 278.767782 \n\" style=\"fill:none;stroke:#2ca02c;stroke-width:1.5;\"/>\n    <path clip-path=\"url(#p13bacdc80b)\" d=\"M 582.657403 280.884819 \nL 582.657403 278.872755 \n\" style=\"fill:none;stroke:#2ca02c;stroke-width:1.5;\"/>\n    <path clip-path=\"url(#p13bacdc80b)\" d=\"M 599.442162 280.932908 \nL 599.442162 278.928153 \n\" style=\"fill:none;stroke:#2ca02c;stroke-width:1.5;\"/>\n    <path clip-path=\"url(#p13bacdc80b)\" d=\"M 616.226922 280.966405 \nL 616.226922 278.945318 \n\" style=\"fill:none;stroke:#2ca02c;stroke-width:1.5;\"/>\n    <path clip-path=\"url(#p13bacdc80b)\" d=\"M 633.011681 280.972931 \nL 633.011681 278.954905 \n\" style=\"fill:none;stroke:#2ca02c;stroke-width:1.5;\"/>\n    <path clip-path=\"url(#p13bacdc80b)\" d=\"M 649.796441 280.978698 \nL 649.796441 278.964526 \n\" style=\"fill:none;stroke:#2ca02c;stroke-width:1.5;\"/>\n    <path clip-path=\"url(#p13bacdc80b)\" d=\"M 666.5812 280.981925 \nL 666.5812 278.964795 \n\" style=\"fill:none;stroke:#2ca02c;stroke-width:1.5;\"/>\n   </g>\n   <g id=\"line2d_122\">\n    <path clip-path=\"url(#p13bacdc80b)\" d=\"M 398.02505 58.748946 \nL 414.809809 69.117265 \nL 431.594569 89.597149 \nL 448.379328 122.097486 \nL 465.164088 161.138331 \nL 481.948847 201.524177 \nL 498.733606 228.916235 \nL 515.518366 245.49844 \nL 532.303125 254.158079 \nL 549.087884 258.641393 \nL 565.872644 260.868305 \nL 582.657403 262.107918 \nL 599.442162 262.756841 \nL 616.226922 263.052723 \nL 633.011681 263.193742 \nL 649.796441 263.243696 \nL 666.5812 263.286439 \n\" style=\"fill:none;stroke:#0000ff;stroke-linecap:square;stroke-width:1.5;\"/>\n   </g>\n   <g id=\"line2d_123\">\n    <path clip-path=\"url(#p13bacdc80b)\" d=\"M 398.02505 67.335079 \nL 414.809809 82.743833 \nL 431.594569 110.867934 \nL 448.379328 154.837603 \nL 465.164088 212.038216 \nL 481.948847 248.337792 \nL 498.733606 265.340687 \nL 515.518366 273.602608 \nL 532.303125 277.392308 \nL 549.087884 279.324624 \nL 565.872644 280.303339 \nL 582.657403 280.804861 \nL 599.442162 281.030932 \nL 616.226922 281.150751 \nL 633.011681 281.215988 \nL 649.796441 281.243776 \nL 666.5812 281.259425 \n\" style=\"fill:none;stroke:#008000;stroke-linecap:square;stroke-width:1.5;\"/>\n   </g>\n   <g id=\"line2d_124\">\n    <path clip-path=\"url(#p13bacdc80b)\" d=\"M 398.02505 67.407416 \nL 414.809809 81.792648 \nL 431.594569 110.526285 \nL 448.379328 156.90769 \nL 465.164088 215.595191 \nL 481.948847 254.969086 \nL 498.733606 272.308524 \nL 515.518366 277.555973 \nL 532.303125 279.081356 \nL 549.087884 279.566829 \nL 565.872644 279.785687 \nL 582.657403 279.878787 \nL 599.442162 279.93053 \nL 616.226922 279.955861 \nL 633.011681 279.963918 \nL 649.796441 279.971612 \nL 666.5812 279.97336 \n\" style=\"fill:none;stroke:#ff0000;stroke-linecap:square;stroke-width:1.5;\"/>\n   </g>\n   <g id=\"line2d_125\">\n    <path clip-path=\"url(#p13bacdc80b)\" d=\"M 398.02505 58.748946 \nL 414.809809 69.117265 \nL 431.594569 89.597149 \nL 448.379328 122.097486 \nL 465.164088 161.138331 \nL 481.948847 201.524177 \nL 498.733606 228.916235 \nL 515.518366 245.49844 \nL 532.303125 254.158079 \nL 549.087884 258.641393 \nL 565.872644 260.868305 \nL 582.657403 262.107918 \nL 599.442162 262.756841 \nL 616.226922 263.052723 \nL 633.011681 263.193742 \nL 649.796441 263.243696 \nL 666.5812 263.286439 \n\" style=\"fill:none;stroke:#1f77b4;stroke-linecap:square;stroke-width:1.5;\"/>\n   </g>\n   <g id=\"line2d_126\">\n    <path clip-path=\"url(#p13bacdc80b)\" d=\"M 398.02505 67.335079 \nL 414.809809 82.743833 \nL 431.594569 110.867934 \nL 448.379328 154.837603 \nL 465.164088 212.038216 \nL 481.948847 248.337792 \nL 498.733606 265.340687 \nL 515.518366 273.602608 \nL 532.303125 277.392308 \nL 549.087884 279.324624 \nL 565.872644 280.303339 \nL 582.657403 280.804861 \nL 599.442162 281.030932 \nL 616.226922 281.150751 \nL 633.011681 281.215988 \nL 649.796441 281.243776 \nL 666.5812 281.259425 \n\" style=\"fill:none;stroke:#ff7f0e;stroke-linecap:square;stroke-width:1.5;\"/>\n   </g>\n   <g id=\"line2d_127\">\n    <path clip-path=\"url(#p13bacdc80b)\" d=\"M 398.02505 67.407416 \nL 414.809809 81.792648 \nL 431.594569 110.526285 \nL 448.379328 156.90769 \nL 465.164088 215.595191 \nL 481.948847 254.969086 \nL 498.733606 272.308524 \nL 515.518366 277.555973 \nL 532.303125 279.081356 \nL 549.087884 279.566829 \nL 565.872644 279.785687 \nL 582.657403 279.878787 \nL 599.442162 279.93053 \nL 616.226922 279.955861 \nL 633.011681 279.963918 \nL 649.796441 279.971612 \nL 666.5812 279.97336 \n\" style=\"fill:none;stroke:#2ca02c;stroke-linecap:square;stroke-width:1.5;\"/>\n   </g>\n   <g id=\"patch_8\">\n    <path d=\"M 384.597243 294.118125 \nL 384.597243 22.318125 \n\" style=\"fill:none;stroke:#000000;stroke-linecap:square;stroke-linejoin:miter;stroke-width:0.8;\"/>\n   </g>\n   <g id=\"patch_9\">\n    <path d=\"M 680.009007 294.118125 \nL 680.009007 22.318125 \n\" style=\"fill:none;stroke:#000000;stroke-linecap:square;stroke-linejoin:miter;stroke-width:0.8;\"/>\n   </g>\n   <g id=\"patch_10\">\n    <path d=\"M 384.597243 294.118125 \nL 680.009007 294.118125 \n\" style=\"fill:none;stroke:#000000;stroke-linecap:square;stroke-linejoin:miter;stroke-width:0.8;\"/>\n   </g>\n   <g id=\"patch_11\">\n    <path d=\"M 384.597243 22.318125 \nL 680.009007 22.318125 \n\" style=\"fill:none;stroke:#000000;stroke-linecap:square;stroke-linejoin:miter;stroke-width:0.8;\"/>\n   </g>\n   <g id=\"text_31\">\n    <!-- Test MSE (Majority) -->\n    <defs>\n     <path d=\"M 34.28125 27.484375 \nQ 23.390625 27.484375 19.1875 25 \nQ 14.984375 22.515625 14.984375 16.5 \nQ 14.984375 11.71875 18.140625 8.90625 \nQ 21.296875 6.109375 26.703125 6.109375 \nQ 34.1875 6.109375 38.703125 11.40625 \nQ 43.21875 16.703125 43.21875 25.484375 \nL 43.21875 27.484375 \nz\nM 52.203125 31.203125 \nL 52.203125 0 \nL 43.21875 0 \nL 43.21875 8.296875 \nQ 40.140625 3.328125 35.546875 0.953125 \nQ 30.953125 -1.421875 24.3125 -1.421875 \nQ 15.921875 -1.421875 10.953125 3.296875 \nQ 6 8.015625 6 15.921875 \nQ 6 25.140625 12.171875 29.828125 \nQ 18.359375 34.515625 30.609375 34.515625 \nL 43.21875 34.515625 \nL 43.21875 35.40625 \nQ 43.21875 41.609375 39.140625 45 \nQ 35.0625 48.390625 27.6875 48.390625 \nQ 23 48.390625 18.546875 47.265625 \nQ 14.109375 46.140625 10.015625 43.890625 \nL 10.015625 52.203125 \nQ 14.9375 54.109375 19.578125 55.046875 \nQ 24.21875 56 28.609375 56 \nQ 40.484375 56 46.34375 49.84375 \nQ 52.203125 43.703125 52.203125 31.203125 \nz\n\" id=\"DejaVuSans-97\"/>\n     <path d=\"M 9.421875 54.6875 \nL 18.40625 54.6875 \nL 18.40625 -0.984375 \nQ 18.40625 -11.421875 14.421875 -16.109375 \nQ 10.453125 -20.796875 1.609375 -20.796875 \nL -1.8125 -20.796875 \nL -1.8125 -13.1875 \nL 0.59375 -13.1875 \nQ 5.71875 -13.1875 7.5625 -10.8125 \nQ 9.421875 -8.453125 9.421875 -0.984375 \nz\nM 9.421875 75.984375 \nL 18.40625 75.984375 \nL 18.40625 64.59375 \nL 9.421875 64.59375 \nz\n\" id=\"DejaVuSans-106\"/>\n    </defs>\n    <g transform=\"translate(474.987187 16.318125)scale(0.12 -0.12)\">\n     <use xlink:href=\"#DejaVuSans-84\"/>\n     <use x=\"44.083984\" xlink:href=\"#DejaVuSans-101\"/>\n     <use x=\"105.607422\" xlink:href=\"#DejaVuSans-115\"/>\n     <use x=\"157.707031\" xlink:href=\"#DejaVuSans-116\"/>\n     <use x=\"196.916016\" xlink:href=\"#DejaVuSans-32\"/>\n     <use x=\"228.703125\" xlink:href=\"#DejaVuSans-77\"/>\n     <use x=\"314.982422\" xlink:href=\"#DejaVuSans-83\"/>\n     <use x=\"378.458984\" xlink:href=\"#DejaVuSans-69\"/>\n     <use x=\"441.642578\" xlink:href=\"#DejaVuSans-32\"/>\n     <use x=\"473.429688\" xlink:href=\"#DejaVuSans-40\"/>\n     <use x=\"512.443359\" xlink:href=\"#DejaVuSans-77\"/>\n     <use x=\"598.722656\" xlink:href=\"#DejaVuSans-97\"/>\n     <use x=\"660.001953\" xlink:href=\"#DejaVuSans-106\"/>\n     <use x=\"687.785156\" xlink:href=\"#DejaVuSans-111\"/>\n     <use x=\"748.966797\" xlink:href=\"#DejaVuSans-114\"/>\n     <use x=\"790.080078\" xlink:href=\"#DejaVuSans-105\"/>\n     <use x=\"817.863281\" xlink:href=\"#DejaVuSans-116\"/>\n     <use x=\"857.072266\" xlink:href=\"#DejaVuSans-121\"/>\n     <use x=\"916.251953\" xlink:href=\"#DejaVuSans-41\"/>\n    </g>\n   </g>\n  </g>\n  <g id=\"axes_3\">\n   <g id=\"patch_12\">\n    <path d=\"M 739.09136 294.118125 \nL 1034.503125 294.118125 \nL 1034.503125 22.318125 \nL 739.09136 22.318125 \nz\n\" style=\"fill:#ffffff;\"/>\n   </g>\n   <g id=\"matplotlib.axis_5\">\n    <g id=\"xtick_101\">\n     <g id=\"line2d_128\">\n      <g>\n       <use style=\"stroke:#000000;stroke-width:0.8;\" x=\"752.519168\" xlink:href=\"#m4cae115b53\" y=\"294.118125\"/>\n      </g>\n     </g>\n     <g id=\"text_32\">\n      <!-- $\\mathdefault{10^{0}}$ -->\n      <g transform=\"translate(743.719168 308.716563)scale(0.1 -0.1)\">\n       <use transform=\"translate(0 0.765625)\" xlink:href=\"#DejaVuSans-49\"/>\n       <use transform=\"translate(63.623047 0.765625)\" xlink:href=\"#DejaVuSans-48\"/>\n       <use transform=\"translate(128.203125 39.046875)scale(0.7)\" xlink:href=\"#DejaVuSans-48\"/>\n      </g>\n     </g>\n    </g>\n    <g id=\"xtick_102\">\n     <g id=\"line2d_129\">\n      <g>\n       <use style=\"stroke:#000000;stroke-width:0.8;\" x=\"808.276931\" xlink:href=\"#m4cae115b53\" y=\"294.118125\"/>\n      </g>\n     </g>\n     <g id=\"text_33\">\n      <!-- $\\mathdefault{10^{1}}$ -->\n      <g transform=\"translate(799.476931 308.716563)scale(0.1 -0.1)\">\n       <use transform=\"translate(0 0.684375)\" xlink:href=\"#DejaVuSans-49\"/>\n       <use transform=\"translate(63.623047 0.684375)\" xlink:href=\"#DejaVuSans-48\"/>\n       <use transform=\"translate(128.203125 38.965625)scale(0.7)\" xlink:href=\"#DejaVuSans-49\"/>\n      </g>\n     </g>\n    </g>\n    <g id=\"xtick_103\">\n     <g id=\"line2d_130\">\n      <g>\n       <use style=\"stroke:#000000;stroke-width:0.8;\" x=\"864.034695\" xlink:href=\"#m4cae115b53\" y=\"294.118125\"/>\n      </g>\n     </g>\n     <g id=\"text_34\">\n      <!-- $\\mathdefault{10^{2}}$ -->\n      <g transform=\"translate(855.234695 308.716563)scale(0.1 -0.1)\">\n       <use transform=\"translate(0 0.765625)\" xlink:href=\"#DejaVuSans-49\"/>\n       <use transform=\"translate(63.623047 0.765625)\" xlink:href=\"#DejaVuSans-48\"/>\n       <use transform=\"translate(128.203125 39.046875)scale(0.7)\" xlink:href=\"#DejaVuSans-50\"/>\n      </g>\n     </g>\n    </g>\n    <g id=\"xtick_104\">\n     <g id=\"line2d_131\">\n      <g>\n       <use style=\"stroke:#000000;stroke-width:0.8;\" x=\"919.792459\" xlink:href=\"#m4cae115b53\" y=\"294.118125\"/>\n      </g>\n     </g>\n     <g id=\"text_35\">\n      <!-- $\\mathdefault{10^{3}}$ -->\n      <g transform=\"translate(910.992459 308.716563)scale(0.1 -0.1)\">\n       <use transform=\"translate(0 0.765625)\" xlink:href=\"#DejaVuSans-49\"/>\n       <use transform=\"translate(63.623047 0.765625)\" xlink:href=\"#DejaVuSans-48\"/>\n       <use transform=\"translate(128.203125 39.046875)scale(0.7)\" xlink:href=\"#DejaVuSans-51\"/>\n      </g>\n     </g>\n    </g>\n    <g id=\"xtick_105\">\n     <g id=\"line2d_132\">\n      <g>\n       <use style=\"stroke:#000000;stroke-width:0.8;\" x=\"975.550222\" xlink:href=\"#m4cae115b53\" y=\"294.118125\"/>\n      </g>\n     </g>\n     <g id=\"text_36\">\n      <!-- $\\mathdefault{10^{4}}$ -->\n      <g transform=\"translate(966.750222 308.716563)scale(0.1 -0.1)\">\n       <use transform=\"translate(0 0.684375)\" xlink:href=\"#DejaVuSans-49\"/>\n       <use transform=\"translate(63.623047 0.684375)\" xlink:href=\"#DejaVuSans-48\"/>\n       <use transform=\"translate(128.203125 38.965625)scale(0.7)\" xlink:href=\"#DejaVuSans-52\"/>\n      </g>\n     </g>\n    </g>\n    <g id=\"xtick_106\">\n     <g id=\"line2d_133\">\n      <g>\n       <use style=\"stroke:#000000;stroke-width:0.8;\" x=\"1031.307986\" xlink:href=\"#m4cae115b53\" y=\"294.118125\"/>\n      </g>\n     </g>\n     <g id=\"text_37\">\n      <!-- $\\mathdefault{10^{5}}$ -->\n      <g transform=\"translate(1022.507986 308.716563)scale(0.1 -0.1)\">\n       <use transform=\"translate(0 0.684375)\" xlink:href=\"#DejaVuSans-49\"/>\n       <use transform=\"translate(63.623047 0.684375)\" xlink:href=\"#DejaVuSans-48\"/>\n       <use transform=\"translate(128.203125 38.965625)scale(0.7)\" xlink:href=\"#DejaVuSans-53\"/>\n      </g>\n     </g>\n    </g>\n    <g id=\"xtick_107\">\n     <g id=\"line2d_134\">\n      <g>\n       <use style=\"stroke:#000000;stroke-width:0.6;\" x=\"740.149378\" xlink:href=\"#mfc58ec093d\" y=\"294.118125\"/>\n      </g>\n     </g>\n    </g>\n    <g id=\"xtick_108\">\n     <g id=\"line2d_135\">\n      <g>\n       <use style=\"stroke:#000000;stroke-width:0.6;\" x=\"743.882181\" xlink:href=\"#mfc58ec093d\" y=\"294.118125\"/>\n      </g>\n     </g>\n    </g>\n    <g id=\"xtick_109\">\n     <g id=\"line2d_136\">\n      <g>\n       <use style=\"stroke:#000000;stroke-width:0.6;\" x=\"747.115682\" xlink:href=\"#mfc58ec093d\" y=\"294.118125\"/>\n      </g>\n     </g>\n    </g>\n    <g id=\"xtick_110\">\n     <g id=\"line2d_137\">\n      <g>\n       <use style=\"stroke:#000000;stroke-width:0.6;\" x=\"749.967832\" xlink:href=\"#mfc58ec093d\" y=\"294.118125\"/>\n      </g>\n     </g>\n    </g>\n    <g id=\"xtick_111\">\n     <g id=\"line2d_138\">\n      <g>\n       <use style=\"stroke:#000000;stroke-width:0.6;\" x=\"769.303927\" xlink:href=\"#mfc58ec093d\" y=\"294.118125\"/>\n      </g>\n     </g>\n    </g>\n    <g id=\"xtick_112\">\n     <g id=\"line2d_139\">\n      <g>\n       <use style=\"stroke:#000000;stroke-width:0.6;\" x=\"779.122382\" xlink:href=\"#mfc58ec093d\" y=\"294.118125\"/>\n      </g>\n     </g>\n    </g>\n    <g id=\"xtick_113\">\n     <g id=\"line2d_140\">\n      <g>\n       <use style=\"stroke:#000000;stroke-width:0.6;\" x=\"786.088686\" xlink:href=\"#mfc58ec093d\" y=\"294.118125\"/>\n      </g>\n     </g>\n    </g>\n    <g id=\"xtick_114\">\n     <g id=\"line2d_141\">\n      <g>\n       <use style=\"stroke:#000000;stroke-width:0.6;\" x=\"791.492172\" xlink:href=\"#mfc58ec093d\" y=\"294.118125\"/>\n      </g>\n     </g>\n    </g>\n    <g id=\"xtick_115\">\n     <g id=\"line2d_142\">\n      <g>\n       <use style=\"stroke:#000000;stroke-width:0.6;\" x=\"795.907141\" xlink:href=\"#mfc58ec093d\" y=\"294.118125\"/>\n      </g>\n     </g>\n    </g>\n    <g id=\"xtick_116\">\n     <g id=\"line2d_143\">\n      <g>\n       <use style=\"stroke:#000000;stroke-width:0.6;\" x=\"799.639945\" xlink:href=\"#mfc58ec093d\" y=\"294.118125\"/>\n      </g>\n     </g>\n    </g>\n    <g id=\"xtick_117\">\n     <g id=\"line2d_144\">\n      <g>\n       <use style=\"stroke:#000000;stroke-width:0.6;\" x=\"802.873446\" xlink:href=\"#mfc58ec093d\" y=\"294.118125\"/>\n      </g>\n     </g>\n    </g>\n    <g id=\"xtick_118\">\n     <g id=\"line2d_145\">\n      <g>\n       <use style=\"stroke:#000000;stroke-width:0.6;\" x=\"805.725596\" xlink:href=\"#mfc58ec093d\" y=\"294.118125\"/>\n      </g>\n     </g>\n    </g>\n    <g id=\"xtick_119\">\n     <g id=\"line2d_146\">\n      <g>\n       <use style=\"stroke:#000000;stroke-width:0.6;\" x=\"825.061691\" xlink:href=\"#mfc58ec093d\" y=\"294.118125\"/>\n      </g>\n     </g>\n    </g>\n    <g id=\"xtick_120\">\n     <g id=\"line2d_147\">\n      <g>\n       <use style=\"stroke:#000000;stroke-width:0.6;\" x=\"834.880146\" xlink:href=\"#mfc58ec093d\" y=\"294.118125\"/>\n      </g>\n     </g>\n    </g>\n    <g id=\"xtick_121\">\n     <g id=\"line2d_148\">\n      <g>\n       <use style=\"stroke:#000000;stroke-width:0.6;\" x=\"841.84645\" xlink:href=\"#mfc58ec093d\" y=\"294.118125\"/>\n      </g>\n     </g>\n    </g>\n    <g id=\"xtick_122\">\n     <g id=\"line2d_149\">\n      <g>\n       <use style=\"stroke:#000000;stroke-width:0.6;\" x=\"847.249936\" xlink:href=\"#mfc58ec093d\" y=\"294.118125\"/>\n      </g>\n     </g>\n    </g>\n    <g id=\"xtick_123\">\n     <g id=\"line2d_150\">\n      <g>\n       <use style=\"stroke:#000000;stroke-width:0.6;\" x=\"851.664905\" xlink:href=\"#mfc58ec093d\" y=\"294.118125\"/>\n      </g>\n     </g>\n    </g>\n    <g id=\"xtick_124\">\n     <g id=\"line2d_151\">\n      <g>\n       <use style=\"stroke:#000000;stroke-width:0.6;\" x=\"855.397708\" xlink:href=\"#mfc58ec093d\" y=\"294.118125\"/>\n      </g>\n     </g>\n    </g>\n    <g id=\"xtick_125\">\n     <g id=\"line2d_152\">\n      <g>\n       <use style=\"stroke:#000000;stroke-width:0.6;\" x=\"858.63121\" xlink:href=\"#mfc58ec093d\" y=\"294.118125\"/>\n      </g>\n     </g>\n    </g>\n    <g id=\"xtick_126\">\n     <g id=\"line2d_153\">\n      <g>\n       <use style=\"stroke:#000000;stroke-width:0.6;\" x=\"861.48336\" xlink:href=\"#mfc58ec093d\" y=\"294.118125\"/>\n      </g>\n     </g>\n    </g>\n    <g id=\"xtick_127\">\n     <g id=\"line2d_154\">\n      <g>\n       <use style=\"stroke:#000000;stroke-width:0.6;\" x=\"880.819454\" xlink:href=\"#mfc58ec093d\" y=\"294.118125\"/>\n      </g>\n     </g>\n    </g>\n    <g id=\"xtick_128\">\n     <g id=\"line2d_155\">\n      <g>\n       <use style=\"stroke:#000000;stroke-width:0.6;\" x=\"890.637909\" xlink:href=\"#mfc58ec093d\" y=\"294.118125\"/>\n      </g>\n     </g>\n    </g>\n    <g id=\"xtick_129\">\n     <g id=\"line2d_156\">\n      <g>\n       <use style=\"stroke:#000000;stroke-width:0.6;\" x=\"897.604214\" xlink:href=\"#mfc58ec093d\" y=\"294.118125\"/>\n      </g>\n     </g>\n    </g>\n    <g id=\"xtick_130\">\n     <g id=\"line2d_157\">\n      <g>\n       <use style=\"stroke:#000000;stroke-width:0.6;\" x=\"903.007699\" xlink:href=\"#mfc58ec093d\" y=\"294.118125\"/>\n      </g>\n     </g>\n    </g>\n    <g id=\"xtick_131\">\n     <g id=\"line2d_158\">\n      <g>\n       <use style=\"stroke:#000000;stroke-width:0.6;\" x=\"907.422669\" xlink:href=\"#mfc58ec093d\" y=\"294.118125\"/>\n      </g>\n     </g>\n    </g>\n    <g id=\"xtick_132\">\n     <g id=\"line2d_159\">\n      <g>\n       <use style=\"stroke:#000000;stroke-width:0.6;\" x=\"911.155472\" xlink:href=\"#mfc58ec093d\" y=\"294.118125\"/>\n      </g>\n     </g>\n    </g>\n    <g id=\"xtick_133\">\n     <g id=\"line2d_160\">\n      <g>\n       <use style=\"stroke:#000000;stroke-width:0.6;\" x=\"914.388973\" xlink:href=\"#mfc58ec093d\" y=\"294.118125\"/>\n      </g>\n     </g>\n    </g>\n    <g id=\"xtick_134\">\n     <g id=\"line2d_161\">\n      <g>\n       <use style=\"stroke:#000000;stroke-width:0.6;\" x=\"917.241123\" xlink:href=\"#mfc58ec093d\" y=\"294.118125\"/>\n      </g>\n     </g>\n    </g>\n    <g id=\"xtick_135\">\n     <g id=\"line2d_162\">\n      <g>\n       <use style=\"stroke:#000000;stroke-width:0.6;\" x=\"936.577218\" xlink:href=\"#mfc58ec093d\" y=\"294.118125\"/>\n      </g>\n     </g>\n    </g>\n    <g id=\"xtick_136\">\n     <g id=\"line2d_163\">\n      <g>\n       <use style=\"stroke:#000000;stroke-width:0.6;\" x=\"946.395673\" xlink:href=\"#mfc58ec093d\" y=\"294.118125\"/>\n      </g>\n     </g>\n    </g>\n    <g id=\"xtick_137\">\n     <g id=\"line2d_164\">\n      <g>\n       <use style=\"stroke:#000000;stroke-width:0.6;\" x=\"953.361978\" xlink:href=\"#mfc58ec093d\" y=\"294.118125\"/>\n      </g>\n     </g>\n    </g>\n    <g id=\"xtick_138\">\n     <g id=\"line2d_165\">\n      <g>\n       <use style=\"stroke:#000000;stroke-width:0.6;\" x=\"958.765463\" xlink:href=\"#mfc58ec093d\" y=\"294.118125\"/>\n      </g>\n     </g>\n    </g>\n    <g id=\"xtick_139\">\n     <g id=\"line2d_166\">\n      <g>\n       <use style=\"stroke:#000000;stroke-width:0.6;\" x=\"963.180432\" xlink:href=\"#mfc58ec093d\" y=\"294.118125\"/>\n      </g>\n     </g>\n    </g>\n    <g id=\"xtick_140\">\n     <g id=\"line2d_167\">\n      <g>\n       <use style=\"stroke:#000000;stroke-width:0.6;\" x=\"966.913236\" xlink:href=\"#mfc58ec093d\" y=\"294.118125\"/>\n      </g>\n     </g>\n    </g>\n    <g id=\"xtick_141\">\n     <g id=\"line2d_168\">\n      <g>\n       <use style=\"stroke:#000000;stroke-width:0.6;\" x=\"970.146737\" xlink:href=\"#mfc58ec093d\" y=\"294.118125\"/>\n      </g>\n     </g>\n    </g>\n    <g id=\"xtick_142\">\n     <g id=\"line2d_169\">\n      <g>\n       <use style=\"stroke:#000000;stroke-width:0.6;\" x=\"972.998887\" xlink:href=\"#mfc58ec093d\" y=\"294.118125\"/>\n      </g>\n     </g>\n    </g>\n    <g id=\"xtick_143\">\n     <g id=\"line2d_170\">\n      <g>\n       <use style=\"stroke:#000000;stroke-width:0.6;\" x=\"992.334982\" xlink:href=\"#mfc58ec093d\" y=\"294.118125\"/>\n      </g>\n     </g>\n    </g>\n    <g id=\"xtick_144\">\n     <g id=\"line2d_171\">\n      <g>\n       <use style=\"stroke:#000000;stroke-width:0.6;\" x=\"1002.153437\" xlink:href=\"#mfc58ec093d\" y=\"294.118125\"/>\n      </g>\n     </g>\n    </g>\n    <g id=\"xtick_145\">\n     <g id=\"line2d_172\">\n      <g>\n       <use style=\"stroke:#000000;stroke-width:0.6;\" x=\"1009.119741\" xlink:href=\"#mfc58ec093d\" y=\"294.118125\"/>\n      </g>\n     </g>\n    </g>\n    <g id=\"xtick_146\">\n     <g id=\"line2d_173\">\n      <g>\n       <use style=\"stroke:#000000;stroke-width:0.6;\" x=\"1014.523227\" xlink:href=\"#mfc58ec093d\" y=\"294.118125\"/>\n      </g>\n     </g>\n    </g>\n    <g id=\"xtick_147\">\n     <g id=\"line2d_174\">\n      <g>\n       <use style=\"stroke:#000000;stroke-width:0.6;\" x=\"1018.938196\" xlink:href=\"#mfc58ec093d\" y=\"294.118125\"/>\n      </g>\n     </g>\n    </g>\n    <g id=\"xtick_148\">\n     <g id=\"line2d_175\">\n      <g>\n       <use style=\"stroke:#000000;stroke-width:0.6;\" x=\"1022.670999\" xlink:href=\"#mfc58ec093d\" y=\"294.118125\"/>\n      </g>\n     </g>\n    </g>\n    <g id=\"xtick_149\">\n     <g id=\"line2d_176\">\n      <g>\n       <use style=\"stroke:#000000;stroke-width:0.6;\" x=\"1025.904501\" xlink:href=\"#mfc58ec093d\" y=\"294.118125\"/>\n      </g>\n     </g>\n    </g>\n    <g id=\"xtick_150\">\n     <g id=\"line2d_177\">\n      <g>\n       <use style=\"stroke:#000000;stroke-width:0.6;\" x=\"1028.756651\" xlink:href=\"#mfc58ec093d\" y=\"294.118125\"/>\n      </g>\n     </g>\n    </g>\n    <g id=\"text_38\">\n     <!-- nodes -->\n     <g transform=\"translate(871.713649 322.394687)scale(0.1 -0.1)\">\n      <use xlink:href=\"#DejaVuSans-110\"/>\n      <use x=\"63.378906\" xlink:href=\"#DejaVuSans-111\"/>\n      <use x=\"124.560547\" xlink:href=\"#DejaVuSans-100\"/>\n      <use x=\"188.037109\" xlink:href=\"#DejaVuSans-101\"/>\n      <use x=\"249.560547\" xlink:href=\"#DejaVuSans-115\"/>\n     </g>\n    </g>\n   </g>\n   <g id=\"matplotlib.axis_6\">\n    <g id=\"ytick_16\">\n     <g id=\"line2d_178\">\n      <g>\n       <use style=\"stroke:#000000;stroke-width:0.8;\" x=\"739.09136\" xlink:href=\"#m3cb5fac210\" y=\"285.279886\"/>\n      </g>\n     </g>\n     <g id=\"text_39\">\n      <!-- 0.0 -->\n      <g transform=\"translate(716.188235 289.079105)scale(0.1 -0.1)\">\n       <use xlink:href=\"#DejaVuSans-48\"/>\n       <use x=\"63.623047\" xlink:href=\"#DejaVuSans-46\"/>\n       <use x=\"95.410156\" xlink:href=\"#DejaVuSans-48\"/>\n      </g>\n     </g>\n    </g>\n    <g id=\"ytick_17\">\n     <g id=\"line2d_179\">\n      <g>\n       <use style=\"stroke:#000000;stroke-width:0.8;\" x=\"739.09136\" xlink:href=\"#m3cb5fac210\" y=\"239.3394\"/>\n      </g>\n     </g>\n     <g id=\"text_40\">\n      <!-- 0.2 -->\n      <g transform=\"translate(716.188235 243.138619)scale(0.1 -0.1)\">\n       <use xlink:href=\"#DejaVuSans-48\"/>\n       <use x=\"63.623047\" xlink:href=\"#DejaVuSans-46\"/>\n       <use x=\"95.410156\" xlink:href=\"#DejaVuSans-50\"/>\n      </g>\n     </g>\n    </g>\n    <g id=\"ytick_18\">\n     <g id=\"line2d_180\">\n      <g>\n       <use style=\"stroke:#000000;stroke-width:0.8;\" x=\"739.09136\" xlink:href=\"#m3cb5fac210\" y=\"193.398914\"/>\n      </g>\n     </g>\n     <g id=\"text_41\">\n      <!-- 0.4 -->\n      <g transform=\"translate(716.188235 197.198132)scale(0.1 -0.1)\">\n       <use xlink:href=\"#DejaVuSans-48\"/>\n       <use x=\"63.623047\" xlink:href=\"#DejaVuSans-46\"/>\n       <use x=\"95.410156\" xlink:href=\"#DejaVuSans-52\"/>\n      </g>\n     </g>\n    </g>\n    <g id=\"ytick_19\">\n     <g id=\"line2d_181\">\n      <g>\n       <use style=\"stroke:#000000;stroke-width:0.8;\" x=\"739.09136\" xlink:href=\"#m3cb5fac210\" y=\"147.458427\"/>\n      </g>\n     </g>\n     <g id=\"text_42\">\n      <!-- 0.6 -->\n      <g transform=\"translate(716.188235 151.257646)scale(0.1 -0.1)\">\n       <use xlink:href=\"#DejaVuSans-48\"/>\n       <use x=\"63.623047\" xlink:href=\"#DejaVuSans-46\"/>\n       <use x=\"95.410156\" xlink:href=\"#DejaVuSans-54\"/>\n      </g>\n     </g>\n    </g>\n    <g id=\"ytick_20\">\n     <g id=\"line2d_182\">\n      <g>\n       <use style=\"stroke:#000000;stroke-width:0.8;\" x=\"739.09136\" xlink:href=\"#m3cb5fac210\" y=\"101.517941\"/>\n      </g>\n     </g>\n     <g id=\"text_43\">\n      <!-- 0.8 -->\n      <g transform=\"translate(716.188235 105.31716)scale(0.1 -0.1)\">\n       <use xlink:href=\"#DejaVuSans-48\"/>\n       <use x=\"63.623047\" xlink:href=\"#DejaVuSans-46\"/>\n       <use x=\"95.410156\" xlink:href=\"#DejaVuSans-56\"/>\n      </g>\n     </g>\n    </g>\n    <g id=\"ytick_21\">\n     <g id=\"line2d_183\">\n      <g>\n       <use style=\"stroke:#000000;stroke-width:0.8;\" x=\"739.09136\" xlink:href=\"#m3cb5fac210\" y=\"55.577455\"/>\n      </g>\n     </g>\n     <g id=\"text_44\">\n      <!-- 1.0 -->\n      <g transform=\"translate(716.188235 59.376674)scale(0.1 -0.1)\">\n       <use xlink:href=\"#DejaVuSans-49\"/>\n       <use x=\"63.623047\" xlink:href=\"#DejaVuSans-46\"/>\n       <use x=\"95.410156\" xlink:href=\"#DejaVuSans-48\"/>\n      </g>\n     </g>\n    </g>\n   </g>\n   <g id=\"LineCollection_7\">\n    <path clip-path=\"url(#p9b189a1504)\" d=\"M 752.519168 91.635024 \nL 752.519168 34.67267 \n\" style=\"fill:none;stroke:#1f77b4;stroke-width:1.5;\"/>\n    <path clip-path=\"url(#p9b189a1504)\" d=\"M 769.303927 109.283086 \nL 769.303927 40.356649 \n\" style=\"fill:none;stroke:#1f77b4;stroke-width:1.5;\"/>\n    <path clip-path=\"url(#p9b189a1504)\" d=\"M 786.088686 133.450314 \nL 786.088686 59.147571 \n\" style=\"fill:none;stroke:#1f77b4;stroke-width:1.5;\"/>\n    <path clip-path=\"url(#p9b189a1504)\" d=\"M 802.873446 168.395939 \nL 802.873446 93.095874 \n\" style=\"fill:none;stroke:#1f77b4;stroke-width:1.5;\"/>\n    <path clip-path=\"url(#p9b189a1504)\" d=\"M 819.658205 200.134717 \nL 819.658205 139.894355 \n\" style=\"fill:none;stroke:#1f77b4;stroke-width:1.5;\"/>\n    <path clip-path=\"url(#p9b189a1504)\" d=\"M 836.442965 229.216738 \nL 836.442965 188.802416 \n\" style=\"fill:none;stroke:#1f77b4;stroke-width:1.5;\"/>\n    <path clip-path=\"url(#p9b189a1504)\" d=\"M 853.227724 246.419126 \nL 853.227724 222.715435 \n\" style=\"fill:none;stroke:#1f77b4;stroke-width:1.5;\"/>\n    <path clip-path=\"url(#p9b189a1504)\" d=\"M 870.012483 256.580904 \nL 870.012483 241.775093 \n\" style=\"fill:none;stroke:#1f77b4;stroke-width:1.5;\"/>\n    <path clip-path=\"url(#p9b189a1504)\" d=\"M 886.797243 262.23609 \nL 886.797243 251.91965 \n\" style=\"fill:none;stroke:#1f77b4;stroke-width:1.5;\"/>\n    <path clip-path=\"url(#p9b189a1504)\" d=\"M 903.582002 264.983514 \nL 903.582002 257.086434 \n\" style=\"fill:none;stroke:#1f77b4;stroke-width:1.5;\"/>\n    <path clip-path=\"url(#p9b189a1504)\" d=\"M 920.366761 266.317301 \nL 920.366761 259.674834 \n\" style=\"fill:none;stroke:#1f77b4;stroke-width:1.5;\"/>\n    <path clip-path=\"url(#p9b189a1504)\" d=\"M 937.151521 267.036203 \nL 937.151521 261.217974 \n\" style=\"fill:none;stroke:#1f77b4;stroke-width:1.5;\"/>\n    <path clip-path=\"url(#p9b189a1504)\" d=\"M 953.93628 267.446427 \nL 953.93628 261.846045 \n\" style=\"fill:none;stroke:#1f77b4;stroke-width:1.5;\"/>\n    <path clip-path=\"url(#p9b189a1504)\" d=\"M 970.721039 267.611647 \nL 970.721039 262.192353 \n\" style=\"fill:none;stroke:#1f77b4;stroke-width:1.5;\"/>\n    <path clip-path=\"url(#p9b189a1504)\" d=\"M 987.505799 267.702018 \nL 987.505799 262.327849 \n\" style=\"fill:none;stroke:#1f77b4;stroke-width:1.5;\"/>\n    <path clip-path=\"url(#p9b189a1504)\" d=\"M 1004.290558 267.728188 \nL 1004.290558 262.403439 \n\" style=\"fill:none;stroke:#1f77b4;stroke-width:1.5;\"/>\n    <path clip-path=\"url(#p9b189a1504)\" d=\"M 1021.075318 267.765795 \nL 1021.075318 262.438018 \n\" style=\"fill:none;stroke:#1f77b4;stroke-width:1.5;\"/>\n   </g>\n   <g id=\"LineCollection_8\">\n    <path clip-path=\"url(#p9b189a1504)\" d=\"M 752.519168 102.676145 \nL 752.519168 41.566334 \n\" style=\"fill:none;stroke:#ff7f0e;stroke-width:1.5;\"/>\n    <path clip-path=\"url(#p9b189a1504)\" d=\"M 769.303927 122.618416 \nL 769.303927 53.70758 \n\" style=\"fill:none;stroke:#ff7f0e;stroke-width:1.5;\"/>\n    <path clip-path=\"url(#p9b189a1504)\" d=\"M 786.088686 154.644555 \nL 786.088686 81.217823 \n\" style=\"fill:none;stroke:#ff7f0e;stroke-width:1.5;\"/>\n    <path clip-path=\"url(#p9b189a1504)\" d=\"M 802.873446 198.386308 \nL 802.873446 130.143877 \n\" style=\"fill:none;stroke:#ff7f0e;stroke-width:1.5;\"/>\n    <path clip-path=\"url(#p9b189a1504)\" d=\"M 819.658205 241.126215 \nL 819.658205 198.135151 \n\" style=\"fill:none;stroke:#ff7f0e;stroke-width:1.5;\"/>\n    <path clip-path=\"url(#p9b189a1504)\" d=\"M 836.442965 261.019744 \nL 836.442965 243.938938 \n\" style=\"fill:none;stroke:#ff7f0e;stroke-width:1.5;\"/>\n    <path clip-path=\"url(#p9b189a1504)\" d=\"M 853.227724 270.574616 \nL 853.227724 263.614044 \n\" style=\"fill:none;stroke:#ff7f0e;stroke-width:1.5;\"/>\n    <path clip-path=\"url(#p9b189a1504)\" d=\"M 870.012483 275.531653 \nL 870.012483 271.588724 \n\" style=\"fill:none;stroke:#ff7f0e;stroke-width:1.5;\"/>\n    <path clip-path=\"url(#p9b189a1504)\" d=\"M 886.797243 277.987021 \nL 886.797243 274.994286 \n\" style=\"fill:none;stroke:#ff7f0e;stroke-width:1.5;\"/>\n    <path clip-path=\"url(#p9b189a1504)\" d=\"M 903.582002 279.275919 \nL 903.582002 276.454286 \n\" style=\"fill:none;stroke:#ff7f0e;stroke-width:1.5;\"/>\n    <path clip-path=\"url(#p9b189a1504)\" d=\"M 920.366761 279.918623 \nL 920.366761 277.197991 \n\" style=\"fill:none;stroke:#ff7f0e;stroke-width:1.5;\"/>\n    <path clip-path=\"url(#p9b189a1504)\" d=\"M 937.151521 280.244481 \nL 937.151521 277.57289 \n\" style=\"fill:none;stroke:#ff7f0e;stroke-width:1.5;\"/>\n    <path clip-path=\"url(#p9b189a1504)\" d=\"M 953.93628 280.405571 \nL 953.93628 277.748091 \n\" style=\"fill:none;stroke:#ff7f0e;stroke-width:1.5;\"/>\n    <path clip-path=\"url(#p9b189a1504)\" d=\"M 970.721039 280.48333 \nL 970.721039 277.835524 \n\" style=\"fill:none;stroke:#ff7f0e;stroke-width:1.5;\"/>\n    <path clip-path=\"url(#p9b189a1504)\" d=\"M 987.505799 280.526235 \nL 987.505799 277.877234 \n\" style=\"fill:none;stroke:#ff7f0e;stroke-width:1.5;\"/>\n    <path clip-path=\"url(#p9b189a1504)\" d=\"M 1004.290558 280.543744 \nL 1004.290558 277.899969 \n\" style=\"fill:none;stroke:#ff7f0e;stroke-width:1.5;\"/>\n    <path clip-path=\"url(#p9b189a1504)\" d=\"M 1021.075318 280.5563 \nL 1021.075318 277.910353 \n\" style=\"fill:none;stroke:#ff7f0e;stroke-width:1.5;\"/>\n   </g>\n   <g id=\"LineCollection_9\">\n    <path clip-path=\"url(#p9b189a1504)\" d=\"M 752.519168 103.167548 \nL 752.519168 40.958689 \n\" style=\"fill:none;stroke:#2ca02c;stroke-width:1.5;\"/>\n    <path clip-path=\"url(#p9b189a1504)\" d=\"M 769.303927 122.29377 \nL 769.303927 53.049917 \n\" style=\"fill:none;stroke:#2ca02c;stroke-width:1.5;\"/>\n    <path clip-path=\"url(#p9b189a1504)\" d=\"M 786.088686 154.64827 \nL 786.088686 82.72126 \n\" style=\"fill:none;stroke:#2ca02c;stroke-width:1.5;\"/>\n    <path clip-path=\"url(#p9b189a1504)\" d=\"M 802.873446 201.555013 \nL 802.873446 133.053825 \n\" style=\"fill:none;stroke:#2ca02c;stroke-width:1.5;\"/>\n    <path clip-path=\"url(#p9b189a1504)\" d=\"M 819.658205 243.54222 \nL 819.658205 205.238597 \n\" style=\"fill:none;stroke:#2ca02c;stroke-width:1.5;\"/>\n    <path clip-path=\"url(#p9b189a1504)\" d=\"M 836.442965 267.647795 \nL 836.442965 254.41666 \n\" style=\"fill:none;stroke:#2ca02c;stroke-width:1.5;\"/>\n    <path clip-path=\"url(#p9b189a1504)\" d=\"M 853.227724 277.311358 \nL 853.227724 273.093734 \n\" style=\"fill:none;stroke:#2ca02c;stroke-width:1.5;\"/>\n    <path clip-path=\"url(#p9b189a1504)\" d=\"M 870.012483 280.228305 \nL 870.012483 277.895556 \n\" style=\"fill:none;stroke:#2ca02c;stroke-width:1.5;\"/>\n    <path clip-path=\"url(#p9b189a1504)\" d=\"M 886.797243 281.158818 \nL 886.797243 279.14212 \n\" style=\"fill:none;stroke:#2ca02c;stroke-width:1.5;\"/>\n    <path clip-path=\"url(#p9b189a1504)\" d=\"M 903.582002 281.490088 \nL 903.582002 279.570857 \n\" style=\"fill:none;stroke:#2ca02c;stroke-width:1.5;\"/>\n    <path clip-path=\"url(#p9b189a1504)\" d=\"M 920.366761 281.640325 \nL 920.366761 279.768192 \n\" style=\"fill:none;stroke:#2ca02c;stroke-width:1.5;\"/>\n    <path clip-path=\"url(#p9b189a1504)\" d=\"M 937.151521 281.701927 \nL 937.151521 279.847518 \n\" style=\"fill:none;stroke:#2ca02c;stroke-width:1.5;\"/>\n    <path clip-path=\"url(#p9b189a1504)\" d=\"M 953.93628 281.737374 \nL 953.93628 279.898404 \n\" style=\"fill:none;stroke:#2ca02c;stroke-width:1.5;\"/>\n    <path clip-path=\"url(#p9b189a1504)\" d=\"M 970.721039 281.748719 \nL 970.721039 279.922068 \n\" style=\"fill:none;stroke:#2ca02c;stroke-width:1.5;\"/>\n    <path clip-path=\"url(#p9b189a1504)\" d=\"M 987.505799 281.756469 \nL 987.505799 279.930188 \n\" style=\"fill:none;stroke:#2ca02c;stroke-width:1.5;\"/>\n    <path clip-path=\"url(#p9b189a1504)\" d=\"M 1004.290558 281.760986 \nL 1004.290558 279.935222 \n\" style=\"fill:none;stroke:#2ca02c;stroke-width:1.5;\"/>\n    <path clip-path=\"url(#p9b189a1504)\" d=\"M 1021.075318 281.76358 \nL 1021.075318 279.935592 \n\" style=\"fill:none;stroke:#2ca02c;stroke-width:1.5;\"/>\n   </g>\n   <g id=\"line2d_184\">\n    <path clip-path=\"url(#p9b189a1504)\" d=\"M 752.519168 63.153847 \nL 769.303927 74.819868 \nL 786.088686 96.298942 \nL 802.873446 130.745906 \nL 819.658205 170.014536 \nL 836.442965 209.009577 \nL 853.227724 234.56728 \nL 870.012483 249.177999 \nL 886.797243 257.07787 \nL 903.582002 261.034974 \nL 920.366761 262.996068 \nL 937.151521 264.127089 \nL 953.93628 264.646236 \nL 970.721039 264.902 \nL 987.505799 265.014933 \nL 1004.290558 265.065814 \nL 1021.075318 265.101906 \n\" style=\"fill:none;stroke:#0000ff;stroke-linecap:square;stroke-width:1.5;\"/>\n   </g>\n   <g id=\"line2d_185\">\n    <path clip-path=\"url(#p9b189a1504)\" d=\"M 752.519168 72.12124 \nL 769.303927 88.162998 \nL 786.088686 117.931189 \nL 802.873446 164.265092 \nL 819.658205 219.630683 \nL 836.442965 252.479341 \nL 853.227724 267.09433 \nL 870.012483 273.560189 \nL 886.797243 276.490653 \nL 903.582002 277.865103 \nL 920.366761 278.558307 \nL 937.151521 278.908686 \nL 953.93628 279.076831 \nL 970.721039 279.159427 \nL 987.505799 279.201734 \nL 1004.290558 279.221857 \nL 1021.075318 279.233326 \n\" style=\"fill:none;stroke:#008000;stroke-linecap:square;stroke-width:1.5;\"/>\n   </g>\n   <g id=\"line2d_186\">\n    <path clip-path=\"url(#p9b189a1504)\" d=\"M 752.519168 72.063118 \nL 769.303927 87.671844 \nL 786.088686 118.684765 \nL 802.873446 167.304419 \nL 819.658205 224.390409 \nL 836.442965 261.032228 \nL 853.227724 275.202546 \nL 870.012483 279.061931 \nL 886.797243 280.150469 \nL 903.582002 280.530472 \nL 920.366761 280.704258 \nL 937.151521 280.774723 \nL 953.93628 280.817889 \nL 970.721039 280.835393 \nL 987.505799 280.843329 \nL 1004.290558 280.848104 \nL 1021.075318 280.849586 \n\" style=\"fill:none;stroke:#ff0000;stroke-linecap:square;stroke-width:1.5;\"/>\n   </g>\n   <g id=\"line2d_187\">\n    <path clip-path=\"url(#p9b189a1504)\" d=\"M 752.519168 63.153847 \nL 769.303927 74.819868 \nL 786.088686 96.298942 \nL 802.873446 130.745906 \nL 819.658205 170.014536 \nL 836.442965 209.009577 \nL 853.227724 234.56728 \nL 870.012483 249.177999 \nL 886.797243 257.07787 \nL 903.582002 261.034974 \nL 920.366761 262.996068 \nL 937.151521 264.127089 \nL 953.93628 264.646236 \nL 970.721039 264.902 \nL 987.505799 265.014933 \nL 1004.290558 265.065814 \nL 1021.075318 265.101906 \n\" style=\"fill:none;stroke:#1f77b4;stroke-linecap:square;stroke-width:1.5;\"/>\n   </g>\n   <g id=\"line2d_188\">\n    <path clip-path=\"url(#p9b189a1504)\" d=\"M 752.519168 72.12124 \nL 769.303927 88.162998 \nL 786.088686 117.931189 \nL 802.873446 164.265092 \nL 819.658205 219.630683 \nL 836.442965 252.479341 \nL 853.227724 267.09433 \nL 870.012483 273.560189 \nL 886.797243 276.490653 \nL 903.582002 277.865103 \nL 920.366761 278.558307 \nL 937.151521 278.908686 \nL 953.93628 279.076831 \nL 970.721039 279.159427 \nL 987.505799 279.201734 \nL 1004.290558 279.221857 \nL 1021.075318 279.233326 \n\" style=\"fill:none;stroke:#ff7f0e;stroke-linecap:square;stroke-width:1.5;\"/>\n   </g>\n   <g id=\"line2d_189\">\n    <path clip-path=\"url(#p9b189a1504)\" d=\"M 752.519168 72.063118 \nL 769.303927 87.671844 \nL 786.088686 118.684765 \nL 802.873446 167.304419 \nL 819.658205 224.390409 \nL 836.442965 261.032228 \nL 853.227724 275.202546 \nL 870.012483 279.061931 \nL 886.797243 280.150469 \nL 903.582002 280.530472 \nL 920.366761 280.704258 \nL 937.151521 280.774723 \nL 953.93628 280.817889 \nL 970.721039 280.835393 \nL 987.505799 280.843329 \nL 1004.290558 280.848104 \nL 1021.075318 280.849586 \n\" style=\"fill:none;stroke:#2ca02c;stroke-linecap:square;stroke-width:1.5;\"/>\n   </g>\n   <g id=\"patch_13\">\n    <path d=\"M 739.09136 294.118125 \nL 739.09136 22.318125 \n\" style=\"fill:none;stroke:#000000;stroke-linecap:square;stroke-linejoin:miter;stroke-width:0.8;\"/>\n   </g>\n   <g id=\"patch_14\">\n    <path d=\"M 1034.503125 294.118125 \nL 1034.503125 22.318125 \n\" style=\"fill:none;stroke:#000000;stroke-linecap:square;stroke-linejoin:miter;stroke-width:0.8;\"/>\n   </g>\n   <g id=\"patch_15\">\n    <path d=\"M 739.09136 294.118125 \nL 1034.503125 294.118125 \n\" style=\"fill:none;stroke:#000000;stroke-linecap:square;stroke-linejoin:miter;stroke-width:0.8;\"/>\n   </g>\n   <g id=\"patch_16\">\n    <path d=\"M 739.09136 22.318125 \nL 1034.503125 22.318125 \n\" style=\"fill:none;stroke:#000000;stroke-linecap:square;stroke-linejoin:miter;stroke-width:0.8;\"/>\n   </g>\n   <g id=\"text_45\">\n    <!-- Train MSE (Overall) -->\n    <defs>\n     <path d=\"M 39.40625 66.21875 \nQ 28.65625 66.21875 22.328125 58.203125 \nQ 16.015625 50.203125 16.015625 36.375 \nQ 16.015625 22.609375 22.328125 14.59375 \nQ 28.65625 6.59375 39.40625 6.59375 \nQ 50.140625 6.59375 56.421875 14.59375 \nQ 62.703125 22.609375 62.703125 36.375 \nQ 62.703125 50.203125 56.421875 58.203125 \nQ 50.140625 66.21875 39.40625 66.21875 \nz\nM 39.40625 74.21875 \nQ 54.734375 74.21875 63.90625 63.9375 \nQ 73.09375 53.65625 73.09375 36.375 \nQ 73.09375 19.140625 63.90625 8.859375 \nQ 54.734375 -1.421875 39.40625 -1.421875 \nQ 24.03125 -1.421875 14.8125 8.828125 \nQ 5.609375 19.09375 5.609375 36.375 \nQ 5.609375 53.65625 14.8125 63.9375 \nQ 24.03125 74.21875 39.40625 74.21875 \nz\n\" id=\"DejaVuSans-79\"/>\n     <path d=\"M 2.984375 54.6875 \nL 12.5 54.6875 \nL 29.59375 8.796875 \nL 46.6875 54.6875 \nL 56.203125 54.6875 \nL 35.6875 0 \nL 23.484375 0 \nz\n\" id=\"DejaVuSans-118\"/>\n     <path d=\"M 9.421875 75.984375 \nL 18.40625 75.984375 \nL 18.40625 0 \nL 9.421875 0 \nz\n\" id=\"DejaVuSans-108\"/>\n    </defs>\n    <g transform=\"translate(829.688493 16.318125)scale(0.12 -0.12)\">\n     <use xlink:href=\"#DejaVuSans-84\"/>\n     <use x=\"46.333984\" xlink:href=\"#DejaVuSans-114\"/>\n     <use x=\"87.447266\" xlink:href=\"#DejaVuSans-97\"/>\n     <use x=\"148.726562\" xlink:href=\"#DejaVuSans-105\"/>\n     <use x=\"176.509766\" xlink:href=\"#DejaVuSans-110\"/>\n     <use x=\"239.888672\" xlink:href=\"#DejaVuSans-32\"/>\n     <use x=\"271.675781\" xlink:href=\"#DejaVuSans-77\"/>\n     <use x=\"357.955078\" xlink:href=\"#DejaVuSans-83\"/>\n     <use x=\"421.431641\" xlink:href=\"#DejaVuSans-69\"/>\n     <use x=\"484.615234\" xlink:href=\"#DejaVuSans-32\"/>\n     <use x=\"516.402344\" xlink:href=\"#DejaVuSans-40\"/>\n     <use x=\"555.416016\" xlink:href=\"#DejaVuSans-79\"/>\n     <use x=\"634.126953\" xlink:href=\"#DejaVuSans-118\"/>\n     <use x=\"693.306641\" xlink:href=\"#DejaVuSans-101\"/>\n     <use x=\"754.830078\" xlink:href=\"#DejaVuSans-114\"/>\n     <use x=\"795.943359\" xlink:href=\"#DejaVuSans-97\"/>\n     <use x=\"857.222656\" xlink:href=\"#DejaVuSans-108\"/>\n     <use x=\"885.005859\" xlink:href=\"#DejaVuSans-108\"/>\n     <use x=\"912.789062\" xlink:href=\"#DejaVuSans-41\"/>\n    </g>\n   </g>\n   <g id=\"legend_1\">\n    <g id=\"patch_17\">\n     <path d=\"M 970.053125 89.030625 \nL 1027.503125 89.030625 \nQ 1029.503125 89.030625 1029.503125 87.030625 \nL 1029.503125 29.318125 \nQ 1029.503125 27.318125 1027.503125 27.318125 \nL 970.053125 27.318125 \nQ 968.053125 27.318125 968.053125 29.318125 \nL 968.053125 87.030625 \nQ 968.053125 89.030625 970.053125 89.030625 \nz\n\" style=\"fill:#ffffff;opacity:0.8;stroke:#cccccc;stroke-linejoin:miter;\"/>\n    </g>\n    <g id=\"text_46\">\n     <!-- epochs -->\n     <defs>\n      <path d=\"M 18.109375 8.203125 \nL 18.109375 -20.796875 \nL 9.078125 -20.796875 \nL 9.078125 54.6875 \nL 18.109375 54.6875 \nL 18.109375 46.390625 \nQ 20.953125 51.265625 25.265625 53.625 \nQ 29.59375 56 35.59375 56 \nQ 45.5625 56 51.78125 48.09375 \nQ 58.015625 40.1875 58.015625 27.296875 \nQ 58.015625 14.40625 51.78125 6.484375 \nQ 45.5625 -1.421875 35.59375 -1.421875 \nQ 29.59375 -1.421875 25.265625 0.953125 \nQ 20.953125 3.328125 18.109375 8.203125 \nz\nM 48.6875 27.296875 \nQ 48.6875 37.203125 44.609375 42.84375 \nQ 40.53125 48.484375 33.40625 48.484375 \nQ 26.265625 48.484375 22.1875 42.84375 \nQ 18.109375 37.203125 18.109375 27.296875 \nQ 18.109375 17.390625 22.1875 11.75 \nQ 26.265625 6.109375 33.40625 6.109375 \nQ 40.53125 6.109375 44.609375 11.75 \nQ 48.6875 17.390625 48.6875 27.296875 \nz\n\" id=\"DejaVuSans-112\"/>\n      <path d=\"M 48.78125 52.59375 \nL 48.78125 44.1875 \nQ 44.96875 46.296875 41.140625 47.34375 \nQ 37.3125 48.390625 33.40625 48.390625 \nQ 24.65625 48.390625 19.8125 42.84375 \nQ 14.984375 37.3125 14.984375 27.296875 \nQ 14.984375 17.28125 19.8125 11.734375 \nQ 24.65625 6.203125 33.40625 6.203125 \nQ 37.3125 6.203125 41.140625 7.25 \nQ 44.96875 8.296875 48.78125 10.40625 \nL 48.78125 2.09375 \nQ 45.015625 0.34375 40.984375 -0.53125 \nQ 36.96875 -1.421875 32.421875 -1.421875 \nQ 20.0625 -1.421875 12.78125 6.34375 \nQ 5.515625 14.109375 5.515625 27.296875 \nQ 5.515625 40.671875 12.859375 48.328125 \nQ 20.21875 56 33.015625 56 \nQ 37.15625 56 41.109375 55.140625 \nQ 45.0625 54.296875 48.78125 52.59375 \nz\n\" id=\"DejaVuSans-99\"/>\n      <path d=\"M 54.890625 33.015625 \nL 54.890625 0 \nL 45.90625 0 \nL 45.90625 32.71875 \nQ 45.90625 40.484375 42.875 44.328125 \nQ 39.84375 48.1875 33.796875 48.1875 \nQ 26.515625 48.1875 22.3125 43.546875 \nQ 18.109375 38.921875 18.109375 30.90625 \nL 18.109375 0 \nL 9.078125 0 \nL 9.078125 75.984375 \nL 18.109375 75.984375 \nL 18.109375 46.1875 \nQ 21.34375 51.125 25.703125 53.5625 \nQ 30.078125 56 35.796875 56 \nQ 45.21875 56 50.046875 50.171875 \nQ 54.890625 44.34375 54.890625 33.015625 \nz\n\" id=\"DejaVuSans-104\"/>\n     </defs>\n     <g transform=\"translate(980.945313 38.916563)scale(0.1 -0.1)\">\n      <use xlink:href=\"#DejaVuSans-101\"/>\n      <use x=\"61.523438\" xlink:href=\"#DejaVuSans-112\"/>\n      <use x=\"125\" xlink:href=\"#DejaVuSans-111\"/>\n      <use x=\"186.181641\" xlink:href=\"#DejaVuSans-99\"/>\n      <use x=\"241.162109\" xlink:href=\"#DejaVuSans-104\"/>\n      <use x=\"304.541016\" xlink:href=\"#DejaVuSans-115\"/>\n     </g>\n    </g>\n    <g id=\"line2d_190\">\n     <path d=\"M 972.053125 50.094688 \nL 992.053125 50.094688 \n\" style=\"fill:none;stroke:#0000ff;stroke-linecap:square;stroke-width:1.5;\"/>\n    </g>\n    <g id=\"line2d_191\"/>\n    <g id=\"text_47\">\n     <!-- 20 -->\n     <g transform=\"translate(1000.053125 53.594688)scale(0.1 -0.1)\">\n      <use xlink:href=\"#DejaVuSans-50\"/>\n      <use x=\"63.623047\" xlink:href=\"#DejaVuSans-48\"/>\n     </g>\n    </g>\n    <g id=\"line2d_192\">\n     <path d=\"M 972.053125 64.772813 \nL 992.053125 64.772813 \n\" style=\"fill:none;stroke:#008000;stroke-linecap:square;stroke-width:1.5;\"/>\n    </g>\n    <g id=\"line2d_193\"/>\n    <g id=\"text_48\">\n     <!-- 100 -->\n     <g transform=\"translate(1000.053125 68.272813)scale(0.1 -0.1)\">\n      <use xlink:href=\"#DejaVuSans-49\"/>\n      <use x=\"63.623047\" xlink:href=\"#DejaVuSans-48\"/>\n      <use x=\"127.246094\" xlink:href=\"#DejaVuSans-48\"/>\n     </g>\n    </g>\n    <g id=\"line2d_194\">\n     <path d=\"M 972.053125 79.450938 \nL 992.053125 79.450938 \n\" style=\"fill:none;stroke:#ff0000;stroke-linecap:square;stroke-width:1.5;\"/>\n    </g>\n    <g id=\"line2d_195\"/>\n    <g id=\"text_49\">\n     <!-- 1000 -->\n     <g transform=\"translate(1000.053125 82.950938)scale(0.1 -0.1)\">\n      <use xlink:href=\"#DejaVuSans-49\"/>\n      <use x=\"63.623047\" xlink:href=\"#DejaVuSans-48\"/>\n      <use x=\"127.246094\" xlink:href=\"#DejaVuSans-48\"/>\n      <use x=\"190.869141\" xlink:href=\"#DejaVuSans-48\"/>\n     </g>\n    </g>\n   </g>\n  </g>\n </g>\n <defs>\n  <clipPath id=\"pc92385cb37\">\n   <rect height=\"271.8\" width=\"295.411765\" x=\"30.103125\" y=\"22.318125\"/>\n  </clipPath>\n  <clipPath id=\"p13bacdc80b\">\n   <rect height=\"271.8\" width=\"295.411765\" x=\"384.597243\" y=\"22.318125\"/>\n  </clipPath>\n  <clipPath id=\"p9b189a1504\">\n   <rect height=\"271.8\" width=\"295.411765\" x=\"739.09136\" y=\"22.318125\"/>\n  </clipPath>\n </defs>\n</svg>\n",
      "image/png": "[encoded data removed]"
     },
     "metadata": {
      "needs_background": "light"
     }
    }
   ],
   "source": [
    "epochs_list = [20, 100, 1000]#np.unique(df['epochs'])\n",
    "color_list = 'bgr'#'bgrcyk'\n",
    "\n",
    "fig, ax = plt.subplots(1, 3, figsize = (18, 5), sharex=True)\n",
    "for epochs, color in zip(epochs_list, color_list):\n",
    "    result1 = result.loc[result['epochs']==epochs]\n",
    "    nodes, mean, std, count = result1['nodes'], result1['minority-mse']['mean'], result1['minority-mse']['std'],\\\n",
    "     result1['minority-mse']['count']\n",
    "    ax[0].plot(nodes, mean, color)\n",
    "    ax[0].errorbar(nodes, mean, std)\n",
    "    #ax[0].set_yscale('log')\n",
    "    ax[0].set_xscale('log')\n",
    "    ax[0].set_title('Test MSE (Minority)')\n",
    "    ax[0].set_xlabel('nodes')\n",
    "\n",
    "\n",
    "    mean, std, count = result1['majority-mse']['mean'], result1['majority-mse']['std'], result1['majority-mse']['count']\n",
    "    ax[1].plot(nodes, mean, color)\n",
    "    ax[1].errorbar(nodes, mean, std)\n",
    "    #ax[0].set_yscale('log')\n",
    "    ax[1].set_xscale('log')\n",
    "    ax[1].set_title('Test MSE (Majority)')\n",
    "    ax[1].set_xlabel('nodes')\n",
    "\n",
    "    mean, std, count = result1['train-mse']['mean'], result1['train-mse']['std'], result1['train-mse']['count']\n",
    "    ax[2].plot(nodes, mean, color)\n",
    "    ax[2].errorbar(nodes, mean, std)\n",
    "    #ax[0].set_yscale('log')\n",
    "    ax[2].set_xscale('log')\n",
    "    ax[2].set_title('Train MSE (Overall)')\n",
    "    ax[2].set_xlabel('nodes')\n",
    "\n",
    "\n",
    "plt.legend(epochs_list, title='epochs')\n",
    "plt.savefig('fig1.pdf')"
   ]
  },
  {
   "cell_type": "code",
   "execution_count": 35,
   "metadata": {},
   "outputs": [
    {
     "output_type": "display_data",
     "data": {
      "application/vnd.plotly.v1+json": {
       "config": {
        "plotlyServerURL": "https://plot.ly"
       },
       "data": [
        {
         "error_y": {
          "array": [
           0.1072237568444472,
           0.14159113841801943,
           0.16564379841731539,
           0.17788575956249103,
           0.1538392236427575,
           0.11617064432712722,
           0.08042644740671162,
           0.060429683652640405,
           0.047314765378633154,
           0.0420952846792696,
           0.03740243998972877,
           0.034937709582434265,
           0.03403121387872234,
           0.034047283471416924,
           0.033386029229223325,
           0.03339690424797735,
           0.033297826419900124
          ],
          "color": "red",
          "type": "data"
         },
         "legendgroup": "20",
         "marker": {
          "line": {
           "color": "red"
          }
         },
         "name": "20",
         "showlegend": false,
         "type": "scatter",
         "x": [
          1,
          2,
          4,
          8,
          16,
          32,
          64,
          128,
          256,
          512,
          1024,
          2048,
          4096,
          8192,
          16384,
          32768,
          65536
         ],
         "xaxis": "x",
         "y": [
          1.001121032834053,
          0.9722895504534245,
          0.9122656752467155,
          0.8212180219590663,
          0.6931706848144531,
          0.5643510655760765,
          0.4763203691542149,
          0.418558790743351,
          0.3915859292447567,
          0.3786015732884407,
          0.37073661214113235,
          0.36667300641536715,
          0.3647626870572567,
          0.36390205556154254,
          0.36303626200556754,
          0.3630482512414455,
          0.3629351382553577
         ],
         "yaxis": "y"
        },
        {
         "error_y": {
          "array": [
           0.1041281329625121,
           0.13497096782073348,
           0.15491289549646517,
           0.16828878313816883,
           0.14333526526522422,
           0.10030211720382931,
           0.06314427723622208,
           0.04287982472756713,
           0.032694875105564764,
           0.027812058791944476,
           0.02375852421448654,
           0.021998983503048197,
           0.02149794991034149,
           0.020880485547111957,
           0.02067328705456039,
           0.020565864552893155,
           0.020624054241262072
          ],
          "color": "red",
          "type": "data"
         },
         "legendgroup": "20",
         "marker": {
          "line": {
           "color": "red"
          }
         },
         "name": "20",
         "showlegend": false,
         "type": "scatter",
         "x": [
          1,
          2,
          4,
          8,
          16,
          32,
          64,
          128,
          256,
          512,
          1024,
          2048,
          4096,
          8192,
          16384,
          32768,
          65536
         ],
         "xaxis": "x2",
         "y": [
          0.9810086712241173,
          0.936166448444128,
          0.8475924438238144,
          0.7070308620333672,
          0.5381820605546236,
          0.36351622398942707,
          0.24504757318645715,
          0.1733307473808527,
          0.13587844233214855,
          0.11648843507841229,
          0.10685720308497548,
          0.10149596850574016,
          0.09868942319601774,
          0.09740975423529744,
          0.09679985735565425,
          0.09658381230011583,
          0.0963989524319768
         ],
         "yaxis": "y2"
        },
        {
         "error_y": {
          "array": [
           0.12399162128021857,
           0.15003419003465165,
           0.16173695554470158,
           0.16390785217109335,
           0.1311269584424461,
           0.0879710372158213,
           0.0515965169934685,
           0.03222824314754032,
           0.022456097288036138,
           0.017189805213040244,
           0.014458852467308086,
           0.01266470808267176,
           0.012190516520558293,
           0.011796336750599414,
           0.011698109850278558,
           0.011590537618826639,
           0.011597126922667799
          ],
          "color": "red",
          "type": "data"
         },
         "legendgroup": "20",
         "name": "20",
         "showlegend": true,
         "type": "scatter",
         "x": [
          1,
          2,
          4,
          8,
          16,
          32,
          64,
          128,
          256,
          512,
          1024,
          2048,
          4096,
          8192,
          16384,
          32768,
          65536
         ],
         "xaxis": "x3",
         "y": [
          0.9670164908468724,
          0.9162289559245109,
          0.8227206944227219,
          0.672757266536355,
          0.5018029178977013,
          0.3320396236255765,
          0.2207752246186137,
          0.15716806825250387,
          0.12277630504220724,
          0.10554921958595515,
          0.09701167874783277,
          0.09208782571181655,
          0.08982773923501372,
          0.08871428184956312,
          0.08822263054922223,
          0.08800112556293607,
          0.08784399654343725
         ],
         "yaxis": "y3"
        },
        {
         "error_y": {
          "array": [
           0.10521381220599799,
           0.13129279827141166,
           0.16220338844711565,
           0.16206642173787894,
           0.13071245583748,
           0.0911159275497944,
           0.0587789810326631,
           0.0429070656697334,
           0.03266088559885364,
           0.030526215576472296,
           0.02837846224581843,
           0.02751966273294285,
           0.027019493008514965,
           0.026610071835626865,
           0.026532754775758435,
           0.02663395602139453,
           0.026475067867709236
          ],
          "color": "green",
          "type": "data"
         },
         "legendgroup": "40",
         "marker": {
          "line": {
           "color": "green"
          }
         },
         "name": "40",
         "showlegend": false,
         "type": "scatter",
         "x": [
          1,
          2,
          4,
          8,
          16,
          32,
          64,
          128,
          256,
          512,
          1024,
          2048,
          4096,
          8192,
          16384,
          32768,
          65536
         ],
         "xaxis": "x",
         "y": [
          0.9782970036268235,
          0.9323495616316795,
          0.8694898928701877,
          0.7501982500255108,
          0.6078802925050258,
          0.5014961801171303,
          0.42768529352545737,
          0.39421879094839096,
          0.376035383284092,
          0.36733618742227553,
          0.36320023268461227,
          0.3611640102267265,
          0.3596360215842724,
          0.35928884643316267,
          0.35887970009446146,
          0.3587115159332752,
          0.35867430445551873
         ],
         "yaxis": "y"
        },
        {
         "error_y": {
          "array": [
           0.10664695229366489,
           0.12839738621485383,
           0.1542552337474893,
           0.15250114074774962,
           0.12036560200193287,
           0.06954408473840844,
           0.032305313040832166,
           0.018199006491010493,
           0.01124274377069459,
           0.00820439790536675,
           0.007033844184638971,
           0.005979339730205907,
           0.005892586676576995,
           0.005740230975949315,
           0.00569774384547151,
           0.0056350123149614935,
           0.0056173164206997275
          ],
          "color": "green",
          "type": "data"
         },
         "legendgroup": "40",
         "marker": {
          "line": {
           "color": "green"
          }
         },
         "name": "40",
         "showlegend": false,
         "type": "scatter",
         "x": [
          1,
          2,
          4,
          8,
          16,
          32,
          64,
          128,
          256,
          512,
          1024,
          2048,
          4096,
          8192,
          16384,
          32768,
          65536
         ],
         "xaxis": "x2",
         "y": [
          0.9498195763528346,
          0.8867224261760712,
          0.7853790153264999,
          0.6104420492947101,
          0.3980784704089165,
          0.23801925139129163,
          0.13378762016445397,
          0.08151954913139343,
          0.05500217579118907,
          0.041417002569884065,
          0.03510523915849626,
          0.0314572334792465,
          0.029793968945741652,
          0.028960008854046464,
          0.028534034157171845,
          0.028310836305841802,
          0.028157461173832415
         ],
         "yaxis": "y2"
        },
        {
         "error_y": {
          "array": [
           0.12963287445676105,
           0.14287358771257713,
           0.1598110608364927,
           0.15087297850337714,
           0.10986312226613605,
           0.05908512413625955,
           0.02639549028242043,
           0.014144145183668239,
           0.009475243543086148,
           0.00787620607032023,
           0.007295613740411872,
           0.00697541480076547,
           0.006896241096484577,
           0.006859590446010182,
           0.006817518048058014,
           0.006806078396779682,
           0.006783275218756266
          ],
          "color": "green",
          "type": "data"
         },
         "legendgroup": "40",
         "name": "40",
         "showlegend": true,
         "type": "scatter",
         "x": [
          1,
          2,
          4,
          8,
          16,
          32,
          64,
          128,
          256,
          512,
          1024,
          2048,
          4096,
          8192,
          16384,
          32768,
          65536
         ],
         "xaxis": "x3",
         "y": [
          0.937388235449791,
          0.8665155586004257,
          0.7580996484458447,
          0.578112376794219,
          0.3663399032950401,
          0.21458542488515378,
          0.12165022790431976,
          0.07666905552521348,
          0.05524577168375254,
          0.0441110054012388,
          0.03892340798676014,
          0.03621387534402311,
          0.034885784339159724,
          0.034264987278729675,
          0.03391840504296124,
          0.03374367042444646,
          0.0336373440194875
         ],
         "yaxis": "y3"
        },
        {
         "error_y": {
          "array": [
           0.11333687458491785,
           0.14260156245061326,
           0.1622604367162345,
           0.16098185042326887,
           0.11386949642062727,
           0.06377256966806653,
           0.039110674397818734,
           0.03005475790669235,
           0.02703991442735442,
           0.02492059295190914,
           0.024523768900944556,
           0.02381444312007535,
           0.02361873483678389,
           0.02351275127064498,
           0.023525957531102086,
           0.023497486241496543,
           0.023443971606071222
          ],
          "color": "blue",
          "type": "data"
         },
         "legendgroup": "100",
         "marker": {
          "line": {
           "color": "blue"
          }
         },
         "name": "100",
         "showlegend": false,
         "type": "scatter",
         "x": [
          1,
          2,
          4,
          8,
          16,
          32,
          64,
          128,
          256,
          512,
          1024,
          2048,
          4096,
          8192,
          16384,
          32768,
          65536
         ],
         "xaxis": "x",
         "y": [
          0.973097077935934,
          0.9300712134242057,
          0.8568444024920464,
          0.7278845992088318,
          0.5644626677036285,
          0.4649199615418911,
          0.41994149097800254,
          0.39765574550628663,
          0.38568737530708314,
          0.37964529132843017,
          0.3761001567542553,
          0.37496223545074464,
          0.3740369429886341,
          0.3737159999608993,
          0.3736103381812573,
          0.37341671377420427,
          0.373376750677824
         ],
         "yaxis": "y"
        },
        {
         "error_y": {
          "array": [
           0.10611020122738432,
           0.13554906785299825,
           0.15422359215382098,
           0.1543463124435175,
           0.10228118612981886,
           0.04407131553548421,
           0.01868218913471635,
           0.007944513479745336,
           0.004764063656378713,
           0.0033184540860281627,
           0.0026576355431737553,
           0.002339118310672033,
           0.0022641945626789483,
           0.002230708267394301,
           0.002224510586009621,
           0.0021861105005975523,
           0.0021804329366289094
          ],
          "color": "blue",
          "type": "data"
         },
         "legendgroup": "100",
         "marker": {
          "line": {
           "color": "blue"
          }
         },
         "name": "100",
         "showlegend": false,
         "type": "scatter",
         "x": [
          1,
          2,
          4,
          8,
          16,
          32,
          64,
          128,
          256,
          512,
          1024,
          2048,
          4096,
          8192,
          16384,
          32768,
          65536
         ],
         "xaxis": "x2",
         "y": [
          0.94387427303195,
          0.8772325365245343,
          0.755597852408886,
          0.5654322469979525,
          0.3180437716469169,
          0.1610507577881217,
          0.08751447895541788,
          0.051782273430377244,
          0.03539209715090692,
          0.027034972866997124,
          0.022802103385329245,
          0.02063305707834661,
          0.019655315886251627,
          0.01913710850197822,
          0.018854961871169508,
          0.01873478158004582,
          0.01866710091661662
         ],
         "yaxis": "y2"
        },
        {
         "error_y": {
          "array": [
           0.1330195125841133,
           0.15000023192231776,
           0.15983011492212074,
           0.14854529427049892,
           0.09357990629524757,
           0.03718028997066867,
           0.015151282246297196,
           0.008582690648218162,
           0.006514374854568081,
           0.006141930767919294,
           0.005922078481422173,
           0.005815330126173212,
           0.005784615468091358,
           0.005763557059253637,
           0.005766157903235415,
           0.005754782461988146,
           0.005759510247724959
          ],
          "color": "blue",
          "type": "data"
         },
         "legendgroup": "100",
         "name": "100",
         "showlegend": true,
         "type": "scatter",
         "x": [
          1,
          2,
          4,
          8,
          16,
          32,
          64,
          128,
          256,
          512,
          1024,
          2048,
          4096,
          8192,
          16384,
          32768,
          65536
         ],
         "xaxis": "x3",
         "y": [
          0.927977320164442,
          0.8581401917040348,
          0.7285456054210663,
          0.5268328818529844,
          0.28580108005553484,
          0.14279581040143965,
          0.07917006374523043,
          0.051021216318011285,
          0.03826355904899537,
          0.03227995198592543,
          0.029262114614248276,
          0.027736756757833065,
          0.027004743501544,
          0.026645165668800472,
          0.026460982111282647,
          0.0263733786419034,
          0.02632344773039222
         ],
         "yaxis": "y3"
        },
        {
         "error_y": {
          "array": [
           0.10845802027879962,
           0.1356971896833155,
           0.16236922768200818,
           0.16323969160819804,
           0.10580044951737101,
           0.05030451753744498,
           0.03149690529264361,
           0.027511782843170796,
           0.024264012327050468,
           0.024501477771881764,
           0.02366553109087105,
           0.023730530859891408,
           0.023621466753894173,
           0.023531379170403193,
           0.023571307027623115,
           0.02353833218485389,
           0.0235551682101115
          ],
          "color": "black",
          "type": "data"
         },
         "legendgroup": "500",
         "marker": {
          "line": {
           "color": "black"
          }
         },
         "name": "500",
         "showlegend": false,
         "type": "scatter",
         "x": [
          1,
          2,
          4,
          8,
          16,
          32,
          64,
          128,
          256,
          512,
          1024,
          2048,
          4096,
          8192,
          16384,
          32768,
          65536
         ],
         "xaxis": "x",
         "y": [
          0.9732250998914241,
          0.9331898123621941,
          0.8604818567037582,
          0.730239363193512,
          0.565314329624176,
          0.4536553130745888,
          0.4072879863679409,
          0.39088490387797353,
          0.3845525850355625,
          0.38196529072523117,
          0.3817808342576027,
          0.38087253957986833,
          0.38081515979766845,
          0.3807729326784611,
          0.3806250666081905,
          0.38055394807457926,
          0.3805880748033524
         ],
         "yaxis": "y"
        },
        {
         "error_y": {
          "array": [
           0.1006347950238227,
           0.13501465677674926,
           0.15456834842215403,
           0.15033109077924875,
           0.09240386297251321,
           0.03600187402468934,
           0.013156038938363214,
           0.005573427092945088,
           0.0040897635398453175,
           0.003670034834837434,
           0.003565234036092926,
           0.0036101096686084397,
           0.0035707656272223882,
           0.0035875084167384507,
           0.0035798571980545113,
           0.0035752553244612338,
           0.003556134665223767
          ],
          "color": "black",
          "type": "data"
         },
         "legendgroup": "500",
         "marker": {
          "line": {
           "color": "black"
          }
         },
         "name": "500",
         "showlegend": false,
         "type": "scatter",
         "x": [
          1,
          2,
          4,
          8,
          16,
          32,
          64,
          128,
          256,
          512,
          1024,
          2048,
          4096,
          8192,
          16384,
          32768,
          65536
         ],
         "xaxis": "x2",
         "y": [
          0.9464930091202259,
          0.8787494089007377,
          0.76146759095788,
          0.5439736556708813,
          0.2989043228700757,
          0.1321003660671413,
          0.06158613735437393,
          0.03653565185889602,
          0.02800740308314562,
          0.024714193876832723,
          0.023280656477436424,
          0.022574035530909895,
          0.022271657132543622,
          0.02209100144915283,
          0.022033898722380398,
          0.021992430775426328,
          0.02195855547208339
         ],
         "yaxis": "y2"
        },
        {
         "error_y": {
          "array": [
           0.12697212186144893,
           0.1442671514182546,
           0.15815248087844844,
           0.14898228019074497,
           0.08200377179884374,
           0.02891382884744503,
           0.010031257862376516,
           0.005596051431366555,
           0.00477889172446105,
           0.00462524090646959,
           0.004562494402277176,
           0.004482402278929835,
           0.004472393271791556,
           0.004461447383744436,
           0.004452810335013444,
           0.004454905114152433,
           0.0044513174062390725
          ],
          "color": "black",
          "type": "data"
         },
         "legendgroup": "500",
         "name": "500",
         "showlegend": true,
         "type": "scatter",
         "x": [
          1,
          2,
          4,
          8,
          16,
          32,
          64,
          128,
          256,
          512,
          1024,
          2048,
          4096,
          8192,
          16384,
          32768,
          65536
         ],
         "xaxis": "x3",
         "y": [
          0.9328449055850506,
          0.8585436824560165,
          0.7295063127875328,
          0.5080145873427391,
          0.2636872225254774,
          0.10725710129365325,
          0.049642958601936696,
          0.03091393519192934,
          0.025164111264981328,
          0.023059085697866976,
          0.02209722744487226,
          0.021672187631949783,
          0.021490898826159538,
          0.021381839574314655,
          0.021325177131220698,
          0.021304847209714352,
          0.021293322955258192
         ],
         "yaxis": "y3"
        },
        {
         "error_y": {
          "array": [
           0.11076522620113899,
           0.1394254638371169,
           0.16245810136096525,
           0.16612059479765168,
           0.10478702719454108,
           0.052209247282771785,
           0.031853648315994534,
           0.026014496577392222,
           0.024788511854610767,
           0.024315318277413202,
           0.024023423837114633,
           0.02384559014583969,
           0.02380507319231421,
           0.02377293172040705,
           0.023833298663104376,
           0.023801603019244066,
           0.02377578439669203
          ],
          "color": "purple",
          "type": "data"
         },
         "legendgroup": "1000",
         "marker": {
          "line": {
           "color": "purple"
          }
         },
         "name": "1000",
         "showlegend": false,
         "type": "scatter",
         "x": [
          1,
          2,
          4,
          8,
          16,
          32,
          64,
          128,
          256,
          512,
          1024,
          2048,
          4096,
          8192,
          16384,
          32768,
          65536
         ],
         "xaxis": "x",
         "y": [
          0.9738141788244248,
          0.9307590925991536,
          0.8630396783053875,
          0.7303118752539158,
          0.5669611027538777,
          0.45525246128439906,
          0.40673634767532346,
          0.39045654380321504,
          0.38585211426019667,
          0.38485354399681093,
          0.3842427127957344,
          0.3839792201220989,
          0.3837427434623241,
          0.3837126017808914,
          0.3836644905805588,
          0.38366992101073266,
          0.3836294486224651
         ],
         "yaxis": "y"
        },
        {
         "error_y": {
          "array": [
           0.10944428550566268,
           0.13719747017320555,
           0.15292371424552395,
           0.1585491327140545,
           0.09718319967305937,
           0.036023509029474945,
           0.012332155568173762,
           0.005418558269626206,
           0.004359248291420544,
           0.004425651159845059,
           0.004402366541399628,
           0.004351015242443566,
           0.004335207522969165,
           0.004370526051748684,
           0.004363906571936243,
           0.0043555734291074516,
           0.004361970211031358
          ],
          "color": "purple",
          "type": "data"
         },
         "legendgroup": "1000",
         "marker": {
          "line": {
           "color": "purple"
          }
         },
         "name": "1000",
         "showlegend": false,
         "type": "scatter",
         "x": [
          1,
          2,
          4,
          8,
          16,
          32,
          64,
          128,
          256,
          512,
          1024,
          2048,
          4096,
          8192,
          16384,
          32768,
          65536
         ],
         "xaxis": "x2",
         "y": [
          0.9435614208877087,
          0.8813463420569897,
          0.7570754622519016,
          0.5564792708754539,
          0.3026601156964898,
          0.13237089782953262,
          0.05737909391336143,
          0.034684257769957184,
          0.028087089290842415,
          0.025987454395741225,
          0.025040907487273216,
          0.02463825694285333,
          0.024414471335709096,
          0.024304916797205804,
          0.024270072927698495,
          0.02423679811321199,
          0.024229237014427783
         ],
         "yaxis": "y2"
        },
        {
         "error_y": {
          "array": [
           0.1354118425894826,
           0.1507251181509507,
           0.15656562710709204,
           0.14910853911307273,
           0.08337661700479561,
           0.028800598154713242,
           0.009180625710729135,
           0.005077764785523935,
           0.004389803791506197,
           0.004177645149143498,
           0.0040751281347417906,
           0.004036546764540171,
           0.004002938885146623,
           0.0039761259876795315,
           0.003975319203209064,
           0.003974193851952017,
           0.003979033114416511
          ],
          "color": "purple",
          "type": "data"
         },
         "legendgroup": "1000",
         "name": "1000",
         "showlegend": true,
         "type": "scatter",
         "x": [
          1,
          2,
          4,
          8,
          16,
          32,
          64,
          128,
          256,
          512,
          1024,
          2048,
          4096,
          8192,
          16384,
          32768,
          65536
         ],
         "xaxis": "x3",
         "y": [
          0.9282303500175476,
          0.8602784116864204,
          0.7252649460136891,
          0.513601299777627,
          0.2650798120945692,
          0.1055611733533442,
          0.04387128108367324,
          0.02706961117312312,
          0.022330704344436528,
          0.02067637511435896,
          0.019919805142097177,
          0.019613040843978524,
          0.01942511863168329,
          0.019348914441652595,
          0.01931436692737043,
          0.0192935772202909,
          0.019287127381190657
         ],
         "yaxis": "y3"
        },
        {
         "error_y": {
          "array": [
           0.110556031532792,
           0.13485858817352747,
           0.16540396760456838,
           0.15825401850942616,
           0.10911429273542306,
           0.051805083387553796,
           0.030562538307789117,
           0.025611939876612283,
           0.024563237180931924,
           0.02427615285770468,
           0.02403896980501599,
           0.024136680645213574,
           0.023970128545894184,
           0.024034504533171703,
           0.024009775936707008,
           0.023986452569277842,
           0.023992206378944128
          ],
          "color": "yellow",
          "type": "data"
         },
         "legendgroup": "2000",
         "marker": {
          "line": {
           "color": "yellow"
          }
         },
         "name": "2000",
         "showlegend": false,
         "type": "scatter",
         "x": [
          1,
          2,
          4,
          8,
          16,
          32,
          64,
          128,
          256,
          512,
          1024,
          2048,
          4096,
          8192,
          16384,
          32768,
          65536
         ],
         "xaxis": "x",
         "y": [
          0.9737986204624176,
          0.938161812633276,
          0.8514889740049839,
          0.7306394126713276,
          0.5760352350771427,
          0.4587788011133671,
          0.40711532297730446,
          0.39153294745087625,
          0.3876390355825424,
          0.3866084516942501,
          0.38615133181214334,
          0.38585248109698295,
          0.3856768459379673,
          0.38565679851174356,
          0.3856264986395836,
          0.3856205877363682,
          0.38561772295832636
         ],
         "yaxis": "y"
        },
        {
         "error_y": {
          "array": [
           0.09782451668098119,
           0.13110357751226465,
           0.15565378483645187,
           0.1503373988081529,
           0.09623360956447616,
           0.03562955544093841,
           0.012232792343814256,
           0.005649714957490508,
           0.004961818809232281,
           0.005017868755067118,
           0.004877853149801964,
           0.004893451724302194,
           0.004904700822869571,
           0.00490010644425595,
           0.004895195748101746,
           0.0048773219446697795,
           0.004878210147580033
          ],
          "color": "yellow",
          "type": "data"
         },
         "legendgroup": "2000",
         "marker": {
          "line": {
           "color": "yellow"
          }
         },
         "name": "2000",
         "showlegend": false,
         "type": "scatter",
         "x": [
          1,
          2,
          4,
          8,
          16,
          32,
          64,
          128,
          256,
          512,
          1024,
          2048,
          4096,
          8192,
          16384,
          32768,
          65536
         ],
         "xaxis": "x2",
         "y": [
          0.9488782620429993,
          0.8806102402806282,
          0.7512737159729004,
          0.5444905956685543,
          0.3040067552626133,
          0.1312199055887759,
          0.056652095252648,
          0.034530848076567054,
          0.029109843105077745,
          0.02737309030815959,
          0.026548561632633208,
          0.026187167877331375,
          0.02598305977322161,
          0.025926235754042865,
          0.025852355547249316,
          0.025829662907868624,
          0.02581325126811862
         ],
         "yaxis": "y2"
        },
        {
         "error_y": {
          "array": [
           0.12546294151542253,
           0.14572079481623804,
           0.15989480987348778,
           0.1442037674766859,
           0.0856244440359459,
           0.02775374644076067,
           0.008557433057148452,
           0.0048028297402692086,
           0.004087747067105577,
           0.0037228619717988225,
           0.0035877508055536223,
           0.003519631835762206,
           0.00349356795237635,
           0.0034730253838938033,
           0.0034654983943881814,
           0.003461274636401604,
           0.0034634142488723565
          ],
          "color": "yellow",
          "type": "data"
         },
         "legendgroup": "2000",
         "name": "2000",
         "showlegend": true,
         "type": "scatter",
         "x": [
          1,
          2,
          4,
          8,
          16,
          32,
          64,
          128,
          256,
          512,
          1024,
          2048,
          4096,
          8192,
          16384,
          32768,
          65536
         ],
         "xaxis": "x3",
         "y": [
          0.9348268082141876,
          0.8596436912715435,
          0.7195606020987034,
          0.5067310466468334,
          0.26562882056087256,
          0.1036713180243969,
          0.041209874602034686,
          0.024631895397789778,
          0.020131684930063783,
          0.01848401013854891,
          0.017721916324459016,
          0.017352705920115112,
          0.017181249944493174,
          0.017099380371160804,
          0.017061451386660337,
          0.01704309409391135,
          0.017032212520949542
         ],
         "yaxis": "y3"
        }
       ],
       "layout": {
        "annotations": [
         {
          "font": {
           "size": 16
          },
          "showarrow": false,
          "text": "Test MSE (minority)",
          "x": 0.14444444444444446,
          "xanchor": "center",
          "xref": "paper",
          "y": 1,
          "yanchor": "bottom",
          "yref": "paper"
         },
         {
          "font": {
           "size": 16
          },
          "showarrow": false,
          "text": "Test MSE (majority)",
          "x": 0.5,
          "xanchor": "center",
          "xref": "paper",
          "y": 1,
          "yanchor": "bottom",
          "yref": "paper"
         },
         {
          "font": {
           "size": 16
          },
          "showarrow": false,
          "text": "Train MSE (overall)",
          "x": 0.8555555555555556,
          "xanchor": "center",
          "xref": "paper",
          "y": 1,
          "yanchor": "bottom",
          "yref": "paper"
         }
        ],
        "template": {
         "data": {
          "bar": [
           {
            "error_x": {
             "color": "#2a3f5f"
            },
            "error_y": {
             "color": "#2a3f5f"
            },
            "marker": {
             "line": {
              "color": "#E5ECF6",
              "width": 0.5
             }
            },
            "type": "bar"
           }
          ],
          "barpolar": [
           {
            "marker": {
             "line": {
              "color": "#E5ECF6",
              "width": 0.5
             }
            },
            "type": "barpolar"
           }
          ],
          "carpet": [
           {
            "aaxis": {
             "endlinecolor": "#2a3f5f",
             "gridcolor": "white",
             "linecolor": "white",
             "minorgridcolor": "white",
             "startlinecolor": "#2a3f5f"
            },
            "baxis": {
             "endlinecolor": "#2a3f5f",
             "gridcolor": "white",
             "linecolor": "white",
             "minorgridcolor": "white",
             "startlinecolor": "#2a3f5f"
            },
            "type": "carpet"
           }
          ],
          "choropleth": [
           {
            "colorbar": {
             "outlinewidth": 0,
             "ticks": ""
            },
            "type": "choropleth"
           }
          ],
          "contour": [
           {
            "colorbar": {
             "outlinewidth": 0,
             "ticks": ""
            },
            "colorscale": [
             [
              0,
              "#0d0887"
             ],
             [
              0.1111111111111111,
              "#46039f"
             ],
             [
              0.2222222222222222,
              "#7201a8"
             ],
             [
              0.3333333333333333,
              "#9c179e"
             ],
             [
              0.4444444444444444,
              "#bd3786"
             ],
             [
              0.5555555555555556,
              "#d8576b"
             ],
             [
              0.6666666666666666,
              "#ed7953"
             ],
             [
              0.7777777777777778,
              "#fb9f3a"
             ],
             [
              0.8888888888888888,
              "#fdca26"
             ],
             [
              1,
              "#f0f921"
             ]
            ],
            "type": "contour"
           }
          ],
          "contourcarpet": [
           {
            "colorbar": {
             "outlinewidth": 0,
             "ticks": ""
            },
            "type": "contourcarpet"
           }
          ],
          "heatmap": [
           {
            "colorbar": {
             "outlinewidth": 0,
             "ticks": ""
            },
            "colorscale": [
             [
              0,
              "#0d0887"
             ],
             [
              0.1111111111111111,
              "#46039f"
             ],
             [
              0.2222222222222222,
              "#7201a8"
             ],
             [
              0.3333333333333333,
              "#9c179e"
             ],
             [
              0.4444444444444444,
              "#bd3786"
             ],
             [
              0.5555555555555556,
              "#d8576b"
             ],
             [
              0.6666666666666666,
              "#ed7953"
             ],
             [
              0.7777777777777778,
              "#fb9f3a"
             ],
             [
              0.8888888888888888,
              "#fdca26"
             ],
             [
              1,
              "#f0f921"
             ]
            ],
            "type": "heatmap"
           }
          ],
          "heatmapgl": [
           {
            "colorbar": {
             "outlinewidth": 0,
             "ticks": ""
            },
            "colorscale": [
             [
              0,
              "#0d0887"
             ],
             [
              0.1111111111111111,
              "#46039f"
             ],
             [
              0.2222222222222222,
              "#7201a8"
             ],
             [
              0.3333333333333333,
              "#9c179e"
             ],
             [
              0.4444444444444444,
              "#bd3786"
             ],
             [
              0.5555555555555556,
              "#d8576b"
             ],
             [
              0.6666666666666666,
              "#ed7953"
             ],
             [
              0.7777777777777778,
              "#fb9f3a"
             ],
             [
              0.8888888888888888,
              "#fdca26"
             ],
             [
              1,
              "#f0f921"
             ]
            ],
            "type": "heatmapgl"
           }
          ],
          "histogram": [
           {
            "marker": {
             "colorbar": {
              "outlinewidth": 0,
              "ticks": ""
             }
            },
            "type": "histogram"
           }
          ],
          "histogram2d": [
           {
            "colorbar": {
             "outlinewidth": 0,
             "ticks": ""
            },
            "colorscale": [
             [
              0,
              "#0d0887"
             ],
             [
              0.1111111111111111,
              "#46039f"
             ],
             [
              0.2222222222222222,
              "#7201a8"
             ],
             [
              0.3333333333333333,
              "#9c179e"
             ],
             [
              0.4444444444444444,
              "#bd3786"
             ],
             [
              0.5555555555555556,
              "#d8576b"
             ],
             [
              0.6666666666666666,
              "#ed7953"
             ],
             [
              0.7777777777777778,
              "#fb9f3a"
             ],
             [
              0.8888888888888888,
              "#fdca26"
             ],
             [
              1,
              "#f0f921"
             ]
            ],
            "type": "histogram2d"
           }
          ],
          "histogram2dcontour": [
           {
            "colorbar": {
             "outlinewidth": 0,
             "ticks": ""
            },
            "colorscale": [
             [
              0,
              "#0d0887"
             ],
             [
              0.1111111111111111,
              "#46039f"
             ],
             [
              0.2222222222222222,
              "#7201a8"
             ],
             [
              0.3333333333333333,
              "#9c179e"
             ],
             [
              0.4444444444444444,
              "#bd3786"
             ],
             [
              0.5555555555555556,
              "#d8576b"
             ],
             [
              0.6666666666666666,
              "#ed7953"
             ],
             [
              0.7777777777777778,
              "#fb9f3a"
             ],
             [
              0.8888888888888888,
              "#fdca26"
             ],
             [
              1,
              "#f0f921"
             ]
            ],
            "type": "histogram2dcontour"
           }
          ],
          "mesh3d": [
           {
            "colorbar": {
             "outlinewidth": 0,
             "ticks": ""
            },
            "type": "mesh3d"
           }
          ],
          "parcoords": [
           {
            "line": {
             "colorbar": {
              "outlinewidth": 0,
              "ticks": ""
             }
            },
            "type": "parcoords"
           }
          ],
          "pie": [
           {
            "automargin": true,
            "type": "pie"
           }
          ],
          "scatter": [
           {
            "marker": {
             "colorbar": {
              "outlinewidth": 0,
              "ticks": ""
             }
            },
            "type": "scatter"
           }
          ],
          "scatter3d": [
           {
            "line": {
             "colorbar": {
              "outlinewidth": 0,
              "ticks": ""
             }
            },
            "marker": {
             "colorbar": {
              "outlinewidth": 0,
              "ticks": ""
             }
            },
            "type": "scatter3d"
           }
          ],
          "scattercarpet": [
           {
            "marker": {
             "colorbar": {
              "outlinewidth": 0,
              "ticks": ""
             }
            },
            "type": "scattercarpet"
           }
          ],
          "scattergeo": [
           {
            "marker": {
             "colorbar": {
              "outlinewidth": 0,
              "ticks": ""
             }
            },
            "type": "scattergeo"
           }
          ],
          "scattergl": [
           {
            "marker": {
             "colorbar": {
              "outlinewidth": 0,
              "ticks": ""
             }
            },
            "type": "scattergl"
           }
          ],
          "scattermapbox": [
           {
            "marker": {
             "colorbar": {
              "outlinewidth": 0,
              "ticks": ""
             }
            },
            "type": "scattermapbox"
           }
          ],
          "scatterpolar": [
           {
            "marker": {
             "colorbar": {
              "outlinewidth": 0,
              "ticks": ""
             }
            },
            "type": "scatterpolar"
           }
          ],
          "scatterpolargl": [
           {
            "marker": {
             "colorbar": {
              "outlinewidth": 0,
              "ticks": ""
             }
            },
            "type": "scatterpolargl"
           }
          ],
          "scatterternary": [
           {
            "marker": {
             "colorbar": {
              "outlinewidth": 0,
              "ticks": ""
             }
            },
            "type": "scatterternary"
           }
          ],
          "surface": [
           {
            "colorbar": {
             "outlinewidth": 0,
             "ticks": ""
            },
            "colorscale": [
             [
              0,
              "#0d0887"
             ],
             [
              0.1111111111111111,
              "#46039f"
             ],
             [
              0.2222222222222222,
              "#7201a8"
             ],
             [
              0.3333333333333333,
              "#9c179e"
             ],
             [
              0.4444444444444444,
              "#bd3786"
             ],
             [
              0.5555555555555556,
              "#d8576b"
             ],
             [
              0.6666666666666666,
              "#ed7953"
             ],
             [
              0.7777777777777778,
              "#fb9f3a"
             ],
             [
              0.8888888888888888,
              "#fdca26"
             ],
             [
              1,
              "#f0f921"
             ]
            ],
            "type": "surface"
           }
          ],
          "table": [
           {
            "cells": {
             "fill": {
              "color": "#EBF0F8"
             },
             "line": {
              "color": "white"
             }
            },
            "header": {
             "fill": {
              "color": "#C8D4E3"
             },
             "line": {
              "color": "white"
             }
            },
            "type": "table"
           }
          ]
         },
         "layout": {
          "annotationdefaults": {
           "arrowcolor": "#2a3f5f",
           "arrowhead": 0,
           "arrowwidth": 1
          },
          "coloraxis": {
           "colorbar": {
            "outlinewidth": 0,
            "ticks": ""
           }
          },
          "colorscale": {
           "diverging": [
            [
             0,
             "#8e0152"
            ],
            [
             0.1,
             "#c51b7d"
            ],
            [
             0.2,
             "#de77ae"
            ],
            [
             0.3,
             "#f1b6da"
            ],
            [
             0.4,
             "#fde0ef"
            ],
            [
             0.5,
             "#f7f7f7"
            ],
            [
             0.6,
             "#e6f5d0"
            ],
            [
             0.7,
             "#b8e186"
            ],
            [
             0.8,
             "#7fbc41"
            ],
            [
             0.9,
             "#4d9221"
            ],
            [
             1,
             "#276419"
            ]
           ],
           "sequential": [
            [
             0,
             "#0d0887"
            ],
            [
             0.1111111111111111,
             "#46039f"
            ],
            [
             0.2222222222222222,
             "#7201a8"
            ],
            [
             0.3333333333333333,
             "#9c179e"
            ],
            [
             0.4444444444444444,
             "#bd3786"
            ],
            [
             0.5555555555555556,
             "#d8576b"
            ],
            [
             0.6666666666666666,
             "#ed7953"
            ],
            [
             0.7777777777777778,
             "#fb9f3a"
            ],
            [
             0.8888888888888888,
             "#fdca26"
            ],
            [
             1,
             "#f0f921"
            ]
           ],
           "sequentialminus": [
            [
             0,
             "#0d0887"
            ],
            [
             0.1111111111111111,
             "#46039f"
            ],
            [
             0.2222222222222222,
             "#7201a8"
            ],
            [
             0.3333333333333333,
             "#9c179e"
            ],
            [
             0.4444444444444444,
             "#bd3786"
            ],
            [
             0.5555555555555556,
             "#d8576b"
            ],
            [
             0.6666666666666666,
             "#ed7953"
            ],
            [
             0.7777777777777778,
             "#fb9f3a"
            ],
            [
             0.8888888888888888,
             "#fdca26"
            ],
            [
             1,
             "#f0f921"
            ]
           ]
          },
          "colorway": [
           "#636efa",
           "#EF553B",
           "#00cc96",
           "#ab63fa",
           "#FFA15A",
           "#19d3f3",
           "#FF6692",
           "#B6E880",
           "#FF97FF",
           "#FECB52"
          ],
          "font": {
           "color": "#2a3f5f"
          },
          "geo": {
           "bgcolor": "white",
           "lakecolor": "white",
           "landcolor": "#E5ECF6",
           "showlakes": true,
           "showland": true,
           "subunitcolor": "white"
          },
          "hoverlabel": {
           "align": "left"
          },
          "hovermode": "closest",
          "mapbox": {
           "style": "light"
          },
          "paper_bgcolor": "white",
          "plot_bgcolor": "#E5ECF6",
          "polar": {
           "angularaxis": {
            "gridcolor": "white",
            "linecolor": "white",
            "ticks": ""
           },
           "bgcolor": "#E5ECF6",
           "radialaxis": {
            "gridcolor": "white",
            "linecolor": "white",
            "ticks": ""
           }
          },
          "scene": {
           "xaxis": {
            "backgroundcolor": "#E5ECF6",
            "gridcolor": "white",
            "gridwidth": 2,
            "linecolor": "white",
            "showbackground": true,
            "ticks": "",
            "zerolinecolor": "white"
           },
           "yaxis": {
            "backgroundcolor": "#E5ECF6",
            "gridcolor": "white",
            "gridwidth": 2,
            "linecolor": "white",
            "showbackground": true,
            "ticks": "",
            "zerolinecolor": "white"
           },
           "zaxis": {
            "backgroundcolor": "#E5ECF6",
            "gridcolor": "white",
            "gridwidth": 2,
            "linecolor": "white",
            "showbackground": true,
            "ticks": "",
            "zerolinecolor": "white"
           }
          },
          "shapedefaults": {
           "line": {
            "color": "#2a3f5f"
           }
          },
          "ternary": {
           "aaxis": {
            "gridcolor": "white",
            "linecolor": "white",
            "ticks": ""
           },
           "baxis": {
            "gridcolor": "white",
            "linecolor": "white",
            "ticks": ""
           },
           "bgcolor": "#E5ECF6",
           "caxis": {
            "gridcolor": "white",
            "linecolor": "white",
            "ticks": ""
           }
          },
          "title": {
           "x": 0.05
          },
          "xaxis": {
           "automargin": true,
           "gridcolor": "white",
           "linecolor": "white",
           "ticks": "",
           "title": {
            "standoff": 15
           },
           "zerolinecolor": "white",
           "zerolinewidth": 2
          },
          "yaxis": {
           "automargin": true,
           "gridcolor": "white",
           "linecolor": "white",
           "ticks": "",
           "title": {
            "standoff": 15
           },
           "zerolinecolor": "white",
           "zerolinewidth": 2
          }
         }
        },
        "xaxis": {
         "anchor": "y",
         "domain": [
          0,
          0.2888888888888889
         ],
         "type": "log"
        },
        "xaxis2": {
         "anchor": "y2",
         "domain": [
          0.35555555555555557,
          0.6444444444444445
         ],
         "type": "log"
        },
        "xaxis3": {
         "anchor": "y3",
         "domain": [
          0.7111111111111111,
          1
         ],
         "type": "log"
        },
        "yaxis": {
         "anchor": "x",
         "domain": [
          0,
          1
         ]
        },
        "yaxis2": {
         "anchor": "x2",
         "domain": [
          0,
          1
         ]
        },
        "yaxis3": {
         "anchor": "x3",
         "domain": [
          0,
          1
         ]
        }
       }
      }
     },
     "metadata": {}
    }
   ],
   "source": [
    "epochs_list = np.unique(df['epochs'])\n",
    "color_list=['red', 'green', 'blue', 'black', 'purple', 'yellow']\n",
    "\n",
    "from plotly.subplots import make_subplots\n",
    "import plotly.graph_objects as go\n",
    "fig = make_subplots(rows = 1, cols=3, subplot_titles=['Test MSE (minority)', 'Test MSE (majority)', 'Train MSE (overall)'])\n",
    "for epochs, color in zip(epochs_list, color_list):\n",
    "    marker = dict(line = dict(color = color))\n",
    "    result1 = result.loc[result['epochs']==epochs]\n",
    "    nodes, mean, std, count = result1['nodes'], result1['minority-mse']['mean'], result1['minority-mse']['std'],\\\n",
    "     result1['minority-mse']['count']\n",
    "\n",
    "    fig.append_trace(go.Scatter(x = nodes, y = mean, marker = marker, error_y = {'type':'data', 'array': std, 'color': color}, name = str(epochs),\\\n",
    "         legendgroup = str(epochs), showlegend = False), row = 1, col = 1)\n",
    "\n",
    "    mean, std, count = result1['majority-mse']['mean'], result1['majority-mse']['std'], result1['majority-mse']['count']\n",
    "    fig.append_trace(go.Scatter(x = nodes, y = mean, marker = marker, error_y = {'type':'data', 'array': std, 'color': color}, name = str(epochs),\\\n",
    "        legendgroup = str(epochs), showlegend = False), row = 1, col = 2)\n",
    "\n",
    "    mean, std, count = result1['train-mse']['mean'], result1['train-mse']['std'], result1['train-mse']['count']\n",
    "    fig.append_trace(go.Scatter(x = nodes, y = mean, error_y = {'type':'data', 'array': std, 'color': color}, name = str(epochs),\\\n",
    "        legendgroup = str(epochs), showlegend = True), row = 1, col = 3)\n",
    "\n",
    "\n",
    "fig.update_xaxes(type = 'log')\n",
    "\n",
    "fig.show()"
   ]
  },
  {
   "cell_type": "code",
   "execution_count": null,
   "metadata": {},
   "outputs": [],
   "source": []
  }
 ]
}